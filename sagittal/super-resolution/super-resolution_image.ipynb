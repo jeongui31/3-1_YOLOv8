{
 "cells": [
  {
   "cell_type": "code",
   "execution_count": 3,
   "metadata": {},
   "outputs": [
    {
     "name": "stdout",
     "output_type": "stream",
     "text": [
      "Super Resolution 적용 완료!\n"
     ]
    }
   ],
   "source": [
    "import cv2\n",
    "import os\n",
    "\n",
    "# Super Resolution을 하기 위해 ESPCN 모델을 설정합니다.\n",
    "sr = cv2.dnn_superres.DnnSuperResImpl_create()\n",
    "sr.readModel('EDSR_x2.pb')\n",
    "sr.setModel(\"edsr\", 2)\n",
    "\n",
    "# 입력 폴더와 출력 폴더 경로 설정\n",
    "input_folder = '../base/images/train'\n",
    "output_folder = './images/train'\n",
    "\n",
    "# 출력 폴더가 존재하지 않으면 생성\n",
    "if not os.path.exists(output_folder):\n",
    "    os.makedirs(output_folder)\n",
    "\n",
    "# 입력 폴더의 모든 파일에 대해 Super Resolution 적용\n",
    "for filename in os.listdir(input_folder):\n",
    "    # 파일 확장자가 이미지인지 확인\n",
    "    if filename.endswith(('.jpg', '.jpeg', '.png', '.bmp', '.tiff')):\n",
    "        # 이미지 읽기\n",
    "        img_path = os.path.join(input_folder, filename)\n",
    "        img = cv2.imread(img_path)\n",
    "        \n",
    "        # Super Resolution 적용\n",
    "        result = sr.upsample(img)\n",
    "        \n",
    "        # 결과 이미지 저장\n",
    "        output_path = os.path.join(output_folder, filename)\n",
    "        cv2.imwrite(output_path, result)\n",
    "\n",
    "print(\"Super Resolution 적용 완료!\")\n"
   ]
  }
 ],
 "metadata": {
  "kernelspec": {
   "display_name": "yolo",
   "language": "python",
   "name": "python3"
  },
  "language_info": {
   "codemirror_mode": {
    "name": "ipython",
    "version": 3
   },
   "file_extension": ".py",
   "mimetype": "text/x-python",
   "name": "python",
   "nbconvert_exporter": "python",
   "pygments_lexer": "ipython3",
   "version": "3.10.14"
  }
 },
 "nbformat": 4,
 "nbformat_minor": 2
}
