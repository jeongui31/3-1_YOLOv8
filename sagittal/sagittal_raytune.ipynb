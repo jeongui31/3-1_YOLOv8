{
 "cells": [
  {
   "cell_type": "code",
   "execution_count": null,
   "metadata": {},
   "outputs": [],
   "source": [
    "from functools import partial\n",
    "import os\n",
    "import tempfile\n",
    "from pathlib import Path\n",
    "import torch\n",
    "import torch.nn as nn\n",
    "import torch.nn.functional as F\n",
    "import torch.optim as optim\n",
    "from torch.utils.data import random_split\n",
    "import torchvision\n",
    "import torchvision.transforms as transforms\n",
    "from ray import tune\n",
    "from ray import train\n",
    "from ray.train import Checkpoint, get_checkpoint\n",
    "from ray.tune.schedulers import ASHAScheduler\n",
    "import ray.cloudpickle as pickle\n",
    "from ultralytics import YOLO"
   ]
  },
  {
   "cell_type": "code",
   "execution_count": null,
   "metadata": {},
   "outputs": [],
   "source": [
    "#best_model = YOLO(\"best_model.pt\")\n",
    "\n",
    "#print(f\"The task type of the model is: {best_model.task}\")"
   ]
  },
  {
   "cell_type": "code",
   "execution_count": null,
   "metadata": {},
   "outputs": [],
   "source": [
    "TASK2METRIC = {\n",
    "    \"detect\": \"metrics/mAP50(B)\", #detect 지표를 mAP50-95에서 50으로 변경하기 위함\n",
    "    \"segment\": \"metrics/mAP50-95(M)\",\n",
    "    \"classify\": \"metrics/accuracy_top1\",\n",
    "    \"pose\": \"metrics/mAP50-95(P)\",\n",
    "    \"obb\": \"metrics/mAP50-95(B)\",\n",
    "}"
   ]
  },
  {
   "cell_type": "code",
   "execution_count": null,
   "metadata": {},
   "outputs": [],
   "source": [
    "experiment_name = 'tune'\n",
    "work_name = 'raytune' #이름수정주의\n",
    "train_dir = os.path.join('runs', experiment_name, f'{experiment_name}_{work_name}')\n",
    "\n",
    "if os.path.exists(train_dir):\n",
    "    shutil.rmtree(train_dir)\n",
    "\n",
    "# Load a YOLOv8n model\n",
    "best_model_tuning = YOLO(\"yolov8n.pt\")\n",
    "\n",
    "task = best_model_tuning.task\n",
    "metric = TASK2METRIC[task] \n",
    "\n",
    "result_grid = best_model_tuning.tune(\n",
    "    data=\"/home/under1/Detect/jeongui/sagittal/sagittal_t1wce_2_class.yaml\",\n",
    "    epochs=200,\n",
    "    use_ray=True,\n",
    "    name=os.path.join(experiment_name, f'{experiment_name}_{work_name}'),\n",
    "    gpu_per_trial=1  # 각 트라이얼에 1개의 GPU 할당\n",
    ")"
   ]
  },
  {
   "cell_type": "code",
   "execution_count": null,
   "metadata": {},
   "outputs": [],
   "source": [
    "for i, result in enumerate(result_grid):\n",
    "    print(f\"Trial #{i}: Configuration: {result.config}, Last Reported Metrics: {result.metrics}\")"
   ]
  },
  {
   "cell_type": "code",
   "execution_count": null,
   "metadata": {},
   "outputs": [],
   "source": [
    "# Extract the best trial configuration\n",
    "best_result = result_grid.get_best_result(metric=metric, mode=\"max\")\n",
    "best_config = best_result.config\n",
    "print(\"Best hyperparameters found were: \", best_config)"
   ]
  },
  {
   "cell_type": "code",
   "execution_count": null,
   "metadata": {},
   "outputs": [],
   "source": [
    "experiment_name = 'train'\n",
    "work_name = 'raytune' #이름수정주의\n",
    "train_dir = os.path.join('runs', experiment_name, f'{experiment_name}_{work_name}')\n",
    "\n",
    "if os.path.exists(train_dir):\n",
    "    shutil.rmtree(train_dir)\n",
    "\n",
    "# 'data' 항목 제거\n",
    "if 'data' in best_config:\n",
    "    del best_config['data']\n",
    "if 'name' in best_config:\n",
    "    del best_config['name']\n",
    "\n",
    "# 최고의 하이퍼파라미터로 모델 재훈련\n",
    "best_model = YOLO(\"yolov8n.pt\")  # 모델 재초기화\n",
    "best_results = best_model.train(data=\"sagittal_t1wce_2_class.yaml\",\n",
    "                                optimizer='SGD',\n",
    "                                augment=True,\n",
    "                                name=os.path.join(experiment_name, f'{experiment_name}_{work_name}'),\n",
    "                                **best_config)"
   ]
  },
  {
   "cell_type": "code",
   "execution_count": null,
   "metadata": {},
   "outputs": [],
   "source": [
    "best_results.results_dict"
   ]
  },
  {
   "cell_type": "code",
   "execution_count": null,
   "metadata": {},
   "outputs": [],
   "source": [
    "experiment_name = 'val'\n",
    "work_name = 'raytune' #이름수정주의\n",
    "train_dir = os.path.join('runs', experiment_name, f'{experiment_name}_{work_name}')\n",
    "\n",
    "if os.path.exists(train_dir):\n",
    "    shutil.rmtree(train_dir)\n",
    "\n",
    "best_model = YOLO(\"/home/under1/Detect/jeongui/sagittal/runs/detect/train/train_raytune/weights/best.pt\")\n",
    "best_model.val(name=os.path.join(experiment_name, f'{experiment_name}_{work_name}'))"
   ]
  },
  {
   "cell_type": "code",
   "execution_count": null,
   "metadata": {},
   "outputs": [],
   "source": [
    "# test\n",
    "\n",
    "experiment_name = 'test'\n",
    "work_name = 'raytune' #이름수정주의\n",
    "train_dir = os.path.join('runs', experiment_name, f'{experiment_name}_{work_name}')\n",
    "\n",
    "if os.path.exists(train_dir):\n",
    "    shutil.rmtree(train_dir)\n",
    "\n",
    "best_model.val(name=os.path.join(experiment_name, f'{experiment_name}_{work_name}'), split=\"test\")"
   ]
  },
  {
   "cell_type": "code",
   "execution_count": null,
   "metadata": {},
   "outputs": [],
   "source": []
  }
 ],
 "metadata": {
  "kernelspec": {
   "display_name": "detect",
   "language": "python",
   "name": "python3"
  },
  "language_info": {
   "codemirror_mode": {
    "name": "ipython",
    "version": 3
   },
   "file_extension": ".py",
   "mimetype": "text/x-python",
   "name": "python",
   "nbconvert_exporter": "python",
   "pygments_lexer": "ipython3",
   "version": "3.1.-1"
  }
 },
 "nbformat": 4,
 "nbformat_minor": 2
}
