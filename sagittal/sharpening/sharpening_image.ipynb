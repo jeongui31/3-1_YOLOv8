{
 "cells": [
  {
   "cell_type": "code",
   "execution_count": 27,
   "metadata": {},
   "outputs": [],
   "source": [
    "import os\n",
    "from PIL import Image, ImageFilter\n",
    "\n",
    "def sharpen_images(input_folder, output_folder):\n",
    "    # Ensure the output folder exists\n",
    "    os.makedirs(output_folder, exist_ok=True)\n",
    "    \n",
    "    # Loop through all files in the input folder\n",
    "    for filename in os.listdir(input_folder):\n",
    "        if filename.endswith(('.png', '.jpg', '.jpeg', '.bmp', '.gif')):  # Check if the file is an image\n",
    "            # Open an image file\n",
    "            with Image.open(os.path.join(input_folder, filename)) as img:\n",
    "                # Apply the sharpening filter\n",
    "                sharpened_img = img.filter(ImageFilter.SHARPEN)\n",
    "                \n",
    "                # Save the sharpened image to the output folder\n",
    "                sharpened_img.save(os.path.join(output_folder, filename))\n",
    "\n",
    "# Usage example\n",
    "input_folder = '../base/images/train'\n",
    "output_folder = './images/train_sharp'\n",
    "sharpen_images(input_folder, output_folder)\n"
   ]
  },
  {
   "cell_type": "code",
   "execution_count": 24,
   "metadata": {},
   "outputs": [],
   "source": [
    "import os\n",
    "import cv2\n",
    "import numpy as np\n",
    "\n",
    "def sharpen_images(input_folder, output_folder):\n",
    "    # Ensure the output folder exists\n",
    "    os.makedirs(output_folder, exist_ok=True)\n",
    "    \n",
    "    # Define the sharpening filter mask\n",
    "    mask = np.array([[-1, -1, -1],\n",
    "                     [-1,  11, -1],\n",
    "                     [-1, -1, -1]], dtype=np.float32)\n",
    "    \n",
    "    # Loop through all files in the input folder\n",
    "    for filename in os.listdir(input_folder):\n",
    "        if filename.endswith(('.png', '.jpg', '.jpeg', '.bmp', '.gif')):  # Check if the file is an image\n",
    "            # Read the image file\n",
    "            img_path = os.path.join(input_folder, filename)\n",
    "            img = cv2.imread(img_path)\n",
    "            \n",
    "            if img is not None:  # Ensure the image was read successfully\n",
    "                # Apply the sharpening filter\n",
    "                sharpened_img = cv2.filter2D(img, -1, mask)\n",
    "                \n",
    "                # Save the sharpened image to the output folder\n",
    "                output_path = os.path.join(output_folder, filename)\n",
    "                cv2.imwrite(output_path, sharpened_img)\n",
    "\n",
    "# Usage example\n",
    "input_folder = '../base/images/test'\n",
    "output_folder = './images/test_sharp'\n",
    "sharpen_images(input_folder, output_folder)\n"
   ]
  }
 ],
 "metadata": {
  "kernelspec": {
   "display_name": "yolo",
   "language": "python",
   "name": "python3"
  },
  "language_info": {
   "codemirror_mode": {
    "name": "ipython",
    "version": 3
   },
   "file_extension": ".py",
   "mimetype": "text/x-python",
   "name": "python",
   "nbconvert_exporter": "python",
   "pygments_lexer": "ipython3",
   "version": "3.10.14"
  }
 },
 "nbformat": 4,
 "nbformat_minor": 2
}
