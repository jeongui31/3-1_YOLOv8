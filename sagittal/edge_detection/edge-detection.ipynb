{
 "cells": [
  {
   "cell_type": "code",
   "execution_count": 9,
   "metadata": {},
   "outputs": [],
   "source": [
    "import os\n",
    "import cv2\n",
    "\n",
    "def apply_canny_and_save(input_folder, output_folder, threshold1=30, threshold2=60):\n",
    "    if not os.path.exists(output_folder):\n",
    "        os.makedirs(output_folder)\n",
    "\n",
    "    for filename in os.listdir(input_folder):\n",
    "        if filename.lower().endswith(('.png', '.jpg', '.jpeg')):\n",
    "            image_path = os.path.join(input_folder, filename)\n",
    "            image = cv2.imread(image_path, cv2.IMREAD_COLOR)\n",
    "            gray = cv2.cvtColor(image, cv2.COLOR_BGR2GRAY)\n",
    "            blurred = cv2.GaussianBlur(gray, (3, 3), 0)\n",
    "            edges = cv2.Canny(blurred, threshold1, threshold2)\n",
    "            save_path = os.path.join(output_folder, filename)\n",
    "            cv2.imwrite(save_path, edges)\n",
    "\n",
    "# 이미지 폴더 경로와 저장할 폴더 경로 설정\n",
    "input_folder = '../crop/images/train'\n",
    "output_folder = './images/train'\n",
    "\n",
    "apply_canny_and_save(input_folder, output_folder)\n"
   ]
  }
 ],
 "metadata": {
  "kernelspec": {
   "display_name": "yolo",
   "language": "python",
   "name": "python3"
  },
  "language_info": {
   "codemirror_mode": {
    "name": "ipython",
    "version": 3
   },
   "file_extension": ".py",
   "mimetype": "text/x-python",
   "name": "python",
   "nbconvert_exporter": "python",
   "pygments_lexer": "ipython3",
   "version": "3.10.14"
  }
 },
 "nbformat": 4,
 "nbformat_minor": 2
}
