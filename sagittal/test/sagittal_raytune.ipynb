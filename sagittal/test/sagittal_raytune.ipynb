{
 "cells": [
  {
   "cell_type": "code",
   "execution_count": 1,
   "metadata": {},
   "outputs": [],
   "source": [
    "from functools import partial\n",
    "import os\n",
    "import tempfile\n",
    "from pathlib import Path\n",
    "import torch\n",
    "import torch.nn as nn\n",
    "import torch.nn.functional as F\n",
    "import torch.optim as optim\n",
    "from torch.utils.data import random_split\n",
    "import torchvision\n",
    "import torchvision.transforms as transforms\n",
    "from ray import tune\n",
    "from ray import train\n",
    "from ray.train import Checkpoint, get_checkpoint\n",
    "from ray.tune.schedulers import ASHAScheduler\n",
    "import ray.cloudpickle as pickle\n",
    "from ultralytics import YOLO"
   ]
  },
  {
   "cell_type": "code",
   "execution_count": 2,
   "metadata": {},
   "outputs": [],
   "source": [
    "#best_model = YOLO(\"best_model.pt\")\n",
    "\n",
    "#print(f\"The task type of the model is: {best_model.task}\")"
   ]
  },
  {
   "cell_type": "code",
   "execution_count": 2,
   "metadata": {},
   "outputs": [],
   "source": [
    "TASK2METRIC = {\n",
    "    \"detect\": \"metrics/mAP50(B)\", #detect 지표를 mAP50-95에서 50으로 변경하기 위함\n",
    "    \"segment\": \"metrics/mAP50-95(M)\",\n",
    "    \"classify\": \"metrics/accuracy_top1\",\n",
    "    \"pose\": \"metrics/mAP50-95(P)\",\n",
    "    \"obb\": \"metrics/mAP50-95(B)\",\n",
    "}"
   ]
  },
  {
   "cell_type": "code",
   "execution_count": 3,
   "metadata": {},
   "outputs": [
    {
     "data": {
      "text/html": [
       "<div class=\"tuneStatus\">\n",
       "  <div style=\"display: flex;flex-direction: row\">\n",
       "    <div style=\"display: flex;flex-direction: column;\">\n",
       "      <h3>Tune Status</h3>\n",
       "      <table>\n",
       "<tbody>\n",
       "<tr><td>Current time:</td><td>2024-07-31 16:06:38</td></tr>\n",
       "<tr><td>Running for: </td><td>00:33:38.95        </td></tr>\n",
       "<tr><td>Memory:      </td><td>111.9/251.6 GiB    </td></tr>\n",
       "</tbody>\n",
       "</table>\n",
       "    </div>\n",
       "    <div class=\"vDivider\"></div>\n",
       "    <div class=\"systemInfo\">\n",
       "      <h3>System Info</h3>\n",
       "      Using AsyncHyperBand: num_stopped=6<br>Bracket: Iter 30.000: None | Iter 10.000: 0.2599<br>Logical resource usage: 8.0/48 CPUs, 1.0/4 GPUs (0.0/1.0 accelerator_type:G)\n",
       "    </div>\n",
       "    <div class=\"vDivider\"></div>\n",
       "<div class=\"messages\">\n",
       "  <h3>Messages</h3>\n",
       "  \n",
       "  \n",
       "  Number of errored trials: 1<br><table>\n",
       "<thead>\n",
       "<tr><th>Trial name       </th><th style=\"text-align: right;\">  # failures</th><th>error file                                                                                                                                                                                                                                                                                 </th></tr>\n",
       "</thead>\n",
       "<tbody>\n",
       "<tr><td>_tune_2a884_00000</td><td style=\"text-align: right;\">           1</td><td>/tmp/ray/session_2024-07-31_15-32-55_046549_44656/artifacts/2024-07-31_15-32-59/_tune_2024-07-31_15-32-59/driver_artifacts/_tune_2a884_00000_0_bgr=0.1268,box=0.1556,cls=1.2882,copy_paste=0.6268,degrees=20.0549,fliplr=0.3119,flipud=0.0380,hsv_h=0.0699,hs_2024-07-31_15-32-59/error.txt</td></tr>\n",
       "</tbody>\n",
       "</table>\n",
       "</div>\n",
       "<style>\n",
       ".messages {\n",
       "  color: var(--jp-ui-font-color1);\n",
       "  display: flex;\n",
       "  flex-direction: column;\n",
       "  padding-left: 1em;\n",
       "  overflow-y: auto;\n",
       "}\n",
       ".messages h3 {\n",
       "  font-weight: bold;\n",
       "}\n",
       ".vDivider {\n",
       "  border-left-width: var(--jp-border-width);\n",
       "  border-left-color: var(--jp-border-color0);\n",
       "  border-left-style: solid;\n",
       "  margin: 0.5em 1em 0.5em 1em;\n",
       "}\n",
       "</style>\n",
       "\n",
       "  </div>\n",
       "  <div class=\"hDivider\"></div>\n",
       "  <div class=\"trialStatus\">\n",
       "    <h3>Trial Status</h3>\n",
       "    <table>\n",
       "<thead>\n",
       "<tr><th>Trial name       </th><th>status    </th><th>loc             </th><th style=\"text-align: right;\">     bgr</th><th style=\"text-align: right;\">      box</th><th style=\"text-align: right;\">     cls</th><th style=\"text-align: right;\">  copy_paste</th><th style=\"text-align: right;\">  degrees</th><th style=\"text-align: right;\">   fliplr</th><th style=\"text-align: right;\">   flipud</th><th style=\"text-align: right;\">    hsv_h</th><th style=\"text-align: right;\">    hsv_s</th><th style=\"text-align: right;\">    hsv_v</th><th style=\"text-align: right;\">      lr0</th><th style=\"text-align: right;\">     lrf</th><th style=\"text-align: right;\">   mixup</th><th style=\"text-align: right;\">  momentum</th><th style=\"text-align: right;\">   mosaic</th><th style=\"text-align: right;\">  perspective</th><th style=\"text-align: right;\">   scale</th><th style=\"text-align: right;\">  shear</th><th style=\"text-align: right;\">  translate</th><th style=\"text-align: right;\">  warmup_epochs</th><th style=\"text-align: right;\">  warmup_momentum</th><th style=\"text-align: right;\">  weight_decay</th><th style=\"text-align: right;\">  iter</th><th style=\"text-align: right;\">  total time (s)</th><th style=\"text-align: right;\">  metrics/precision(B)</th><th style=\"text-align: right;\">  metrics/recall(B)</th><th style=\"text-align: right;\">  metrics/mAP50(B)</th></tr>\n",
       "</thead>\n",
       "<tbody>\n",
       "<tr><td>_tune_2a884_00001</td><td>TERMINATED</td><td>172.17.0.3:48447</td><td style=\"text-align: right;\">0.215423</td><td style=\"text-align: right;\">0.139662 </td><td style=\"text-align: right;\">3.93433 </td><td style=\"text-align: right;\">    0.915129</td><td style=\"text-align: right;\">  4.28049</td><td style=\"text-align: right;\">0.22823  </td><td style=\"text-align: right;\">0.406716 </td><td style=\"text-align: right;\">0.0981387</td><td style=\"text-align: right;\">0.474116 </td><td style=\"text-align: right;\">0.532062 </td><td style=\"text-align: right;\">0.0785134</td><td style=\"text-align: right;\">0.777396</td><td style=\"text-align: right;\">0.187483</td><td style=\"text-align: right;\">  0.953781</td><td style=\"text-align: right;\">0.803966 </td><td style=\"text-align: right;\">  0.000220197</td><td style=\"text-align: right;\">0.205742</td><td style=\"text-align: right;\">7.3604 </td><td style=\"text-align: right;\">  0.190723 </td><td style=\"text-align: right;\">       2.63558 </td><td style=\"text-align: right;\">        0.323331 </td><td style=\"text-align: right;\">   0.000621657</td><td style=\"text-align: right;\">    32</td><td style=\"text-align: right;\">         184.708</td><td style=\"text-align: right;\">              0.446252</td><td style=\"text-align: right;\">           0.9016  </td><td style=\"text-align: right;\">          0.574157</td></tr>\n",
       "<tr><td>_tune_2a884_00002</td><td>TERMINATED</td><td>172.17.0.3:48448</td><td style=\"text-align: right;\">0.576348</td><td style=\"text-align: right;\">0.0607927</td><td style=\"text-align: right;\">1.6071  </td><td style=\"text-align: right;\">    0.412877</td><td style=\"text-align: right;\"> 21.7619 </td><td style=\"text-align: right;\">0.298292 </td><td style=\"text-align: right;\">0.721745 </td><td style=\"text-align: right;\">0.0167815</td><td style=\"text-align: right;\">0.879728 </td><td style=\"text-align: right;\">0.679568 </td><td style=\"text-align: right;\">0.0569129</td><td style=\"text-align: right;\">0.734397</td><td style=\"text-align: right;\">0.29465 </td><td style=\"text-align: right;\">  0.762899</td><td style=\"text-align: right;\">0.464826 </td><td style=\"text-align: right;\">  0.000816905</td><td style=\"text-align: right;\">0.690584</td><td style=\"text-align: right;\">5.21572</td><td style=\"text-align: right;\">  0.767248 </td><td style=\"text-align: right;\">       0.772475</td><td style=\"text-align: right;\">        0.145343 </td><td style=\"text-align: right;\">   0.000583902</td><td style=\"text-align: right;\">    11</td><td style=\"text-align: right;\">         505.257</td><td style=\"text-align: right;\">              0.46965 </td><td style=\"text-align: right;\">           0.625   </td><td style=\"text-align: right;\">          0.47845 </td></tr>\n",
       "<tr><td>_tune_2a884_00003</td><td>TERMINATED</td><td>172.17.0.3:48449</td><td style=\"text-align: right;\">0.62232 </td><td style=\"text-align: right;\">0.0522642</td><td style=\"text-align: right;\">2.05649 </td><td style=\"text-align: right;\">    0.693596</td><td style=\"text-align: right;\"> 34.6151 </td><td style=\"text-align: right;\">0.659222 </td><td style=\"text-align: right;\">0.620082 </td><td style=\"text-align: right;\">0.0359603</td><td style=\"text-align: right;\">0.0054777</td><td style=\"text-align: right;\">0.289087 </td><td style=\"text-align: right;\">0.080539 </td><td style=\"text-align: right;\">0.316743</td><td style=\"text-align: right;\">0.349231</td><td style=\"text-align: right;\">  0.963199</td><td style=\"text-align: right;\">0.561757 </td><td style=\"text-align: right;\">  0.000455684</td><td style=\"text-align: right;\">0.769051</td><td style=\"text-align: right;\">8.26336</td><td style=\"text-align: right;\">  0.0691114</td><td style=\"text-align: right;\">       1.15057 </td><td style=\"text-align: right;\">        0.935145 </td><td style=\"text-align: right;\">   0.000555592</td><td style=\"text-align: right;\">    11</td><td style=\"text-align: right;\">         513.821</td><td style=\"text-align: right;\">              0.38089 </td><td style=\"text-align: right;\">           0.70622 </td><td style=\"text-align: right;\">          0.47149 </td></tr>\n",
       "<tr><td>_tune_2a884_00004</td><td>TERMINATED</td><td>172.17.0.3:5862 </td><td style=\"text-align: right;\">0.928477</td><td style=\"text-align: right;\">0.198488 </td><td style=\"text-align: right;\">3.95631 </td><td style=\"text-align: right;\">    0.801828</td><td style=\"text-align: right;\">  2.59745</td><td style=\"text-align: right;\">0.110346 </td><td style=\"text-align: right;\">0.352696 </td><td style=\"text-align: right;\">0.0316964</td><td style=\"text-align: right;\">0.181839 </td><td style=\"text-align: right;\">0.305997 </td><td style=\"text-align: right;\">0.0643084</td><td style=\"text-align: right;\">0.687206</td><td style=\"text-align: right;\">0.729367</td><td style=\"text-align: right;\">  0.640948</td><td style=\"text-align: right;\">0.536718 </td><td style=\"text-align: right;\">  9.21053e-05</td><td style=\"text-align: right;\">0.356317</td><td style=\"text-align: right;\">7.167  </td><td style=\"text-align: right;\">  0.348079 </td><td style=\"text-align: right;\">       4.78167 </td><td style=\"text-align: right;\">        0.722179 </td><td style=\"text-align: right;\">   0.000460278</td><td style=\"text-align: right;\">    32</td><td style=\"text-align: right;\">         324.066</td><td style=\"text-align: right;\">              0.532603</td><td style=\"text-align: right;\">           0.795833</td><td style=\"text-align: right;\">          0.691091</td></tr>\n",
       "<tr><td>_tune_2a884_00005</td><td>TERMINATED</td><td>172.17.0.3:12418</td><td style=\"text-align: right;\">0.402078</td><td style=\"text-align: right;\">0.116497 </td><td style=\"text-align: right;\">3.37828 </td><td style=\"text-align: right;\">    0.225559</td><td style=\"text-align: right;\"> 16.4304 </td><td style=\"text-align: right;\">0.139834 </td><td style=\"text-align: right;\">0.0801876</td><td style=\"text-align: right;\">0.0523927</td><td style=\"text-align: right;\">0.44206  </td><td style=\"text-align: right;\">0.470064 </td><td style=\"text-align: right;\">0.0530418</td><td style=\"text-align: right;\">0.183393</td><td style=\"text-align: right;\">0.108134</td><td style=\"text-align: right;\">  0.710906</td><td style=\"text-align: right;\">0.436513 </td><td style=\"text-align: right;\">  0.000544254</td><td style=\"text-align: right;\">0.353283</td><td style=\"text-align: right;\">6.48624</td><td style=\"text-align: right;\">  0.79292  </td><td style=\"text-align: right;\">       0.774873</td><td style=\"text-align: right;\">        0.699553 </td><td style=\"text-align: right;\">   0.000113586</td><td style=\"text-align: right;\">    11</td><td style=\"text-align: right;\">        1380.83 </td><td style=\"text-align: right;\">              0.43312 </td><td style=\"text-align: right;\">           0.73333 </td><td style=\"text-align: right;\">          0.50545 </td></tr>\n",
       "<tr><td>_tune_2a884_00006</td><td>TERMINATED</td><td>172.17.0.3:13094</td><td style=\"text-align: right;\">0.692114</td><td style=\"text-align: right;\">0.0383015</td><td style=\"text-align: right;\">0.581116</td><td style=\"text-align: right;\">    0.753198</td><td style=\"text-align: right;\"> 44.6405 </td><td style=\"text-align: right;\">0.0610046</td><td style=\"text-align: right;\">0.811119 </td><td style=\"text-align: right;\">0.058583 </td><td style=\"text-align: right;\">0.160174 </td><td style=\"text-align: right;\">0.776093 </td><td style=\"text-align: right;\">0.0135459</td><td style=\"text-align: right;\">0.81994 </td><td style=\"text-align: right;\">0.308745</td><td style=\"text-align: right;\">  0.917111</td><td style=\"text-align: right;\">0.145982 </td><td style=\"text-align: right;\">  0.000207359</td><td style=\"text-align: right;\">0.194632</td><td style=\"text-align: right;\">8.79752</td><td style=\"text-align: right;\">  0.746883 </td><td style=\"text-align: right;\">       2.58419 </td><td style=\"text-align: right;\">        0.476168 </td><td style=\"text-align: right;\">   8.88352e-05</td><td style=\"text-align: right;\">    11</td><td style=\"text-align: right;\">        1386.46 </td><td style=\"text-align: right;\">              0.44143 </td><td style=\"text-align: right;\">           0.52119 </td><td style=\"text-align: right;\">          0.42019 </td></tr>\n",
       "<tr><td>_tune_2a884_00007</td><td>TERMINATED</td><td>172.17.0.3:13096</td><td style=\"text-align: right;\">0.355178</td><td style=\"text-align: right;\">0.0260163</td><td style=\"text-align: right;\">3.59738 </td><td style=\"text-align: right;\">    0.714598</td><td style=\"text-align: right;\"> 16.573  </td><td style=\"text-align: right;\">0.735182 </td><td style=\"text-align: right;\">0.466139 </td><td style=\"text-align: right;\">0.0395971</td><td style=\"text-align: right;\">0.478956 </td><td style=\"text-align: right;\">0.719826 </td><td style=\"text-align: right;\">0.0899537</td><td style=\"text-align: right;\">0.173574</td><td style=\"text-align: right;\">0.821478</td><td style=\"text-align: right;\">  0.759864</td><td style=\"text-align: right;\">0.0673114</td><td style=\"text-align: right;\">  0.000269825</td><td style=\"text-align: right;\">0.367647</td><td style=\"text-align: right;\">8.26785</td><td style=\"text-align: right;\">  0.518365 </td><td style=\"text-align: right;\">       1.56124 </td><td style=\"text-align: right;\">        0.0141747</td><td style=\"text-align: right;\">   0.000887751</td><td style=\"text-align: right;\">    11</td><td style=\"text-align: right;\">        1394.42 </td><td style=\"text-align: right;\">              0.48453 </td><td style=\"text-align: right;\">           0.72917 </td><td style=\"text-align: right;\">          0.51896 </td></tr>\n",
       "<tr><td>_tune_2a884_00008</td><td>TERMINATED</td><td>172.17.0.3:21515</td><td style=\"text-align: right;\">0.018562</td><td style=\"text-align: right;\">0.0736357</td><td style=\"text-align: right;\">2.64084 </td><td style=\"text-align: right;\">    0.237486</td><td style=\"text-align: right;\"> 13.3329 </td><td style=\"text-align: right;\">0.373468 </td><td style=\"text-align: right;\">0.607545 </td><td style=\"text-align: right;\">0.0467896</td><td style=\"text-align: right;\">0.645887 </td><td style=\"text-align: right;\">0.0753223</td><td style=\"text-align: right;\">0.0593259</td><td style=\"text-align: right;\">0.45341 </td><td style=\"text-align: right;\">0.110489</td><td style=\"text-align: right;\">  0.600027</td><td style=\"text-align: right;\">0.821965 </td><td style=\"text-align: right;\">  0.000332968</td><td style=\"text-align: right;\">0.273868</td><td style=\"text-align: right;\">7.58549</td><td style=\"text-align: right;\">  0.0174072</td><td style=\"text-align: right;\">       0.926123</td><td style=\"text-align: right;\">        0.379138 </td><td style=\"text-align: right;\">   0.000629593</td><td style=\"text-align: right;\">    32</td><td style=\"text-align: right;\">         842.318</td><td style=\"text-align: right;\">              0.470576</td><td style=\"text-align: right;\">           0.883333</td><td style=\"text-align: right;\">          0.640593</td></tr>\n",
       "<tr><td>_tune_2a884_00009</td><td>TERMINATED</td><td>172.17.0.3:32337</td><td style=\"text-align: right;\">0.51515 </td><td style=\"text-align: right;\">0.0869043</td><td style=\"text-align: right;\">2.72319 </td><td style=\"text-align: right;\">    0.565784</td><td style=\"text-align: right;\"> 37.1603 </td><td style=\"text-align: right;\">0.100461 </td><td style=\"text-align: right;\">0.388736 </td><td style=\"text-align: right;\">0.0573868</td><td style=\"text-align: right;\">0.802911 </td><td style=\"text-align: right;\">0.149969 </td><td style=\"text-align: right;\">0.0872307</td><td style=\"text-align: right;\">0.769846</td><td style=\"text-align: right;\">0.861056</td><td style=\"text-align: right;\">  0.801821</td><td style=\"text-align: right;\">0.616941 </td><td style=\"text-align: right;\">  0.000112671</td><td style=\"text-align: right;\">0.780013</td><td style=\"text-align: right;\">5.83434</td><td style=\"text-align: right;\">  0.526059 </td><td style=\"text-align: right;\">       1.29362 </td><td style=\"text-align: right;\">        0.775432 </td><td style=\"text-align: right;\">   0.00029632 </td><td style=\"text-align: right;\">    11</td><td style=\"text-align: right;\">         105.196</td><td style=\"text-align: right;\">              0.28875 </td><td style=\"text-align: right;\">           0.53333 </td><td style=\"text-align: right;\">          0.28453 </td></tr>\n",
       "<tr><td>_tune_2a884_00000</td><td>ERROR     </td><td>172.17.0.3:48446</td><td style=\"text-align: right;\">0.126846</td><td style=\"text-align: right;\">0.155558 </td><td style=\"text-align: right;\">1.2882  </td><td style=\"text-align: right;\">    0.626848</td><td style=\"text-align: right;\"> 20.0549 </td><td style=\"text-align: right;\">0.311949 </td><td style=\"text-align: right;\">0.0379998</td><td style=\"text-align: right;\">0.0699251</td><td style=\"text-align: right;\">0.543221 </td><td style=\"text-align: right;\">0.0568421</td><td style=\"text-align: right;\">0.0354593</td><td style=\"text-align: right;\">0.126982</td><td style=\"text-align: right;\">0.975192</td><td style=\"text-align: right;\">  0.64005 </td><td style=\"text-align: right;\">0.0463765</td><td style=\"text-align: right;\">  0.000687565</td><td style=\"text-align: right;\">0.382688</td><td style=\"text-align: right;\">1.79927</td><td style=\"text-align: right;\">  0.227254 </td><td style=\"text-align: right;\">       2.77042 </td><td style=\"text-align: right;\">        0.122118 </td><td style=\"text-align: right;\">   0.000490157</td><td style=\"text-align: right;\">    30</td><td style=\"text-align: right;\">         749.005</td><td style=\"text-align: right;\">              0.55268 </td><td style=\"text-align: right;\">           0.89783 </td><td style=\"text-align: right;\">          0.72175 </td></tr>\n",
       "</tbody>\n",
       "</table>\n",
       "  </div>\n",
       "</div>\n",
       "<style>\n",
       ".tuneStatus {\n",
       "  color: var(--jp-ui-font-color1);\n",
       "}\n",
       ".tuneStatus .systemInfo {\n",
       "  display: flex;\n",
       "  flex-direction: column;\n",
       "}\n",
       ".tuneStatus td {\n",
       "  white-space: nowrap;\n",
       "}\n",
       ".tuneStatus .trialStatus {\n",
       "  display: flex;\n",
       "  flex-direction: column;\n",
       "}\n",
       ".tuneStatus h3 {\n",
       "  font-weight: bold;\n",
       "}\n",
       ".tuneStatus .hDivider {\n",
       "  border-bottom-width: var(--jp-border-width);\n",
       "  border-bottom-color: var(--jp-border-color0);\n",
       "  border-bottom-style: solid;\n",
       "}\n",
       ".tuneStatus .vDivider {\n",
       "  border-left-width: var(--jp-border-width);\n",
       "  border-left-color: var(--jp-border-color0);\n",
       "  border-left-style: solid;\n",
       "  margin: 0.5em 1em 0.5em 1em;\n",
       "}\n",
       "</style>\n"
      ],
      "text/plain": [
       "<IPython.core.display.HTML object>"
      ]
     },
     "metadata": {},
     "output_type": "display_data"
    },
    {
     "name": "stdout",
     "output_type": "stream",
     "text": [
      "\u001b[36m(_tune pid=48447)\u001b[0m Ultralytics YOLOv8.2.70 🚀 Python-3.10.14 torch-2.1.0 CUDA:0 (NVIDIA GeForce RTX 3090, 24260MiB)\n",
      "\u001b[36m(_tune pid=48447)\u001b[0m \u001b[34m\u001b[1mengine/trainer: \u001b[0mtask=detect, mode=train, model=/home/under1/Detect/jeongui/sagittal/test/runs/detect/train/train_base/weights/best.pt, data=/home/under1/Detect/jeongui/sagittal/test/test.yaml, epochs=30, time=None, patience=100, batch=16, imgsz=640, save=True, save_period=-1, cache=False, device=None, workers=8, project=None, name=tune_raytune, exist_ok=False, pretrained=True, optimizer=auto, verbose=True, seed=0, deterministic=True, single_cls=False, rect=False, cos_lr=False, close_mosaic=10, resume=False, amp=True, fraction=1.0, profile=False, freeze=None, multi_scale=False, overlap_mask=True, mask_ratio=4, dropout=0.0, val=True, split=val, save_json=False, save_hybrid=False, conf=None, iou=0.7, max_det=300, half=False, dnn=False, plots=True, source=None, vid_stride=1, stream_buffer=False, visualize=False, augment=False, agnostic_nms=False, classes=None, retina_masks=False, embed=None, show=False, save_frames=False, save_txt=False, save_conf=False, save_crop=False, show_labels=True, show_conf=True, show_boxes=True, line_width=None, format=torchscript, keras=False, optimize=False, int8=False, dynamic=False, simplify=False, opset=None, workspace=4, nms=False, lr0=0.07851340658107606, lrf=0.7773964148682715, momentum=0.95378119686571, weight_decay=0.0006216566929996135, warmup_epochs=2.6355818199690964, warmup_momentum=0.32333148555960683, warmup_bias_lr=0.1, box=0.13966237306364285, cls=3.9343296341339205, dfl=1.5, pose=12.0, kobj=1.0, label_smoothing=0.0, nbs=64, hsv_h=0.09813870982810974, hsv_s=0.4741160656359691, hsv_v=0.5320616289973541, degrees=4.280485035961691, translate=0.19072318498066507, scale=0.20574225202641058, shear=7.360401174665934, perspective=0.00022019703639034218, flipud=0.4067155577375934, fliplr=0.2282301523519069, bgr=0.21542260789019718, mosaic=0.8039661927566834, mixup=0.18748342648424787, copy_paste=0.9151292866748526, auto_augment=randaugment, erasing=0.4, crop_fraction=1.0, cfg=None, tracker=botsort.yaml, save_dir=runs/detect/tune/tune_raytune\n",
      "\u001b[36m(_tune pid=48447)\u001b[0m \n",
      "\u001b[36m(_tune pid=48447)\u001b[0m                    from  n    params  module                                       arguments                     \n",
      "\u001b[36m(_tune pid=48447)\u001b[0m   0                  -1  1       464  ultralytics.nn.modules.conv.Conv             [3, 16, 3, 2]                 \n",
      "\u001b[36m(_tune pid=48447)\u001b[0m   1                  -1  1      4672  ultralytics.nn.modules.conv.Conv             [16, 32, 3, 2]                \n",
      "\u001b[36m(_tune pid=48447)\u001b[0m   2                  -1  1      7360  ultralytics.nn.modules.block.C2f             [32, 32, 1, True]             \n",
      "\u001b[36m(_tune pid=48447)\u001b[0m   3                  -1  1     18560  ultralytics.nn.modules.conv.Conv             [32, 64, 3, 2]                \n",
      "\u001b[36m(_tune pid=48447)\u001b[0m   4                  -1  2     49664  ultralytics.nn.modules.block.C2f             [64, 64, 2, True]             \n",
      "\u001b[36m(_tune pid=48447)\u001b[0m   5                  -1  1     73984  ultralytics.nn.modules.conv.Conv             [64, 128, 3, 2]               \n",
      "\u001b[36m(_tune pid=48447)\u001b[0m   6                  -1  2    197632  ultralytics.nn.modules.block.C2f             [128, 128, 2, True]           \n",
      "\u001b[36m(_tune pid=48447)\u001b[0m   7                  -1  1    295424  ultralytics.nn.modules.conv.Conv             [128, 256, 3, 2]              \n",
      "\u001b[36m(_tune pid=48447)\u001b[0m   8                  -1  1    460288  ultralytics.nn.modules.block.C2f             [256, 256, 1, True]           \n",
      "\u001b[36m(_tune pid=48447)\u001b[0m   9                  -1  1    164608  ultralytics.nn.modules.block.SPPF            [256, 256, 5]                 \n",
      "\u001b[36m(_tune pid=48447)\u001b[0m  10                  -1  1         0  torch.nn.modules.upsampling.Upsample         [None, 2, 'nearest']          \n",
      "\u001b[36m(_tune pid=48447)\u001b[0m  11             [-1, 6]  1         0  ultralytics.nn.modules.conv.Concat           [1]                           \n",
      "\u001b[36m(_tune pid=48447)\u001b[0m  12                  -1  1    148224  ultralytics.nn.modules.block.C2f             [384, 128, 1]                 \n",
      "\u001b[36m(_tune pid=48447)\u001b[0m  13                  -1  1         0  torch.nn.modules.upsampling.Upsample         [None, 2, 'nearest']          \n",
      "\u001b[36m(_tune pid=48447)\u001b[0m  14             [-1, 4]  1         0  ultralytics.nn.modules.conv.Concat           [1]                           \n",
      "\u001b[36m(_tune pid=48447)\u001b[0m  15                  -1  1     37248  ultralytics.nn.modules.block.C2f             [192, 64, 1]                  \n",
      "\u001b[36m(_tune pid=48447)\u001b[0m  16                  -1  1     36992  ultralytics.nn.modules.conv.Conv             [64, 64, 3, 2]                \n",
      "\u001b[36m(_tune pid=48447)\u001b[0m  17            [-1, 12]  1         0  ultralytics.nn.modules.conv.Concat           [1]                           \n",
      "\u001b[36m(_tune pid=48447)\u001b[0m  18                  -1  1    123648  ultralytics.nn.modules.block.C2f             [192, 128, 1]                 \n",
      "\u001b[36m(_tune pid=48447)\u001b[0m  19                  -1  1    147712  ultralytics.nn.modules.conv.Conv             [128, 128, 3, 2]              \n",
      "\u001b[36m(_tune pid=48447)\u001b[0m  20             [-1, 9]  1         0  ultralytics.nn.modules.conv.Concat           [1]                           \n",
      "\u001b[36m(_tune pid=48447)\u001b[0m  21                  -1  1    493056  ultralytics.nn.modules.block.C2f             [384, 256, 1]                 \n",
      "\u001b[36m(_tune pid=48447)\u001b[0m  22        [15, 18, 21]  1    751702  ultralytics.nn.modules.head.Detect           [2, [64, 128, 256]]           \n",
      "\u001b[36m(_tune pid=48448)\u001b[0m \n",
      "\u001b[36m(_tune pid=48448)\u001b[0m  12                  -1  1    148224  ultralytics.nn.modules.block.C2f             [384, 128, 1]                 \n",
      "\u001b[36m(_tune pid=48448)\u001b[0m  15                  -1  1     37248  ultralytics.nn.modules.block.C2f             [192, 64, 1]                  \n",
      "\u001b[36m(_tune pid=48448)\u001b[0m  18                  -1  1    123648  ultralytics.nn.modules.block.C2f             [192, 128, 1]                 \n",
      "\u001b[36m(_tune pid=48448)\u001b[0m  21                  -1  1    493056  ultralytics.nn.modules.block.C2f             [384, 256, 1]                 \n",
      "\u001b[36m(_tune pid=48447)\u001b[0m Model summary: 225 layers, 3,011,238 parameters, 3,011,222 gradients, 8.2 GFLOPs\n",
      "\u001b[36m(_tune pid=48447)\u001b[0m \n",
      "\u001b[36m(_tune pid=48447)\u001b[0m Transferred 355/355 items from pretrained weights\n",
      "\u001b[36m(_tune pid=48447)\u001b[0m \u001b[34m\u001b[1mTensorBoard: \u001b[0mStart with 'tensorboard --logdir runs/detect/tune/tune_raytune', view at http://localhost:6006/\n",
      "\u001b[36m(_tune pid=48449)\u001b[0m \n",
      "\u001b[36m(_tune pid=48448)\u001b[0m \n",
      "\u001b[36m(_tune pid=48446)\u001b[0m \n",
      "\u001b[36m(_tune pid=48446)\u001b[0m  12                  -1  1    148224  ultralytics.nn.modules.block.C2f             [384, 128, 1]                 \n",
      "\u001b[36m(_tune pid=48446)\u001b[0m  15                  -1  1     37248  ultralytics.nn.modules.block.C2f             [192, 64, 1]                  \n",
      "\u001b[36m(_tune pid=48446)\u001b[0m  18                  -1  1    123648  ultralytics.nn.modules.block.C2f             [192, 128, 1]                 \n",
      "\u001b[36m(_tune pid=48446)\u001b[0m  21                  -1  1    493056  ultralytics.nn.modules.block.C2f             [384, 256, 1]                 \n",
      "\u001b[36m(_tune pid=48449)\u001b[0m  12                  -1  1    148224  ultralytics.nn.modules.block.C2f             [384, 128, 1]                 \n",
      "\u001b[36m(_tune pid=48449)\u001b[0m  15                  -1  1     37248  ultralytics.nn.modules.block.C2f             [192, 64, 1]                  \n",
      "\u001b[36m(_tune pid=48449)\u001b[0m  18                  -1  1    123648  ultralytics.nn.modules.block.C2f             [192, 128, 1]                 \n",
      "\u001b[36m(_tune pid=48449)\u001b[0m  21                  -1  1    493056  ultralytics.nn.modules.block.C2f             [384, 256, 1]                 \n",
      "\u001b[36m(_tune pid=48449)\u001b[0m \n",
      "\u001b[36m(_tune pid=48446)\u001b[0m \n",
      "\u001b[36m(_tune pid=48447)\u001b[0m Freezing layer 'model.22.dfl.conv.weight'\n",
      "\u001b[36m(_tune pid=48447)\u001b[0m \u001b[34m\u001b[1mAMP: \u001b[0mrunning Automatic Mixed Precision (AMP) checks with YOLOv8n...\n",
      "\u001b[36m(_tune pid=48447)\u001b[0m Downloading https://github.com/ultralytics/assets/releases/download/v8.2.0/yolov8n.pt to 'yolov8n.pt'...\n"
     ]
    },
    {
     "name": "stderr",
     "output_type": "stream",
     "text": [
      "  0%|          | 0.00/6.25M [00:00<?, ?B/s]\n",
      " 18%|█▊        | 1.11M/6.25M [00:00<00:00, 11.6MB/s]\n",
      " 72%|███████▏  | 4.52M/6.25M [00:00<00:00, 46.9MB/s]\n",
      "100%|██████████| 6.25M/6.25M [00:00<00:00, 32.2MB/s]\n",
      "100%|██████████| 6.25M/6.25M [00:00<00:00, 43.2MB/s]\n",
      "100%|██████████| 6.25M/6.25M [00:00<00:00, 47.7MB/s]\n",
      "\u001b[34m\u001b[1mtrain: \u001b[0mScanning /home/under1/Detect/jeongui/sagittal/base/labels/train.cache... 212 images, 0 backgrounds, 0 corrupt: 100%|██████████| 212/212 [00:00<?, ?it/s]\n"
     ]
    },
    {
     "name": "stdout",
     "output_type": "stream",
     "text": [
      "\u001b[36m(_tune pid=48447)\u001b[0m \u001b[34m\u001b[1mAMP: \u001b[0mchecks passed ✅\n",
      "\u001b[36m(_tune pid=48446)\u001b[0m Ultralytics YOLOv8.2.70 🚀 Python-3.10.14 torch-2.1.0 CUDA:0 (NVIDIA GeForce RTX 3090, 24260MiB)\u001b[32m [repeated 3x across cluster] (Ray deduplicates logs by default. Set RAY_DEDUP_LOGS=0 to disable log deduplication, or see https://docs.ray.io/en/master/ray-observability/user-guides/configure-logging.html#log-deduplication for more options.)\u001b[0m\n",
      "\u001b[36m(_tune pid=48449)\u001b[0m \u001b[34m\u001b[1mengine/trainer: \u001b[0mtask=detect, mode=train, model=/home/under1/Detect/jeongui/sagittal/test/runs/detect/train/train_base/weights/best.pt, data=/home/under1/Detect/jeongui/sagittal/test/test.yaml, epochs=30, time=None, patience=100, batch=16, imgsz=640, save=True, save_period=-1, cache=False, device=None, workers=8, project=None, name=tune_raytune, exist_ok=False, pretrained=True, optimizer=auto, verbose=True, seed=0, deterministic=True, single_cls=False, rect=False, cos_lr=False, close_mosaic=10, resume=False, amp=True, fraction=1.0, profile=False, freeze=None, multi_scale=False, overlap_mask=True, mask_ratio=4, dropout=0.0, val=True, split=val, save_json=False, save_hybrid=False, conf=None, iou=0.7, max_det=300, half=False, dnn=False, plots=True, source=None, vid_stride=1, stream_buffer=False, visualize=False, augment=False, agnostic_nms=False, classes=None, retina_masks=False, embed=None, show=False, save_frames=False, save_txt=False, save_conf=False, save_crop=False, show_labels=True, show_conf=True, show_boxes=True, line_width=None, format=torchscript, keras=False, optimize=False, int8=False, dynamic=False, simplify=False, opset=None, workspace=4, nms=False, lr0=0.08053897427958795, lrf=0.3167433003458887, momentum=0.9631993318187992, weight_decay=0.0005555918594051573, warmup_epochs=1.1505733725893634, warmup_momentum=0.9351446351907461, warmup_bias_lr=0.1, box=0.052264211537447564, cls=2.0564867154014546, dfl=1.5, pose=12.0, kobj=1.0, label_smoothing=0.0, nbs=64, hsv_h=0.03596025535881549, hsv_s=0.005477703691131575, hsv_v=0.28908713846623735, degrees=34.61508238514294, translate=0.06911135501308376, scale=0.769050511725178, shear=8.26336410453088, perspective=0.00045568427314613335, flipud=0.6200819370306898, fliplr=0.6592221016700927, bgr=0.6223196550467744, mosaic=0.561757297773992, mixup=0.34923103066329375, copy_paste=0.693595786102757, auto_augment=randaugment, erasing=0.4, crop_fraction=1.0, cfg=None, tracker=botsort.yaml, save_dir=runs/detect/tune/tune_raytune\u001b[32m [repeated 3x across cluster]\u001b[0m\n",
      "\u001b[36m(_tune pid=48446)\u001b[0m                    from  n    params  module                                       arguments                     \u001b[32m [repeated 3x across cluster]\u001b[0m\n",
      "\u001b[36m(_tune pid=48449)\u001b[0m  19                  -1  1    147712  ultralytics.nn.modules.conv.Conv             [128, 128, 3, 2]              \u001b[32m [repeated 21x across cluster]\u001b[0m\n",
      "\u001b[36m(_tune pid=48449)\u001b[0m   8                  -1  1    460288  ultralytics.nn.modules.block.C2f             [256, 256, 1, True]           \u001b[32m [repeated 12x across cluster]\u001b[0m\n",
      "\u001b[36m(_tune pid=48449)\u001b[0m   9                  -1  1    164608  ultralytics.nn.modules.block.SPPF            [256, 256, 5]                 \u001b[32m [repeated 3x across cluster]\u001b[0m\n",
      "\u001b[36m(_tune pid=48449)\u001b[0m  13                  -1  1         0  torch.nn.modules.upsampling.Upsample         [None, 2, 'nearest']          \u001b[32m [repeated 6x across cluster]\u001b[0m\n",
      "\u001b[36m(_tune pid=48449)\u001b[0m  20             [-1, 9]  1         0  ultralytics.nn.modules.conv.Concat           [1]                           \u001b[32m [repeated 12x across cluster]\u001b[0m\n",
      "\u001b[36m(_tune pid=48449)\u001b[0m  22        [15, 18, 21]  1    751702  ultralytics.nn.modules.head.Detect           [2, [64, 128, 256]]           \u001b[32m [repeated 3x across cluster]\u001b[0m\n",
      "\u001b[36m(_tune pid=48446)\u001b[0m Model summary: 225 layers, 3,011,238 parameters, 3,011,222 gradients, 8.2 GFLOPs\u001b[32m [repeated 3x across cluster]\u001b[0m\n",
      "\u001b[36m(_tune pid=48449)\u001b[0m Transferred 355/355 items from pretrained weights\u001b[32m [repeated 3x across cluster]\u001b[0m\n",
      "\u001b[36m(_tune pid=48449)\u001b[0m \u001b[34m\u001b[1mTensorBoard: \u001b[0mStart with 'tensorboard --logdir runs/detect/tune/tune_raytune', view at http://localhost:6006/\u001b[32m [repeated 3x across cluster]\u001b[0m\n",
      "\u001b[36m(_tune pid=48446)\u001b[0m Freezing layer 'model.22.dfl.conv.weight'\u001b[32m [repeated 3x across cluster]\u001b[0m\n",
      "\u001b[36m(_tune pid=48446)\u001b[0m \u001b[34m\u001b[1mAMP: \u001b[0mrunning Automatic Mixed Precision (AMP) checks with YOLOv8n...\u001b[32m [repeated 3x across cluster]\u001b[0m\n",
      "\u001b[36m(_tune pid=48446)\u001b[0m Downloading https://github.com/ultralytics/assets/releases/download/v8.2.0/yolov8n.pt to 'yolov8n.pt'...\u001b[32m [repeated 3x across cluster]\u001b[0m\n"
     ]
    },
    {
     "name": "stderr",
     "output_type": "stream",
     "text": [
      "  0%|          | 0.00/6.25M [00:00<?, ?B/s]\u001b[32m [repeated 2x across cluster]\u001b[0m\n",
      "100%|██████████| 6.25M/6.25M [00:00<00:00, 30.2MB/s]\u001b[32m [repeated 3x across cluster]\u001b[0m\n",
      "\u001b[36m(_tune pid=48447)\u001b[0m INFO:albumentations.check_version:A new version of Albumentations is available: 1.4.12 (you have 1.4.10). Upgrade using: pip install --upgrade albumentations\n"
     ]
    },
    {
     "name": "stdout",
     "output_type": "stream",
     "text": [
      "\u001b[36m(_tune pid=48447)\u001b[0m \u001b[34m\u001b[1malbumentations: \u001b[0mBlur(p=0.01, blur_limit=(3, 7)), MedianBlur(p=0.01, blur_limit=(3, 7)), ToGray(p=0.01), CLAHE(p=0.01, clip_limit=(1, 4.0), tile_grid_size=(8, 8))\n",
      "\u001b[36m(_tune pid=48448)\u001b[0m \u001b[34m\u001b[1malbumentations: \u001b[0mBlur(p=0.01, blur_limit=(3, 7)), MedianBlur(p=0.01, blur_limit=(3, 7)), ToGray(p=0.01), CLAHE(p=0.01, clip_limit=(1, 4.0), tile_grid_size=(8, 8))\n",
      "\u001b[36m(_tune pid=48449)\u001b[0m \u001b[34m\u001b[1malbumentations: \u001b[0mBlur(p=0.01, blur_limit=(3, 7)), MedianBlur(p=0.01, blur_limit=(3, 7)), ToGray(p=0.01), CLAHE(p=0.01, clip_limit=(1, 4.0), tile_grid_size=(8, 8))\n",
      "\u001b[36m(_tune pid=48446)\u001b[0m \u001b[34m\u001b[1malbumentations: \u001b[0mBlur(p=0.01, blur_limit=(3, 7)), MedianBlur(p=0.01, blur_limit=(3, 7)), ToGray(p=0.01), CLAHE(p=0.01, clip_limit=(1, 4.0), tile_grid_size=(8, 8))\n",
      "\u001b[36m(_tune pid=48447)\u001b[0m Plotting labels to runs/detect/tune/tune_raytune/labels.jpg... \n",
      "\u001b[36m(_tune pid=48446)\u001b[0m \u001b[34m\u001b[1mAMP: \u001b[0mchecks passed ✅\u001b[32m [repeated 3x across cluster]\u001b[0m\n",
      "\u001b[36m(_tune pid=48447)\u001b[0m \u001b[34m\u001b[1moptimizer:\u001b[0m 'optimizer=auto' found, ignoring 'lr0=0.07851340658107606' and 'momentum=0.95378119686571' and determining best 'optimizer', 'lr0' and 'momentum' automatically... \n",
      "\u001b[36m(_tune pid=48447)\u001b[0m \u001b[34m\u001b[1moptimizer:\u001b[0m AdamW(lr=0.001667, momentum=0.9) with parameter groups 57 weight(decay=0.0), 64 weight(decay=0.0006216566929996135), 63 bias(decay=0.0)\n",
      "\u001b[36m(_tune pid=48446)\u001b[0m Plotting labels to runs/detect/tune/tune_raytune/labels.jpg... \u001b[32m [repeated 3x across cluster]\u001b[0m\n",
      "\u001b[36m(_tune pid=48447)\u001b[0m \u001b[34m\u001b[1mTensorBoard: \u001b[0mmodel graph visualization added ✅\n",
      "\u001b[36m(_tune pid=48447)\u001b[0m Image sizes 640 train, 640 val\n",
      "\u001b[36m(_tune pid=48447)\u001b[0m Using 8 dataloader workers\n",
      "\u001b[36m(_tune pid=48447)\u001b[0m Logging results to \u001b[1mruns/detect/tune/tune_raytune\u001b[0m\n",
      "\u001b[36m(_tune pid=48447)\u001b[0m Starting training for 30 epochs...\n",
      "\u001b[36m(_tune pid=48447)\u001b[0m \n",
      "\u001b[36m(_tune pid=48447)\u001b[0m       Epoch    GPU_mem   box_loss   cls_loss   dfl_loss  Instances       Size\n"
     ]
    },
    {
     "name": "stderr",
     "output_type": "stream",
     "text": [
      "  0%|          | 0/14 [00:00<?, ?it/s]\n",
      "\u001b[34m\u001b[1mval: \u001b[0mScanning /home/under1/Detect/jeongui/sagittal/base/labels/val.cache... 52 images, 0 backgrounds, 0 corrupt: 100%|██████████| 52/52 [00:00<?, ?it/s]\u001b[32m [repeated 7x across cluster]\u001b[0m\n",
      "\u001b[36m(_tune pid=48446)\u001b[0m INFO:albumentations.check_version:A new version of Albumentations is available: 1.4.12 (you have 1.4.10). Upgrade using: pip install --upgrade albumentations\u001b[32m [repeated 3x across cluster]\u001b[0m\n"
     ]
    },
    {
     "name": "stdout",
     "output_type": "stream",
     "text": [
      "\u001b[36m(_tune pid=48448)\u001b[0m \n",
      "\u001b[36m(_tune pid=48446)\u001b[0m \u001b[34m\u001b[1moptimizer:\u001b[0m 'optimizer=auto' found, ignoring 'lr0=0.03545934464001868' and 'momentum=0.6400495135113041' and determining best 'optimizer', 'lr0' and 'momentum' automatically... \u001b[32m [repeated 3x across cluster]\u001b[0m\n",
      "\u001b[36m(_tune pid=48446)\u001b[0m \u001b[34m\u001b[1moptimizer:\u001b[0m AdamW(lr=0.001667, momentum=0.9) with parameter groups 57 weight(decay=0.0), 64 weight(decay=0.0004901573182214308), 63 bias(decay=0.0)\u001b[32m [repeated 3x across cluster]\u001b[0m\n",
      "\u001b[36m(_tune pid=48449)\u001b[0m \n"
     ]
    },
    {
     "name": "stderr",
     "output_type": "stream",
     "text": [
      "       1/30      2.12G    0.02897      13.72      1.505         23        640:   7%|▋         | 1/14 [00:01<00:13,  1.04s/it]\n",
      "       1/30      2.12G    0.02854      13.16       1.47         25        640:   7%|▋         | 1/14 [00:01<00:13,  1.04s/it]\n",
      "       1/30      2.12G    0.02854      13.16       1.47         25        640:  14%|█▍        | 2/14 [00:01<00:06,  1.95it/s]\n",
      "       1/30      2.12G    0.02578      12.44      1.343         30        640:  21%|██▏       | 3/14 [00:01<00:03,  2.84it/s]\n"
     ]
    },
    {
     "name": "stdout",
     "output_type": "stream",
     "text": [
      "\u001b[36m(_tune pid=48446)\u001b[0m \n"
     ]
    },
    {
     "name": "stderr",
     "output_type": "stream",
     "text": [
      "       1/30      2.39G     0.0266      12.94      1.348         31        640:  29%|██▊       | 4/14 [00:01<00:03,  2.79it/s]\n",
      "       1/30      2.39G    0.02561      12.65       1.33         24        640:  36%|███▌      | 5/14 [00:02<00:03,  2.49it/s]\n",
      "       1/30      2.39G    0.02482      12.61      1.299         27        640:  43%|████▎     | 6/14 [00:02<00:02,  3.08it/s]\n",
      "       1/30      2.39G    0.02522      12.64      1.314         29        640:  50%|█████     | 7/14 [00:02<00:01,  3.81it/s]\n",
      "       1/30      2.43G    0.02433      12.63      1.279          5        640: 100%|██████████| 14/14 [00:04<00:00,  3.13it/s]\n",
      "                 Class     Images  Instances      Box(P          R      mAP50  mAP50-95):   0%|          | 0/2 [00:00<?, ?it/s]\n",
      "       1/30      2.43G     0.0176       7.16      2.109          5        640: 100%|██████████| 14/14 [00:04<00:00,  3.22it/s]\n",
      "                 Class     Images  Instances      Box(P          R      mAP50  mAP50-95):  50%|█████     | 1/2 [00:00<00:00,  2.31it/s]\n",
      "                 Class     Images  Instances      Box(P          R      mAP50  mAP50-95): 100%|██████████| 2/2 [00:00<00:00,  2.64it/s]\n",
      "  0%|          | 0/14 [00:00<?, ?it/s]\u001b[32m [repeated 3x across cluster]\u001b[0m\n",
      "       1/30      2.43G    0.01575      7.802      2.171          9        640: 100%|██████████| 14/14 [00:04<00:00,  3.10it/s]\n"
     ]
    },
    {
     "name": "stdout",
     "output_type": "stream",
     "text": [
      "\u001b[36m(_tune pid=48447)\u001b[0m                    all         52         54      0.493      0.859      0.567        0.4\n",
      "\u001b[36m(_tune pid=48446)\u001b[0m \u001b[34m\u001b[1mTensorBoard: \u001b[0mmodel graph visualization added ✅\u001b[32m [repeated 3x across cluster]\u001b[0m\n",
      "\u001b[36m(_tune pid=48446)\u001b[0m Image sizes 640 train, 640 val\u001b[32m [repeated 3x across cluster]\u001b[0m\n",
      "\u001b[36m(_tune pid=48446)\u001b[0m Using 8 dataloader workers\u001b[32m [repeated 3x across cluster]\u001b[0m\n",
      "\u001b[36m(_tune pid=48446)\u001b[0m Logging results to \u001b[1mruns/detect/tune/tune_raytune\u001b[0m\u001b[32m [repeated 3x across cluster]\u001b[0m\n",
      "\u001b[36m(_tune pid=48446)\u001b[0m Starting training for 30 epochs...\u001b[32m [repeated 3x across cluster]\u001b[0m\n",
      "\u001b[36m(_tune pid=48446)\u001b[0m       Epoch    GPU_mem   box_loss   cls_loss   dfl_loss  Instances       Size\u001b[32m [repeated 3x across cluster]\u001b[0m\n"
     ]
    },
    {
     "name": "stderr",
     "output_type": "stream",
     "text": [
      "       1/30      2.12G     0.0434       4.76      2.064         35        640:   7%|▋         | 1/14 [00:01<00:19,  1.52s/it]\u001b[32m [repeated 3x across cluster]\u001b[0m\n",
      "       1/30      2.39G    0.01581      7.856      2.221         33        640:  93%|█████████▎| 13/14 [00:03<00:00,  5.21it/s]\u001b[32m [repeated 11x across cluster]\u001b[0m\n",
      "       1/30      2.39G    0.01596      7.926      2.245         50        640:  86%|████████▌ | 12/14 [00:03<00:00,  5.04it/s]\u001b[32m [repeated 25x across cluster]\u001b[0m\n"
     ]
    },
    {
     "name": "stdout",
     "output_type": "stream",
     "text": [
      "\u001b[36m(_tune pid=48447)\u001b[0m \n",
      "\u001b[36m(_tune pid=48448)\u001b[0m \n",
      "\u001b[36m(_tune pid=48449)\u001b[0m \n"
     ]
    },
    {
     "name": "stderr",
     "output_type": "stream",
     "text": [
      "       2/30      2.13G    0.02243      12.64      1.225          7        640: 100%|██████████| 14/14 [00:02<00:00,  6.51it/s]\n",
      "                 Class     Images  Instances      Box(P          R      mAP50  mAP50-95):   0%|          | 0/2 [00:00<?, ?it/s]\u001b[32m [repeated 3x across cluster]\u001b[0m\n",
      "                 Class     Images  Instances      Box(P          R      mAP50  mAP50-95):  50%|█████     | 1/2 [00:00<00:00,  5.27it/s]\u001b[32m [repeated 3x across cluster]\u001b[0m\n",
      "                 Class     Images  Instances      Box(P          R      mAP50  mAP50-95): 100%|██████████| 2/2 [00:00<00:00,  6.25it/s]\u001b[32m [repeated 3x across cluster]\u001b[0m\n",
      "  0%|          | 0/14 [00:00<?, ?it/s]\u001b[32m [repeated 4x across cluster]\u001b[0m\n"
     ]
    },
    {
     "name": "stdout",
     "output_type": "stream",
     "text": [
      "\u001b[36m(_tune pid=48447)\u001b[0m \n",
      "\u001b[36m(_tune pid=48447)\u001b[0m                    all         52         54      0.492      0.817      0.537      0.375\u001b[32m [repeated 3x across cluster]\u001b[0m\n",
      "\u001b[36m(_tune pid=48447)\u001b[0m       Epoch    GPU_mem   box_loss   cls_loss   dfl_loss  Instances       Size\u001b[32m [repeated 4x across cluster]\u001b[0m\n"
     ]
    },
    {
     "name": "stderr",
     "output_type": "stream",
     "text": [
      "       3/30       2.1G    0.02184      11.04       1.16         24        640:   7%|▋         | 1/14 [00:00<00:02,  6.27it/s]\u001b[32m [repeated 4x across cluster]\u001b[0m\n",
      "       2/30      2.09G    0.02217      12.46       1.22         26        640:  93%|█████████▎| 13/14 [00:02<00:00,  6.36it/s]\u001b[32m [repeated 5x across cluster]\u001b[0m\n",
      "       3/30       2.1G    0.02204      12.29      1.217         26        640:  64%|██████▍   | 9/14 [00:01<00:00,  7.01it/s]\u001b[32m [repeated 25x across cluster]\u001b[0m\n",
      "       3/30      2.12G    0.02188      12.23      1.198          5        640: 100%|██████████| 14/14 [00:01<00:00,  7.22it/s]\n"
     ]
    },
    {
     "name": "stdout",
     "output_type": "stream",
     "text": [
      "\u001b[36m(_tune pid=48447)\u001b[0m \n"
     ]
    },
    {
     "name": "stderr",
     "output_type": "stream",
     "text": [
      "                 Class     Images  Instances      Box(P          R      mAP50  mAP50-95):   0%|          | 0/2 [00:00<?, ?it/s]\n",
      "                 Class     Images  Instances      Box(P          R      mAP50  mAP50-95):  50%|█████     | 1/2 [00:00<00:00,  5.66it/s]\n",
      "                 Class     Images  Instances      Box(P          R      mAP50  mAP50-95): 100%|██████████| 2/2 [00:00<00:00,  6.68it/s]\n",
      "  0%|          | 0/14 [00:00<?, ?it/s]\n",
      "       4/30      2.14G    0.02408      12.89      1.266          7        640: 100%|██████████| 14/14 [00:01<00:00,  7.62it/s]\n",
      "                 Class     Images  Instances      Box(P          R      mAP50  mAP50-95):   0%|          | 0/2 [00:00<?, ?it/s]\n",
      "                 Class     Images  Instances      Box(P          R      mAP50  mAP50-95):  50%|█████     | 1/2 [00:00<00:00,  5.78it/s]\n",
      "                 Class     Images  Instances      Box(P          R      mAP50  mAP50-95): 100%|██████████| 2/2 [00:00<00:00,  6.92it/s]\n"
     ]
    },
    {
     "name": "stdout",
     "output_type": "stream",
     "text": [
      "\u001b[36m(_tune pid=48447)\u001b[0m                    all         52         54      0.506      0.792      0.568      0.355\u001b[32m [repeated 2x across cluster]\u001b[0m\n",
      "\u001b[36m(_tune pid=48447)\u001b[0m       Epoch    GPU_mem   box_loss   cls_loss   dfl_loss  Instances       Size\n"
     ]
    },
    {
     "name": "stderr",
     "output_type": "stream",
     "text": [
      "  0%|          | 0/14 [00:00<?, ?it/s]\n",
      "       4/30       2.1G    0.02514      11.84      1.275         32        640:   7%|▋         | 1/14 [00:00<00:02,  5.31it/s]\n",
      "       4/30       2.1G    0.02383      12.68      1.274         26        640:  93%|█████████▎| 13/14 [00:01<00:00,  7.92it/s]\u001b[32m [repeated 4x across cluster]\u001b[0m\n",
      "       4/30       2.1G    0.02356       12.6       1.26         33        640:  86%|████████▌ | 12/14 [00:01<00:00,  7.79it/s]\u001b[32m [repeated 12x across cluster]\u001b[0m\n",
      "       5/30      2.09G    0.02485      12.66      1.184         20        640:   7%|▋         | 1/14 [00:00<00:01,  6.63it/s]\n"
     ]
    },
    {
     "name": "stdout",
     "output_type": "stream",
     "text": [
      "\u001b[36m(_tune pid=48447)\u001b[0m \n",
      "\u001b[36m(_tune pid=48447)\u001b[0m       Epoch    GPU_mem   box_loss   cls_loss   dfl_loss  Instances       Size\n"
     ]
    },
    {
     "name": "stderr",
     "output_type": "stream",
     "text": [
      "       5/30      2.13G    0.02292      12.32      1.218          6        640: 100%|██████████| 14/14 [00:01<00:00,  7.67it/s]\n",
      "                 Class     Images  Instances      Box(P          R      mAP50  mAP50-95):   0%|          | 0/2 [00:00<?, ?it/s]\n",
      "                 Class     Images  Instances      Box(P          R      mAP50  mAP50-95):  50%|█████     | 1/2 [00:00<00:00,  5.31it/s]\n",
      "                 Class     Images  Instances      Box(P          R      mAP50  mAP50-95): 100%|██████████| 2/2 [00:00<00:00,  6.73it/s]\n",
      "  0%|          | 0/14 [00:00<?, ?it/s]\n",
      "       6/30       2.1G    0.02204      13.34       1.19         17        640:   7%|▋         | 1/14 [00:00<00:01,  8.84it/s]\n"
     ]
    },
    {
     "name": "stdout",
     "output_type": "stream",
     "text": [
      "\u001b[36m(_tune pid=48447)\u001b[0m \n",
      "\u001b[36m(_tune pid=48447)\u001b[0m       Epoch    GPU_mem   box_loss   cls_loss   dfl_loss  Instances       Size\n"
     ]
    },
    {
     "name": "stderr",
     "output_type": "stream",
     "text": [
      "       6/30       2.1G    0.02375      13.77      1.255         24        640:  43%|████▎     | 6/14 [00:00<00:00,  8.45it/s]\n",
      "       6/30      2.13G    0.02428      12.95      1.274          6        640: 100%|██████████| 14/14 [00:01<00:00,  8.48it/s]\n",
      "                 Class     Images  Instances      Box(P          R      mAP50  mAP50-95):   0%|          | 0/2 [00:00<?, ?it/s]\n",
      "                 Class     Images  Instances      Box(P          R      mAP50  mAP50-95):  50%|█████     | 1/2 [00:00<00:00,  6.15it/s]\n",
      "       6/30       2.1G    0.02413      13.02      1.264         23        640:  93%|█████████▎| 13/14 [00:01<00:00,  8.70it/s]\u001b[32m [repeated 5x across cluster]\u001b[0m\n",
      "       6/30       2.1G    0.02394      13.16       1.26         27        640:  86%|████████▌ | 12/14 [00:01<00:00,  8.72it/s]\u001b[32m [repeated 17x across cluster]\u001b[0m\n",
      "                 Class     Images  Instances      Box(P          R      mAP50  mAP50-95): 100%|██████████| 2/2 [00:00<00:00,  7.57it/s]\n"
     ]
    },
    {
     "name": "stdout",
     "output_type": "stream",
     "text": [
      "\u001b[36m(_tune pid=48447)\u001b[0m                    all         52         54      0.452      0.794      0.544      0.361\u001b[32m [repeated 2x across cluster]\u001b[0m\n"
     ]
    },
    {
     "name": "stderr",
     "output_type": "stream",
     "text": [
      "  0%|          | 0/14 [00:00<?, ?it/s]\n",
      "       7/30      2.08G      0.021      11.29       1.18         20        640:   7%|▋         | 1/14 [00:00<00:01,  8.87it/s]\n"
     ]
    },
    {
     "name": "stdout",
     "output_type": "stream",
     "text": [
      "\u001b[36m(_tune pid=48447)\u001b[0m \n",
      "\u001b[36m(_tune pid=48447)\u001b[0m       Epoch    GPU_mem   box_loss   cls_loss   dfl_loss  Instances       Size\n"
     ]
    },
    {
     "name": "stderr",
     "output_type": "stream",
     "text": [
      "       7/30      2.13G    0.02316      12.15      1.251          6        640: 100%|██████████| 14/14 [00:01<00:00,  7.68it/s]\n",
      "                 Class     Images  Instances      Box(P          R      mAP50  mAP50-95):   0%|          | 0/2 [00:00<?, ?it/s]\n",
      "                 Class     Images  Instances      Box(P          R      mAP50  mAP50-95):  50%|█████     | 1/2 [00:00<00:00,  6.21it/s]\n",
      "                 Class     Images  Instances      Box(P          R      mAP50  mAP50-95): 100%|██████████| 2/2 [00:00<00:00,  7.38it/s]\n",
      "  0%|          | 0/14 [00:00<?, ?it/s]\n",
      "       8/30      2.09G     0.0219      11.59      1.205         26        640:   7%|▋         | 1/14 [00:00<00:01,  8.85it/s]\n"
     ]
    },
    {
     "name": "stdout",
     "output_type": "stream",
     "text": [
      "\u001b[36m(_tune pid=48447)\u001b[0m \n",
      "\u001b[36m(_tune pid=48447)\u001b[0m       Epoch    GPU_mem   box_loss   cls_loss   dfl_loss  Instances       Size\n"
     ]
    },
    {
     "name": "stderr",
     "output_type": "stream",
     "text": [
      "       7/30      2.09G     0.0232      12.12      1.249         17        640:  93%|█████████▎| 13/14 [00:01<00:00,  7.51it/s]\n",
      "       8/30      2.09G    0.02379       12.2      1.268         21        640:  29%|██▊       | 4/14 [00:00<00:01,  8.06it/s]\u001b[32m [repeated 14x across cluster]\u001b[0m\n",
      "       8/30      2.09G    0.02453      12.24      1.297         22        640:  93%|█████████▎| 13/14 [00:01<00:00,  7.40it/s]\n",
      "       8/30      2.13G    0.02404      12.17      1.305          5        640: 100%|██████████| 14/14 [00:01<00:00,  7.43it/s]\n",
      "                 Class     Images  Instances      Box(P          R      mAP50  mAP50-95):   0%|          | 0/2 [00:00<?, ?it/s]\n",
      "                 Class     Images  Instances      Box(P          R      mAP50  mAP50-95):  50%|█████     | 1/2 [00:00<00:00,  5.92it/s]\n",
      "                 Class     Images  Instances      Box(P          R      mAP50  mAP50-95): 100%|██████████| 2/2 [00:00<00:00,  6.84it/s]\n"
     ]
    },
    {
     "name": "stdout",
     "output_type": "stream",
     "text": [
      "\u001b[36m(_tune pid=48447)\u001b[0m                    all         52         54      0.533      0.754      0.599      0.392\u001b[32m [repeated 2x across cluster]\u001b[0m\n"
     ]
    },
    {
     "name": "stderr",
     "output_type": "stream",
     "text": [
      "  0%|          | 0/14 [00:00<?, ?it/s]\n",
      "       9/30      2.08G    0.02629      14.44       1.35         22        640:   7%|▋         | 1/14 [00:00<00:01,  9.44it/s]\n"
     ]
    },
    {
     "name": "stdout",
     "output_type": "stream",
     "text": [
      "\u001b[36m(_tune pid=48447)\u001b[0m \n",
      "\u001b[36m(_tune pid=48447)\u001b[0m       Epoch    GPU_mem   box_loss   cls_loss   dfl_loss  Instances       Size\n"
     ]
    },
    {
     "name": "stderr",
     "output_type": "stream",
     "text": [
      "       9/30      2.09G    0.02572      13.13      1.337         27        640:   7%|▋         | 1/14 [00:00<00:01,  9.44it/s]\n",
      "       9/30      2.09G    0.02546      12.67      1.332         26        640:  29%|██▊       | 4/14 [00:00<00:01,  8.74it/s]\n",
      "       9/30      2.09G    0.02603      12.98      1.355         27        640:  43%|████▎     | 6/14 [00:00<00:00,  9.22it/s]\n",
      "       9/30      2.09G    0.02523      12.47      1.327         32        640:  93%|█████████▎| 13/14 [00:01<00:00,  8.32it/s]\n",
      "       9/30      2.13G    0.02492      12.33      1.313          6        640: 100%|██████████| 14/14 [00:01<00:00,  8.70it/s]\n",
      "                 Class     Images  Instances      Box(P          R      mAP50  mAP50-95):   0%|          | 0/2 [00:00<?, ?it/s]\n",
      "                 Class     Images  Instances      Box(P          R      mAP50  mAP50-95):  50%|█████     | 1/2 [00:00<00:00,  5.87it/s]\n",
      "                 Class     Images  Instances      Box(P          R      mAP50  mAP50-95): 100%|██████████| 2/2 [00:00<00:00,  6.87it/s]\n",
      "  0%|          | 0/14 [00:00<?, ?it/s]\n",
      "       9/30      2.09G    0.02539      12.54      1.339         25        640:  86%|████████▌ | 12/14 [00:01<00:00,  7.97it/s]\u001b[32m [repeated 16x across cluster]\u001b[0m\n",
      "      10/30      2.09G    0.02524       11.8      1.279         27        640:   7%|▋         | 1/14 [00:00<00:01,  9.44it/s]\n"
     ]
    },
    {
     "name": "stdout",
     "output_type": "stream",
     "text": [
      "\u001b[36m(_tune pid=48447)\u001b[0m \n",
      "\u001b[36m(_tune pid=48447)\u001b[0m       Epoch    GPU_mem   box_loss   cls_loss   dfl_loss  Instances       Size\n"
     ]
    },
    {
     "name": "stderr",
     "output_type": "stream",
     "text": [
      "      10/30      2.09G    0.02505      11.69      1.296         25        640:  93%|█████████▎| 13/14 [00:01<00:00,  6.78it/s]\n",
      "      10/30      2.13G    0.02503      11.66      1.298          6        640: 100%|██████████| 14/14 [00:01<00:00,  7.08it/s]\n",
      "                 Class     Images  Instances      Box(P          R      mAP50  mAP50-95):   0%|          | 0/2 [00:00<?, ?it/s]\n",
      "                 Class     Images  Instances      Box(P          R      mAP50  mAP50-95):  50%|█████     | 1/2 [00:00<00:00,  5.21it/s]\n",
      "                 Class     Images  Instances      Box(P          R      mAP50  mAP50-95): 100%|██████████| 2/2 [00:00<00:00,  6.36it/s]\n"
     ]
    },
    {
     "name": "stdout",
     "output_type": "stream",
     "text": [
      "\u001b[36m(_tune pid=48447)\u001b[0m                    all         52         54      0.493      0.704      0.541      0.364\u001b[32m [repeated 2x across cluster]\u001b[0m\n"
     ]
    },
    {
     "name": "stderr",
     "output_type": "stream",
     "text": [
      "  0%|          | 0/14 [00:00<?, ?it/s]\n",
      "      11/30      2.08G    0.02874       11.6      1.439         23        640:   7%|▋         | 1/14 [00:00<00:01,  7.63it/s]\n"
     ]
    },
    {
     "name": "stdout",
     "output_type": "stream",
     "text": [
      "\u001b[36m(_tune pid=48447)\u001b[0m \n",
      "\u001b[36m(_tune pid=48447)\u001b[0m       Epoch    GPU_mem   box_loss   cls_loss   dfl_loss  Instances       Size\n"
     ]
    },
    {
     "name": "stderr",
     "output_type": "stream",
     "text": [
      "      11/30      2.09G    0.02521      11.75      1.308         24        640:  71%|███████▏  | 10/14 [00:01<00:00,  7.29it/s]\u001b[32m [repeated 20x across cluster]\u001b[0m\n",
      "      11/30      2.09G    0.02497      11.56      1.292         32        640:  93%|█████████▎| 13/14 [00:01<00:00,  7.05it/s]\n",
      "      11/30      2.14G    0.02506      11.74      1.294          7        640: 100%|██████████| 14/14 [00:02<00:00,  6.89it/s]\n",
      "                 Class     Images  Instances      Box(P          R      mAP50  mAP50-95):   0%|          | 0/2 [00:00<?, ?it/s]\n",
      "                 Class     Images  Instances      Box(P          R      mAP50  mAP50-95):  50%|█████     | 1/2 [00:00<00:00,  5.76it/s]\n",
      "                 Class     Images  Instances      Box(P          R      mAP50  mAP50-95): 100%|██████████| 2/2 [00:00<00:00,  6.57it/s]\n",
      "  0%|          | 0/14 [00:00<?, ?it/s]\n",
      "      12/30      2.09G    0.02478      12.88      1.262         28        640:   7%|▋         | 1/14 [00:00<00:01,  6.91it/s]\n"
     ]
    },
    {
     "name": "stdout",
     "output_type": "stream",
     "text": [
      "\u001b[36m(_tune pid=48447)\u001b[0m \n",
      "\u001b[36m(_tune pid=48447)\u001b[0m       Epoch    GPU_mem   box_loss   cls_loss   dfl_loss  Instances       Size\n",
      "\u001b[36m(_tune pid=48447)\u001b[0m                    all         52         54      0.402      0.775      0.483       0.26\n"
     ]
    },
    {
     "name": "stderr",
     "output_type": "stream",
     "text": [
      "      12/30      2.09G    0.02504      12.07      1.287         29        640:  93%|█████████▎| 13/14 [00:02<00:00,  6.32it/s]\n",
      "      12/30      2.13G    0.02465      11.95      1.275          6        640: 100%|██████████| 14/14 [00:02<00:00,  6.08it/s]\n",
      "                 Class     Images  Instances      Box(P          R      mAP50  mAP50-95):   0%|          | 0/2 [00:00<?, ?it/s]\n",
      "                 Class     Images  Instances      Box(P          R      mAP50  mAP50-95):  50%|█████     | 1/2 [00:00<00:00,  4.72it/s]\n",
      "                 Class     Images  Instances      Box(P          R      mAP50  mAP50-95): 100%|██████████| 2/2 [00:00<00:00,  5.94it/s]\n"
     ]
    },
    {
     "name": "stdout",
     "output_type": "stream",
     "text": [
      "\u001b[36m(_tune pid=48447)\u001b[0m                    all         52         54      0.432      0.671      0.486      0.314\n"
     ]
    },
    {
     "name": "stderr",
     "output_type": "stream",
     "text": [
      "  0%|          | 0/14 [00:00<?, ?it/s]\n",
      "      12/30      2.09G    0.02499      12.17      1.285         20        640:  86%|████████▌ | 12/14 [00:01<00:00,  6.21it/s]\u001b[32m [repeated 13x across cluster]\u001b[0m\n"
     ]
    },
    {
     "name": "stdout",
     "output_type": "stream",
     "text": [
      "\u001b[36m(_tune pid=48447)\u001b[0m \n",
      "\u001b[36m(_tune pid=48447)\u001b[0m       Epoch    GPU_mem   box_loss   cls_loss   dfl_loss  Instances       Size\n"
     ]
    },
    {
     "name": "stderr",
     "output_type": "stream",
     "text": [
      "      13/30      2.08G    0.02237      11.51       1.21         30        640:   7%|▋         | 1/14 [00:00<00:01,  6.54it/s]\n",
      "      13/30      2.09G     0.0232      11.56      1.257         26        640:  14%|█▍        | 2/14 [00:00<00:02,  5.46it/s]\n",
      "      13/30      2.09G     0.0232      11.56      1.257         26        640:  21%|██▏       | 3/14 [00:00<00:02,  5.45it/s]\n",
      "      13/30      2.09G    0.02416      11.78      1.302         20        640:  93%|█████████▎| 13/14 [00:02<00:00,  6.38it/s]\n",
      "      13/30      2.13G    0.02464      11.85      1.319          5        640: 100%|██████████| 14/14 [00:02<00:00,  6.24it/s]\n",
      "                 Class     Images  Instances      Box(P          R      mAP50  mAP50-95):   0%|          | 0/2 [00:00<?, ?it/s]\n",
      "                 Class     Images  Instances      Box(P          R      mAP50  mAP50-95):  50%|█████     | 1/2 [00:00<00:00,  4.79it/s]\n",
      "                 Class     Images  Instances      Box(P          R      mAP50  mAP50-95): 100%|██████████| 2/2 [00:00<00:00,  5.90it/s]\n"
     ]
    },
    {
     "name": "stdout",
     "output_type": "stream",
     "text": [
      "\u001b[36m(_tune pid=48447)\u001b[0m                    all         52         54      0.458      0.883      0.539      0.331\n"
     ]
    },
    {
     "name": "stderr",
     "output_type": "stream",
     "text": [
      "  0%|          | 0/14 [00:00<?, ?it/s]\n"
     ]
    },
    {
     "name": "stdout",
     "output_type": "stream",
     "text": [
      "\u001b[36m(_tune pid=48447)\u001b[0m \n",
      "\u001b[36m(_tune pid=48447)\u001b[0m       Epoch    GPU_mem   box_loss   cls_loss   dfl_loss  Instances       Size\n"
     ]
    },
    {
     "name": "stderr",
     "output_type": "stream",
     "text": [
      "      14/30      2.09G    0.02571      11.41      1.331         27        640:   7%|▋         | 1/14 [00:00<00:01,  7.51it/s]\n",
      "      14/30      2.09G    0.02456      11.12      1.261         22        640:  64%|██████▍   | 9/14 [00:01<00:00,  7.28it/s]\u001b[32m [repeated 18x across cluster]\u001b[0m\n",
      "      14/30      2.09G    0.02486      11.11      1.262         28        640:  93%|█████████▎| 13/14 [00:01<00:00,  7.20it/s]\n",
      "      14/30      2.13G    0.02543      11.21      1.278          5        640: 100%|██████████| 14/14 [00:02<00:00,  6.96it/s]\n",
      "                 Class     Images  Instances      Box(P          R      mAP50  mAP50-95):   0%|          | 0/2 [00:00<?, ?it/s]\n",
      "                 Class     Images  Instances      Box(P          R      mAP50  mAP50-95):  50%|█████     | 1/2 [00:00<00:00,  6.08it/s]\n",
      "                 Class     Images  Instances      Box(P          R      mAP50  mAP50-95): 100%|██████████| 2/2 [00:00<00:00,  7.39it/s]\n"
     ]
    },
    {
     "name": "stdout",
     "output_type": "stream",
     "text": [
      "\u001b[36m(_tune pid=48447)\u001b[0m                    all         52         54      0.407      0.907      0.478      0.295\n"
     ]
    },
    {
     "name": "stderr",
     "output_type": "stream",
     "text": [
      "  0%|          | 0/14 [00:00<?, ?it/s]\n",
      "      15/30      2.08G    0.02472      12.32      1.268         23        640:   7%|▋         | 1/14 [00:00<00:01,  9.00it/s]\n"
     ]
    },
    {
     "name": "stdout",
     "output_type": "stream",
     "text": [
      "\u001b[36m(_tune pid=48447)\u001b[0m \n",
      "\u001b[36m(_tune pid=48447)\u001b[0m       Epoch    GPU_mem   box_loss   cls_loss   dfl_loss  Instances       Size\n"
     ]
    },
    {
     "name": "stderr",
     "output_type": "stream",
     "text": [
      "      15/30      2.09G     0.0254      11.33      1.264         29        640:  93%|█████████▎| 13/14 [00:01<00:00,  6.56it/s]\n",
      "      15/30      2.13G     0.0252      11.31      1.259          7        640: 100%|██████████| 14/14 [00:01<00:00,  7.01it/s]\n",
      "                 Class     Images  Instances      Box(P          R      mAP50  mAP50-95):   0%|          | 0/2 [00:00<?, ?it/s]\n",
      "                 Class     Images  Instances      Box(P          R      mAP50  mAP50-95):  50%|█████     | 1/2 [00:00<00:00,  5.12it/s]\n",
      "                 Class     Images  Instances      Box(P          R      mAP50  mAP50-95): 100%|██████████| 2/2 [00:00<00:00,  6.56it/s]\n"
     ]
    },
    {
     "name": "stdout",
     "output_type": "stream",
     "text": [
      "\u001b[36m(_tune pid=48447)\u001b[0m                    all         52         54      0.428      0.775      0.541      0.351\n"
     ]
    },
    {
     "name": "stderr",
     "output_type": "stream",
     "text": [
      "  0%|          | 0/14 [00:00<?, ?it/s]\n",
      "      15/30      2.09G    0.02531       11.3      1.269         26        640:  86%|████████▌ | 12/14 [00:01<00:00,  6.10it/s]\u001b[32m [repeated 14x across cluster]\u001b[0m\n"
     ]
    },
    {
     "name": "stdout",
     "output_type": "stream",
     "text": [
      "\u001b[36m(_tune pid=48447)\u001b[0m \n",
      "\u001b[36m(_tune pid=48447)\u001b[0m       Epoch    GPU_mem   box_loss   cls_loss   dfl_loss  Instances       Size\n"
     ]
    },
    {
     "name": "stderr",
     "output_type": "stream",
     "text": [
      "      16/30      2.09G    0.02988      12.35       1.42         26        640:   7%|▋         | 1/14 [00:00<00:01,  7.25it/s]\n",
      "      16/30      2.09G    0.02456      11.01      1.274         18        640:  43%|████▎     | 6/14 [00:01<00:01,  6.17it/s]\n",
      "      16/30      2.09G    0.02456      11.01      1.274         18        640:  50%|█████     | 7/14 [00:01<00:01,  6.70it/s]\n",
      "      16/30      2.09G    0.02503      10.99      1.299         25        640:  93%|█████████▎| 13/14 [00:01<00:00,  7.81it/s]\n",
      "      16/30      2.13G     0.0251      10.92       1.29          5        640: 100%|██████████| 14/14 [00:02<00:00,  7.00it/s]\n",
      "                 Class     Images  Instances      Box(P          R      mAP50  mAP50-95):   0%|          | 0/2 [00:00<?, ?it/s]\n",
      "                 Class     Images  Instances      Box(P          R      mAP50  mAP50-95):  50%|█████     | 1/2 [00:00<00:00,  5.71it/s]\n",
      "                 Class     Images  Instances      Box(P          R      mAP50  mAP50-95): 100%|██████████| 2/2 [00:00<00:00,  7.28it/s]\n"
     ]
    },
    {
     "name": "stdout",
     "output_type": "stream",
     "text": [
      "\u001b[36m(_tune pid=48447)\u001b[0m                    all         52         54      0.345      0.588      0.385      0.216\n"
     ]
    },
    {
     "name": "stderr",
     "output_type": "stream",
     "text": [
      "  0%|          | 0/14 [00:00<?, ?it/s]\n",
      "      17/30      2.08G    0.02469      11.52      1.324         20        640:   7%|▋         | 1/14 [00:00<00:01,  8.77it/s]\n"
     ]
    },
    {
     "name": "stdout",
     "output_type": "stream",
     "text": [
      "\u001b[36m(_tune pid=48447)\u001b[0m \n",
      "\u001b[36m(_tune pid=48447)\u001b[0m       Epoch    GPU_mem   box_loss   cls_loss   dfl_loss  Instances       Size\n"
     ]
    },
    {
     "name": "stderr",
     "output_type": "stream",
     "text": [
      "      17/30      2.09G     0.0239      10.76       1.26         21        640:  86%|████████▌ | 12/14 [00:01<00:00,  7.65it/s]\u001b[32m [repeated 21x across cluster]\u001b[0m\n",
      "      17/30      2.09G    0.02423      10.77      1.269         29        640:  93%|█████████▎| 13/14 [00:01<00:00,  8.16it/s]\n",
      "      17/30      2.13G    0.02429      10.72      1.265          6        640: 100%|██████████| 14/14 [00:01<00:00,  7.91it/s]\n",
      "                 Class     Images  Instances      Box(P          R      mAP50  mAP50-95):   0%|          | 0/2 [00:00<?, ?it/s]\n",
      "                 Class     Images  Instances      Box(P          R      mAP50  mAP50-95):  50%|█████     | 1/2 [00:00<00:00,  5.29it/s]\n",
      "                 Class     Images  Instances      Box(P          R      mAP50  mAP50-95): 100%|██████████| 2/2 [00:00<00:00,  6.69it/s]\n"
     ]
    },
    {
     "name": "stdout",
     "output_type": "stream",
     "text": [
      "\u001b[36m(_tune pid=48447)\u001b[0m                    all         52         54      0.467      0.717      0.501      0.289\n"
     ]
    },
    {
     "name": "stderr",
     "output_type": "stream",
     "text": [
      "  0%|          | 0/14 [00:00<?, ?it/s]\n",
      "      18/30      2.09G    0.02409      11.25       1.29         28        640:   7%|▋         | 1/14 [00:00<00:01,  8.59it/s]\n"
     ]
    },
    {
     "name": "stdout",
     "output_type": "stream",
     "text": [
      "\u001b[36m(_tune pid=48447)\u001b[0m \n",
      "\u001b[36m(_tune pid=48447)\u001b[0m       Epoch    GPU_mem   box_loss   cls_loss   dfl_loss  Instances       Size\n"
     ]
    },
    {
     "name": "stderr",
     "output_type": "stream",
     "text": [
      "      18/30      2.09G    0.02525      11.23      1.327         24        640:  93%|█████████▎| 13/14 [00:02<00:00,  6.59it/s]\n",
      "      18/30      2.14G    0.02575      11.22      1.336          9        640: 100%|██████████| 14/14 [00:02<00:00,  6.20it/s]\n",
      "                 Class     Images  Instances      Box(P          R      mAP50  mAP50-95):   0%|          | 0/2 [00:00<?, ?it/s]\n"
     ]
    },
    {
     "name": "stdout",
     "output_type": "stream",
     "text": [
      "\u001b[36m(_tune pid=48447)\u001b[0m                    all         52         54      0.484      0.786      0.541      0.363\n"
     ]
    },
    {
     "name": "stderr",
     "output_type": "stream",
     "text": [
      "                 Class     Images  Instances      Box(P          R      mAP50  mAP50-95):  50%|█████     | 1/2 [00:00<00:00,  5.48it/s]\n",
      "                 Class     Images  Instances      Box(P          R      mAP50  mAP50-95): 100%|██████████| 2/2 [00:00<00:00,  6.77it/s]\n",
      "  0%|          | 0/14 [00:00<?, ?it/s]\n",
      "      18/30      2.09G    0.02554      11.32      1.336         18        640:  86%|████████▌ | 12/14 [00:01<00:00,  6.27it/s]\u001b[32m [repeated 11x across cluster]\u001b[0m\n"
     ]
    },
    {
     "name": "stdout",
     "output_type": "stream",
     "text": [
      "\u001b[36m(_tune pid=48447)\u001b[0m \n",
      "\u001b[36m(_tune pid=48447)\u001b[0m       Epoch    GPU_mem   box_loss   cls_loss   dfl_loss  Instances       Size\n"
     ]
    },
    {
     "name": "stderr",
     "output_type": "stream",
     "text": [
      "      19/30      2.08G    0.02648      11.94      1.438         22        640:   7%|▋         | 1/14 [00:00<00:01,  7.25it/s]\n",
      "      19/30      2.09G    0.02473      11.25      1.335         22        640:  93%|█████████▎| 13/14 [00:02<00:00,  6.01it/s]\n",
      "      19/30      2.13G    0.02416      10.99      1.319          4        640: 100%|██████████| 14/14 [00:02<00:00,  5.77it/s]\n",
      "                 Class     Images  Instances      Box(P          R      mAP50  mAP50-95):   0%|          | 0/2 [00:00<?, ?it/s]\n",
      "                 Class     Images  Instances      Box(P          R      mAP50  mAP50-95):  50%|█████     | 1/2 [00:00<00:00,  4.58it/s]\n",
      "                 Class     Images  Instances      Box(P          R      mAP50  mAP50-95): 100%|██████████| 2/2 [00:00<00:00,  5.34it/s]\n"
     ]
    },
    {
     "name": "stdout",
     "output_type": "stream",
     "text": [
      "\u001b[36m(_tune pid=48447)\u001b[0m                    all         52         54      0.511      0.804      0.569      0.361\n"
     ]
    },
    {
     "name": "stderr",
     "output_type": "stream",
     "text": [
      "  0%|          | 0/14 [00:00<?, ?it/s]\n",
      "      20/30      2.09G    0.02562      11.84      1.273         27        640:   7%|▋         | 1/14 [00:00<00:02,  6.41it/s]\n"
     ]
    },
    {
     "name": "stdout",
     "output_type": "stream",
     "text": [
      "\u001b[36m(_tune pid=48447)\u001b[0m \n",
      "\u001b[36m(_tune pid=48447)\u001b[0m       Epoch    GPU_mem   box_loss   cls_loss   dfl_loss  Instances       Size\n"
     ]
    },
    {
     "name": "stderr",
     "output_type": "stream",
     "text": [
      "      20/30      2.09G    0.02275      10.46      1.247         21        640:  36%|███▌      | 5/14 [00:00<00:01,  5.80it/s]\u001b[32m [repeated 15x across cluster]\u001b[0m\n",
      "      20/30      2.09G    0.02407      10.77      1.284         23        640:  93%|█████████▎| 13/14 [00:02<00:00,  4.05it/s]\n",
      "      20/30      2.13G    0.02398      10.68      1.271          4        640: 100%|██████████| 14/14 [00:02<00:00,  4.72it/s]\n",
      "                 Class     Images  Instances      Box(P          R      mAP50  mAP50-95):   0%|          | 0/2 [00:00<?, ?it/s]\n",
      "                 Class     Images  Instances      Box(P          R      mAP50  mAP50-95):  50%|█████     | 1/2 [00:00<00:00,  5.34it/s]\n",
      "                 Class     Images  Instances      Box(P          R      mAP50  mAP50-95): 100%|██████████| 2/2 [00:00<00:00,  6.91it/s]\n"
     ]
    },
    {
     "name": "stdout",
     "output_type": "stream",
     "text": [
      "\u001b[36m(_tune pid=48447)\u001b[0m                    all         52         54      0.467       0.77      0.574       0.38\n",
      "\u001b[36m(_tune pid=48447)\u001b[0m Closing dataloader mosaic\n",
      "\u001b[36m(_tune pid=48447)\u001b[0m \u001b[34m\u001b[1malbumentations: \u001b[0mBlur(p=0.01, blur_limit=(3, 7)), MedianBlur(p=0.01, blur_limit=(3, 7)), ToGray(p=0.01), CLAHE(p=0.01, clip_limit=(1, 4.0), tile_grid_size=(8, 8))\n"
     ]
    },
    {
     "name": "stderr",
     "output_type": "stream",
     "text": [
      "  0%|          | 0/14 [00:00<?, ?it/s]\n",
      "      20/30      2.09G    0.02409      10.83      1.285         27        640:  86%|████████▌ | 12/14 [00:02<00:00,  4.15it/s]\u001b[32m [repeated 7x across cluster]\u001b[0m\n"
     ]
    },
    {
     "name": "stdout",
     "output_type": "stream",
     "text": [
      "\u001b[36m(_tune pid=48447)\u001b[0m \n",
      "\u001b[36m(_tune pid=48447)\u001b[0m       Epoch    GPU_mem   box_loss   cls_loss   dfl_loss  Instances       Size\n"
     ]
    },
    {
     "name": "stderr",
     "output_type": "stream",
     "text": [
      "      21/30      2.08G    0.01919      9.795      1.075         16        640:   7%|▋         | 1/14 [00:00<00:04,  2.79it/s]\n",
      "      21/30       2.1G    0.02133      9.576      1.205         19        640:  93%|█████████▎| 13/14 [00:02<00:00,  6.82it/s]\n",
      "      21/30      2.13G    0.02184      9.662      1.215          4        640: 100%|██████████| 14/14 [00:02<00:00,  6.11it/s]\n",
      "                 Class     Images  Instances      Box(P          R      mAP50  mAP50-95):   0%|          | 0/2 [00:00<?, ?it/s]\n",
      "                 Class     Images  Instances      Box(P          R      mAP50  mAP50-95):  50%|█████     | 1/2 [00:00<00:00,  3.55it/s]\n",
      "                 Class     Images  Instances      Box(P          R      mAP50  mAP50-95): 100%|██████████| 2/2 [00:00<00:00,  4.42it/s]\n"
     ]
    },
    {
     "name": "stdout",
     "output_type": "stream",
     "text": [
      "\u001b[36m(_tune pid=48447)\u001b[0m                    all         52         54      0.476      0.725      0.558       0.39\n"
     ]
    },
    {
     "name": "stderr",
     "output_type": "stream",
     "text": [
      "  0%|          | 0/14 [00:00<?, ?it/s]\n"
     ]
    },
    {
     "name": "stdout",
     "output_type": "stream",
     "text": [
      "\u001b[36m(_tune pid=48447)\u001b[0m \n",
      "\u001b[36m(_tune pid=48447)\u001b[0m       Epoch    GPU_mem   box_loss   cls_loss   dfl_loss  Instances       Size\n"
     ]
    },
    {
     "name": "stderr",
     "output_type": "stream",
     "text": [
      "      22/30      2.09G    0.01818      8.955      1.152         18        640:   7%|▋         | 1/14 [00:00<00:05,  2.55it/s]\n",
      "      21/30       2.1G    0.02142      9.538      1.204         16        640:  86%|████████▌ | 12/14 [00:02<00:00,  6.58it/s]\u001b[32m [repeated 16x across cluster]\u001b[0m\n",
      "      22/30       2.1G    0.02167      9.219      1.199         17        640:  93%|█████████▎| 13/14 [00:03<00:00,  3.47it/s]\n",
      "      22/30      2.13G    0.02118      9.207      1.195          4        640: 100%|██████████| 14/14 [00:04<00:00,  3.28it/s]\n",
      "                 Class     Images  Instances      Box(P          R      mAP50  mAP50-95):   0%|          | 0/2 [00:00<?, ?it/s]\n",
      "                 Class     Images  Instances      Box(P          R      mAP50  mAP50-95):  50%|█████     | 1/2 [00:00<00:00,  2.84it/s]\n",
      "                 Class     Images  Instances      Box(P          R      mAP50  mAP50-95): 100%|██████████| 2/2 [00:00<00:00,  3.95it/s]\n"
     ]
    },
    {
     "name": "stdout",
     "output_type": "stream",
     "text": [
      "\u001b[36m(_tune pid=48447)\u001b[0m                    all         52         54      0.489      0.775      0.598      0.383\n"
     ]
    },
    {
     "name": "stderr",
     "output_type": "stream",
     "text": [
      "  0%|          | 0/14 [00:00<?, ?it/s]\n",
      "      22/30       2.1G    0.02161      9.243      1.202         16        640:  86%|████████▌ | 12/14 [00:03<00:00,  3.66it/s]\u001b[32m [repeated 11x across cluster]\u001b[0m\n"
     ]
    },
    {
     "name": "stdout",
     "output_type": "stream",
     "text": [
      "\u001b[36m(_tune pid=48447)\u001b[0m \n",
      "\u001b[36m(_tune pid=48447)\u001b[0m       Epoch    GPU_mem   box_loss   cls_loss   dfl_loss  Instances       Size\n"
     ]
    },
    {
     "name": "stderr",
     "output_type": "stream",
     "text": [
      "      23/30      2.08G    0.02181      9.836      1.147         18        640:   7%|▋         | 1/14 [00:00<00:05,  2.36it/s]\n",
      "      23/30       2.1G    0.02236      9.579      1.228         18        640:  93%|█████████▎| 13/14 [00:04<00:00,  3.37it/s]\n",
      "      23/30      2.13G    0.02175      9.496       1.21          4        640: 100%|██████████| 14/14 [00:04<00:00,  3.25it/s]\n",
      "                 Class     Images  Instances      Box(P          R      mAP50  mAP50-95):   0%|          | 0/2 [00:00<?, ?it/s]\n",
      "                 Class     Images  Instances      Box(P          R      mAP50  mAP50-95):  50%|█████     | 1/2 [00:00<00:00,  2.48it/s]\n",
      "                 Class     Images  Instances      Box(P          R      mAP50  mAP50-95): 100%|██████████| 2/2 [00:00<00:00,  3.12it/s]\n",
      "      23/30       2.1G    0.02235      9.646      1.227         16        640:  86%|████████▌ | 12/14 [00:03<00:00,  3.37it/s]\u001b[32m [repeated 11x across cluster]\u001b[0m\n"
     ]
    },
    {
     "name": "stdout",
     "output_type": "stream",
     "text": [
      "\u001b[36m(_tune pid=48447)\u001b[0m                    all         52         54      0.443      0.804      0.587      0.398\n"
     ]
    },
    {
     "name": "stderr",
     "output_type": "stream",
     "text": [
      "  0%|          | 0/14 [00:00<?, ?it/s]\n"
     ]
    },
    {
     "name": "stdout",
     "output_type": "stream",
     "text": [
      "\u001b[36m(_tune pid=48447)\u001b[0m \n",
      "\u001b[36m(_tune pid=48447)\u001b[0m       Epoch    GPU_mem   box_loss   cls_loss   dfl_loss  Instances       Size\n"
     ]
    },
    {
     "name": "stderr",
     "output_type": "stream",
     "text": [
      "      24/30       2.1G    0.02505       11.1      1.252         16        640:   7%|▋         | 1/14 [00:00<00:04,  2.68it/s]\n",
      "      24/30       2.1G    0.02338      10.04      1.189         16        640:   7%|▋         | 1/14 [00:00<00:04,  2.68it/s]\n",
      "      24/30       2.1G    0.02338      10.04      1.189         16        640:  14%|█▍        | 2/14 [00:00<00:05,  2.12it/s]\n",
      "      24/30       2.1G    0.02201      9.082      1.171         16        640:  50%|█████     | 7/14 [00:02<00:02,  2.85it/s]\u001b[32m [repeated 5x across cluster]\u001b[0m\n",
      "      24/30       2.1G    0.02344       9.06      1.241         17        640:  93%|█████████▎| 13/14 [00:04<00:00,  2.90it/s]\n",
      "      24/30      2.13G     0.0232      8.974      1.239          4        640: 100%|██████████| 14/14 [00:05<00:00,  2.68it/s]\n",
      "                 Class     Images  Instances      Box(P          R      mAP50  mAP50-95):   0%|          | 0/2 [00:00<?, ?it/s]\n",
      "                 Class     Images  Instances      Box(P          R      mAP50  mAP50-95):  50%|█████     | 1/2 [00:00<00:00,  2.50it/s]\n",
      "                 Class     Images  Instances      Box(P          R      mAP50  mAP50-95): 100%|██████████| 2/2 [00:00<00:00,  3.44it/s]\n"
     ]
    },
    {
     "name": "stdout",
     "output_type": "stream",
     "text": [
      "\u001b[36m(_tune pid=48447)\u001b[0m                    all         52         54      0.519      0.833      0.605        0.4\n"
     ]
    },
    {
     "name": "stderr",
     "output_type": "stream",
     "text": [
      "  0%|          | 0/14 [00:00<?, ?it/s]\n",
      "      24/30       2.1G    0.02355      9.122      1.243         17        640:  86%|████████▌ | 12/14 [00:04<00:00,  2.82it/s]\u001b[32m [repeated 5x across cluster]\u001b[0m\n"
     ]
    },
    {
     "name": "stdout",
     "output_type": "stream",
     "text": [
      "\u001b[36m(_tune pid=48447)\u001b[0m \n",
      "\u001b[36m(_tune pid=48447)\u001b[0m       Epoch    GPU_mem   box_loss   cls_loss   dfl_loss  Instances       Size\n"
     ]
    },
    {
     "name": "stderr",
     "output_type": "stream",
     "text": [
      "      25/30      2.09G     0.0215      7.985      1.111         19        640:   7%|▋         | 1/14 [00:00<00:06,  1.95it/s]\n",
      "      25/30       2.1G    0.02154      8.632      1.199         17        640:  93%|█████████▎| 13/14 [00:04<00:00,  2.78it/s]\n",
      "      25/30      2.13G    0.02145      8.497       1.19          4        640: 100%|██████████| 14/14 [00:05<00:00,  2.65it/s]\n",
      "      25/30       2.1G    0.02153      8.748        1.2         16        640:  86%|████████▌ | 12/14 [00:04<00:00,  2.76it/s]\u001b[32m [repeated 11x across cluster]\u001b[0m\n",
      "                 Class     Images  Instances      Box(P          R      mAP50  mAP50-95):   0%|          | 0/2 [00:00<?, ?it/s]\n",
      "                 Class     Images  Instances      Box(P          R      mAP50  mAP50-95):  50%|█████     | 1/2 [00:00<00:00,  1.49it/s]\n",
      "                 Class     Images  Instances      Box(P          R      mAP50  mAP50-95): 100%|██████████| 2/2 [00:00<00:00,  2.37it/s]\n"
     ]
    },
    {
     "name": "stdout",
     "output_type": "stream",
     "text": [
      "\u001b[36m(_tune pid=48447)\u001b[0m                    all         52         54      0.498      0.742      0.559      0.374\n"
     ]
    },
    {
     "name": "stderr",
     "output_type": "stream",
     "text": [
      "  0%|          | 0/14 [00:00<?, ?it/s]\n",
      "      26/30      2.09G    0.01911      9.137      1.123         17        640:   7%|▋         | 1/14 [00:00<00:02,  5.84it/s]\n"
     ]
    },
    {
     "name": "stdout",
     "output_type": "stream",
     "text": [
      "\u001b[36m(_tune pid=48447)\u001b[0m \n",
      "\u001b[36m(_tune pid=48447)\u001b[0m       Epoch    GPU_mem   box_loss   cls_loss   dfl_loss  Instances       Size\n"
     ]
    },
    {
     "name": "stderr",
     "output_type": "stream",
     "text": [
      "      26/30       2.1G    0.02043      8.506      1.155         18        640:  86%|████████▌ | 12/14 [00:01<00:00,  6.60it/s]\n",
      "      26/30       2.1G    0.02043      8.506      1.155         18        640:  93%|█████████▎| 13/14 [00:01<00:00,  7.01it/s]\n",
      "      26/30      2.13G    0.02027      8.556      1.147          5        640: 100%|██████████| 14/14 [00:02<00:00,  6.90it/s]\n",
      "                 Class     Images  Instances      Box(P          R      mAP50  mAP50-95):   0%|          | 0/2 [00:00<?, ?it/s]\n",
      "                 Class     Images  Instances      Box(P          R      mAP50  mAP50-95):  50%|█████     | 1/2 [00:00<00:00,  6.31it/s]\n",
      "                 Class     Images  Instances      Box(P          R      mAP50  mAP50-95): 100%|██████████| 2/2 [00:00<00:00,  7.66it/s]\n"
     ]
    },
    {
     "name": "stdout",
     "output_type": "stream",
     "text": [
      "\u001b[36m(_tune pid=48447)\u001b[0m                    all         52         54      0.471      0.786      0.537      0.347\n"
     ]
    },
    {
     "name": "stderr",
     "output_type": "stream",
     "text": [
      "  0%|          | 0/14 [00:00<?, ?it/s]\n",
      "      26/30       2.1G    0.02013       8.43      1.148         16        640:  86%|████████▌ | 12/14 [00:01<00:00,  6.60it/s]\u001b[32m [repeated 11x across cluster]\u001b[0m\n",
      "      27/30      2.08G    0.01815      8.191      1.164         17        640:   7%|▋         | 1/14 [00:00<00:01,  8.18it/s]\n"
     ]
    },
    {
     "name": "stdout",
     "output_type": "stream",
     "text": [
      "\u001b[36m(_tune pid=48447)\u001b[0m \n",
      "\u001b[36m(_tune pid=48447)\u001b[0m       Epoch    GPU_mem   box_loss   cls_loss   dfl_loss  Instances       Size\n"
     ]
    },
    {
     "name": "stderr",
     "output_type": "stream",
     "text": [
      "      27/30       2.1G    0.02245       9.11      1.251         16        640:  93%|█████████▎| 13/14 [00:01<00:00,  6.43it/s]\n",
      "      27/30      2.13G    0.02216      8.914      1.242          4        640: 100%|██████████| 14/14 [00:02<00:00,  6.80it/s]\n",
      "                 Class     Images  Instances      Box(P          R      mAP50  mAP50-95):   0%|          | 0/2 [00:00<?, ?it/s]\n",
      "                 Class     Images  Instances      Box(P          R      mAP50  mAP50-95):  50%|█████     | 1/2 [00:00<00:00,  4.09it/s]\n",
      "                 Class     Images  Instances      Box(P          R      mAP50  mAP50-95): 100%|██████████| 2/2 [00:00<00:00,  5.45it/s]\n"
     ]
    },
    {
     "name": "stdout",
     "output_type": "stream",
     "text": [
      "\u001b[36m(_tune pid=48447)\u001b[0m                    all         52         54      0.486      0.729      0.586      0.395\n",
      "\u001b[36m(_tune pid=48447)\u001b[0m \n",
      "\u001b[36m(_tune pid=48447)\u001b[0m       Epoch    GPU_mem   box_loss   cls_loss   dfl_loss  Instances       Size\n"
     ]
    },
    {
     "name": "stderr",
     "output_type": "stream",
     "text": [
      "  0%|          | 0/14 [00:00<?, ?it/s]\n",
      "      28/30      2.09G    0.02195      8.131      1.176         17        640:   7%|▋         | 1/14 [00:00<00:02,  4.33it/s]\n",
      "      28/30      2.09G    0.02298      8.139      1.224         18        640:  29%|██▊       | 4/14 [00:00<00:02,  4.80it/s]\u001b[32m [repeated 14x across cluster]\u001b[0m\n",
      "      28/30       2.1G    0.02191      8.544      1.229         17        640:  93%|█████████▎| 13/14 [00:03<00:00,  2.96it/s]\n",
      "      28/30      2.13G    0.02209      8.541      1.229          4        640: 100%|██████████| 14/14 [00:04<00:00,  3.17it/s]\n",
      "                 Class     Images  Instances      Box(P          R      mAP50  mAP50-95):   0%|          | 0/2 [00:00<?, ?it/s]\n",
      "                 Class     Images  Instances      Box(P          R      mAP50  mAP50-95):  50%|█████     | 1/2 [00:00<00:00,  1.93it/s]\n",
      "                 Class     Images  Instances      Box(P          R      mAP50  mAP50-95): 100%|██████████| 2/2 [00:00<00:00,  2.12it/s]\n"
     ]
    },
    {
     "name": "stdout",
     "output_type": "stream",
     "text": [
      "\u001b[36m(_tune pid=48447)\u001b[0m                    all         52         54       0.45      0.753      0.561      0.348\n"
     ]
    },
    {
     "name": "stderr",
     "output_type": "stream",
     "text": [
      "  0%|          | 0/14 [00:00<?, ?it/s]\n",
      "      28/30       2.1G    0.02188      8.367      1.224         16        640:  86%|████████▌ | 12/14 [00:03<00:00,  2.94it/s]\u001b[32m [repeated 8x across cluster]\u001b[0m\n",
      "      29/30      2.08G    0.01819      7.262      1.085         16        640:   7%|▋         | 1/14 [00:00<00:02,  4.98it/s]\n"
     ]
    },
    {
     "name": "stdout",
     "output_type": "stream",
     "text": [
      "\u001b[36m(_tune pid=48447)\u001b[0m \n",
      "\u001b[36m(_tune pid=48447)\u001b[0m       Epoch    GPU_mem   box_loss   cls_loss   dfl_loss  Instances       Size\n"
     ]
    },
    {
     "name": "stderr",
     "output_type": "stream",
     "text": [
      "      29/30       2.1G    0.02194      8.298      1.198         17        640:  93%|█████████▎| 13/14 [00:04<00:00,  3.07it/s]\n",
      "      29/30      2.13G    0.02212      8.286      1.198          4        640: 100%|██████████| 14/14 [00:04<00:00,  3.23it/s]\n",
      "                 Class     Images  Instances      Box(P          R      mAP50  mAP50-95):   0%|          | 0/2 [00:00<?, ?it/s]\n",
      "                 Class     Images  Instances      Box(P          R      mAP50  mAP50-95):  50%|█████     | 1/2 [00:00<00:00,  2.32it/s]\n",
      "                 Class     Images  Instances      Box(P          R      mAP50  mAP50-95): 100%|██████████| 2/2 [00:00<00:00,  2.61it/s]\n",
      "      29/30       2.1G     0.0222      8.248      1.205         19        640:  86%|████████▌ | 12/14 [00:03<00:00,  2.81it/s]\u001b[32m [repeated 11x across cluster]\u001b[0m\n"
     ]
    },
    {
     "name": "stdout",
     "output_type": "stream",
     "text": [
      "\u001b[36m(_tune pid=48447)\u001b[0m                    all         52         54      0.504      0.746      0.558      0.351\n"
     ]
    },
    {
     "name": "stderr",
     "output_type": "stream",
     "text": [
      "  0%|          | 0/14 [00:00<?, ?it/s]\n"
     ]
    },
    {
     "name": "stdout",
     "output_type": "stream",
     "text": [
      "\u001b[36m(_tune pid=48447)\u001b[0m \n",
      "\u001b[36m(_tune pid=48447)\u001b[0m       Epoch    GPU_mem   box_loss   cls_loss   dfl_loss  Instances       Size\n"
     ]
    },
    {
     "name": "stderr",
     "output_type": "stream",
     "text": [
      "      30/30       2.1G    0.01819      9.231      1.109         16        640:   7%|▋         | 1/14 [00:00<00:03,  3.90it/s]\n",
      "      30/30       2.1G    0.02178      8.121      1.182         17        640:  93%|█████████▎| 13/14 [00:02<00:00,  4.63it/s]\n",
      "      30/30      2.13G    0.02139      7.945      1.171          4        640: 100%|██████████| 14/14 [00:03<00:00,  4.33it/s]\n",
      "                 Class     Images  Instances      Box(P          R      mAP50  mAP50-95):   0%|          | 0/2 [00:00<?, ?it/s]\n",
      "      30/30       2.1G    0.02177      8.022      1.182         16        640:  86%|████████▌ | 12/14 [00:02<00:00,  4.46it/s]\u001b[32m [repeated 11x across cluster]\u001b[0m\n",
      "                 Class     Images  Instances      Box(P          R      mAP50  mAP50-95):  50%|█████     | 1/2 [00:00<00:00,  2.95it/s]\n",
      "                 Class     Images  Instances      Box(P          R      mAP50  mAP50-95): 100%|██████████| 2/2 [00:00<00:00,  3.46it/s]\n"
     ]
    },
    {
     "name": "stdout",
     "output_type": "stream",
     "text": [
      "\u001b[36m(_tune pid=48447)\u001b[0m                    all         52         54      0.466      0.783      0.508      0.319\n",
      "\u001b[36m(_tune pid=48447)\u001b[0m \n",
      "\u001b[36m(_tune pid=48447)\u001b[0m 30 epochs completed in 0.041 hours.\n",
      "\u001b[36m(_tune pid=48447)\u001b[0m Optimizer stripped from runs/detect/tune/tune_raytune/weights/last.pt, 6.2MB\n",
      "\u001b[36m(_tune pid=48447)\u001b[0m Optimizer stripped from runs/detect/tune/tune_raytune/weights/best.pt, 6.2MB\n",
      "\u001b[36m(_tune pid=48447)\u001b[0m \n",
      "\u001b[36m(_tune pid=48447)\u001b[0m Validating runs/detect/tune/tune_raytune/weights/best.pt...\n",
      "\u001b[36m(_tune pid=48447)\u001b[0m Ultralytics YOLOv8.2.70 🚀 Python-3.10.14 torch-2.1.0 CUDA:0 (NVIDIA GeForce RTX 3090, 24260MiB)\n",
      "\u001b[36m(_tune pid=48447)\u001b[0m Model summary (fused): 168 layers, 3,006,038 parameters, 0 gradients, 8.1 GFLOPs\n"
     ]
    },
    {
     "name": "stderr",
     "output_type": "stream",
     "text": [
      "                 Class     Images  Instances      Box(P          R      mAP50  mAP50-95):   0%|          | 0/2 [00:00<?, ?it/s]\n",
      "                 Class     Images  Instances      Box(P          R      mAP50  mAP50-95):  50%|█████     | 1/2 [00:00<00:00,  2.48it/s]\n",
      "                 Class     Images  Instances      Box(P          R      mAP50  mAP50-95): 100%|██████████| 2/2 [00:00<00:00,  2.79it/s]\n"
     ]
    },
    {
     "name": "stdout",
     "output_type": "stream",
     "text": [
      "\u001b[36m(_tune pid=48447)\u001b[0m                    all         52         54      0.446      0.902      0.574      0.403\n",
      "\u001b[36m(_tune pid=48447)\u001b[0m               negative         30         30      0.573          1      0.757       0.54\n",
      "\u001b[36m(_tune pid=48447)\u001b[0m               positive         22         24       0.32      0.803      0.391      0.266\n",
      "\u001b[36m(_tune pid=48447)\u001b[0m Speed: 0.2ms preprocess, 0.9ms inference, 0.0ms loss, 2.2ms postprocess per image\n",
      "\u001b[36m(_tune pid=48447)\u001b[0m Results saved to \u001b[1mruns/detect/tune/tune_raytune\u001b[0m\n"
     ]
    },
    {
     "name": "stderr",
     "output_type": "stream",
     "text": [
      "       1/30      2.12G    0.04271      4.929      2.058         31        640:  64%|██████▍   | 9/14 [02:43<02:36, 31.34s/it]\n",
      "       1/30      2.12G    0.04229      4.884      2.026         33        640:  71%|███████▏  | 10/14 [02:43<01:26, 21.72s/it]\n",
      "       1/30      2.12G    0.04147      4.819      1.976         33        640:  79%|███████▊  | 11/14 [02:43<00:45, 15.13s/it]\n"
     ]
    },
    {
     "name": "stdout",
     "output_type": "stream",
     "text": [
      "\u001b[36m(_tune pid=5862)\u001b[0m Ultralytics YOLOv8.2.70 🚀 Python-3.10.14 torch-2.1.0 CUDA:0 (NVIDIA GeForce RTX 3090, 24260MiB)\n",
      "\u001b[36m(_tune pid=5862)\u001b[0m \u001b[34m\u001b[1mengine/trainer: \u001b[0mtask=detect, mode=train, model=/home/under1/Detect/jeongui/sagittal/test/runs/detect/train/train_base/weights/best.pt, data=/home/under1/Detect/jeongui/sagittal/test/test.yaml, epochs=30, time=None, patience=100, batch=16, imgsz=640, save=True, save_period=-1, cache=False, device=None, workers=8, project=None, name=tune_raytune, exist_ok=False, pretrained=True, optimizer=auto, verbose=True, seed=0, deterministic=True, single_cls=False, rect=False, cos_lr=False, close_mosaic=10, resume=False, amp=True, fraction=1.0, profile=False, freeze=None, multi_scale=False, overlap_mask=True, mask_ratio=4, dropout=0.0, val=True, split=val, save_json=False, save_hybrid=False, conf=None, iou=0.7, max_det=300, half=False, dnn=False, plots=True, source=None, vid_stride=1, stream_buffer=False, visualize=False, augment=False, agnostic_nms=False, classes=None, retina_masks=False, embed=None, show=False, save_frames=False, save_txt=False, save_conf=False, save_crop=False, show_labels=True, show_conf=True, show_boxes=True, line_width=None, format=torchscript, keras=False, optimize=False, int8=False, dynamic=False, simplify=False, opset=None, workspace=4, nms=False, lr0=0.06430844655636468, lrf=0.6872060980956155, momentum=0.6409484237998967, weight_decay=0.0004602781864039577, warmup_epochs=4.781667507609394, warmup_momentum=0.7221785271758634, warmup_bias_lr=0.1, box=0.19848783413970988, cls=3.956306931910755, dfl=1.5, pose=12.0, kobj=1.0, label_smoothing=0.0, nbs=64, hsv_h=0.0316963837889447, hsv_s=0.18183940062140097, hsv_v=0.3059971091168435, degrees=2.597446033754578, translate=0.3480793758411387, scale=0.3563173408783899, shear=7.166996738201847, perspective=9.210528187486455e-05, flipud=0.3526962778785624, fliplr=0.11034604560987393, bgr=0.9284770175268107, mosaic=0.5367182931695973, mixup=0.7293672888990529, copy_paste=0.8018278829635839, auto_augment=randaugment, erasing=0.4, crop_fraction=1.0, cfg=None, tracker=botsort.yaml, save_dir=runs/detect/tune/tune_raytune\n",
      "\u001b[36m(_tune pid=5862)\u001b[0m \n",
      "\u001b[36m(_tune pid=5862)\u001b[0m                    from  n    params  module                                       arguments                     \n",
      "\u001b[36m(_tune pid=5862)\u001b[0m   0                  -1  1       464  ultralytics.nn.modules.conv.Conv             [3, 16, 3, 2]                 \n",
      "\u001b[36m(_tune pid=5862)\u001b[0m   1                  -1  1      4672  ultralytics.nn.modules.conv.Conv             [16, 32, 3, 2]                \n",
      "\u001b[36m(_tune pid=5862)\u001b[0m   2                  -1  1      7360  ultralytics.nn.modules.block.C2f             [32, 32, 1, True]             \n",
      "\u001b[36m(_tune pid=5862)\u001b[0m   3                  -1  1     18560  ultralytics.nn.modules.conv.Conv             [32, 64, 3, 2]                \n",
      "\u001b[36m(_tune pid=5862)\u001b[0m   4                  -1  2     49664  ultralytics.nn.modules.block.C2f             [64, 64, 2, True]             \n",
      "\u001b[36m(_tune pid=5862)\u001b[0m   5                  -1  1     73984  ultralytics.nn.modules.conv.Conv             [64, 128, 3, 2]               \n",
      "\u001b[36m(_tune pid=5862)\u001b[0m   6                  -1  2    197632  ultralytics.nn.modules.block.C2f             [128, 128, 2, True]           \n",
      "\u001b[36m(_tune pid=5862)\u001b[0m   7                  -1  1    295424  ultralytics.nn.modules.conv.Conv             [128, 256, 3, 2]              \n",
      "\u001b[36m(_tune pid=5862)\u001b[0m   8                  -1  1    460288  ultralytics.nn.modules.block.C2f             [256, 256, 1, True]           \n",
      "\u001b[36m(_tune pid=5862)\u001b[0m   9                  -1  1    164608  ultralytics.nn.modules.block.SPPF            [256, 256, 5]                 \n",
      "\u001b[36m(_tune pid=5862)\u001b[0m  10                  -1  1         0  torch.nn.modules.upsampling.Upsample         [None, 2, 'nearest']          \n",
      "\u001b[36m(_tune pid=5862)\u001b[0m  11             [-1, 6]  1         0  ultralytics.nn.modules.conv.Concat           [1]                           \n",
      "\u001b[36m(_tune pid=5862)\u001b[0m  12                  -1  1    148224  ultralytics.nn.modules.block.C2f             [384, 128, 1]                 \n",
      "\u001b[36m(_tune pid=5862)\u001b[0m  13                  -1  1         0  torch.nn.modules.upsampling.Upsample         [None, 2, 'nearest']          \n",
      "\u001b[36m(_tune pid=5862)\u001b[0m  14             [-1, 4]  1         0  ultralytics.nn.modules.conv.Concat           [1]                           \n",
      "\u001b[36m(_tune pid=5862)\u001b[0m  15                  -1  1     37248  ultralytics.nn.modules.block.C2f             [192, 64, 1]                  \n",
      "\u001b[36m(_tune pid=5862)\u001b[0m  16                  -1  1     36992  ultralytics.nn.modules.conv.Conv             [64, 64, 3, 2]                \n",
      "\u001b[36m(_tune pid=5862)\u001b[0m  17            [-1, 12]  1         0  ultralytics.nn.modules.conv.Concat           [1]                           \n",
      "\u001b[36m(_tune pid=5862)\u001b[0m  18                  -1  1    123648  ultralytics.nn.modules.block.C2f             [192, 128, 1]                 \n",
      "\u001b[36m(_tune pid=5862)\u001b[0m  19                  -1  1    147712  ultralytics.nn.modules.conv.Conv             [128, 128, 3, 2]              \n",
      "\u001b[36m(_tune pid=5862)\u001b[0m  20             [-1, 9]  1         0  ultralytics.nn.modules.conv.Concat           [1]                           \n",
      "\u001b[36m(_tune pid=5862)\u001b[0m  21                  -1  1    493056  ultralytics.nn.modules.block.C2f             [384, 256, 1]                 \n",
      "\u001b[36m(_tune pid=5862)\u001b[0m  22        [15, 18, 21]  1    751702  ultralytics.nn.modules.head.Detect           [2, [64, 128, 256]]           \n",
      "\u001b[36m(_tune pid=5862)\u001b[0m Model summary: 225 layers, 3,011,238 parameters, 3,011,222 gradients, 8.2 GFLOPs\n",
      "\u001b[36m(_tune pid=5862)\u001b[0m \n",
      "\u001b[36m(_tune pid=5862)\u001b[0m Transferred 355/355 items from pretrained weights\n",
      "\u001b[36m(_tune pid=5862)\u001b[0m \u001b[34m\u001b[1mTensorBoard: \u001b[0mStart with 'tensorboard --logdir runs/detect/tune/tune_raytune', view at http://localhost:6006/\n",
      "\u001b[36m(_tune pid=5862)\u001b[0m Freezing layer 'model.22.dfl.conv.weight'\n",
      "\u001b[36m(_tune pid=5862)\u001b[0m \u001b[34m\u001b[1mAMP: \u001b[0mrunning Automatic Mixed Precision (AMP) checks with YOLOv8n...\n",
      "\u001b[36m(_tune pid=5862)\u001b[0m Downloading https://github.com/ultralytics/assets/releases/download/v8.2.0/yolov8n.pt to 'yolov8n.pt'...\n"
     ]
    },
    {
     "name": "stderr",
     "output_type": "stream",
     "text": [
      "100%|██████████| 6.25M/6.25M [00:00<00:00, 109MB/s]\n",
      "       2/30      2.08G    0.01214      7.138       1.49         41        640:  21%|██▏       | 3/14 [02:44<13:46, 75.12s/it]\n",
      "       2/30      2.08G    0.01198      7.183      1.478         40        640:  29%|██▊       | 4/14 [02:44<07:35, 45.53s/it]\n",
      "       2/30      2.09G    0.01319      6.778      1.518         12        640:  79%|███████▊  | 11/14 [02:46<01:14, 24.78s/it]\n",
      "       2/30      2.09G    0.01343       6.82      1.539         21        640:  93%|█████████▎| 13/14 [02:46<00:13, 13.28s/it]\n",
      "       2/30      2.12G    0.01324      6.887      1.512          2        640: 100%|██████████| 14/14 [02:46<00:00, 11.88s/it]\n",
      "                 Class     Images  Instances      Box(P          R      mAP50  mAP50-95):   0%|          | 0/2 [00:00<?, ?it/s]\n",
      "                 Class     Images  Instances      Box(P          R      mAP50  mAP50-95):  50%|█████     | 1/2 [00:00<00:00,  4.16it/s]\n",
      "                 Class     Images  Instances      Box(P          R      mAP50  mAP50-95): 100%|██████████| 2/2 [00:00<00:00,  5.14it/s]\n"
     ]
    },
    {
     "name": "stdout",
     "output_type": "stream",
     "text": [
      "\u001b[36m(_tune pid=48448)\u001b[0m                    all         52         54      0.461      0.854       0.52      0.242\n"
     ]
    },
    {
     "name": "stderr",
     "output_type": "stream",
     "text": [
      "       1/30      2.16G    0.03931      4.691      1.872          8        640: 100%|██████████| 14/14 [02:52<00:00, 12.31s/it]\n",
      "       2/30      2.13G    0.01166      7.332      1.511          8        640: 100%|██████████| 14/14 [02:46<00:00, 11.90s/it]\n"
     ]
    },
    {
     "name": "stdout",
     "output_type": "stream",
     "text": [
      "\u001b[36m(_tune pid=48448)\u001b[0m \n",
      "\u001b[36m(_tune pid=48448)\u001b[0m       Epoch    GPU_mem   box_loss   cls_loss   dfl_loss  Instances       Size\n"
     ]
    },
    {
     "name": "stderr",
     "output_type": "stream",
     "text": [
      "  0%|          | 0/14 [00:00<?, ?it/s]\n",
      "       3/30       2.1G    0.01359      7.467      1.421         13        640:   7%|▋         | 1/14 [00:00<00:02,  4.90it/s]\n"
     ]
    },
    {
     "name": "stdout",
     "output_type": "stream",
     "text": [
      "\u001b[36m(_tune pid=5862)\u001b[0m \u001b[34m\u001b[1mAMP: \u001b[0mchecks passed ✅\n"
     ]
    },
    {
     "name": "stderr",
     "output_type": "stream",
     "text": [
      "\u001b[34m\u001b[1mtrain: \u001b[0mScanning /home/under1/Detect/jeongui/sagittal/base/labels/train.cache... 212 images, 0 backgrounds, 0 corrupt: 100%|██████████| 212/212 [00:00<?, ?it/s]\n"
     ]
    },
    {
     "name": "stdout",
     "output_type": "stream",
     "text": [
      "\u001b[36m(_tune pid=48449)\u001b[0m \n",
      "\u001b[36m(_tune pid=48446)\u001b[0m \n"
     ]
    },
    {
     "name": "stderr",
     "output_type": "stream",
     "text": [
      "       3/30       2.1G    0.01173      7.575      1.462         33        640:  43%|████▎     | 6/14 [00:00<00:01,  6.30it/s]\u001b[32m [repeated 19x across cluster]\u001b[0m\n"
     ]
    },
    {
     "name": "stdout",
     "output_type": "stream",
     "text": [
      "\u001b[36m(_tune pid=5862)\u001b[0m \u001b[34m\u001b[1malbumentations: \u001b[0mBlur(p=0.01, blur_limit=(3, 7)), MedianBlur(p=0.01, blur_limit=(3, 7)), ToGray(p=0.01), CLAHE(p=0.01, clip_limit=(1, 4.0), tile_grid_size=(8, 8))\n"
     ]
    },
    {
     "name": "stderr",
     "output_type": "stream",
     "text": [
      "\u001b[36m(_tune pid=5862)\u001b[0m INFO:albumentations.check_version:A new version of Albumentations is available: 1.4.12 (you have 1.4.10). Upgrade using: pip install --upgrade albumentations\n",
      "\u001b[34m\u001b[1mval: \u001b[0mScanning /home/under1/Detect/jeongui/sagittal/base/labels/val.cache... 52 images, 0 backgrounds, 0 corrupt: 100%|██████████| 52/52 [00:00<?, ?it/s]\n",
      "       2/30      2.09G     0.0118      7.355      1.527         35        640:  93%|█████████▎| 13/14 [02:46<00:01,  1.59s/it]\u001b[32m [repeated 2x across cluster]\u001b[0m\n",
      "                 Class     Images  Instances      Box(P          R      mAP50  mAP50-95):   0%|          | 0/2 [00:00<?, ?it/s]\u001b[32m [repeated 2x across cluster]\u001b[0m\n",
      "                 Class     Images  Instances      Box(P          R      mAP50  mAP50-95):  50%|█████     | 1/2 [00:00<00:00,  1.46it/s]\u001b[32m [repeated 2x across cluster]\u001b[0m\n",
      "                 Class     Images  Instances      Box(P          R      mAP50  mAP50-95): 100%|██████████| 2/2 [00:01<00:00,  1.68it/s]\u001b[32m [repeated 2x across cluster]\u001b[0m\n"
     ]
    },
    {
     "name": "stdout",
     "output_type": "stream",
     "text": [
      "\u001b[36m(_tune pid=5862)\u001b[0m Plotting labels to runs/detect/tune/tune_raytune/labels.jpg... \n",
      "\u001b[36m(_tune pid=48446)\u001b[0m                    all         52         54      0.496        0.9      0.538      0.267\u001b[32m [repeated 2x across cluster]\u001b[0m\n",
      "\u001b[36m(_tune pid=48446)\u001b[0m       Epoch    GPU_mem   box_loss   cls_loss   dfl_loss  Instances       Size\u001b[32m [repeated 2x across cluster]\u001b[0m\n",
      "\u001b[36m(_tune pid=5862)\u001b[0m \u001b[34m\u001b[1moptimizer:\u001b[0m 'optimizer=auto' found, ignoring 'lr0=0.06430844655636468' and 'momentum=0.6409484237998967' and determining best 'optimizer', 'lr0' and 'momentum' automatically... \n",
      "\u001b[36m(_tune pid=5862)\u001b[0m \u001b[34m\u001b[1moptimizer:\u001b[0m AdamW(lr=0.001667, momentum=0.9) with parameter groups 57 weight(decay=0.0), 64 weight(decay=0.0004602781864039577), 63 bias(decay=0.0)\n",
      "\u001b[36m(_tune pid=5862)\u001b[0m \u001b[34m\u001b[1mTensorBoard: \u001b[0mmodel graph visualization added ✅\n",
      "\u001b[36m(_tune pid=5862)\u001b[0m Image sizes 640 train, 640 val\n",
      "\u001b[36m(_tune pid=5862)\u001b[0m Using 8 dataloader workers\n",
      "\u001b[36m(_tune pid=5862)\u001b[0m Logging results to \u001b[1mruns/detect/tune/tune_raytune\u001b[0m\n",
      "\u001b[36m(_tune pid=5862)\u001b[0m Starting training for 30 epochs...\n",
      "\u001b[36m(_tune pid=5862)\u001b[0m \n",
      "\u001b[36m(_tune pid=5862)\u001b[0m       Epoch    GPU_mem   box_loss   cls_loss   dfl_loss  Instances       Size\n"
     ]
    },
    {
     "name": "stderr",
     "output_type": "stream",
     "text": [
      "  0%|          | 0/14 [00:00<?, ?it/s]\u001b[32m [repeated 3x across cluster]\u001b[0m\n",
      "       2/30      2.08G    0.03098      4.415      1.418         37        640:   7%|▋         | 1/14 [00:00<00:02,  5.14it/s]\u001b[32m [repeated 2x across cluster]\u001b[0m\n",
      "       3/30       2.1G    0.01182      7.701      1.477         28        640:  57%|█████▋    | 8/14 [00:01<00:00,  6.39it/s]\u001b[32m [repeated 2x across cluster]\u001b[0m\n",
      "       1/30      2.12G    0.03543      13.26      1.243         27        640:   7%|▋         | 1/14 [00:01<00:13,  1.06s/it]\n",
      "       1/30      2.12G    0.03543      13.26      1.243         27        640:  14%|█▍        | 2/14 [00:01<00:06,  1.75it/s]\n",
      "       1/30      2.39G    0.03511      13.32      1.284         32        640:  93%|█████████▎| 13/14 [00:03<00:00,  7.74it/s]\n",
      "       1/30      2.43G    0.03503      13.27      1.269         12        640: 100%|██████████| 14/14 [00:03<00:00,  3.64it/s]\n",
      "                 Class     Images  Instances      Box(P          R      mAP50  mAP50-95):   0%|          | 0/2 [00:00<?, ?it/s]\n",
      "                 Class     Images  Instances      Box(P          R      mAP50  mAP50-95):  50%|█████     | 1/2 [00:00<00:00,  3.19it/s]\n"
     ]
    },
    {
     "name": "stdout",
     "output_type": "stream",
     "text": [
      "\u001b[36m(_tune pid=5862)\u001b[0m                    all         52         54      0.465      0.879      0.536      0.393\n"
     ]
    },
    {
     "name": "stderr",
     "output_type": "stream",
     "text": [
      "                 Class     Images  Instances      Box(P          R      mAP50  mAP50-95): 100%|██████████| 2/2 [00:00<00:00,  3.43it/s]\n"
     ]
    },
    {
     "name": "stdout",
     "output_type": "stream",
     "text": [
      "\u001b[36m(_tune pid=5862)\u001b[0m \n",
      "\u001b[36m(_tune pid=5862)\u001b[0m       Epoch    GPU_mem   box_loss   cls_loss   dfl_loss  Instances       Size\n"
     ]
    },
    {
     "name": "stderr",
     "output_type": "stream",
     "text": [
      "  0%|          | 0/14 [00:00<?, ?it/s]\n",
      "       1/30      2.12G     0.0378      13.13      1.265         30        640:   7%|▋         | 1/14 [00:01<00:13,  1.06s/it]\n",
      "       1/30      2.39G    0.03567      13.54        1.3         34        640:  86%|████████▌ | 12/14 [00:03<00:00,  7.50it/s]\u001b[32m [repeated 10x across cluster]\u001b[0m\n",
      "       2/30      2.08G    0.03671      13.01      1.362         41        640:   7%|▋         | 1/14 [00:00<00:01,  8.50it/s]\n",
      "       2/30      2.08G    0.03226      12.13      1.213         30        640:  21%|██▏       | 3/14 [00:00<00:01,  8.21it/s]\n",
      "       2/30      2.09G    0.03129      11.84      1.202         29        640:  36%|███▌      | 5/14 [00:00<00:01,  8.47it/s]\n",
      "       2/30      2.09G     0.0319      11.82      1.224         37        640:  50%|█████     | 7/14 [00:00<00:00,  8.64it/s]\n",
      "       2/30      2.09G    0.03128      11.83      1.202         47        640:  64%|██████▍   | 9/14 [00:01<00:00,  8.25it/s]\n",
      "       2/30      2.09G    0.03061      11.79      1.193         36        640:  79%|███████▊  | 11/14 [00:01<00:00,  8.50it/s]\n",
      "       2/30      2.09G    0.03037      11.72      1.187         34        640:  93%|█████████▎| 13/14 [00:01<00:00,  8.72it/s]\n",
      "       2/30      2.13G    0.03028      11.73      1.182         10        640: 100%|██████████| 14/14 [00:01<00:00,  8.73it/s]\n",
      "                 Class     Images  Instances      Box(P          R      mAP50  mAP50-95):   0%|          | 0/2 [00:00<?, ?it/s]\n",
      "                 Class     Images  Instances      Box(P          R      mAP50  mAP50-95):  50%|█████     | 1/2 [00:00<00:00,  6.08it/s]\n",
      "                 Class     Images  Instances      Box(P          R      mAP50  mAP50-95): 100%|██████████| 2/2 [00:00<00:00,  7.49it/s]\n"
     ]
    },
    {
     "name": "stdout",
     "output_type": "stream",
     "text": [
      "\u001b[36m(_tune pid=5862)\u001b[0m                    all         52         54        0.5      0.688      0.546      0.375\n",
      "\u001b[36m(_tune pid=5862)\u001b[0m \n",
      "\u001b[36m(_tune pid=5862)\u001b[0m       Epoch    GPU_mem   box_loss   cls_loss   dfl_loss  Instances       Size\n"
     ]
    },
    {
     "name": "stderr",
     "output_type": "stream",
     "text": [
      "  0%|          | 0/14 [00:00<?, ?it/s]\n",
      "       3/30      2.09G    0.03193      12.71      1.203         33        640:   7%|▋         | 1/14 [00:00<00:01,  7.47it/s]\n",
      "       3/30      2.09G    0.03302      12.48      1.209         28        640:   7%|▋         | 1/14 [00:00<00:01,  7.47it/s]\n",
      "       3/30      2.09G    0.03226      12.21      1.226         32        640:  21%|██▏       | 3/14 [00:00<00:01,  8.38it/s]\n",
      "       3/30      2.09G    0.03226      12.21      1.226         32        640:  29%|██▊       | 4/14 [00:00<00:01,  8.47it/s]\n",
      "       3/30      2.09G    0.03298       12.2      1.243         34        640:  50%|█████     | 7/14 [00:01<00:00,  7.39it/s]\n",
      "       3/30      2.09G    0.03273      12.24      1.244         39        640:  64%|██████▍   | 9/14 [00:01<00:00,  7.79it/s]\n",
      "       3/30      2.09G    0.03254      12.06      1.235         36        640:  93%|█████████▎| 13/14 [00:01<00:00,  7.42it/s]\n",
      "       3/30      2.13G    0.03301      12.06      1.244         13        640: 100%|██████████| 14/14 [00:01<00:00,  7.83it/s]\n",
      "                 Class     Images  Instances      Box(P          R      mAP50  mAP50-95):   0%|          | 0/2 [00:00<?, ?it/s]\n",
      "                 Class     Images  Instances      Box(P          R      mAP50  mAP50-95):  50%|█████     | 1/2 [00:00<00:00,  7.19it/s]\n",
      "                 Class     Images  Instances      Box(P          R      mAP50  mAP50-95): 100%|██████████| 2/2 [00:00<00:00,  8.46it/s]\n"
     ]
    },
    {
     "name": "stdout",
     "output_type": "stream",
     "text": [
      "\u001b[36m(_tune pid=5862)\u001b[0m                    all         52         54      0.463      0.788      0.537      0.332\n",
      "\u001b[36m(_tune pid=5862)\u001b[0m \n",
      "\u001b[36m(_tune pid=5862)\u001b[0m       Epoch    GPU_mem   box_loss   cls_loss   dfl_loss  Instances       Size\n"
     ]
    },
    {
     "name": "stderr",
     "output_type": "stream",
     "text": [
      "  0%|          | 0/14 [00:00<?, ?it/s]\n",
      "       3/30      2.09G     0.0329      12.14      1.246         35        640:  86%|████████▌ | 12/14 [00:01<00:00,  7.99it/s]\u001b[32m [repeated 11x across cluster]\u001b[0m\n",
      "       4/30       2.1G     0.0306      10.63      1.125         39        640:   7%|▋         | 1/14 [00:00<00:02,  5.76it/s]\n",
      "       4/30       2.1G    0.03337      12.51      1.233         31        640:  36%|███▌      | 5/14 [00:00<00:01,  7.75it/s]\n",
      "       4/30       2.1G    0.03317      12.52      1.225         34        640:  50%|█████     | 7/14 [00:00<00:00,  8.53it/s]\n",
      "       4/30       2.1G    0.03373      12.54      1.238         38        640:  64%|██████▍   | 9/14 [00:01<00:00,  8.91it/s]\n",
      "       4/30       2.1G    0.03463      12.45      1.256         34        640:  86%|████████▌ | 12/14 [00:01<00:00,  8.68it/s]\n",
      "       4/30      2.14G    0.03456      12.39      1.246          8        640: 100%|██████████| 14/14 [00:01<00:00,  8.62it/s]\n",
      "                 Class     Images  Instances      Box(P          R      mAP50  mAP50-95):   0%|          | 0/2 [00:00<?, ?it/s]\n",
      "                 Class     Images  Instances      Box(P          R      mAP50  mAP50-95):  50%|█████     | 1/2 [00:00<00:00,  6.78it/s]\n",
      "                 Class     Images  Instances      Box(P          R      mAP50  mAP50-95): 100%|██████████| 2/2 [00:00<00:00,  8.02it/s]\n"
     ]
    },
    {
     "name": "stdout",
     "output_type": "stream",
     "text": [
      "\u001b[36m(_tune pid=5862)\u001b[0m                    all         52         54      0.458      0.807      0.532       0.35\n",
      "\u001b[36m(_tune pid=5862)\u001b[0m \n",
      "\u001b[36m(_tune pid=5862)\u001b[0m       Epoch    GPU_mem   box_loss   cls_loss   dfl_loss  Instances       Size\n"
     ]
    },
    {
     "name": "stderr",
     "output_type": "stream",
     "text": [
      "  0%|          | 0/14 [00:00<?, ?it/s]\n",
      "       5/30      2.09G    0.03591      12.48      1.262         40        640:   7%|▋         | 1/14 [00:00<00:01,  8.28it/s]\n",
      "       5/30      2.09G    0.03267      11.87      1.214         40        640:   7%|▋         | 1/14 [00:00<00:01,  8.28it/s]\n",
      "       5/30      2.09G    0.03129      11.57      1.212         30        640:  29%|██▊       | 4/14 [00:00<00:01,  9.02it/s]\n",
      "       5/30      2.09G    0.03198      12.01      1.237         35        640:  50%|█████     | 7/14 [00:00<00:00,  9.32it/s]\n",
      "       5/30      2.09G    0.03294      12.02      1.259         30        640:  93%|█████████▎| 13/14 [00:01<00:00,  8.81it/s]\n",
      "       5/30      2.13G    0.03291      12.06      1.256         14        640: 100%|██████████| 14/14 [00:01<00:00,  9.53it/s]\n",
      "                 Class     Images  Instances      Box(P          R      mAP50  mAP50-95):   0%|          | 0/2 [00:00<?, ?it/s]\n",
      "                 Class     Images  Instances      Box(P          R      mAP50  mAP50-95):  50%|█████     | 1/2 [00:00<00:00,  7.59it/s]\n",
      "                 Class     Images  Instances      Box(P          R      mAP50  mAP50-95): 100%|██████████| 2/2 [00:00<00:00,  9.08it/s]\n"
     ]
    },
    {
     "name": "stdout",
     "output_type": "stream",
     "text": [
      "\u001b[36m(_tune pid=5862)\u001b[0m                    all         52         54      0.469      0.871      0.573      0.373\n",
      "\u001b[36m(_tune pid=5862)\u001b[0m \n",
      "\u001b[36m(_tune pid=5862)\u001b[0m       Epoch    GPU_mem   box_loss   cls_loss   dfl_loss  Instances       Size\n"
     ]
    },
    {
     "name": "stderr",
     "output_type": "stream",
     "text": [
      "       6/30       2.1G    0.03218      12.24      1.292         34        640:   0%|          | 0/14 [00:00<?, ?it/s]\n",
      "       5/30      2.09G    0.03323      12.07      1.267         33        640:  86%|████████▌ | 12/14 [00:01<00:00,  9.42it/s]\u001b[32m [repeated 16x across cluster]\u001b[0m\n",
      "       6/30       2.1G    0.03396      12.11      1.297         31        640:  14%|█▍        | 2/14 [00:00<00:01,  9.68it/s]\n",
      "       6/30       2.1G    0.03324      11.84      1.302         25        640:  14%|█▍        | 2/14 [00:00<00:01,  9.68it/s]\n",
      "       6/30       2.1G    0.03317      11.35       1.27         38        640:  43%|████▎     | 6/14 [00:00<00:00,  9.70it/s]\n",
      "       6/30       2.1G    0.03273      11.38      1.258         32        640:  43%|████▎     | 6/14 [00:00<00:00,  9.70it/s]\n",
      "       6/30       2.1G     0.0328      11.31      1.261         33        640:  57%|█████▋    | 8/14 [00:00<00:00,  9.58it/s]\n",
      "       6/30       2.1G    0.03292       11.6       1.26         37        640:  71%|███████▏  | 10/14 [00:01<00:00, 10.07it/s]\n",
      "       6/30       2.1G    0.03284      11.52      1.254         26        640:  71%|███████▏  | 10/14 [00:01<00:00, 10.07it/s]\n",
      "       6/30       2.1G    0.03284      11.52      1.254         26        640:  86%|████████▌ | 12/14 [00:01<00:00,  9.00it/s]\n",
      "       6/30       2.1G    0.03289      11.58      1.253         40        640:  86%|████████▌ | 12/14 [00:01<00:00,  9.00it/s]\n",
      "       6/30      2.13G    0.03194      11.73      1.238          7        640: 100%|██████████| 14/14 [00:01<00:00,  9.47it/s]\n",
      "                 Class     Images  Instances      Box(P          R      mAP50  mAP50-95):   0%|          | 0/2 [00:00<?, ?it/s]\n"
     ]
    },
    {
     "name": "stdout",
     "output_type": "stream",
     "text": [
      "\u001b[36m(_tune pid=5862)\u001b[0m                    all         52         54      0.457      0.774      0.548      0.378\n"
     ]
    },
    {
     "name": "stderr",
     "output_type": "stream",
     "text": [
      "                 Class     Images  Instances      Box(P          R      mAP50  mAP50-95): 100%|██████████| 2/2 [00:00<00:00,  9.56it/s]\n"
     ]
    },
    {
     "name": "stdout",
     "output_type": "stream",
     "text": [
      "\u001b[36m(_tune pid=5862)\u001b[0m \n",
      "\u001b[36m(_tune pid=5862)\u001b[0m       Epoch    GPU_mem   box_loss   cls_loss   dfl_loss  Instances       Size\n"
     ]
    },
    {
     "name": "stderr",
     "output_type": "stream",
     "text": [
      "  0%|          | 0/14 [00:00<?, ?it/s]\n",
      "       7/30      2.08G    0.03537      12.64      1.308         38        640:   0%|          | 0/14 [00:00<?, ?it/s]\n",
      "       7/30      2.09G    0.03459       12.1      1.305         33        640:  14%|█▍        | 2/14 [00:00<00:01, 10.37it/s]\n",
      "       7/30      2.09G    0.03496      12.04      1.296         32        640:  14%|█▍        | 2/14 [00:00<00:01, 10.37it/s]\n",
      "       7/30      2.09G    0.03505      11.97      1.278         33        640:  29%|██▊       | 4/14 [00:00<00:01,  9.24it/s]\n",
      "       7/30      2.09G    0.03549         12      1.281         28        640:  43%|████▎     | 6/14 [00:00<00:00,  9.75it/s]\n",
      "       7/30      2.09G    0.03497         12      1.268         32        640:  79%|███████▊  | 11/14 [00:01<00:00, 10.10it/s]\n",
      "       7/30      2.13G    0.03485      11.97      1.273          7        640: 100%|██████████| 14/14 [00:01<00:00,  9.96it/s]\n",
      "                 Class     Images  Instances      Box(P          R      mAP50  mAP50-95):   0%|          | 0/2 [00:00<?, ?it/s]\n"
     ]
    },
    {
     "name": "stdout",
     "output_type": "stream",
     "text": [
      "\u001b[36m(_tune pid=5862)\u001b[0m                    all         52         54      0.425      0.835      0.545      0.364\n"
     ]
    },
    {
     "name": "stderr",
     "output_type": "stream",
     "text": [
      "                 Class     Images  Instances      Box(P          R      mAP50  mAP50-95): 100%|██████████| 2/2 [00:00<00:00,  9.18it/s]\n"
     ]
    },
    {
     "name": "stdout",
     "output_type": "stream",
     "text": [
      "\u001b[36m(_tune pid=5862)\u001b[0m \n",
      "\u001b[36m(_tune pid=5862)\u001b[0m       Epoch    GPU_mem   box_loss   cls_loss   dfl_loss  Instances       Size\n"
     ]
    },
    {
     "name": "stderr",
     "output_type": "stream",
     "text": [
      "  0%|          | 0/14 [00:00<?, ?it/s]\n",
      "       7/30      2.09G    0.03508      11.94      1.274         30        640:  93%|█████████▎| 13/14 [00:01<00:00, 10.04it/s]\u001b[32m [repeated 8x across cluster]\u001b[0m\n",
      "       8/30      2.09G    0.03205      11.25      1.169         33        640:   7%|▋         | 1/14 [00:00<00:01,  9.78it/s]\n",
      "       8/30      2.09G    0.03232       11.7      1.213         36        640:  29%|██▊       | 4/14 [00:00<00:01,  8.99it/s]\n",
      "       8/30      2.09G    0.03309      11.64      1.228         29        640:  57%|█████▋    | 8/14 [00:00<00:00,  9.95it/s]\n",
      "       8/30      2.09G    0.03326      11.63       1.23         31        640:  57%|█████▋    | 8/14 [00:00<00:00,  9.95it/s]\n",
      "       8/30      2.09G     0.0338      11.66      1.245         33        640:  71%|███████▏  | 10/14 [00:01<00:00,  9.44it/s]\n",
      "       8/30      2.09G    0.03382       11.6      1.254         38        640:  93%|█████████▎| 13/14 [00:01<00:00,  9.65it/s]\n",
      "       8/30      2.14G    0.03363      11.59      1.244          8        640: 100%|██████████| 14/14 [00:01<00:00,  9.19it/s]\n",
      "                 Class     Images  Instances      Box(P          R      mAP50  mAP50-95):   0%|          | 0/2 [00:00<?, ?it/s]\n",
      "                 Class     Images  Instances      Box(P          R      mAP50  mAP50-95):  50%|█████     | 1/2 [00:00<00:00,  6.39it/s]\n"
     ]
    },
    {
     "name": "stdout",
     "output_type": "stream",
     "text": [
      "\u001b[36m(_tune pid=5862)\u001b[0m                    all         52         54      0.434      0.579      0.453      0.277\n"
     ]
    },
    {
     "name": "stderr",
     "output_type": "stream",
     "text": [
      "                 Class     Images  Instances      Box(P          R      mAP50  mAP50-95): 100%|██████████| 2/2 [00:00<00:00,  7.42it/s]\n"
     ]
    },
    {
     "name": "stdout",
     "output_type": "stream",
     "text": [
      "\u001b[36m(_tune pid=5862)\u001b[0m \n",
      "\u001b[36m(_tune pid=5862)\u001b[0m       Epoch    GPU_mem   box_loss   cls_loss   dfl_loss  Instances       Size\n"
     ]
    },
    {
     "name": "stderr",
     "output_type": "stream",
     "text": [
      "  0%|          | 0/14 [00:00<?, ?it/s]\n",
      "       9/30      2.08G     0.0343      10.88      1.222         37        640:   7%|▋         | 1/14 [00:00<00:01,  9.37it/s]\n",
      "       9/30      2.09G    0.03302      10.95      1.186         41        640:   7%|▋         | 1/14 [00:00<00:01,  9.37it/s]\n",
      "       9/30      2.09G    0.03404      10.95       1.25         31        640:  21%|██▏       | 3/14 [00:00<00:01, 10.18it/s]\n",
      "       9/30      2.09G    0.03381      11.22      1.246         29        640:  79%|███████▊  | 11/14 [00:01<00:00,  9.48it/s]\n",
      "       9/30      2.09G    0.03345      11.09      1.248         31        640:  86%|████████▌ | 12/14 [00:01<00:00,  9.05it/s]\n",
      "       9/30      2.14G    0.03361      11.23      1.252          8        640: 100%|██████████| 14/14 [00:01<00:00,  9.40it/s]\n",
      "                 Class     Images  Instances      Box(P          R      mAP50  mAP50-95):   0%|          | 0/2 [00:00<?, ?it/s]\n",
      "                 Class     Images  Instances      Box(P          R      mAP50  mAP50-95):  50%|█████     | 1/2 [00:00<00:00,  7.29it/s]\n",
      "                 Class     Images  Instances      Box(P          R      mAP50  mAP50-95): 100%|██████████| 2/2 [00:00<00:00,  7.70it/s]\n"
     ]
    },
    {
     "name": "stdout",
     "output_type": "stream",
     "text": [
      "\u001b[36m(_tune pid=5862)\u001b[0m                    all         52         54      0.505       0.63      0.506      0.342\n",
      "\u001b[36m(_tune pid=5862)\u001b[0m \n",
      "\u001b[36m(_tune pid=5862)\u001b[0m       Epoch    GPU_mem   box_loss   cls_loss   dfl_loss  Instances       Size\n"
     ]
    },
    {
     "name": "stderr",
     "output_type": "stream",
     "text": [
      "  0%|          | 0/14 [00:00<?, ?it/s]\n",
      "       9/30      2.09G    0.03372      11.05      1.248         28        640:  64%|██████▍   | 9/14 [00:00<00:00,  8.78it/s]\u001b[32m [repeated 11x across cluster]\u001b[0m\n",
      "      10/30      2.09G    0.03163      11.17      1.233         33        640:   7%|▋         | 1/14 [00:00<00:01,  9.69it/s]\n",
      "      10/30      2.09G    0.03309      10.98      1.234         43        640:  14%|█▍        | 2/14 [00:00<00:01,  7.98it/s]\n",
      "      10/30      2.09G    0.03191      10.79      1.216         39        640:  29%|██▊       | 4/14 [00:00<00:01,  9.59it/s]\n",
      "      10/30      2.09G    0.03185      10.74      1.211         31        640:  43%|████▎     | 6/14 [00:00<00:00,  9.75it/s]\n",
      "      10/30      2.09G    0.03212      10.85      1.217         28        640:  57%|█████▋    | 8/14 [00:00<00:00, 10.18it/s]\n",
      "      10/30      2.09G    0.03216      10.87      1.219         32        640:  71%|███████▏  | 10/14 [00:01<00:00, 10.04it/s]\n",
      "      10/30      2.09G    0.03259      10.97      1.233         29        640:  86%|████████▌ | 12/14 [00:01<00:00, 10.06it/s]\n",
      "      10/30      2.13G    0.03301      10.95      1.241          8        640: 100%|██████████| 14/14 [00:01<00:00,  9.75it/s]\n",
      "                 Class     Images  Instances      Box(P          R      mAP50  mAP50-95):   0%|          | 0/2 [00:00<?, ?it/s]\n",
      "                 Class     Images  Instances      Box(P          R      mAP50  mAP50-95):  50%|█████     | 1/2 [00:00<00:00,  6.95it/s]\n",
      "                 Class     Images  Instances      Box(P          R      mAP50  mAP50-95): 100%|██████████| 2/2 [00:00<00:00,  8.21it/s]\n"
     ]
    },
    {
     "name": "stdout",
     "output_type": "stream",
     "text": [
      "\u001b[36m(_tune pid=5862)\u001b[0m                    all         52         54       0.49      0.781      0.569       0.34\n",
      "\u001b[36m(_tune pid=5862)\u001b[0m \n",
      "\u001b[36m(_tune pid=5862)\u001b[0m       Epoch    GPU_mem   box_loss   cls_loss   dfl_loss  Instances       Size\n"
     ]
    },
    {
     "name": "stderr",
     "output_type": "stream",
     "text": [
      "  0%|          | 0/14 [00:00<?, ?it/s]\n",
      "      11/30      2.08G    0.03286      11.03      1.227         29        640:   0%|          | 0/14 [00:00<?, ?it/s]\n",
      "      11/30      2.09G    0.03549      11.63      1.301         32        640:  14%|█▍        | 2/14 [00:00<00:01, 11.84it/s]\n",
      "      11/30      2.09G     0.0359       11.7      1.313         37        640:  14%|█▍        | 2/14 [00:00<00:01, 11.84it/s]\n",
      "      11/30      2.09G    0.03344         11       1.25         32        640:  29%|██▊       | 4/14 [00:00<00:00, 10.48it/s]\n",
      "      11/30      2.09G    0.03326      10.75      1.251         38        640:  43%|████▎     | 6/14 [00:00<00:00, 10.43it/s]\n",
      "      11/30      2.09G    0.03282       10.7      1.237         36        640:  57%|█████▋    | 8/14 [00:00<00:00, 10.26it/s]\n",
      "      11/30      2.09G    0.03296      10.99      1.238         34        640:  71%|███████▏  | 10/14 [00:01<00:00, 10.58it/s]\n",
      "      11/30      2.09G    0.03267       10.9      1.228         37        640:  86%|████████▌ | 12/14 [00:01<00:00,  9.43it/s]\n",
      "      11/30      2.13G     0.0331      10.98      1.245          7        640: 100%|██████████| 14/14 [00:01<00:00, 10.14it/s]\n",
      "                 Class     Images  Instances      Box(P          R      mAP50  mAP50-95):   0%|          | 0/2 [00:00<?, ?it/s]\n",
      "                 Class     Images  Instances      Box(P          R      mAP50  mAP50-95):  50%|█████     | 1/2 [00:00<00:00,  7.30it/s]\n",
      "                 Class     Images  Instances      Box(P          R      mAP50  mAP50-95): 100%|██████████| 2/2 [00:00<00:00,  9.01it/s]\n"
     ]
    },
    {
     "name": "stdout",
     "output_type": "stream",
     "text": [
      "\u001b[36m(_tune pid=5862)\u001b[0m                    all         52         54      0.455      0.685      0.533      0.345\n",
      "\u001b[36m(_tune pid=5862)\u001b[0m \n",
      "\u001b[36m(_tune pid=5862)\u001b[0m       Epoch    GPU_mem   box_loss   cls_loss   dfl_loss  Instances       Size\n"
     ]
    },
    {
     "name": "stderr",
     "output_type": "stream",
     "text": [
      "  0%|          | 0/14 [00:00<?, ?it/s]\n",
      "      11/30      2.09G    0.03308      10.93      1.242         29        640:  71%|███████▏  | 10/14 [00:00<00:00, 10.58it/s]\u001b[32m [repeated 8x across cluster]\u001b[0m\n",
      "      12/30      2.09G    0.03421       9.88      1.217         26        640:   0%|          | 0/14 [00:00<?, ?it/s]\n",
      "      12/30      2.09G    0.03216      10.31      1.217         35        640:  14%|█▍        | 2/14 [00:00<00:01,  9.38it/s]\n",
      "      12/30      2.09G    0.03177      10.34      1.214         27        640:  14%|█▍        | 2/14 [00:00<00:01,  9.38it/s]\n",
      "      12/30      2.09G    0.03126      10.52      1.201         30        640:  14%|█▍        | 2/14 [00:00<00:01,  9.38it/s]\n",
      "      12/30      2.09G    0.03126      10.52      1.201         30        640:  29%|██▊       | 4/14 [00:00<00:00, 10.68it/s]\n",
      "      12/30      2.09G    0.03133      10.59      1.206         41        640:  29%|██▊       | 4/14 [00:00<00:00, 10.68it/s]\n",
      "      12/30      2.09G    0.03184      10.76      1.211         36        640:  71%|███████▏  | 10/14 [00:01<00:00,  8.43it/s]\n",
      "      12/30      2.09G    0.03221      10.77      1.215         40        640:  86%|████████▌ | 12/14 [00:01<00:00,  9.46it/s]\n",
      "      12/30      2.13G    0.03233      10.66      1.223          7        640: 100%|██████████| 14/14 [00:01<00:00,  9.31it/s]\n",
      "                 Class     Images  Instances      Box(P          R      mAP50  mAP50-95):   0%|          | 0/2 [00:00<?, ?it/s]\n",
      "                 Class     Images  Instances      Box(P          R      mAP50  mAP50-95):  50%|█████     | 1/2 [00:00<00:00,  6.16it/s]\n",
      "                 Class     Images  Instances      Box(P          R      mAP50  mAP50-95): 100%|██████████| 2/2 [00:00<00:00,  7.12it/s]\n"
     ]
    },
    {
     "name": "stdout",
     "output_type": "stream",
     "text": [
      "\u001b[36m(_tune pid=5862)\u001b[0m                    all         52         54      0.499      0.728      0.573      0.357\n",
      "\u001b[36m(_tune pid=5862)\u001b[0m \n",
      "\u001b[36m(_tune pid=5862)\u001b[0m       Epoch    GPU_mem   box_loss   cls_loss   dfl_loss  Instances       Size\n"
     ]
    },
    {
     "name": "stderr",
     "output_type": "stream",
     "text": [
      "  0%|          | 0/14 [00:00<?, ?it/s]\n",
      "      13/30      2.08G    0.03582      11.28      1.234         39        640:   7%|▋         | 1/14 [00:00<00:01,  9.55it/s]\n",
      "      13/30      2.09G    0.03524       11.3      1.228         41        640:  29%|██▊       | 4/14 [00:00<00:01,  8.70it/s]\n",
      "      13/30      2.09G    0.03439      11.13      1.232         33        640:  57%|█████▋    | 8/14 [00:00<00:00,  8.77it/s]\n",
      "      13/30      2.09G    0.03382      11.02      1.236         29        640:  86%|████████▌ | 12/14 [00:01<00:00,  8.14it/s]\n",
      "      13/30      2.13G    0.03468      11.44      1.274          5        640: 100%|██████████| 14/14 [00:01<00:00,  9.10it/s]\n",
      "                 Class     Images  Instances      Box(P          R      mAP50  mAP50-95):   0%|          | 0/2 [00:00<?, ?it/s]\n",
      "                 Class     Images  Instances      Box(P          R      mAP50  mAP50-95):  50%|█████     | 1/2 [00:00<00:00,  6.64it/s]\n"
     ]
    },
    {
     "name": "stdout",
     "output_type": "stream",
     "text": [
      "\u001b[36m(_tune pid=5862)\u001b[0m                    all         52         54      0.456      0.721      0.584      0.365\n"
     ]
    },
    {
     "name": "stderr",
     "output_type": "stream",
     "text": [
      "                 Class     Images  Instances      Box(P          R      mAP50  mAP50-95): 100%|██████████| 2/2 [00:00<00:00,  7.57it/s]\n"
     ]
    },
    {
     "name": "stdout",
     "output_type": "stream",
     "text": [
      "\u001b[36m(_tune pid=5862)\u001b[0m \n",
      "\u001b[36m(_tune pid=5862)\u001b[0m       Epoch    GPU_mem   box_loss   cls_loss   dfl_loss  Instances       Size\n"
     ]
    },
    {
     "name": "stderr",
     "output_type": "stream",
     "text": [
      "  0%|          | 0/14 [00:00<?, ?it/s]\n",
      "      13/30      2.09G    0.03376      11.03      1.228         47        640:  86%|████████▌ | 12/14 [00:01<00:00,  8.14it/s]\u001b[32m [repeated 14x across cluster]\u001b[0m\n",
      "      14/30      2.09G    0.03147       10.7      1.143         33        640:   7%|▋         | 1/14 [00:00<00:01,  9.99it/s]\n",
      "      14/30      2.09G    0.03143      10.83      1.191         38        640:  14%|█▍        | 2/14 [00:00<00:01,  9.92it/s]\n",
      "      14/30      2.09G    0.03067       10.7        1.2         33        640:  29%|██▊       | 4/14 [00:00<00:00, 11.35it/s]\n",
      "      14/30      2.09G    0.03083      10.92        1.2         36        640:  57%|█████▋    | 8/14 [00:00<00:00, 10.66it/s]\n",
      "      14/30      2.09G    0.03114      10.85      1.203         32        640:  57%|█████▋    | 8/14 [00:00<00:00, 10.66it/s]\n",
      "      14/30      2.09G    0.03122      10.71        1.2         26        640:  71%|███████▏  | 10/14 [00:01<00:00, 10.37it/s]\n",
      "      14/30      2.09G    0.03155      10.66      1.205         31        640:  86%|████████▌ | 12/14 [00:01<00:00, 10.99it/s]\n",
      "      14/30      2.13G    0.03163      10.54      1.204          7        640: 100%|██████████| 14/14 [00:01<00:00, 10.56it/s]\n",
      "                 Class     Images  Instances      Box(P          R      mAP50  mAP50-95):   0%|          | 0/2 [00:00<?, ?it/s]\n",
      "                 Class     Images  Instances      Box(P          R      mAP50  mAP50-95):  50%|█████     | 1/2 [00:00<00:00,  7.49it/s]\n",
      "                 Class     Images  Instances      Box(P          R      mAP50  mAP50-95): 100%|██████████| 2/2 [00:00<00:00,  8.21it/s]\n"
     ]
    },
    {
     "name": "stdout",
     "output_type": "stream",
     "text": [
      "\u001b[36m(_tune pid=5862)\u001b[0m                    all         52         54      0.485      0.775       0.57      0.362\n",
      "\u001b[36m(_tune pid=5862)\u001b[0m \n",
      "\u001b[36m(_tune pid=5862)\u001b[0m       Epoch    GPU_mem   box_loss   cls_loss   dfl_loss  Instances       Size\n"
     ]
    },
    {
     "name": "stderr",
     "output_type": "stream",
     "text": [
      "  0%|          | 0/14 [00:00<?, ?it/s]\n",
      "      15/30      2.08G    0.03372      11.51      1.232         40        640:   0%|          | 0/14 [00:00<?, ?it/s]\n",
      "      15/30      2.09G    0.03348      10.79      1.231         37        640:  14%|█▍        | 2/14 [00:00<00:01, 10.46it/s]\n",
      "      15/30      2.09G    0.03128       10.3      1.187         29        640:  14%|█▍        | 2/14 [00:00<00:01, 10.46it/s]\n",
      "      15/30      2.09G    0.03244      10.14       1.21         36        640:  29%|██▊       | 4/14 [00:00<00:00, 10.22it/s]\n",
      "      15/30      2.09G    0.03259      10.45      1.213         35        640:  43%|████▎     | 6/14 [00:00<00:00, 10.49it/s]\n",
      "      15/30      2.09G     0.0329      10.33      1.218         40        640:  93%|█████████▎| 13/14 [00:01<00:00,  8.07it/s]\n",
      "      15/30      2.14G    0.03241      10.38      1.205         10        640: 100%|██████████| 14/14 [00:01<00:00,  8.96it/s]\n",
      "                 Class     Images  Instances      Box(P          R      mAP50  mAP50-95):   0%|          | 0/2 [00:00<?, ?it/s]\n",
      "                 Class     Images  Instances      Box(P          R      mAP50  mAP50-95):  50%|█████     | 1/2 [00:00<00:00,  4.61it/s]\n"
     ]
    },
    {
     "name": "stdout",
     "output_type": "stream",
     "text": [
      "\u001b[36m(_tune pid=5862)\u001b[0m                    all         52         54       0.51      0.725      0.559      0.356\n"
     ]
    },
    {
     "name": "stderr",
     "output_type": "stream",
     "text": [
      "                 Class     Images  Instances      Box(P          R      mAP50  mAP50-95): 100%|██████████| 2/2 [00:00<00:00,  5.76it/s]\n"
     ]
    },
    {
     "name": "stdout",
     "output_type": "stream",
     "text": [
      "\u001b[36m(_tune pid=5862)\u001b[0m \n",
      "\u001b[36m(_tune pid=5862)\u001b[0m       Epoch    GPU_mem   box_loss   cls_loss   dfl_loss  Instances       Size\n"
     ]
    },
    {
     "name": "stderr",
     "output_type": "stream",
     "text": [
      "  0%|          | 0/14 [00:00<?, ?it/s]\n",
      "      15/30      2.09G    0.03271      10.22      1.215         39        640:  86%|████████▌ | 12/14 [00:01<00:00,  7.78it/s]\u001b[32m [repeated 12x across cluster]\u001b[0m\n",
      "      16/30      2.09G    0.03455      13.24      1.282         21        640:   7%|▋         | 1/14 [00:00<00:01,  8.90it/s]\n",
      "      16/30      2.09G    0.03252      11.36      1.204         24        640:  14%|█▍        | 2/14 [00:00<00:01,  8.02it/s]\n",
      "      16/30      2.09G    0.03322      11.28      1.228         32        640:  29%|██▊       | 4/14 [00:00<00:01,  9.51it/s]\n",
      "      16/30      2.09G    0.03384      11.14      1.234         38        640:  43%|████▎     | 6/14 [00:00<00:00,  8.99it/s]\n",
      "      16/30      2.09G    0.03406      10.89      1.237         40        640:  57%|█████▋    | 8/14 [00:00<00:00,  9.68it/s]\n",
      "      16/30      2.09G     0.0342      10.68      1.236         42        640:  71%|███████▏  | 10/14 [00:01<00:00,  9.32it/s]\n",
      "      16/30      2.09G    0.03407      10.64      1.241         27        640:  86%|████████▌ | 12/14 [00:01<00:00,  9.97it/s]\n",
      "      16/30      2.14G    0.03403      10.66      1.233          9        640: 100%|██████████| 14/14 [00:01<00:00,  9.42it/s]\n",
      "                 Class     Images  Instances      Box(P          R      mAP50  mAP50-95):   0%|          | 0/2 [00:00<?, ?it/s]\n",
      "                 Class     Images  Instances      Box(P          R      mAP50  mAP50-95):  50%|█████     | 1/2 [00:00<00:00,  8.11it/s]\n",
      "                 Class     Images  Instances      Box(P          R      mAP50  mAP50-95): 100%|██████████| 2/2 [00:00<00:00,  9.68it/s]\n"
     ]
    },
    {
     "name": "stdout",
     "output_type": "stream",
     "text": [
      "\u001b[36m(_tune pid=5862)\u001b[0m                    all         52         54      0.521      0.737      0.547      0.328\n",
      "\u001b[36m(_tune pid=5862)\u001b[0m \n",
      "\u001b[36m(_tune pid=5862)\u001b[0m       Epoch    GPU_mem   box_loss   cls_loss   dfl_loss  Instances       Size\n"
     ]
    },
    {
     "name": "stderr",
     "output_type": "stream",
     "text": [
      "  0%|          | 0/14 [00:00<?, ?it/s]\n",
      "      17/30      2.08G    0.03299      10.48      1.237         39        640:   0%|          | 0/14 [00:00<?, ?it/s]\n",
      "      17/30      2.09G    0.03361      10.18       1.24         34        640:  14%|█▍        | 2/14 [00:00<00:01, 11.81it/s]\n",
      "      17/30      2.09G     0.0342      10.09      1.243         35        640:  14%|█▍        | 2/14 [00:00<00:01, 11.81it/s]\n",
      "      17/30      2.09G    0.03376      10.02      1.228         35        640:  29%|██▊       | 4/14 [00:00<00:00, 11.10it/s]\n",
      "      17/30      2.09G    0.03363      10.14      1.227         37        640:  43%|████▎     | 6/14 [00:00<00:00,  8.82it/s]\n",
      "      17/30      2.09G    0.03305      10.09      1.218         36        640:  57%|█████▋    | 8/14 [00:00<00:00,  9.21it/s]\n",
      "      17/30      2.09G    0.03343      10.03      1.219         30        640:  71%|███████▏  | 10/14 [00:01<00:00, 10.11it/s]\n",
      "      17/30      2.09G    0.03344      9.985      1.216         33        640:  86%|████████▌ | 12/14 [00:01<00:00, 10.09it/s]\n",
      "      17/30      2.13G    0.03302      9.968      1.209          8        640: 100%|██████████| 14/14 [00:01<00:00, 10.28it/s]\n",
      "                 Class     Images  Instances      Box(P          R      mAP50  mAP50-95):   0%|          | 0/2 [00:00<?, ?it/s]\n",
      "                 Class     Images  Instances      Box(P          R      mAP50  mAP50-95):  50%|█████     | 1/2 [00:00<00:00,  7.92it/s]\n",
      "                 Class     Images  Instances      Box(P          R      mAP50  mAP50-95): 100%|██████████| 2/2 [00:00<00:00,  9.09it/s]\n"
     ]
    },
    {
     "name": "stdout",
     "output_type": "stream",
     "text": [
      "\u001b[36m(_tune pid=5862)\u001b[0m                    all         52         54      0.524      0.742      0.593      0.349\n",
      "\u001b[36m(_tune pid=5862)\u001b[0m \n",
      "\u001b[36m(_tune pid=5862)\u001b[0m       Epoch    GPU_mem   box_loss   cls_loss   dfl_loss  Instances       Size\n"
     ]
    },
    {
     "name": "stderr",
     "output_type": "stream",
     "text": [
      "  0%|          | 0/14 [00:00<?, ?it/s]\n",
      "      17/30      2.09G    0.03365      10.05      1.222         36        640:  86%|████████▌ | 12/14 [00:01<00:00, 10.09it/s]\u001b[32m [repeated 9x across cluster]\u001b[0m\n",
      "      18/30      2.09G     0.0372      10.32      1.351         36        640:   0%|          | 0/14 [00:00<?, ?it/s]\n",
      "      18/30      2.09G     0.0348      9.978      1.292         31        640:  14%|█▍        | 2/14 [00:00<00:01, 11.34it/s]\n",
      "      18/30      2.09G    0.03196      9.808      1.233         31        640:  29%|██▊       | 4/14 [00:00<00:00, 12.50it/s]\n",
      "      18/30      2.09G    0.03187      9.722       1.22         40        640:  29%|██▊       | 4/14 [00:00<00:00, 12.50it/s]\n",
      "      18/30      2.09G    0.03255      9.735      1.213         44        640:  43%|████▎     | 6/14 [00:00<00:00, 11.66it/s]\n",
      "      18/30      2.09G    0.03198      9.851      1.202         38        640:  57%|█████▋    | 8/14 [00:00<00:00, 11.39it/s]\n",
      "      18/30      2.09G    0.03208      10.03      1.209         33        640:  71%|███████▏  | 10/14 [00:00<00:00, 10.75it/s]\n",
      "      18/30      2.09G    0.03191      10.06      1.212         30        640:  86%|████████▌ | 12/14 [00:01<00:00, 10.86it/s]\n",
      "      18/30      2.14G    0.03226      10.24      1.211         15        640: 100%|██████████| 14/14 [00:01<00:00, 10.93it/s]\n",
      "                 Class     Images  Instances      Box(P          R      mAP50  mAP50-95):   0%|          | 0/2 [00:00<?, ?it/s]\n"
     ]
    },
    {
     "name": "stdout",
     "output_type": "stream",
     "text": [
      "\u001b[36m(_tune pid=5862)\u001b[0m                    all         52         54      0.556      0.625      0.601      0.393\n"
     ]
    },
    {
     "name": "stderr",
     "output_type": "stream",
     "text": [
      "                 Class     Images  Instances      Box(P          R      mAP50  mAP50-95): 100%|██████████| 2/2 [00:00<00:00,  8.91it/s]\n"
     ]
    },
    {
     "name": "stdout",
     "output_type": "stream",
     "text": [
      "\u001b[36m(_tune pid=5862)\u001b[0m \n",
      "\u001b[36m(_tune pid=5862)\u001b[0m       Epoch    GPU_mem   box_loss   cls_loss   dfl_loss  Instances       Size\n"
     ]
    },
    {
     "name": "stderr",
     "output_type": "stream",
     "text": [
      "  0%|          | 0/14 [00:00<?, ?it/s]\n",
      "      19/30      2.08G    0.03522      8.917      1.322         33        640:   7%|▋         | 1/14 [00:00<00:01,  9.37it/s]\n",
      "      19/30      2.09G    0.03374      9.216      1.259         39        640:   7%|▋         | 1/14 [00:00<00:01,  9.37it/s]\n",
      "      19/30      2.09G    0.03433      9.617      1.274         48        640:  21%|██▏       | 3/14 [00:00<00:01, 10.18it/s]\n",
      "      19/30      2.09G    0.03509       9.55      1.281         38        640:  36%|███▌      | 5/14 [00:00<00:00,  9.58it/s]\n",
      "      19/30      2.09G    0.03491      9.637      1.265         33        640:  64%|██████▍   | 9/14 [00:01<00:00,  9.52it/s]\n",
      "      19/30      2.09G     0.0344      9.897      1.257         39        640:  86%|████████▌ | 12/14 [00:01<00:00,  9.24it/s]\n",
      "      19/30      2.13G    0.03483      10.15      1.275          8        640: 100%|██████████| 14/14 [00:01<00:00,  9.72it/s]\n",
      "                 Class     Images  Instances      Box(P          R      mAP50  mAP50-95):   0%|          | 0/2 [00:00<?, ?it/s]\n",
      "                 Class     Images  Instances      Box(P          R      mAP50  mAP50-95):  50%|█████     | 1/2 [00:00<00:00,  7.35it/s]\n",
      "                 Class     Images  Instances      Box(P          R      mAP50  mAP50-95): 100%|██████████| 2/2 [00:00<00:00,  8.82it/s]\n"
     ]
    },
    {
     "name": "stdout",
     "output_type": "stream",
     "text": [
      "\u001b[36m(_tune pid=5862)\u001b[0m                    all         52         54      0.472      0.742      0.549      0.369\n",
      "\u001b[36m(_tune pid=5862)\u001b[0m \n",
      "\u001b[36m(_tune pid=5862)\u001b[0m       Epoch    GPU_mem   box_loss   cls_loss   dfl_loss  Instances       Size\n"
     ]
    },
    {
     "name": "stderr",
     "output_type": "stream",
     "text": [
      "  0%|          | 0/14 [00:00<?, ?it/s]\n",
      "      19/30      2.09G    0.03436      9.758      1.259         34        640:  86%|████████▌ | 12/14 [00:01<00:00,  9.24it/s]\u001b[32m [repeated 10x across cluster]\u001b[0m\n",
      "      20/30      2.09G    0.03278      11.11      1.215         39        640:   0%|          | 0/14 [00:00<?, ?it/s]\n",
      "      20/30      2.09G    0.03313      10.26      1.211         29        640:  14%|█▍        | 2/14 [00:00<00:01, 10.19it/s]\n",
      "      20/30      2.09G    0.03287      9.844      1.216         30        640:  29%|██▊       | 4/14 [00:00<00:00, 11.04it/s]\n",
      "      20/30      2.09G    0.03268      9.887      1.221         28        640:  43%|████▎     | 6/14 [00:00<00:00, 10.13it/s]\n",
      "      20/30      2.09G    0.03268      10.02      1.217         34        640:  57%|█████▋    | 8/14 [00:00<00:00, 10.58it/s]\n",
      "      20/30      2.09G    0.03207      9.918      1.206         27        640:  71%|███████▏  | 10/14 [00:01<00:00,  9.52it/s]\n",
      "      20/30      2.09G    0.03203      9.924      1.206         43        640:  86%|████████▌ | 12/14 [00:01<00:00,  9.94it/s]\n",
      "      20/30      2.13G    0.03194      10.22      1.203          5        640: 100%|██████████| 14/14 [00:01<00:00,  9.63it/s]\n",
      "                 Class     Images  Instances      Box(P          R      mAP50  mAP50-95):   0%|          | 0/2 [00:00<?, ?it/s]\n",
      "                 Class     Images  Instances      Box(P          R      mAP50  mAP50-95):  50%|█████     | 1/2 [00:00<00:00,  6.09it/s]\n",
      "                 Class     Images  Instances      Box(P          R      mAP50  mAP50-95): 100%|██████████| 2/2 [00:00<00:00,  6.96it/s]\n"
     ]
    },
    {
     "name": "stdout",
     "output_type": "stream",
     "text": [
      "\u001b[36m(_tune pid=5862)\u001b[0m                    all         52         54      0.479      0.591      0.518      0.347\n",
      "\u001b[36m(_tune pid=5862)\u001b[0m Closing dataloader mosaic\n",
      "\u001b[36m(_tune pid=5862)\u001b[0m \u001b[34m\u001b[1malbumentations: \u001b[0mBlur(p=0.01, blur_limit=(3, 7)), MedianBlur(p=0.01, blur_limit=(3, 7)), ToGray(p=0.01), CLAHE(p=0.01, clip_limit=(1, 4.0), tile_grid_size=(8, 8))\n",
      "\u001b[36m(_tune pid=5862)\u001b[0m \n",
      "\u001b[36m(_tune pid=5862)\u001b[0m       Epoch    GPU_mem   box_loss   cls_loss   dfl_loss  Instances       Size\n"
     ]
    },
    {
     "name": "stderr",
     "output_type": "stream",
     "text": [
      "  0%|          | 0/14 [00:00<?, ?it/s]\n",
      "      21/30      2.08G     0.0267      10.95      1.087         16        640:   7%|▋         | 1/14 [00:00<00:03,  3.72it/s]\n",
      "      20/30      2.09G      0.032      9.945      1.203         37        640:  86%|████████▌ | 12/14 [00:01<00:00,  9.94it/s]\u001b[32m [repeated 5x across cluster]\u001b[0m\n",
      "      21/30      2.09G    0.03041      11.28      1.153         19        640:   7%|▋         | 1/14 [00:00<00:03,  3.72it/s]\n",
      "       3/30       2.1G    0.01318      7.072      1.494         19        640:  29%|██▊       | 4/14 [01:51<07:17, 43.74s/it]\u001b[32m [repeated 3x across cluster]\u001b[0m\n",
      "       3/30       2.1G    0.01316      6.826      1.524         14        640:  93%|█████████▎| 13/14 [01:52<00:01,  1.52s/it]\n",
      "       3/30      2.13G    0.01299      6.688      1.521          5        640: 100%|██████████| 14/14 [01:52<00:00,  8.04s/it]\n",
      "                 Class     Images  Instances      Box(P          R      mAP50  mAP50-95):   0%|          | 0/2 [00:00<?, ?it/s]\n",
      "                 Class     Images  Instances      Box(P          R      mAP50  mAP50-95):  50%|█████     | 1/2 [00:00<00:00,  3.42it/s]\n",
      "                 Class     Images  Instances      Box(P          R      mAP50  mAP50-95): 100%|██████████| 2/2 [00:00<00:00,  3.97it/s]\n"
     ]
    },
    {
     "name": "stdout",
     "output_type": "stream",
     "text": [
      "\u001b[36m(_tune pid=48448)\u001b[0m                    all         52         54       0.44      0.752      0.535      0.207\n"
     ]
    },
    {
     "name": "stderr",
     "output_type": "stream",
     "text": [
      "       2/30      2.12G    0.02999      4.361      1.452          8        640: 100%|██████████| 14/14 [01:51<00:00,  7.95s/it]\n"
     ]
    },
    {
     "name": "stdout",
     "output_type": "stream",
     "text": [
      "\u001b[36m(_tune pid=48448)\u001b[0m \n",
      "\u001b[36m(_tune pid=48448)\u001b[0m       Epoch    GPU_mem   box_loss   cls_loss   dfl_loss  Instances       Size\n"
     ]
    },
    {
     "name": "stderr",
     "output_type": "stream",
     "text": [
      "  0%|          | 0/14 [00:00<?, ?it/s]\n",
      "       4/30       2.1G    0.01136      6.093      1.406         16        640:   7%|▋         | 1/14 [00:00<00:02,  6.00it/s]\n"
     ]
    },
    {
     "name": "stdout",
     "output_type": "stream",
     "text": [
      "\u001b[36m(_tune pid=48446)\u001b[0m \n"
     ]
    },
    {
     "name": "stderr",
     "output_type": "stream",
     "text": [
      "       3/30       2.1G    0.02858      4.322      1.355         36        640:  21%|██▏       | 3/14 [00:00<00:02,  5.23it/s]\u001b[32m [repeated 25x across cluster]\u001b[0m\n",
      "       2/30      2.09G    0.03007      4.391      1.448         34        640:  93%|█████████▎| 13/14 [01:51<00:00,  1.18it/s]\n",
      "                 Class     Images  Instances      Box(P          R      mAP50  mAP50-95):   0%|          | 0/2 [00:00<?, ?it/s]\n",
      "                 Class     Images  Instances      Box(P          R      mAP50  mAP50-95):  50%|█████     | 1/2 [00:00<00:00,  2.22it/s]\n",
      "                 Class     Images  Instances      Box(P          R      mAP50  mAP50-95): 100%|██████████| 2/2 [00:00<00:00,  2.78it/s]\n",
      "  0%|          | 0/14 [00:00<?, ?it/s]\n",
      "       3/30       2.1G     0.0294      4.222      1.349         30        640:   7%|▋         | 1/14 [00:00<00:02,  4.70it/s]\n",
      "       3/30       2.1G    0.02823      4.264       1.35         33        640:  29%|██▊       | 4/14 [01:27<05:44, 34.48s/it]\n",
      "      21/30      2.09G    0.03041      11.28      1.153         19        640:  14%|█▍        | 2/14 [03:21<23:45, 118.76s/it]\n",
      "       4/30       2.1G    0.01466      6.857      1.711         16        640:  43%|████▎     | 6/14 [02:44<07:25, 55.65s/it]\n",
      "       4/30       2.1G    0.01463       6.87      1.704         23        640:  50%|█████     | 7/14 [02:44<04:22, 37.50s/it]\n",
      "       4/30      2.14G    0.01428       6.95      1.633          7        640: 100%|██████████| 14/14 [02:45<00:00, 11.80s/it]\n",
      "                 Class     Images  Instances      Box(P          R      mAP50  mAP50-95):   0%|          | 0/2 [00:00<?, ?it/s]\n",
      "                 Class     Images  Instances      Box(P          R      mAP50  mAP50-95):  50%|█████     | 1/2 [00:00<00:00,  4.25it/s]\n"
     ]
    },
    {
     "name": "stdout",
     "output_type": "stream",
     "text": [
      "\u001b[36m(_tune pid=48448)\u001b[0m                    all         52         54      0.442      0.688      0.481      0.217\u001b[32m [repeated 2x across cluster]\u001b[0m\n",
      "\u001b[36m(_tune pid=48446)\u001b[0m       Epoch    GPU_mem   box_loss   cls_loss   dfl_loss  Instances       Size\n"
     ]
    },
    {
     "name": "stderr",
     "output_type": "stream",
     "text": [
      "                 Class     Images  Instances      Box(P          R      mAP50  mAP50-95): 100%|██████████| 2/2 [00:00<00:00,  5.33it/s]\n",
      "      21/30      2.37G    0.03254      10.49      1.262         16        640:  71%|███████▏  | 10/14 [03:24<00:16,  4.11s/it]\n",
      "       3/30      2.12G     0.0277      4.223      1.309          9        640: 100%|██████████| 14/14 [02:44<00:00, 11.78s/it]\n"
     ]
    },
    {
     "name": "stdout",
     "output_type": "stream",
     "text": [
      "\u001b[36m(_tune pid=48448)\u001b[0m \n",
      "\u001b[36m(_tune pid=48448)\u001b[0m       Epoch    GPU_mem   box_loss   cls_loss   dfl_loss  Instances       Size\n"
     ]
    },
    {
     "name": "stderr",
     "output_type": "stream",
     "text": [
      "  0%|          | 0/14 [00:00<?, ?it/s]\n",
      "       3/30      2.12G    0.01143      7.602      1.462          6        640: 100%|██████████| 14/14 [04:39<00:00, 19.98s/it]\n",
      "       5/30       2.1G    0.01324      6.276      1.437         14        640:   7%|▋         | 1/14 [00:00<00:01,  6.76it/s]\n"
     ]
    },
    {
     "name": "stdout",
     "output_type": "stream",
     "text": [
      "\u001b[36m(_tune pid=5862)\u001b[0m \n",
      "\u001b[36m(_tune pid=48446)\u001b[0m \n"
     ]
    },
    {
     "name": "stderr",
     "output_type": "stream",
     "text": [
      "      22/30      2.09G    0.03152      9.846      1.198         16        640:  29%|██▊       | 4/14 [00:00<00:00, 10.97it/s]\n",
      "       5/30      2.13G    0.01371       6.93       1.58          3        640: 100%|██████████| 14/14 [00:01<00:00,  8.59it/s]\n"
     ]
    },
    {
     "name": "stdout",
     "output_type": "stream",
     "text": [
      "\u001b[36m(_tune pid=48449)\u001b[0m \n"
     ]
    },
    {
     "name": "stderr",
     "output_type": "stream",
     "text": [
      "      22/30      2.09G    0.03112      9.979      1.212         16        640:  43%|████▎     | 6/14 [00:00<00:00, 10.66it/s]\u001b[32m [repeated 12x across cluster]\u001b[0m\n",
      "      22/30      2.09G    0.03125      9.766      1.196         18        640:  71%|███████▏  | 10/14 [00:01<00:00, 10.93it/s]\n",
      "       4/30       2.1G    0.01163      7.464      1.465         30        640:  36%|███▌      | 5/14 [00:00<00:01,  6.60it/s]\u001b[32m [repeated 44x across cluster]\u001b[0m\n",
      "                 Class     Images  Instances      Box(P          R      mAP50  mAP50-95): 100%|██████████| 2/2 [00:00<00:00,  9.79it/s]\n"
     ]
    },
    {
     "name": "stdout",
     "output_type": "stream",
     "text": [
      "\u001b[36m(_tune pid=48448)\u001b[0m \n",
      "\u001b[36m(_tune pid=5862)\u001b[0m \n"
     ]
    },
    {
     "name": "stderr",
     "output_type": "stream",
     "text": [
      "       4/30      2.14G    0.02797      4.023      1.344          9        640: 100%|██████████| 14/14 [00:02<00:00,  5.94it/s]\n",
      "       4/30      2.14G    0.01175      7.597      1.516         10        640: 100%|██████████| 14/14 [00:01<00:00,  7.21it/s]\n",
      "                 Class     Images  Instances      Box(P          R      mAP50  mAP50-95):   0%|          | 0/2 [00:00<?, ?it/s]\u001b[32m [repeated 7x across cluster]\u001b[0m\n",
      "      23/30       2.1G    0.03275      10.83      1.246         17        640:  14%|█▍        | 2/14 [00:00<00:00, 12.10it/s]\n",
      "                 Class     Images  Instances      Box(P          R      mAP50  mAP50-95):  50%|█████     | 1/2 [00:00<00:00,  7.95it/s]\u001b[32m [repeated 5x across cluster]\u001b[0m\n",
      "                 Class     Images  Instances      Box(P          R      mAP50  mAP50-95): 100%|██████████| 2/2 [00:00<00:00,  5.32it/s]\u001b[32m [repeated 4x across cluster]\u001b[0m\n"
     ]
    },
    {
     "name": "stdout",
     "output_type": "stream",
     "text": [
      "\u001b[36m(_tune pid=48446)\u001b[0m                    all         52         54      0.456       0.84       0.55      0.272\u001b[32m [repeated 6x across cluster]\u001b[0m\n"
     ]
    },
    {
     "name": "stderr",
     "output_type": "stream",
     "text": [
      "       6/30       2.1G    0.01366      6.657      1.595         12        640:  36%|███▌      | 5/14 [00:00<00:01,  8.95it/s]\n",
      "       6/30      2.13G    0.01321      6.423      1.535          4        640: 100%|██████████| 14/14 [00:01<00:00,  9.00it/s]\n",
      "                 Class     Images  Instances      Box(P          R      mAP50  mAP50-95): 100%|██████████| 2/2 [00:00<00:00,  9.93it/s]\n",
      "      23/30      2.08G    0.03432      10.29      1.316         15        640:   0%|          | 0/14 [00:00<?, ?it/s]\u001b[32m [repeated 8x across cluster]\u001b[0m\n"
     ]
    },
    {
     "name": "stdout",
     "output_type": "stream",
     "text": [
      "\u001b[36m(_tune pid=48446)\u001b[0m \n",
      "\u001b[36m(_tune pid=48446)\u001b[0m       Epoch    GPU_mem   box_loss   cls_loss   dfl_loss  Instances       Size\u001b[32m [repeated 6x across cluster]\u001b[0m\n",
      "\u001b[36m(_tune pid=48449)\u001b[0m \n"
     ]
    },
    {
     "name": "stderr",
     "output_type": "stream",
     "text": [
      "       6/30       2.1G     0.0132      6.555      1.609         21        640:  14%|█▍        | 2/14 [00:00<00:01,  9.34it/s]\u001b[32m [repeated 4x across cluster]\u001b[0m\n"
     ]
    },
    {
     "name": "stdout",
     "output_type": "stream",
     "text": [
      "\u001b[36m(_tune pid=5862)\u001b[0m \n",
      "\u001b[36m(_tune pid=48448)\u001b[0m \n"
     ]
    },
    {
     "name": "stderr",
     "output_type": "stream",
     "text": [
      "      24/30       2.1G    0.02898      8.796      1.113         14        640:   0%|          | 0/14 [00:00<?, ?it/s]\n",
      "      24/30       2.1G     0.0293      9.692      1.112         17        640:  29%|██▊       | 4/14 [00:00<00:00, 11.32it/s]\n",
      "      24/30       2.1G    0.02911      9.611      1.129         16        640:  57%|█████▋    | 8/14 [00:00<00:00, 11.00it/s]\u001b[32m [repeated 18x across cluster]\u001b[0m\n",
      "       5/30      2.13G    0.02846      3.974       1.35         10        640: 100%|██████████| 14/14 [00:01<00:00,  7.32it/s]\n",
      "       5/30      2.13G    0.01129      7.262       1.46         10        640: 100%|██████████| 14/14 [00:01<00:00,  7.18it/s]\n",
      "      24/30       2.1G    0.03036      9.848      1.174         16        640:  86%|████████▌ | 12/14 [00:01<00:00, 10.64it/s]\n",
      "       7/30      2.09G    0.01427      6.874      1.559         19        640:  79%|███████▊  | 11/14 [00:01<00:00,  9.05it/s]\u001b[32m [repeated 55x across cluster]\u001b[0m\n",
      "                 Class     Images  Instances      Box(P          R      mAP50  mAP50-95): 100%|██████████| 2/2 [00:00<00:00, 10.54it/s]\n"
     ]
    },
    {
     "name": "stdout",
     "output_type": "stream",
     "text": [
      "\u001b[36m(_tune pid=5862)\u001b[0m \n",
      "\u001b[36m(_tune pid=48446)\u001b[0m \n"
     ]
    },
    {
     "name": "stderr",
     "output_type": "stream",
     "text": [
      "      25/30      2.08G    0.03408      8.943      1.179         18        640:   0%|          | 0/14 [00:00<?, ?it/s]\n",
      "                 Class     Images  Instances      Box(P          R      mAP50  mAP50-95):   0%|          | 0/2 [00:00<?, ?it/s]\u001b[32m [repeated 6x across cluster]\u001b[0m\n",
      "      25/30       2.1G    0.03395      9.804      1.234         15        640:  29%|██▊       | 4/14 [00:00<00:00, 11.17it/s]\n"
     ]
    },
    {
     "name": "stdout",
     "output_type": "stream",
     "text": [
      "\u001b[36m(_tune pid=48449)\u001b[0m \n"
     ]
    },
    {
     "name": "stderr",
     "output_type": "stream",
     "text": [
      "                 Class     Images  Instances      Box(P          R      mAP50  mAP50-95):  50%|█████     | 1/2 [00:00<00:00,  5.06it/s]\u001b[32m [repeated 8x across cluster]\u001b[0m\n"
     ]
    },
    {
     "name": "stdout",
     "output_type": "stream",
     "text": [
      "\u001b[36m(_tune pid=48448)\u001b[0m \n",
      "\u001b[36m(_tune pid=48448)\u001b[0m                    all         52         54      0.522      0.617      0.488      0.219\u001b[32m [repeated 7x across cluster]\u001b[0m\n"
     ]
    },
    {
     "name": "stderr",
     "output_type": "stream",
     "text": [
      "                 Class     Images  Instances      Box(P          R      mAP50  mAP50-95): 100%|██████████| 2/2 [00:00<00:00,  6.10it/s]\u001b[32m [repeated 6x across cluster]\u001b[0m\n",
      "      25/30       2.1G    0.03231      9.575      1.205         18        640:  71%|███████▏  | 10/14 [00:00<00:00, 11.21it/s]\n",
      "      25/30       2.1G     0.0322      9.498      1.201         17        640:  86%|████████▌ | 12/14 [00:01<00:00, 10.33it/s]\n",
      "                 Class     Images  Instances      Box(P          R      mAP50  mAP50-95): 100%|██████████| 2/2 [00:00<00:00,  9.05it/s]\n",
      "  0%|          | 0/14 [00:00<?, ?it/s]\u001b[32m [repeated 6x across cluster]\u001b[0m\n",
      "       8/30      2.09G    0.01529      6.245      1.644         20        640:   7%|▋         | 1/14 [00:00<00:01,  9.57it/s]\u001b[32m [repeated 8x across cluster]\u001b[0m\n",
      "       6/30      2.13G    0.02798      3.707      1.324          8        640: 100%|██████████| 14/14 [00:02<00:00,  6.90it/s]\n",
      "       6/30      2.14G    0.01093       7.08      1.458          9        640: 100%|██████████| 14/14 [00:01<00:00,  7.34it/s]\n"
     ]
    },
    {
     "name": "stdout",
     "output_type": "stream",
     "text": [
      "\u001b[36m(_tune pid=5862)\u001b[0m \n",
      "\u001b[36m(_tune pid=5862)\u001b[0m       Epoch    GPU_mem   box_loss   cls_loss   dfl_loss  Instances       Size\u001b[32m [repeated 8x across cluster]\u001b[0m\n"
     ]
    },
    {
     "name": "stderr",
     "output_type": "stream",
     "text": [
      "      26/30       2.1G    0.02968      8.916      1.178         17        640:  43%|████▎     | 6/14 [00:00<00:00, 12.18it/s]\u001b[32m [repeated 3x across cluster]\u001b[0m\n"
     ]
    },
    {
     "name": "stdout",
     "output_type": "stream",
     "text": [
      "\u001b[36m(_tune pid=48448)\u001b[0m \n",
      "\u001b[36m(_tune pid=48446)\u001b[0m \n"
     ]
    },
    {
     "name": "stderr",
     "output_type": "stream",
     "text": [
      "      26/30       2.1G    0.02955      8.799      1.182         18        640:  86%|████████▌ | 12/14 [00:01<00:00, 11.89it/s]\u001b[32m [repeated 20x across cluster]\u001b[0m\n"
     ]
    },
    {
     "name": "stdout",
     "output_type": "stream",
     "text": [
      "\u001b[36m(_tune pid=48449)\u001b[0m \n"
     ]
    },
    {
     "name": "stderr",
     "output_type": "stream",
     "text": [
      "                 Class     Images  Instances      Box(P          R      mAP50  mAP50-95): 100%|██████████| 2/2 [00:00<00:00,  9.27it/s]\n",
      "       9/30      2.09G    0.01403      6.652      1.662         16        640:  43%|████▎     | 6/14 [00:00<00:00,  9.56it/s]\u001b[32m [repeated 42x across cluster]\u001b[0m\n",
      "       9/30      2.13G    0.01447      6.837      1.686          3        640: 100%|██████████| 14/14 [00:01<00:00,  9.51it/s]\n"
     ]
    },
    {
     "name": "stdout",
     "output_type": "stream",
     "text": [
      "\u001b[36m(_tune pid=5862)\u001b[0m \n"
     ]
    },
    {
     "name": "stderr",
     "output_type": "stream",
     "text": [
      "                 Class     Images  Instances      Box(P          R      mAP50  mAP50-95):   0%|          | 0/2 [00:00<?, ?it/s]\u001b[32m [repeated 6x across cluster]\u001b[0m\n",
      "       7/30      2.13G    0.02866      3.813      1.366          9        640: 100%|██████████| 14/14 [00:01<00:00,  7.38it/s]\n",
      "                 Class     Images  Instances      Box(P          R      mAP50  mAP50-95):  50%|█████     | 1/2 [00:00<00:00,  5.16it/s]\u001b[32m [repeated 6x across cluster]\u001b[0m\n",
      "       7/30      2.13G    0.01123      7.134      1.453          5        640: 100%|██████████| 14/14 [00:01<00:00,  7.10it/s]\n",
      "                 Class     Images  Instances      Box(P          R      mAP50  mAP50-95): 100%|██████████| 2/2 [00:00<00:00,  6.08it/s]\u001b[32m [repeated 4x across cluster]\u001b[0m\n"
     ]
    },
    {
     "name": "stdout",
     "output_type": "stream",
     "text": [
      "\u001b[36m(_tune pid=48446)\u001b[0m                    all         52         54       0.47      0.808      0.542      0.252\u001b[32m [repeated 7x across cluster]\u001b[0m\n",
      "\u001b[36m(_tune pid=48448)\u001b[0m \n"
     ]
    },
    {
     "name": "stderr",
     "output_type": "stream",
     "text": [
      "                 Class     Images  Instances      Box(P          R      mAP50  mAP50-95): 100%|██████████| 2/2 [00:00<00:00, 10.80it/s]\n",
      "      10/30      2.09G    0.01254      6.323      1.523         14        640:   0%|          | 0/14 [00:00<?, ?it/s]\u001b[32m [repeated 10x across cluster]\u001b[0m\n",
      "      10/30      2.09G    0.01562      6.883      1.733         18        640:  14%|█▍        | 2/14 [00:00<00:01, 10.37it/s]\u001b[32m [repeated 6x across cluster]\u001b[0m\n"
     ]
    },
    {
     "name": "stdout",
     "output_type": "stream",
     "text": [
      "\u001b[36m(_tune pid=48446)\u001b[0m \n",
      "\u001b[36m(_tune pid=48449)\u001b[0m \n"
     ]
    },
    {
     "name": "stderr",
     "output_type": "stream",
     "text": [
      "      10/30      2.13G    0.01466      6.703      1.661          6        640: 100%|██████████| 14/14 [00:01<00:00,  9.34it/s]\n"
     ]
    },
    {
     "name": "stdout",
     "output_type": "stream",
     "text": [
      "\u001b[36m(_tune pid=5862)\u001b[0m \n",
      "\u001b[36m(_tune pid=5862)\u001b[0m       Epoch    GPU_mem   box_loss   cls_loss   dfl_loss  Instances       Size\u001b[32m [repeated 8x across cluster]\u001b[0m\n"
     ]
    },
    {
     "name": "stderr",
     "output_type": "stream",
     "text": [
      "      28/30      2.09G    0.03119      8.434      1.191         19        640:  14%|█▍        | 2/14 [00:00<00:01, 10.05it/s]\n",
      "      10/30      2.09G    0.01472      6.669      1.659         24        640:  43%|████▎     | 6/14 [00:00<00:00,  9.91it/s]\u001b[32m [repeated 6x across cluster]\u001b[0m\n",
      "      28/30       2.1G    0.03291      8.738      1.257         16        640:  57%|█████▋    | 8/14 [00:00<00:00, 11.49it/s]\u001b[32m [repeated 20x across cluster]\u001b[0m\n",
      "       8/30      2.13G     0.0291      3.749      1.355          7        640: 100%|██████████| 14/14 [00:02<00:00,  6.56it/s]\n",
      "       8/30      2.09G    0.01159      7.287      1.498         34        640:  86%|████████▌ | 12/14 [00:01<00:00,  6.83it/s]\u001b[32m [repeated 49x across cluster]\u001b[0m\n",
      "                 Class     Images  Instances      Box(P          R      mAP50  mAP50-95): 100%|██████████| 2/2 [00:00<00:00, 10.26it/s]\n"
     ]
    },
    {
     "name": "stdout",
     "output_type": "stream",
     "text": [
      "\u001b[36m(_tune pid=48448)\u001b[0m \n"
     ]
    },
    {
     "name": "stderr",
     "output_type": "stream",
     "text": [
      "      11/30      2.09G    0.01294       6.23       1.57         21        640:  14%|█▍        | 2/14 [00:00<00:01, 11.78it/s]\n",
      "       8/30      2.14G    0.01152      7.215      1.484          9        640: 100%|██████████| 14/14 [00:01<00:00,  7.15it/s]\n"
     ]
    },
    {
     "name": "stdout",
     "output_type": "stream",
     "text": [
      "\u001b[36m(_tune pid=5862)\u001b[0m \n"
     ]
    },
    {
     "name": "stderr",
     "output_type": "stream",
     "text": [
      "      29/30      2.08G    0.03115      7.438      1.274         16        640:   0%|          | 0/14 [00:00<?, ?it/s]\n",
      "                 Class     Images  Instances      Box(P          R      mAP50  mAP50-95):   0%|          | 0/2 [00:00<?, ?it/s]\u001b[32m [repeated 7x across cluster]\u001b[0m\n",
      "                 Class     Images  Instances      Box(P          R      mAP50  mAP50-95):  50%|█████     | 1/2 [00:00<00:00,  3.42it/s]\u001b[32m [repeated 7x across cluster]\u001b[0m\n",
      "      11/30      2.13G    0.01377       6.55      1.579          5        640: 100%|██████████| 14/14 [00:01<00:00,  9.93it/s]\n",
      "                 Class     Images  Instances      Box(P          R      mAP50  mAP50-95): 100%|██████████| 2/2 [00:00<00:00,  4.07it/s]\u001b[32m [repeated 5x across cluster]\u001b[0m\n"
     ]
    },
    {
     "name": "stdout",
     "output_type": "stream",
     "text": [
      "\u001b[36m(_tune pid=48446)\u001b[0m \n",
      "\u001b[36m(_tune pid=48449)\u001b[0m \n",
      "\u001b[36m(_tune pid=48448)\u001b[0m                    all         52         54       0.47      0.625      0.478      0.208\u001b[32m [repeated 7x across cluster]\u001b[0m\n"
     ]
    },
    {
     "name": "stderr",
     "output_type": "stream",
     "text": [
      "                 Class     Images  Instances      Box(P          R      mAP50  mAP50-95): 100%|██████████| 2/2 [00:00<00:00,  9.53it/s]\n",
      "  0%|          | 0/14 [00:00<?, ?it/s]\u001b[32m [repeated 7x across cluster]\u001b[0m\n",
      "       9/30      2.09G    0.01074      7.496      1.505         29        640:   7%|▋         | 1/14 [00:00<00:01,  7.63it/s]\u001b[32m [repeated 5x across cluster]\u001b[0m\n",
      "       9/30      2.14G    0.01123      7.034      1.461         11        640: 100%|██████████| 14/14 [00:02<00:00,  6.99it/s]\n",
      "       9/30      2.14G    0.02876      3.737       1.36         10        640: 100%|██████████| 14/14 [00:02<00:00,  6.26it/s]\n"
     ]
    },
    {
     "name": "stdout",
     "output_type": "stream",
     "text": [
      "\u001b[36m(_tune pid=5862)\u001b[0m \n",
      "\u001b[36m(_tune pid=5862)\u001b[0m       Epoch    GPU_mem   box_loss   cls_loss   dfl_loss  Instances       Size\u001b[32m [repeated 5x across cluster]\u001b[0m\n"
     ]
    },
    {
     "name": "stderr",
     "output_type": "stream",
     "text": [
      "      30/30       2.1G    0.03092      9.499      1.191         17        640:  14%|█▍        | 2/14 [00:00<00:01, 10.34it/s]\n",
      "      29/30       2.1G    0.03197      8.316      1.217         16        640:  71%|███████▏  | 10/14 [00:00<00:00, 11.49it/s]\u001b[32m [repeated 4x across cluster]\u001b[0m\n",
      "      30/30       2.1G    0.03181      8.683      1.198         17        640:  57%|█████▋    | 8/14 [00:00<00:00, 12.02it/s]\u001b[32m [repeated 19x across cluster]\u001b[0m\n",
      "      30/30       2.1G    0.03098      8.656      1.188         16        640:  86%|████████▌ | 12/14 [00:01<00:00, 12.23it/s]\u001b[32m [repeated 33x across cluster]\u001b[0m\n",
      "                 Class     Images  Instances      Box(P          R      mAP50  mAP50-95): 100%|██████████| 2/2 [00:00<00:00,  9.69it/s]\n"
     ]
    },
    {
     "name": "stdout",
     "output_type": "stream",
     "text": [
      "\u001b[36m(_tune pid=48449)\u001b[0m \n",
      "\u001b[36m(_tune pid=48446)\u001b[0m \n",
      "\u001b[36m(_tune pid=5862)\u001b[0m \n",
      "\u001b[36m(_tune pid=5862)\u001b[0m 30 epochs completed in 0.082 hours.\n",
      "\u001b[36m(_tune pid=5862)\u001b[0m Optimizer stripped from runs/detect/tune/tune_raytune/weights/last.pt, 6.2MB\n",
      "\u001b[36m(_tune pid=5862)\u001b[0m Optimizer stripped from runs/detect/tune/tune_raytune/weights/best.pt, 6.2MB\n",
      "\u001b[36m(_tune pid=5862)\u001b[0m \n",
      "\u001b[36m(_tune pid=5862)\u001b[0m Validating runs/detect/tune/tune_raytune/weights/best.pt...\n",
      "\u001b[36m(_tune pid=5862)\u001b[0m Ultralytics YOLOv8.2.70 🚀 Python-3.10.14 torch-2.1.0 CUDA:0 (NVIDIA GeForce RTX 3090, 24260MiB)\n"
     ]
    },
    {
     "name": "stderr",
     "output_type": "stream",
     "text": [
      "                 Class     Images  Instances      Box(P          R      mAP50  mAP50-95):   0%|          | 0/2 [00:00<?, ?it/s]\u001b[32m [repeated 5x across cluster]\u001b[0m\n",
      "                 Class     Images  Instances      Box(P          R      mAP50  mAP50-95):  50%|█████     | 1/2 [00:00<00:00,  7.97it/s]\u001b[32m [repeated 5x across cluster]\u001b[0m\n",
      "                 Class     Images  Instances      Box(P          R      mAP50  mAP50-95): 100%|██████████| 2/2 [00:00<00:00,  3.88it/s]\u001b[32m [repeated 3x across cluster]\u001b[0m\n"
     ]
    },
    {
     "name": "stdout",
     "output_type": "stream",
     "text": [
      "\u001b[36m(_tune pid=5862)\u001b[0m Model summary (fused): 168 layers, 3,006,038 parameters, 0 gradients, 8.1 GFLOPs\n"
     ]
    },
    {
     "name": "stderr",
     "output_type": "stream",
     "text": [
      "      10/30      2.14G    0.01166      7.197       1.49          8        640: 100%|██████████| 14/14 [00:01<00:00,  7.57it/s]\n",
      "      10/30      2.13G    0.02894      3.819      1.374          8        640: 100%|██████████| 14/14 [00:01<00:00,  7.17it/s]\n"
     ]
    },
    {
     "name": "stdout",
     "output_type": "stream",
     "text": [
      "\u001b[36m(_tune pid=48449)\u001b[0m                    all         52         54      0.409      0.725      0.491       0.14\u001b[32m [repeated 5x across cluster]\u001b[0m\n"
     ]
    },
    {
     "name": "stderr",
     "output_type": "stream",
     "text": [
      "  0%|          | 0/14 [00:00<?, ?it/s]\u001b[32m [repeated 5x across cluster]\u001b[0m\n",
      "      10/30      2.09G    0.03008      3.955      1.473         32        640:   7%|▋         | 1/14 [00:00<00:01,  8.39it/s]\u001b[32m [repeated 2x across cluster]\u001b[0m\n"
     ]
    },
    {
     "name": "stdout",
     "output_type": "stream",
     "text": [
      "\u001b[36m(_tune pid=48449)\u001b[0m \n",
      "\u001b[36m(_tune pid=5862)\u001b[0m               negative         30         30      0.599      0.967      0.807      0.549\n",
      "\u001b[36m(_tune pid=5862)\u001b[0m               positive         22         24      0.466      0.625      0.575      0.362\n",
      "\u001b[36m(_tune pid=48446)\u001b[0m \n"
     ]
    },
    {
     "name": "stderr",
     "output_type": "stream",
     "text": [
      "      10/30      2.09G    0.01182      7.013      1.442         50        640:  29%|██▊       | 4/14 [00:00<00:01,  7.80it/s]\u001b[32m [repeated 3x across cluster]\u001b[0m\n",
      "      10/30      2.09G    0.02884      3.802      1.378         32        640:  93%|█████████▎| 13/14 [00:01<00:00,  6.85it/s]\u001b[32m [repeated 4x across cluster]\u001b[0m\n"
     ]
    },
    {
     "name": "stdout",
     "output_type": "stream",
     "text": [
      "\u001b[36m(_tune pid=5862)\u001b[0m Speed: 0.1ms preprocess, 0.7ms inference, 0.0ms loss, 0.6ms postprocess per image\n",
      "\u001b[36m(_tune pid=5862)\u001b[0m Results saved to \u001b[1mruns/detect/tune/tune_raytune\u001b[0m\n",
      "\u001b[36m(_tune pid=48446)\u001b[0m       Epoch    GPU_mem   box_loss   cls_loss   dfl_loss  Instances       Size\u001b[32m [repeated 4x across cluster]\u001b[0m\n"
     ]
    },
    {
     "name": "stderr",
     "output_type": "stream",
     "text": [
      "      11/30      2.09G     0.0279      3.741      1.345         35        640:  79%|███████▊  | 11/14 [00:01<00:00,  7.46it/s]\u001b[32m [repeated 41x across cluster]\u001b[0m\n",
      "      11/30      2.14G     0.0116      6.914      1.513          8        640: 100%|██████████| 14/14 [00:01<00:00,  7.45it/s]\n"
     ]
    },
    {
     "name": "stdout",
     "output_type": "stream",
     "text": [
      "\u001b[36m(_tune pid=12418)\u001b[0m \u001b[34m\u001b[1mengine/trainer: \u001b[0mtask=detect, mode=train, model=/home/under1/Detect/jeongui/sagittal/test/runs/detect/train/train_base/weights/best.pt, data=/home/under1/Detect/jeongui/sagittal/test/test.yaml, epochs=30, time=None, patience=100, batch=16, imgsz=640, save=True, save_period=-1, cache=False, device=None, workers=8, project=None, name=tune_raytune, exist_ok=False, pretrained=True, optimizer=auto, verbose=True, seed=0, deterministic=True, single_cls=False, rect=False, cos_lr=False, close_mosaic=10, resume=False, amp=True, fraction=1.0, profile=False, freeze=None, multi_scale=False, overlap_mask=True, mask_ratio=4, dropout=0.0, val=True, split=val, save_json=False, save_hybrid=False, conf=None, iou=0.7, max_det=300, half=False, dnn=False, plots=True, source=None, vid_stride=1, stream_buffer=False, visualize=False, augment=False, agnostic_nms=False, classes=None, retina_masks=False, embed=None, show=False, save_frames=False, save_txt=False, save_conf=False, save_crop=False, show_labels=True, show_conf=True, show_boxes=True, line_width=None, format=torchscript, keras=False, optimize=False, int8=False, dynamic=False, simplify=False, opset=None, workspace=4, nms=False, lr0=0.05304175820543678, lrf=0.183392788198917, momentum=0.7109061401886543, weight_decay=0.00011358641157504556, warmup_epochs=0.7748728117216197, warmup_momentum=0.6995530622084273, warmup_bias_lr=0.1, box=0.1164967548096906, cls=3.378279870561081, dfl=1.5, pose=12.0, kobj=1.0, label_smoothing=0.0, nbs=64, hsv_h=0.05239268271876199, hsv_s=0.44206002543221307, hsv_v=0.4700636588354244, degrees=16.430365502850957, translate=0.7929202456146291, scale=0.3532833074644362, shear=6.486240270607841, perspective=0.0005442542313424839, flipud=0.0801875867022438, fliplr=0.1398341166096061, bgr=0.4020780779411717, mosaic=0.43651272818220455, mixup=0.10813403821886369, copy_paste=0.2255593430352998, auto_augment=randaugment, erasing=0.4, crop_fraction=1.0, cfg=None, tracker=botsort.yaml, save_dir=runs/detect/tune/tune_raytune\n"
     ]
    },
    {
     "name": "stderr",
     "output_type": "stream",
     "text": [
      "      11/30      2.13G    0.02809      3.763      1.355          9        640: 100%|██████████| 14/14 [00:01<00:00,  7.39it/s]\n"
     ]
    },
    {
     "name": "stdout",
     "output_type": "stream",
     "text": [
      "\u001b[36m(_tune pid=48446)\u001b[0m \n",
      "\u001b[36m(_tune pid=12418)\u001b[0m Ultralytics YOLOv8.2.70 🚀 Python-3.10.14 torch-2.1.0 CUDA:0 (NVIDIA GeForce RTX 3090, 24260MiB)\n"
     ]
    },
    {
     "name": "stderr",
     "output_type": "stream",
     "text": [
      "                 Class     Images  Instances      Box(P          R      mAP50  mAP50-95):   0%|          | 0/2 [00:00<?, ?it/s]\u001b[32m [repeated 5x across cluster]\u001b[0m\n",
      "                 Class     Images  Instances      Box(P          R      mAP50  mAP50-95):  50%|█████     | 1/2 [00:00<00:00,  3.19it/s]\u001b[32m [repeated 5x across cluster]\u001b[0m\n",
      "                 Class     Images  Instances      Box(P          R      mAP50  mAP50-95): 100%|██████████| 2/2 [00:00<00:00,  3.97it/s]\u001b[32m [repeated 5x across cluster]\u001b[0m\n"
     ]
    },
    {
     "name": "stdout",
     "output_type": "stream",
     "text": [
      "\u001b[36m(_tune pid=12418)\u001b[0m \n",
      "\u001b[36m(_tune pid=12418)\u001b[0m                    from  n    params  module                                       arguments                     \n",
      "\u001b[36m(_tune pid=12418)\u001b[0m   0                  -1  1       464  ultralytics.nn.modules.conv.Conv             [3, 16, 3, 2]                 \n",
      "\u001b[36m(_tune pid=12418)\u001b[0m   1                  -1  1      4672  ultralytics.nn.modules.conv.Conv             [16, 32, 3, 2]                \n",
      "\u001b[36m(_tune pid=12418)\u001b[0m   2                  -1  1      7360  ultralytics.nn.modules.block.C2f             [32, 32, 1, True]             \n",
      "\u001b[36m(_tune pid=12418)\u001b[0m   3                  -1  1     18560  ultralytics.nn.modules.conv.Conv             [32, 64, 3, 2]                \n",
      "\u001b[36m(_tune pid=12418)\u001b[0m   4                  -1  2     49664  ultralytics.nn.modules.block.C2f             [64, 64, 2, True]             \n",
      "\u001b[36m(_tune pid=12418)\u001b[0m   5                  -1  1     73984  ultralytics.nn.modules.conv.Conv             [64, 128, 3, 2]               \n",
      "\u001b[36m(_tune pid=12418)\u001b[0m   6                  -1  2    197632  ultralytics.nn.modules.block.C2f             [128, 128, 2, True]           \n",
      "\u001b[36m(_tune pid=12418)\u001b[0m   7                  -1  1    295424  ultralytics.nn.modules.conv.Conv             [128, 256, 3, 2]              \n",
      "\u001b[36m(_tune pid=12418)\u001b[0m   8                  -1  1    460288  ultralytics.nn.modules.block.C2f             [256, 256, 1, True]           \n",
      "\u001b[36m(_tune pid=12418)\u001b[0m   9                  -1  1    164608  ultralytics.nn.modules.block.SPPF            [256, 256, 5]                 \n",
      "\u001b[36m(_tune pid=12418)\u001b[0m  10                  -1  1         0  torch.nn.modules.upsampling.Upsample         [None, 2, 'nearest']          \n",
      "\u001b[36m(_tune pid=12418)\u001b[0m  11             [-1, 6]  1         0  ultralytics.nn.modules.conv.Concat           [1]                           \n",
      "\u001b[36m(_tune pid=12418)\u001b[0m  12                  -1  1    148224  ultralytics.nn.modules.block.C2f             [384, 128, 1]                 \n",
      "\u001b[36m(_tune pid=12418)\u001b[0m  13                  -1  1         0  torch.nn.modules.upsampling.Upsample         [None, 2, 'nearest']          \n",
      "\u001b[36m(_tune pid=12418)\u001b[0m  14             [-1, 4]  1         0  ultralytics.nn.modules.conv.Concat           [1]                           \n",
      "\u001b[36m(_tune pid=12418)\u001b[0m  15                  -1  1     37248  ultralytics.nn.modules.block.C2f             [192, 64, 1]                  \n",
      "\u001b[36m(_tune pid=12418)\u001b[0m  16                  -1  1     36992  ultralytics.nn.modules.conv.Conv             [64, 64, 3, 2]                \n",
      "\u001b[36m(_tune pid=12418)\u001b[0m  17            [-1, 12]  1         0  ultralytics.nn.modules.conv.Concat           [1]                           \n",
      "\u001b[36m(_tune pid=12418)\u001b[0m  18                  -1  1    123648  ultralytics.nn.modules.block.C2f             [192, 128, 1]                 \n",
      "\u001b[36m(_tune pid=12418)\u001b[0m  19                  -1  1    147712  ultralytics.nn.modules.conv.Conv             [128, 128, 3, 2]              \n",
      "\u001b[36m(_tune pid=12418)\u001b[0m  20             [-1, 9]  1         0  ultralytics.nn.modules.conv.Concat           [1]                           \n",
      "\u001b[36m(_tune pid=12418)\u001b[0m  21                  -1  1    493056  ultralytics.nn.modules.block.C2f             [384, 256, 1]                 \n",
      "\u001b[36m(_tune pid=12418)\u001b[0m  22        [15, 18, 21]  1    751702  ultralytics.nn.modules.head.Detect           [2, [64, 128, 256]]           \n",
      "\u001b[36m(_tune pid=48446)\u001b[0m                    all         52         54      0.493      0.685      0.551      0.276\u001b[32m [repeated 4x across cluster]\u001b[0m\n",
      "\u001b[36m(_tune pid=12418)\u001b[0m Model summary: 225 layers, 3,011,238 parameters, 3,011,222 gradients, 8.2 GFLOPs\n",
      "\u001b[36m(_tune pid=12418)\u001b[0m \n",
      "\u001b[36m(_tune pid=12418)\u001b[0m Transferred 355/355 items from pretrained weights\n",
      "\u001b[36m(_tune pid=12418)\u001b[0m \u001b[34m\u001b[1mTensorBoard: \u001b[0mStart with 'tensorboard --logdir runs/detect/tune/tune_raytune', view at http://localhost:6006/\n"
     ]
    },
    {
     "name": "stderr",
     "output_type": "stream",
     "text": [
      "  0%|          | 0/14 [00:00<?, ?it/s]\u001b[32m [repeated 2x across cluster]\u001b[0m\n",
      "      12/30      2.09G     0.0287      3.658      1.397         33        640:   7%|▋         | 1/14 [00:00<00:01,  6.90it/s]\u001b[32m [repeated 3x across cluster]\u001b[0m\n",
      "      12/30      2.13G    0.02868      3.688      1.376          8        640: 100%|██████████| 14/14 [00:02<00:00,  6.86it/s]\n"
     ]
    },
    {
     "name": "stdout",
     "output_type": "stream",
     "text": [
      "\u001b[36m(_tune pid=12418)\u001b[0m Freezing layer 'model.22.dfl.conv.weight'\n",
      "\u001b[36m(_tune pid=12418)\u001b[0m \u001b[34m\u001b[1mAMP: \u001b[0mrunning Automatic Mixed Precision (AMP) checks with YOLOv8n...\n",
      "\u001b[36m(_tune pid=12418)\u001b[0m Downloading https://github.com/ultralytics/assets/releases/download/v8.2.0/yolov8n.pt to 'yolov8n.pt'...\n",
      "\u001b[36m(_tune pid=48446)\u001b[0m \n",
      "\u001b[36m(_tune pid=48446)\u001b[0m       Epoch    GPU_mem   box_loss   cls_loss   dfl_loss  Instances       Size\u001b[32m [repeated 2x across cluster]\u001b[0m\n"
     ]
    },
    {
     "name": "stderr",
     "output_type": "stream",
     "text": [
      "      12/30      2.09G    0.02887      3.685      1.375         36        640:  93%|█████████▎| 13/14 [00:01<00:00,  6.89it/s]\u001b[32m [repeated 3x across cluster]\u001b[0m\n",
      "      12/30      2.09G    0.02869      3.681      1.369         33        640:  86%|████████▌ | 12/14 [00:01<00:00,  6.84it/s]\u001b[32m [repeated 12x across cluster]\u001b[0m\n",
      "  0%|          | 0.00/6.25M [00:00<?, ?B/s]\n",
      "100%|██████████| 6.25M/6.25M [00:00<00:00, 108MB/s]\n",
      "                 Class     Images  Instances      Box(P          R      mAP50  mAP50-95):   0%|          | 0/2 [00:00<?, ?it/s]\n",
      "                 Class     Images  Instances      Box(P          R      mAP50  mAP50-95):  50%|█████     | 1/2 [00:00<00:00,  3.44it/s]\n",
      "                 Class     Images  Instances      Box(P          R      mAP50  mAP50-95): 100%|██████████| 2/2 [00:00<00:00,  3.72it/s]\n",
      "      13/30      2.13G    0.02841       3.53      1.363          8        640: 100%|██████████| 14/14 [00:01<00:00,  7.31it/s]\n",
      "                 Class     Images  Instances      Box(P          R      mAP50  mAP50-95):   0%|          | 0/2 [00:00<?, ?it/s]\n",
      "                 Class     Images  Instances      Box(P          R      mAP50  mAP50-95):  50%|█████     | 1/2 [00:00<00:00,  3.21it/s]\n"
     ]
    },
    {
     "name": "stdout",
     "output_type": "stream",
     "text": [
      "\u001b[36m(_tune pid=48446)\u001b[0m                    all         52         54      0.461      0.779      0.572      0.268\u001b[32m [repeated 2x across cluster]\u001b[0m\n"
     ]
    },
    {
     "name": "stderr",
     "output_type": "stream",
     "text": [
      "                 Class     Images  Instances      Box(P          R      mAP50  mAP50-95): 100%|██████████| 2/2 [00:00<00:00,  3.80it/s]\n"
     ]
    },
    {
     "name": "stdout",
     "output_type": "stream",
     "text": [
      "\u001b[36m(_tune pid=48446)\u001b[0m \n"
     ]
    },
    {
     "name": "stderr",
     "output_type": "stream",
     "text": [
      "  0%|          | 0/14 [00:00<?, ?it/s]\u001b[32m [repeated 2x across cluster]\u001b[0m\n",
      "      13/30      2.08G    0.02824      3.426      1.354         35        640:   7%|▋         | 1/14 [00:00<00:01,  7.30it/s]\n",
      "      14/30      2.09G    0.02923      3.765      1.352         34        640:   7%|▋         | 1/14 [00:00<00:01,  7.10it/s]\n"
     ]
    },
    {
     "name": "stdout",
     "output_type": "stream",
     "text": [
      "\u001b[36m(_tune pid=13094)\u001b[0m Ultralytics YOLOv8.2.70 🚀 Python-3.10.14 torch-2.1.0 CUDA:0 (NVIDIA GeForce RTX 3090, 24260MiB)\n",
      "\u001b[36m(_tune pid=13094)\u001b[0m \u001b[34m\u001b[1mengine/trainer: \u001b[0mtask=detect, mode=train, model=/home/under1/Detect/jeongui/sagittal/test/runs/detect/train/train_base/weights/best.pt, data=/home/under1/Detect/jeongui/sagittal/test/test.yaml, epochs=30, time=None, patience=100, batch=16, imgsz=640, save=True, save_period=-1, cache=False, device=None, workers=8, project=None, name=tune_raytune, exist_ok=False, pretrained=True, optimizer=auto, verbose=True, seed=0, deterministic=True, single_cls=False, rect=False, cos_lr=False, close_mosaic=10, resume=False, amp=True, fraction=1.0, profile=False, freeze=None, multi_scale=False, overlap_mask=True, mask_ratio=4, dropout=0.0, val=True, split=val, save_json=False, save_hybrid=False, conf=None, iou=0.7, max_det=300, half=False, dnn=False, plots=True, source=None, vid_stride=1, stream_buffer=False, visualize=False, augment=False, agnostic_nms=False, classes=None, retina_masks=False, embed=None, show=False, save_frames=False, save_txt=False, save_conf=False, save_crop=False, show_labels=True, show_conf=True, show_boxes=True, line_width=None, format=torchscript, keras=False, optimize=False, int8=False, dynamic=False, simplify=False, opset=None, workspace=4, nms=False, lr0=0.0135459041870249, lrf=0.8199398648089583, momentum=0.9171107980922617, weight_decay=8.883516817195481e-05, warmup_epochs=2.584194357063019, warmup_momentum=0.4761677668155712, warmup_bias_lr=0.1, box=0.03830153432548883, cls=0.5811159604755234, dfl=1.5, pose=12.0, kobj=1.0, label_smoothing=0.0, nbs=64, hsv_h=0.05858303594572625, hsv_s=0.16017387045810627, hsv_v=0.7760934900025596, degrees=44.6404585917311, translate=0.7468831833611957, scale=0.1946318077964816, shear=8.79751723148692, perspective=0.00020735858208005388, flipud=0.8111193034019236, fliplr=0.06100460833981869, bgr=0.6921140537474431, mosaic=0.14598222076476952, mixup=0.3087448628240633, copy_paste=0.7531983021749591, auto_augment=randaugment, erasing=0.4, crop_fraction=1.0, cfg=None, tracker=botsort.yaml, save_dir=runs/detect/tune/tune_raytune\n"
     ]
    },
    {
     "name": "stderr",
     "output_type": "stream",
     "text": [
      "      14/30      2.09G    0.02697      3.483      1.301         31        640:  93%|█████████▎| 13/14 [00:01<00:00,  7.56it/s]\u001b[32m [repeated 2x across cluster]\u001b[0m\n",
      "      14/30      2.09G    0.02724      3.497      1.307         30        640:  86%|████████▌ | 12/14 [00:01<00:00,  7.53it/s]\u001b[32m [repeated 22x across cluster]\u001b[0m\n",
      "      14/30      2.13G    0.02678      3.493      1.296         10        640: 100%|██████████| 14/14 [00:01<00:00,  7.36it/s]\n",
      "                 Class     Images  Instances      Box(P          R      mAP50  mAP50-95):   0%|          | 0/2 [00:00<?, ?it/s]\n"
     ]
    },
    {
     "name": "stdout",
     "output_type": "stream",
     "text": [
      "\u001b[36m(_tune pid=12418)\u001b[0m \u001b[34m\u001b[1mAMP: \u001b[0mchecks passed ✅\n",
      "\u001b[36m(_tune pid=48446)\u001b[0m       Epoch    GPU_mem   box_loss   cls_loss   dfl_loss  Instances       Size\n"
     ]
    },
    {
     "name": "stderr",
     "output_type": "stream",
     "text": [
      "\u001b[34m\u001b[1mtrain: \u001b[0mScanning /home/under1/Detect/jeongui/sagittal/base/labels/train.cache... 212 images, 0 backgrounds, 0 corrupt: 100%|██████████| 212/212 [00:00<?, ?it/s]\n",
      "                 Class     Images  Instances      Box(P          R      mAP50  mAP50-95):  50%|█████     | 1/2 [00:00<00:00,  3.52it/s]\n",
      "                 Class     Images  Instances      Box(P          R      mAP50  mAP50-95): 100%|██████████| 2/2 [00:00<00:00,  3.88it/s]\n"
     ]
    },
    {
     "name": "stdout",
     "output_type": "stream",
     "text": [
      "\u001b[36m(_tune pid=13094)\u001b[0m \n",
      "\u001b[36m(_tune pid=13094)\u001b[0m                    from  n    params  module                                       arguments                     \n",
      "\u001b[36m(_tune pid=13094)\u001b[0m   0                  -1  1       464  ultralytics.nn.modules.conv.Conv             [3, 16, 3, 2]                 \n",
      "\u001b[36m(_tune pid=13094)\u001b[0m   1                  -1  1      4672  ultralytics.nn.modules.conv.Conv             [16, 32, 3, 2]                \n",
      "\u001b[36m(_tune pid=13094)\u001b[0m   2                  -1  1      7360  ultralytics.nn.modules.block.C2f             [32, 32, 1, True]             \n",
      "\u001b[36m(_tune pid=13094)\u001b[0m   3                  -1  1     18560  ultralytics.nn.modules.conv.Conv             [32, 64, 3, 2]                \n",
      "\u001b[36m(_tune pid=13094)\u001b[0m   4                  -1  2     49664  ultralytics.nn.modules.block.C2f             [64, 64, 2, True]             \n",
      "\u001b[36m(_tune pid=13094)\u001b[0m   5                  -1  1     73984  ultralytics.nn.modules.conv.Conv             [64, 128, 3, 2]               \n",
      "\u001b[36m(_tune pid=13094)\u001b[0m   6                  -1  2    197632  ultralytics.nn.modules.block.C2f             [128, 128, 2, True]           \n",
      "\u001b[36m(_tune pid=13094)\u001b[0m   7                  -1  1    295424  ultralytics.nn.modules.conv.Conv             [128, 256, 3, 2]              \n",
      "\u001b[36m(_tune pid=13094)\u001b[0m   8                  -1  1    460288  ultralytics.nn.modules.block.C2f             [256, 256, 1, True]           \n",
      "\u001b[36m(_tune pid=13094)\u001b[0m   9                  -1  1    164608  ultralytics.nn.modules.block.SPPF            [256, 256, 5]                 \n",
      "\u001b[36m(_tune pid=13094)\u001b[0m  10                  -1  1         0  torch.nn.modules.upsampling.Upsample         [None, 2, 'nearest']          \n",
      "\u001b[36m(_tune pid=13094)\u001b[0m  11             [-1, 6]  1         0  ultralytics.nn.modules.conv.Concat           [1]                           \n",
      "\u001b[36m(_tune pid=13094)\u001b[0m  12                  -1  1    148224  ultralytics.nn.modules.block.C2f             [384, 128, 1]                 \n",
      "\u001b[36m(_tune pid=13094)\u001b[0m  13                  -1  1         0  torch.nn.modules.upsampling.Upsample         [None, 2, 'nearest']          \n",
      "\u001b[36m(_tune pid=13094)\u001b[0m  14             [-1, 4]  1         0  ultralytics.nn.modules.conv.Concat           [1]                           \n",
      "\u001b[36m(_tune pid=13094)\u001b[0m  15                  -1  1     37248  ultralytics.nn.modules.block.C2f             [192, 64, 1]                  \n",
      "\u001b[36m(_tune pid=13094)\u001b[0m  16                  -1  1     36992  ultralytics.nn.modules.conv.Conv             [64, 64, 3, 2]                \n",
      "\u001b[36m(_tune pid=13094)\u001b[0m  17            [-1, 12]  1         0  ultralytics.nn.modules.conv.Concat           [1]                           \n",
      "\u001b[36m(_tune pid=13094)\u001b[0m  18                  -1  1    123648  ultralytics.nn.modules.block.C2f             [192, 128, 1]                 \n",
      "\u001b[36m(_tune pid=13094)\u001b[0m  19                  -1  1    147712  ultralytics.nn.modules.conv.Conv             [128, 128, 3, 2]              \n",
      "\u001b[36m(_tune pid=13094)\u001b[0m  20             [-1, 9]  1         0  ultralytics.nn.modules.conv.Concat           [1]                           \n",
      "\u001b[36m(_tune pid=13094)\u001b[0m  21                  -1  1    493056  ultralytics.nn.modules.block.C2f             [384, 256, 1]                 \n",
      "\u001b[36m(_tune pid=13094)\u001b[0m  22        [15, 18, 21]  1    751702  ultralytics.nn.modules.head.Detect           [2, [64, 128, 256]]           \n",
      "\u001b[36m(_tune pid=13096)\u001b[0m \n",
      "\u001b[36m(_tune pid=13096)\u001b[0m  12                  -1  1    148224  ultralytics.nn.modules.block.C2f             [384, 128, 1]                 \n",
      "\u001b[36m(_tune pid=13096)\u001b[0m  15                  -1  1     37248  ultralytics.nn.modules.block.C2f             [192, 64, 1]                  \n",
      "\u001b[36m(_tune pid=13096)\u001b[0m  18                  -1  1    123648  ultralytics.nn.modules.block.C2f             [192, 128, 1]                 \n",
      "\u001b[36m(_tune pid=13096)\u001b[0m  21                  -1  1    493056  ultralytics.nn.modules.block.C2f             [384, 256, 1]                 \n",
      "\u001b[36m(_tune pid=13094)\u001b[0m Model summary: 225 layers, 3,011,238 parameters, 3,011,222 gradients, 8.2 GFLOPs\n",
      "\u001b[36m(_tune pid=13094)\u001b[0m \n",
      "\u001b[36m(_tune pid=13094)\u001b[0m Transferred 355/355 items from pretrained weights\n",
      "\u001b[36m(_tune pid=13094)\u001b[0m \u001b[34m\u001b[1mTensorBoard: \u001b[0mStart with 'tensorboard --logdir runs/detect/tune/tune_raytune', view at http://localhost:6006/\n",
      "\u001b[36m(_tune pid=13096)\u001b[0m \n",
      "\u001b[36m(_tune pid=48446)\u001b[0m \n",
      "\u001b[36m(_tune pid=48446)\u001b[0m       Epoch    GPU_mem   box_loss   cls_loss   dfl_loss  Instances       Size\n",
      "\u001b[36m(_tune pid=12418)\u001b[0m \u001b[34m\u001b[1malbumentations: \u001b[0mBlur(p=0.01, blur_limit=(3, 7)), MedianBlur(p=0.01, blur_limit=(3, 7)), ToGray(p=0.01), CLAHE(p=0.01, clip_limit=(1, 4.0), tile_grid_size=(8, 8))\n"
     ]
    },
    {
     "name": "stderr",
     "output_type": "stream",
     "text": [
      "      15/30      2.09G    0.02684      3.418      1.462         32        640:   7%|▋         | 1/14 [00:00<00:01,  7.86it/s]\n",
      "\u001b[36m(_tune pid=12418)\u001b[0m INFO:albumentations.check_version:A new version of Albumentations is available: 1.4.12 (you have 1.4.10). Upgrade using: pip install --upgrade albumentations\n"
     ]
    },
    {
     "name": "stdout",
     "output_type": "stream",
     "text": [
      "\u001b[36m(_tune pid=13094)\u001b[0m Freezing layer 'model.22.dfl.conv.weight'\n",
      "\u001b[36m(_tune pid=13094)\u001b[0m \u001b[34m\u001b[1mAMP: \u001b[0mrunning Automatic Mixed Precision (AMP) checks with YOLOv8n...\n",
      "\u001b[36m(_tune pid=13094)\u001b[0m Downloading https://github.com/ultralytics/assets/releases/download/v8.2.0/yolov8n.pt to 'yolov8n.pt'...\n",
      "\u001b[36m(_tune pid=48446)\u001b[0m                    all         52         54      0.485      0.761      0.583      0.285\n"
     ]
    },
    {
     "name": "stderr",
     "output_type": "stream",
     "text": [
      "  0%|          | 0/14 [00:00<?, ?it/s]\n",
      "\u001b[34m\u001b[1mval: \u001b[0mScanning /home/under1/Detect/jeongui/sagittal/base/labels/val.cache... 52 images, 0 backgrounds, 0 corrupt: 100%|██████████| 52/52 [00:00<?, ?it/s]\n",
      "      15/30      2.14G    0.02835      3.555      1.371         11        640: 100%|██████████| 14/14 [00:01<00:00,  7.44it/s]\n",
      "                 Class     Images  Instances      Box(P          R      mAP50  mAP50-95):   0%|          | 0/2 [00:00<?, ?it/s]\n",
      "                 Class     Images  Instances      Box(P          R      mAP50  mAP50-95):  50%|█████     | 1/2 [00:00<00:00,  2.82it/s]\n",
      "  0%|          | 0.00/6.25M [00:00<?, ?B/s]\n",
      "100%|██████████| 6.25M/6.25M [00:00<00:00, 106MB/s]\n"
     ]
    },
    {
     "name": "stdout",
     "output_type": "stream",
     "text": [
      "\u001b[36m(_tune pid=48446)\u001b[0m                    all         52         54      0.507      0.629      0.568      0.279\n",
      "\u001b[36m(_tune pid=13096)\u001b[0m Ultralytics YOLOv8.2.70 🚀 Python-3.10.14 torch-2.1.0 CUDA:0 (NVIDIA GeForce RTX 3090, 24260MiB)\n",
      "\u001b[36m(_tune pid=13096)\u001b[0m \u001b[34m\u001b[1mengine/trainer: \u001b[0mtask=detect, mode=train, model=/home/under1/Detect/jeongui/sagittal/test/runs/detect/train/train_base/weights/best.pt, data=/home/under1/Detect/jeongui/sagittal/test/test.yaml, epochs=30, time=None, patience=100, batch=16, imgsz=640, save=True, save_period=-1, cache=False, device=None, workers=8, project=None, name=tune_raytune, exist_ok=False, pretrained=True, optimizer=auto, verbose=True, seed=0, deterministic=True, single_cls=False, rect=False, cos_lr=False, close_mosaic=10, resume=False, amp=True, fraction=1.0, profile=False, freeze=None, multi_scale=False, overlap_mask=True, mask_ratio=4, dropout=0.0, val=True, split=val, save_json=False, save_hybrid=False, conf=None, iou=0.7, max_det=300, half=False, dnn=False, plots=True, source=None, vid_stride=1, stream_buffer=False, visualize=False, augment=False, agnostic_nms=False, classes=None, retina_masks=False, embed=None, show=False, save_frames=False, save_txt=False, save_conf=False, save_crop=False, show_labels=True, show_conf=True, show_boxes=True, line_width=None, format=torchscript, keras=False, optimize=False, int8=False, dynamic=False, simplify=False, opset=None, workspace=4, nms=False, lr0=0.08995372468871818, lrf=0.17357435336925905, momentum=0.7598643293695957, weight_decay=0.0008877510436785502, warmup_epochs=1.5612392103004096, warmup_momentum=0.014174695760925136, warmup_bias_lr=0.1, box=0.026016298145909625, cls=3.597377443301027, dfl=1.5, pose=12.0, kobj=1.0, label_smoothing=0.0, nbs=64, hsv_h=0.039597060461517834, hsv_s=0.47895627631751664, hsv_v=0.7198260103533057, degrees=16.573003418585756, translate=0.5183653896354379, scale=0.3676468149586472, shear=8.267846113539441, perspective=0.00026982534986322684, flipud=0.46613902213565894, fliplr=0.7351818704779061, bgr=0.35517835143580645, mosaic=0.06731135102791086, mixup=0.8214783945258827, copy_paste=0.7145978687697273, auto_augment=randaugment, erasing=0.4, crop_fraction=1.0, cfg=None, tracker=botsort.yaml, save_dir=runs/detect/tune/tune_raytune\n"
     ]
    },
    {
     "name": "stderr",
     "output_type": "stream",
     "text": [
      "                 Class     Images  Instances      Box(P          R      mAP50  mAP50-95): 100%|██████████| 2/2 [00:00<00:00,  3.31it/s]\n"
     ]
    },
    {
     "name": "stdout",
     "output_type": "stream",
     "text": [
      "\u001b[36m(_tune pid=48446)\u001b[0m \n",
      "\u001b[36m(_tune pid=48446)\u001b[0m       Epoch    GPU_mem   box_loss   cls_loss   dfl_loss  Instances       Size\n"
     ]
    },
    {
     "name": "stderr",
     "output_type": "stream",
     "text": [
      "  0%|          | 0/14 [00:00<?, ?it/s]\n",
      "      15/30      2.09G      0.028      3.499      1.368         37        640:  93%|█████████▎| 13/14 [00:01<00:00,  7.26it/s]\u001b[32m [repeated 2x across cluster]\u001b[0m\n",
      "      15/30      2.09G    0.02794      3.489      1.374         34        640:  86%|████████▌ | 12/14 [00:01<00:00,  7.25it/s]\u001b[32m [repeated 10x across cluster]\u001b[0m\n",
      "      16/30      2.09G     0.0261      3.697      1.346         33        640:   7%|▋         | 1/14 [00:00<00:01,  7.72it/s]\n",
      "      16/30      2.13G    0.02816      3.483       1.36          8        640: 100%|██████████| 14/14 [00:02<00:00,  6.78it/s]\n",
      "                 Class     Images  Instances      Box(P          R      mAP50  mAP50-95):   0%|          | 0/2 [00:00<?, ?it/s]\n"
     ]
    },
    {
     "name": "stdout",
     "output_type": "stream",
     "text": [
      "\u001b[36m(_tune pid=12418)\u001b[0m Plotting labels to runs/detect/tune/tune_raytune/labels.jpg... \n",
      "\u001b[36m(_tune pid=13096)\u001b[0m                    from  n    params  module                                       arguments                     \n",
      "\u001b[36m(_tune pid=13096)\u001b[0m  19                  -1  1    147712  ultralytics.nn.modules.conv.Conv             [128, 128, 3, 2]              \u001b[32m [repeated 7x across cluster]\u001b[0m\n",
      "\u001b[36m(_tune pid=13096)\u001b[0m   8                  -1  1    460288  ultralytics.nn.modules.block.C2f             [256, 256, 1, True]           \u001b[32m [repeated 4x across cluster]\u001b[0m\n",
      "\u001b[36m(_tune pid=13096)\u001b[0m   9                  -1  1    164608  ultralytics.nn.modules.block.SPPF            [256, 256, 5]                 \n",
      "\u001b[36m(_tune pid=13096)\u001b[0m  13                  -1  1         0  torch.nn.modules.upsampling.Upsample         [None, 2, 'nearest']          \u001b[32m [repeated 2x across cluster]\u001b[0m\n",
      "\u001b[36m(_tune pid=13096)\u001b[0m  20             [-1, 9]  1         0  ultralytics.nn.modules.conv.Concat           [1]                           \u001b[32m [repeated 4x across cluster]\u001b[0m\n",
      "\u001b[36m(_tune pid=13096)\u001b[0m  22        [15, 18, 21]  1    751702  ultralytics.nn.modules.head.Detect           [2, [64, 128, 256]]           \n",
      "\u001b[36m(_tune pid=13096)\u001b[0m Model summary: 225 layers, 3,011,238 parameters, 3,011,222 gradients, 8.2 GFLOPs\n",
      "\u001b[36m(_tune pid=13096)\u001b[0m Transferred 355/355 items from pretrained weights\n",
      "\u001b[36m(_tune pid=13096)\u001b[0m \u001b[34m\u001b[1mTensorBoard: \u001b[0mStart with 'tensorboard --logdir runs/detect/tune/tune_raytune', view at http://localhost:6006/\n"
     ]
    },
    {
     "name": "stderr",
     "output_type": "stream",
     "text": [
      "                 Class     Images  Instances      Box(P          R      mAP50  mAP50-95):  50%|█████     | 1/2 [00:00<00:00,  3.40it/s]\n"
     ]
    },
    {
     "name": "stdout",
     "output_type": "stream",
     "text": [
      "\u001b[36m(_tune pid=48446)\u001b[0m                    all         52         54       0.53       0.65      0.607      0.292\n"
     ]
    },
    {
     "name": "stderr",
     "output_type": "stream",
     "text": [
      "                 Class     Images  Instances      Box(P          R      mAP50  mAP50-95): 100%|██████████| 2/2 [00:00<00:00,  3.96it/s]\n"
     ]
    },
    {
     "name": "stdout",
     "output_type": "stream",
     "text": [
      "\u001b[36m(_tune pid=48446)\u001b[0m \n",
      "\u001b[36m(_tune pid=48446)\u001b[0m       Epoch    GPU_mem   box_loss   cls_loss   dfl_loss  Instances       Size\n",
      "\u001b[36m(_tune pid=13096)\u001b[0m Freezing layer 'model.22.dfl.conv.weight'\n",
      "\u001b[36m(_tune pid=13096)\u001b[0m \u001b[34m\u001b[1mAMP: \u001b[0mrunning Automatic Mixed Precision (AMP) checks with YOLOv8n...\n",
      "\u001b[36m(_tune pid=13096)\u001b[0m Downloading https://github.com/ultralytics/assets/releases/download/v8.2.0/yolov8n.pt to 'yolov8n.pt'...\n"
     ]
    },
    {
     "name": "stderr",
     "output_type": "stream",
     "text": [
      "  0%|          | 0/14 [00:00<?, ?it/s]\n",
      "      17/30      2.09G    0.02691      3.542      1.304         33        640:   7%|▋         | 1/14 [00:00<00:01,  7.06it/s]\n"
     ]
    },
    {
     "name": "stdout",
     "output_type": "stream",
     "text": [
      "\u001b[36m(_tune pid=13094)\u001b[0m \u001b[34m\u001b[1mAMP: \u001b[0mchecks passed ✅\n"
     ]
    },
    {
     "name": "stderr",
     "output_type": "stream",
     "text": [
      "\u001b[34m\u001b[1mtrain: \u001b[0mScanning /home/under1/Detect/jeongui/sagittal/base/labels/train.cache... 212 images, 0 backgrounds, 0 corrupt: 100%|██████████| 212/212 [00:00<?, ?it/s]\n",
      "100%|██████████| 6.25M/6.25M [00:00<00:00, 107MB/s]\n",
      "      17/30      2.09G    0.02735      3.495      1.315         41        640:  14%|█▍        | 2/14 [00:00<00:01,  6.67it/s]\u001b[32m [repeated 3x across cluster]\u001b[0m\n",
      "      17/30      2.09G    0.02726      3.323      1.336         34        640:  79%|███████▊  | 11/14 [00:01<00:00,  6.95it/s]\u001b[32m [repeated 20x across cluster]\u001b[0m\n"
     ]
    },
    {
     "name": "stdout",
     "output_type": "stream",
     "text": [
      "\u001b[36m(_tune pid=13094)\u001b[0m \u001b[34m\u001b[1malbumentations: \u001b[0mBlur(p=0.01, blur_limit=(3, 7)), MedianBlur(p=0.01, blur_limit=(3, 7)), ToGray(p=0.01), CLAHE(p=0.01, clip_limit=(1, 4.0), tile_grid_size=(8, 8))\n"
     ]
    },
    {
     "name": "stderr",
     "output_type": "stream",
     "text": [
      "\u001b[36m(_tune pid=13094)\u001b[0m INFO:albumentations.check_version:A new version of Albumentations is available: 1.4.12 (you have 1.4.10). Upgrade using: pip install --upgrade albumentations\n",
      "      17/30      2.13G    0.02723      3.359      1.336          8        640: 100%|██████████| 14/14 [00:02<00:00,  6.92it/s]\n",
      "                 Class     Images  Instances      Box(P          R      mAP50  mAP50-95):   0%|          | 0/2 [00:00<?, ?it/s]\n"
     ]
    },
    {
     "name": "stdout",
     "output_type": "stream",
     "text": [
      "\u001b[36m(_tune pid=12418)\u001b[0m \u001b[34m\u001b[1moptimizer:\u001b[0m 'optimizer=auto' found, ignoring 'lr0=0.05304175820543678' and 'momentum=0.7109061401886543' and determining best 'optimizer', 'lr0' and 'momentum' automatically... \n",
      "\u001b[36m(_tune pid=12418)\u001b[0m \u001b[34m\u001b[1moptimizer:\u001b[0m AdamW(lr=0.001667, momentum=0.9) with parameter groups 57 weight(decay=0.0), 64 weight(decay=0.00011358641157504556), 63 bias(decay=0.0)\n"
     ]
    },
    {
     "name": "stderr",
     "output_type": "stream",
     "text": [
      "                 Class     Images  Instances      Box(P          R      mAP50  mAP50-95):  50%|█████     | 1/2 [00:00<00:00,  3.52it/s]\n"
     ]
    },
    {
     "name": "stdout",
     "output_type": "stream",
     "text": [
      "\u001b[36m(_tune pid=13096)\u001b[0m \u001b[34m\u001b[1malbumentations: \u001b[0mBlur(p=0.01, blur_limit=(3, 7)), MedianBlur(p=0.01, blur_limit=(3, 7)), ToGray(p=0.01), CLAHE(p=0.01, clip_limit=(1, 4.0), tile_grid_size=(8, 8))\n",
      "\u001b[36m(_tune pid=48446)\u001b[0m                    all         52         54      0.486      0.775      0.648      0.343\n"
     ]
    },
    {
     "name": "stderr",
     "output_type": "stream",
     "text": [
      "                 Class     Images  Instances      Box(P          R      mAP50  mAP50-95): 100%|██████████| 2/2 [00:00<00:00,  4.07it/s]\n"
     ]
    },
    {
     "name": "stdout",
     "output_type": "stream",
     "text": [
      "\u001b[36m(_tune pid=48446)\u001b[0m \n",
      "\u001b[36m(_tune pid=48446)\u001b[0m       Epoch    GPU_mem   box_loss   cls_loss   dfl_loss  Instances       Size\n"
     ]
    },
    {
     "name": "stderr",
     "output_type": "stream",
     "text": [
      "  0%|          | 0/14 [00:00<?, ?it/s]\n",
      "      18/30      2.09G    0.03051      3.367      1.415         34        640:   7%|▋         | 1/14 [00:00<00:02,  5.62it/s]\n",
      "\u001b[34m\u001b[1mval: \u001b[0mScanning /home/under1/Detect/jeongui/sagittal/base/labels/val.cache... 52 images, 0 backgrounds, 0 corrupt: 100%|██████████| 52/52 [00:00<?, ?it/s]\u001b[32m [repeated 3x across cluster]\u001b[0m\n",
      "      18/30      2.13G    0.02799      3.294      1.312          8        640: 100%|██████████| 14/14 [00:02<00:00,  5.66it/s]\n",
      "                 Class     Images  Instances      Box(P          R      mAP50  mAP50-95):   0%|          | 0/2 [00:00<?, ?it/s]\n",
      "                 Class     Images  Instances      Box(P          R      mAP50  mAP50-95):  50%|█████     | 1/2 [00:00<00:00,  3.21it/s]\n"
     ]
    },
    {
     "name": "stdout",
     "output_type": "stream",
     "text": [
      "\u001b[36m(_tune pid=48446)\u001b[0m                    all         52         54      0.512      0.796      0.615      0.297\n",
      "\u001b[36m(_tune pid=13096)\u001b[0m \u001b[34m\u001b[1mAMP: \u001b[0mchecks passed ✅\n"
     ]
    },
    {
     "name": "stderr",
     "output_type": "stream",
     "text": [
      "                 Class     Images  Instances      Box(P          R      mAP50  mAP50-95): 100%|██████████| 2/2 [00:00<00:00,  3.72it/s]\n",
      "      18/30      2.09G    0.02793      3.284      1.312         35        640:  93%|█████████▎| 13/14 [00:02<00:00,  6.11it/s]\u001b[32m [repeated 2x across cluster]\u001b[0m\n",
      "      18/30      2.09G    0.02802      3.293      1.313         33        640:  86%|████████▌ | 12/14 [00:02<00:00,  6.20it/s]\u001b[32m [repeated 12x across cluster]\u001b[0m\n"
     ]
    },
    {
     "name": "stdout",
     "output_type": "stream",
     "text": [
      "\u001b[36m(_tune pid=13094)\u001b[0m Plotting labels to runs/detect/tune/tune_raytune/labels.jpg... \n",
      "\u001b[36m(_tune pid=12418)\u001b[0m \u001b[34m\u001b[1mTensorBoard: \u001b[0mmodel graph visualization added ✅\n",
      "\u001b[36m(_tune pid=12418)\u001b[0m Image sizes 640 train, 640 val\n",
      "\u001b[36m(_tune pid=12418)\u001b[0m Using 8 dataloader workers\n",
      "\u001b[36m(_tune pid=12418)\u001b[0m Logging results to \u001b[1mruns/detect/tune/tune_raytune\u001b[0m\n",
      "\u001b[36m(_tune pid=12418)\u001b[0m Starting training for 30 epochs...\n",
      "\u001b[36m(_tune pid=12418)\u001b[0m \n",
      "\u001b[36m(_tune pid=12418)\u001b[0m       Epoch    GPU_mem   box_loss   cls_loss   dfl_loss  Instances       Size\n"
     ]
    },
    {
     "name": "stderr",
     "output_type": "stream",
     "text": [
      "\u001b[36m(_tune pid=13096)\u001b[0m INFO:albumentations.check_version:A new version of Albumentations is available: 1.4.12 (you have 1.4.10). Upgrade using: pip install --upgrade albumentations\n"
     ]
    },
    {
     "name": "stdout",
     "output_type": "stream",
     "text": [
      "\u001b[36m(_tune pid=48446)\u001b[0m \n"
     ]
    },
    {
     "name": "stderr",
     "output_type": "stream",
     "text": [
      "      19/30      2.09G    0.02441      3.149      1.237         35        640:   7%|▋         | 1/14 [00:00<00:02,  6.03it/s]\n",
      "  0%|          | 0/14 [00:00<?, ?it/s]\u001b[32m [repeated 2x across cluster]\u001b[0m\n",
      "       1/30      2.12G    0.03091      13.19      1.841         14        640:   7%|▋         | 1/14 [00:01<00:13,  1.03s/it]\n",
      "      19/30      2.13G    0.02776      3.238      1.334          6        640: 100%|██████████| 14/14 [00:02<00:00,  5.33it/s]\n",
      "                 Class     Images  Instances      Box(P          R      mAP50  mAP50-95):   0%|          | 0/2 [00:00<?, ?it/s]\n"
     ]
    },
    {
     "name": "stdout",
     "output_type": "stream",
     "text": [
      "\u001b[36m(_tune pid=13094)\u001b[0m \u001b[34m\u001b[1moptimizer:\u001b[0m 'optimizer=auto' found, ignoring 'lr0=0.0135459041870249' and 'momentum=0.9171107980922617' and determining best 'optimizer', 'lr0' and 'momentum' automatically... \n",
      "\u001b[36m(_tune pid=13094)\u001b[0m \u001b[34m\u001b[1moptimizer:\u001b[0m AdamW(lr=0.001667, momentum=0.9) with parameter groups 57 weight(decay=0.0), 64 weight(decay=8.883516817195481e-05), 63 bias(decay=0.0)\n"
     ]
    },
    {
     "name": "stderr",
     "output_type": "stream",
     "text": [
      "                 Class     Images  Instances      Box(P          R      mAP50  mAP50-95):  50%|█████     | 1/2 [00:00<00:00,  2.68it/s]\n"
     ]
    },
    {
     "name": "stdout",
     "output_type": "stream",
     "text": [
      "\u001b[36m(_tune pid=48446)\u001b[0m                    all         52         54      0.443      0.792      0.586      0.268\n"
     ]
    },
    {
     "name": "stderr",
     "output_type": "stream",
     "text": [
      "                 Class     Images  Instances      Box(P          R      mAP50  mAP50-95): 100%|██████████| 2/2 [00:00<00:00,  3.01it/s]\n",
      "      19/30      2.09G     0.0277       3.17      1.338         35        640:  93%|█████████▎| 13/14 [00:02<00:00,  4.86it/s]\u001b[32m [repeated 3x across cluster]\u001b[0m\n",
      "       1/30      2.12G    0.03011      13.55      1.976          9        640:  64%|██████▍   | 9/14 [00:04<00:01,  3.68it/s]\u001b[32m [repeated 18x across cluster]\u001b[0m\n"
     ]
    },
    {
     "name": "stdout",
     "output_type": "stream",
     "text": [
      "\u001b[36m(_tune pid=48446)\u001b[0m \n",
      "\u001b[36m(_tune pid=13096)\u001b[0m Plotting labels to runs/detect/tune/tune_raytune/labels.jpg... \n",
      "\u001b[36m(_tune pid=48446)\u001b[0m       Epoch    GPU_mem   box_loss   cls_loss   dfl_loss  Instances       Size\u001b[32m [repeated 2x across cluster]\u001b[0m\n"
     ]
    },
    {
     "name": "stderr",
     "output_type": "stream",
     "text": [
      "       1/30      2.16G    0.02879      13.89      1.866          3        640: 100%|██████████| 14/14 [00:05<00:00,  2.54it/s]\n",
      "      20/30      2.09G    0.02891      3.379      1.412         33        640:   7%|▋         | 1/14 [00:00<00:01,  8.19it/s]\n",
      "  0%|          | 0/14 [00:00<?, ?it/s]\n",
      "      20/30      2.13G    0.02752      3.134      1.347          9        640: 100%|██████████| 14/14 [00:02<00:00,  6.42it/s]\n"
     ]
    },
    {
     "name": "stdout",
     "output_type": "stream",
     "text": [
      "\u001b[36m(_tune pid=12418)\u001b[0m \n"
     ]
    },
    {
     "name": "stderr",
     "output_type": "stream",
     "text": [
      "  0%|          | 0/14 [00:00<?, ?it/s]\n",
      "       2/30      2.09G     0.0229      12.81      1.564          9        640:  21%|██▏       | 3/14 [00:00<00:01,  6.77it/s]\n",
      "       2/30      2.09G    0.02215      12.29      1.465         16        640:  36%|███▌      | 5/14 [00:00<00:01,  8.02it/s]\n",
      "                 Class     Images  Instances      Box(P          R      mAP50  mAP50-95):   0%|          | 0/2 [00:00<?, ?it/s]\u001b[32m [repeated 2x across cluster]\u001b[0m\n",
      "                 Class     Images  Instances      Box(P          R      mAP50  mAP50-95):  50%|█████     | 1/2 [00:00<00:00,  3.97it/s]\u001b[32m [repeated 2x across cluster]\u001b[0m\n"
     ]
    },
    {
     "name": "stdout",
     "output_type": "stream",
     "text": [
      "\u001b[36m(_tune pid=13096)\u001b[0m \u001b[34m\u001b[1mTensorBoard: \u001b[0mmodel graph visualization added ✅\n",
      "\u001b[36m(_tune pid=13096)\u001b[0m Image sizes 640 train, 640 val\n",
      "\u001b[36m(_tune pid=13096)\u001b[0m Using 8 dataloader workers\n",
      "\u001b[36m(_tune pid=13096)\u001b[0m Logging results to \u001b[1mruns/detect/tune/tune_raytune\u001b[0m\n",
      "\u001b[36m(_tune pid=13096)\u001b[0m Starting training for 30 epochs...\n",
      "\u001b[36m(_tune pid=13096)\u001b[0m \n",
      "\u001b[36m(_tune pid=13096)\u001b[0m \u001b[34m\u001b[1moptimizer:\u001b[0m 'optimizer=auto' found, ignoring 'lr0=0.08995372468871818' and 'momentum=0.7598643293695957' and determining best 'optimizer', 'lr0' and 'momentum' automatically... \n",
      "\u001b[36m(_tune pid=13096)\u001b[0m \u001b[34m\u001b[1moptimizer:\u001b[0m AdamW(lr=0.001667, momentum=0.9) with parameter groups 57 weight(decay=0.0), 64 weight(decay=0.0008877510436785502), 63 bias(decay=0.0)\n",
      "\u001b[36m(_tune pid=48446)\u001b[0m Closing dataloader mosaic\n",
      "\u001b[36m(_tune pid=48446)\u001b[0m \u001b[34m\u001b[1malbumentations: \u001b[0mBlur(p=0.01, blur_limit=(3, 7)), MedianBlur(p=0.01, blur_limit=(3, 7)), ToGray(p=0.01), CLAHE(p=0.01, clip_limit=(1, 4.0), tile_grid_size=(8, 8))\n",
      "\u001b[36m(_tune pid=48446)\u001b[0m                    all         52         54      0.531      0.686      0.636      0.311\u001b[32m [repeated 2x across cluster]\u001b[0m\n"
     ]
    },
    {
     "name": "stderr",
     "output_type": "stream",
     "text": [
      "                 Class     Images  Instances      Box(P          R      mAP50  mAP50-95): 100%|██████████| 2/2 [00:00<00:00,  4.35it/s]\u001b[32m [repeated 2x across cluster]\u001b[0m\n",
      "       2/30      2.09G    0.02317      12.64      1.452         15        640:  64%|██████▍   | 9/14 [00:01<00:00,  8.85it/s]\u001b[32m [repeated 4x across cluster]\u001b[0m\n",
      "       2/30      2.09G    0.02312      12.51      1.439         16        640:  79%|███████▊  | 11/14 [00:01<00:00,  9.02it/s]\u001b[32m [repeated 18x across cluster]\u001b[0m\n"
     ]
    },
    {
     "name": "stdout",
     "output_type": "stream",
     "text": [
      "\u001b[36m(_tune pid=13094)\u001b[0m \n"
     ]
    },
    {
     "name": "stderr",
     "output_type": "stream",
     "text": [
      "       2/30      2.12G    0.02245      12.47       1.41          3        640: 100%|██████████| 14/14 [00:01<00:00,  8.63it/s]\n",
      "       1/30      2.12G    0.01563       2.38      4.206         18        640:   7%|▋         | 1/14 [00:00<00:12,  1.05it/s]\u001b[32m [repeated 3x across cluster]\u001b[0m\n"
     ]
    },
    {
     "name": "stdout",
     "output_type": "stream",
     "text": [
      "\u001b[36m(_tune pid=48446)\u001b[0m \n",
      "\u001b[36m(_tune pid=48446)\u001b[0m       Epoch    GPU_mem   box_loss   cls_loss   dfl_loss  Instances       Size\u001b[32m [repeated 4x across cluster]\u001b[0m\n",
      "\u001b[36m(_tune pid=12418)\u001b[0m \n"
     ]
    },
    {
     "name": "stderr",
     "output_type": "stream",
     "text": [
      "       1/30      2.16G    0.01302      3.029      2.805          2        640: 100%|██████████| 14/14 [00:03<00:00,  4.15it/s]\n",
      "       3/30      2.12G    0.02421      13.17      1.432          3        640: 100%|██████████| 14/14 [00:01<00:00,  8.50it/s]\n",
      "       1/30      2.16G   0.006371      13.88      1.722          8        640: 100%|██████████| 14/14 [00:03<00:00,  3.56it/s]\n",
      "  0%|          | 0/14 [00:00<?, ?it/s]\u001b[32m [repeated 4x across cluster]\u001b[0m\n",
      "                 Class     Images  Instances      Box(P          R      mAP50  mAP50-95):   0%|          | 0/2 [00:00<?, ?it/s]\u001b[32m [repeated 4x across cluster]\u001b[0m\n",
      "                 Class     Images  Instances      Box(P          R      mAP50  mAP50-95):  50%|█████     | 1/2 [00:00<00:00,  1.70it/s]\u001b[32m [repeated 4x across cluster]\u001b[0m\n"
     ]
    },
    {
     "name": "stdout",
     "output_type": "stream",
     "text": [
      "\u001b[36m(_tune pid=12418)\u001b[0m \n",
      "\u001b[36m(_tune pid=13094)\u001b[0m \u001b[34m\u001b[1mTensorBoard: \u001b[0mmodel graph visualization added ✅\n",
      "\u001b[36m(_tune pid=13094)\u001b[0m Image sizes 640 train, 640 val\n",
      "\u001b[36m(_tune pid=13094)\u001b[0m Using 8 dataloader workers\n",
      "\u001b[36m(_tune pid=13094)\u001b[0m Logging results to \u001b[1mruns/detect/tune/tune_raytune\u001b[0m\n",
      "\u001b[36m(_tune pid=13094)\u001b[0m Starting training for 30 epochs...\n",
      "\u001b[36m(_tune pid=13096)\u001b[0m                    all         52         54      0.452      0.779      0.555      0.383\u001b[32m [repeated 4x across cluster]\u001b[0m\n"
     ]
    },
    {
     "name": "stderr",
     "output_type": "stream",
     "text": [
      "                 Class     Images  Instances      Box(P          R      mAP50  mAP50-95): 100%|██████████| 2/2 [00:01<00:00,  1.97it/s]\u001b[32m [repeated 4x across cluster]\u001b[0m\n",
      "       3/30       2.1G    0.02483      13.29      1.447         17        640:  93%|█████████▎| 13/14 [00:01<00:00,  8.86it/s]\u001b[32m [repeated 10x across cluster]\u001b[0m\n",
      "      21/30       2.1G    0.02661      3.344      1.306         16        640:  79%|███████▊  | 11/14 [00:03<00:00,  3.26it/s]\u001b[32m [repeated 38x across cluster]\u001b[0m\n",
      "      21/30      2.13G    0.02683      3.321      1.303          4        640: 100%|██████████| 14/14 [00:04<00:00,  3.27it/s]\n"
     ]
    },
    {
     "name": "stdout",
     "output_type": "stream",
     "text": [
      "\u001b[36m(_tune pid=13096)\u001b[0m \n",
      "\u001b[36m(_tune pid=13094)\u001b[0m \n"
     ]
    },
    {
     "name": "stderr",
     "output_type": "stream",
     "text": [
      "       2/30      2.08G    0.01001       2.64      1.771         20        640:   7%|▋         | 1/14 [00:00<00:02,  4.57it/s]\u001b[32m [repeated 5x across cluster]\u001b[0m\n"
     ]
    },
    {
     "name": "stdout",
     "output_type": "stream",
     "text": [
      "\u001b[36m(_tune pid=13094)\u001b[0m       Epoch    GPU_mem   box_loss   cls_loss   dfl_loss  Instances       Size\u001b[32m [repeated 4x across cluster]\u001b[0m\n",
      "\u001b[36m(_tune pid=48446)\u001b[0m \n",
      "\u001b[36m(_tune pid=48446)\u001b[0m                    all         52         54      0.557      0.754      0.674      0.307\n"
     ]
    },
    {
     "name": "stderr",
     "output_type": "stream",
     "text": [
      "  0%|          | 0/14 [00:00<?, ?it/s]\u001b[32m [repeated 4x across cluster]\u001b[0m\n",
      "                 Class     Images  Instances      Box(P          R      mAP50  mAP50-95):   0%|          | 0/2 [00:00<?, ?it/s]\n",
      "                 Class     Images  Instances      Box(P          R      mAP50  mAP50-95):  50%|█████     | 1/2 [00:00<00:00,  1.52it/s]\n",
      "                 Class     Images  Instances      Box(P          R      mAP50  mAP50-95): 100%|██████████| 2/2 [00:01<00:00,  1.85it/s]\n",
      "      21/30       2.1G    0.02649      3.295        1.3         19        640:  93%|█████████▎| 13/14 [00:03<00:00,  2.93it/s]\u001b[32m [repeated 2x across cluster]\u001b[0m\n",
      "       2/30      2.09G   0.008746      2.674      1.674         11        640:  50%|█████     | 7/14 [00:01<00:01,  5.79it/s]\u001b[32m [repeated 14x across cluster]\u001b[0m\n",
      "      22/30      2.09G    0.02532      2.763      1.287         18        640:   7%|▋         | 1/14 [00:00<00:04,  2.63it/s]\n",
      "      22/30       2.1G     0.0249      2.883      1.222         17        640:  71%|███████▏  | 10/14 [00:08<00:06,  1.54s/it]\u001b[32m [repeated 12x across cluster]\u001b[0m\n",
      "      22/30       2.1G    0.02477      2.837       1.22         16        640:  86%|████████▌ | 12/14 [00:13<00:04,  2.25s/it]\u001b[32m [repeated 2x across cluster]\u001b[0m\n",
      "      22/30       2.1G    0.02513      2.839      1.225         17        640:  93%|█████████▎| 13/14 [00:17<00:02,  2.71s/it]\n",
      "      22/30      2.13G    0.02475       2.79      1.233          4        640: 100%|██████████| 14/14 [00:20<00:00,  1.50s/it]\n",
      "                 Class     Images  Instances      Box(P          R      mAP50  mAP50-95):   0%|          | 0/2 [00:00<?, ?it/s]\n",
      "                 Class     Images  Instances      Box(P          R      mAP50  mAP50-95):  50%|█████     | 1/2 [00:02<00:02,  2.13s/it]\n",
      "                 Class     Images  Instances      Box(P          R      mAP50  mAP50-95): 100%|██████████| 2/2 [00:03<00:00,  1.84s/it]\n"
     ]
    },
    {
     "name": "stdout",
     "output_type": "stream",
     "text": [
      "\u001b[36m(_tune pid=48446)\u001b[0m                    all         52         54      0.486      0.829      0.686      0.366\n",
      "\u001b[36m(_tune pid=48446)\u001b[0m       Epoch    GPU_mem   box_loss   cls_loss   dfl_loss  Instances       Size\n",
      "\u001b[36m(_tune pid=48446)\u001b[0m \n",
      "\u001b[36m(_tune pid=48446)\u001b[0m       Epoch    GPU_mem   box_loss   cls_loss   dfl_loss  Instances       Size\n"
     ]
    },
    {
     "name": "stderr",
     "output_type": "stream",
     "text": [
      "  0%|          | 0/14 [00:00<?, ?it/s]\n",
      "      23/30      2.09G    0.02915      3.613      1.237         17        640:   7%|▋         | 1/14 [00:00<00:05,  2.53it/s]\n",
      "      23/30       2.1G    0.02775      3.126      1.285         16        640:  14%|█▍        | 2/14 [00:00<00:04,  2.68it/s]\n",
      "      23/30       2.1G    0.02675       2.99      1.281         17        640:  21%|██▏       | 3/14 [00:00<00:03,  3.36it/s]\n",
      "      23/30       2.1G    0.02676      2.973      1.284         16        640:  29%|██▊       | 4/14 [00:01<00:04,  2.34it/s]\n",
      "      23/30       2.1G    0.02671      2.947       1.29         17        640:  36%|███▌      | 5/14 [00:02<00:06,  1.30it/s]\n",
      "      23/30       2.1G    0.02637      2.885      1.286         17        640:  43%|████▎     | 6/14 [00:03<00:05,  1.52it/s]\n",
      "      23/30       2.1G    0.02637      2.923       1.29         18        640:  50%|█████     | 7/14 [00:03<00:03,  1.91it/s]\n",
      "      23/30       2.1G    0.02625      2.977      1.277         16        640:  57%|█████▋    | 8/14 [00:03<00:02,  2.31it/s]\n",
      "      23/30       2.1G    0.02611      3.007       1.28         17        640:  64%|██████▍   | 9/14 [00:04<00:01,  2.80it/s]\n",
      "      23/30       2.1G    0.02568      3.014      1.272         19        640:  71%|███████▏  | 10/14 [00:04<00:01,  3.40it/s]\n",
      "      23/30       2.1G     0.0259      2.968      1.275         16        640:  79%|███████▊  | 11/14 [00:04<00:00,  3.91it/s]\n",
      "      23/30       2.1G    0.02577      3.006       1.27         16        640:  86%|████████▌ | 12/14 [00:04<00:00,  4.25it/s]\n",
      "      23/30       2.1G     0.0259      2.998      1.274         18        640:  93%|█████████▎| 13/14 [00:04<00:00,  4.72it/s]\n",
      "      23/30      2.13G    0.02533      2.994      1.252          4        640: 100%|██████████| 14/14 [00:04<00:00,  2.87it/s]\n",
      "                 Class     Images  Instances      Box(P          R      mAP50  mAP50-95):   0%|          | 0/2 [00:00<?, ?it/s]\n",
      "                 Class     Images  Instances      Box(P          R      mAP50  mAP50-95):  50%|█████     | 1/2 [00:00<00:00,  3.25it/s]\n"
     ]
    },
    {
     "name": "stdout",
     "output_type": "stream",
     "text": [
      "\u001b[36m(_tune pid=48446)\u001b[0m                    all         52         54      0.528      0.838       0.69      0.364\n"
     ]
    },
    {
     "name": "stderr",
     "output_type": "stream",
     "text": [
      "                 Class     Images  Instances      Box(P          R      mAP50  mAP50-95): 100%|██████████| 2/2 [00:00<00:00,  3.68it/s]\n",
      "       2/30      2.09G   0.005259      12.14      1.462         29        640:  64%|██████▍   | 9/14 [01:03<01:38, 19.71s/it]\n",
      "       2/30      2.09G   0.008496      2.729      1.682         11        640:  79%|███████▊  | 11/14 [01:04<00:55, 18.50s/it]\n",
      "       2/30      2.09G   0.008463      2.694      1.678         14        640:  86%|████████▌ | 12/14 [01:04<00:25, 12.91s/it]\n"
     ]
    },
    {
     "name": "stdout",
     "output_type": "stream",
     "text": [
      "\u001b[36m(_tune pid=48446)\u001b[0m \n",
      "\u001b[36m(_tune pid=48446)\u001b[0m       Epoch    GPU_mem   box_loss   cls_loss   dfl_loss  Instances       Size\n"
     ]
    },
    {
     "name": "stderr",
     "output_type": "stream",
     "text": [
      "  0%|          | 0/14 [00:00<?, ?it/s]\n",
      "       2/30      2.12G   0.008433       2.68      1.675          2        640: 100%|██████████| 14/14 [01:07<00:00,  4.79s/it]\n",
      "      24/30       2.1G    0.02678      3.175      1.244         16        640:   7%|▋         | 1/14 [00:00<00:02,  4.57it/s]\n",
      "       4/30       2.1G    0.02233      13.07      1.422         11        640:  64%|██████▍   | 9/14 [01:08<00:13,  2.79s/it]\u001b[32m [repeated 3x across cluster]\u001b[0m\n",
      "                 Class     Images  Instances      Box(P          R      mAP50  mAP50-95):   0%|          | 0/2 [00:00<?, ?it/s]\n",
      "                 Class     Images  Instances      Box(P          R      mAP50  mAP50-95):  50%|█████     | 1/2 [00:00<00:00,  5.40it/s]\n",
      "                 Class     Images  Instances      Box(P          R      mAP50  mAP50-95): 100%|██████████| 2/2 [00:00<00:00,  6.45it/s]\n"
     ]
    },
    {
     "name": "stdout",
     "output_type": "stream",
     "text": [
      "\u001b[36m(_tune pid=13094)\u001b[0m \n",
      "\u001b[36m(_tune pid=13094)\u001b[0m                    all         52         54      0.375      0.629      0.457      0.133\n"
     ]
    },
    {
     "name": "stderr",
     "output_type": "stream",
     "text": [
      "      24/30       2.1G    0.02542      3.031      1.193         18        640:  36%|███▌      | 5/14 [00:02<00:03,  2.86it/s]\u001b[32m [repeated 12x across cluster]\u001b[0m\n",
      "       4/30      2.13G    0.02283      13.39      1.447          2        640: 100%|██████████| 14/14 [01:10<00:00,  5.06s/it]\n",
      "                 Class     Images  Instances      Box(P          R      mAP50  mAP50-95):   0%|          | 0/2 [00:00<?, ?it/s]\n",
      "                 Class     Images  Instances      Box(P          R      mAP50  mAP50-95):  50%|█████     | 1/2 [00:00<00:00,  5.68it/s]\n",
      "                 Class     Images  Instances      Box(P          R      mAP50  mAP50-95): 100%|██████████| 2/2 [00:00<00:00,  6.78it/s]\n"
     ]
    },
    {
     "name": "stdout",
     "output_type": "stream",
     "text": [
      "\u001b[36m(_tune pid=12418)\u001b[0m                    all         52         54      0.473      0.863      0.595      0.303\n",
      "\u001b[36m(_tune pid=12418)\u001b[0m \n"
     ]
    },
    {
     "name": "stderr",
     "output_type": "stream",
     "text": [
      "      24/30      2.13G    0.02476      2.941      1.225          4        640: 100%|██████████| 14/14 [00:04<00:00,  3.29it/s]\n",
      "       5/30      2.09G    0.02291      11.91       1.33         20        640:  14%|█▍        | 2/14 [00:00<00:01,  8.24it/s]\n",
      "       5/30      2.09G    0.02411      12.68      1.409         12        640:  64%|██████▍   | 9/14 [00:01<00:00,  9.30it/s]\n",
      "  0%|          | 0/14 [00:00<?, ?it/s]\u001b[32m [repeated 2x across cluster]\u001b[0m\n",
      "       5/30      2.09G    0.02386      12.61      1.393         16        640:  71%|███████▏  | 10/14 [00:01<00:00,  8.83it/s]\n"
     ]
    },
    {
     "name": "stdout",
     "output_type": "stream",
     "text": [
      "\u001b[36m(_tune pid=12418)\u001b[0m       Epoch    GPU_mem   box_loss   cls_loss   dfl_loss  Instances       Size\u001b[32m [repeated 2x across cluster]\u001b[0m\n"
     ]
    },
    {
     "name": "stderr",
     "output_type": "stream",
     "text": [
      "       3/30       2.1G   0.009062      2.628      1.723         16        640:   7%|▋         | 1/14 [00:03<00:39,  3.02s/it]\u001b[32m [repeated 2x across cluster]\u001b[0m\n",
      "       5/30      2.12G    0.02327      12.36      1.363          3        640: 100%|██████████| 14/14 [00:01<00:00,  9.31it/s]\n"
     ]
    },
    {
     "name": "stdout",
     "output_type": "stream",
     "text": [
      "\u001b[36m(_tune pid=13096)\u001b[0m \n"
     ]
    },
    {
     "name": "stderr",
     "output_type": "stream",
     "text": [
      "       5/30      2.09G    0.02383      12.63      1.384         11        640:  93%|█████████▎| 13/14 [00:01<00:00,  9.40it/s]\u001b[32m [repeated 5x across cluster]\u001b[0m\n"
     ]
    },
    {
     "name": "stdout",
     "output_type": "stream",
     "text": [
      "\u001b[36m(_tune pid=12418)\u001b[0m \n",
      "\u001b[36m(_tune pid=48446)\u001b[0m \n"
     ]
    },
    {
     "name": "stderr",
     "output_type": "stream",
     "text": [
      "       6/30       2.1G     0.0237      12.62      1.436         14        640:  29%|██▊       | 4/14 [00:00<00:00, 10.47it/s]\u001b[32m [repeated 24x across cluster]\u001b[0m\n",
      "                 Class     Images  Instances      Box(P          R      mAP50  mAP50-95):   0%|          | 0/2 [00:00<?, ?it/s]\u001b[32m [repeated 3x across cluster]\u001b[0m\n",
      "       6/30       2.1G    0.02341      13.19      1.393          8        640:  86%|████████▌ | 12/14 [00:01<00:00,  9.71it/s]\n",
      "                 Class     Images  Instances      Box(P          R      mAP50  mAP50-95):  50%|█████     | 1/2 [00:00<00:00,  4.68it/s]\u001b[32m [repeated 3x across cluster]\u001b[0m\n",
      "                 Class     Images  Instances      Box(P          R      mAP50  mAP50-95): 100%|██████████| 2/2 [00:00<00:00,  6.14it/s]\u001b[32m [repeated 3x across cluster]\u001b[0m\n"
     ]
    },
    {
     "name": "stdout",
     "output_type": "stream",
     "text": [
      "\u001b[36m(_tune pid=12418)\u001b[0m                    all         52         54      0.448      0.733      0.512      0.273\u001b[32m [repeated 4x across cluster]\u001b[0m\n"
     ]
    },
    {
     "name": "stderr",
     "output_type": "stream",
     "text": [
      "      25/30      2.13G    0.02471      2.579      1.208          4        640: 100%|██████████| 14/14 [00:02<00:00,  5.73it/s]\n"
     ]
    },
    {
     "name": "stdout",
     "output_type": "stream",
     "text": [
      "\u001b[36m(_tune pid=12418)\u001b[0m \n"
     ]
    },
    {
     "name": "stderr",
     "output_type": "stream",
     "text": [
      "       7/30      2.08G    0.02295      11.24       1.41         11        640:   0%|          | 0/14 [00:00<?, ?it/s]\u001b[32m [repeated 6x across cluster]\u001b[0m\n",
      "       3/30      2.12G   0.009103      2.699      1.784          4        640: 100%|██████████| 14/14 [00:08<00:00,  1.67it/s]\n"
     ]
    },
    {
     "name": "stdout",
     "output_type": "stream",
     "text": [
      "\u001b[36m(_tune pid=12418)\u001b[0m       Epoch    GPU_mem   box_loss   cls_loss   dfl_loss  Instances       Size\u001b[32m [repeated 4x across cluster]\u001b[0m\n"
     ]
    },
    {
     "name": "stderr",
     "output_type": "stream",
     "text": [
      "                 Class     Images  Instances      Box(P          R      mAP50  mAP50-95): 100%|██████████| 2/2 [00:00<00:00,  9.09it/s]\n",
      "       7/30      2.09G    0.02318      11.68      1.434         16        640:  14%|█▍        | 2/14 [00:00<00:01, 11.07it/s]\u001b[32m [repeated 4x across cluster]\u001b[0m\n"
     ]
    },
    {
     "name": "stdout",
     "output_type": "stream",
     "text": [
      "\u001b[36m(_tune pid=48446)\u001b[0m \n",
      "\u001b[36m(_tune pid=13094)\u001b[0m \n"
     ]
    },
    {
     "name": "stderr",
     "output_type": "stream",
     "text": [
      "       7/30      2.09G    0.02412      12.98      1.411         15        640:  57%|█████▋    | 8/14 [00:01<00:00,  7.97it/s]\u001b[32m [repeated 14x across cluster]\u001b[0m\n",
      "       4/30       2.1G   0.008745      2.641      1.795         15        640:  50%|█████     | 7/14 [00:00<00:00,  7.55it/s]\u001b[32m [repeated 28x across cluster]\u001b[0m\n",
      "                 Class     Images  Instances      Box(P          R      mAP50  mAP50-95):   0%|          | 0/2 [00:00<?, ?it/s]\u001b[32m [repeated 3x across cluster]\u001b[0m\n",
      "                 Class     Images  Instances      Box(P          R      mAP50  mAP50-95):  50%|█████     | 1/2 [00:00<00:00,  7.65it/s]\u001b[32m [repeated 3x across cluster]\u001b[0m\n",
      "                 Class     Images  Instances      Box(P          R      mAP50  mAP50-95): 100%|██████████| 2/2 [00:00<00:00,  4.52it/s]\u001b[32m [repeated 2x across cluster]\u001b[0m\n",
      "  0%|          | 0/14 [00:00<?, ?it/s]\u001b[32m [repeated 2x across cluster]\u001b[0m\n",
      "       4/30       2.1G   0.008161      2.448      1.649         17        640:   7%|▋         | 1/14 [00:00<00:02,  6.13it/s]\u001b[32m [repeated 2x across cluster]\u001b[0m\n",
      "      26/30       2.1G    0.02534      2.527      1.238         18        640:  93%|█████████▎| 13/14 [00:05<00:00,  2.31it/s]\u001b[32m [repeated 4x across cluster]\u001b[0m\n",
      "      26/30      2.13G    0.02565      2.528      1.236          5        640: 100%|██████████| 14/14 [00:06<00:00,  2.18it/s]\n",
      "      26/30       2.1G    0.02512      2.525      1.233         16        640:  86%|████████▌ | 12/14 [00:05<00:00,  2.56it/s]\u001b[32m [repeated 12x across cluster]\u001b[0m\n",
      "                 Class     Images  Instances      Box(P          R      mAP50  mAP50-95):   0%|          | 0/2 [00:00<?, ?it/s]\n",
      "                 Class     Images  Instances      Box(P          R      mAP50  mAP50-95):  50%|█████     | 1/2 [00:01<00:01,  1.59s/it]\n",
      "                 Class     Images  Instances      Box(P          R      mAP50  mAP50-95): 100%|██████████| 2/2 [00:03<00:00,  1.53s/it]\n"
     ]
    },
    {
     "name": "stdout",
     "output_type": "stream",
     "text": [
      "\u001b[36m(_tune pid=48446)\u001b[0m                    all         52         54      0.544      0.688      0.663      0.319\u001b[32m [repeated 3x across cluster]\u001b[0m\n",
      "\u001b[36m(_tune pid=13094)\u001b[0m       Epoch    GPU_mem   box_loss   cls_loss   dfl_loss  Instances       Size\u001b[32m [repeated 2x across cluster]\u001b[0m\n",
      "\u001b[36m(_tune pid=48446)\u001b[0m \n",
      "\u001b[36m(_tune pid=48446)\u001b[0m       Epoch    GPU_mem   box_loss   cls_loss   dfl_loss  Instances       Size\n"
     ]
    },
    {
     "name": "stderr",
     "output_type": "stream",
     "text": [
      "  0%|          | 0/14 [00:00<?, ?it/s]\n",
      "      27/30      2.09G    0.01981      2.401      1.152         17        640:   7%|▋         | 1/14 [00:01<00:19,  1.48s/it]\n",
      "      27/30      2.09G    0.02193      2.498      1.194         18        640:  14%|█▍        | 2/14 [00:02<00:11,  1.05it/s]\n",
      "      27/30      2.09G    0.02388      2.547      1.206         18        640:  21%|██▏       | 3/14 [00:02<00:08,  1.33it/s]\n",
      "      27/30      2.09G    0.02405      2.455      1.233         17        640:  29%|██▊       | 4/14 [00:03<00:09,  1.02it/s]\n",
      "      27/30      2.09G    0.02459      2.563      1.219         16        640:  36%|███▌      | 5/14 [00:04<00:07,  1.15it/s]\n",
      "      27/30      2.09G    0.02554      2.607      1.236         18        640:  43%|████▎     | 6/14 [00:06<00:09,  1.18s/it]\n",
      "      27/30      2.09G    0.02548      2.564       1.24         17        640:  50%|█████     | 7/14 [00:08<00:10,  1.56s/it]\n",
      "      27/30       2.1G    0.02547      2.528      1.244         16        640:  57%|█████▋    | 8/14 [00:12<00:13,  2.27s/it]\n",
      "      27/30       2.1G    0.02519      2.501      1.239         16        640:  64%|██████▍   | 9/14 [00:14<00:10,  2.14s/it]\n",
      "      27/30       2.1G    0.02471       2.48      1.226         17        640:  71%|███████▏  | 10/14 [00:17<00:09,  2.32s/it]\n",
      "      27/30       2.1G    0.02487      2.447      1.233         17        640:  79%|███████▊  | 11/14 [00:20<00:08,  2.72s/it]\n",
      "      27/30       2.1G    0.02465      2.445      1.226         17        640:  86%|████████▌ | 12/14 [00:24<00:06,  3.19s/it]\n",
      "      27/30       2.1G    0.02492      2.457      1.231         16        640:  93%|█████████▎| 13/14 [00:26<00:02,  2.55s/it]\n",
      "      27/30      2.13G      0.025      2.441      1.238          4        640:  93%|█████████▎| 13/14 [00:26<00:02,  2.55s/it]\n",
      "      27/30      2.13G      0.025      2.441      1.238          4        640: 100%|██████████| 14/14 [00:26<00:00,  1.92s/it]\n",
      "                 Class     Images  Instances      Box(P          R      mAP50  mAP50-95):   0%|          | 0/2 [00:00<?, ?it/s]\n",
      "                 Class     Images  Instances      Box(P          R      mAP50  mAP50-95):  50%|█████     | 1/2 [00:01<00:01,  1.38s/it]\n"
     ]
    },
    {
     "name": "stdout",
     "output_type": "stream",
     "text": [
      "\u001b[36m(_tune pid=48446)\u001b[0m                    all         52         54      0.523      0.742      0.648      0.338\n"
     ]
    },
    {
     "name": "stderr",
     "output_type": "stream",
     "text": [
      "                 Class     Images  Instances      Box(P          R      mAP50  mAP50-95): 100%|██████████| 2/2 [00:02<00:00,  1.08s/it]\n"
     ]
    },
    {
     "name": "stdout",
     "output_type": "stream",
     "text": [
      "\u001b[36m(_tune pid=48446)\u001b[0m \n",
      "\u001b[36m(_tune pid=48446)\u001b[0m       Epoch    GPU_mem   box_loss   cls_loss   dfl_loss  Instances       Size\n"
     ]
    },
    {
     "name": "stderr",
     "output_type": "stream",
     "text": [
      "  0%|          | 0/14 [00:00<?, ?it/s]\n",
      "      28/30      2.09G    0.02749      2.311      1.179         17        640:   7%|▋         | 1/14 [00:00<00:12,  1.02it/s]\n",
      "      28/30      2.09G    0.02488      2.364      1.139         18        640:  14%|█▍        | 2/14 [00:02<00:12,  1.06s/it]\n",
      "      28/30      2.09G    0.02519      2.356      1.175         19        640:  21%|██▏       | 3/14 [00:03<00:13,  1.22s/it]\n",
      "      28/30      2.09G    0.02551       2.29      1.186         18        640:  29%|██▊       | 4/14 [00:04<00:10,  1.06s/it]\n",
      "      28/30      2.09G    0.02518      2.305      1.191         17        640:  36%|███▌      | 5/14 [00:05<00:09,  1.02s/it]\n",
      "      28/30       2.1G    0.02587      2.386      1.211         16        640:  43%|████▎     | 6/14 [00:06<00:08,  1.05s/it]\n",
      "      28/30       2.1G    0.02553      2.364      1.217         16        640:  50%|█████     | 7/14 [00:07<00:06,  1.08it/s]\n",
      "      28/30       2.1G    0.02506        2.4      1.212         16        640:  57%|█████▋    | 8/14 [00:07<00:04,  1.26it/s]\n",
      "      28/30       2.1G    0.02555      2.394      1.226         16        640:  64%|██████▍   | 9/14 [00:08<00:03,  1.34it/s]\n",
      "      28/30       2.1G    0.02549      2.399      1.221         18        640:  71%|███████▏  | 10/14 [00:08<00:03,  1.33it/s]\n",
      "      28/30       2.1G    0.02526      2.401      1.218         17        640:  79%|███████▊  | 11/14 [00:09<00:02,  1.46it/s]\n",
      "      28/30       2.1G    0.02525      2.383      1.218         16        640:  86%|████████▌ | 12/14 [00:09<00:01,  1.63it/s]\n",
      "      28/30       2.1G    0.02508      2.412      1.217         17        640:  93%|█████████▎| 13/14 [00:10<00:00,  1.61it/s]\n",
      "      28/30      2.13G    0.02501      2.422      1.208          4        640: 100%|██████████| 14/14 [00:11<00:00,  1.19it/s]\n",
      "                 Class     Images  Instances      Box(P          R      mAP50  mAP50-95):   0%|          | 0/2 [00:00<?, ?it/s]\n",
      "                 Class     Images  Instances      Box(P          R      mAP50  mAP50-95):  50%|█████     | 1/2 [00:00<00:00,  1.19it/s]\n"
     ]
    },
    {
     "name": "stdout",
     "output_type": "stream",
     "text": [
      "\u001b[36m(_tune pid=48446)\u001b[0m                    all         52         54      0.533      0.729       0.67      0.364\n"
     ]
    },
    {
     "name": "stderr",
     "output_type": "stream",
     "text": [
      "                 Class     Images  Instances      Box(P          R      mAP50  mAP50-95): 100%|██████████| 2/2 [00:01<00:00,  1.45it/s]\n"
     ]
    },
    {
     "name": "stdout",
     "output_type": "stream",
     "text": [
      "\u001b[36m(_tune pid=48446)\u001b[0m \n",
      "\u001b[36m(_tune pid=48446)\u001b[0m       Epoch    GPU_mem   box_loss   cls_loss   dfl_loss  Instances       Size\n"
     ]
    },
    {
     "name": "stderr",
     "output_type": "stream",
     "text": [
      "  0%|          | 0/14 [00:00<?, ?it/s]\n",
      "      29/30      2.09G    0.02328      2.058       1.16         16        640:   7%|▋         | 1/14 [00:00<00:03,  3.90it/s]\n",
      "      29/30      2.09G    0.02603      2.619      1.293         18        640:  14%|█▍        | 2/14 [00:00<00:03,  3.90it/s]\n",
      "      29/30       2.1G    0.02637      2.568      1.299         15        640:  21%|██▏       | 3/14 [00:00<00:02,  4.10it/s]\n",
      "      29/30       2.1G    0.02534      2.439      1.248         17        640:  29%|██▊       | 4/14 [00:01<00:03,  2.65it/s]\n",
      "      29/30       2.1G    0.02503      2.383      1.227         16        640:  36%|███▌      | 5/14 [00:01<00:03,  2.30it/s]\n",
      "      29/30       2.1G    0.02496       2.31      1.248         19        640:  43%|████▎     | 6/14 [00:02<00:03,  2.29it/s]\n",
      "      29/30       2.1G    0.02462      2.311      1.241         16        640:  50%|█████     | 7/14 [00:02<00:02,  2.48it/s]\n",
      "      29/30       2.1G    0.02491       2.32      1.247         17        640:  57%|█████▋    | 8/14 [00:03<00:02,  2.12it/s]\n",
      "      29/30       2.1G    0.02472      2.277      1.243         17        640:  64%|██████▍   | 9/14 [00:03<00:02,  2.36it/s]\n",
      "      29/30       2.1G    0.02479      2.297      1.244         16        640:  71%|███████▏  | 10/14 [00:03<00:01,  2.40it/s]\n",
      "      29/30       2.1G     0.0251      2.324      1.247         16        640:  79%|███████▊  | 11/14 [00:04<00:01,  2.27it/s]\n",
      "      29/30       2.1G    0.02512      2.303      1.243         19        640:  86%|████████▌ | 12/14 [00:05<00:01,  1.71it/s]\n",
      "      29/30       2.1G    0.02483      2.303      1.234         17        640:  93%|█████████▎| 13/14 [00:05<00:00,  1.83it/s]\n",
      "      29/30      2.13G    0.02537      2.309      1.244          4        640: 100%|██████████| 14/14 [00:06<00:00,  2.24it/s]\n",
      "                 Class     Images  Instances      Box(P          R      mAP50  mAP50-95):   0%|          | 0/2 [00:00<?, ?it/s]\n",
      "                 Class     Images  Instances      Box(P          R      mAP50  mAP50-95):  50%|█████     | 1/2 [00:00<00:00,  1.45it/s]\n"
     ]
    },
    {
     "name": "stdout",
     "output_type": "stream",
     "text": [
      "\u001b[36m(_tune pid=48446)\u001b[0m                    all         52         54      0.604      0.675      0.687      0.353\n"
     ]
    },
    {
     "name": "stderr",
     "output_type": "stream",
     "text": [
      "                 Class     Images  Instances      Box(P          R      mAP50  mAP50-95): 100%|██████████| 2/2 [00:01<00:00,  1.84it/s]\n",
      "       7/30      2.09G    0.02389      12.74      1.389         13        640:  86%|████████▌ | 12/14 [01:41<00:45, 22.70s/it]\n"
     ]
    },
    {
     "name": "stdout",
     "output_type": "stream",
     "text": [
      "\u001b[36m(_tune pid=12418)\u001b[0m                    all         52         54      0.443      0.938      0.562      0.279\n",
      "\u001b[36m(_tune pid=48446)\u001b[0m \n",
      "\u001b[36m(_tune pid=48446)\u001b[0m       Epoch    GPU_mem   box_loss   cls_loss   dfl_loss  Instances       Size\n"
     ]
    },
    {
     "name": "stderr",
     "output_type": "stream",
     "text": [
      "  0%|          | 0/14 [00:00<?, ?it/s]\n",
      "      30/30       2.1G    0.02122      2.358       1.19         16        640:   7%|▋         | 1/14 [00:00<00:04,  2.97it/s]\n"
     ]
    },
    {
     "name": "stdout",
     "output_type": "stream",
     "text": [
      "\u001b[36m(_tune pid=12418)\u001b[0m \n"
     ]
    },
    {
     "name": "stderr",
     "output_type": "stream",
     "text": [
      "       7/30      2.13G     0.0236       12.6      1.394          3        640: 100%|██████████| 14/14 [01:41<00:00,  7.25s/it]\n",
      "       8/30      2.09G    0.02139      11.54      1.275         19        640:  21%|██▏       | 3/14 [00:00<00:01,  8.96it/s]\n",
      "                 Class     Images  Instances      Box(P          R      mAP50  mAP50-95):   0%|          | 0/2 [00:00<?, ?it/s]\n",
      "                 Class     Images  Instances      Box(P          R      mAP50  mAP50-95):  50%|█████     | 1/2 [00:00<00:00,  4.09it/s]\n",
      "                 Class     Images  Instances      Box(P          R      mAP50  mAP50-95): 100%|██████████| 2/2 [00:00<00:00,  5.12it/s]\n",
      "      30/30       2.1G    0.02397      2.352       1.18         17        640:  43%|████▎     | 6/14 [00:05<00:07,  1.08it/s]\u001b[32m [repeated 7x across cluster]\u001b[0m\n",
      "  0%|          | 0/14 [00:00<?, ?it/s]\n",
      "       8/30      2.09G    0.02329      12.34      1.287         14        640:   7%|▋         | 1/14 [00:00<00:01,  9.31it/s]\n",
      "      30/30       2.1G     0.0227      2.337      1.133         17        640:  29%|██▊       | 4/14 [00:03<00:11,  1.11s/it]\u001b[32m [repeated 2x across cluster]\u001b[0m\n",
      "      30/30      2.13G    0.02331      2.334      1.197          4        640: 100%|██████████| 14/14 [00:10<00:00,  1.36it/s]\n",
      "      30/30       2.1G    0.02321       2.35      1.188         16        640:  86%|████████▌ | 12/14 [00:09<00:01,  1.45it/s]\u001b[32m [repeated 6x across cluster]\u001b[0m\n",
      "                 Class     Images  Instances      Box(P          R      mAP50  mAP50-95):   0%|          | 0/2 [00:00<?, ?it/s]\n",
      "                 Class     Images  Instances      Box(P          R      mAP50  mAP50-95):  50%|█████     | 1/2 [00:00<00:00,  1.24it/s]\n"
     ]
    },
    {
     "name": "stdout",
     "output_type": "stream",
     "text": [
      "\u001b[36m(_tune pid=48446)\u001b[0m                    all         52         54      0.553      0.898      0.722      0.366\n",
      "\u001b[36m(_tune pid=12418)\u001b[0m       Epoch    GPU_mem   box_loss   cls_loss   dfl_loss  Instances       Size\n"
     ]
    },
    {
     "name": "stderr",
     "output_type": "stream",
     "text": [
      "                 Class     Images  Instances      Box(P          R      mAP50  mAP50-95): 100%|██████████| 2/2 [00:01<00:00,  1.33it/s]\n",
      "      30/30       2.1G    0.02346      2.367      1.191         17        640:  93%|█████████▎| 13/14 [00:09<00:00,  1.70it/s]\n"
     ]
    },
    {
     "name": "stdout",
     "output_type": "stream",
     "text": [
      "\u001b[36m(_tune pid=48446)\u001b[0m \n",
      "\u001b[36m(_tune pid=48446)\u001b[0m 30 epochs completed in 0.201 hours.\n",
      "\u001b[36m(_tune pid=48446)\u001b[0m Optimizer stripped from runs/detect/tune/tune_raytune/weights/last.pt, 6.2MB\n",
      "\u001b[36m(_tune pid=48446)\u001b[0m Optimizer stripped from runs/detect/tune/tune_raytune/weights/best.pt, 6.2MB\n",
      "\u001b[36m(_tune pid=48446)\u001b[0m \n",
      "\u001b[36m(_tune pid=48446)\u001b[0m Validating runs/detect/tune/tune_raytune/weights/best.pt...\n",
      "\u001b[36m(_tune pid=48446)\u001b[0m Ultralytics YOLOv8.2.70 🚀 Python-3.10.14 torch-2.1.0 CUDA:0 (NVIDIA GeForce RTX 3090, 24260MiB)\n",
      "\u001b[36m(_tune pid=48446)\u001b[0m Model summary (fused): 168 layers, 3,006,038 parameters, 0 gradients, 8.1 GFLOPs\n"
     ]
    },
    {
     "name": "stderr",
     "output_type": "stream",
     "text": [
      "                 Class     Images  Instances      Box(P          R      mAP50  mAP50-95):   0%|          | 0/2 [00:00<?, ?it/s]\n",
      "                 Class     Images  Instances      Box(P          R      mAP50  mAP50-95):  50%|█████     | 1/2 [00:00<00:00,  2.60it/s]\n",
      "                 Class     Images  Instances      Box(P          R      mAP50  mAP50-95): 100%|██████████| 2/2 [00:00<00:00,  2.45it/s]\n",
      "       4/30       2.1G   0.008435      2.575      1.713         15        640:  93%|█████████▎| 13/14 [02:17<00:32, 32.58s/it]\n",
      "       4/30      2.13G    0.00828      2.552      1.686          4        640: 100%|██████████| 14/14 [02:17<00:00,  9.84s/it]\n",
      "                 Class     Images  Instances      Box(P          R      mAP50  mAP50-95):   0%|          | 0/2 [00:00<?, ?it/s]\n",
      "                 Class     Images  Instances      Box(P          R      mAP50  mAP50-95):  50%|█████     | 1/2 [00:00<00:00,  6.40it/s]\n",
      "       8/30       2.1G    0.02154      11.63      1.276         13        640:  43%|████▎     | 6/14 [00:37<01:24, 10.61s/it]\n",
      "                 Class     Images  Instances      Box(P          R      mAP50  mAP50-95): 100%|██████████| 2/2 [00:00<00:00,  7.54it/s]\n"
     ]
    },
    {
     "name": "stdout",
     "output_type": "stream",
     "text": [
      "\u001b[36m(_tune pid=13094)\u001b[0m                    all         52         54      0.425      0.722      0.465      0.114\n"
     ]
    },
    {
     "name": "stderr",
     "output_type": "stream",
     "text": [
      "       8/30       2.1G    0.02155      11.65      1.279         12        640:  57%|█████▋    | 8/14 [00:37<00:35,  5.87s/it]\n"
     ]
    },
    {
     "name": "stdout",
     "output_type": "stream",
     "text": [
      "\u001b[36m(_tune pid=13094)\u001b[0m \n",
      "\u001b[36m(_tune pid=13094)\u001b[0m       Epoch    GPU_mem   box_loss   cls_loss   dfl_loss  Instances       Size\n"
     ]
    },
    {
     "name": "stderr",
     "output_type": "stream",
     "text": [
      "  0%|          | 0/14 [00:00<?, ?it/s]\n",
      "       5/30       2.1G   0.009046      2.373      1.645         13        640:   7%|▋         | 1/14 [00:00<00:01,  8.31it/s]\n",
      "       8/30       2.1G    0.02193      12.17      1.272          9        640:  57%|█████▋    | 8/14 [00:37<00:35,  5.87s/it]\n",
      "       5/30       2.1G   0.008775      3.397      1.711         20        640:  21%|██▏       | 3/14 [06:17<31:36, 172.37s/it]\u001b[32m [repeated 11x across cluster]\u001b[0m\n",
      "2024-07-31 15:52:32,330\tERROR tune_controller.py:1331 -- Trial task failed for trial _tune_2a884_00000\n",
      "Traceback (most recent call last):\n",
      "  File \"/home/under1/.conda/envs/yolo/lib/python3.10/site-packages/ray/air/execution/_internal/event_manager.py\", line 110, in resolve_future\n",
      "    result = ray.get(future)\n",
      "  File \"/home/under1/.conda/envs/yolo/lib/python3.10/site-packages/ray/_private/auto_init_hook.py\", line 21, in auto_init_wrapper\n",
      "    return fn(*args, **kwargs)\n",
      "  File \"/home/under1/.conda/envs/yolo/lib/python3.10/site-packages/ray/_private/client_mode_hook.py\", line 103, in wrapper\n",
      "    return func(*args, **kwargs)\n",
      "  File \"/home/under1/.conda/envs/yolo/lib/python3.10/site-packages/ray/_private/worker.py\", line 2639, in get\n",
      "    values, debugger_breakpoint = worker.get_objects(object_refs, timeout=timeout)\n",
      "  File \"/home/under1/.conda/envs/yolo/lib/python3.10/site-packages/ray/_private/worker.py\", line 866, in get_objects\n",
      "    raise value\n",
      "ray.exceptions.ActorUnavailableError: The actor 5704f3736b9d26d12b95e4c201000000 is unavailable: The actor is temporarily unavailable: RpcError: RPC Error message: keepalive watchdog timeout; RPC Error details: . The task may or maynot have been executed on the actor.\n"
     ]
    },
    {
     "name": "stdout",
     "output_type": "stream",
     "text": [
      "\u001b[36m(_tune pid=21515)\u001b[0m Ultralytics YOLOv8.2.70 🚀 Python-3.10.14 torch-2.1.0 CUDA:0 (NVIDIA GeForce RTX 3090, 24260MiB)\n",
      "\u001b[36m(_tune pid=21515)\u001b[0m \u001b[34m\u001b[1mengine/trainer: \u001b[0mtask=detect, mode=train, model=/home/under1/Detect/jeongui/sagittal/test/runs/detect/train/train_base/weights/best.pt, data=/home/under1/Detect/jeongui/sagittal/test/test.yaml, epochs=30, time=None, patience=100, batch=16, imgsz=640, save=True, save_period=-1, cache=False, device=None, workers=8, project=None, name=tune_raytune, exist_ok=False, pretrained=True, optimizer=auto, verbose=True, seed=0, deterministic=True, single_cls=False, rect=False, cos_lr=False, close_mosaic=10, resume=False, amp=True, fraction=1.0, profile=False, freeze=None, multi_scale=False, overlap_mask=True, mask_ratio=4, dropout=0.0, val=True, split=val, save_json=False, save_hybrid=False, conf=None, iou=0.7, max_det=300, half=False, dnn=False, plots=True, source=None, vid_stride=1, stream_buffer=False, visualize=False, augment=False, agnostic_nms=False, classes=None, retina_masks=False, embed=None, show=False, save_frames=False, save_txt=False, save_conf=False, save_crop=False, show_labels=True, show_conf=True, show_boxes=True, line_width=None, format=torchscript, keras=False, optimize=False, int8=False, dynamic=False, simplify=False, opset=None, workspace=4, nms=False, lr0=0.05932585404305799, lrf=0.4534095499215661, momentum=0.6000269472529615, weight_decay=0.0006295934835231908, warmup_epochs=0.9261225032852299, warmup_momentum=0.37913842387807895, warmup_bias_lr=0.1, box=0.0736357191230791, cls=2.640841961988112, dfl=1.5, pose=12.0, kobj=1.0, label_smoothing=0.0, nbs=64, hsv_h=0.046789606050929244, hsv_s=0.64588746191247, hsv_v=0.07532226515677828, degrees=13.332907871472251, translate=0.01740720810766423, scale=0.2738675262726248, shear=7.5854877638543305, perspective=0.00033296806586454564, flipud=0.6075448901775402, fliplr=0.3734677947510061, bgr=0.018561988928659456, mosaic=0.8219646073123915, mixup=0.11048865472382763, copy_paste=0.23748566764410506, auto_augment=randaugment, erasing=0.4, crop_fraction=1.0, cfg=None, tracker=botsort.yaml, save_dir=runs/detect/tune/tune_raytune\n"
     ]
    },
    {
     "name": "stderr",
     "output_type": "stream",
     "text": [
      "       5/30       2.1G    0.00908      3.199      1.756         16        640:  36%|███▌      | 5/14 [06:49<11:43, 78.21s/it] \u001b[32m [repeated 2x across cluster]\u001b[0m\n",
      "       3/30       2.1G   0.005336      12.38      1.423         24        640:  93%|█████████▎| 13/14 [09:13<01:28, 88.68s/it] \n",
      "       3/30      2.13G   0.005299      12.26      1.416          9        640: 100%|██████████| 14/14 [09:13<00:00, 39.57s/it]\n",
      "                 Class     Images  Instances      Box(P          R      mAP50  mAP50-95):   0%|          | 0/2 [00:00<?, ?it/s]\n",
      "       8/30      2.13G    0.02289      12.32      1.347          4        640: 100%|██████████| 14/14 [07:28<00:00, 32.02s/it]\n",
      "                 Class     Images  Instances      Box(P          R      mAP50  mAP50-95):  50%|█████     | 1/2 [00:00<00:00,  4.70it/s]\n",
      "                 Class     Images  Instances      Box(P          R      mAP50  mAP50-95): 100%|██████████| 2/2 [00:00<00:00,  5.28it/s]\n"
     ]
    },
    {
     "name": "stdout",
     "output_type": "stream",
     "text": [
      "\u001b[36m(_tune pid=21515)\u001b[0m \n",
      "\u001b[36m(_tune pid=21515)\u001b[0m                    from  n    params  module                                       arguments                     \n",
      "\u001b[36m(_tune pid=21515)\u001b[0m   0                  -1  1       464  ultralytics.nn.modules.conv.Conv             [3, 16, 3, 2]                 \n",
      "\u001b[36m(_tune pid=21515)\u001b[0m   1                  -1  1      4672  ultralytics.nn.modules.conv.Conv             [16, 32, 3, 2]                \n",
      "\u001b[36m(_tune pid=21515)\u001b[0m   2                  -1  1      7360  ultralytics.nn.modules.block.C2f             [32, 32, 1, True]             \n",
      "\u001b[36m(_tune pid=21515)\u001b[0m   3                  -1  1     18560  ultralytics.nn.modules.conv.Conv             [32, 64, 3, 2]                \n",
      "\u001b[36m(_tune pid=21515)\u001b[0m   4                  -1  2     49664  ultralytics.nn.modules.block.C2f             [64, 64, 2, True]             \n",
      "\u001b[36m(_tune pid=21515)\u001b[0m   5                  -1  1     73984  ultralytics.nn.modules.conv.Conv             [64, 128, 3, 2]               \n",
      "\u001b[36m(_tune pid=21515)\u001b[0m   6                  -1  2    197632  ultralytics.nn.modules.block.C2f             [128, 128, 2, True]           \n",
      "\u001b[36m(_tune pid=12418)\u001b[0m                    all         52         54      0.469      0.761      0.573      0.308\n",
      "\u001b[36m(_tune pid=21515)\u001b[0m   7                  -1  1    295424  ultralytics.nn.modules.conv.Conv             [128, 256, 3, 2]              \n",
      "\u001b[36m(_tune pid=21515)\u001b[0m   8                  -1  1    460288  ultralytics.nn.modules.block.C2f             [256, 256, 1, True]           \n",
      "\u001b[36m(_tune pid=21515)\u001b[0m   9                  -1  1    164608  ultralytics.nn.modules.block.SPPF            [256, 256, 5]                 \n",
      "\u001b[36m(_tune pid=21515)\u001b[0m  10                  -1  1         0  torch.nn.modules.upsampling.Upsample         [None, 2, 'nearest']          \n",
      "\u001b[36m(_tune pid=21515)\u001b[0m  11             [-1, 6]  1         0  ultralytics.nn.modules.conv.Concat           [1]                           \n",
      "\u001b[36m(_tune pid=21515)\u001b[0m  12                  -1  1    148224  ultralytics.nn.modules.block.C2f             [384, 128, 1]                 \n",
      "\u001b[36m(_tune pid=21515)\u001b[0m  13                  -1  1         0  torch.nn.modules.upsampling.Upsample         [None, 2, 'nearest']          \n",
      "\u001b[36m(_tune pid=21515)\u001b[0m  14             [-1, 4]  1         0  ultralytics.nn.modules.conv.Concat           [1]                           \n",
      "\u001b[36m(_tune pid=21515)\u001b[0m  15                  -1  1     37248  ultralytics.nn.modules.block.C2f             [192, 64, 1]                  \n",
      "\u001b[36m(_tune pid=21515)\u001b[0m  16                  -1  1     36992  ultralytics.nn.modules.conv.Conv             [64, 64, 3, 2]                \n",
      "\u001b[36m(_tune pid=21515)\u001b[0m  17            [-1, 12]  1         0  ultralytics.nn.modules.conv.Concat           [1]                           \n",
      "\u001b[36m(_tune pid=21515)\u001b[0m  18                  -1  1    123648  ultralytics.nn.modules.block.C2f             [192, 128, 1]                 \n",
      "\u001b[36m(_tune pid=21515)\u001b[0m  19                  -1  1    147712  ultralytics.nn.modules.conv.Conv             [128, 128, 3, 2]              \n",
      "\u001b[36m(_tune pid=21515)\u001b[0m  20             [-1, 9]  1         0  ultralytics.nn.modules.conv.Concat           [1]                           \n",
      "\u001b[36m(_tune pid=21515)\u001b[0m  21                  -1  1    493056  ultralytics.nn.modules.block.C2f             [384, 256, 1]                 \n",
      "\u001b[36m(_tune pid=21515)\u001b[0m  22        [15, 18, 21]  1    751702  ultralytics.nn.modules.head.Detect           [2, [64, 128, 256]]           \n",
      "\u001b[36m(_tune pid=21515)\u001b[0m Model summary: 225 layers, 3,011,238 parameters, 3,011,222 gradients, 8.2 GFLOPs\n",
      "\u001b[36m(_tune pid=21515)\u001b[0m \n",
      "\u001b[36m(_tune pid=21515)\u001b[0m Transferred 355/355 items from pretrained weights\n",
      "\u001b[36m(_tune pid=21515)\u001b[0m \u001b[34m\u001b[1mTensorBoard: \u001b[0mStart with 'tensorboard --logdir runs/detect/tune/tune_raytune', view at http://localhost:6006/\n",
      "\u001b[36m(_tune pid=12418)\u001b[0m \n",
      "\u001b[36m(_tune pid=12418)\u001b[0m       Epoch    GPU_mem   box_loss   cls_loss   dfl_loss  Instances       Size\n"
     ]
    },
    {
     "name": "stderr",
     "output_type": "stream",
     "text": [
      "  0%|          | 0/14 [00:00<?, ?it/s]\n",
      "       9/30      2.08G    0.02007      12.13      1.212         16        640:   7%|▋         | 1/14 [00:00<00:01,  8.06it/s]\n"
     ]
    },
    {
     "name": "stdout",
     "output_type": "stream",
     "text": [
      "\u001b[36m(_tune pid=21515)\u001b[0m Freezing layer 'model.22.dfl.conv.weight'\n",
      "\u001b[36m(_tune pid=21515)\u001b[0m \u001b[34m\u001b[1mAMP: \u001b[0mrunning Automatic Mixed Precision (AMP) checks with YOLOv8n...\n",
      "\u001b[36m(_tune pid=21515)\u001b[0m Downloading https://github.com/ultralytics/assets/releases/download/v8.2.0/yolov8n.pt to 'yolov8n.pt'...\n"
     ]
    },
    {
     "name": "stderr",
     "output_type": "stream",
     "text": [
      "  0%|          | 0.00/6.25M [00:00<?, ?B/s]\n",
      "100%|██████████| 6.25M/6.25M [00:00<00:00, 28.0MB/s]\n"
     ]
    },
    {
     "name": "stdout",
     "output_type": "stream",
     "text": [
      "\u001b[36m(_tune pid=13096)\u001b[0m \n"
     ]
    },
    {
     "name": "stderr",
     "output_type": "stream",
     "text": [
      "       4/30       2.1G   0.005611      12.51      1.516         24        640:  21%|██▏       | 3/14 [00:00<00:03,  3.09it/s]\u001b[32m [repeated 22x across cluster]\u001b[0m\n",
      " 23%|██▎       | 1.44M/6.25M [00:00<00:00, 14.6MB/s]\u001b[32m [repeated 3x across cluster]\u001b[0m\n",
      "                 Class     Images  Instances      Box(P          R      mAP50  mAP50-95):   0%|          | 0/2 [00:00<?, ?it/s]\n",
      "                 Class     Images  Instances      Box(P          R      mAP50  mAP50-95):  50%|█████     | 1/2 [00:00<00:00,  1.61it/s]\n",
      "                 Class     Images  Instances      Box(P          R      mAP50  mAP50-95): 100%|██████████| 2/2 [00:01<00:00,  1.46it/s]\n"
     ]
    },
    {
     "name": "stdout",
     "output_type": "stream",
     "text": [
      "\u001b[36m(_tune pid=21515)\u001b[0m \u001b[34m\u001b[1mAMP: \u001b[0mchecks passed ✅\n",
      "\u001b[36m(_tune pid=13096)\u001b[0m                    all         52         54      0.428      0.815      0.512      0.262\n",
      "\u001b[36m(_tune pid=13096)\u001b[0m       Epoch    GPU_mem   box_loss   cls_loss   dfl_loss  Instances       Size\n"
     ]
    },
    {
     "name": "stderr",
     "output_type": "stream",
     "text": [
      "\u001b[34m\u001b[1mtrain: \u001b[0mScanning /home/under1/Detect/jeongui/sagittal/base/labels/train.cache... 212 images, 0 backgrounds, 0 corrupt: 100%|██████████| 212/212 [00:00<?, ?it/s]\n",
      "  0%|          | 0/14 [00:00<?, ?it/s]\n",
      "       4/30       2.1G   0.005934       12.4      1.546         29        640:   7%|▋         | 1/14 [00:00<00:03,  4.09it/s]\n"
     ]
    },
    {
     "name": "stdout",
     "output_type": "stream",
     "text": [
      "\u001b[36m(_tune pid=21515)\u001b[0m \u001b[34m\u001b[1malbumentations: \u001b[0mBlur(p=0.01, blur_limit=(3, 7)), MedianBlur(p=0.01, blur_limit=(3, 7)), ToGray(p=0.01), CLAHE(p=0.01, clip_limit=(1, 4.0), tile_grid_size=(8, 8))\n"
     ]
    },
    {
     "name": "stderr",
     "output_type": "stream",
     "text": [
      "\u001b[36m(_tune pid=21515)\u001b[0m INFO:albumentations.check_version:A new version of Albumentations is available: 1.4.12 (you have 1.4.10). Upgrade using: pip install --upgrade albumentations\n",
      "       4/30       2.1G   0.005286      12.32      1.447         23        640:  36%|███▌      | 5/14 [00:02<00:04,  2.01it/s]\u001b[32m [repeated 2x across cluster]\u001b[0m\n",
      "\u001b[34m\u001b[1mval: \u001b[0mScanning /home/under1/Detect/jeongui/sagittal/base/labels/val.cache... 52 images, 0 backgrounds, 0 corrupt: 100%|██████████| 52/52 [00:00<?, ?it/s]\n"
     ]
    },
    {
     "name": "stdout",
     "output_type": "stream",
     "text": [
      "\u001b[36m(_tune pid=21515)\u001b[0m Plotting labels to runs/detect/tune/tune_raytune/labels.jpg... \n",
      "\u001b[36m(_tune pid=21515)\u001b[0m \u001b[34m\u001b[1moptimizer:\u001b[0m 'optimizer=auto' found, ignoring 'lr0=0.05932585404305799' and 'momentum=0.6000269472529615' and determining best 'optimizer', 'lr0' and 'momentum' automatically... \n",
      "\u001b[36m(_tune pid=21515)\u001b[0m \u001b[34m\u001b[1moptimizer:\u001b[0m AdamW(lr=0.001667, momentum=0.9) with parameter groups 57 weight(decay=0.0), 64 weight(decay=0.0006295934835231908), 63 bias(decay=0.0)\n",
      "\u001b[36m(_tune pid=21515)\u001b[0m \u001b[34m\u001b[1mTensorBoard: \u001b[0mmodel graph visualization added ✅\n",
      "\u001b[36m(_tune pid=21515)\u001b[0m Image sizes 640 train, 640 val\n",
      "\u001b[36m(_tune pid=21515)\u001b[0m Using 8 dataloader workers\n",
      "\u001b[36m(_tune pid=21515)\u001b[0m Logging results to \u001b[1mruns/detect/tune/tune_raytune\u001b[0m\n",
      "\u001b[36m(_tune pid=21515)\u001b[0m Starting training for 30 epochs...\n",
      "\u001b[36m(_tune pid=21515)\u001b[0m \n",
      "\u001b[36m(_tune pid=21515)\u001b[0m       Epoch    GPU_mem   box_loss   cls_loss   dfl_loss  Instances       Size\n"
     ]
    },
    {
     "name": "stderr",
     "output_type": "stream",
     "text": [
      "  0%|          | 0/14 [00:00<?, ?it/s]\n",
      "       4/30       2.1G   0.005147      12.19      1.431         22        640:  57%|█████▋    | 8/14 [00:10<00:09,  1.65s/it]\u001b[32m [repeated 3x across cluster]\u001b[0m\n",
      "       4/30       2.1G   0.005219       12.2      1.449         29        640:  64%|██████▍   | 9/14 [03:31<05:19, 63.87s/it]\n",
      "       1/30      2.12G    0.01865      8.597      1.664         25        640:   7%|▋         | 1/14 [05:23<1:10:03, 323.38s/it]\n",
      "       5/30       2.1G   0.009078      2.905      1.735         18        640:  93%|█████████▎| 13/14 [14:44<02:27, 147.39s/it]\n",
      "       5/30      2.13G   0.009019      2.838      1.738          4        640: 100%|██████████| 14/14 [14:44<00:00, 63.18s/it] \n",
      "                 Class     Images  Instances      Box(P          R      mAP50  mAP50-95):   0%|          | 0/2 [00:00<?, ?it/s]\n",
      "       1/30      2.12G    0.01751      8.971      1.703         25        640:  14%|█▍        | 2/14 [06:44<36:11, 180.94s/it]  \n",
      "                 Class     Images  Instances      Box(P          R      mAP50  mAP50-95):  50%|█████     | 1/2 [00:00<00:00,  5.89it/s]\n",
      "       9/30      2.13G    0.02205      12.63      1.381          4        640: 100%|██████████| 14/14 [07:53<00:00, 33.80s/it] \n",
      "                 Class     Images  Instances      Box(P          R      mAP50  mAP50-95): 100%|██████████| 2/2 [00:00<00:00,  5.95it/s]\n"
     ]
    },
    {
     "name": "stdout",
     "output_type": "stream",
     "text": [
      "\u001b[36m(_tune pid=13094)\u001b[0m                    all         52         54      0.431      0.661      0.422      0.124\n"
     ]
    },
    {
     "name": "stderr",
     "output_type": "stream",
     "text": [
      "       4/30      2.14G   0.005138      12.17      1.433          8        640: 100%|██████████| 14/14 [07:51<00:00, 33.67s/it]\n"
     ]
    },
    {
     "name": "stdout",
     "output_type": "stream",
     "text": [
      "\u001b[36m(_tune pid=12418)\u001b[0m \n",
      "\u001b[36m(_tune pid=12418)\u001b[0m       Epoch    GPU_mem   box_loss   cls_loss   dfl_loss  Instances       Size\n",
      "\u001b[36m(_tune pid=13094)\u001b[0m \n"
     ]
    },
    {
     "name": "stderr",
     "output_type": "stream",
     "text": [
      "  0%|          | 0/14 [00:00<?, ?it/s]\n",
      "      10/30      2.09G    0.02064      11.55      1.436         10        640:   7%|▋         | 1/14 [00:00<00:01,  8.56it/s]\n",
      "      10/30      2.09G    0.02354      12.41      1.396         12        640:  21%|██▏       | 3/14 [00:00<00:01,  7.95it/s]\u001b[32m [repeated 4x across cluster]\u001b[0m\n",
      "                 Class     Images  Instances      Box(P          R      mAP50  mAP50-95):   0%|          | 0/2 [00:00<?, ?it/s]\u001b[32m [repeated 2x across cluster]\u001b[0m\n",
      "       6/30       2.1G   0.008628      2.706      1.722         16        640:  64%|██████▍   | 9/14 [00:01<00:00,  7.88it/s]\u001b[32m [repeated 14x across cluster]\u001b[0m\n",
      "                 Class     Images  Instances      Box(P          R      mAP50  mAP50-95):  50%|█████     | 1/2 [00:00<00:00,  2.04it/s]\u001b[32m [repeated 2x across cluster]\u001b[0m\n"
     ]
    },
    {
     "name": "stdout",
     "output_type": "stream",
     "text": [
      "\u001b[36m(_tune pid=13096)\u001b[0m \n"
     ]
    },
    {
     "name": "stderr",
     "output_type": "stream",
     "text": [
      "                 Class     Images  Instances      Box(P          R      mAP50  mAP50-95): 100%|██████████| 2/2 [00:00<00:00,  2.53it/s]\u001b[32m [repeated 2x across cluster]\u001b[0m\n",
      "  0%|          | 0/14 [00:00<?, ?it/s]\u001b[32m [repeated 2x across cluster]\u001b[0m\n",
      "       5/30      2.09G   0.004922      11.08       1.29         27        640:   7%|▋         | 1/14 [00:00<00:03,  3.28it/s]\u001b[32m [repeated 2x across cluster]\u001b[0m\n",
      "       6/30       2.1G   0.008524      2.706      1.729         14        640:  71%|███████▏  | 10/14 [00:13<00:15,  3.83s/it]\u001b[32m [repeated 2x across cluster]\u001b[0m\n",
      "       6/30       2.1G    0.00847      2.656      1.714         14        640:  93%|█████████▎| 13/14 [00:13<00:01,  1.41s/it]\n",
      "       6/30      2.13G   0.008453      2.617      1.717          3        640: 100%|██████████| 14/14 [00:14<00:00,  1.02s/it]\n",
      "                 Class     Images  Instances      Box(P          R      mAP50  mAP50-95):   0%|          | 0/2 [00:00<?, ?it/s]\n",
      "                 Class     Images  Instances      Box(P          R      mAP50  mAP50-95):  50%|█████     | 1/2 [00:00<00:00,  3.24it/s]\n"
     ]
    },
    {
     "name": "stdout",
     "output_type": "stream",
     "text": [
      "\u001b[36m(_tune pid=13094)\u001b[0m                    all         52         54      0.396      0.696      0.448      0.131\u001b[32m [repeated 3x across cluster]\u001b[0m\n",
      "\u001b[36m(_tune pid=13096)\u001b[0m       Epoch    GPU_mem   box_loss   cls_loss   dfl_loss  Instances       Size\u001b[32m [repeated 2x across cluster]\u001b[0m\n"
     ]
    },
    {
     "name": "stderr",
     "output_type": "stream",
     "text": [
      "                 Class     Images  Instances      Box(P          R      mAP50  mAP50-95): 100%|██████████| 2/2 [00:00<00:00,  4.35it/s]\n"
     ]
    },
    {
     "name": "stdout",
     "output_type": "stream",
     "text": [
      "\u001b[36m(_tune pid=13094)\u001b[0m \n"
     ]
    },
    {
     "name": "stderr",
     "output_type": "stream",
     "text": [
      "      10/30      2.09G    0.02414      11.86      1.428          8        640:  71%|███████▏  | 10/14 [00:16<00:06,  1.67s/it]\n"
     ]
    },
    {
     "name": "stdout",
     "output_type": "stream",
     "text": [
      "\u001b[36m(_tune pid=12418)\u001b[0m \n"
     ]
    },
    {
     "name": "stderr",
     "output_type": "stream",
     "text": [
      "  0%|          | 0/14 [00:00<?, ?it/s]\u001b[32m [repeated 2x across cluster]\u001b[0m\n",
      "      11/30      2.08G    0.02433      11.13       1.52         17        640:   7%|▋         | 1/14 [00:00<00:01,  7.21it/s]\u001b[32m [repeated 2x across cluster]\u001b[0m\n",
      "       1/30      2.12G    0.01649      9.202      1.616         29        640:  43%|████▎     | 6/14 [07:03<03:39, 27.40s/it]\u001b[32m [repeated 13x across cluster]\u001b[0m\n",
      "      10/30      2.13G    0.02379      11.79      1.417          8        640: 100%|██████████| 14/14 [00:16<00:00,  1.21s/it]\u001b[32m [repeated 2x across cluster]\u001b[0m\n",
      "                 Class     Images  Instances      Box(P          R      mAP50  mAP50-95):   0%|          | 0/2 [00:00<?, ?it/s]\n",
      "                 Class     Images  Instances      Box(P          R      mAP50  mAP50-95):  50%|█████     | 1/2 [00:00<00:00,  4.57it/s]\n",
      "                 Class     Images  Instances      Box(P          R      mAP50  mAP50-95): 100%|██████████| 2/2 [00:00<00:00,  5.33it/s]\n",
      "       1/30      2.12G    0.01694      9.297      1.664         24        640:  50%|█████     | 7/14 [07:28<03:06, 26.63s/it]\u001b[32m [repeated 3x across cluster]\u001b[0m\n",
      "       1/30      2.12G    0.01638       9.25      1.587         24        640:  93%|█████████▎| 13/14 [07:33<00:03,  3.73s/it]\n",
      "       1/30      2.12G    0.01632      9.153       1.59         30        640:  86%|████████▌ | 12/14 [07:32<00:09,  4.90s/it]\u001b[32m [repeated 5x across cluster]\u001b[0m\n",
      "       1/30      2.16G    0.01603      9.188       1.56          5        640: 100%|██████████| 14/14 [07:40<00:00, 32.88s/it]\n",
      "                 Class     Images  Instances      Box(P          R      mAP50  mAP50-95):   0%|          | 0/2 [00:00<?, ?it/s]\n",
      "                 Class     Images  Instances      Box(P          R      mAP50  mAP50-95):  50%|█████     | 1/2 [00:02<00:02,  2.76s/it]\n",
      "                 Class     Images  Instances      Box(P          R      mAP50  mAP50-95): 100%|██████████| 2/2 [00:04<00:00,  2.38s/it]\n"
     ]
    },
    {
     "name": "stdout",
     "output_type": "stream",
     "text": [
      "\u001b[36m(_tune pid=21515)\u001b[0m                    all         52         54      0.443      0.948      0.513      0.334\u001b[32m [repeated 2x across cluster]\u001b[0m\n",
      "\u001b[36m(_tune pid=12418)\u001b[0m       Epoch    GPU_mem   box_loss   cls_loss   dfl_loss  Instances       Size\u001b[32m [repeated 2x across cluster]\u001b[0m\n",
      "\u001b[36m(_tune pid=21515)\u001b[0m \n"
     ]
    },
    {
     "name": "stderr",
     "output_type": "stream",
     "text": [
      "  0%|          | 0/14 [00:00<?, ?it/s]\n",
      "       7/30      2.09G   0.008359      2.628       1.66         12        640:  14%|█▍        | 2/14 [02:10<15:23, 76.97s/it]\n",
      "       7/30      2.09G   0.008106      2.489      1.602         21        640:  21%|██▏       | 3/14 [02:11<07:40, 41.88s/it]\n",
      "       7/30      2.09G   0.008303      2.487      1.668         13        640:  29%|██▊       | 4/14 [02:11<04:14, 25.42s/it]\n",
      "       7/30      2.09G   0.008548      2.527       1.71         15        640:  36%|███▌      | 5/14 [02:11<02:26, 16.30s/it]\n",
      "       7/30      2.09G    0.00866      2.523      1.729         14        640:  43%|████▎     | 6/14 [02:11<01:26, 10.79s/it]\n",
      "       7/30      2.09G   0.008642      2.481       1.72         20        640:  50%|█████     | 7/14 [02:11<00:51,  7.30s/it]\n",
      "       7/30      2.09G    0.00845      2.454      1.689         11        640:  57%|█████▋    | 8/14 [02:11<00:30,  5.02s/it]\n",
      "       7/30      2.09G   0.008429      2.426      1.674         20        640:  57%|█████▋    | 8/14 [02:11<00:30,  5.02s/it]\n",
      "       7/30      2.09G   0.008343      2.419      1.666         14        640:  71%|███████▏  | 10/14 [02:11<00:10,  2.68s/it]\n",
      "       7/30      2.09G   0.008313      2.446      1.652         10        640:  79%|███████▊  | 11/14 [02:11<00:06,  2.03s/it]\n",
      "       7/30      2.09G   0.008395      2.454      1.661         19        640:  86%|████████▌ | 12/14 [02:12<00:03,  1.53s/it]\n",
      "       7/30      2.09G   0.008499      2.449      1.679         14        640:  93%|█████████▎| 13/14 [02:12<00:01,  1.14s/it]\n",
      "       7/30      2.14G   0.008431      2.439      1.673          5        640: 100%|██████████| 14/14 [02:12<00:00,  9.46s/it]\n",
      "                 Class     Images  Instances      Box(P          R      mAP50  mAP50-95):   0%|          | 0/2 [00:00<?, ?it/s]\n",
      "                 Class     Images  Instances      Box(P          R      mAP50  mAP50-95):  50%|█████     | 1/2 [00:00<00:00,  5.10it/s]\n",
      "                 Class     Images  Instances      Box(P          R      mAP50  mAP50-95): 100%|██████████| 2/2 [00:00<00:00,  6.24it/s]\n"
     ]
    },
    {
     "name": "stdout",
     "output_type": "stream",
     "text": [
      "\u001b[36m(_tune pid=13094)\u001b[0m                    all         52         54      0.449      0.704      0.459      0.191\n",
      "\u001b[36m(_tune pid=21515)\u001b[0m       Epoch    GPU_mem   box_loss   cls_loss   dfl_loss  Instances       Size\n",
      "\u001b[36m(_tune pid=13094)\u001b[0m \n",
      "\u001b[36m(_tune pid=13094)\u001b[0m       Epoch    GPU_mem   box_loss   cls_loss   dfl_loss  Instances       Size\n"
     ]
    },
    {
     "name": "stderr",
     "output_type": "stream",
     "text": [
      "  0%|          | 0/14 [00:00<?, ?it/s]\n",
      "       8/30      2.09G   0.007286      2.394      1.497         14        640:   7%|▋         | 1/14 [00:00<00:02,  5.25it/s]\n",
      "       8/30      2.09G   0.007749      2.389      1.548         16        640:  14%|█▍        | 2/14 [00:00<00:02,  5.85it/s]\n",
      "       8/30      2.09G   0.008761      2.567      1.705         15        640:  21%|██▏       | 3/14 [00:00<00:01,  6.65it/s]\n",
      "       8/30      2.09G   0.008632      2.522      1.686         15        640:  29%|██▊       | 4/14 [00:00<00:01,  7.04it/s]\n",
      "       2/30      2.09G    0.01512      8.515      1.432         25        640:   7%|▋         | 1/14 [02:06<27:28, 126.78s/it]\n",
      "       2/30      2.09G    0.01402      8.845      1.373         23        640:  14%|█▍        | 2/14 [02:07<10:29, 52.45s/it] \n",
      "       2/30      2.09G    0.01359      8.456      1.368         24        640:  21%|██▏       | 3/14 [02:07<05:15, 28.70s/it]\n",
      "       2/30      2.09G    0.01293      8.472      1.325         28        640:  29%|██▊       | 4/14 [02:07<02:54, 17.48s/it]\n",
      "       2/30      2.09G    0.01338      8.487      1.378         25        640:  36%|███▌      | 5/14 [02:39<03:24, 22.69s/it]\n",
      "       2/30      2.09G    0.01378      8.608       1.39         35        640:  43%|████▎     | 6/14 [02:40<02:00, 15.08s/it]\n",
      "       2/30      2.09G      0.014      8.626      1.398         28        640:  50%|█████     | 7/14 [02:44<01:22, 11.73s/it]\n",
      "       2/30      2.09G    0.01399      8.708      1.386         30        640:  57%|█████▋    | 8/14 [02:45<00:48,  8.03s/it]\n",
      "       2/30      2.09G    0.01392      8.676      1.374         22        640:  64%|██████▍   | 9/14 [02:45<00:27,  5.57s/it]\n",
      "      11/30      2.09G    0.02326      11.07      1.463         16        640:  29%|██▊       | 4/14 [03:29<13:46, 82.68s/it]\n",
      "       8/30      2.09G   0.008479      2.438      1.666          9        640:  57%|█████▋    | 8/14 [01:18<00:56,  9.46s/it]\n",
      "       2/30      2.09G    0.01381      8.705      1.377         26        640:  93%|█████████▎| 13/14 [02:45<00:01,  1.42s/it]\n",
      "       2/30      2.13G    0.01381      8.686      1.372          9        640: 100%|██████████| 14/14 [02:46<00:00, 11.86s/it]\n",
      "                 Class     Images  Instances      Box(P          R      mAP50  mAP50-95):   0%|          | 0/2 [00:00<?, ?it/s]\n",
      "      11/30      2.13G    0.02311      11.65      1.417          5        640: 100%|██████████| 14/14 [03:30<00:00, 15.06s/it]\n",
      "       8/30      2.13G   0.008549      2.384      1.714          6        640: 100%|██████████| 14/14 [01:19<00:00,  5.67s/it]\n",
      "                 Class     Images  Instances      Box(P          R      mAP50  mAP50-95):  50%|█████     | 1/2 [00:00<00:00,  2.55it/s]\n"
     ]
    },
    {
     "name": "stdout",
     "output_type": "stream",
     "text": [
      "\u001b[36m(_tune pid=21515)\u001b[0m                    all         52         54      0.424      0.842      0.513      0.263\n"
     ]
    },
    {
     "name": "stderr",
     "output_type": "stream",
     "text": [
      "                 Class     Images  Instances      Box(P          R      mAP50  mAP50-95): 100%|██████████| 2/2 [00:00<00:00,  2.74it/s]\n",
      "       5/30      2.13G   0.005219      11.97      1.419          7        640: 100%|██████████| 14/14 [03:47<00:00, 16.27s/it]\n",
      "  0%|          | 0/14 [00:00<?, ?it/s]\n"
     ]
    },
    {
     "name": "stdout",
     "output_type": "stream",
     "text": [
      "\u001b[36m(_tune pid=21515)\u001b[0m \n",
      "\u001b[36m(_tune pid=21515)\u001b[0m       Epoch    GPU_mem   box_loss   cls_loss   dfl_loss  Instances       Size\n",
      "\u001b[36m(_tune pid=13094)\u001b[0m \n"
     ]
    },
    {
     "name": "stderr",
     "output_type": "stream",
     "text": [
      "       3/30       2.1G     0.0153      8.854      1.398         28        640:   7%|▋         | 1/14 [00:00<00:02,  5.37it/s]\n",
      "       9/30      2.09G   0.008732      2.577      1.735         19        640:  21%|██▏       | 3/14 [00:00<00:00, 12.16it/s]\n",
      "       9/30      2.09G   0.008719      2.397      1.695         20        640:  50%|█████     | 7/14 [00:00<00:00, 11.63it/s]\n"
     ]
    },
    {
     "name": "stdout",
     "output_type": "stream",
     "text": [
      "\u001b[36m(_tune pid=13096)\u001b[0m \n"
     ]
    },
    {
     "name": "stderr",
     "output_type": "stream",
     "text": [
      "       9/30      2.13G     0.0087      2.302      1.714          5        640: 100%|██████████| 14/14 [00:01<00:00,  8.33it/s]\n",
      "       3/30       2.1G    0.01346      8.316      1.286         32        640:  71%|███████▏  | 10/14 [00:01<00:00,  5.93it/s]\u001b[32m [repeated 37x across cluster]\u001b[0m\n",
      "       3/30      2.12G    0.01368      8.233      1.288          6        640: 100%|██████████| 14/14 [00:02<00:00,  5.72it/s]\n",
      "       3/30       2.1G    0.01358      8.243      1.296         27        640:  93%|█████████▎| 13/14 [00:02<00:00,  5.87it/s]\u001b[32m [repeated 8x across cluster]\u001b[0m\n",
      "                 Class     Images  Instances      Box(P          R      mAP50  mAP50-95):   0%|          | 0/2 [00:00<?, ?it/s]\u001b[32m [repeated 5x across cluster]\u001b[0m\n",
      "                 Class     Images  Instances      Box(P          R      mAP50  mAP50-95):  50%|█████     | 1/2 [00:00<00:00,  2.54it/s]\u001b[32m [repeated 5x across cluster]\u001b[0m\n"
     ]
    },
    {
     "name": "stdout",
     "output_type": "stream",
     "text": [
      "\u001b[36m(_tune pid=13094)\u001b[0m \n",
      "\u001b[36m(_tune pid=21515)\u001b[0m                    all         52         54      0.479      0.811      0.544      0.305\u001b[32m [repeated 5x across cluster]\u001b[0m\n"
     ]
    },
    {
     "name": "stderr",
     "output_type": "stream",
     "text": [
      "                 Class     Images  Instances      Box(P          R      mAP50  mAP50-95): 100%|██████████| 2/2 [00:00<00:00,  3.24it/s]\u001b[32m [repeated 5x across cluster]\u001b[0m\n",
      "       6/30      2.13G   0.005256      11.97      1.441          6        640: 100%|██████████| 14/14 [00:02<00:00,  6.69it/s]\n"
     ]
    },
    {
     "name": "stdout",
     "output_type": "stream",
     "text": [
      "\u001b[36m(_tune pid=21515)\u001b[0m \n"
     ]
    },
    {
     "name": "stderr",
     "output_type": "stream",
     "text": [
      "  0%|          | 0/14 [00:00<?, ?it/s]\u001b[32m [repeated 5x across cluster]\u001b[0m\n",
      "      10/30      2.13G   0.008253      2.181      1.611          6        640: 100%|██████████| 14/14 [00:01<00:00,  8.30it/s]\n",
      "       4/30       2.1G    0.01479      8.488      1.326         28        640:   7%|▋         | 1/14 [00:00<00:02,  5.56it/s]\u001b[32m [repeated 4x across cluster]\u001b[0m\n"
     ]
    },
    {
     "name": "stdout",
     "output_type": "stream",
     "text": [
      "\u001b[36m(_tune pid=13096)\u001b[0m \n",
      "\u001b[36m(_tune pid=13096)\u001b[0m       Epoch    GPU_mem   box_loss   cls_loss   dfl_loss  Instances       Size\u001b[32m [repeated 5x across cluster]\u001b[0m\n"
     ]
    },
    {
     "name": "stderr",
     "output_type": "stream",
     "text": [
      "       4/30       2.1G    0.01409      8.577      1.357         24        640:  93%|█████████▎| 13/14 [00:02<00:00,  4.66it/s]\n",
      "       4/30      2.13G    0.01404      8.537      1.361          6        640: 100%|██████████| 14/14 [00:02<00:00,  5.58it/s]\n"
     ]
    },
    {
     "name": "stdout",
     "output_type": "stream",
     "text": [
      "\u001b[36m(_tune pid=13094)\u001b[0m \n"
     ]
    },
    {
     "name": "stderr",
     "output_type": "stream",
     "text": [
      "       7/30      2.09G   0.005302      11.97      1.514         28        640:  79%|███████▊  | 11/14 [00:01<00:00,  7.55it/s]\u001b[32m [repeated 41x across cluster]\u001b[0m\n",
      "       7/30      2.13G   0.005393      12.17       1.53          8        640: 100%|██████████| 14/14 [00:01<00:00,  7.36it/s]\n",
      "       7/30      2.09G    0.00526      11.97      1.493         24        640:  93%|█████████▎| 13/14 [00:01<00:00,  7.18it/s]\u001b[32m [repeated 8x across cluster]\u001b[0m\n"
     ]
    },
    {
     "name": "stdout",
     "output_type": "stream",
     "text": [
      "\u001b[36m(_tune pid=32337)\u001b[0m Ultralytics YOLOv8.2.70 🚀 Python-3.10.14 torch-2.1.0 CUDA:0 (NVIDIA GeForce RTX 3090, 24260MiB)\n",
      "\u001b[36m(_tune pid=32337)\u001b[0m \u001b[34m\u001b[1mengine/trainer: \u001b[0mtask=detect, mode=train, model=/home/under1/Detect/jeongui/sagittal/test/runs/detect/train/train_base/weights/best.pt, data=/home/under1/Detect/jeongui/sagittal/test/test.yaml, epochs=30, time=None, patience=100, batch=16, imgsz=640, save=True, save_period=-1, cache=False, device=None, workers=8, project=None, name=tune_raytune, exist_ok=False, pretrained=True, optimizer=auto, verbose=True, seed=0, deterministic=True, single_cls=False, rect=False, cos_lr=False, close_mosaic=10, resume=False, amp=True, fraction=1.0, profile=False, freeze=None, multi_scale=False, overlap_mask=True, mask_ratio=4, dropout=0.0, val=True, split=val, save_json=False, save_hybrid=False, conf=None, iou=0.7, max_det=300, half=False, dnn=False, plots=True, source=None, vid_stride=1, stream_buffer=False, visualize=False, augment=False, agnostic_nms=False, classes=None, retina_masks=False, embed=None, show=False, save_frames=False, save_txt=False, save_conf=False, save_crop=False, show_labels=True, show_conf=True, show_boxes=True, line_width=None, format=torchscript, keras=False, optimize=False, int8=False, dynamic=False, simplify=False, opset=None, workspace=4, nms=False, lr0=0.08723072395956553, lrf=0.7698462982758311, momentum=0.8018205828788567, weight_decay=0.00029631972638723445, warmup_epochs=1.293620216490231, warmup_momentum=0.775432029288922, warmup_bias_lr=0.1, box=0.0869043452434751, cls=2.723189993948248, dfl=1.5, pose=12.0, kobj=1.0, label_smoothing=0.0, nbs=64, hsv_h=0.05738675430370103, hsv_s=0.8029111095594995, hsv_v=0.14996886557866182, degrees=37.160262703766755, translate=0.526058518654893, scale=0.7800131783765446, shear=5.834343586630943, perspective=0.00011267125572102765, flipud=0.3887361684774665, fliplr=0.10046060866712747, bgr=0.5151504080548976, mosaic=0.6169409266551056, mixup=0.8610557253147175, copy_paste=0.5657837535718178, auto_augment=randaugment, erasing=0.4, crop_fraction=1.0, cfg=None, tracker=botsort.yaml, save_dir=runs/detect/tune/tune_raytune\n"
     ]
    },
    {
     "name": "stderr",
     "output_type": "stream",
     "text": [
      "                 Class     Images  Instances      Box(P          R      mAP50  mAP50-95):   0%|          | 0/2 [00:00<?, ?it/s]\u001b[32m [repeated 4x across cluster]\u001b[0m\n",
      "                 Class     Images  Instances      Box(P          R      mAP50  mAP50-95):  50%|█████     | 1/2 [00:00<00:00,  3.21it/s]\u001b[32m [repeated 4x across cluster]\u001b[0m\n",
      "                 Class     Images  Instances      Box(P          R      mAP50  mAP50-95): 100%|██████████| 2/2 [00:00<00:00,  3.84it/s]\u001b[32m [repeated 4x across cluster]\u001b[0m\n"
     ]
    },
    {
     "name": "stdout",
     "output_type": "stream",
     "text": [
      "\u001b[36m(_tune pid=13096)\u001b[0m \n",
      "\u001b[36m(_tune pid=13096)\u001b[0m                    all         52         54      0.494      0.771      0.529      0.222\u001b[32m [repeated 4x across cluster]\u001b[0m\n",
      "\u001b[36m(_tune pid=21515)\u001b[0m \n",
      "\u001b[36m(_tune pid=32337)\u001b[0m \n",
      "\u001b[36m(_tune pid=32337)\u001b[0m                    from  n    params  module                                       arguments                     \n",
      "\u001b[36m(_tune pid=32337)\u001b[0m   0                  -1  1       464  ultralytics.nn.modules.conv.Conv             [3, 16, 3, 2]                 \n",
      "\u001b[36m(_tune pid=32337)\u001b[0m   1                  -1  1      4672  ultralytics.nn.modules.conv.Conv             [16, 32, 3, 2]                \n",
      "\u001b[36m(_tune pid=32337)\u001b[0m   2                  -1  1      7360  ultralytics.nn.modules.block.C2f             [32, 32, 1, True]             \n",
      "\u001b[36m(_tune pid=32337)\u001b[0m   3                  -1  1     18560  ultralytics.nn.modules.conv.Conv             [32, 64, 3, 2]                \n",
      "\u001b[36m(_tune pid=32337)\u001b[0m   4                  -1  2     49664  ultralytics.nn.modules.block.C2f             [64, 64, 2, True]             \n",
      "\u001b[36m(_tune pid=32337)\u001b[0m   5                  -1  1     73984  ultralytics.nn.modules.conv.Conv             [64, 128, 3, 2]               \n",
      "\u001b[36m(_tune pid=32337)\u001b[0m   6                  -1  2    197632  ultralytics.nn.modules.block.C2f             [128, 128, 2, True]           \n",
      "\u001b[36m(_tune pid=32337)\u001b[0m   7                  -1  1    295424  ultralytics.nn.modules.conv.Conv             [128, 256, 3, 2]              \n",
      "\u001b[36m(_tune pid=32337)\u001b[0m   8                  -1  1    460288  ultralytics.nn.modules.block.C2f             [256, 256, 1, True]           \n",
      "\u001b[36m(_tune pid=32337)\u001b[0m   9                  -1  1    164608  ultralytics.nn.modules.block.SPPF            [256, 256, 5]                 \n",
      "\u001b[36m(_tune pid=32337)\u001b[0m  10                  -1  1         0  torch.nn.modules.upsampling.Upsample         [None, 2, 'nearest']          \n",
      "\u001b[36m(_tune pid=32337)\u001b[0m  11             [-1, 6]  1         0  ultralytics.nn.modules.conv.Concat           [1]                           \n",
      "\u001b[36m(_tune pid=32337)\u001b[0m  12                  -1  1    148224  ultralytics.nn.modules.block.C2f             [384, 128, 1]                 \n",
      "\u001b[36m(_tune pid=32337)\u001b[0m  13                  -1  1         0  torch.nn.modules.upsampling.Upsample         [None, 2, 'nearest']          \n",
      "\u001b[36m(_tune pid=32337)\u001b[0m  14             [-1, 4]  1         0  ultralytics.nn.modules.conv.Concat           [1]                           \n",
      "\u001b[36m(_tune pid=32337)\u001b[0m  15                  -1  1     37248  ultralytics.nn.modules.block.C2f             [192, 64, 1]                  \n",
      "\u001b[36m(_tune pid=32337)\u001b[0m  16                  -1  1     36992  ultralytics.nn.modules.conv.Conv             [64, 64, 3, 2]                \n",
      "\u001b[36m(_tune pid=32337)\u001b[0m  17            [-1, 12]  1         0  ultralytics.nn.modules.conv.Concat           [1]                           \n",
      "\u001b[36m(_tune pid=32337)\u001b[0m  18                  -1  1    123648  ultralytics.nn.modules.block.C2f             [192, 128, 1]                 \n",
      "\u001b[36m(_tune pid=32337)\u001b[0m  19                  -1  1    147712  ultralytics.nn.modules.conv.Conv             [128, 128, 3, 2]              \n",
      "\u001b[36m(_tune pid=32337)\u001b[0m  20             [-1, 9]  1         0  ultralytics.nn.modules.conv.Concat           [1]                           \n",
      "\u001b[36m(_tune pid=32337)\u001b[0m  21                  -1  1    493056  ultralytics.nn.modules.block.C2f             [384, 256, 1]                 \n",
      "\u001b[36m(_tune pid=32337)\u001b[0m  22        [15, 18, 21]  1    751702  ultralytics.nn.modules.head.Detect           [2, [64, 128, 256]]           \n",
      "\u001b[36m(_tune pid=32337)\u001b[0m Model summary: 225 layers, 3,011,238 parameters, 3,011,222 gradients, 8.2 GFLOPs\n",
      "\u001b[36m(_tune pid=32337)\u001b[0m \n",
      "\u001b[36m(_tune pid=32337)\u001b[0m Transferred 355/355 items from pretrained weights\n",
      "\u001b[36m(_tune pid=32337)\u001b[0m \u001b[34m\u001b[1mTensorBoard: \u001b[0mStart with 'tensorboard --logdir runs/detect/tune/tune_raytune', view at http://localhost:6006/\n"
     ]
    },
    {
     "name": "stderr",
     "output_type": "stream",
     "text": [
      "  0%|          | 0/14 [00:00<?, ?it/s]\u001b[32m [repeated 4x across cluster]\u001b[0m\n",
      "       5/30      2.09G    0.01592       9.18      1.294         28        640:   7%|▋         | 1/14 [00:00<00:02,  4.76it/s]\u001b[32m [repeated 4x across cluster]\u001b[0m\n",
      "       8/30      2.13G   0.005184      11.71      1.455          7        640: 100%|██████████| 14/14 [00:01<00:00,  7.26it/s]\n"
     ]
    },
    {
     "name": "stdout",
     "output_type": "stream",
     "text": [
      "\u001b[36m(_tune pid=21515)\u001b[0m       Epoch    GPU_mem   box_loss   cls_loss   dfl_loss  Instances       Size\u001b[32m [repeated 3x across cluster]\u001b[0m\n"
     ]
    },
    {
     "name": "stderr",
     "output_type": "stream",
     "text": [
      "       5/30      2.13G    0.01415      8.718      1.338          8        640: 100%|██████████| 14/14 [00:02<00:00,  5.34it/s]\n",
      "      11/30      2.09G   0.008988      2.295      1.705         19        640:  64%|██████▍   | 9/14 [00:05<00:01,  3.18it/s]\u001b[32m [repeated 30x across cluster]\u001b[0m\n"
     ]
    },
    {
     "name": "stdout",
     "output_type": "stream",
     "text": [
      "\u001b[36m(_tune pid=32337)\u001b[0m Freezing layer 'model.22.dfl.conv.weight'\n",
      "\u001b[36m(_tune pid=32337)\u001b[0m \u001b[34m\u001b[1mAMP: \u001b[0mrunning Automatic Mixed Precision (AMP) checks with YOLOv8n...\n",
      "\u001b[36m(_tune pid=32337)\u001b[0m Downloading https://github.com/ultralytics/assets/releases/download/v8.2.0/yolov8n.pt to 'yolov8n.pt'...\n",
      "\u001b[36m(_tune pid=13096)\u001b[0m \n"
     ]
    },
    {
     "name": "stderr",
     "output_type": "stream",
     "text": [
      "      11/30      2.09G   0.008614      2.291      1.658         14        640:  93%|█████████▎| 13/14 [00:05<00:00,  5.73it/s]\u001b[32m [repeated 4x across cluster]\u001b[0m\n",
      "      11/30      2.13G   0.008616      2.283      1.651          3        640: 100%|██████████| 14/14 [00:05<00:00,  2.45it/s]\n",
      "                 Class     Images  Instances      Box(P          R      mAP50  mAP50-95):   0%|          | 0/2 [00:00<?, ?it/s]\u001b[32m [repeated 3x across cluster]\u001b[0m\n"
     ]
    },
    {
     "name": "stdout",
     "output_type": "stream",
     "text": [
      "\u001b[36m(_tune pid=21515)\u001b[0m \n"
     ]
    },
    {
     "name": "stderr",
     "output_type": "stream",
     "text": [
      "100%|██████████| 6.25M/6.25M [00:00<00:00, 110MB/s]\n",
      "                 Class     Images  Instances      Box(P          R      mAP50  mAP50-95):  50%|█████     | 1/2 [00:00<00:00,  3.90it/s]\u001b[32m [repeated 3x across cluster]\u001b[0m\n",
      "                 Class     Images  Instances      Box(P          R      mAP50  mAP50-95): 100%|██████████| 2/2 [00:00<00:00,  4.54it/s]\u001b[32m [repeated 3x across cluster]\u001b[0m\n",
      "       9/30      2.13G   0.005268      11.64      1.451          7        640: 100%|██████████| 14/14 [00:01<00:00,  7.33it/s]\n"
     ]
    },
    {
     "name": "stdout",
     "output_type": "stream",
     "text": [
      "\u001b[36m(_tune pid=13096)\u001b[0m                    all         52         54      0.493      0.704      0.498      0.211\u001b[32m [repeated 4x across cluster]\u001b[0m\n"
     ]
    },
    {
     "name": "stderr",
     "output_type": "stream",
     "text": [
      "  0%|          | 0/14 [00:00<?, ?it/s]\u001b[32m [repeated 2x across cluster]\u001b[0m\n",
      "       6/30      2.13G      0.014      8.608      1.348          4        640: 100%|██████████| 14/14 [00:02<00:00,  6.97it/s]\n",
      "       6/30       2.1G    0.01545      8.219      1.367         28        640:   7%|▋         | 1/14 [00:00<00:01,  6.91it/s]\u001b[32m [repeated 2x across cluster]\u001b[0m\n"
     ]
    },
    {
     "name": "stdout",
     "output_type": "stream",
     "text": [
      "\u001b[36m(_tune pid=13096)\u001b[0m \n",
      "\u001b[36m(_tune pid=21515)\u001b[0m \n",
      "\u001b[36m(_tune pid=21515)\u001b[0m       Epoch    GPU_mem   box_loss   cls_loss   dfl_loss  Instances       Size\u001b[32m [repeated 4x across cluster]\u001b[0m\n"
     ]
    },
    {
     "name": "stderr",
     "output_type": "stream",
     "text": [
      "      10/30      2.09G   0.004939      11.31      1.379         26        640:  79%|███████▊  | 11/14 [00:01<00:00,  7.11it/s]\u001b[32m [repeated 35x across cluster]\u001b[0m\n",
      "      10/30      2.14G   0.004991      11.33      1.386          9        640: 100%|██████████| 14/14 [00:01<00:00,  7.43it/s]\n",
      "      10/30      2.09G   0.004911      11.31      1.383         25        640:  93%|█████████▎| 13/14 [00:01<00:00,  7.55it/s]\u001b[32m [repeated 3x across cluster]\u001b[0m\n",
      "                 Class     Images  Instances      Box(P          R      mAP50  mAP50-95):   0%|          | 0/2 [00:00<?, ?it/s]\u001b[32m [repeated 3x across cluster]\u001b[0m\n",
      "       7/30      2.14G    0.01466       8.38      1.397         10        640: 100%|██████████| 14/14 [00:01<00:00,  7.55it/s]\n",
      "                 Class     Images  Instances      Box(P          R      mAP50  mAP50-95):  50%|█████     | 1/2 [00:00<00:00,  3.48it/s]\u001b[32m [repeated 3x across cluster]\u001b[0m\n",
      "                 Class     Images  Instances      Box(P          R      mAP50  mAP50-95): 100%|██████████| 2/2 [00:00<00:00,  4.00it/s]\u001b[32m [repeated 3x across cluster]\u001b[0m\n",
      "\u001b[34m\u001b[1mtrain: \u001b[0mScanning /home/under1/Detect/jeongui/sagittal/base/labels/train.cache... 212 images, 0 backgrounds, 0 corrupt: 100%|██████████| 212/212 [00:00<?, ?it/s]\n"
     ]
    },
    {
     "name": "stdout",
     "output_type": "stream",
     "text": [
      "\u001b[36m(_tune pid=32337)\u001b[0m \u001b[34m\u001b[1mAMP: \u001b[0mchecks passed ✅\n",
      "\u001b[36m(_tune pid=13096)\u001b[0m \n",
      "\u001b[36m(_tune pid=21515)\u001b[0m \n",
      "\u001b[36m(_tune pid=21515)\u001b[0m                    all         52         54      0.469      0.738      0.525      0.261\u001b[32m [repeated 3x across cluster]\u001b[0m\n",
      "\u001b[36m(_tune pid=32337)\u001b[0m \u001b[34m\u001b[1malbumentations: \u001b[0mBlur(p=0.01, blur_limit=(3, 7)), MedianBlur(p=0.01, blur_limit=(3, 7)), ToGray(p=0.01), CLAHE(p=0.01, clip_limit=(1, 4.0), tile_grid_size=(8, 8))\n"
     ]
    },
    {
     "name": "stderr",
     "output_type": "stream",
     "text": [
      "\u001b[36m(_tune pid=32337)\u001b[0m INFO:albumentations.check_version:A new version of Albumentations is available: 1.4.12 (you have 1.4.10). Upgrade using: pip install --upgrade albumentations\n",
      "  0%|          | 0/14 [00:00<?, ?it/s]\u001b[32m [repeated 4x across cluster]\u001b[0m\n",
      "       8/30      2.09G    0.01525      9.552      1.317         22        640:   7%|▋         | 1/14 [00:00<00:01,  7.39it/s]\u001b[32m [repeated 4x across cluster]\u001b[0m\n",
      "      11/30      2.13G   0.005312      11.72      1.431          6        640: 100%|██████████| 14/14 [00:01<00:00,  7.25it/s]\n",
      "\u001b[34m\u001b[1mval: \u001b[0mScanning /home/under1/Detect/jeongui/sagittal/base/labels/val.cache... 52 images, 0 backgrounds, 0 corrupt: 100%|██████████| 52/52 [00:00<?, ?it/s]\n",
      "       8/30      2.14G    0.01388      8.515      1.323          7        640: 100%|██████████| 14/14 [00:02<00:00,  7.00it/s]\n",
      "       8/30      2.09G     0.0138      8.545      1.331         33        640:  86%|████████▌ | 12/14 [00:01<00:00,  7.25it/s]\u001b[32m [repeated 33x across cluster]\u001b[0m\n"
     ]
    },
    {
     "name": "stdout",
     "output_type": "stream",
     "text": [
      "\u001b[36m(_tune pid=21515)\u001b[0m       Epoch    GPU_mem   box_loss   cls_loss   dfl_loss  Instances       Size\u001b[32m [repeated 2x across cluster]\u001b[0m\n"
     ]
    },
    {
     "name": "stderr",
     "output_type": "stream",
     "text": [
      "       8/30      2.09G    0.01375      8.503      1.327         19        640:  93%|█████████▎| 13/14 [00:01<00:00,  7.70it/s]\u001b[32m [repeated 4x across cluster]\u001b[0m\n"
     ]
    },
    {
     "name": "stdout",
     "output_type": "stream",
     "text": [
      "\u001b[36m(_tune pid=21515)\u001b[0m \n"
     ]
    },
    {
     "name": "stderr",
     "output_type": "stream",
     "text": [
      "                 Class     Images  Instances      Box(P          R      mAP50  mAP50-95):   0%|          | 0/2 [00:00<?, ?it/s]\u001b[32m [repeated 3x across cluster]\u001b[0m\n",
      "                 Class     Images  Instances      Box(P          R      mAP50  mAP50-95):  50%|█████     | 1/2 [00:00<00:00,  2.61it/s]\u001b[32m [repeated 3x across cluster]\u001b[0m\n",
      "                 Class     Images  Instances      Box(P          R      mAP50  mAP50-95): 100%|██████████| 2/2 [00:00<00:00,  3.35it/s]\u001b[32m [repeated 3x across cluster]\u001b[0m\n",
      "  0%|          | 0/14 [00:00<?, ?it/s]\n",
      "       9/30      2.13G    0.01406      8.308      1.341          5        640: 100%|██████████| 14/14 [00:01<00:00,  7.14it/s]\n",
      "       9/30      2.08G    0.01174       7.99       1.29         21        640:   7%|▋         | 1/14 [00:00<00:01,  8.80it/s]\n"
     ]
    },
    {
     "name": "stdout",
     "output_type": "stream",
     "text": [
      "\u001b[36m(_tune pid=32337)\u001b[0m Plotting labels to runs/detect/tune/tune_raytune/labels.jpg... \n",
      "\u001b[36m(_tune pid=21515)\u001b[0m                    all         52         54      0.502      0.758       0.53      0.275\u001b[32m [repeated 2x across cluster]\u001b[0m\n",
      "\u001b[36m(_tune pid=21515)\u001b[0m \n"
     ]
    },
    {
     "name": "stderr",
     "output_type": "stream",
     "text": [
      "  0%|          | 0/14 [00:00<?, ?it/s]\n",
      "      10/30      2.09G    0.01171      7.546      1.231         19        640:   7%|▋         | 1/14 [00:00<00:01,  8.23it/s]\n",
      "       9/30      2.09G     0.0141      8.253      1.336         19        640:  86%|████████▌ | 12/14 [00:01<00:00,  6.75it/s]\u001b[32m [repeated 11x across cluster]\u001b[0m\n",
      "       9/30      2.09G     0.0141      8.248      1.343         24        640:  93%|█████████▎| 13/14 [00:01<00:00,  6.81it/s]\n",
      "      10/30      2.09G    0.01291      7.889      1.311         25        640:  93%|█████████▎| 13/14 [00:01<00:00,  8.15it/s]\n",
      "                 Class     Images  Instances      Box(P          R      mAP50  mAP50-95):   0%|          | 0/2 [00:00<?, ?it/s]\n",
      "      10/30      2.13G    0.01292      7.881       1.31          4        640: 100%|██████████| 14/14 [00:01<00:00,  7.94it/s]\n",
      "                 Class     Images  Instances      Box(P          R      mAP50  mAP50-95):   0%|          | 0/2 [00:00<?, ?it/s]\n"
     ]
    },
    {
     "name": "stdout",
     "output_type": "stream",
     "text": [
      "\u001b[36m(_tune pid=32337)\u001b[0m \u001b[34m\u001b[1moptimizer:\u001b[0m 'optimizer=auto' found, ignoring 'lr0=0.08723072395956553' and 'momentum=0.8018205828788567' and determining best 'optimizer', 'lr0' and 'momentum' automatically... \n",
      "\u001b[36m(_tune pid=32337)\u001b[0m \u001b[34m\u001b[1moptimizer:\u001b[0m AdamW(lr=0.001667, momentum=0.9) with parameter groups 57 weight(decay=0.0), 64 weight(decay=0.00029631972638723445), 63 bias(decay=0.0)\n",
      "\u001b[36m(_tune pid=21515)\u001b[0m       Epoch    GPU_mem   box_loss   cls_loss   dfl_loss  Instances       Size\u001b[32m [repeated 2x across cluster]\u001b[0m\n"
     ]
    },
    {
     "name": "stderr",
     "output_type": "stream",
     "text": [
      "                 Class     Images  Instances      Box(P          R      mAP50  mAP50-95):  50%|█████     | 1/2 [00:00<00:00,  3.59it/s]\u001b[32m [repeated 2x across cluster]\u001b[0m\n",
      "                 Class     Images  Instances      Box(P          R      mAP50  mAP50-95): 100%|██████████| 2/2 [00:00<00:00,  3.95it/s]\n",
      "                 Class     Images  Instances      Box(P          R      mAP50  mAP50-95): 100%|██████████| 2/2 [00:00<00:00,  4.35it/s]\n"
     ]
    },
    {
     "name": "stdout",
     "output_type": "stream",
     "text": [
      "\u001b[36m(_tune pid=21515)\u001b[0m \n"
     ]
    },
    {
     "name": "stderr",
     "output_type": "stream",
     "text": [
      "  0%|          | 0/14 [00:00<?, ?it/s]\n",
      "      11/30      2.08G    0.01356      7.862      1.254         21        640:   7%|▋         | 1/14 [00:00<00:01,  7.67it/s]\n",
      "      11/30      2.09G    0.01377      7.667      1.312         26        640:  93%|█████████▎| 13/14 [00:01<00:00,  7.65it/s]\n",
      "      11/30      2.13G    0.01359      7.701       1.31          6        640: 100%|██████████| 14/14 [00:01<00:00,  7.63it/s]\n",
      "                 Class     Images  Instances      Box(P          R      mAP50  mAP50-95):   0%|          | 0/2 [00:00<?, ?it/s]\n",
      "      11/30      2.09G    0.01385       7.68      1.319         28        640:  86%|████████▌ | 12/14 [00:01<00:00,  7.08it/s]\u001b[32m [repeated 22x across cluster]\u001b[0m\n",
      "                 Class     Images  Instances      Box(P          R      mAP50  mAP50-95): 100%|██████████| 2/2 [00:00<00:00,  4.96it/s]\n"
     ]
    },
    {
     "name": "stdout",
     "output_type": "stream",
     "text": [
      "\u001b[36m(_tune pid=21515)\u001b[0m                    all         52         54      0.439      0.771       0.58      0.303\u001b[32m [repeated 3x across cluster]\u001b[0m\n"
     ]
    },
    {
     "name": "stderr",
     "output_type": "stream",
     "text": [
      "  0%|          | 0/14 [00:00<?, ?it/s]\n"
     ]
    },
    {
     "name": "stdout",
     "output_type": "stream",
     "text": [
      "\u001b[36m(_tune pid=32337)\u001b[0m \u001b[34m\u001b[1mTensorBoard: \u001b[0mmodel graph visualization added ✅\n",
      "\u001b[36m(_tune pid=32337)\u001b[0m Image sizes 640 train, 640 val\n",
      "\u001b[36m(_tune pid=32337)\u001b[0m Using 8 dataloader workers\n",
      "\u001b[36m(_tune pid=32337)\u001b[0m Logging results to \u001b[1mruns/detect/tune/tune_raytune\u001b[0m\n",
      "\u001b[36m(_tune pid=32337)\u001b[0m Starting training for 30 epochs...\n",
      "\u001b[36m(_tune pid=32337)\u001b[0m \n",
      "\u001b[36m(_tune pid=21515)\u001b[0m \n"
     ]
    },
    {
     "name": "stderr",
     "output_type": "stream",
     "text": [
      "      12/30      2.09G     0.0132      7.117      1.325         30        640:   7%|▋         | 1/14 [00:00<00:01,  8.40it/s]\n",
      "                 Class     Images  Instances      Box(P          R      mAP50  mAP50-95):  50%|█████     | 1/2 [00:00<00:00,  4.41it/s]\n",
      "      12/30      2.09G    0.01401      7.489      1.337         22        640:  93%|█████████▎| 13/14 [00:01<00:00,  7.59it/s]\n",
      "      12/30      2.14G    0.01389      7.519      1.333          9        640: 100%|██████████| 14/14 [00:01<00:00,  7.38it/s]\n",
      "                 Class     Images  Instances      Box(P          R      mAP50  mAP50-95):   0%|          | 0/2 [00:00<?, ?it/s]\n",
      "                 Class     Images  Instances      Box(P          R      mAP50  mAP50-95):  50%|█████     | 1/2 [00:00<00:00,  3.04it/s]\n"
     ]
    },
    {
     "name": "stdout",
     "output_type": "stream",
     "text": [
      "\u001b[36m(_tune pid=21515)\u001b[0m       Epoch    GPU_mem   box_loss   cls_loss   dfl_loss  Instances       Size\u001b[32m [repeated 3x across cluster]\u001b[0m\n"
     ]
    },
    {
     "name": "stderr",
     "output_type": "stream",
     "text": [
      "                 Class     Images  Instances      Box(P          R      mAP50  mAP50-95): 100%|██████████| 2/2 [00:00<00:00,  3.74it/s]\n",
      "       1/30      2.16G    0.02777      11.06      2.224          9        640: 100%|██████████| 14/14 [00:03<00:00,  4.51it/s]\n"
     ]
    },
    {
     "name": "stdout",
     "output_type": "stream",
     "text": [
      "\u001b[36m(_tune pid=21515)\u001b[0m \n"
     ]
    },
    {
     "name": "stderr",
     "output_type": "stream",
     "text": [
      "      13/30      2.09G     0.0141      7.551      1.378         23        640:  43%|████▎     | 6/14 [00:00<00:01,  7.26it/s]\u001b[32m [repeated 27x across cluster]\u001b[0m\n"
     ]
    },
    {
     "name": "stdout",
     "output_type": "stream",
     "text": [
      "\u001b[36m(_tune pid=32337)\u001b[0m \n",
      "\u001b[36m(_tune pid=32337)\u001b[0m                    all         52         54      0.483      0.879      0.561      0.348\u001b[32m [repeated 2x across cluster]\u001b[0m\n"
     ]
    },
    {
     "name": "stderr",
     "output_type": "stream",
     "text": [
      "  0%|          | 0/14 [00:00<?, ?it/s]\u001b[32m [repeated 3x across cluster]\u001b[0m\n",
      "       2/30      2.08G    0.02525       9.08      1.856         36        640:   7%|▋         | 1/14 [00:00<00:01,  7.22it/s]\u001b[32m [repeated 3x across cluster]\u001b[0m\n",
      "      13/30      2.13G    0.01423       7.75      1.374          6        640: 100%|██████████| 14/14 [00:01<00:00,  7.18it/s]\n",
      "       2/30      2.13G    0.02081      10.03      1.632          9        640: 100%|██████████| 14/14 [00:01<00:00,  8.30it/s]\n"
     ]
    },
    {
     "name": "stdout",
     "output_type": "stream",
     "text": [
      "\u001b[36m(_tune pid=21515)\u001b[0m \n"
     ]
    },
    {
     "name": "stderr",
     "output_type": "stream",
     "text": [
      "       2/30      2.09G    0.02112      9.962      1.638         38        640:  93%|█████████▎| 13/14 [00:01<00:00,  7.85it/s]\u001b[32m [repeated 7x across cluster]\u001b[0m\n",
      "                 Class     Images  Instances      Box(P          R      mAP50  mAP50-95):   0%|          | 0/2 [00:00<?, ?it/s]\u001b[32m [repeated 3x across cluster]\u001b[0m\n",
      "                 Class     Images  Instances      Box(P          R      mAP50  mAP50-95):  50%|█████     | 1/2 [00:00<00:00,  5.90it/s]\u001b[32m [repeated 3x across cluster]\u001b[0m\n"
     ]
    },
    {
     "name": "stdout",
     "output_type": "stream",
     "text": [
      "\u001b[36m(_tune pid=32337)\u001b[0m \n"
     ]
    },
    {
     "name": "stderr",
     "output_type": "stream",
     "text": [
      "                 Class     Images  Instances      Box(P          R      mAP50  mAP50-95): 100%|██████████| 2/2 [00:00<00:00,  6.22it/s]\u001b[32m [repeated 3x across cluster]\u001b[0m\n",
      "       3/30      2.09G    0.01735      9.684      1.425         40        640:   7%|▋         | 1/14 [00:00<00:01,  8.43it/s]\n",
      "      14/30      2.13G    0.01357      7.237       1.33          6        640: 100%|██████████| 14/14 [00:01<00:00,  7.43it/s]\n",
      "       3/30      2.12G    0.01909      10.09      1.511          6        640: 100%|██████████| 14/14 [00:01<00:00,  8.73it/s]\n"
     ]
    },
    {
     "name": "stdout",
     "output_type": "stream",
     "text": [
      "\u001b[36m(_tune pid=32337)\u001b[0m       Epoch    GPU_mem   box_loss   cls_loss   dfl_loss  Instances       Size\u001b[32m [repeated 4x across cluster]\u001b[0m\n"
     ]
    },
    {
     "name": "stderr",
     "output_type": "stream",
     "text": [
      "       3/30      2.09G     0.0192      10.14      1.511         27        640:  79%|███████▊  | 11/14 [00:01<00:00,  8.32it/s]\u001b[32m [repeated 31x across cluster]\u001b[0m\n",
      "  0%|          | 0/14 [00:00<?, ?it/s]\u001b[32m [repeated 3x across cluster]\u001b[0m\n"
     ]
    },
    {
     "name": "stdout",
     "output_type": "stream",
     "text": [
      "\u001b[36m(_tune pid=32337)\u001b[0m \n",
      "\u001b[36m(_tune pid=32337)\u001b[0m                    all         52         54      0.408      0.679      0.462      0.135\u001b[32m [repeated 4x across cluster]\u001b[0m\n"
     ]
    },
    {
     "name": "stderr",
     "output_type": "stream",
     "text": [
      "       4/30       2.1G    0.01888      9.609      1.491         42        640:   7%|▋         | 1/14 [00:00<00:01,  9.07it/s]\u001b[32m [repeated 2x across cluster]\u001b[0m\n"
     ]
    },
    {
     "name": "stdout",
     "output_type": "stream",
     "text": [
      "\u001b[36m(_tune pid=21515)\u001b[0m \n"
     ]
    },
    {
     "name": "stderr",
     "output_type": "stream",
     "text": [
      "       4/30       2.1G    0.01857      9.744      1.523         32        640:  64%|██████▍   | 9/14 [00:01<00:00,  8.86it/s]\u001b[32m [repeated 9x across cluster]\u001b[0m\n",
      "                 Class     Images  Instances      Box(P          R      mAP50  mAP50-95):   0%|          | 0/2 [00:00<?, ?it/s]\u001b[32m [repeated 2x across cluster]\u001b[0m\n",
      "                 Class     Images  Instances      Box(P          R      mAP50  mAP50-95):  50%|█████     | 1/2 [00:00<00:00,  5.48it/s]\u001b[32m [repeated 2x across cluster]\u001b[0m\n",
      "                 Class     Images  Instances      Box(P          R      mAP50  mAP50-95): 100%|██████████| 2/2 [00:00<00:00,  6.50it/s]\u001b[32m [repeated 2x across cluster]\u001b[0m\n",
      "      15/30      2.13G    0.01433      7.364      1.361          4        640: 100%|██████████| 14/14 [00:02<00:00,  4.76it/s]\n"
     ]
    },
    {
     "name": "stdout",
     "output_type": "stream",
     "text": [
      "\u001b[36m(_tune pid=21515)\u001b[0m       Epoch    GPU_mem   box_loss   cls_loss   dfl_loss  Instances       Size\u001b[32m [repeated 2x across cluster]\u001b[0m\n"
     ]
    },
    {
     "name": "stderr",
     "output_type": "stream",
     "text": [
      "      15/30      2.09G      0.014      7.398      1.347         24        640:  86%|████████▌ | 12/14 [00:02<00:00,  4.81it/s]\u001b[32m [repeated 17x across cluster]\u001b[0m\n"
     ]
    },
    {
     "name": "stdout",
     "output_type": "stream",
     "text": [
      "\u001b[36m(_tune pid=21515)\u001b[0m \n",
      "\u001b[36m(_tune pid=21515)\u001b[0m                    all         52         54       0.44       0.77      0.558      0.304\n"
     ]
    },
    {
     "name": "stderr",
     "output_type": "stream",
     "text": [
      "  0%|          | 0/14 [00:00<?, ?it/s]\u001b[32m [repeated 2x across cluster]\u001b[0m\n",
      "      15/30      2.08G    0.01353      7.205      1.254         32        640:   7%|▋         | 1/14 [00:00<00:02,  6.00it/s]\n",
      "      15/30      2.09G     0.0141      7.378      1.352         25        640:  93%|█████████▎| 13/14 [00:02<00:00,  4.67it/s]\n",
      "                 Class     Images  Instances      Box(P          R      mAP50  mAP50-95):   0%|          | 0/2 [00:00<?, ?it/s]\n",
      "                 Class     Images  Instances      Box(P          R      mAP50  mAP50-95):  50%|█████     | 1/2 [00:00<00:00,  1.63it/s]\n",
      "      16/30      2.09G    0.01398      7.486      1.268         28        640:   7%|▋         | 1/14 [00:00<00:03,  4.19it/s]\n",
      "                 Class     Images  Instances      Box(P          R      mAP50  mAP50-95): 100%|██████████| 2/2 [00:00<00:00,  2.02it/s]\n",
      "      16/30      2.09G    0.01401      7.316      1.321         24        640:  43%|████▎     | 6/14 [00:02<00:04,  1.95it/s]\u001b[32m [repeated 5x across cluster]\u001b[0m\n",
      "       4/30       2.1G     0.0186      9.785      1.525         32        640:  79%|███████▊  | 11/14 [00:22<00:14,  4.95s/it]\u001b[32m [repeated 2x across cluster]\u001b[0m\n",
      "       4/30       2.1G    0.01873      9.747      1.538         42        640:  93%|█████████▎| 13/14 [00:22<00:02,  2.83s/it]\n",
      "       4/30      2.14G     0.0185       9.64      1.529          9        640: 100%|██████████| 14/14 [00:22<00:00,  1.64s/it]\n",
      "                 Class     Images  Instances      Box(P          R      mAP50  mAP50-95):   0%|          | 0/2 [00:00<?, ?it/s]\n",
      "                 Class     Images  Instances      Box(P          R      mAP50  mAP50-95):  50%|█████     | 1/2 [00:00<00:00,  4.30it/s]\n",
      "                 Class     Images  Instances      Box(P          R      mAP50  mAP50-95): 100%|██████████| 2/2 [00:00<00:00,  5.64it/s]\n"
     ]
    },
    {
     "name": "stdout",
     "output_type": "stream",
     "text": [
      "\u001b[36m(_tune pid=32337)\u001b[0m                    all         52         54      0.414      0.754      0.475      0.134\n",
      "\u001b[36m(_tune pid=21515)\u001b[0m       Epoch    GPU_mem   box_loss   cls_loss   dfl_loss  Instances       Size\n"
     ]
    },
    {
     "name": "stderr",
     "output_type": "stream",
     "text": [
      "      16/30      2.13G    0.01335      7.397      1.308          4        640: 100%|██████████| 14/14 [00:16<00:00,  1.15s/it]\n",
      "  0%|          | 0/14 [00:00<?, ?it/s]\n",
      "       5/30      2.09G    0.01821      10.94      1.483         29        640:   7%|▋         | 1/14 [00:00<00:01,  8.48it/s]\n"
     ]
    },
    {
     "name": "stdout",
     "output_type": "stream",
     "text": [
      "\u001b[36m(_tune pid=32337)\u001b[0m \n",
      "\u001b[36m(_tune pid=32337)\u001b[0m       Epoch    GPU_mem   box_loss   cls_loss   dfl_loss  Instances       Size\n",
      "\u001b[36m(_tune pid=21515)\u001b[0m \n"
     ]
    },
    {
     "name": "stderr",
     "output_type": "stream",
     "text": [
      "      17/30      2.08G    0.01269      6.968      1.271         23        640:   7%|▋         | 1/14 [00:00<00:01,  7.03it/s]\n",
      "      17/30      2.09G    0.01344      7.312      1.303         21        640:  86%|████████▌ | 12/14 [00:02<00:00,  4.63it/s]\u001b[32m [repeated 18x across cluster]\u001b[0m\n",
      "      17/30      2.13G    0.01356      7.416      1.317          4        640: 100%|██████████| 14/14 [00:02<00:00,  5.54it/s]\n",
      "      17/30      2.09G    0.01353      7.352      1.313         26        640:  93%|█████████▎| 13/14 [00:02<00:00,  4.83it/s]\u001b[32m [repeated 5x across cluster]\u001b[0m\n",
      "                 Class     Images  Instances      Box(P          R      mAP50  mAP50-95):   0%|          | 0/2 [00:00<?, ?it/s]\u001b[32m [repeated 2x across cluster]\u001b[0m\n",
      "                 Class     Images  Instances      Box(P          R      mAP50  mAP50-95):  50%|█████     | 1/2 [00:00<00:00,  3.15it/s]\u001b[32m [repeated 2x across cluster]\u001b[0m\n"
     ]
    },
    {
     "name": "stdout",
     "output_type": "stream",
     "text": [
      "\u001b[36m(_tune pid=21515)\u001b[0m \n",
      "\u001b[36m(_tune pid=21515)\u001b[0m                    all         52         54       0.55       0.86      0.628      0.363\u001b[32m [repeated 2x across cluster]\u001b[0m\n",
      "\u001b[36m(_tune pid=21515)\u001b[0m       Epoch    GPU_mem   box_loss   cls_loss   dfl_loss  Instances       Size\u001b[32m [repeated 2x across cluster]\u001b[0m\n"
     ]
    },
    {
     "name": "stderr",
     "output_type": "stream",
     "text": [
      "                 Class     Images  Instances      Box(P          R      mAP50  mAP50-95): 100%|██████████| 2/2 [00:00<00:00,  3.82it/s]\u001b[32m [repeated 2x across cluster]\u001b[0m\n",
      "  0%|          | 0/14 [00:00<?, ?it/s]\u001b[32m [repeated 2x across cluster]\u001b[0m\n",
      "      18/30      2.09G    0.01454      6.873      1.326         25        640:   7%|▋         | 1/14 [00:00<00:02,  5.24it/s]\n",
      "      18/30      2.09G    0.01358      7.064      1.289         22        640:  86%|████████▌ | 12/14 [00:02<00:00,  4.78it/s]\u001b[32m [repeated 13x across cluster]\u001b[0m\n",
      "      18/30      2.13G    0.01339       7.02      1.283          4        640: 100%|██████████| 14/14 [00:03<00:00,  4.25it/s]\n",
      "      18/30      2.09G    0.01356       7.08       1.29         26        640:  93%|█████████▎| 13/14 [00:03<00:00,  4.86it/s]\n",
      "                 Class     Images  Instances      Box(P          R      mAP50  mAP50-95):   0%|          | 0/2 [00:00<?, ?it/s]\n"
     ]
    },
    {
     "name": "stdout",
     "output_type": "stream",
     "text": [
      "\u001b[36m(_tune pid=21515)\u001b[0m \n",
      "\u001b[36m(_tune pid=21515)\u001b[0m                    all         52         54      0.471      0.883      0.641      0.387\n",
      "\u001b[36m(_tune pid=21515)\u001b[0m       Epoch    GPU_mem   box_loss   cls_loss   dfl_loss  Instances       Size\n"
     ]
    },
    {
     "name": "stderr",
     "output_type": "stream",
     "text": [
      "                 Class     Images  Instances      Box(P          R      mAP50  mAP50-95):  50%|█████     | 1/2 [00:00<00:00,  3.16it/s]\n",
      "                 Class     Images  Instances      Box(P          R      mAP50  mAP50-95): 100%|██████████| 2/2 [00:00<00:00,  3.80it/s]\n",
      "  0%|          | 0/14 [00:00<?, ?it/s]\n",
      "      19/30      2.08G    0.01335      6.349      1.219         22        640:   7%|▋         | 1/14 [00:00<00:03,  4.25it/s]\n",
      "      19/30      2.09G    0.01262       6.63      1.245         19        640:   7%|▋         | 1/14 [00:00<00:03,  4.25it/s]\n",
      "      19/30      2.09G    0.01262       6.63      1.245         19        640:  14%|█▍        | 2/14 [00:00<00:02,  4.09it/s]\n",
      "      19/30      2.09G    0.01453      7.322      1.384         28        640:  64%|██████▍   | 9/14 [00:02<00:02,  2.50it/s]\u001b[32m [repeated 7x across cluster]\u001b[0m\n",
      "      19/30      2.09G    0.01424      7.188      1.351         18        640:  93%|█████████▎| 13/14 [00:03<00:00,  4.37it/s]\n",
      "      19/30      2.13G    0.01442      7.312      1.354          5        640: 100%|██████████| 14/14 [00:03<00:00,  3.83it/s]\n",
      "                 Class     Images  Instances      Box(P          R      mAP50  mAP50-95):   0%|          | 0/2 [00:00<?, ?it/s]\n",
      "                 Class     Images  Instances      Box(P          R      mAP50  mAP50-95):  50%|█████     | 1/2 [00:00<00:00,  3.46it/s]\n"
     ]
    },
    {
     "name": "stdout",
     "output_type": "stream",
     "text": [
      "\u001b[36m(_tune pid=21515)\u001b[0m                    all         52         54      0.535      0.625      0.606      0.334\n"
     ]
    },
    {
     "name": "stderr",
     "output_type": "stream",
     "text": [
      "                 Class     Images  Instances      Box(P          R      mAP50  mAP50-95): 100%|██████████| 2/2 [00:00<00:00,  4.02it/s]\n"
     ]
    },
    {
     "name": "stdout",
     "output_type": "stream",
     "text": [
      "\u001b[36m(_tune pid=21515)\u001b[0m \n",
      "\u001b[36m(_tune pid=21515)\u001b[0m       Epoch    GPU_mem   box_loss   cls_loss   dfl_loss  Instances       Size\n"
     ]
    },
    {
     "name": "stderr",
     "output_type": "stream",
     "text": [
      "  0%|          | 0/14 [00:00<?, ?it/s]\n",
      "      20/30      2.09G    0.01482      7.387      1.356         24        640:   0%|          | 0/14 [00:00<?, ?it/s]\n",
      "      20/30      2.09G    0.01482      7.387      1.356         24        640:   7%|▋         | 1/14 [00:00<00:01,  7.42it/s]\n",
      "      20/30      2.09G    0.01332      6.987      1.293         30        640:  93%|█████████▎| 13/14 [00:02<00:00,  6.71it/s]\n",
      "      20/30      2.13G    0.01326      7.052      1.291          8        640: 100%|██████████| 14/14 [00:02<00:00,  6.31it/s]\n",
      "                 Class     Images  Instances      Box(P          R      mAP50  mAP50-95):   0%|          | 0/2 [00:00<?, ?it/s]\n",
      "                 Class     Images  Instances      Box(P          R      mAP50  mAP50-95):  50%|█████     | 1/2 [00:00<00:00,  3.27it/s]\n",
      "      20/30      2.09G    0.01333      7.001      1.294         24        640:  86%|████████▌ | 12/14 [00:01<00:00,  6.74it/s]\u001b[32m [repeated 14x across cluster]\u001b[0m\n"
     ]
    },
    {
     "name": "stdout",
     "output_type": "stream",
     "text": [
      "\u001b[36m(_tune pid=21515)\u001b[0m                    all         52         54      0.465      0.779      0.526      0.303\n"
     ]
    },
    {
     "name": "stderr",
     "output_type": "stream",
     "text": [
      "                 Class     Images  Instances      Box(P          R      mAP50  mAP50-95): 100%|██████████| 2/2 [00:00<00:00,  3.89it/s]\n"
     ]
    },
    {
     "name": "stdout",
     "output_type": "stream",
     "text": [
      "\u001b[36m(_tune pid=21515)\u001b[0m Closing dataloader mosaic\n",
      "\u001b[36m(_tune pid=21515)\u001b[0m \u001b[34m\u001b[1malbumentations: \u001b[0mBlur(p=0.01, blur_limit=(3, 7)), MedianBlur(p=0.01, blur_limit=(3, 7)), ToGray(p=0.01), CLAHE(p=0.01, clip_limit=(1, 4.0), tile_grid_size=(8, 8))\n",
      "\u001b[36m(_tune pid=21515)\u001b[0m \n",
      "\u001b[36m(_tune pid=21515)\u001b[0m       Epoch    GPU_mem   box_loss   cls_loss   dfl_loss  Instances       Size\n"
     ]
    },
    {
     "name": "stderr",
     "output_type": "stream",
     "text": [
      "  0%|          | 0/14 [00:00<?, ?it/s]\n",
      "       5/30      2.09G    0.01838      10.07      1.487         38        640:  93%|█████████▎| 13/14 [00:21<00:01,  1.03s/it]\n",
      "       5/30      2.13G    0.01848       10.1      1.489         10        640: 100%|██████████| 14/14 [00:22<00:00,  1.58s/it]\n",
      "                 Class     Images  Instances      Box(P          R      mAP50  mAP50-95):   0%|          | 0/2 [00:00<?, ?it/s]\n",
      "      21/30      2.08G    0.01152        6.8      1.211         16        640:   7%|▋         | 1/14 [00:00<00:04,  2.90it/s]\n",
      "                 Class     Images  Instances      Box(P          R      mAP50  mAP50-95):  50%|█████     | 1/2 [00:00<00:00,  4.64it/s]\n",
      "                 Class     Images  Instances      Box(P          R      mAP50  mAP50-95): 100%|██████████| 2/2 [00:00<00:00,  5.14it/s]\n"
     ]
    },
    {
     "name": "stdout",
     "output_type": "stream",
     "text": [
      "\u001b[36m(_tune pid=32337)\u001b[0m                    all         52         54      0.408      0.708      0.479       0.21\n",
      "\u001b[36m(_tune pid=32337)\u001b[0m \n",
      "\u001b[36m(_tune pid=32337)\u001b[0m       Epoch    GPU_mem   box_loss   cls_loss   dfl_loss  Instances       Size\n"
     ]
    },
    {
     "name": "stderr",
     "output_type": "stream",
     "text": [
      "       6/30       2.1G    0.01892      10.01      1.535         33        640:  14%|█▍        | 2/14 [00:00<00:01,  9.25it/s]\n",
      "      21/30       2.1G    0.01243      6.422      1.303         16        640:  79%|███████▊  | 11/14 [00:01<00:00,  6.88it/s]\u001b[32m [repeated 15x across cluster]\u001b[0m\n",
      "       6/30       2.1G    0.01846      9.872      1.488         34        640:  29%|██▊       | 4/14 [00:00<00:00, 10.12it/s]\n",
      "      21/30      2.13G    0.01244      6.472      1.301          4        640: 100%|██████████| 14/14 [00:02<00:00,  6.09it/s]\n",
      "       6/30       2.1G    0.01852       9.77      1.475         34        640:  57%|█████▋    | 8/14 [00:01<00:00,  8.24it/s]\n",
      "       6/30      2.14G     0.0191      9.828      1.485          9        640: 100%|██████████| 14/14 [00:01<00:00,  9.04it/s]\n"
     ]
    },
    {
     "name": "stdout",
     "output_type": "stream",
     "text": [
      "\u001b[36m(_tune pid=21515)\u001b[0m \n",
      "\u001b[36m(_tune pid=32337)\u001b[0m \n"
     ]
    },
    {
     "name": "stderr",
     "output_type": "stream",
     "text": [
      "  0%|          | 0/14 [00:00<?, ?it/s]\u001b[32m [repeated 4x across cluster]\u001b[0m\n",
      "       7/30      2.09G    0.01913      9.812      1.572         38        640:  21%|██▏       | 3/14 [00:00<00:01, 10.42it/s]\u001b[32m [repeated 5x across cluster]\u001b[0m\n",
      "                 Class     Images  Instances      Box(P          R      mAP50  mAP50-95):   0%|          | 0/2 [00:00<?, ?it/s]\u001b[32m [repeated 2x across cluster]\u001b[0m\n",
      "       7/30      2.08G    0.01934      9.958      1.537         43        640:   7%|▋         | 1/14 [00:00<00:01,  9.75it/s]\u001b[32m [repeated 3x across cluster]\u001b[0m\n",
      "                 Class     Images  Instances      Box(P          R      mAP50  mAP50-95):  50%|█████     | 1/2 [00:00<00:00,  4.68it/s]\u001b[32m [repeated 2x across cluster]\u001b[0m\n",
      "      22/30      2.13G    0.01172      5.757      1.209          4        640: 100%|██████████| 14/14 [00:01<00:00,  7.07it/s]\n",
      "                 Class     Images  Instances      Box(P          R      mAP50  mAP50-95): 100%|██████████| 2/2 [00:00<00:00,  5.91it/s]\u001b[32m [repeated 2x across cluster]\u001b[0m\n"
     ]
    },
    {
     "name": "stdout",
     "output_type": "stream",
     "text": [
      "\u001b[36m(_tune pid=32337)\u001b[0m                    all         52         54      0.423       0.63      0.494      0.188\u001b[32m [repeated 3x across cluster]\u001b[0m\n",
      "\u001b[36m(_tune pid=32337)\u001b[0m \n",
      "\u001b[36m(_tune pid=32337)\u001b[0m       Epoch    GPU_mem   box_loss   cls_loss   dfl_loss  Instances       Size\u001b[32m [repeated 3x across cluster]\u001b[0m\n"
     ]
    },
    {
     "name": "stderr",
     "output_type": "stream",
     "text": [
      "       7/30      2.14G    0.01924      9.971      1.538          9        640: 100%|██████████| 14/14 [00:01<00:00,  9.29it/s]\u001b[32m [repeated 26x across cluster]\u001b[0m\n"
     ]
    },
    {
     "name": "stdout",
     "output_type": "stream",
     "text": [
      "\u001b[36m(_tune pid=21515)\u001b[0m \n"
     ]
    },
    {
     "name": "stderr",
     "output_type": "stream",
     "text": [
      "       8/30      2.14G    0.01931      9.918      1.591         15        640: 100%|██████████| 14/14 [00:01<00:00,  9.04it/s]\n",
      "      23/30      2.13G    0.01257       6.23      1.273          4        640: 100%|██████████| 14/14 [00:01<00:00,  7.28it/s]\n"
     ]
    },
    {
     "name": "stdout",
     "output_type": "stream",
     "text": [
      "\u001b[36m(_tune pid=32337)\u001b[0m \n"
     ]
    },
    {
     "name": "stderr",
     "output_type": "stream",
     "text": [
      "  0%|          | 0/14 [00:00<?, ?it/s]\u001b[32m [repeated 3x across cluster]\u001b[0m\n",
      "       9/30      2.09G    0.01782      9.507      1.453         34        640:  14%|█▍        | 2/14 [00:00<00:01,  9.91it/s]\u001b[32m [repeated 8x across cluster]\u001b[0m\n",
      "                 Class     Images  Instances      Box(P          R      mAP50  mAP50-95):   0%|          | 0/2 [00:00<?, ?it/s]\u001b[32m [repeated 4x across cluster]\u001b[0m\n"
     ]
    },
    {
     "name": "stdout",
     "output_type": "stream",
     "text": [
      "\u001b[36m(_tune pid=21515)\u001b[0m \n"
     ]
    },
    {
     "name": "stderr",
     "output_type": "stream",
     "text": [
      "      24/30       2.1G    0.01278      6.304      1.271         16        640:   7%|▋         | 1/14 [00:00<00:01,  9.49it/s]\u001b[32m [repeated 4x across cluster]\u001b[0m\n",
      "                 Class     Images  Instances      Box(P          R      mAP50  mAP50-95):  50%|█████     | 1/2 [00:00<00:00,  3.46it/s]\u001b[32m [repeated 4x across cluster]\u001b[0m\n",
      "                 Class     Images  Instances      Box(P          R      mAP50  mAP50-95): 100%|██████████| 2/2 [00:00<00:00,  4.29it/s]\u001b[32m [repeated 4x across cluster]\u001b[0m\n",
      "       9/30      2.14G    0.01893      9.548      1.541          8        640: 100%|██████████| 14/14 [00:01<00:00,  8.81it/s]\n"
     ]
    },
    {
     "name": "stdout",
     "output_type": "stream",
     "text": [
      "\u001b[36m(_tune pid=32337)\u001b[0m                    all         52         54       0.47      0.645      0.505      0.172\u001b[32m [repeated 4x across cluster]\u001b[0m\n"
     ]
    },
    {
     "name": "stderr",
     "output_type": "stream",
     "text": [
      "      24/30       2.1G    0.01219      6.178      1.241         17        640:  86%|████████▌ | 12/14 [00:01<00:00,  7.57it/s]\u001b[32m [repeated 39x across cluster]\u001b[0m\n",
      "      24/30      2.13G    0.01211      6.102      1.243          4        640: 100%|██████████| 14/14 [00:01<00:00,  7.63it/s]\n"
     ]
    },
    {
     "name": "stdout",
     "output_type": "stream",
     "text": [
      "\u001b[36m(_tune pid=32337)\u001b[0m \n",
      "\u001b[36m(_tune pid=32337)\u001b[0m       Epoch    GPU_mem   box_loss   cls_loss   dfl_loss  Instances       Size\u001b[32m [repeated 4x across cluster]\u001b[0m\n"
     ]
    },
    {
     "name": "stderr",
     "output_type": "stream",
     "text": [
      "      10/30      2.09G    0.01925      9.783      1.534         34        640:  43%|████▎     | 6/14 [00:00<00:00,  9.29it/s]\n",
      "      10/30      2.09G    0.01933      9.687      1.546         45        640:  57%|█████▋    | 8/14 [00:00<00:00,  9.43it/s]\n"
     ]
    },
    {
     "name": "stdout",
     "output_type": "stream",
     "text": [
      "\u001b[36m(_tune pid=21515)\u001b[0m \n"
     ]
    },
    {
     "name": "stderr",
     "output_type": "stream",
     "text": [
      "      10/30      2.13G    0.01914      9.784      1.552          7        640: 100%|██████████| 14/14 [00:01<00:00,  8.97it/s]\n"
     ]
    },
    {
     "name": "stdout",
     "output_type": "stream",
     "text": [
      "\u001b[36m(_tune pid=32337)\u001b[0m \n"
     ]
    },
    {
     "name": "stderr",
     "output_type": "stream",
     "text": [
      "  0%|          | 0/14 [00:00<?, ?it/s]\u001b[32m [repeated 4x across cluster]\u001b[0m\n",
      "      10/30      2.09G    0.01925      9.674      1.545         30        640:  93%|█████████▎| 13/14 [00:01<00:00,  8.94it/s]\u001b[32m [repeated 6x across cluster]\u001b[0m\n",
      "                 Class     Images  Instances      Box(P          R      mAP50  mAP50-95):   0%|          | 0/2 [00:00<?, ?it/s]\u001b[32m [repeated 3x across cluster]\u001b[0m\n",
      "      11/30      2.09G    0.02063      9.704      1.619         39        640:  14%|█▍        | 2/14 [00:00<00:01, 10.94it/s]\u001b[32m [repeated 3x across cluster]\u001b[0m\n",
      "                 Class     Images  Instances      Box(P          R      mAP50  mAP50-95):  50%|█████     | 1/2 [00:00<00:00,  5.00it/s]\u001b[32m [repeated 3x across cluster]\u001b[0m\n",
      "      25/30      2.13G    0.01207      5.846      1.229          4        640: 100%|██████████| 14/14 [00:01<00:00,  7.02it/s]\n",
      "                 Class     Images  Instances      Box(P          R      mAP50  mAP50-95): 100%|██████████| 2/2 [00:00<00:00,  6.02it/s]\u001b[32m [repeated 3x across cluster]\u001b[0m\n",
      "      11/30      2.09G    0.01985      9.861      1.602         36        640:  71%|███████▏  | 10/14 [00:01<00:00, 10.05it/s]\n",
      "      11/30      2.09G    0.01981      9.819      1.605         35        640:  86%|████████▌ | 12/14 [00:01<00:00,  9.49it/s]\u001b[32m [repeated 21x across cluster]\u001b[0m\n"
     ]
    },
    {
     "name": "stdout",
     "output_type": "stream",
     "text": [
      "\u001b[36m(_tune pid=32337)\u001b[0m                    all         52         54      0.289      0.533      0.285     0.0803\u001b[32m [repeated 4x across cluster]\u001b[0m\n",
      "\u001b[36m(_tune pid=21515)\u001b[0m \n"
     ]
    },
    {
     "name": "stderr",
     "output_type": "stream",
     "text": [
      "      26/30      2.13G    0.01201      5.816      1.234          5        640: 100%|██████████| 14/14 [00:01<00:00,  7.29it/s]\n"
     ]
    },
    {
     "name": "stdout",
     "output_type": "stream",
     "text": [
      "\u001b[36m(_tune pid=21515)\u001b[0m       Epoch    GPU_mem   box_loss   cls_loss   dfl_loss  Instances       Size\u001b[32m [repeated 3x across cluster]\u001b[0m\n",
      "\u001b[36m(_tune pid=21515)\u001b[0m \n"
     ]
    },
    {
     "name": "stderr",
     "output_type": "stream",
     "text": [
      "  0%|          | 0/14 [00:00<?, ?it/s]\u001b[32m [repeated 3x across cluster]\u001b[0m\n",
      "      26/30       2.1G     0.0119       5.76      1.223         18        640:  93%|█████████▎| 13/14 [00:01<00:00,  7.56it/s]\u001b[32m [repeated 6x across cluster]\u001b[0m\n",
      "                 Class     Images  Instances      Box(P          R      mAP50  mAP50-95):   0%|          | 0/2 [00:00<?, ?it/s]\u001b[32m [repeated 3x across cluster]\u001b[0m\n",
      "      27/30      2.08G    0.01068      6.227      1.211         17        640:   7%|▋         | 1/14 [00:00<00:01,  6.85it/s]\u001b[32m [repeated 2x across cluster]\u001b[0m\n",
      "                 Class     Images  Instances      Box(P          R      mAP50  mAP50-95):  50%|█████     | 1/2 [00:00<00:00,  3.77it/s]\u001b[32m [repeated 3x across cluster]\u001b[0m\n",
      "                 Class     Images  Instances      Box(P          R      mAP50  mAP50-95): 100%|██████████| 2/2 [00:00<00:00,  4.26it/s]\u001b[32m [repeated 3x across cluster]\u001b[0m\n",
      "      27/30       2.1G    0.01203      5.939       1.25         17        640:  86%|████████▌ | 12/14 [00:01<00:00,  7.52it/s]\u001b[32m [repeated 22x across cluster]\u001b[0m\n",
      "      27/30      2.13G    0.01249      5.877      1.271          4        640: 100%|██████████| 14/14 [00:01<00:00,  7.78it/s]\n"
     ]
    },
    {
     "name": "stdout",
     "output_type": "stream",
     "text": [
      "\u001b[36m(_tune pid=21515)\u001b[0m                    all         52         54       0.66      0.675      0.669      0.383\u001b[32m [repeated 2x across cluster]\u001b[0m\n",
      "\u001b[36m(_tune pid=21515)\u001b[0m \n"
     ]
    },
    {
     "name": "stderr",
     "output_type": "stream",
     "text": [
      "      28/30      2.13G    0.01195       5.22      1.243          4        640: 100%|██████████| 14/14 [00:01<00:00,  7.95it/s]\n",
      "  0%|          | 0/14 [00:00<?, ?it/s]\n",
      "      28/30       2.1G    0.01201       5.28      1.249         17        640:  93%|█████████▎| 13/14 [00:01<00:00,  7.93it/s]\u001b[32m [repeated 2x across cluster]\u001b[0m\n",
      "                 Class     Images  Instances      Box(P          R      mAP50  mAP50-95):   0%|          | 0/2 [00:00<?, ?it/s]\u001b[32m [repeated 2x across cluster]\u001b[0m\n",
      "      28/30      2.09G    0.01385       5.18      1.284         17        640:   7%|▋         | 1/14 [00:00<00:01,  7.50it/s]\n",
      "                 Class     Images  Instances      Box(P          R      mAP50  mAP50-95):  50%|█████     | 1/2 [00:00<00:00,  3.87it/s]\u001b[32m [repeated 2x across cluster]\u001b[0m\n"
     ]
    },
    {
     "name": "stdout",
     "output_type": "stream",
     "text": [
      "\u001b[36m(_tune pid=21515)\u001b[0m       Epoch    GPU_mem   box_loss   cls_loss   dfl_loss  Instances       Size\u001b[32m [repeated 2x across cluster]\u001b[0m\n",
      "\u001b[36m(_tune pid=21515)\u001b[0m \n"
     ]
    },
    {
     "name": "stderr",
     "output_type": "stream",
     "text": [
      "  0%|          | 0/14 [00:00<?, ?it/s]\n",
      "                 Class     Images  Instances      Box(P          R      mAP50  mAP50-95): 100%|██████████| 2/2 [00:00<00:00,  4.60it/s]\u001b[32m [repeated 2x across cluster]\u001b[0m\n",
      "      29/30      2.08G     0.0109      4.806      1.192         16        640:   7%|▋         | 1/14 [00:00<00:01,  7.51it/s]\n",
      "      29/30       2.1G    0.01191      5.265      1.226         17        640:  29%|██▊       | 4/14 [00:00<00:01,  7.62it/s]\u001b[32m [repeated 14x across cluster]\u001b[0m\n",
      "      29/30      2.13G    0.01182      5.378      1.246          4        640: 100%|██████████| 14/14 [00:01<00:00,  7.85it/s]\n"
     ]
    },
    {
     "name": "stdout",
     "output_type": "stream",
     "text": [
      "\u001b[36m(_tune pid=21515)\u001b[0m                    all         52         54      0.491      0.838       0.58      0.332\u001b[32m [repeated 2x across cluster]\u001b[0m\n",
      "\u001b[36m(_tune pid=21515)\u001b[0m \n"
     ]
    },
    {
     "name": "stderr",
     "output_type": "stream",
     "text": [
      "  0%|          | 0/14 [00:00<?, ?it/s]\n",
      "      30/30       2.1G    0.01093      5.342      1.182         16        640:   7%|▋         | 1/14 [00:00<00:01,  7.65it/s]\n",
      "      29/30       2.1G    0.01193      5.333      1.256         17        640:  93%|█████████▎| 13/14 [00:01<00:00,  7.69it/s]\n",
      "                 Class     Images  Instances      Box(P          R      mAP50  mAP50-95):   0%|          | 0/2 [00:00<?, ?it/s]\n",
      "                 Class     Images  Instances      Box(P          R      mAP50  mAP50-95):  50%|█████     | 1/2 [00:00<00:00,  3.71it/s]\n",
      "      30/30       2.1G    0.01153      5.227      1.219         17        640:  93%|█████████▎| 13/14 [00:01<00:00,  7.63it/s]\n",
      "      30/30      2.13G    0.01123      5.116      1.208          4        640: 100%|██████████| 14/14 [00:01<00:00,  7.85it/s]\n",
      "                 Class     Images  Instances      Box(P          R      mAP50  mAP50-95):   0%|          | 0/2 [00:00<?, ?it/s]\n",
      "                 Class     Images  Instances      Box(P          R      mAP50  mAP50-95):  50%|█████     | 1/2 [00:00<00:00,  4.61it/s]\n",
      "                 Class     Images  Instances      Box(P          R      mAP50  mAP50-95): 100%|██████████| 2/2 [00:00<00:00,  4.47it/s]\n"
     ]
    },
    {
     "name": "stdout",
     "output_type": "stream",
     "text": [
      "\u001b[36m(_tune pid=21515)\u001b[0m       Epoch    GPU_mem   box_loss   cls_loss   dfl_loss  Instances       Size\u001b[32m [repeated 2x across cluster]\u001b[0m\n"
     ]
    },
    {
     "name": "stderr",
     "output_type": "stream",
     "text": [
      "                 Class     Images  Instances      Box(P          R      mAP50  mAP50-95): 100%|██████████| 2/2 [00:00<00:00,  4.84it/s]\n"
     ]
    },
    {
     "name": "stdout",
     "output_type": "stream",
     "text": [
      "\u001b[36m(_tune pid=21515)\u001b[0m \n",
      "\u001b[36m(_tune pid=21515)\u001b[0m 30 epochs completed in 0.222 hours.\n",
      "\u001b[36m(_tune pid=21515)\u001b[0m Optimizer stripped from runs/detect/tune/tune_raytune/weights/last.pt, 6.2MB\n",
      "\u001b[36m(_tune pid=21515)\u001b[0m Optimizer stripped from runs/detect/tune/tune_raytune/weights/best.pt, 6.2MB\n",
      "\u001b[36m(_tune pid=21515)\u001b[0m \n",
      "\u001b[36m(_tune pid=21515)\u001b[0m Validating runs/detect/tune/tune_raytune/weights/best.pt...\n",
      "\u001b[36m(_tune pid=21515)\u001b[0m Ultralytics YOLOv8.2.70 🚀 Python-3.10.14 torch-2.1.0 CUDA:0 (NVIDIA GeForce RTX 3090, 24260MiB)\n",
      "\u001b[36m(_tune pid=21515)\u001b[0m Model summary (fused): 168 layers, 3,006,038 parameters, 0 gradients, 8.1 GFLOPs\n"
     ]
    },
    {
     "name": "stderr",
     "output_type": "stream",
     "text": [
      "                 Class     Images  Instances      Box(P          R      mAP50  mAP50-95):   0%|          | 0/2 [00:00<?, ?it/s]\n",
      "      30/30       2.1G     0.0115      5.185      1.214         16        640:  86%|████████▌ | 12/14 [00:01<00:00,  7.48it/s]\u001b[32m [repeated 19x across cluster]\u001b[0m\n",
      "                 Class     Images  Instances      Box(P          R      mAP50  mAP50-95):  50%|█████     | 1/2 [00:00<00:00,  3.16it/s]\n",
      "                 Class     Images  Instances      Box(P          R      mAP50  mAP50-95): 100%|██████████| 2/2 [00:00<00:00,  3.57it/s]\n"
     ]
    },
    {
     "name": "stdout",
     "output_type": "stream",
     "text": [
      "\u001b[36m(_tune pid=21515)\u001b[0m               negative         30         30      0.583      0.933      0.742      0.451\n",
      "\u001b[36m(_tune pid=21515)\u001b[0m               positive         22         24      0.358      0.833      0.539      0.323\n",
      "\u001b[36m(_tune pid=21515)\u001b[0m                    all         52         54      0.471      0.883      0.641      0.387\u001b[32m [repeated 2x across cluster]\u001b[0m\n",
      "\u001b[36m(_tune pid=21515)\u001b[0m Speed: 0.2ms preprocess, 1.2ms inference, 0.0ms loss, 2.8ms postprocess per image\n",
      "\u001b[36m(_tune pid=21515)\u001b[0m Results saved to \u001b[1mruns/detect/tune/tune_raytune\u001b[0m\n"
     ]
    },
    {
     "name": "stderr",
     "output_type": "stream",
     "text": [
      "2024-07-31 16:06:38,102\tINFO tune.py:1009 -- Wrote the latest version of all result files and experiment state to '/home/under1/Detect/jeongui/sagittal/test/runs/detect/tune/_tune_2024-07-31_15-32-59' in 0.0151s.\n",
      "2024-07-31 16:06:38,119\tERROR tune.py:1037 -- Trials did not complete: [_tune_2a884_00000]\n",
      "2024-07-31 16:06:38,121\tINFO tune.py:1041 -- Total run time: 2019.01 seconds (2018.93 seconds for the tuning loop).\n"
     ]
    }
   ],
   "source": [
    "experiment_name = 'tune'\n",
    "work_name = 'raytune' #이름수정주의\n",
    "train_dir = os.path.join('runs', experiment_name, f'{experiment_name}_{work_name}')\n",
    "\n",
    "if os.path.exists(train_dir):\n",
    "    shutil.rmtree(train_dir)\n",
    "\n",
    "# Load a YOLOv8n model\n",
    "best_model_tuning = YOLO(\"/home/under1/Detect/jeongui/sagittal/test/runs/detect/train/train_base/weights/best.pt\")\n",
    "\n",
    "task = best_model_tuning.task\n",
    "metric = TASK2METRIC[task] \n",
    "\n",
    "result_grid = best_model_tuning.tune(\n",
    "    data=\"/home/under1/Detect/jeongui/sagittal/test/test.yaml\",\n",
    "    epochs=30,\n",
    "    use_ray=True,\n",
    "    name=os.path.join(experiment_name, f'{experiment_name}_{work_name}'),\n",
    "    gpu_per_trial=1  # 각 트라이얼에 1개의 GPU 할당\n",
    ")"
   ]
  },
  {
   "cell_type": "code",
   "execution_count": 4,
   "metadata": {},
   "outputs": [
    {
     "name": "stdout",
     "output_type": "stream",
     "text": [
      "Trial #0: Configuration: {'lr0': 0.03545934464001868, 'lrf': 0.1269818219816718, 'momentum': 0.6400495135113041, 'weight_decay': 0.0004901573182214308, 'warmup_epochs': 2.7704237309978597, 'warmup_momentum': 0.12211803848513114, 'box': 0.15555754918222586, 'cls': 1.2881973698516505, 'hsv_h': 0.06992507014486865, 'hsv_s': 0.5432212691180824, 'hsv_v': 0.05684205101839689, 'degrees': 20.054912707992646, 'translate': 0.22725394216708483, 'scale': 0.3826875883904954, 'shear': 1.7992683436488255, 'perspective': 0.0006875648974584802, 'flipud': 0.03799979682933041, 'fliplr': 0.31194858157426597, 'bgr': 0.12684554613401888, 'mosaic': 0.04637648204752387, 'mixup': 0.9751916199254702, 'copy_paste': 0.6268482131422615, 'data': '/home/under1/Detect/jeongui/sagittal/test/test.yaml', 'epochs': 30, 'name': 'tune/tune_raytune'}, Last Reported Metrics: {'metrics/precision(B)': 0.55268, 'metrics/recall(B)': 0.89783, 'metrics/mAP50(B)': 0.72175, 'metrics/mAP50-95(B)': 0.36648, 'val/box_loss': 0.03714, 'val/cls_loss': 3.21885, 'val/dfl_loss': 1.44902, 'epoch': 29, 'timestamp': 1722440730, 'checkpoint_dir_name': None, 'done': False, 'training_iteration': 30, 'trial_id': '2a884_00000', 'date': '2024-07-31_15-45-30', 'time_this_iter_s': 17.21136498451233, 'time_total_s': 749.0052421092987, 'pid': 48446, 'hostname': 'b70a672424f1', 'node_ip': '172.17.0.3', 'config': {'lr0': 0.03545934464001868, 'lrf': 0.1269818219816718, 'momentum': 0.6400495135113041, 'weight_decay': 0.0004901573182214308, 'warmup_epochs': 2.7704237309978597, 'warmup_momentum': 0.12211803848513114, 'box': 0.15555754918222586, 'cls': 1.2881973698516505, 'hsv_h': 0.06992507014486865, 'hsv_s': 0.5432212691180824, 'hsv_v': 0.05684205101839689, 'degrees': 20.054912707992646, 'translate': 0.22725394216708483, 'scale': 0.3826875883904954, 'shear': 1.7992683436488255, 'perspective': 0.0006875648974584802, 'flipud': 0.03799979682933041, 'fliplr': 0.31194858157426597, 'bgr': 0.12684554613401888, 'mosaic': 0.04637648204752387, 'mixup': 0.9751916199254702, 'copy_paste': 0.6268482131422615, 'data': '/home/under1/Detect/jeongui/sagittal/test/test.yaml', 'epochs': 30, 'name': 'tune/tune_raytune'}, 'time_since_restore': 749.0052421092987, 'iterations_since_restore': 30, 'experiment_tag': '0_bgr=0.1268,box=0.1556,cls=1.2882,copy_paste=0.6268,degrees=20.0549,fliplr=0.3119,flipud=0.0380,hsv_h=0.0699,hsv_s=0.5432,hsv_v=0.0568,lr0=0.0355,lrf=0.1270,mixup=0.9752,momentum=0.6400,mosaic=0.0464,perspective=0.0007,scale=0.3827,shear=1.7993,translate=0.2273,warmup_epochs=2.7704,warmup_momentum=0.1221,weight_decay=0.0005'}\n",
      "Trial #1: Configuration: {'lr0': 0.07851340658107606, 'lrf': 0.7773964148682715, 'momentum': 0.95378119686571, 'weight_decay': 0.0006216566929996135, 'warmup_epochs': 2.6355818199690964, 'warmup_momentum': 0.32333148555960683, 'box': 0.13966237306364285, 'cls': 3.9343296341339205, 'hsv_h': 0.09813870982810974, 'hsv_s': 0.4741160656359691, 'hsv_v': 0.5320616289973541, 'degrees': 4.280485035961691, 'translate': 0.19072318498066507, 'scale': 0.20574225202641058, 'shear': 7.360401174665934, 'perspective': 0.00022019703639034218, 'flipud': 0.4067155577375934, 'fliplr': 0.2282301523519069, 'bgr': 0.21542260789019718, 'mosaic': 0.8039661927566834, 'mixup': 0.18748342648424787, 'copy_paste': 0.9151292866748526, 'data': '/home/under1/Detect/jeongui/sagittal/test/test.yaml', 'epochs': 30, 'name': 'tune/tune_raytune'}, Last Reported Metrics: {'metrics/precision(B)': 0.44625176397998, 'metrics/recall(B)': 0.90159995603544, 'metrics/mAP50(B)': 0.5741572738202683, 'metrics/mAP50-95(B)': 0.4031142255616631, 'fitness': 0.4202185303875236, 'timestamp': 1722440166, 'checkpoint_dir_name': None, 'done': True, 'training_iteration': 32, 'trial_id': '2a884_00001', 'date': '2024-07-31_15-36-06', 'time_this_iter_s': 3.589897632598877, 'time_total_s': 184.70753407478333, 'pid': 48447, 'hostname': 'b70a672424f1', 'node_ip': '172.17.0.3', 'config': {'lr0': 0.07851340658107606, 'lrf': 0.7773964148682715, 'momentum': 0.95378119686571, 'weight_decay': 0.0006216566929996135, 'warmup_epochs': 2.6355818199690964, 'warmup_momentum': 0.32333148555960683, 'box': 0.13966237306364285, 'cls': 3.9343296341339205, 'hsv_h': 0.09813870982810974, 'hsv_s': 0.4741160656359691, 'hsv_v': 0.5320616289973541, 'degrees': 4.280485035961691, 'translate': 0.19072318498066507, 'scale': 0.20574225202641058, 'shear': 7.360401174665934, 'perspective': 0.00022019703639034218, 'flipud': 0.4067155577375934, 'fliplr': 0.2282301523519069, 'bgr': 0.21542260789019718, 'mosaic': 0.8039661927566834, 'mixup': 0.18748342648424787, 'copy_paste': 0.9151292866748526, 'data': '/home/under1/Detect/jeongui/sagittal/test/test.yaml', 'epochs': 30, 'name': 'tune/tune_raytune'}, 'time_since_restore': 184.70753407478333, 'iterations_since_restore': 32, 'experiment_tag': '1_bgr=0.2154,box=0.1397,cls=3.9343,copy_paste=0.9151,degrees=4.2805,fliplr=0.2282,flipud=0.4067,hsv_h=0.0981,hsv_s=0.4741,hsv_v=0.5321,lr0=0.0785,lrf=0.7774,mixup=0.1875,momentum=0.9538,mosaic=0.8040,perspective=0.0002,scale=0.2057,shear=7.3604,translate=0.1907,warmup_epochs=2.6356,warmup_momentum=0.3233,weight_decay=0.0006'}\n",
      "Trial #2: Configuration: {'lr0': 0.05691294747399371, 'lrf': 0.7343966000420212, 'momentum': 0.7628985885832253, 'weight_decay': 0.0005839017115927, 'warmup_epochs': 0.7724748538702275, 'warmup_momentum': 0.14534268086926036, 'box': 0.06079268066007268, 'cls': 1.6070969663944525, 'hsv_h': 0.01678151423689067, 'hsv_s': 0.8797280959458934, 'hsv_v': 0.6795681501163596, 'degrees': 21.761895888793557, 'translate': 0.7672477674851489, 'scale': 0.6905835740045874, 'shear': 5.215724074790263, 'perspective': 0.0008169049810031928, 'flipud': 0.7217447299222366, 'fliplr': 0.29829197874056035, 'bgr': 0.5763477667212911, 'mosaic': 0.4648264918866475, 'mixup': 0.2946503310596914, 'copy_paste': 0.41287719441036186, 'data': '/home/under1/Detect/jeongui/sagittal/test/test.yaml', 'epochs': 30, 'name': 'tune/tune_raytune'}, Last Reported Metrics: {'metrics/precision(B)': 0.46965, 'metrics/recall(B)': 0.625, 'metrics/mAP50(B)': 0.47845, 'metrics/mAP50-95(B)': 0.20813, 'val/box_loss': 0.01542, 'val/cls_loss': 6.51995, 'val/dfl_loss': 1.59114, 'epoch': 10, 'timestamp': 1722440486, 'checkpoint_dir_name': None, 'done': True, 'training_iteration': 11, 'trial_id': '2a884_00002', 'date': '2024-07-31_15-41-26', 'time_this_iter_s': 2.742863655090332, 'time_total_s': 505.2565598487854, 'pid': 48448, 'hostname': 'b70a672424f1', 'node_ip': '172.17.0.3', 'config': {'lr0': 0.05691294747399371, 'lrf': 0.7343966000420212, 'momentum': 0.7628985885832253, 'weight_decay': 0.0005839017115927, 'warmup_epochs': 0.7724748538702275, 'warmup_momentum': 0.14534268086926036, 'box': 0.06079268066007268, 'cls': 1.6070969663944525, 'hsv_h': 0.01678151423689067, 'hsv_s': 0.8797280959458934, 'hsv_v': 0.6795681501163596, 'degrees': 21.761895888793557, 'translate': 0.7672477674851489, 'scale': 0.6905835740045874, 'shear': 5.215724074790263, 'perspective': 0.0008169049810031928, 'flipud': 0.7217447299222366, 'fliplr': 0.29829197874056035, 'bgr': 0.5763477667212911, 'mosaic': 0.4648264918866475, 'mixup': 0.2946503310596914, 'copy_paste': 0.41287719441036186, 'data': '/home/under1/Detect/jeongui/sagittal/test/test.yaml', 'epochs': 30, 'name': 'tune/tune_raytune'}, 'time_since_restore': 505.2565598487854, 'iterations_since_restore': 11, 'experiment_tag': '2_bgr=0.5763,box=0.0608,cls=1.6071,copy_paste=0.4129,degrees=21.7619,fliplr=0.2983,flipud=0.7217,hsv_h=0.0168,hsv_s=0.8797,hsv_v=0.6796,lr0=0.0569,lrf=0.7344,mixup=0.2947,momentum=0.7629,mosaic=0.4648,perspective=0.0008,scale=0.6906,shear=5.2157,translate=0.7672,warmup_epochs=0.7725,warmup_momentum=0.1453,weight_decay=0.0006'}\n",
      "Trial #3: Configuration: {'lr0': 0.08053897427958795, 'lrf': 0.3167433003458887, 'momentum': 0.9631993318187992, 'weight_decay': 0.0005555918594051573, 'warmup_epochs': 1.1505733725893634, 'warmup_momentum': 0.9351446351907461, 'box': 0.052264211537447564, 'cls': 2.0564867154014546, 'hsv_h': 0.03596025535881549, 'hsv_s': 0.005477703691131575, 'hsv_v': 0.28908713846623735, 'degrees': 34.61508238514294, 'translate': 0.06911135501308376, 'scale': 0.769050511725178, 'shear': 8.26336410453088, 'perspective': 0.00045568427314613335, 'flipud': 0.6200819370306898, 'fliplr': 0.6592221016700927, 'bgr': 0.6223196550467744, 'mosaic': 0.561757297773992, 'mixup': 0.34923103066329375, 'copy_paste': 0.693595786102757, 'data': '/home/under1/Detect/jeongui/sagittal/test/test.yaml', 'epochs': 30, 'name': 'tune/tune_raytune'}, Last Reported Metrics: {'metrics/precision(B)': 0.38089, 'metrics/recall(B)': 0.70622, 'metrics/mAP50(B)': 0.47149, 'metrics/mAP50-95(B)': 0.18258, 'val/box_loss': 0.0133, 'val/cls_loss': 7.28184, 'val/dfl_loss': 1.591, 'epoch': 10, 'timestamp': 1722440495, 'checkpoint_dir_name': None, 'done': True, 'training_iteration': 11, 'trial_id': '2a884_00003', 'date': '2024-07-31_15-41-35', 'time_this_iter_s': 3.3265345096588135, 'time_total_s': 513.8211205005646, 'pid': 48449, 'hostname': 'b70a672424f1', 'node_ip': '172.17.0.3', 'config': {'lr0': 0.08053897427958795, 'lrf': 0.3167433003458887, 'momentum': 0.9631993318187992, 'weight_decay': 0.0005555918594051573, 'warmup_epochs': 1.1505733725893634, 'warmup_momentum': 0.9351446351907461, 'box': 0.052264211537447564, 'cls': 2.0564867154014546, 'hsv_h': 0.03596025535881549, 'hsv_s': 0.005477703691131575, 'hsv_v': 0.28908713846623735, 'degrees': 34.61508238514294, 'translate': 0.06911135501308376, 'scale': 0.769050511725178, 'shear': 8.26336410453088, 'perspective': 0.00045568427314613335, 'flipud': 0.6200819370306898, 'fliplr': 0.6592221016700927, 'bgr': 0.6223196550467744, 'mosaic': 0.561757297773992, 'mixup': 0.34923103066329375, 'copy_paste': 0.693595786102757, 'data': '/home/under1/Detect/jeongui/sagittal/test/test.yaml', 'epochs': 30, 'name': 'tune/tune_raytune'}, 'time_since_restore': 513.8211205005646, 'iterations_since_restore': 11, 'experiment_tag': '3_bgr=0.6223,box=0.0523,cls=2.0565,copy_paste=0.6936,degrees=34.6151,fliplr=0.6592,flipud=0.6201,hsv_h=0.0360,hsv_s=0.0055,hsv_v=0.2891,lr0=0.0805,lrf=0.3167,mixup=0.3492,momentum=0.9632,mosaic=0.5618,perspective=0.0005,scale=0.7691,shear=8.2634,translate=0.0691,warmup_epochs=1.1506,warmup_momentum=0.9351,weight_decay=0.0006'}\n",
      "Trial #4: Configuration: {'lr0': 0.06430844655636468, 'lrf': 0.6872060980956155, 'momentum': 0.6409484237998967, 'weight_decay': 0.0004602781864039577, 'warmup_epochs': 4.781667507609394, 'warmup_momentum': 0.7221785271758634, 'box': 0.19848783413970988, 'cls': 3.956306931910755, 'hsv_h': 0.0316963837889447, 'hsv_s': 0.18183940062140097, 'hsv_v': 0.3059971091168435, 'degrees': 2.597446033754578, 'translate': 0.3480793758411387, 'scale': 0.3563173408783899, 'shear': 7.166996738201847, 'perspective': 9.210528187486455e-05, 'flipud': 0.3526962778785624, 'fliplr': 0.11034604560987393, 'bgr': 0.9284770175268107, 'mosaic': 0.5367182931695973, 'mixup': 0.7293672888990529, 'copy_paste': 0.8018278829635839, 'data': '/home/under1/Detect/jeongui/sagittal/test/test.yaml', 'epochs': 30, 'name': 'tune/tune_raytune'}, Last Reported Metrics: {'metrics/precision(B)': 0.5326028972624017, 'metrics/recall(B)': 0.7958333333333334, 'metrics/mAP50(B)': 0.6910905021001246, 'metrics/mAP50-95(B)': 0.45545997966688995, 'fitness': 0.4790230319102134, 'timestamp': 1722440495, 'checkpoint_dir_name': None, 'done': True, 'training_iteration': 32, 'trial_id': '2a884_00004', 'date': '2024-07-31_15-41-35', 'time_this_iter_s': 1.3521921634674072, 'time_total_s': 324.06580686569214, 'pid': 5862, 'hostname': 'b70a672424f1', 'node_ip': '172.17.0.3', 'config': {'lr0': 0.06430844655636468, 'lrf': 0.6872060980956155, 'momentum': 0.6409484237998967, 'weight_decay': 0.0004602781864039577, 'warmup_epochs': 4.781667507609394, 'warmup_momentum': 0.7221785271758634, 'box': 0.19848783413970988, 'cls': 3.956306931910755, 'hsv_h': 0.0316963837889447, 'hsv_s': 0.18183940062140097, 'hsv_v': 0.3059971091168435, 'degrees': 2.597446033754578, 'translate': 0.3480793758411387, 'scale': 0.3563173408783899, 'shear': 7.166996738201847, 'perspective': 9.210528187486455e-05, 'flipud': 0.3526962778785624, 'fliplr': 0.11034604560987393, 'bgr': 0.9284770175268107, 'mosaic': 0.5367182931695973, 'mixup': 0.7293672888990529, 'copy_paste': 0.8018278829635839, 'data': '/home/under1/Detect/jeongui/sagittal/test/test.yaml', 'epochs': 30, 'name': 'tune/tune_raytune'}, 'time_since_restore': 324.06580686569214, 'iterations_since_restore': 32, 'experiment_tag': '4_bgr=0.9285,box=0.1985,cls=3.9563,copy_paste=0.8018,degrees=2.5974,fliplr=0.1103,flipud=0.3527,hsv_h=0.0317,hsv_s=0.1818,hsv_v=0.3060,lr0=0.0643,lrf=0.6872,mixup=0.7294,momentum=0.6409,mosaic=0.5367,perspective=0.0001,scale=0.3563,shear=7.1670,translate=0.3481,warmup_epochs=4.7817,warmup_momentum=0.7222,weight_decay=0.0005'}\n",
      "Trial #5: Configuration: {'lr0': 0.05304175820543678, 'lrf': 0.183392788198917, 'momentum': 0.7109061401886543, 'weight_decay': 0.00011358641157504556, 'warmup_epochs': 0.7748728117216197, 'warmup_momentum': 0.6995530622084273, 'box': 0.1164967548096906, 'cls': 3.378279870561081, 'hsv_h': 0.05239268271876199, 'hsv_s': 0.44206002543221307, 'hsv_v': 0.4700636588354244, 'degrees': 16.430365502850957, 'translate': 0.7929202456146291, 'scale': 0.3532833074644362, 'shear': 6.486240270607841, 'perspective': 0.0005442542313424839, 'flipud': 0.0801875867022438, 'fliplr': 0.1398341166096061, 'bgr': 0.4020780779411717, 'mosaic': 0.43651272818220455, 'mixup': 0.10813403821886369, 'copy_paste': 0.2255593430352998, 'data': '/home/under1/Detect/jeongui/sagittal/test/test.yaml', 'epochs': 30, 'name': 'tune/tune_raytune'}, Last Reported Metrics: {'metrics/precision(B)': 0.43312, 'metrics/recall(B)': 0.73333, 'metrics/mAP50(B)': 0.50545, 'metrics/mAP50-95(B)': 0.2555, 'val/box_loss': 0.02717, 'val/cls_loss': 10.12616, 'val/dfl_loss': 1.42774, 'epoch': 10, 'timestamp': 1722441870, 'checkpoint_dir_name': None, 'done': True, 'training_iteration': 11, 'trial_id': '2a884_00005', 'date': '2024-07-31_16-04-30', 'time_this_iter_s': 212.37576818466187, 'time_total_s': 1380.8261244297028, 'pid': 12418, 'hostname': 'b70a672424f1', 'node_ip': '172.17.0.3', 'config': {'lr0': 0.05304175820543678, 'lrf': 0.183392788198917, 'momentum': 0.7109061401886543, 'weight_decay': 0.00011358641157504556, 'warmup_epochs': 0.7748728117216197, 'warmup_momentum': 0.6995530622084273, 'box': 0.1164967548096906, 'cls': 3.378279870561081, 'hsv_h': 0.05239268271876199, 'hsv_s': 0.44206002543221307, 'hsv_v': 0.4700636588354244, 'degrees': 16.430365502850957, 'translate': 0.7929202456146291, 'scale': 0.3532833074644362, 'shear': 6.486240270607841, 'perspective': 0.0005442542313424839, 'flipud': 0.0801875867022438, 'fliplr': 0.1398341166096061, 'bgr': 0.4020780779411717, 'mosaic': 0.43651272818220455, 'mixup': 0.10813403821886369, 'copy_paste': 0.2255593430352998, 'data': '/home/under1/Detect/jeongui/sagittal/test/test.yaml', 'epochs': 30, 'name': 'tune/tune_raytune'}, 'time_since_restore': 1380.8261244297028, 'iterations_since_restore': 11, 'experiment_tag': '5_bgr=0.4021,box=0.1165,cls=3.3783,copy_paste=0.2256,degrees=16.4304,fliplr=0.1398,flipud=0.0802,hsv_h=0.0524,hsv_s=0.4421,hsv_v=0.4701,lr0=0.0530,lrf=0.1834,mixup=0.1081,momentum=0.7109,mosaic=0.4365,perspective=0.0005,scale=0.3533,shear=6.4862,translate=0.7929,warmup_epochs=0.7749,warmup_momentum=0.6996,weight_decay=0.0001'}\n",
      "Trial #6: Configuration: {'lr0': 0.0135459041870249, 'lrf': 0.8199398648089583, 'momentum': 0.9171107980922617, 'weight_decay': 8.883516817195481e-05, 'warmup_epochs': 2.584194357063019, 'warmup_momentum': 0.4761677668155712, 'box': 0.03830153432548883, 'cls': 0.5811159604755234, 'hsv_h': 0.05858303594572625, 'hsv_s': 0.16017387045810627, 'hsv_v': 0.7760934900025596, 'degrees': 44.6404585917311, 'translate': 0.7468831833611957, 'scale': 0.1946318077964816, 'shear': 8.79751723148692, 'perspective': 0.00020735858208005388, 'flipud': 0.8111193034019236, 'fliplr': 0.06100460833981869, 'bgr': 0.6921140537474431, 'mosaic': 0.14598222076476952, 'mixup': 0.3087448628240633, 'copy_paste': 0.7531983021749591, 'data': '/home/under1/Detect/jeongui/sagittal/test/test.yaml', 'epochs': 30, 'name': 'tune/tune_raytune'}, Last Reported Metrics: {'metrics/precision(B)': 0.44143, 'metrics/recall(B)': 0.52119, 'metrics/mAP50(B)': 0.42019, 'metrics/mAP50-95(B)': 0.09592, 'val/box_loss': 0.01244, 'val/cls_loss': 2.41796, 'val/dfl_loss': 2.24866, 'epoch': 10, 'timestamp': 1722441884, 'checkpoint_dir_name': None, 'done': True, 'training_iteration': 11, 'trial_id': '2a884_00006', 'date': '2024-07-31_16-04-44', 'time_this_iter_s': 7.160076141357422, 'time_total_s': 1386.4642436504364, 'pid': 13094, 'hostname': 'b70a672424f1', 'node_ip': '172.17.0.3', 'config': {'lr0': 0.0135459041870249, 'lrf': 0.8199398648089583, 'momentum': 0.9171107980922617, 'weight_decay': 8.883516817195481e-05, 'warmup_epochs': 2.584194357063019, 'warmup_momentum': 0.4761677668155712, 'box': 0.03830153432548883, 'cls': 0.5811159604755234, 'hsv_h': 0.05858303594572625, 'hsv_s': 0.16017387045810627, 'hsv_v': 0.7760934900025596, 'degrees': 44.6404585917311, 'translate': 0.7468831833611957, 'scale': 0.1946318077964816, 'shear': 8.79751723148692, 'perspective': 0.00020735858208005388, 'flipud': 0.8111193034019236, 'fliplr': 0.06100460833981869, 'bgr': 0.6921140537474431, 'mosaic': 0.14598222076476952, 'mixup': 0.3087448628240633, 'copy_paste': 0.7531983021749591, 'data': '/home/under1/Detect/jeongui/sagittal/test/test.yaml', 'epochs': 30, 'name': 'tune/tune_raytune'}, 'time_since_restore': 1386.4642436504364, 'iterations_since_restore': 11, 'experiment_tag': '6_bgr=0.6921,box=0.0383,cls=0.5811,copy_paste=0.7532,degrees=44.6405,fliplr=0.0610,flipud=0.8111,hsv_h=0.0586,hsv_s=0.1602,hsv_v=0.7761,lr0=0.0135,lrf=0.8199,mixup=0.3087,momentum=0.9171,mosaic=0.1460,perspective=0.0002,scale=0.1946,shear=8.7975,translate=0.7469,warmup_epochs=2.5842,warmup_momentum=0.4762,weight_decay=0.0001'}\n",
      "Trial #7: Configuration: {'lr0': 0.08995372468871818, 'lrf': 0.17357435336925905, 'momentum': 0.7598643293695957, 'weight_decay': 0.0008877510436785502, 'warmup_epochs': 1.5612392103004096, 'warmup_momentum': 0.014174695760925136, 'box': 0.026016298145909625, 'cls': 3.597377443301027, 'hsv_h': 0.039597060461517834, 'hsv_s': 0.47895627631751664, 'hsv_v': 0.7198260103533057, 'degrees': 16.573003418585756, 'translate': 0.5183653896354379, 'scale': 0.3676468149586472, 'shear': 8.267846113539441, 'perspective': 0.00026982534986322684, 'flipud': 0.46613902213565894, 'fliplr': 0.7351818704779061, 'bgr': 0.35517835143580645, 'mosaic': 0.06731135102791086, 'mixup': 0.8214783945258827, 'copy_paste': 0.7145978687697273, 'data': '/home/under1/Detect/jeongui/sagittal/test/test.yaml', 'epochs': 30, 'name': 'tune/tune_raytune'}, Last Reported Metrics: {'metrics/precision(B)': 0.48453, 'metrics/recall(B)': 0.72917, 'metrics/mAP50(B)': 0.51896, 'metrics/mAP50-95(B)': 0.25678, 'val/box_loss': 0.00616, 'val/cls_loss': 11.35928, 'val/dfl_loss': 1.45907, 'epoch': 10, 'timestamp': 1722441892, 'checkpoint_dir_name': None, 'done': True, 'training_iteration': 11, 'trial_id': '2a884_00007', 'date': '2024-07-31_16-04-52', 'time_this_iter_s': 3.3313372135162354, 'time_total_s': 1394.4187836647034, 'pid': 13096, 'hostname': 'b70a672424f1', 'node_ip': '172.17.0.3', 'config': {'lr0': 0.08995372468871818, 'lrf': 0.17357435336925905, 'momentum': 0.7598643293695957, 'weight_decay': 0.0008877510436785502, 'warmup_epochs': 1.5612392103004096, 'warmup_momentum': 0.014174695760925136, 'box': 0.026016298145909625, 'cls': 3.597377443301027, 'hsv_h': 0.039597060461517834, 'hsv_s': 0.47895627631751664, 'hsv_v': 0.7198260103533057, 'degrees': 16.573003418585756, 'translate': 0.5183653896354379, 'scale': 0.3676468149586472, 'shear': 8.267846113539441, 'perspective': 0.00026982534986322684, 'flipud': 0.46613902213565894, 'fliplr': 0.7351818704779061, 'bgr': 0.35517835143580645, 'mosaic': 0.06731135102791086, 'mixup': 0.8214783945258827, 'copy_paste': 0.7145978687697273, 'data': '/home/under1/Detect/jeongui/sagittal/test/test.yaml', 'epochs': 30, 'name': 'tune/tune_raytune'}, 'time_since_restore': 1394.4187836647034, 'iterations_since_restore': 11, 'experiment_tag': '7_bgr=0.3552,box=0.0260,cls=3.5974,copy_paste=0.7146,degrees=16.5730,fliplr=0.7352,flipud=0.4661,hsv_h=0.0396,hsv_s=0.4790,hsv_v=0.7198,lr0=0.0900,lrf=0.1736,mixup=0.8215,momentum=0.7599,mosaic=0.0673,perspective=0.0003,scale=0.3676,shear=8.2678,translate=0.5184,warmup_epochs=1.5612,warmup_momentum=0.0142,weight_decay=0.0009'}\n",
      "Trial #8: Configuration: {'lr0': 0.05932585404305799, 'lrf': 0.4534095499215661, 'momentum': 0.6000269472529615, 'weight_decay': 0.0006295934835231908, 'warmup_epochs': 0.9261225032852299, 'warmup_momentum': 0.37913842387807895, 'box': 0.0736357191230791, 'cls': 2.640841961988112, 'hsv_h': 0.046789606050929244, 'hsv_s': 0.64588746191247, 'hsv_v': 0.07532226515677828, 'degrees': 13.332907871472251, 'translate': 0.01740720810766423, 'scale': 0.2738675262726248, 'shear': 7.5854877638543305, 'perspective': 0.00033296806586454564, 'flipud': 0.6075448901775402, 'fliplr': 0.3734677947510061, 'bgr': 0.018561988928659456, 'mosaic': 0.8219646073123915, 'mixup': 0.11048865472382763, 'copy_paste': 0.23748566764410506, 'data': '/home/under1/Detect/jeongui/sagittal/test/test.yaml', 'epochs': 30, 'name': 'tune/tune_raytune'}, Last Reported Metrics: {'metrics/precision(B)': 0.4705760364250756, 'metrics/recall(B)': 0.8833333333333333, 'metrics/mAP50(B)': 0.6405930448029095, 'metrics/mAP50-95(B)': 0.386950630328072, 'fitness': 0.41231487177555576, 'timestamp': 1722441998, 'checkpoint_dir_name': None, 'done': True, 'training_iteration': 32, 'trial_id': '2a884_00008', 'date': '2024-07-31_16-06-38', 'time_this_iter_s': 1.1082310676574707, 'time_total_s': 842.3181052207947, 'pid': 21515, 'hostname': 'b70a672424f1', 'node_ip': '172.17.0.3', 'config': {'lr0': 0.05932585404305799, 'lrf': 0.4534095499215661, 'momentum': 0.6000269472529615, 'weight_decay': 0.0006295934835231908, 'warmup_epochs': 0.9261225032852299, 'warmup_momentum': 0.37913842387807895, 'box': 0.0736357191230791, 'cls': 2.640841961988112, 'hsv_h': 0.046789606050929244, 'hsv_s': 0.64588746191247, 'hsv_v': 0.07532226515677828, 'degrees': 13.332907871472251, 'translate': 0.01740720810766423, 'scale': 0.2738675262726248, 'shear': 7.5854877638543305, 'perspective': 0.00033296806586454564, 'flipud': 0.6075448901775402, 'fliplr': 0.3734677947510061, 'bgr': 0.018561988928659456, 'mosaic': 0.8219646073123915, 'mixup': 0.11048865472382763, 'copy_paste': 0.23748566764410506, 'data': '/home/under1/Detect/jeongui/sagittal/test/test.yaml', 'epochs': 30, 'name': 'tune/tune_raytune'}, 'time_since_restore': 842.3181052207947, 'iterations_since_restore': 32, 'experiment_tag': '8_bgr=0.0186,box=0.0736,cls=2.6408,copy_paste=0.2375,degrees=13.3329,fliplr=0.3735,flipud=0.6075,hsv_h=0.0468,hsv_s=0.6459,hsv_v=0.0753,lr0=0.0593,lrf=0.4534,mixup=0.1105,momentum=0.6000,mosaic=0.8220,perspective=0.0003,scale=0.2739,shear=7.5855,translate=0.0174,warmup_epochs=0.9261,warmup_momentum=0.3791,weight_decay=0.0006'}\n",
      "Trial #9: Configuration: {'lr0': 0.08723072395956553, 'lrf': 0.7698462982758311, 'momentum': 0.8018205828788567, 'weight_decay': 0.00029631972638723445, 'warmup_epochs': 1.293620216490231, 'warmup_momentum': 0.775432029288922, 'box': 0.0869043452434751, 'cls': 2.723189993948248, 'hsv_h': 0.05738675430370103, 'hsv_s': 0.8029111095594995, 'hsv_v': 0.14996886557866182, 'degrees': 37.160262703766755, 'translate': 0.526058518654893, 'scale': 0.7800131783765446, 'shear': 5.834343586630943, 'perspective': 0.00011267125572102765, 'flipud': 0.3887361684774665, 'fliplr': 0.10046060866712747, 'bgr': 0.5151504080548976, 'mosaic': 0.6169409266551056, 'mixup': 0.8610557253147175, 'copy_paste': 0.5657837535718178, 'data': '/home/under1/Detect/jeongui/sagittal/test/test.yaml', 'epochs': 30, 'name': 'tune/tune_raytune'}, Last Reported Metrics: {'metrics/precision(B)': 0.28875, 'metrics/recall(B)': 0.53333, 'metrics/mAP50(B)': 0.28453, 'metrics/mAP50-95(B)': 0.08035, 'val/box_loss': 0.0259, 'val/cls_loss': 14.34577, 'val/dfl_loss': 1.95615, 'epoch': 10, 'timestamp': 1722441977, 'checkpoint_dir_name': None, 'done': True, 'training_iteration': 11, 'trial_id': '2a884_00009', 'date': '2024-07-31_16-06-17', 'time_this_iter_s': 2.6702022552490234, 'time_total_s': 105.19624996185303, 'pid': 32337, 'hostname': 'b70a672424f1', 'node_ip': '172.17.0.3', 'config': {'lr0': 0.08723072395956553, 'lrf': 0.7698462982758311, 'momentum': 0.8018205828788567, 'weight_decay': 0.00029631972638723445, 'warmup_epochs': 1.293620216490231, 'warmup_momentum': 0.775432029288922, 'box': 0.0869043452434751, 'cls': 2.723189993948248, 'hsv_h': 0.05738675430370103, 'hsv_s': 0.8029111095594995, 'hsv_v': 0.14996886557866182, 'degrees': 37.160262703766755, 'translate': 0.526058518654893, 'scale': 0.7800131783765446, 'shear': 5.834343586630943, 'perspective': 0.00011267125572102765, 'flipud': 0.3887361684774665, 'fliplr': 0.10046060866712747, 'bgr': 0.5151504080548976, 'mosaic': 0.6169409266551056, 'mixup': 0.8610557253147175, 'copy_paste': 0.5657837535718178, 'data': '/home/under1/Detect/jeongui/sagittal/test/test.yaml', 'epochs': 30, 'name': 'tune/tune_raytune'}, 'time_since_restore': 105.19624996185303, 'iterations_since_restore': 11, 'experiment_tag': '9_bgr=0.5152,box=0.0869,cls=2.7232,copy_paste=0.5658,degrees=37.1603,fliplr=0.1005,flipud=0.3887,hsv_h=0.0574,hsv_s=0.8029,hsv_v=0.1500,lr0=0.0872,lrf=0.7698,mixup=0.8611,momentum=0.8018,mosaic=0.6169,perspective=0.0001,scale=0.7800,shear=5.8343,translate=0.5261,warmup_epochs=1.2936,warmup_momentum=0.7754,weight_decay=0.0003'}\n"
     ]
    }
   ],
   "source": [
    "for i, result in enumerate(result_grid):\n",
    "    print(f\"Trial #{i}: Configuration: {result.config}, Last Reported Metrics: {result.metrics}\")"
   ]
  },
  {
   "cell_type": "code",
   "execution_count": 5,
   "metadata": {},
   "outputs": [
    {
     "name": "stdout",
     "output_type": "stream",
     "text": [
      "Best hyperparameters found were:  {'lr0': 0.03545934464001868, 'lrf': 0.1269818219816718, 'momentum': 0.6400495135113041, 'weight_decay': 0.0004901573182214308, 'warmup_epochs': 2.7704237309978597, 'warmup_momentum': 0.12211803848513114, 'box': 0.15555754918222586, 'cls': 1.2881973698516505, 'hsv_h': 0.06992507014486865, 'hsv_s': 0.5432212691180824, 'hsv_v': 0.05684205101839689, 'degrees': 20.054912707992646, 'translate': 0.22725394216708483, 'scale': 0.3826875883904954, 'shear': 1.7992683436488255, 'perspective': 0.0006875648974584802, 'flipud': 0.03799979682933041, 'fliplr': 0.31194858157426597, 'bgr': 0.12684554613401888, 'mosaic': 0.04637648204752387, 'mixup': 0.9751916199254702, 'copy_paste': 0.6268482131422615, 'data': '/home/under1/Detect/jeongui/sagittal/test/test.yaml', 'epochs': 30, 'name': 'tune/tune_raytune'}\n"
     ]
    }
   ],
   "source": [
    "# Extract the best trial configuration\n",
    "best_result = result_grid.get_best_result(metric=metric, mode=\"max\")\n",
    "best_config = best_result.config\n",
    "print(\"Best hyperparameters found were: \", best_config)"
   ]
  },
  {
   "cell_type": "code",
   "execution_count": 6,
   "metadata": {},
   "outputs": [
    {
     "name": "stdout",
     "output_type": "stream",
     "text": [
      "Ultralytics YOLOv8.2.70 🚀 Python-3.10.14 torch-2.1.0 CUDA:0 (NVIDIA GeForce RTX 3090, 24260MiB)\n",
      "\u001b[34m\u001b[1mengine/trainer: \u001b[0mtask=detect, mode=train, model=yolov8n.pt, data=test.yaml, epochs=30, time=None, patience=100, batch=16, imgsz=640, save=True, save_period=-1, cache=False, device=None, workers=8, project=None, name=train_raytune, exist_ok=False, pretrained=True, optimizer=auto, verbose=True, seed=0, deterministic=True, single_cls=False, rect=False, cos_lr=False, close_mosaic=10, resume=False, amp=True, fraction=1.0, profile=False, freeze=None, multi_scale=False, overlap_mask=True, mask_ratio=4, dropout=0.0, val=False, split=val, save_json=False, save_hybrid=False, conf=None, iou=0.7, max_det=300, half=False, dnn=False, plots=True, source=None, vid_stride=1, stream_buffer=False, visualize=False, augment=False, agnostic_nms=False, classes=None, retina_masks=False, embed=None, show=False, save_frames=False, save_txt=False, save_conf=False, save_crop=False, show_labels=True, show_conf=True, show_boxes=True, line_width=None, format=torchscript, keras=False, optimize=False, int8=False, dynamic=False, simplify=False, opset=None, workspace=4, nms=False, lr0=0.03545934464001868, lrf=0.1269818219816718, momentum=0.6400495135113041, weight_decay=0.0004901573182214308, warmup_epochs=2.7704237309978597, warmup_momentum=0.12211803848513114, warmup_bias_lr=0.1, box=0.15555754918222586, cls=1.2881973698516505, dfl=1.5, pose=12.0, kobj=1.0, label_smoothing=0.0, nbs=64, hsv_h=0.06992507014486865, hsv_s=0.5432212691180824, hsv_v=0.05684205101839689, degrees=20.054912707992646, translate=0.22725394216708483, scale=0.3826875883904954, shear=1.7992683436488255, perspective=0.0006875648974584802, flipud=0.03799979682933041, fliplr=0.31194858157426597, bgr=0.12684554613401888, mosaic=0.04637648204752387, mixup=0.9751916199254702, copy_paste=0.6268482131422615, auto_augment=randaugment, erasing=0.4, crop_fraction=1.0, cfg=None, tracker=botsort.yaml, save_dir=runs/detect/train/train_raytune\n",
      "Overriding model.yaml nc=80 with nc=2\n",
      "\n",
      "                   from  n    params  module                                       arguments                     \n",
      "  0                  -1  1       464  ultralytics.nn.modules.conv.Conv             [3, 16, 3, 2]                 \n",
      "  1                  -1  1      4672  ultralytics.nn.modules.conv.Conv             [16, 32, 3, 2]                \n",
      "  2                  -1  1      7360  ultralytics.nn.modules.block.C2f             [32, 32, 1, True]             \n",
      "  3                  -1  1     18560  ultralytics.nn.modules.conv.Conv             [32, 64, 3, 2]                \n",
      "  4                  -1  2     49664  ultralytics.nn.modules.block.C2f             [64, 64, 2, True]             \n",
      "  5                  -1  1     73984  ultralytics.nn.modules.conv.Conv             [64, 128, 3, 2]               \n",
      "  6                  -1  2    197632  ultralytics.nn.modules.block.C2f             [128, 128, 2, True]           \n",
      "  7                  -1  1    295424  ultralytics.nn.modules.conv.Conv             [128, 256, 3, 2]              \n",
      "  8                  -1  1    460288  ultralytics.nn.modules.block.C2f             [256, 256, 1, True]           \n",
      "  9                  -1  1    164608  ultralytics.nn.modules.block.SPPF            [256, 256, 5]                 \n",
      " 10                  -1  1         0  torch.nn.modules.upsampling.Upsample         [None, 2, 'nearest']          \n",
      " 11             [-1, 6]  1         0  ultralytics.nn.modules.conv.Concat           [1]                           \n",
      " 12                  -1  1    148224  ultralytics.nn.modules.block.C2f             [384, 128, 1]                 \n",
      " 13                  -1  1         0  torch.nn.modules.upsampling.Upsample         [None, 2, 'nearest']          \n",
      " 14             [-1, 4]  1         0  ultralytics.nn.modules.conv.Concat           [1]                           \n",
      " 15                  -1  1     37248  ultralytics.nn.modules.block.C2f             [192, 64, 1]                  \n",
      " 16                  -1  1     36992  ultralytics.nn.modules.conv.Conv             [64, 64, 3, 2]                \n",
      " 17            [-1, 12]  1         0  ultralytics.nn.modules.conv.Concat           [1]                           \n",
      " 18                  -1  1    123648  ultralytics.nn.modules.block.C2f             [192, 128, 1]                 \n",
      " 19                  -1  1    147712  ultralytics.nn.modules.conv.Conv             [128, 128, 3, 2]              \n",
      " 20             [-1, 9]  1         0  ultralytics.nn.modules.conv.Concat           [1]                           \n",
      " 21                  -1  1    493056  ultralytics.nn.modules.block.C2f             [384, 256, 1]                 \n",
      " 22        [15, 18, 21]  1    751702  ultralytics.nn.modules.head.Detect           [2, [64, 128, 256]]           \n",
      "Model summary: 225 layers, 3,011,238 parameters, 3,011,222 gradients, 8.2 GFLOPs\n",
      "\n",
      "Transferred 319/355 items from pretrained weights\n",
      "\u001b[34m\u001b[1mTensorBoard: \u001b[0mStart with 'tensorboard --logdir runs/detect/train/train_raytune', view at http://localhost:6006/\n",
      "Freezing layer 'model.22.dfl.conv.weight'\n",
      "\u001b[34m\u001b[1mAMP: \u001b[0mrunning Automatic Mixed Precision (AMP) checks with YOLOv8n...\n",
      "\u001b[34m\u001b[1mAMP: \u001b[0mchecks passed ✅\n"
     ]
    },
    {
     "name": "stderr",
     "output_type": "stream",
     "text": [
      "\u001b[34m\u001b[1mtrain: \u001b[0mScanning /home/under1/Detect/jeongui/sagittal/base/labels/train.cache... 212 images, 0 backgrounds, 0 corrupt: 100%|██████████| 212/212 [00:00<?, ?it/s]\n",
      "INFO:albumentations.check_version:A new version of Albumentations is available: 1.4.12 (you have 1.4.10). Upgrade using: pip install --upgrade albumentations\n"
     ]
    },
    {
     "name": "stdout",
     "output_type": "stream",
     "text": [
      "\u001b[34m\u001b[1malbumentations: \u001b[0mBlur(p=0.01, blur_limit=(3, 7)), MedianBlur(p=0.01, blur_limit=(3, 7)), ToGray(p=0.01), CLAHE(p=0.01, clip_limit=(1, 4.0), tile_grid_size=(8, 8))\n"
     ]
    },
    {
     "name": "stderr",
     "output_type": "stream",
     "text": [
      "\u001b[34m\u001b[1mval: \u001b[0mScanning /home/under1/Detect/jeongui/sagittal/base/labels/val.cache... 52 images, 0 backgrounds, 0 corrupt: 100%|██████████| 52/52 [00:00<?, ?it/s]\n"
     ]
    },
    {
     "name": "stdout",
     "output_type": "stream",
     "text": [
      "Plotting labels to runs/detect/train/train_raytune/labels.jpg... \n",
      "\u001b[34m\u001b[1moptimizer:\u001b[0m 'optimizer=auto' found, ignoring 'lr0=0.03545934464001868' and 'momentum=0.6400495135113041' and determining best 'optimizer', 'lr0' and 'momentum' automatically... \n",
      "\u001b[34m\u001b[1moptimizer:\u001b[0m AdamW(lr=0.001667, momentum=0.9) with parameter groups 57 weight(decay=0.0), 64 weight(decay=0.0004901573182214308), 63 bias(decay=0.0)\n",
      "\u001b[34m\u001b[1mTensorBoard: \u001b[0mmodel graph visualization added ✅\n",
      "Image sizes 640 train, 640 val\n",
      "Using 8 dataloader workers\n",
      "Logging results to \u001b[1mruns/detect/train/train_raytune\u001b[0m\n",
      "Starting training for 30 epochs...\n",
      "\n",
      "      Epoch    GPU_mem   box_loss   cls_loss   dfl_loss  Instances       Size\n"
     ]
    },
    {
     "name": "stderr",
     "output_type": "stream",
     "text": [
      "       1/30      2.16G    0.03972      10.59      1.719          8        640: 100%|██████████| 14/14 [00:02<00:00,  4.72it/s]\n"
     ]
    },
    {
     "name": "stdout",
     "output_type": "stream",
     "text": [
      "\n",
      "      Epoch    GPU_mem   box_loss   cls_loss   dfl_loss  Instances       Size\n"
     ]
    },
    {
     "name": "stderr",
     "output_type": "stream",
     "text": [
      "       2/30      2.12G     0.0335      7.492      1.439          8        640: 100%|██████████| 14/14 [00:01<00:00,  9.26it/s]\n"
     ]
    },
    {
     "name": "stdout",
     "output_type": "stream",
     "text": [
      "\n",
      "      Epoch    GPU_mem   box_loss   cls_loss   dfl_loss  Instances       Size\n"
     ]
    },
    {
     "name": "stderr",
     "output_type": "stream",
     "text": [
      "       3/30      2.12G    0.03046      6.606      1.308          9        640: 100%|██████████| 14/14 [00:01<00:00,  9.50it/s]\n"
     ]
    },
    {
     "name": "stdout",
     "output_type": "stream",
     "text": [
      "\n",
      "      Epoch    GPU_mem   box_loss   cls_loss   dfl_loss  Instances       Size\n"
     ]
    },
    {
     "name": "stderr",
     "output_type": "stream",
     "text": [
      "       4/30      2.13G    0.03012      5.939      1.313          9        640: 100%|██████████| 14/14 [00:01<00:00,  9.21it/s]\n"
     ]
    },
    {
     "name": "stdout",
     "output_type": "stream",
     "text": [
      "\n",
      "      Epoch    GPU_mem   box_loss   cls_loss   dfl_loss  Instances       Size\n"
     ]
    },
    {
     "name": "stderr",
     "output_type": "stream",
     "text": [
      "       5/30      2.12G    0.03011      5.822      1.331         10        640: 100%|██████████| 14/14 [00:01<00:00,  9.23it/s]\n"
     ]
    },
    {
     "name": "stdout",
     "output_type": "stream",
     "text": [
      "\n",
      "      Epoch    GPU_mem   box_loss   cls_loss   dfl_loss  Instances       Size\n"
     ]
    },
    {
     "name": "stderr",
     "output_type": "stream",
     "text": [
      "       6/30      2.13G    0.02916       5.47      1.277          8        640: 100%|██████████| 14/14 [00:01<00:00,  8.82it/s]\n"
     ]
    },
    {
     "name": "stdout",
     "output_type": "stream",
     "text": [
      "\n",
      "      Epoch    GPU_mem   box_loss   cls_loss   dfl_loss  Instances       Size\n"
     ]
    },
    {
     "name": "stderr",
     "output_type": "stream",
     "text": [
      "       7/30      2.13G    0.03068      5.484       1.38          9        640: 100%|██████████| 14/14 [00:01<00:00,  9.01it/s]\n"
     ]
    },
    {
     "name": "stdout",
     "output_type": "stream",
     "text": [
      "\n",
      "      Epoch    GPU_mem   box_loss   cls_loss   dfl_loss  Instances       Size\n"
     ]
    },
    {
     "name": "stderr",
     "output_type": "stream",
     "text": [
      "       8/30      2.13G    0.03021      5.362      1.337          7        640: 100%|██████████| 14/14 [00:01<00:00,  8.58it/s]\n"
     ]
    },
    {
     "name": "stdout",
     "output_type": "stream",
     "text": [
      "\n",
      "      Epoch    GPU_mem   box_loss   cls_loss   dfl_loss  Instances       Size\n"
     ]
    },
    {
     "name": "stderr",
     "output_type": "stream",
     "text": [
      "       9/30      2.14G    0.03009      5.171      1.346         10        640: 100%|██████████| 14/14 [00:01<00:00,  8.09it/s]\n"
     ]
    },
    {
     "name": "stdout",
     "output_type": "stream",
     "text": [
      "\n",
      "      Epoch    GPU_mem   box_loss   cls_loss   dfl_loss  Instances       Size\n"
     ]
    },
    {
     "name": "stderr",
     "output_type": "stream",
     "text": [
      "      10/30      2.13G    0.02966      5.044      1.337          8        640: 100%|██████████| 14/14 [00:01<00:00,  7.15it/s]\n"
     ]
    },
    {
     "name": "stdout",
     "output_type": "stream",
     "text": [
      "\n",
      "      Epoch    GPU_mem   box_loss   cls_loss   dfl_loss  Instances       Size\n"
     ]
    },
    {
     "name": "stderr",
     "output_type": "stream",
     "text": [
      "      11/30      2.13G    0.02967      4.866      1.334          9        640: 100%|██████████| 14/14 [00:01<00:00,  8.58it/s]\n"
     ]
    },
    {
     "name": "stdout",
     "output_type": "stream",
     "text": [
      "\n",
      "      Epoch    GPU_mem   box_loss   cls_loss   dfl_loss  Instances       Size\n"
     ]
    },
    {
     "name": "stderr",
     "output_type": "stream",
     "text": [
      "      12/30      2.13G    0.02965      4.907      1.323          8        640: 100%|██████████| 14/14 [00:01<00:00,  8.07it/s]\n"
     ]
    },
    {
     "name": "stdout",
     "output_type": "stream",
     "text": [
      "\n",
      "      Epoch    GPU_mem   box_loss   cls_loss   dfl_loss  Instances       Size\n"
     ]
    },
    {
     "name": "stderr",
     "output_type": "stream",
     "text": [
      "      13/30      2.13G    0.02903      4.609      1.284          8        640: 100%|██████████| 14/14 [00:01<00:00,  8.69it/s]\n"
     ]
    },
    {
     "name": "stdout",
     "output_type": "stream",
     "text": [
      "\n",
      "      Epoch    GPU_mem   box_loss   cls_loss   dfl_loss  Instances       Size\n"
     ]
    },
    {
     "name": "stderr",
     "output_type": "stream",
     "text": [
      "      14/30      2.13G    0.02815      4.412      1.273         10        640: 100%|██████████| 14/14 [00:01<00:00,  9.16it/s]\n"
     ]
    },
    {
     "name": "stdout",
     "output_type": "stream",
     "text": [
      "\n",
      "      Epoch    GPU_mem   box_loss   cls_loss   dfl_loss  Instances       Size\n"
     ]
    },
    {
     "name": "stderr",
     "output_type": "stream",
     "text": [
      "      15/30      2.14G    0.02849      4.485      1.287         11        640: 100%|██████████| 14/14 [00:01<00:00,  9.19it/s]\n"
     ]
    },
    {
     "name": "stdout",
     "output_type": "stream",
     "text": [
      "\n",
      "      Epoch    GPU_mem   box_loss   cls_loss   dfl_loss  Instances       Size\n"
     ]
    },
    {
     "name": "stderr",
     "output_type": "stream",
     "text": [
      "      16/30      2.13G    0.02835      4.238      1.287          8        640: 100%|██████████| 14/14 [00:01<00:00, 10.54it/s]\n"
     ]
    },
    {
     "name": "stdout",
     "output_type": "stream",
     "text": [
      "\n",
      "      Epoch    GPU_mem   box_loss   cls_loss   dfl_loss  Instances       Size\n"
     ]
    },
    {
     "name": "stderr",
     "output_type": "stream",
     "text": [
      "      17/30      2.13G    0.02885      4.213      1.309          8        640: 100%|██████████| 14/14 [00:01<00:00, 10.75it/s]\n"
     ]
    },
    {
     "name": "stdout",
     "output_type": "stream",
     "text": [
      "\n",
      "      Epoch    GPU_mem   box_loss   cls_loss   dfl_loss  Instances       Size\n"
     ]
    },
    {
     "name": "stderr",
     "output_type": "stream",
     "text": [
      "      18/30      2.13G    0.02868       4.08      1.264          8        640: 100%|██████████| 14/14 [00:01<00:00,  8.97it/s]\n"
     ]
    },
    {
     "name": "stdout",
     "output_type": "stream",
     "text": [
      "\n",
      "      Epoch    GPU_mem   box_loss   cls_loss   dfl_loss  Instances       Size\n"
     ]
    },
    {
     "name": "stderr",
     "output_type": "stream",
     "text": [
      "      19/30      2.13G    0.02784      4.119       1.28          6        640: 100%|██████████| 14/14 [00:01<00:00,  9.23it/s]\n"
     ]
    },
    {
     "name": "stdout",
     "output_type": "stream",
     "text": [
      "\n",
      "      Epoch    GPU_mem   box_loss   cls_loss   dfl_loss  Instances       Size\n"
     ]
    },
    {
     "name": "stderr",
     "output_type": "stream",
     "text": [
      "      20/30      2.13G    0.02813      3.991      1.295          9        640: 100%|██████████| 14/14 [00:01<00:00,  8.81it/s]\n"
     ]
    },
    {
     "name": "stdout",
     "output_type": "stream",
     "text": [
      "Closing dataloader mosaic\n",
      "\u001b[34m\u001b[1malbumentations: \u001b[0mBlur(p=0.01, blur_limit=(3, 7)), MedianBlur(p=0.01, blur_limit=(3, 7)), ToGray(p=0.01), CLAHE(p=0.01, clip_limit=(1, 4.0), tile_grid_size=(8, 8))\n",
      "\n",
      "      Epoch    GPU_mem   box_loss   cls_loss   dfl_loss  Instances       Size\n"
     ]
    },
    {
     "name": "stderr",
     "output_type": "stream",
     "text": [
      "      21/30      2.13G    0.02683      4.459      1.238          4        640: 100%|██████████| 14/14 [00:01<00:00,  7.24it/s]\n"
     ]
    },
    {
     "name": "stdout",
     "output_type": "stream",
     "text": [
      "\n",
      "      Epoch    GPU_mem   box_loss   cls_loss   dfl_loss  Instances       Size\n"
     ]
    },
    {
     "name": "stderr",
     "output_type": "stream",
     "text": [
      "      22/30      2.13G    0.02566      3.905      1.186          4        640: 100%|██████████| 14/14 [00:01<00:00,  8.01it/s]\n"
     ]
    },
    {
     "name": "stdout",
     "output_type": "stream",
     "text": [
      "\n",
      "      Epoch    GPU_mem   box_loss   cls_loss   dfl_loss  Instances       Size\n"
     ]
    },
    {
     "name": "stderr",
     "output_type": "stream",
     "text": [
      "      23/30      2.13G    0.02585      4.029      1.208          4        640: 100%|██████████| 14/14 [00:01<00:00,  7.84it/s]\n"
     ]
    },
    {
     "name": "stdout",
     "output_type": "stream",
     "text": [
      "\n",
      "      Epoch    GPU_mem   box_loss   cls_loss   dfl_loss  Instances       Size\n"
     ]
    },
    {
     "name": "stderr",
     "output_type": "stream",
     "text": [
      "      24/30      2.13G    0.02612      3.881      1.214          4        640: 100%|██████████| 14/14 [00:01<00:00,  7.99it/s]\n"
     ]
    },
    {
     "name": "stdout",
     "output_type": "stream",
     "text": [
      "\n",
      "      Epoch    GPU_mem   box_loss   cls_loss   dfl_loss  Instances       Size\n"
     ]
    },
    {
     "name": "stderr",
     "output_type": "stream",
     "text": [
      "      25/30      2.13G    0.02536      3.567        1.2          4        640: 100%|██████████| 14/14 [00:01<00:00,  9.36it/s]\n"
     ]
    },
    {
     "name": "stdout",
     "output_type": "stream",
     "text": [
      "\n",
      "      Epoch    GPU_mem   box_loss   cls_loss   dfl_loss  Instances       Size\n"
     ]
    },
    {
     "name": "stderr",
     "output_type": "stream",
     "text": [
      "      26/30      2.13G    0.02571      3.393      1.218          5        640: 100%|██████████| 14/14 [00:01<00:00,  9.12it/s]\n"
     ]
    },
    {
     "name": "stdout",
     "output_type": "stream",
     "text": [
      "\n",
      "      Epoch    GPU_mem   box_loss   cls_loss   dfl_loss  Instances       Size\n"
     ]
    },
    {
     "name": "stderr",
     "output_type": "stream",
     "text": [
      "      27/30      2.13G    0.02486       3.36      1.199          4        640: 100%|██████████| 14/14 [00:01<00:00, 10.30it/s]\n"
     ]
    },
    {
     "name": "stdout",
     "output_type": "stream",
     "text": [
      "\n",
      "      Epoch    GPU_mem   box_loss   cls_loss   dfl_loss  Instances       Size\n"
     ]
    },
    {
     "name": "stderr",
     "output_type": "stream",
     "text": [
      "      28/30      2.13G    0.02588      3.356      1.197          4        640: 100%|██████████| 14/14 [00:01<00:00,  9.69it/s]\n"
     ]
    },
    {
     "name": "stdout",
     "output_type": "stream",
     "text": [
      "\n",
      "      Epoch    GPU_mem   box_loss   cls_loss   dfl_loss  Instances       Size\n"
     ]
    },
    {
     "name": "stderr",
     "output_type": "stream",
     "text": [
      "      29/30      2.13G    0.02588      3.346      1.202          4        640: 100%|██████████| 14/14 [00:01<00:00, 10.58it/s]\n"
     ]
    },
    {
     "name": "stdout",
     "output_type": "stream",
     "text": [
      "\n",
      "      Epoch    GPU_mem   box_loss   cls_loss   dfl_loss  Instances       Size\n"
     ]
    },
    {
     "name": "stderr",
     "output_type": "stream",
     "text": [
      "      30/30      2.13G    0.02349      3.261      1.159          4        640: 100%|██████████| 14/14 [00:01<00:00, 11.32it/s]\n",
      "                 Class     Images  Instances      Box(P          R      mAP50  mAP50-95): 100%|██████████| 2/2 [00:01<00:00,  1.89it/s]\n"
     ]
    },
    {
     "name": "stdout",
     "output_type": "stream",
     "text": [
      "                   all         52         54      0.587      0.824      0.672      0.312\n",
      "\n",
      "30 epochs completed in 0.024 hours.\n",
      "Optimizer stripped from runs/detect/train/train_raytune/weights/last.pt, 6.2MB\n",
      "Optimizer stripped from runs/detect/train/train_raytune/weights/best.pt, 6.2MB\n",
      "\n",
      "Validating runs/detect/train/train_raytune/weights/best.pt...\n",
      "Ultralytics YOLOv8.2.70 🚀 Python-3.10.14 torch-2.1.0 CUDA:0 (NVIDIA GeForce RTX 3090, 24260MiB)\n",
      "Model summary (fused): 168 layers, 3,006,038 parameters, 0 gradients, 8.1 GFLOPs\n"
     ]
    },
    {
     "name": "stderr",
     "output_type": "stream",
     "text": [
      "                 Class     Images  Instances      Box(P          R      mAP50  mAP50-95): 100%|██████████| 2/2 [00:00<00:00,  4.39it/s]\n"
     ]
    },
    {
     "name": "stdout",
     "output_type": "stream",
     "text": [
      "                   all         52         54      0.587      0.823      0.673      0.312\n",
      "              negative         30         30      0.689      0.813      0.791      0.394\n",
      "              positive         22         24      0.486      0.833      0.555      0.231\n",
      "Speed: 0.2ms preprocess, 1.0ms inference, 0.0ms loss, 2.5ms postprocess per image\n",
      "Results saved to \u001b[1mruns/detect/train/train_raytune\u001b[0m\n"
     ]
    }
   ],
   "source": [
    "experiment_name = 'train'\n",
    "work_name = 'raytune' #이름수정주의\n",
    "train_dir = os.path.join('runs', experiment_name, f'{experiment_name}_{work_name}')\n",
    "\n",
    "if os.path.exists(train_dir):\n",
    "    shutil.rmtree(train_dir)\n",
    "\n",
    "# 'data' 항목 제거\n",
    "if 'data' in best_config:\n",
    "    del best_config['data']\n",
    "if 'name' in best_config:\n",
    "    del best_config['name']\n",
    "\n",
    "# 최고의 하이퍼파라미터로 모델 재훈련\n",
    "best_model = YOLO(\"yolov8n.pt\")  # 모델 재초기화\n",
    "best_results = best_model.train(data='test.yaml',\n",
    "                                name=os.path.join(experiment_name, f'{experiment_name}_{work_name}'),\n",
    "                                val=False,\n",
    "                                **best_config)"
   ]
  },
  {
   "cell_type": "code",
   "execution_count": 8,
   "metadata": {},
   "outputs": [
    {
     "name": "stdout",
     "output_type": "stream",
     "text": [
      "Ultralytics YOLOv8.2.70 🚀 Python-3.10.14 torch-2.1.0 CUDA:0 (NVIDIA GeForce RTX 3090, 24260MiB)\n"
     ]
    },
    {
     "name": "stdout",
     "output_type": "stream",
     "text": [
      "Model summary (fused): 168 layers, 3,006,038 parameters, 0 gradients, 8.1 GFLOPs\n"
     ]
    },
    {
     "name": "stderr",
     "output_type": "stream",
     "text": [
      "\u001b[34m\u001b[1mval: \u001b[0mScanning /home/under1/Detect/jeongui/sagittal/base/labels/train.cache... 212 images, 0 backgrounds, 0 corrupt: 100%|██████████| 212/212 [00:00<?, ?it/s]\n",
      "                 Class     Images  Instances      Box(P          R      mAP50  mAP50-95): 100%|██████████| 14/14 [00:02<00:00,  4.73it/s]\n"
     ]
    },
    {
     "name": "stdout",
     "output_type": "stream",
     "text": [
      "                   all        212        225      0.894      0.935      0.971      0.463\n",
      "              negative        102        109      0.866      0.954      0.973      0.472\n",
      "              positive        110        116      0.922      0.916      0.969      0.453\n",
      "Speed: 0.2ms preprocess, 3.2ms inference, 0.0ms loss, 1.6ms postprocess per image\n",
      "Results saved to \u001b[1mruns/detect/train/train_raytune2\u001b[0m\n"
     ]
    },
    {
     "data": {
      "text/plain": [
       "ultralytics.utils.metrics.DetMetrics object with attributes:\n",
       "\n",
       "ap_class_index: array([0, 1])\n",
       "box: ultralytics.utils.metrics.Metric object\n",
       "confusion_matrix: <ultralytics.utils.metrics.ConfusionMatrix object at 0x7f19b0417a60>\n",
       "curves: ['Precision-Recall(B)', 'F1-Confidence(B)', 'Precision-Confidence(B)', 'Recall-Confidence(B)']\n",
       "curves_results: [[array([          0,    0.001001,    0.002002,    0.003003,    0.004004,    0.005005,    0.006006,    0.007007,    0.008008,    0.009009,     0.01001,    0.011011,    0.012012,    0.013013,    0.014014,    0.015015,    0.016016,    0.017017,    0.018018,    0.019019,     0.02002,    0.021021,    0.022022,    0.023023,\n",
       "          0.024024,    0.025025,    0.026026,    0.027027,    0.028028,    0.029029,     0.03003,    0.031031,    0.032032,    0.033033,    0.034034,    0.035035,    0.036036,    0.037037,    0.038038,    0.039039,     0.04004,    0.041041,    0.042042,    0.043043,    0.044044,    0.045045,    0.046046,    0.047047,\n",
       "          0.048048,    0.049049,     0.05005,    0.051051,    0.052052,    0.053053,    0.054054,    0.055055,    0.056056,    0.057057,    0.058058,    0.059059,     0.06006,    0.061061,    0.062062,    0.063063,    0.064064,    0.065065,    0.066066,    0.067067,    0.068068,    0.069069,     0.07007,    0.071071,\n",
       "          0.072072,    0.073073,    0.074074,    0.075075,    0.076076,    0.077077,    0.078078,    0.079079,     0.08008,    0.081081,    0.082082,    0.083083,    0.084084,    0.085085,    0.086086,    0.087087,    0.088088,    0.089089,     0.09009,    0.091091,    0.092092,    0.093093,    0.094094,    0.095095,\n",
       "          0.096096,    0.097097,    0.098098,    0.099099,      0.1001,      0.1011,      0.1021,      0.1031,      0.1041,     0.10511,     0.10611,     0.10711,     0.10811,     0.10911,     0.11011,     0.11111,     0.11211,     0.11311,     0.11411,     0.11512,     0.11612,     0.11712,     0.11812,     0.11912,\n",
       "           0.12012,     0.12112,     0.12212,     0.12312,     0.12412,     0.12513,     0.12613,     0.12713,     0.12813,     0.12913,     0.13013,     0.13113,     0.13213,     0.13313,     0.13413,     0.13514,     0.13614,     0.13714,     0.13814,     0.13914,     0.14014,     0.14114,     0.14214,     0.14314,\n",
       "           0.14414,     0.14515,     0.14615,     0.14715,     0.14815,     0.14915,     0.15015,     0.15115,     0.15215,     0.15315,     0.15415,     0.15516,     0.15616,     0.15716,     0.15816,     0.15916,     0.16016,     0.16116,     0.16216,     0.16316,     0.16416,     0.16517,     0.16617,     0.16717,\n",
       "           0.16817,     0.16917,     0.17017,     0.17117,     0.17217,     0.17317,     0.17417,     0.17518,     0.17618,     0.17718,     0.17818,     0.17918,     0.18018,     0.18118,     0.18218,     0.18318,     0.18418,     0.18519,     0.18619,     0.18719,     0.18819,     0.18919,     0.19019,     0.19119,\n",
       "           0.19219,     0.19319,     0.19419,      0.1952,      0.1962,      0.1972,      0.1982,      0.1992,      0.2002,      0.2012,      0.2022,      0.2032,      0.2042,     0.20521,     0.20621,     0.20721,     0.20821,     0.20921,     0.21021,     0.21121,     0.21221,     0.21321,     0.21421,     0.21522,\n",
       "           0.21622,     0.21722,     0.21822,     0.21922,     0.22022,     0.22122,     0.22222,     0.22322,     0.22422,     0.22523,     0.22623,     0.22723,     0.22823,     0.22923,     0.23023,     0.23123,     0.23223,     0.23323,     0.23423,     0.23524,     0.23624,     0.23724,     0.23824,     0.23924,\n",
       "           0.24024,     0.24124,     0.24224,     0.24324,     0.24424,     0.24525,     0.24625,     0.24725,     0.24825,     0.24925,     0.25025,     0.25125,     0.25225,     0.25325,     0.25425,     0.25526,     0.25626,     0.25726,     0.25826,     0.25926,     0.26026,     0.26126,     0.26226,     0.26326,\n",
       "           0.26426,     0.26527,     0.26627,     0.26727,     0.26827,     0.26927,     0.27027,     0.27127,     0.27227,     0.27327,     0.27427,     0.27528,     0.27628,     0.27728,     0.27828,     0.27928,     0.28028,     0.28128,     0.28228,     0.28328,     0.28428,     0.28529,     0.28629,     0.28729,\n",
       "           0.28829,     0.28929,     0.29029,     0.29129,     0.29229,     0.29329,     0.29429,      0.2953,      0.2963,      0.2973,      0.2983,      0.2993,      0.3003,      0.3013,      0.3023,      0.3033,      0.3043,     0.30531,     0.30631,     0.30731,     0.30831,     0.30931,     0.31031,     0.31131,\n",
       "           0.31231,     0.31331,     0.31431,     0.31532,     0.31632,     0.31732,     0.31832,     0.31932,     0.32032,     0.32132,     0.32232,     0.32332,     0.32432,     0.32533,     0.32633,     0.32733,     0.32833,     0.32933,     0.33033,     0.33133,     0.33233,     0.33333,     0.33433,     0.33534,\n",
       "           0.33634,     0.33734,     0.33834,     0.33934,     0.34034,     0.34134,     0.34234,     0.34334,     0.34434,     0.34535,     0.34635,     0.34735,     0.34835,     0.34935,     0.35035,     0.35135,     0.35235,     0.35335,     0.35435,     0.35536,     0.35636,     0.35736,     0.35836,     0.35936,\n",
       "           0.36036,     0.36136,     0.36236,     0.36336,     0.36436,     0.36537,     0.36637,     0.36737,     0.36837,     0.36937,     0.37037,     0.37137,     0.37237,     0.37337,     0.37437,     0.37538,     0.37638,     0.37738,     0.37838,     0.37938,     0.38038,     0.38138,     0.38238,     0.38338,\n",
       "           0.38438,     0.38539,     0.38639,     0.38739,     0.38839,     0.38939,     0.39039,     0.39139,     0.39239,     0.39339,     0.39439,      0.3954,      0.3964,      0.3974,      0.3984,      0.3994,      0.4004,      0.4014,      0.4024,      0.4034,      0.4044,     0.40541,     0.40641,     0.40741,\n",
       "           0.40841,     0.40941,     0.41041,     0.41141,     0.41241,     0.41341,     0.41441,     0.41542,     0.41642,     0.41742,     0.41842,     0.41942,     0.42042,     0.42142,     0.42242,     0.42342,     0.42442,     0.42543,     0.42643,     0.42743,     0.42843,     0.42943,     0.43043,     0.43143,\n",
       "           0.43243,     0.43343,     0.43443,     0.43544,     0.43644,     0.43744,     0.43844,     0.43944,     0.44044,     0.44144,     0.44244,     0.44344,     0.44444,     0.44545,     0.44645,     0.44745,     0.44845,     0.44945,     0.45045,     0.45145,     0.45245,     0.45345,     0.45445,     0.45546,\n",
       "           0.45646,     0.45746,     0.45846,     0.45946,     0.46046,     0.46146,     0.46246,     0.46346,     0.46446,     0.46547,     0.46647,     0.46747,     0.46847,     0.46947,     0.47047,     0.47147,     0.47247,     0.47347,     0.47447,     0.47548,     0.47648,     0.47748,     0.47848,     0.47948,\n",
       "           0.48048,     0.48148,     0.48248,     0.48348,     0.48448,     0.48549,     0.48649,     0.48749,     0.48849,     0.48949,     0.49049,     0.49149,     0.49249,     0.49349,     0.49449,      0.4955,      0.4965,      0.4975,      0.4985,      0.4995,      0.5005,      0.5015,      0.5025,      0.5035,\n",
       "            0.5045,     0.50551,     0.50651,     0.50751,     0.50851,     0.50951,     0.51051,     0.51151,     0.51251,     0.51351,     0.51451,     0.51552,     0.51652,     0.51752,     0.51852,     0.51952,     0.52052,     0.52152,     0.52252,     0.52352,     0.52452,     0.52553,     0.52653,     0.52753,\n",
       "           0.52853,     0.52953,     0.53053,     0.53153,     0.53253,     0.53353,     0.53453,     0.53554,     0.53654,     0.53754,     0.53854,     0.53954,     0.54054,     0.54154,     0.54254,     0.54354,     0.54454,     0.54555,     0.54655,     0.54755,     0.54855,     0.54955,     0.55055,     0.55155,\n",
       "           0.55255,     0.55355,     0.55455,     0.55556,     0.55656,     0.55756,     0.55856,     0.55956,     0.56056,     0.56156,     0.56256,     0.56356,     0.56456,     0.56557,     0.56657,     0.56757,     0.56857,     0.56957,     0.57057,     0.57157,     0.57257,     0.57357,     0.57457,     0.57558,\n",
       "           0.57658,     0.57758,     0.57858,     0.57958,     0.58058,     0.58158,     0.58258,     0.58358,     0.58458,     0.58559,     0.58659,     0.58759,     0.58859,     0.58959,     0.59059,     0.59159,     0.59259,     0.59359,     0.59459,      0.5956,      0.5966,      0.5976,      0.5986,      0.5996,\n",
       "            0.6006,      0.6016,      0.6026,      0.6036,      0.6046,     0.60561,     0.60661,     0.60761,     0.60861,     0.60961,     0.61061,     0.61161,     0.61261,     0.61361,     0.61461,     0.61562,     0.61662,     0.61762,     0.61862,     0.61962,     0.62062,     0.62162,     0.62262,     0.62362,\n",
       "           0.62462,     0.62563,     0.62663,     0.62763,     0.62863,     0.62963,     0.63063,     0.63163,     0.63263,     0.63363,     0.63463,     0.63564,     0.63664,     0.63764,     0.63864,     0.63964,     0.64064,     0.64164,     0.64264,     0.64364,     0.64464,     0.64565,     0.64665,     0.64765,\n",
       "           0.64865,     0.64965,     0.65065,     0.65165,     0.65265,     0.65365,     0.65465,     0.65566,     0.65666,     0.65766,     0.65866,     0.65966,     0.66066,     0.66166,     0.66266,     0.66366,     0.66466,     0.66567,     0.66667,     0.66767,     0.66867,     0.66967,     0.67067,     0.67167,\n",
       "           0.67267,     0.67367,     0.67467,     0.67568,     0.67668,     0.67768,     0.67868,     0.67968,     0.68068,     0.68168,     0.68268,     0.68368,     0.68468,     0.68569,     0.68669,     0.68769,     0.68869,     0.68969,     0.69069,     0.69169,     0.69269,     0.69369,     0.69469,      0.6957,\n",
       "            0.6967,      0.6977,      0.6987,      0.6997,      0.7007,      0.7017,      0.7027,      0.7037,      0.7047,     0.70571,     0.70671,     0.70771,     0.70871,     0.70971,     0.71071,     0.71171,     0.71271,     0.71371,     0.71471,     0.71572,     0.71672,     0.71772,     0.71872,     0.71972,\n",
       "           0.72072,     0.72172,     0.72272,     0.72372,     0.72472,     0.72573,     0.72673,     0.72773,     0.72873,     0.72973,     0.73073,     0.73173,     0.73273,     0.73373,     0.73473,     0.73574,     0.73674,     0.73774,     0.73874,     0.73974,     0.74074,     0.74174,     0.74274,     0.74374,\n",
       "           0.74474,     0.74575,     0.74675,     0.74775,     0.74875,     0.74975,     0.75075,     0.75175,     0.75275,     0.75375,     0.75475,     0.75576,     0.75676,     0.75776,     0.75876,     0.75976,     0.76076,     0.76176,     0.76276,     0.76376,     0.76476,     0.76577,     0.76677,     0.76777,\n",
       "           0.76877,     0.76977,     0.77077,     0.77177,     0.77277,     0.77377,     0.77477,     0.77578,     0.77678,     0.77778,     0.77878,     0.77978,     0.78078,     0.78178,     0.78278,     0.78378,     0.78478,     0.78579,     0.78679,     0.78779,     0.78879,     0.78979,     0.79079,     0.79179,\n",
       "           0.79279,     0.79379,     0.79479,      0.7958,      0.7968,      0.7978,      0.7988,      0.7998,      0.8008,      0.8018,      0.8028,      0.8038,      0.8048,     0.80581,     0.80681,     0.80781,     0.80881,     0.80981,     0.81081,     0.81181,     0.81281,     0.81381,     0.81481,     0.81582,\n",
       "           0.81682,     0.81782,     0.81882,     0.81982,     0.82082,     0.82182,     0.82282,     0.82382,     0.82482,     0.82583,     0.82683,     0.82783,     0.82883,     0.82983,     0.83083,     0.83183,     0.83283,     0.83383,     0.83483,     0.83584,     0.83684,     0.83784,     0.83884,     0.83984,\n",
       "           0.84084,     0.84184,     0.84284,     0.84384,     0.84484,     0.84585,     0.84685,     0.84785,     0.84885,     0.84985,     0.85085,     0.85185,     0.85285,     0.85385,     0.85485,     0.85586,     0.85686,     0.85786,     0.85886,     0.85986,     0.86086,     0.86186,     0.86286,     0.86386,\n",
       "           0.86486,     0.86587,     0.86687,     0.86787,     0.86887,     0.86987,     0.87087,     0.87187,     0.87287,     0.87387,     0.87487,     0.87588,     0.87688,     0.87788,     0.87888,     0.87988,     0.88088,     0.88188,     0.88288,     0.88388,     0.88488,     0.88589,     0.88689,     0.88789,\n",
       "           0.88889,     0.88989,     0.89089,     0.89189,     0.89289,     0.89389,     0.89489,      0.8959,      0.8969,      0.8979,      0.8989,      0.8999,      0.9009,      0.9019,      0.9029,      0.9039,      0.9049,     0.90591,     0.90691,     0.90791,     0.90891,     0.90991,     0.91091,     0.91191,\n",
       "           0.91291,     0.91391,     0.91491,     0.91592,     0.91692,     0.91792,     0.91892,     0.91992,     0.92092,     0.92192,     0.92292,     0.92392,     0.92492,     0.92593,     0.92693,     0.92793,     0.92893,     0.92993,     0.93093,     0.93193,     0.93293,     0.93393,     0.93493,     0.93594,\n",
       "           0.93694,     0.93794,     0.93894,     0.93994,     0.94094,     0.94194,     0.94294,     0.94394,     0.94494,     0.94595,     0.94695,     0.94795,     0.94895,     0.94995,     0.95095,     0.95195,     0.95295,     0.95395,     0.95495,     0.95596,     0.95696,     0.95796,     0.95896,     0.95996,\n",
       "           0.96096,     0.96196,     0.96296,     0.96396,     0.96496,     0.96597,     0.96697,     0.96797,     0.96897,     0.96997,     0.97097,     0.97197,     0.97297,     0.97397,     0.97497,     0.97598,     0.97698,     0.97798,     0.97898,     0.97998,     0.98098,     0.98198,     0.98298,     0.98398,\n",
       "           0.98498,     0.98599,     0.98699,     0.98799,     0.98899,     0.98999,     0.99099,     0.99199,     0.99299,     0.99399,     0.99499,       0.996,       0.997,       0.998,       0.999,           1]), array([[          1,           1,           1, ...,     0.65663,     0.65663,           0],\n",
       "       [          1,           1,           1, ...,     0.73885,     0.73885,           0]]), 'Recall', 'Precision'], [array([          0,    0.001001,    0.002002,    0.003003,    0.004004,    0.005005,    0.006006,    0.007007,    0.008008,    0.009009,     0.01001,    0.011011,    0.012012,    0.013013,    0.014014,    0.015015,    0.016016,    0.017017,    0.018018,    0.019019,     0.02002,    0.021021,    0.022022,    0.023023,\n",
       "          0.024024,    0.025025,    0.026026,    0.027027,    0.028028,    0.029029,     0.03003,    0.031031,    0.032032,    0.033033,    0.034034,    0.035035,    0.036036,    0.037037,    0.038038,    0.039039,     0.04004,    0.041041,    0.042042,    0.043043,    0.044044,    0.045045,    0.046046,    0.047047,\n",
       "          0.048048,    0.049049,     0.05005,    0.051051,    0.052052,    0.053053,    0.054054,    0.055055,    0.056056,    0.057057,    0.058058,    0.059059,     0.06006,    0.061061,    0.062062,    0.063063,    0.064064,    0.065065,    0.066066,    0.067067,    0.068068,    0.069069,     0.07007,    0.071071,\n",
       "          0.072072,    0.073073,    0.074074,    0.075075,    0.076076,    0.077077,    0.078078,    0.079079,     0.08008,    0.081081,    0.082082,    0.083083,    0.084084,    0.085085,    0.086086,    0.087087,    0.088088,    0.089089,     0.09009,    0.091091,    0.092092,    0.093093,    0.094094,    0.095095,\n",
       "          0.096096,    0.097097,    0.098098,    0.099099,      0.1001,      0.1011,      0.1021,      0.1031,      0.1041,     0.10511,     0.10611,     0.10711,     0.10811,     0.10911,     0.11011,     0.11111,     0.11211,     0.11311,     0.11411,     0.11512,     0.11612,     0.11712,     0.11812,     0.11912,\n",
       "           0.12012,     0.12112,     0.12212,     0.12312,     0.12412,     0.12513,     0.12613,     0.12713,     0.12813,     0.12913,     0.13013,     0.13113,     0.13213,     0.13313,     0.13413,     0.13514,     0.13614,     0.13714,     0.13814,     0.13914,     0.14014,     0.14114,     0.14214,     0.14314,\n",
       "           0.14414,     0.14515,     0.14615,     0.14715,     0.14815,     0.14915,     0.15015,     0.15115,     0.15215,     0.15315,     0.15415,     0.15516,     0.15616,     0.15716,     0.15816,     0.15916,     0.16016,     0.16116,     0.16216,     0.16316,     0.16416,     0.16517,     0.16617,     0.16717,\n",
       "           0.16817,     0.16917,     0.17017,     0.17117,     0.17217,     0.17317,     0.17417,     0.17518,     0.17618,     0.17718,     0.17818,     0.17918,     0.18018,     0.18118,     0.18218,     0.18318,     0.18418,     0.18519,     0.18619,     0.18719,     0.18819,     0.18919,     0.19019,     0.19119,\n",
       "           0.19219,     0.19319,     0.19419,      0.1952,      0.1962,      0.1972,      0.1982,      0.1992,      0.2002,      0.2012,      0.2022,      0.2032,      0.2042,     0.20521,     0.20621,     0.20721,     0.20821,     0.20921,     0.21021,     0.21121,     0.21221,     0.21321,     0.21421,     0.21522,\n",
       "           0.21622,     0.21722,     0.21822,     0.21922,     0.22022,     0.22122,     0.22222,     0.22322,     0.22422,     0.22523,     0.22623,     0.22723,     0.22823,     0.22923,     0.23023,     0.23123,     0.23223,     0.23323,     0.23423,     0.23524,     0.23624,     0.23724,     0.23824,     0.23924,\n",
       "           0.24024,     0.24124,     0.24224,     0.24324,     0.24424,     0.24525,     0.24625,     0.24725,     0.24825,     0.24925,     0.25025,     0.25125,     0.25225,     0.25325,     0.25425,     0.25526,     0.25626,     0.25726,     0.25826,     0.25926,     0.26026,     0.26126,     0.26226,     0.26326,\n",
       "           0.26426,     0.26527,     0.26627,     0.26727,     0.26827,     0.26927,     0.27027,     0.27127,     0.27227,     0.27327,     0.27427,     0.27528,     0.27628,     0.27728,     0.27828,     0.27928,     0.28028,     0.28128,     0.28228,     0.28328,     0.28428,     0.28529,     0.28629,     0.28729,\n",
       "           0.28829,     0.28929,     0.29029,     0.29129,     0.29229,     0.29329,     0.29429,      0.2953,      0.2963,      0.2973,      0.2983,      0.2993,      0.3003,      0.3013,      0.3023,      0.3033,      0.3043,     0.30531,     0.30631,     0.30731,     0.30831,     0.30931,     0.31031,     0.31131,\n",
       "           0.31231,     0.31331,     0.31431,     0.31532,     0.31632,     0.31732,     0.31832,     0.31932,     0.32032,     0.32132,     0.32232,     0.32332,     0.32432,     0.32533,     0.32633,     0.32733,     0.32833,     0.32933,     0.33033,     0.33133,     0.33233,     0.33333,     0.33433,     0.33534,\n",
       "           0.33634,     0.33734,     0.33834,     0.33934,     0.34034,     0.34134,     0.34234,     0.34334,     0.34434,     0.34535,     0.34635,     0.34735,     0.34835,     0.34935,     0.35035,     0.35135,     0.35235,     0.35335,     0.35435,     0.35536,     0.35636,     0.35736,     0.35836,     0.35936,\n",
       "           0.36036,     0.36136,     0.36236,     0.36336,     0.36436,     0.36537,     0.36637,     0.36737,     0.36837,     0.36937,     0.37037,     0.37137,     0.37237,     0.37337,     0.37437,     0.37538,     0.37638,     0.37738,     0.37838,     0.37938,     0.38038,     0.38138,     0.38238,     0.38338,\n",
       "           0.38438,     0.38539,     0.38639,     0.38739,     0.38839,     0.38939,     0.39039,     0.39139,     0.39239,     0.39339,     0.39439,      0.3954,      0.3964,      0.3974,      0.3984,      0.3994,      0.4004,      0.4014,      0.4024,      0.4034,      0.4044,     0.40541,     0.40641,     0.40741,\n",
       "           0.40841,     0.40941,     0.41041,     0.41141,     0.41241,     0.41341,     0.41441,     0.41542,     0.41642,     0.41742,     0.41842,     0.41942,     0.42042,     0.42142,     0.42242,     0.42342,     0.42442,     0.42543,     0.42643,     0.42743,     0.42843,     0.42943,     0.43043,     0.43143,\n",
       "           0.43243,     0.43343,     0.43443,     0.43544,     0.43644,     0.43744,     0.43844,     0.43944,     0.44044,     0.44144,     0.44244,     0.44344,     0.44444,     0.44545,     0.44645,     0.44745,     0.44845,     0.44945,     0.45045,     0.45145,     0.45245,     0.45345,     0.45445,     0.45546,\n",
       "           0.45646,     0.45746,     0.45846,     0.45946,     0.46046,     0.46146,     0.46246,     0.46346,     0.46446,     0.46547,     0.46647,     0.46747,     0.46847,     0.46947,     0.47047,     0.47147,     0.47247,     0.47347,     0.47447,     0.47548,     0.47648,     0.47748,     0.47848,     0.47948,\n",
       "           0.48048,     0.48148,     0.48248,     0.48348,     0.48448,     0.48549,     0.48649,     0.48749,     0.48849,     0.48949,     0.49049,     0.49149,     0.49249,     0.49349,     0.49449,      0.4955,      0.4965,      0.4975,      0.4985,      0.4995,      0.5005,      0.5015,      0.5025,      0.5035,\n",
       "            0.5045,     0.50551,     0.50651,     0.50751,     0.50851,     0.50951,     0.51051,     0.51151,     0.51251,     0.51351,     0.51451,     0.51552,     0.51652,     0.51752,     0.51852,     0.51952,     0.52052,     0.52152,     0.52252,     0.52352,     0.52452,     0.52553,     0.52653,     0.52753,\n",
       "           0.52853,     0.52953,     0.53053,     0.53153,     0.53253,     0.53353,     0.53453,     0.53554,     0.53654,     0.53754,     0.53854,     0.53954,     0.54054,     0.54154,     0.54254,     0.54354,     0.54454,     0.54555,     0.54655,     0.54755,     0.54855,     0.54955,     0.55055,     0.55155,\n",
       "           0.55255,     0.55355,     0.55455,     0.55556,     0.55656,     0.55756,     0.55856,     0.55956,     0.56056,     0.56156,     0.56256,     0.56356,     0.56456,     0.56557,     0.56657,     0.56757,     0.56857,     0.56957,     0.57057,     0.57157,     0.57257,     0.57357,     0.57457,     0.57558,\n",
       "           0.57658,     0.57758,     0.57858,     0.57958,     0.58058,     0.58158,     0.58258,     0.58358,     0.58458,     0.58559,     0.58659,     0.58759,     0.58859,     0.58959,     0.59059,     0.59159,     0.59259,     0.59359,     0.59459,      0.5956,      0.5966,      0.5976,      0.5986,      0.5996,\n",
       "            0.6006,      0.6016,      0.6026,      0.6036,      0.6046,     0.60561,     0.60661,     0.60761,     0.60861,     0.60961,     0.61061,     0.61161,     0.61261,     0.61361,     0.61461,     0.61562,     0.61662,     0.61762,     0.61862,     0.61962,     0.62062,     0.62162,     0.62262,     0.62362,\n",
       "           0.62462,     0.62563,     0.62663,     0.62763,     0.62863,     0.62963,     0.63063,     0.63163,     0.63263,     0.63363,     0.63463,     0.63564,     0.63664,     0.63764,     0.63864,     0.63964,     0.64064,     0.64164,     0.64264,     0.64364,     0.64464,     0.64565,     0.64665,     0.64765,\n",
       "           0.64865,     0.64965,     0.65065,     0.65165,     0.65265,     0.65365,     0.65465,     0.65566,     0.65666,     0.65766,     0.65866,     0.65966,     0.66066,     0.66166,     0.66266,     0.66366,     0.66466,     0.66567,     0.66667,     0.66767,     0.66867,     0.66967,     0.67067,     0.67167,\n",
       "           0.67267,     0.67367,     0.67467,     0.67568,     0.67668,     0.67768,     0.67868,     0.67968,     0.68068,     0.68168,     0.68268,     0.68368,     0.68468,     0.68569,     0.68669,     0.68769,     0.68869,     0.68969,     0.69069,     0.69169,     0.69269,     0.69369,     0.69469,      0.6957,\n",
       "            0.6967,      0.6977,      0.6987,      0.6997,      0.7007,      0.7017,      0.7027,      0.7037,      0.7047,     0.70571,     0.70671,     0.70771,     0.70871,     0.70971,     0.71071,     0.71171,     0.71271,     0.71371,     0.71471,     0.71572,     0.71672,     0.71772,     0.71872,     0.71972,\n",
       "           0.72072,     0.72172,     0.72272,     0.72372,     0.72472,     0.72573,     0.72673,     0.72773,     0.72873,     0.72973,     0.73073,     0.73173,     0.73273,     0.73373,     0.73473,     0.73574,     0.73674,     0.73774,     0.73874,     0.73974,     0.74074,     0.74174,     0.74274,     0.74374,\n",
       "           0.74474,     0.74575,     0.74675,     0.74775,     0.74875,     0.74975,     0.75075,     0.75175,     0.75275,     0.75375,     0.75475,     0.75576,     0.75676,     0.75776,     0.75876,     0.75976,     0.76076,     0.76176,     0.76276,     0.76376,     0.76476,     0.76577,     0.76677,     0.76777,\n",
       "           0.76877,     0.76977,     0.77077,     0.77177,     0.77277,     0.77377,     0.77477,     0.77578,     0.77678,     0.77778,     0.77878,     0.77978,     0.78078,     0.78178,     0.78278,     0.78378,     0.78478,     0.78579,     0.78679,     0.78779,     0.78879,     0.78979,     0.79079,     0.79179,\n",
       "           0.79279,     0.79379,     0.79479,      0.7958,      0.7968,      0.7978,      0.7988,      0.7998,      0.8008,      0.8018,      0.8028,      0.8038,      0.8048,     0.80581,     0.80681,     0.80781,     0.80881,     0.80981,     0.81081,     0.81181,     0.81281,     0.81381,     0.81481,     0.81582,\n",
       "           0.81682,     0.81782,     0.81882,     0.81982,     0.82082,     0.82182,     0.82282,     0.82382,     0.82482,     0.82583,     0.82683,     0.82783,     0.82883,     0.82983,     0.83083,     0.83183,     0.83283,     0.83383,     0.83483,     0.83584,     0.83684,     0.83784,     0.83884,     0.83984,\n",
       "           0.84084,     0.84184,     0.84284,     0.84384,     0.84484,     0.84585,     0.84685,     0.84785,     0.84885,     0.84985,     0.85085,     0.85185,     0.85285,     0.85385,     0.85485,     0.85586,     0.85686,     0.85786,     0.85886,     0.85986,     0.86086,     0.86186,     0.86286,     0.86386,\n",
       "           0.86486,     0.86587,     0.86687,     0.86787,     0.86887,     0.86987,     0.87087,     0.87187,     0.87287,     0.87387,     0.87487,     0.87588,     0.87688,     0.87788,     0.87888,     0.87988,     0.88088,     0.88188,     0.88288,     0.88388,     0.88488,     0.88589,     0.88689,     0.88789,\n",
       "           0.88889,     0.88989,     0.89089,     0.89189,     0.89289,     0.89389,     0.89489,      0.8959,      0.8969,      0.8979,      0.8989,      0.8999,      0.9009,      0.9019,      0.9029,      0.9039,      0.9049,     0.90591,     0.90691,     0.90791,     0.90891,     0.90991,     0.91091,     0.91191,\n",
       "           0.91291,     0.91391,     0.91491,     0.91592,     0.91692,     0.91792,     0.91892,     0.91992,     0.92092,     0.92192,     0.92292,     0.92392,     0.92492,     0.92593,     0.92693,     0.92793,     0.92893,     0.92993,     0.93093,     0.93193,     0.93293,     0.93393,     0.93493,     0.93594,\n",
       "           0.93694,     0.93794,     0.93894,     0.93994,     0.94094,     0.94194,     0.94294,     0.94394,     0.94494,     0.94595,     0.94695,     0.94795,     0.94895,     0.94995,     0.95095,     0.95195,     0.95295,     0.95395,     0.95495,     0.95596,     0.95696,     0.95796,     0.95896,     0.95996,\n",
       "           0.96096,     0.96196,     0.96296,     0.96396,     0.96496,     0.96597,     0.96697,     0.96797,     0.96897,     0.96997,     0.97097,     0.97197,     0.97297,     0.97397,     0.97497,     0.97598,     0.97698,     0.97798,     0.97898,     0.97998,     0.98098,     0.98198,     0.98298,     0.98398,\n",
       "           0.98498,     0.98599,     0.98699,     0.98799,     0.98899,     0.98999,     0.99099,     0.99199,     0.99299,     0.99399,     0.99499,       0.996,       0.997,       0.998,       0.999,           1]), array([[  0.0053233,   0.0053233,     0.12414, ...,           0,           0,           0],\n",
       "       [   0.010143,    0.010143,     0.19304, ...,           0,           0,           0]]), 'Confidence', 'F1'], [array([          0,    0.001001,    0.002002,    0.003003,    0.004004,    0.005005,    0.006006,    0.007007,    0.008008,    0.009009,     0.01001,    0.011011,    0.012012,    0.013013,    0.014014,    0.015015,    0.016016,    0.017017,    0.018018,    0.019019,     0.02002,    0.021021,    0.022022,    0.023023,\n",
       "          0.024024,    0.025025,    0.026026,    0.027027,    0.028028,    0.029029,     0.03003,    0.031031,    0.032032,    0.033033,    0.034034,    0.035035,    0.036036,    0.037037,    0.038038,    0.039039,     0.04004,    0.041041,    0.042042,    0.043043,    0.044044,    0.045045,    0.046046,    0.047047,\n",
       "          0.048048,    0.049049,     0.05005,    0.051051,    0.052052,    0.053053,    0.054054,    0.055055,    0.056056,    0.057057,    0.058058,    0.059059,     0.06006,    0.061061,    0.062062,    0.063063,    0.064064,    0.065065,    0.066066,    0.067067,    0.068068,    0.069069,     0.07007,    0.071071,\n",
       "          0.072072,    0.073073,    0.074074,    0.075075,    0.076076,    0.077077,    0.078078,    0.079079,     0.08008,    0.081081,    0.082082,    0.083083,    0.084084,    0.085085,    0.086086,    0.087087,    0.088088,    0.089089,     0.09009,    0.091091,    0.092092,    0.093093,    0.094094,    0.095095,\n",
       "          0.096096,    0.097097,    0.098098,    0.099099,      0.1001,      0.1011,      0.1021,      0.1031,      0.1041,     0.10511,     0.10611,     0.10711,     0.10811,     0.10911,     0.11011,     0.11111,     0.11211,     0.11311,     0.11411,     0.11512,     0.11612,     0.11712,     0.11812,     0.11912,\n",
       "           0.12012,     0.12112,     0.12212,     0.12312,     0.12412,     0.12513,     0.12613,     0.12713,     0.12813,     0.12913,     0.13013,     0.13113,     0.13213,     0.13313,     0.13413,     0.13514,     0.13614,     0.13714,     0.13814,     0.13914,     0.14014,     0.14114,     0.14214,     0.14314,\n",
       "           0.14414,     0.14515,     0.14615,     0.14715,     0.14815,     0.14915,     0.15015,     0.15115,     0.15215,     0.15315,     0.15415,     0.15516,     0.15616,     0.15716,     0.15816,     0.15916,     0.16016,     0.16116,     0.16216,     0.16316,     0.16416,     0.16517,     0.16617,     0.16717,\n",
       "           0.16817,     0.16917,     0.17017,     0.17117,     0.17217,     0.17317,     0.17417,     0.17518,     0.17618,     0.17718,     0.17818,     0.17918,     0.18018,     0.18118,     0.18218,     0.18318,     0.18418,     0.18519,     0.18619,     0.18719,     0.18819,     0.18919,     0.19019,     0.19119,\n",
       "           0.19219,     0.19319,     0.19419,      0.1952,      0.1962,      0.1972,      0.1982,      0.1992,      0.2002,      0.2012,      0.2022,      0.2032,      0.2042,     0.20521,     0.20621,     0.20721,     0.20821,     0.20921,     0.21021,     0.21121,     0.21221,     0.21321,     0.21421,     0.21522,\n",
       "           0.21622,     0.21722,     0.21822,     0.21922,     0.22022,     0.22122,     0.22222,     0.22322,     0.22422,     0.22523,     0.22623,     0.22723,     0.22823,     0.22923,     0.23023,     0.23123,     0.23223,     0.23323,     0.23423,     0.23524,     0.23624,     0.23724,     0.23824,     0.23924,\n",
       "           0.24024,     0.24124,     0.24224,     0.24324,     0.24424,     0.24525,     0.24625,     0.24725,     0.24825,     0.24925,     0.25025,     0.25125,     0.25225,     0.25325,     0.25425,     0.25526,     0.25626,     0.25726,     0.25826,     0.25926,     0.26026,     0.26126,     0.26226,     0.26326,\n",
       "           0.26426,     0.26527,     0.26627,     0.26727,     0.26827,     0.26927,     0.27027,     0.27127,     0.27227,     0.27327,     0.27427,     0.27528,     0.27628,     0.27728,     0.27828,     0.27928,     0.28028,     0.28128,     0.28228,     0.28328,     0.28428,     0.28529,     0.28629,     0.28729,\n",
       "           0.28829,     0.28929,     0.29029,     0.29129,     0.29229,     0.29329,     0.29429,      0.2953,      0.2963,      0.2973,      0.2983,      0.2993,      0.3003,      0.3013,      0.3023,      0.3033,      0.3043,     0.30531,     0.30631,     0.30731,     0.30831,     0.30931,     0.31031,     0.31131,\n",
       "           0.31231,     0.31331,     0.31431,     0.31532,     0.31632,     0.31732,     0.31832,     0.31932,     0.32032,     0.32132,     0.32232,     0.32332,     0.32432,     0.32533,     0.32633,     0.32733,     0.32833,     0.32933,     0.33033,     0.33133,     0.33233,     0.33333,     0.33433,     0.33534,\n",
       "           0.33634,     0.33734,     0.33834,     0.33934,     0.34034,     0.34134,     0.34234,     0.34334,     0.34434,     0.34535,     0.34635,     0.34735,     0.34835,     0.34935,     0.35035,     0.35135,     0.35235,     0.35335,     0.35435,     0.35536,     0.35636,     0.35736,     0.35836,     0.35936,\n",
       "           0.36036,     0.36136,     0.36236,     0.36336,     0.36436,     0.36537,     0.36637,     0.36737,     0.36837,     0.36937,     0.37037,     0.37137,     0.37237,     0.37337,     0.37437,     0.37538,     0.37638,     0.37738,     0.37838,     0.37938,     0.38038,     0.38138,     0.38238,     0.38338,\n",
       "           0.38438,     0.38539,     0.38639,     0.38739,     0.38839,     0.38939,     0.39039,     0.39139,     0.39239,     0.39339,     0.39439,      0.3954,      0.3964,      0.3974,      0.3984,      0.3994,      0.4004,      0.4014,      0.4024,      0.4034,      0.4044,     0.40541,     0.40641,     0.40741,\n",
       "           0.40841,     0.40941,     0.41041,     0.41141,     0.41241,     0.41341,     0.41441,     0.41542,     0.41642,     0.41742,     0.41842,     0.41942,     0.42042,     0.42142,     0.42242,     0.42342,     0.42442,     0.42543,     0.42643,     0.42743,     0.42843,     0.42943,     0.43043,     0.43143,\n",
       "           0.43243,     0.43343,     0.43443,     0.43544,     0.43644,     0.43744,     0.43844,     0.43944,     0.44044,     0.44144,     0.44244,     0.44344,     0.44444,     0.44545,     0.44645,     0.44745,     0.44845,     0.44945,     0.45045,     0.45145,     0.45245,     0.45345,     0.45445,     0.45546,\n",
       "           0.45646,     0.45746,     0.45846,     0.45946,     0.46046,     0.46146,     0.46246,     0.46346,     0.46446,     0.46547,     0.46647,     0.46747,     0.46847,     0.46947,     0.47047,     0.47147,     0.47247,     0.47347,     0.47447,     0.47548,     0.47648,     0.47748,     0.47848,     0.47948,\n",
       "           0.48048,     0.48148,     0.48248,     0.48348,     0.48448,     0.48549,     0.48649,     0.48749,     0.48849,     0.48949,     0.49049,     0.49149,     0.49249,     0.49349,     0.49449,      0.4955,      0.4965,      0.4975,      0.4985,      0.4995,      0.5005,      0.5015,      0.5025,      0.5035,\n",
       "            0.5045,     0.50551,     0.50651,     0.50751,     0.50851,     0.50951,     0.51051,     0.51151,     0.51251,     0.51351,     0.51451,     0.51552,     0.51652,     0.51752,     0.51852,     0.51952,     0.52052,     0.52152,     0.52252,     0.52352,     0.52452,     0.52553,     0.52653,     0.52753,\n",
       "           0.52853,     0.52953,     0.53053,     0.53153,     0.53253,     0.53353,     0.53453,     0.53554,     0.53654,     0.53754,     0.53854,     0.53954,     0.54054,     0.54154,     0.54254,     0.54354,     0.54454,     0.54555,     0.54655,     0.54755,     0.54855,     0.54955,     0.55055,     0.55155,\n",
       "           0.55255,     0.55355,     0.55455,     0.55556,     0.55656,     0.55756,     0.55856,     0.55956,     0.56056,     0.56156,     0.56256,     0.56356,     0.56456,     0.56557,     0.56657,     0.56757,     0.56857,     0.56957,     0.57057,     0.57157,     0.57257,     0.57357,     0.57457,     0.57558,\n",
       "           0.57658,     0.57758,     0.57858,     0.57958,     0.58058,     0.58158,     0.58258,     0.58358,     0.58458,     0.58559,     0.58659,     0.58759,     0.58859,     0.58959,     0.59059,     0.59159,     0.59259,     0.59359,     0.59459,      0.5956,      0.5966,      0.5976,      0.5986,      0.5996,\n",
       "            0.6006,      0.6016,      0.6026,      0.6036,      0.6046,     0.60561,     0.60661,     0.60761,     0.60861,     0.60961,     0.61061,     0.61161,     0.61261,     0.61361,     0.61461,     0.61562,     0.61662,     0.61762,     0.61862,     0.61962,     0.62062,     0.62162,     0.62262,     0.62362,\n",
       "           0.62462,     0.62563,     0.62663,     0.62763,     0.62863,     0.62963,     0.63063,     0.63163,     0.63263,     0.63363,     0.63463,     0.63564,     0.63664,     0.63764,     0.63864,     0.63964,     0.64064,     0.64164,     0.64264,     0.64364,     0.64464,     0.64565,     0.64665,     0.64765,\n",
       "           0.64865,     0.64965,     0.65065,     0.65165,     0.65265,     0.65365,     0.65465,     0.65566,     0.65666,     0.65766,     0.65866,     0.65966,     0.66066,     0.66166,     0.66266,     0.66366,     0.66466,     0.66567,     0.66667,     0.66767,     0.66867,     0.66967,     0.67067,     0.67167,\n",
       "           0.67267,     0.67367,     0.67467,     0.67568,     0.67668,     0.67768,     0.67868,     0.67968,     0.68068,     0.68168,     0.68268,     0.68368,     0.68468,     0.68569,     0.68669,     0.68769,     0.68869,     0.68969,     0.69069,     0.69169,     0.69269,     0.69369,     0.69469,      0.6957,\n",
       "            0.6967,      0.6977,      0.6987,      0.6997,      0.7007,      0.7017,      0.7027,      0.7037,      0.7047,     0.70571,     0.70671,     0.70771,     0.70871,     0.70971,     0.71071,     0.71171,     0.71271,     0.71371,     0.71471,     0.71572,     0.71672,     0.71772,     0.71872,     0.71972,\n",
       "           0.72072,     0.72172,     0.72272,     0.72372,     0.72472,     0.72573,     0.72673,     0.72773,     0.72873,     0.72973,     0.73073,     0.73173,     0.73273,     0.73373,     0.73473,     0.73574,     0.73674,     0.73774,     0.73874,     0.73974,     0.74074,     0.74174,     0.74274,     0.74374,\n",
       "           0.74474,     0.74575,     0.74675,     0.74775,     0.74875,     0.74975,     0.75075,     0.75175,     0.75275,     0.75375,     0.75475,     0.75576,     0.75676,     0.75776,     0.75876,     0.75976,     0.76076,     0.76176,     0.76276,     0.76376,     0.76476,     0.76577,     0.76677,     0.76777,\n",
       "           0.76877,     0.76977,     0.77077,     0.77177,     0.77277,     0.77377,     0.77477,     0.77578,     0.77678,     0.77778,     0.77878,     0.77978,     0.78078,     0.78178,     0.78278,     0.78378,     0.78478,     0.78579,     0.78679,     0.78779,     0.78879,     0.78979,     0.79079,     0.79179,\n",
       "           0.79279,     0.79379,     0.79479,      0.7958,      0.7968,      0.7978,      0.7988,      0.7998,      0.8008,      0.8018,      0.8028,      0.8038,      0.8048,     0.80581,     0.80681,     0.80781,     0.80881,     0.80981,     0.81081,     0.81181,     0.81281,     0.81381,     0.81481,     0.81582,\n",
       "           0.81682,     0.81782,     0.81882,     0.81982,     0.82082,     0.82182,     0.82282,     0.82382,     0.82482,     0.82583,     0.82683,     0.82783,     0.82883,     0.82983,     0.83083,     0.83183,     0.83283,     0.83383,     0.83483,     0.83584,     0.83684,     0.83784,     0.83884,     0.83984,\n",
       "           0.84084,     0.84184,     0.84284,     0.84384,     0.84484,     0.84585,     0.84685,     0.84785,     0.84885,     0.84985,     0.85085,     0.85185,     0.85285,     0.85385,     0.85485,     0.85586,     0.85686,     0.85786,     0.85886,     0.85986,     0.86086,     0.86186,     0.86286,     0.86386,\n",
       "           0.86486,     0.86587,     0.86687,     0.86787,     0.86887,     0.86987,     0.87087,     0.87187,     0.87287,     0.87387,     0.87487,     0.87588,     0.87688,     0.87788,     0.87888,     0.87988,     0.88088,     0.88188,     0.88288,     0.88388,     0.88488,     0.88589,     0.88689,     0.88789,\n",
       "           0.88889,     0.88989,     0.89089,     0.89189,     0.89289,     0.89389,     0.89489,      0.8959,      0.8969,      0.8979,      0.8989,      0.8999,      0.9009,      0.9019,      0.9029,      0.9039,      0.9049,     0.90591,     0.90691,     0.90791,     0.90891,     0.90991,     0.91091,     0.91191,\n",
       "           0.91291,     0.91391,     0.91491,     0.91592,     0.91692,     0.91792,     0.91892,     0.91992,     0.92092,     0.92192,     0.92292,     0.92392,     0.92492,     0.92593,     0.92693,     0.92793,     0.92893,     0.92993,     0.93093,     0.93193,     0.93293,     0.93393,     0.93493,     0.93594,\n",
       "           0.93694,     0.93794,     0.93894,     0.93994,     0.94094,     0.94194,     0.94294,     0.94394,     0.94494,     0.94595,     0.94695,     0.94795,     0.94895,     0.94995,     0.95095,     0.95195,     0.95295,     0.95395,     0.95495,     0.95596,     0.95696,     0.95796,     0.95896,     0.95996,\n",
       "           0.96096,     0.96196,     0.96296,     0.96396,     0.96496,     0.96597,     0.96697,     0.96797,     0.96897,     0.96997,     0.97097,     0.97197,     0.97297,     0.97397,     0.97497,     0.97598,     0.97698,     0.97798,     0.97898,     0.97998,     0.98098,     0.98198,     0.98298,     0.98398,\n",
       "           0.98498,     0.98599,     0.98699,     0.98799,     0.98899,     0.98999,     0.99099,     0.99199,     0.99299,     0.99399,     0.99499,       0.996,       0.997,       0.998,       0.999,           1]), array([[  0.0026688,   0.0026688,    0.066177, ...,           1,           1,           1],\n",
       "       [  0.0050973,   0.0050973,     0.10683, ...,           1,           1,           1]]), 'Confidence', 'Precision'], [array([          0,    0.001001,    0.002002,    0.003003,    0.004004,    0.005005,    0.006006,    0.007007,    0.008008,    0.009009,     0.01001,    0.011011,    0.012012,    0.013013,    0.014014,    0.015015,    0.016016,    0.017017,    0.018018,    0.019019,     0.02002,    0.021021,    0.022022,    0.023023,\n",
       "          0.024024,    0.025025,    0.026026,    0.027027,    0.028028,    0.029029,     0.03003,    0.031031,    0.032032,    0.033033,    0.034034,    0.035035,    0.036036,    0.037037,    0.038038,    0.039039,     0.04004,    0.041041,    0.042042,    0.043043,    0.044044,    0.045045,    0.046046,    0.047047,\n",
       "          0.048048,    0.049049,     0.05005,    0.051051,    0.052052,    0.053053,    0.054054,    0.055055,    0.056056,    0.057057,    0.058058,    0.059059,     0.06006,    0.061061,    0.062062,    0.063063,    0.064064,    0.065065,    0.066066,    0.067067,    0.068068,    0.069069,     0.07007,    0.071071,\n",
       "          0.072072,    0.073073,    0.074074,    0.075075,    0.076076,    0.077077,    0.078078,    0.079079,     0.08008,    0.081081,    0.082082,    0.083083,    0.084084,    0.085085,    0.086086,    0.087087,    0.088088,    0.089089,     0.09009,    0.091091,    0.092092,    0.093093,    0.094094,    0.095095,\n",
       "          0.096096,    0.097097,    0.098098,    0.099099,      0.1001,      0.1011,      0.1021,      0.1031,      0.1041,     0.10511,     0.10611,     0.10711,     0.10811,     0.10911,     0.11011,     0.11111,     0.11211,     0.11311,     0.11411,     0.11512,     0.11612,     0.11712,     0.11812,     0.11912,\n",
       "           0.12012,     0.12112,     0.12212,     0.12312,     0.12412,     0.12513,     0.12613,     0.12713,     0.12813,     0.12913,     0.13013,     0.13113,     0.13213,     0.13313,     0.13413,     0.13514,     0.13614,     0.13714,     0.13814,     0.13914,     0.14014,     0.14114,     0.14214,     0.14314,\n",
       "           0.14414,     0.14515,     0.14615,     0.14715,     0.14815,     0.14915,     0.15015,     0.15115,     0.15215,     0.15315,     0.15415,     0.15516,     0.15616,     0.15716,     0.15816,     0.15916,     0.16016,     0.16116,     0.16216,     0.16316,     0.16416,     0.16517,     0.16617,     0.16717,\n",
       "           0.16817,     0.16917,     0.17017,     0.17117,     0.17217,     0.17317,     0.17417,     0.17518,     0.17618,     0.17718,     0.17818,     0.17918,     0.18018,     0.18118,     0.18218,     0.18318,     0.18418,     0.18519,     0.18619,     0.18719,     0.18819,     0.18919,     0.19019,     0.19119,\n",
       "           0.19219,     0.19319,     0.19419,      0.1952,      0.1962,      0.1972,      0.1982,      0.1992,      0.2002,      0.2012,      0.2022,      0.2032,      0.2042,     0.20521,     0.20621,     0.20721,     0.20821,     0.20921,     0.21021,     0.21121,     0.21221,     0.21321,     0.21421,     0.21522,\n",
       "           0.21622,     0.21722,     0.21822,     0.21922,     0.22022,     0.22122,     0.22222,     0.22322,     0.22422,     0.22523,     0.22623,     0.22723,     0.22823,     0.22923,     0.23023,     0.23123,     0.23223,     0.23323,     0.23423,     0.23524,     0.23624,     0.23724,     0.23824,     0.23924,\n",
       "           0.24024,     0.24124,     0.24224,     0.24324,     0.24424,     0.24525,     0.24625,     0.24725,     0.24825,     0.24925,     0.25025,     0.25125,     0.25225,     0.25325,     0.25425,     0.25526,     0.25626,     0.25726,     0.25826,     0.25926,     0.26026,     0.26126,     0.26226,     0.26326,\n",
       "           0.26426,     0.26527,     0.26627,     0.26727,     0.26827,     0.26927,     0.27027,     0.27127,     0.27227,     0.27327,     0.27427,     0.27528,     0.27628,     0.27728,     0.27828,     0.27928,     0.28028,     0.28128,     0.28228,     0.28328,     0.28428,     0.28529,     0.28629,     0.28729,\n",
       "           0.28829,     0.28929,     0.29029,     0.29129,     0.29229,     0.29329,     0.29429,      0.2953,      0.2963,      0.2973,      0.2983,      0.2993,      0.3003,      0.3013,      0.3023,      0.3033,      0.3043,     0.30531,     0.30631,     0.30731,     0.30831,     0.30931,     0.31031,     0.31131,\n",
       "           0.31231,     0.31331,     0.31431,     0.31532,     0.31632,     0.31732,     0.31832,     0.31932,     0.32032,     0.32132,     0.32232,     0.32332,     0.32432,     0.32533,     0.32633,     0.32733,     0.32833,     0.32933,     0.33033,     0.33133,     0.33233,     0.33333,     0.33433,     0.33534,\n",
       "           0.33634,     0.33734,     0.33834,     0.33934,     0.34034,     0.34134,     0.34234,     0.34334,     0.34434,     0.34535,     0.34635,     0.34735,     0.34835,     0.34935,     0.35035,     0.35135,     0.35235,     0.35335,     0.35435,     0.35536,     0.35636,     0.35736,     0.35836,     0.35936,\n",
       "           0.36036,     0.36136,     0.36236,     0.36336,     0.36436,     0.36537,     0.36637,     0.36737,     0.36837,     0.36937,     0.37037,     0.37137,     0.37237,     0.37337,     0.37437,     0.37538,     0.37638,     0.37738,     0.37838,     0.37938,     0.38038,     0.38138,     0.38238,     0.38338,\n",
       "           0.38438,     0.38539,     0.38639,     0.38739,     0.38839,     0.38939,     0.39039,     0.39139,     0.39239,     0.39339,     0.39439,      0.3954,      0.3964,      0.3974,      0.3984,      0.3994,      0.4004,      0.4014,      0.4024,      0.4034,      0.4044,     0.40541,     0.40641,     0.40741,\n",
       "           0.40841,     0.40941,     0.41041,     0.41141,     0.41241,     0.41341,     0.41441,     0.41542,     0.41642,     0.41742,     0.41842,     0.41942,     0.42042,     0.42142,     0.42242,     0.42342,     0.42442,     0.42543,     0.42643,     0.42743,     0.42843,     0.42943,     0.43043,     0.43143,\n",
       "           0.43243,     0.43343,     0.43443,     0.43544,     0.43644,     0.43744,     0.43844,     0.43944,     0.44044,     0.44144,     0.44244,     0.44344,     0.44444,     0.44545,     0.44645,     0.44745,     0.44845,     0.44945,     0.45045,     0.45145,     0.45245,     0.45345,     0.45445,     0.45546,\n",
       "           0.45646,     0.45746,     0.45846,     0.45946,     0.46046,     0.46146,     0.46246,     0.46346,     0.46446,     0.46547,     0.46647,     0.46747,     0.46847,     0.46947,     0.47047,     0.47147,     0.47247,     0.47347,     0.47447,     0.47548,     0.47648,     0.47748,     0.47848,     0.47948,\n",
       "           0.48048,     0.48148,     0.48248,     0.48348,     0.48448,     0.48549,     0.48649,     0.48749,     0.48849,     0.48949,     0.49049,     0.49149,     0.49249,     0.49349,     0.49449,      0.4955,      0.4965,      0.4975,      0.4985,      0.4995,      0.5005,      0.5015,      0.5025,      0.5035,\n",
       "            0.5045,     0.50551,     0.50651,     0.50751,     0.50851,     0.50951,     0.51051,     0.51151,     0.51251,     0.51351,     0.51451,     0.51552,     0.51652,     0.51752,     0.51852,     0.51952,     0.52052,     0.52152,     0.52252,     0.52352,     0.52452,     0.52553,     0.52653,     0.52753,\n",
       "           0.52853,     0.52953,     0.53053,     0.53153,     0.53253,     0.53353,     0.53453,     0.53554,     0.53654,     0.53754,     0.53854,     0.53954,     0.54054,     0.54154,     0.54254,     0.54354,     0.54454,     0.54555,     0.54655,     0.54755,     0.54855,     0.54955,     0.55055,     0.55155,\n",
       "           0.55255,     0.55355,     0.55455,     0.55556,     0.55656,     0.55756,     0.55856,     0.55956,     0.56056,     0.56156,     0.56256,     0.56356,     0.56456,     0.56557,     0.56657,     0.56757,     0.56857,     0.56957,     0.57057,     0.57157,     0.57257,     0.57357,     0.57457,     0.57558,\n",
       "           0.57658,     0.57758,     0.57858,     0.57958,     0.58058,     0.58158,     0.58258,     0.58358,     0.58458,     0.58559,     0.58659,     0.58759,     0.58859,     0.58959,     0.59059,     0.59159,     0.59259,     0.59359,     0.59459,      0.5956,      0.5966,      0.5976,      0.5986,      0.5996,\n",
       "            0.6006,      0.6016,      0.6026,      0.6036,      0.6046,     0.60561,     0.60661,     0.60761,     0.60861,     0.60961,     0.61061,     0.61161,     0.61261,     0.61361,     0.61461,     0.61562,     0.61662,     0.61762,     0.61862,     0.61962,     0.62062,     0.62162,     0.62262,     0.62362,\n",
       "           0.62462,     0.62563,     0.62663,     0.62763,     0.62863,     0.62963,     0.63063,     0.63163,     0.63263,     0.63363,     0.63463,     0.63564,     0.63664,     0.63764,     0.63864,     0.63964,     0.64064,     0.64164,     0.64264,     0.64364,     0.64464,     0.64565,     0.64665,     0.64765,\n",
       "           0.64865,     0.64965,     0.65065,     0.65165,     0.65265,     0.65365,     0.65465,     0.65566,     0.65666,     0.65766,     0.65866,     0.65966,     0.66066,     0.66166,     0.66266,     0.66366,     0.66466,     0.66567,     0.66667,     0.66767,     0.66867,     0.66967,     0.67067,     0.67167,\n",
       "           0.67267,     0.67367,     0.67467,     0.67568,     0.67668,     0.67768,     0.67868,     0.67968,     0.68068,     0.68168,     0.68268,     0.68368,     0.68468,     0.68569,     0.68669,     0.68769,     0.68869,     0.68969,     0.69069,     0.69169,     0.69269,     0.69369,     0.69469,      0.6957,\n",
       "            0.6967,      0.6977,      0.6987,      0.6997,      0.7007,      0.7017,      0.7027,      0.7037,      0.7047,     0.70571,     0.70671,     0.70771,     0.70871,     0.70971,     0.71071,     0.71171,     0.71271,     0.71371,     0.71471,     0.71572,     0.71672,     0.71772,     0.71872,     0.71972,\n",
       "           0.72072,     0.72172,     0.72272,     0.72372,     0.72472,     0.72573,     0.72673,     0.72773,     0.72873,     0.72973,     0.73073,     0.73173,     0.73273,     0.73373,     0.73473,     0.73574,     0.73674,     0.73774,     0.73874,     0.73974,     0.74074,     0.74174,     0.74274,     0.74374,\n",
       "           0.74474,     0.74575,     0.74675,     0.74775,     0.74875,     0.74975,     0.75075,     0.75175,     0.75275,     0.75375,     0.75475,     0.75576,     0.75676,     0.75776,     0.75876,     0.75976,     0.76076,     0.76176,     0.76276,     0.76376,     0.76476,     0.76577,     0.76677,     0.76777,\n",
       "           0.76877,     0.76977,     0.77077,     0.77177,     0.77277,     0.77377,     0.77477,     0.77578,     0.77678,     0.77778,     0.77878,     0.77978,     0.78078,     0.78178,     0.78278,     0.78378,     0.78478,     0.78579,     0.78679,     0.78779,     0.78879,     0.78979,     0.79079,     0.79179,\n",
       "           0.79279,     0.79379,     0.79479,      0.7958,      0.7968,      0.7978,      0.7988,      0.7998,      0.8008,      0.8018,      0.8028,      0.8038,      0.8048,     0.80581,     0.80681,     0.80781,     0.80881,     0.80981,     0.81081,     0.81181,     0.81281,     0.81381,     0.81481,     0.81582,\n",
       "           0.81682,     0.81782,     0.81882,     0.81982,     0.82082,     0.82182,     0.82282,     0.82382,     0.82482,     0.82583,     0.82683,     0.82783,     0.82883,     0.82983,     0.83083,     0.83183,     0.83283,     0.83383,     0.83483,     0.83584,     0.83684,     0.83784,     0.83884,     0.83984,\n",
       "           0.84084,     0.84184,     0.84284,     0.84384,     0.84484,     0.84585,     0.84685,     0.84785,     0.84885,     0.84985,     0.85085,     0.85185,     0.85285,     0.85385,     0.85485,     0.85586,     0.85686,     0.85786,     0.85886,     0.85986,     0.86086,     0.86186,     0.86286,     0.86386,\n",
       "           0.86486,     0.86587,     0.86687,     0.86787,     0.86887,     0.86987,     0.87087,     0.87187,     0.87287,     0.87387,     0.87487,     0.87588,     0.87688,     0.87788,     0.87888,     0.87988,     0.88088,     0.88188,     0.88288,     0.88388,     0.88488,     0.88589,     0.88689,     0.88789,\n",
       "           0.88889,     0.88989,     0.89089,     0.89189,     0.89289,     0.89389,     0.89489,      0.8959,      0.8969,      0.8979,      0.8989,      0.8999,      0.9009,      0.9019,      0.9029,      0.9039,      0.9049,     0.90591,     0.90691,     0.90791,     0.90891,     0.90991,     0.91091,     0.91191,\n",
       "           0.91291,     0.91391,     0.91491,     0.91592,     0.91692,     0.91792,     0.91892,     0.91992,     0.92092,     0.92192,     0.92292,     0.92392,     0.92492,     0.92593,     0.92693,     0.92793,     0.92893,     0.92993,     0.93093,     0.93193,     0.93293,     0.93393,     0.93493,     0.93594,\n",
       "           0.93694,     0.93794,     0.93894,     0.93994,     0.94094,     0.94194,     0.94294,     0.94394,     0.94494,     0.94595,     0.94695,     0.94795,     0.94895,     0.94995,     0.95095,     0.95195,     0.95295,     0.95395,     0.95495,     0.95596,     0.95696,     0.95796,     0.95896,     0.95996,\n",
       "           0.96096,     0.96196,     0.96296,     0.96396,     0.96496,     0.96597,     0.96697,     0.96797,     0.96897,     0.96997,     0.97097,     0.97197,     0.97297,     0.97397,     0.97497,     0.97598,     0.97698,     0.97798,     0.97898,     0.97998,     0.98098,     0.98198,     0.98298,     0.98398,\n",
       "           0.98498,     0.98599,     0.98699,     0.98799,     0.98899,     0.98999,     0.99099,     0.99199,     0.99299,     0.99399,     0.99499,       0.996,       0.997,       0.998,       0.999,           1]), array([[          1,           1,           1, ...,           0,           0,           0],\n",
       "       [          1,           1,           1, ...,           0,           0,           0]]), 'Confidence', 'Recall']]\n",
       "fitness: 0.513519918979017\n",
       "keys: ['metrics/precision(B)', 'metrics/recall(B)', 'metrics/mAP50(B)', 'metrics/mAP50-95(B)']\n",
       "maps: array([    0.47234,     0.45307])\n",
       "names: {0: 'negative', 1: 'positive'}\n",
       "plot: True\n",
       "results_dict: {'metrics/precision(B)': 0.8940011151491482, 'metrics/recall(B)': 0.9351830898546911, 'metrics/mAP50(B)': 0.9708447531555002, 'metrics/mAP50-95(B)': 0.46270604851496333, 'fitness': 0.513519918979017}\n",
       "save_dir: PosixPath('runs/detect/train/train_raytune2')\n",
       "speed: {'preprocess': 0.21427419950377266, 'inference': 3.2477963645503207, 'loss': 0.0009379296932580337, 'postprocess': 1.64323257950117}\n",
       "task: 'detect'"
      ]
     },
     "execution_count": 8,
     "metadata": {},
     "output_type": "execute_result"
    }
   ],
   "source": [
    "experiment_name = 'train'\n",
    "work_name = 'raytune' #이름수정주의\n",
    "train_dir = os.path.join('runs', experiment_name)\n",
    "\n",
    "if os.path.exists(train_dir):\n",
    "    shutil.rmtree(train_dir)\n",
    "\n",
    "train_model = YOLO(\"/home/under1/Detect/jeongui/sagittal/test/runs/detect/train/train_raytune/weights/best.pt\")\n",
    "train_model.val(name=os.path.join(experiment_name, f'{experiment_name}_{work_name}'), split=\"train\")"
   ]
  },
  {
   "cell_type": "code",
   "execution_count": 9,
   "metadata": {},
   "outputs": [
    {
     "name": "stdout",
     "output_type": "stream",
     "text": [
      "Ultralytics YOLOv8.2.70 🚀 Python-3.10.14 torch-2.1.0 CUDA:0 (NVIDIA GeForce RTX 3090, 24260MiB)\n"
     ]
    },
    {
     "name": "stderr",
     "output_type": "stream",
     "text": [
      "\u001b[34m\u001b[1mval: \u001b[0mScanning /home/under1/Detect/jeongui/sagittal/base/labels/val.cache... 52 images, 0 backgrounds, 0 corrupt: 100%|██████████| 52/52 [00:00<?, ?it/s]\n",
      "                 Class     Images  Instances      Box(P          R      mAP50  mAP50-95): 100%|██████████| 4/4 [00:02<00:00,  1.56it/s]\n"
     ]
    },
    {
     "name": "stdout",
     "output_type": "stream",
     "text": [
      "                   all         52         54      0.587      0.824      0.672      0.311\n",
      "              negative         30         30       0.69      0.815      0.789      0.391\n",
      "              positive         22         24      0.485      0.833      0.554      0.231\n",
      "Speed: 1.1ms preprocess, 3.0ms inference, 0.0ms loss, 15.5ms postprocess per image\n",
      "Results saved to \u001b[1mruns/detect/val/val_raytune\u001b[0m\n"
     ]
    },
    {
     "data": {
      "text/plain": [
       "ultralytics.utils.metrics.DetMetrics object with attributes:\n",
       "\n",
       "ap_class_index: array([0, 1])\n",
       "box: ultralytics.utils.metrics.Metric object\n",
       "confusion_matrix: <ultralytics.utils.metrics.ConfusionMatrix object at 0x7f199c70db40>\n",
       "curves: ['Precision-Recall(B)', 'F1-Confidence(B)', 'Precision-Confidence(B)', 'Recall-Confidence(B)']\n",
       "curves_results: [[array([          0,    0.001001,    0.002002,    0.003003,    0.004004,    0.005005,    0.006006,    0.007007,    0.008008,    0.009009,     0.01001,    0.011011,    0.012012,    0.013013,    0.014014,    0.015015,    0.016016,    0.017017,    0.018018,    0.019019,     0.02002,    0.021021,    0.022022,    0.023023,\n",
       "          0.024024,    0.025025,    0.026026,    0.027027,    0.028028,    0.029029,     0.03003,    0.031031,    0.032032,    0.033033,    0.034034,    0.035035,    0.036036,    0.037037,    0.038038,    0.039039,     0.04004,    0.041041,    0.042042,    0.043043,    0.044044,    0.045045,    0.046046,    0.047047,\n",
       "          0.048048,    0.049049,     0.05005,    0.051051,    0.052052,    0.053053,    0.054054,    0.055055,    0.056056,    0.057057,    0.058058,    0.059059,     0.06006,    0.061061,    0.062062,    0.063063,    0.064064,    0.065065,    0.066066,    0.067067,    0.068068,    0.069069,     0.07007,    0.071071,\n",
       "          0.072072,    0.073073,    0.074074,    0.075075,    0.076076,    0.077077,    0.078078,    0.079079,     0.08008,    0.081081,    0.082082,    0.083083,    0.084084,    0.085085,    0.086086,    0.087087,    0.088088,    0.089089,     0.09009,    0.091091,    0.092092,    0.093093,    0.094094,    0.095095,\n",
       "          0.096096,    0.097097,    0.098098,    0.099099,      0.1001,      0.1011,      0.1021,      0.1031,      0.1041,     0.10511,     0.10611,     0.10711,     0.10811,     0.10911,     0.11011,     0.11111,     0.11211,     0.11311,     0.11411,     0.11512,     0.11612,     0.11712,     0.11812,     0.11912,\n",
       "           0.12012,     0.12112,     0.12212,     0.12312,     0.12412,     0.12513,     0.12613,     0.12713,     0.12813,     0.12913,     0.13013,     0.13113,     0.13213,     0.13313,     0.13413,     0.13514,     0.13614,     0.13714,     0.13814,     0.13914,     0.14014,     0.14114,     0.14214,     0.14314,\n",
       "           0.14414,     0.14515,     0.14615,     0.14715,     0.14815,     0.14915,     0.15015,     0.15115,     0.15215,     0.15315,     0.15415,     0.15516,     0.15616,     0.15716,     0.15816,     0.15916,     0.16016,     0.16116,     0.16216,     0.16316,     0.16416,     0.16517,     0.16617,     0.16717,\n",
       "           0.16817,     0.16917,     0.17017,     0.17117,     0.17217,     0.17317,     0.17417,     0.17518,     0.17618,     0.17718,     0.17818,     0.17918,     0.18018,     0.18118,     0.18218,     0.18318,     0.18418,     0.18519,     0.18619,     0.18719,     0.18819,     0.18919,     0.19019,     0.19119,\n",
       "           0.19219,     0.19319,     0.19419,      0.1952,      0.1962,      0.1972,      0.1982,      0.1992,      0.2002,      0.2012,      0.2022,      0.2032,      0.2042,     0.20521,     0.20621,     0.20721,     0.20821,     0.20921,     0.21021,     0.21121,     0.21221,     0.21321,     0.21421,     0.21522,\n",
       "           0.21622,     0.21722,     0.21822,     0.21922,     0.22022,     0.22122,     0.22222,     0.22322,     0.22422,     0.22523,     0.22623,     0.22723,     0.22823,     0.22923,     0.23023,     0.23123,     0.23223,     0.23323,     0.23423,     0.23524,     0.23624,     0.23724,     0.23824,     0.23924,\n",
       "           0.24024,     0.24124,     0.24224,     0.24324,     0.24424,     0.24525,     0.24625,     0.24725,     0.24825,     0.24925,     0.25025,     0.25125,     0.25225,     0.25325,     0.25425,     0.25526,     0.25626,     0.25726,     0.25826,     0.25926,     0.26026,     0.26126,     0.26226,     0.26326,\n",
       "           0.26426,     0.26527,     0.26627,     0.26727,     0.26827,     0.26927,     0.27027,     0.27127,     0.27227,     0.27327,     0.27427,     0.27528,     0.27628,     0.27728,     0.27828,     0.27928,     0.28028,     0.28128,     0.28228,     0.28328,     0.28428,     0.28529,     0.28629,     0.28729,\n",
       "           0.28829,     0.28929,     0.29029,     0.29129,     0.29229,     0.29329,     0.29429,      0.2953,      0.2963,      0.2973,      0.2983,      0.2993,      0.3003,      0.3013,      0.3023,      0.3033,      0.3043,     0.30531,     0.30631,     0.30731,     0.30831,     0.30931,     0.31031,     0.31131,\n",
       "           0.31231,     0.31331,     0.31431,     0.31532,     0.31632,     0.31732,     0.31832,     0.31932,     0.32032,     0.32132,     0.32232,     0.32332,     0.32432,     0.32533,     0.32633,     0.32733,     0.32833,     0.32933,     0.33033,     0.33133,     0.33233,     0.33333,     0.33433,     0.33534,\n",
       "           0.33634,     0.33734,     0.33834,     0.33934,     0.34034,     0.34134,     0.34234,     0.34334,     0.34434,     0.34535,     0.34635,     0.34735,     0.34835,     0.34935,     0.35035,     0.35135,     0.35235,     0.35335,     0.35435,     0.35536,     0.35636,     0.35736,     0.35836,     0.35936,\n",
       "           0.36036,     0.36136,     0.36236,     0.36336,     0.36436,     0.36537,     0.36637,     0.36737,     0.36837,     0.36937,     0.37037,     0.37137,     0.37237,     0.37337,     0.37437,     0.37538,     0.37638,     0.37738,     0.37838,     0.37938,     0.38038,     0.38138,     0.38238,     0.38338,\n",
       "           0.38438,     0.38539,     0.38639,     0.38739,     0.38839,     0.38939,     0.39039,     0.39139,     0.39239,     0.39339,     0.39439,      0.3954,      0.3964,      0.3974,      0.3984,      0.3994,      0.4004,      0.4014,      0.4024,      0.4034,      0.4044,     0.40541,     0.40641,     0.40741,\n",
       "           0.40841,     0.40941,     0.41041,     0.41141,     0.41241,     0.41341,     0.41441,     0.41542,     0.41642,     0.41742,     0.41842,     0.41942,     0.42042,     0.42142,     0.42242,     0.42342,     0.42442,     0.42543,     0.42643,     0.42743,     0.42843,     0.42943,     0.43043,     0.43143,\n",
       "           0.43243,     0.43343,     0.43443,     0.43544,     0.43644,     0.43744,     0.43844,     0.43944,     0.44044,     0.44144,     0.44244,     0.44344,     0.44444,     0.44545,     0.44645,     0.44745,     0.44845,     0.44945,     0.45045,     0.45145,     0.45245,     0.45345,     0.45445,     0.45546,\n",
       "           0.45646,     0.45746,     0.45846,     0.45946,     0.46046,     0.46146,     0.46246,     0.46346,     0.46446,     0.46547,     0.46647,     0.46747,     0.46847,     0.46947,     0.47047,     0.47147,     0.47247,     0.47347,     0.47447,     0.47548,     0.47648,     0.47748,     0.47848,     0.47948,\n",
       "           0.48048,     0.48148,     0.48248,     0.48348,     0.48448,     0.48549,     0.48649,     0.48749,     0.48849,     0.48949,     0.49049,     0.49149,     0.49249,     0.49349,     0.49449,      0.4955,      0.4965,      0.4975,      0.4985,      0.4995,      0.5005,      0.5015,      0.5025,      0.5035,\n",
       "            0.5045,     0.50551,     0.50651,     0.50751,     0.50851,     0.50951,     0.51051,     0.51151,     0.51251,     0.51351,     0.51451,     0.51552,     0.51652,     0.51752,     0.51852,     0.51952,     0.52052,     0.52152,     0.52252,     0.52352,     0.52452,     0.52553,     0.52653,     0.52753,\n",
       "           0.52853,     0.52953,     0.53053,     0.53153,     0.53253,     0.53353,     0.53453,     0.53554,     0.53654,     0.53754,     0.53854,     0.53954,     0.54054,     0.54154,     0.54254,     0.54354,     0.54454,     0.54555,     0.54655,     0.54755,     0.54855,     0.54955,     0.55055,     0.55155,\n",
       "           0.55255,     0.55355,     0.55455,     0.55556,     0.55656,     0.55756,     0.55856,     0.55956,     0.56056,     0.56156,     0.56256,     0.56356,     0.56456,     0.56557,     0.56657,     0.56757,     0.56857,     0.56957,     0.57057,     0.57157,     0.57257,     0.57357,     0.57457,     0.57558,\n",
       "           0.57658,     0.57758,     0.57858,     0.57958,     0.58058,     0.58158,     0.58258,     0.58358,     0.58458,     0.58559,     0.58659,     0.58759,     0.58859,     0.58959,     0.59059,     0.59159,     0.59259,     0.59359,     0.59459,      0.5956,      0.5966,      0.5976,      0.5986,      0.5996,\n",
       "            0.6006,      0.6016,      0.6026,      0.6036,      0.6046,     0.60561,     0.60661,     0.60761,     0.60861,     0.60961,     0.61061,     0.61161,     0.61261,     0.61361,     0.61461,     0.61562,     0.61662,     0.61762,     0.61862,     0.61962,     0.62062,     0.62162,     0.62262,     0.62362,\n",
       "           0.62462,     0.62563,     0.62663,     0.62763,     0.62863,     0.62963,     0.63063,     0.63163,     0.63263,     0.63363,     0.63463,     0.63564,     0.63664,     0.63764,     0.63864,     0.63964,     0.64064,     0.64164,     0.64264,     0.64364,     0.64464,     0.64565,     0.64665,     0.64765,\n",
       "           0.64865,     0.64965,     0.65065,     0.65165,     0.65265,     0.65365,     0.65465,     0.65566,     0.65666,     0.65766,     0.65866,     0.65966,     0.66066,     0.66166,     0.66266,     0.66366,     0.66466,     0.66567,     0.66667,     0.66767,     0.66867,     0.66967,     0.67067,     0.67167,\n",
       "           0.67267,     0.67367,     0.67467,     0.67568,     0.67668,     0.67768,     0.67868,     0.67968,     0.68068,     0.68168,     0.68268,     0.68368,     0.68468,     0.68569,     0.68669,     0.68769,     0.68869,     0.68969,     0.69069,     0.69169,     0.69269,     0.69369,     0.69469,      0.6957,\n",
       "            0.6967,      0.6977,      0.6987,      0.6997,      0.7007,      0.7017,      0.7027,      0.7037,      0.7047,     0.70571,     0.70671,     0.70771,     0.70871,     0.70971,     0.71071,     0.71171,     0.71271,     0.71371,     0.71471,     0.71572,     0.71672,     0.71772,     0.71872,     0.71972,\n",
       "           0.72072,     0.72172,     0.72272,     0.72372,     0.72472,     0.72573,     0.72673,     0.72773,     0.72873,     0.72973,     0.73073,     0.73173,     0.73273,     0.73373,     0.73473,     0.73574,     0.73674,     0.73774,     0.73874,     0.73974,     0.74074,     0.74174,     0.74274,     0.74374,\n",
       "           0.74474,     0.74575,     0.74675,     0.74775,     0.74875,     0.74975,     0.75075,     0.75175,     0.75275,     0.75375,     0.75475,     0.75576,     0.75676,     0.75776,     0.75876,     0.75976,     0.76076,     0.76176,     0.76276,     0.76376,     0.76476,     0.76577,     0.76677,     0.76777,\n",
       "           0.76877,     0.76977,     0.77077,     0.77177,     0.77277,     0.77377,     0.77477,     0.77578,     0.77678,     0.77778,     0.77878,     0.77978,     0.78078,     0.78178,     0.78278,     0.78378,     0.78478,     0.78579,     0.78679,     0.78779,     0.78879,     0.78979,     0.79079,     0.79179,\n",
       "           0.79279,     0.79379,     0.79479,      0.7958,      0.7968,      0.7978,      0.7988,      0.7998,      0.8008,      0.8018,      0.8028,      0.8038,      0.8048,     0.80581,     0.80681,     0.80781,     0.80881,     0.80981,     0.81081,     0.81181,     0.81281,     0.81381,     0.81481,     0.81582,\n",
       "           0.81682,     0.81782,     0.81882,     0.81982,     0.82082,     0.82182,     0.82282,     0.82382,     0.82482,     0.82583,     0.82683,     0.82783,     0.82883,     0.82983,     0.83083,     0.83183,     0.83283,     0.83383,     0.83483,     0.83584,     0.83684,     0.83784,     0.83884,     0.83984,\n",
       "           0.84084,     0.84184,     0.84284,     0.84384,     0.84484,     0.84585,     0.84685,     0.84785,     0.84885,     0.84985,     0.85085,     0.85185,     0.85285,     0.85385,     0.85485,     0.85586,     0.85686,     0.85786,     0.85886,     0.85986,     0.86086,     0.86186,     0.86286,     0.86386,\n",
       "           0.86486,     0.86587,     0.86687,     0.86787,     0.86887,     0.86987,     0.87087,     0.87187,     0.87287,     0.87387,     0.87487,     0.87588,     0.87688,     0.87788,     0.87888,     0.87988,     0.88088,     0.88188,     0.88288,     0.88388,     0.88488,     0.88589,     0.88689,     0.88789,\n",
       "           0.88889,     0.88989,     0.89089,     0.89189,     0.89289,     0.89389,     0.89489,      0.8959,      0.8969,      0.8979,      0.8989,      0.8999,      0.9009,      0.9019,      0.9029,      0.9039,      0.9049,     0.90591,     0.90691,     0.90791,     0.90891,     0.90991,     0.91091,     0.91191,\n",
       "           0.91291,     0.91391,     0.91491,     0.91592,     0.91692,     0.91792,     0.91892,     0.91992,     0.92092,     0.92192,     0.92292,     0.92392,     0.92492,     0.92593,     0.92693,     0.92793,     0.92893,     0.92993,     0.93093,     0.93193,     0.93293,     0.93393,     0.93493,     0.93594,\n",
       "           0.93694,     0.93794,     0.93894,     0.93994,     0.94094,     0.94194,     0.94294,     0.94394,     0.94494,     0.94595,     0.94695,     0.94795,     0.94895,     0.94995,     0.95095,     0.95195,     0.95295,     0.95395,     0.95495,     0.95596,     0.95696,     0.95796,     0.95896,     0.95996,\n",
       "           0.96096,     0.96196,     0.96296,     0.96396,     0.96496,     0.96597,     0.96697,     0.96797,     0.96897,     0.96997,     0.97097,     0.97197,     0.97297,     0.97397,     0.97497,     0.97598,     0.97698,     0.97798,     0.97898,     0.97998,     0.98098,     0.98198,     0.98298,     0.98398,\n",
       "           0.98498,     0.98599,     0.98699,     0.98799,     0.98899,     0.98999,     0.99099,     0.99199,     0.99299,     0.99399,     0.99499,       0.996,       0.997,       0.998,       0.999,           1]), array([[          1,           1,           1, ...,     0.54545,     0.54545,           0],\n",
       "       [          1,           1,           1, ...,     0.10084,     0.10084,           0]]), 'Recall', 'Precision'], [array([          0,    0.001001,    0.002002,    0.003003,    0.004004,    0.005005,    0.006006,    0.007007,    0.008008,    0.009009,     0.01001,    0.011011,    0.012012,    0.013013,    0.014014,    0.015015,    0.016016,    0.017017,    0.018018,    0.019019,     0.02002,    0.021021,    0.022022,    0.023023,\n",
       "          0.024024,    0.025025,    0.026026,    0.027027,    0.028028,    0.029029,     0.03003,    0.031031,    0.032032,    0.033033,    0.034034,    0.035035,    0.036036,    0.037037,    0.038038,    0.039039,     0.04004,    0.041041,    0.042042,    0.043043,    0.044044,    0.045045,    0.046046,    0.047047,\n",
       "          0.048048,    0.049049,     0.05005,    0.051051,    0.052052,    0.053053,    0.054054,    0.055055,    0.056056,    0.057057,    0.058058,    0.059059,     0.06006,    0.061061,    0.062062,    0.063063,    0.064064,    0.065065,    0.066066,    0.067067,    0.068068,    0.069069,     0.07007,    0.071071,\n",
       "          0.072072,    0.073073,    0.074074,    0.075075,    0.076076,    0.077077,    0.078078,    0.079079,     0.08008,    0.081081,    0.082082,    0.083083,    0.084084,    0.085085,    0.086086,    0.087087,    0.088088,    0.089089,     0.09009,    0.091091,    0.092092,    0.093093,    0.094094,    0.095095,\n",
       "          0.096096,    0.097097,    0.098098,    0.099099,      0.1001,      0.1011,      0.1021,      0.1031,      0.1041,     0.10511,     0.10611,     0.10711,     0.10811,     0.10911,     0.11011,     0.11111,     0.11211,     0.11311,     0.11411,     0.11512,     0.11612,     0.11712,     0.11812,     0.11912,\n",
       "           0.12012,     0.12112,     0.12212,     0.12312,     0.12412,     0.12513,     0.12613,     0.12713,     0.12813,     0.12913,     0.13013,     0.13113,     0.13213,     0.13313,     0.13413,     0.13514,     0.13614,     0.13714,     0.13814,     0.13914,     0.14014,     0.14114,     0.14214,     0.14314,\n",
       "           0.14414,     0.14515,     0.14615,     0.14715,     0.14815,     0.14915,     0.15015,     0.15115,     0.15215,     0.15315,     0.15415,     0.15516,     0.15616,     0.15716,     0.15816,     0.15916,     0.16016,     0.16116,     0.16216,     0.16316,     0.16416,     0.16517,     0.16617,     0.16717,\n",
       "           0.16817,     0.16917,     0.17017,     0.17117,     0.17217,     0.17317,     0.17417,     0.17518,     0.17618,     0.17718,     0.17818,     0.17918,     0.18018,     0.18118,     0.18218,     0.18318,     0.18418,     0.18519,     0.18619,     0.18719,     0.18819,     0.18919,     0.19019,     0.19119,\n",
       "           0.19219,     0.19319,     0.19419,      0.1952,      0.1962,      0.1972,      0.1982,      0.1992,      0.2002,      0.2012,      0.2022,      0.2032,      0.2042,     0.20521,     0.20621,     0.20721,     0.20821,     0.20921,     0.21021,     0.21121,     0.21221,     0.21321,     0.21421,     0.21522,\n",
       "           0.21622,     0.21722,     0.21822,     0.21922,     0.22022,     0.22122,     0.22222,     0.22322,     0.22422,     0.22523,     0.22623,     0.22723,     0.22823,     0.22923,     0.23023,     0.23123,     0.23223,     0.23323,     0.23423,     0.23524,     0.23624,     0.23724,     0.23824,     0.23924,\n",
       "           0.24024,     0.24124,     0.24224,     0.24324,     0.24424,     0.24525,     0.24625,     0.24725,     0.24825,     0.24925,     0.25025,     0.25125,     0.25225,     0.25325,     0.25425,     0.25526,     0.25626,     0.25726,     0.25826,     0.25926,     0.26026,     0.26126,     0.26226,     0.26326,\n",
       "           0.26426,     0.26527,     0.26627,     0.26727,     0.26827,     0.26927,     0.27027,     0.27127,     0.27227,     0.27327,     0.27427,     0.27528,     0.27628,     0.27728,     0.27828,     0.27928,     0.28028,     0.28128,     0.28228,     0.28328,     0.28428,     0.28529,     0.28629,     0.28729,\n",
       "           0.28829,     0.28929,     0.29029,     0.29129,     0.29229,     0.29329,     0.29429,      0.2953,      0.2963,      0.2973,      0.2983,      0.2993,      0.3003,      0.3013,      0.3023,      0.3033,      0.3043,     0.30531,     0.30631,     0.30731,     0.30831,     0.30931,     0.31031,     0.31131,\n",
       "           0.31231,     0.31331,     0.31431,     0.31532,     0.31632,     0.31732,     0.31832,     0.31932,     0.32032,     0.32132,     0.32232,     0.32332,     0.32432,     0.32533,     0.32633,     0.32733,     0.32833,     0.32933,     0.33033,     0.33133,     0.33233,     0.33333,     0.33433,     0.33534,\n",
       "           0.33634,     0.33734,     0.33834,     0.33934,     0.34034,     0.34134,     0.34234,     0.34334,     0.34434,     0.34535,     0.34635,     0.34735,     0.34835,     0.34935,     0.35035,     0.35135,     0.35235,     0.35335,     0.35435,     0.35536,     0.35636,     0.35736,     0.35836,     0.35936,\n",
       "           0.36036,     0.36136,     0.36236,     0.36336,     0.36436,     0.36537,     0.36637,     0.36737,     0.36837,     0.36937,     0.37037,     0.37137,     0.37237,     0.37337,     0.37437,     0.37538,     0.37638,     0.37738,     0.37838,     0.37938,     0.38038,     0.38138,     0.38238,     0.38338,\n",
       "           0.38438,     0.38539,     0.38639,     0.38739,     0.38839,     0.38939,     0.39039,     0.39139,     0.39239,     0.39339,     0.39439,      0.3954,      0.3964,      0.3974,      0.3984,      0.3994,      0.4004,      0.4014,      0.4024,      0.4034,      0.4044,     0.40541,     0.40641,     0.40741,\n",
       "           0.40841,     0.40941,     0.41041,     0.41141,     0.41241,     0.41341,     0.41441,     0.41542,     0.41642,     0.41742,     0.41842,     0.41942,     0.42042,     0.42142,     0.42242,     0.42342,     0.42442,     0.42543,     0.42643,     0.42743,     0.42843,     0.42943,     0.43043,     0.43143,\n",
       "           0.43243,     0.43343,     0.43443,     0.43544,     0.43644,     0.43744,     0.43844,     0.43944,     0.44044,     0.44144,     0.44244,     0.44344,     0.44444,     0.44545,     0.44645,     0.44745,     0.44845,     0.44945,     0.45045,     0.45145,     0.45245,     0.45345,     0.45445,     0.45546,\n",
       "           0.45646,     0.45746,     0.45846,     0.45946,     0.46046,     0.46146,     0.46246,     0.46346,     0.46446,     0.46547,     0.46647,     0.46747,     0.46847,     0.46947,     0.47047,     0.47147,     0.47247,     0.47347,     0.47447,     0.47548,     0.47648,     0.47748,     0.47848,     0.47948,\n",
       "           0.48048,     0.48148,     0.48248,     0.48348,     0.48448,     0.48549,     0.48649,     0.48749,     0.48849,     0.48949,     0.49049,     0.49149,     0.49249,     0.49349,     0.49449,      0.4955,      0.4965,      0.4975,      0.4985,      0.4995,      0.5005,      0.5015,      0.5025,      0.5035,\n",
       "            0.5045,     0.50551,     0.50651,     0.50751,     0.50851,     0.50951,     0.51051,     0.51151,     0.51251,     0.51351,     0.51451,     0.51552,     0.51652,     0.51752,     0.51852,     0.51952,     0.52052,     0.52152,     0.52252,     0.52352,     0.52452,     0.52553,     0.52653,     0.52753,\n",
       "           0.52853,     0.52953,     0.53053,     0.53153,     0.53253,     0.53353,     0.53453,     0.53554,     0.53654,     0.53754,     0.53854,     0.53954,     0.54054,     0.54154,     0.54254,     0.54354,     0.54454,     0.54555,     0.54655,     0.54755,     0.54855,     0.54955,     0.55055,     0.55155,\n",
       "           0.55255,     0.55355,     0.55455,     0.55556,     0.55656,     0.55756,     0.55856,     0.55956,     0.56056,     0.56156,     0.56256,     0.56356,     0.56456,     0.56557,     0.56657,     0.56757,     0.56857,     0.56957,     0.57057,     0.57157,     0.57257,     0.57357,     0.57457,     0.57558,\n",
       "           0.57658,     0.57758,     0.57858,     0.57958,     0.58058,     0.58158,     0.58258,     0.58358,     0.58458,     0.58559,     0.58659,     0.58759,     0.58859,     0.58959,     0.59059,     0.59159,     0.59259,     0.59359,     0.59459,      0.5956,      0.5966,      0.5976,      0.5986,      0.5996,\n",
       "            0.6006,      0.6016,      0.6026,      0.6036,      0.6046,     0.60561,     0.60661,     0.60761,     0.60861,     0.60961,     0.61061,     0.61161,     0.61261,     0.61361,     0.61461,     0.61562,     0.61662,     0.61762,     0.61862,     0.61962,     0.62062,     0.62162,     0.62262,     0.62362,\n",
       "           0.62462,     0.62563,     0.62663,     0.62763,     0.62863,     0.62963,     0.63063,     0.63163,     0.63263,     0.63363,     0.63463,     0.63564,     0.63664,     0.63764,     0.63864,     0.63964,     0.64064,     0.64164,     0.64264,     0.64364,     0.64464,     0.64565,     0.64665,     0.64765,\n",
       "           0.64865,     0.64965,     0.65065,     0.65165,     0.65265,     0.65365,     0.65465,     0.65566,     0.65666,     0.65766,     0.65866,     0.65966,     0.66066,     0.66166,     0.66266,     0.66366,     0.66466,     0.66567,     0.66667,     0.66767,     0.66867,     0.66967,     0.67067,     0.67167,\n",
       "           0.67267,     0.67367,     0.67467,     0.67568,     0.67668,     0.67768,     0.67868,     0.67968,     0.68068,     0.68168,     0.68268,     0.68368,     0.68468,     0.68569,     0.68669,     0.68769,     0.68869,     0.68969,     0.69069,     0.69169,     0.69269,     0.69369,     0.69469,      0.6957,\n",
       "            0.6967,      0.6977,      0.6987,      0.6997,      0.7007,      0.7017,      0.7027,      0.7037,      0.7047,     0.70571,     0.70671,     0.70771,     0.70871,     0.70971,     0.71071,     0.71171,     0.71271,     0.71371,     0.71471,     0.71572,     0.71672,     0.71772,     0.71872,     0.71972,\n",
       "           0.72072,     0.72172,     0.72272,     0.72372,     0.72472,     0.72573,     0.72673,     0.72773,     0.72873,     0.72973,     0.73073,     0.73173,     0.73273,     0.73373,     0.73473,     0.73574,     0.73674,     0.73774,     0.73874,     0.73974,     0.74074,     0.74174,     0.74274,     0.74374,\n",
       "           0.74474,     0.74575,     0.74675,     0.74775,     0.74875,     0.74975,     0.75075,     0.75175,     0.75275,     0.75375,     0.75475,     0.75576,     0.75676,     0.75776,     0.75876,     0.75976,     0.76076,     0.76176,     0.76276,     0.76376,     0.76476,     0.76577,     0.76677,     0.76777,\n",
       "           0.76877,     0.76977,     0.77077,     0.77177,     0.77277,     0.77377,     0.77477,     0.77578,     0.77678,     0.77778,     0.77878,     0.77978,     0.78078,     0.78178,     0.78278,     0.78378,     0.78478,     0.78579,     0.78679,     0.78779,     0.78879,     0.78979,     0.79079,     0.79179,\n",
       "           0.79279,     0.79379,     0.79479,      0.7958,      0.7968,      0.7978,      0.7988,      0.7998,      0.8008,      0.8018,      0.8028,      0.8038,      0.8048,     0.80581,     0.80681,     0.80781,     0.80881,     0.80981,     0.81081,     0.81181,     0.81281,     0.81381,     0.81481,     0.81582,\n",
       "           0.81682,     0.81782,     0.81882,     0.81982,     0.82082,     0.82182,     0.82282,     0.82382,     0.82482,     0.82583,     0.82683,     0.82783,     0.82883,     0.82983,     0.83083,     0.83183,     0.83283,     0.83383,     0.83483,     0.83584,     0.83684,     0.83784,     0.83884,     0.83984,\n",
       "           0.84084,     0.84184,     0.84284,     0.84384,     0.84484,     0.84585,     0.84685,     0.84785,     0.84885,     0.84985,     0.85085,     0.85185,     0.85285,     0.85385,     0.85485,     0.85586,     0.85686,     0.85786,     0.85886,     0.85986,     0.86086,     0.86186,     0.86286,     0.86386,\n",
       "           0.86486,     0.86587,     0.86687,     0.86787,     0.86887,     0.86987,     0.87087,     0.87187,     0.87287,     0.87387,     0.87487,     0.87588,     0.87688,     0.87788,     0.87888,     0.87988,     0.88088,     0.88188,     0.88288,     0.88388,     0.88488,     0.88589,     0.88689,     0.88789,\n",
       "           0.88889,     0.88989,     0.89089,     0.89189,     0.89289,     0.89389,     0.89489,      0.8959,      0.8969,      0.8979,      0.8989,      0.8999,      0.9009,      0.9019,      0.9029,      0.9039,      0.9049,     0.90591,     0.90691,     0.90791,     0.90891,     0.90991,     0.91091,     0.91191,\n",
       "           0.91291,     0.91391,     0.91491,     0.91592,     0.91692,     0.91792,     0.91892,     0.91992,     0.92092,     0.92192,     0.92292,     0.92392,     0.92492,     0.92593,     0.92693,     0.92793,     0.92893,     0.92993,     0.93093,     0.93193,     0.93293,     0.93393,     0.93493,     0.93594,\n",
       "           0.93694,     0.93794,     0.93894,     0.93994,     0.94094,     0.94194,     0.94294,     0.94394,     0.94494,     0.94595,     0.94695,     0.94795,     0.94895,     0.94995,     0.95095,     0.95195,     0.95295,     0.95395,     0.95495,     0.95596,     0.95696,     0.95796,     0.95896,     0.95996,\n",
       "           0.96096,     0.96196,     0.96296,     0.96396,     0.96496,     0.96597,     0.96697,     0.96797,     0.96897,     0.96997,     0.97097,     0.97197,     0.97297,     0.97397,     0.97497,     0.97598,     0.97698,     0.97798,     0.97898,     0.97998,     0.98098,     0.98198,     0.98298,     0.98398,\n",
       "           0.98498,     0.98599,     0.98699,     0.98799,     0.98899,     0.98999,     0.99099,     0.99199,     0.99299,     0.99399,     0.99499,       0.996,       0.997,       0.998,       0.999,           1]), array([[  0.0060193,   0.0060193,     0.15558, ...,           0,           0,           0],\n",
       "       [  0.0084418,   0.0084418,     0.16365, ...,           0,           0,           0]]), 'Confidence', 'F1'], [array([          0,    0.001001,    0.002002,    0.003003,    0.004004,    0.005005,    0.006006,    0.007007,    0.008008,    0.009009,     0.01001,    0.011011,    0.012012,    0.013013,    0.014014,    0.015015,    0.016016,    0.017017,    0.018018,    0.019019,     0.02002,    0.021021,    0.022022,    0.023023,\n",
       "          0.024024,    0.025025,    0.026026,    0.027027,    0.028028,    0.029029,     0.03003,    0.031031,    0.032032,    0.033033,    0.034034,    0.035035,    0.036036,    0.037037,    0.038038,    0.039039,     0.04004,    0.041041,    0.042042,    0.043043,    0.044044,    0.045045,    0.046046,    0.047047,\n",
       "          0.048048,    0.049049,     0.05005,    0.051051,    0.052052,    0.053053,    0.054054,    0.055055,    0.056056,    0.057057,    0.058058,    0.059059,     0.06006,    0.061061,    0.062062,    0.063063,    0.064064,    0.065065,    0.066066,    0.067067,    0.068068,    0.069069,     0.07007,    0.071071,\n",
       "          0.072072,    0.073073,    0.074074,    0.075075,    0.076076,    0.077077,    0.078078,    0.079079,     0.08008,    0.081081,    0.082082,    0.083083,    0.084084,    0.085085,    0.086086,    0.087087,    0.088088,    0.089089,     0.09009,    0.091091,    0.092092,    0.093093,    0.094094,    0.095095,\n",
       "          0.096096,    0.097097,    0.098098,    0.099099,      0.1001,      0.1011,      0.1021,      0.1031,      0.1041,     0.10511,     0.10611,     0.10711,     0.10811,     0.10911,     0.11011,     0.11111,     0.11211,     0.11311,     0.11411,     0.11512,     0.11612,     0.11712,     0.11812,     0.11912,\n",
       "           0.12012,     0.12112,     0.12212,     0.12312,     0.12412,     0.12513,     0.12613,     0.12713,     0.12813,     0.12913,     0.13013,     0.13113,     0.13213,     0.13313,     0.13413,     0.13514,     0.13614,     0.13714,     0.13814,     0.13914,     0.14014,     0.14114,     0.14214,     0.14314,\n",
       "           0.14414,     0.14515,     0.14615,     0.14715,     0.14815,     0.14915,     0.15015,     0.15115,     0.15215,     0.15315,     0.15415,     0.15516,     0.15616,     0.15716,     0.15816,     0.15916,     0.16016,     0.16116,     0.16216,     0.16316,     0.16416,     0.16517,     0.16617,     0.16717,\n",
       "           0.16817,     0.16917,     0.17017,     0.17117,     0.17217,     0.17317,     0.17417,     0.17518,     0.17618,     0.17718,     0.17818,     0.17918,     0.18018,     0.18118,     0.18218,     0.18318,     0.18418,     0.18519,     0.18619,     0.18719,     0.18819,     0.18919,     0.19019,     0.19119,\n",
       "           0.19219,     0.19319,     0.19419,      0.1952,      0.1962,      0.1972,      0.1982,      0.1992,      0.2002,      0.2012,      0.2022,      0.2032,      0.2042,     0.20521,     0.20621,     0.20721,     0.20821,     0.20921,     0.21021,     0.21121,     0.21221,     0.21321,     0.21421,     0.21522,\n",
       "           0.21622,     0.21722,     0.21822,     0.21922,     0.22022,     0.22122,     0.22222,     0.22322,     0.22422,     0.22523,     0.22623,     0.22723,     0.22823,     0.22923,     0.23023,     0.23123,     0.23223,     0.23323,     0.23423,     0.23524,     0.23624,     0.23724,     0.23824,     0.23924,\n",
       "           0.24024,     0.24124,     0.24224,     0.24324,     0.24424,     0.24525,     0.24625,     0.24725,     0.24825,     0.24925,     0.25025,     0.25125,     0.25225,     0.25325,     0.25425,     0.25526,     0.25626,     0.25726,     0.25826,     0.25926,     0.26026,     0.26126,     0.26226,     0.26326,\n",
       "           0.26426,     0.26527,     0.26627,     0.26727,     0.26827,     0.26927,     0.27027,     0.27127,     0.27227,     0.27327,     0.27427,     0.27528,     0.27628,     0.27728,     0.27828,     0.27928,     0.28028,     0.28128,     0.28228,     0.28328,     0.28428,     0.28529,     0.28629,     0.28729,\n",
       "           0.28829,     0.28929,     0.29029,     0.29129,     0.29229,     0.29329,     0.29429,      0.2953,      0.2963,      0.2973,      0.2983,      0.2993,      0.3003,      0.3013,      0.3023,      0.3033,      0.3043,     0.30531,     0.30631,     0.30731,     0.30831,     0.30931,     0.31031,     0.31131,\n",
       "           0.31231,     0.31331,     0.31431,     0.31532,     0.31632,     0.31732,     0.31832,     0.31932,     0.32032,     0.32132,     0.32232,     0.32332,     0.32432,     0.32533,     0.32633,     0.32733,     0.32833,     0.32933,     0.33033,     0.33133,     0.33233,     0.33333,     0.33433,     0.33534,\n",
       "           0.33634,     0.33734,     0.33834,     0.33934,     0.34034,     0.34134,     0.34234,     0.34334,     0.34434,     0.34535,     0.34635,     0.34735,     0.34835,     0.34935,     0.35035,     0.35135,     0.35235,     0.35335,     0.35435,     0.35536,     0.35636,     0.35736,     0.35836,     0.35936,\n",
       "           0.36036,     0.36136,     0.36236,     0.36336,     0.36436,     0.36537,     0.36637,     0.36737,     0.36837,     0.36937,     0.37037,     0.37137,     0.37237,     0.37337,     0.37437,     0.37538,     0.37638,     0.37738,     0.37838,     0.37938,     0.38038,     0.38138,     0.38238,     0.38338,\n",
       "           0.38438,     0.38539,     0.38639,     0.38739,     0.38839,     0.38939,     0.39039,     0.39139,     0.39239,     0.39339,     0.39439,      0.3954,      0.3964,      0.3974,      0.3984,      0.3994,      0.4004,      0.4014,      0.4024,      0.4034,      0.4044,     0.40541,     0.40641,     0.40741,\n",
       "           0.40841,     0.40941,     0.41041,     0.41141,     0.41241,     0.41341,     0.41441,     0.41542,     0.41642,     0.41742,     0.41842,     0.41942,     0.42042,     0.42142,     0.42242,     0.42342,     0.42442,     0.42543,     0.42643,     0.42743,     0.42843,     0.42943,     0.43043,     0.43143,\n",
       "           0.43243,     0.43343,     0.43443,     0.43544,     0.43644,     0.43744,     0.43844,     0.43944,     0.44044,     0.44144,     0.44244,     0.44344,     0.44444,     0.44545,     0.44645,     0.44745,     0.44845,     0.44945,     0.45045,     0.45145,     0.45245,     0.45345,     0.45445,     0.45546,\n",
       "           0.45646,     0.45746,     0.45846,     0.45946,     0.46046,     0.46146,     0.46246,     0.46346,     0.46446,     0.46547,     0.46647,     0.46747,     0.46847,     0.46947,     0.47047,     0.47147,     0.47247,     0.47347,     0.47447,     0.47548,     0.47648,     0.47748,     0.47848,     0.47948,\n",
       "           0.48048,     0.48148,     0.48248,     0.48348,     0.48448,     0.48549,     0.48649,     0.48749,     0.48849,     0.48949,     0.49049,     0.49149,     0.49249,     0.49349,     0.49449,      0.4955,      0.4965,      0.4975,      0.4985,      0.4995,      0.5005,      0.5015,      0.5025,      0.5035,\n",
       "            0.5045,     0.50551,     0.50651,     0.50751,     0.50851,     0.50951,     0.51051,     0.51151,     0.51251,     0.51351,     0.51451,     0.51552,     0.51652,     0.51752,     0.51852,     0.51952,     0.52052,     0.52152,     0.52252,     0.52352,     0.52452,     0.52553,     0.52653,     0.52753,\n",
       "           0.52853,     0.52953,     0.53053,     0.53153,     0.53253,     0.53353,     0.53453,     0.53554,     0.53654,     0.53754,     0.53854,     0.53954,     0.54054,     0.54154,     0.54254,     0.54354,     0.54454,     0.54555,     0.54655,     0.54755,     0.54855,     0.54955,     0.55055,     0.55155,\n",
       "           0.55255,     0.55355,     0.55455,     0.55556,     0.55656,     0.55756,     0.55856,     0.55956,     0.56056,     0.56156,     0.56256,     0.56356,     0.56456,     0.56557,     0.56657,     0.56757,     0.56857,     0.56957,     0.57057,     0.57157,     0.57257,     0.57357,     0.57457,     0.57558,\n",
       "           0.57658,     0.57758,     0.57858,     0.57958,     0.58058,     0.58158,     0.58258,     0.58358,     0.58458,     0.58559,     0.58659,     0.58759,     0.58859,     0.58959,     0.59059,     0.59159,     0.59259,     0.59359,     0.59459,      0.5956,      0.5966,      0.5976,      0.5986,      0.5996,\n",
       "            0.6006,      0.6016,      0.6026,      0.6036,      0.6046,     0.60561,     0.60661,     0.60761,     0.60861,     0.60961,     0.61061,     0.61161,     0.61261,     0.61361,     0.61461,     0.61562,     0.61662,     0.61762,     0.61862,     0.61962,     0.62062,     0.62162,     0.62262,     0.62362,\n",
       "           0.62462,     0.62563,     0.62663,     0.62763,     0.62863,     0.62963,     0.63063,     0.63163,     0.63263,     0.63363,     0.63463,     0.63564,     0.63664,     0.63764,     0.63864,     0.63964,     0.64064,     0.64164,     0.64264,     0.64364,     0.64464,     0.64565,     0.64665,     0.64765,\n",
       "           0.64865,     0.64965,     0.65065,     0.65165,     0.65265,     0.65365,     0.65465,     0.65566,     0.65666,     0.65766,     0.65866,     0.65966,     0.66066,     0.66166,     0.66266,     0.66366,     0.66466,     0.66567,     0.66667,     0.66767,     0.66867,     0.66967,     0.67067,     0.67167,\n",
       "           0.67267,     0.67367,     0.67467,     0.67568,     0.67668,     0.67768,     0.67868,     0.67968,     0.68068,     0.68168,     0.68268,     0.68368,     0.68468,     0.68569,     0.68669,     0.68769,     0.68869,     0.68969,     0.69069,     0.69169,     0.69269,     0.69369,     0.69469,      0.6957,\n",
       "            0.6967,      0.6977,      0.6987,      0.6997,      0.7007,      0.7017,      0.7027,      0.7037,      0.7047,     0.70571,     0.70671,     0.70771,     0.70871,     0.70971,     0.71071,     0.71171,     0.71271,     0.71371,     0.71471,     0.71572,     0.71672,     0.71772,     0.71872,     0.71972,\n",
       "           0.72072,     0.72172,     0.72272,     0.72372,     0.72472,     0.72573,     0.72673,     0.72773,     0.72873,     0.72973,     0.73073,     0.73173,     0.73273,     0.73373,     0.73473,     0.73574,     0.73674,     0.73774,     0.73874,     0.73974,     0.74074,     0.74174,     0.74274,     0.74374,\n",
       "           0.74474,     0.74575,     0.74675,     0.74775,     0.74875,     0.74975,     0.75075,     0.75175,     0.75275,     0.75375,     0.75475,     0.75576,     0.75676,     0.75776,     0.75876,     0.75976,     0.76076,     0.76176,     0.76276,     0.76376,     0.76476,     0.76577,     0.76677,     0.76777,\n",
       "           0.76877,     0.76977,     0.77077,     0.77177,     0.77277,     0.77377,     0.77477,     0.77578,     0.77678,     0.77778,     0.77878,     0.77978,     0.78078,     0.78178,     0.78278,     0.78378,     0.78478,     0.78579,     0.78679,     0.78779,     0.78879,     0.78979,     0.79079,     0.79179,\n",
       "           0.79279,     0.79379,     0.79479,      0.7958,      0.7968,      0.7978,      0.7988,      0.7998,      0.8008,      0.8018,      0.8028,      0.8038,      0.8048,     0.80581,     0.80681,     0.80781,     0.80881,     0.80981,     0.81081,     0.81181,     0.81281,     0.81381,     0.81481,     0.81582,\n",
       "           0.81682,     0.81782,     0.81882,     0.81982,     0.82082,     0.82182,     0.82282,     0.82382,     0.82482,     0.82583,     0.82683,     0.82783,     0.82883,     0.82983,     0.83083,     0.83183,     0.83283,     0.83383,     0.83483,     0.83584,     0.83684,     0.83784,     0.83884,     0.83984,\n",
       "           0.84084,     0.84184,     0.84284,     0.84384,     0.84484,     0.84585,     0.84685,     0.84785,     0.84885,     0.84985,     0.85085,     0.85185,     0.85285,     0.85385,     0.85485,     0.85586,     0.85686,     0.85786,     0.85886,     0.85986,     0.86086,     0.86186,     0.86286,     0.86386,\n",
       "           0.86486,     0.86587,     0.86687,     0.86787,     0.86887,     0.86987,     0.87087,     0.87187,     0.87287,     0.87387,     0.87487,     0.87588,     0.87688,     0.87788,     0.87888,     0.87988,     0.88088,     0.88188,     0.88288,     0.88388,     0.88488,     0.88589,     0.88689,     0.88789,\n",
       "           0.88889,     0.88989,     0.89089,     0.89189,     0.89289,     0.89389,     0.89489,      0.8959,      0.8969,      0.8979,      0.8989,      0.8999,      0.9009,      0.9019,      0.9029,      0.9039,      0.9049,     0.90591,     0.90691,     0.90791,     0.90891,     0.90991,     0.91091,     0.91191,\n",
       "           0.91291,     0.91391,     0.91491,     0.91592,     0.91692,     0.91792,     0.91892,     0.91992,     0.92092,     0.92192,     0.92292,     0.92392,     0.92492,     0.92593,     0.92693,     0.92793,     0.92893,     0.92993,     0.93093,     0.93193,     0.93293,     0.93393,     0.93493,     0.93594,\n",
       "           0.93694,     0.93794,     0.93894,     0.93994,     0.94094,     0.94194,     0.94294,     0.94394,     0.94494,     0.94595,     0.94695,     0.94795,     0.94895,     0.94995,     0.95095,     0.95195,     0.95295,     0.95395,     0.95495,     0.95596,     0.95696,     0.95796,     0.95896,     0.95996,\n",
       "           0.96096,     0.96196,     0.96296,     0.96396,     0.96496,     0.96597,     0.96697,     0.96797,     0.96897,     0.96997,     0.97097,     0.97197,     0.97297,     0.97397,     0.97497,     0.97598,     0.97698,     0.97798,     0.97898,     0.97998,     0.98098,     0.98198,     0.98298,     0.98398,\n",
       "           0.98498,     0.98599,     0.98699,     0.98799,     0.98899,     0.98999,     0.99099,     0.99199,     0.99299,     0.99399,     0.99499,       0.996,       0.997,       0.998,       0.999,           1]), array([[  0.0030187,   0.0030187,     0.08435, ...,           1,           1,           1],\n",
       "       [  0.0042388,   0.0042388,    0.089119, ...,           1,           1,           1]]), 'Confidence', 'Precision'], [array([          0,    0.001001,    0.002002,    0.003003,    0.004004,    0.005005,    0.006006,    0.007007,    0.008008,    0.009009,     0.01001,    0.011011,    0.012012,    0.013013,    0.014014,    0.015015,    0.016016,    0.017017,    0.018018,    0.019019,     0.02002,    0.021021,    0.022022,    0.023023,\n",
       "          0.024024,    0.025025,    0.026026,    0.027027,    0.028028,    0.029029,     0.03003,    0.031031,    0.032032,    0.033033,    0.034034,    0.035035,    0.036036,    0.037037,    0.038038,    0.039039,     0.04004,    0.041041,    0.042042,    0.043043,    0.044044,    0.045045,    0.046046,    0.047047,\n",
       "          0.048048,    0.049049,     0.05005,    0.051051,    0.052052,    0.053053,    0.054054,    0.055055,    0.056056,    0.057057,    0.058058,    0.059059,     0.06006,    0.061061,    0.062062,    0.063063,    0.064064,    0.065065,    0.066066,    0.067067,    0.068068,    0.069069,     0.07007,    0.071071,\n",
       "          0.072072,    0.073073,    0.074074,    0.075075,    0.076076,    0.077077,    0.078078,    0.079079,     0.08008,    0.081081,    0.082082,    0.083083,    0.084084,    0.085085,    0.086086,    0.087087,    0.088088,    0.089089,     0.09009,    0.091091,    0.092092,    0.093093,    0.094094,    0.095095,\n",
       "          0.096096,    0.097097,    0.098098,    0.099099,      0.1001,      0.1011,      0.1021,      0.1031,      0.1041,     0.10511,     0.10611,     0.10711,     0.10811,     0.10911,     0.11011,     0.11111,     0.11211,     0.11311,     0.11411,     0.11512,     0.11612,     0.11712,     0.11812,     0.11912,\n",
       "           0.12012,     0.12112,     0.12212,     0.12312,     0.12412,     0.12513,     0.12613,     0.12713,     0.12813,     0.12913,     0.13013,     0.13113,     0.13213,     0.13313,     0.13413,     0.13514,     0.13614,     0.13714,     0.13814,     0.13914,     0.14014,     0.14114,     0.14214,     0.14314,\n",
       "           0.14414,     0.14515,     0.14615,     0.14715,     0.14815,     0.14915,     0.15015,     0.15115,     0.15215,     0.15315,     0.15415,     0.15516,     0.15616,     0.15716,     0.15816,     0.15916,     0.16016,     0.16116,     0.16216,     0.16316,     0.16416,     0.16517,     0.16617,     0.16717,\n",
       "           0.16817,     0.16917,     0.17017,     0.17117,     0.17217,     0.17317,     0.17417,     0.17518,     0.17618,     0.17718,     0.17818,     0.17918,     0.18018,     0.18118,     0.18218,     0.18318,     0.18418,     0.18519,     0.18619,     0.18719,     0.18819,     0.18919,     0.19019,     0.19119,\n",
       "           0.19219,     0.19319,     0.19419,      0.1952,      0.1962,      0.1972,      0.1982,      0.1992,      0.2002,      0.2012,      0.2022,      0.2032,      0.2042,     0.20521,     0.20621,     0.20721,     0.20821,     0.20921,     0.21021,     0.21121,     0.21221,     0.21321,     0.21421,     0.21522,\n",
       "           0.21622,     0.21722,     0.21822,     0.21922,     0.22022,     0.22122,     0.22222,     0.22322,     0.22422,     0.22523,     0.22623,     0.22723,     0.22823,     0.22923,     0.23023,     0.23123,     0.23223,     0.23323,     0.23423,     0.23524,     0.23624,     0.23724,     0.23824,     0.23924,\n",
       "           0.24024,     0.24124,     0.24224,     0.24324,     0.24424,     0.24525,     0.24625,     0.24725,     0.24825,     0.24925,     0.25025,     0.25125,     0.25225,     0.25325,     0.25425,     0.25526,     0.25626,     0.25726,     0.25826,     0.25926,     0.26026,     0.26126,     0.26226,     0.26326,\n",
       "           0.26426,     0.26527,     0.26627,     0.26727,     0.26827,     0.26927,     0.27027,     0.27127,     0.27227,     0.27327,     0.27427,     0.27528,     0.27628,     0.27728,     0.27828,     0.27928,     0.28028,     0.28128,     0.28228,     0.28328,     0.28428,     0.28529,     0.28629,     0.28729,\n",
       "           0.28829,     0.28929,     0.29029,     0.29129,     0.29229,     0.29329,     0.29429,      0.2953,      0.2963,      0.2973,      0.2983,      0.2993,      0.3003,      0.3013,      0.3023,      0.3033,      0.3043,     0.30531,     0.30631,     0.30731,     0.30831,     0.30931,     0.31031,     0.31131,\n",
       "           0.31231,     0.31331,     0.31431,     0.31532,     0.31632,     0.31732,     0.31832,     0.31932,     0.32032,     0.32132,     0.32232,     0.32332,     0.32432,     0.32533,     0.32633,     0.32733,     0.32833,     0.32933,     0.33033,     0.33133,     0.33233,     0.33333,     0.33433,     0.33534,\n",
       "           0.33634,     0.33734,     0.33834,     0.33934,     0.34034,     0.34134,     0.34234,     0.34334,     0.34434,     0.34535,     0.34635,     0.34735,     0.34835,     0.34935,     0.35035,     0.35135,     0.35235,     0.35335,     0.35435,     0.35536,     0.35636,     0.35736,     0.35836,     0.35936,\n",
       "           0.36036,     0.36136,     0.36236,     0.36336,     0.36436,     0.36537,     0.36637,     0.36737,     0.36837,     0.36937,     0.37037,     0.37137,     0.37237,     0.37337,     0.37437,     0.37538,     0.37638,     0.37738,     0.37838,     0.37938,     0.38038,     0.38138,     0.38238,     0.38338,\n",
       "           0.38438,     0.38539,     0.38639,     0.38739,     0.38839,     0.38939,     0.39039,     0.39139,     0.39239,     0.39339,     0.39439,      0.3954,      0.3964,      0.3974,      0.3984,      0.3994,      0.4004,      0.4014,      0.4024,      0.4034,      0.4044,     0.40541,     0.40641,     0.40741,\n",
       "           0.40841,     0.40941,     0.41041,     0.41141,     0.41241,     0.41341,     0.41441,     0.41542,     0.41642,     0.41742,     0.41842,     0.41942,     0.42042,     0.42142,     0.42242,     0.42342,     0.42442,     0.42543,     0.42643,     0.42743,     0.42843,     0.42943,     0.43043,     0.43143,\n",
       "           0.43243,     0.43343,     0.43443,     0.43544,     0.43644,     0.43744,     0.43844,     0.43944,     0.44044,     0.44144,     0.44244,     0.44344,     0.44444,     0.44545,     0.44645,     0.44745,     0.44845,     0.44945,     0.45045,     0.45145,     0.45245,     0.45345,     0.45445,     0.45546,\n",
       "           0.45646,     0.45746,     0.45846,     0.45946,     0.46046,     0.46146,     0.46246,     0.46346,     0.46446,     0.46547,     0.46647,     0.46747,     0.46847,     0.46947,     0.47047,     0.47147,     0.47247,     0.47347,     0.47447,     0.47548,     0.47648,     0.47748,     0.47848,     0.47948,\n",
       "           0.48048,     0.48148,     0.48248,     0.48348,     0.48448,     0.48549,     0.48649,     0.48749,     0.48849,     0.48949,     0.49049,     0.49149,     0.49249,     0.49349,     0.49449,      0.4955,      0.4965,      0.4975,      0.4985,      0.4995,      0.5005,      0.5015,      0.5025,      0.5035,\n",
       "            0.5045,     0.50551,     0.50651,     0.50751,     0.50851,     0.50951,     0.51051,     0.51151,     0.51251,     0.51351,     0.51451,     0.51552,     0.51652,     0.51752,     0.51852,     0.51952,     0.52052,     0.52152,     0.52252,     0.52352,     0.52452,     0.52553,     0.52653,     0.52753,\n",
       "           0.52853,     0.52953,     0.53053,     0.53153,     0.53253,     0.53353,     0.53453,     0.53554,     0.53654,     0.53754,     0.53854,     0.53954,     0.54054,     0.54154,     0.54254,     0.54354,     0.54454,     0.54555,     0.54655,     0.54755,     0.54855,     0.54955,     0.55055,     0.55155,\n",
       "           0.55255,     0.55355,     0.55455,     0.55556,     0.55656,     0.55756,     0.55856,     0.55956,     0.56056,     0.56156,     0.56256,     0.56356,     0.56456,     0.56557,     0.56657,     0.56757,     0.56857,     0.56957,     0.57057,     0.57157,     0.57257,     0.57357,     0.57457,     0.57558,\n",
       "           0.57658,     0.57758,     0.57858,     0.57958,     0.58058,     0.58158,     0.58258,     0.58358,     0.58458,     0.58559,     0.58659,     0.58759,     0.58859,     0.58959,     0.59059,     0.59159,     0.59259,     0.59359,     0.59459,      0.5956,      0.5966,      0.5976,      0.5986,      0.5996,\n",
       "            0.6006,      0.6016,      0.6026,      0.6036,      0.6046,     0.60561,     0.60661,     0.60761,     0.60861,     0.60961,     0.61061,     0.61161,     0.61261,     0.61361,     0.61461,     0.61562,     0.61662,     0.61762,     0.61862,     0.61962,     0.62062,     0.62162,     0.62262,     0.62362,\n",
       "           0.62462,     0.62563,     0.62663,     0.62763,     0.62863,     0.62963,     0.63063,     0.63163,     0.63263,     0.63363,     0.63463,     0.63564,     0.63664,     0.63764,     0.63864,     0.63964,     0.64064,     0.64164,     0.64264,     0.64364,     0.64464,     0.64565,     0.64665,     0.64765,\n",
       "           0.64865,     0.64965,     0.65065,     0.65165,     0.65265,     0.65365,     0.65465,     0.65566,     0.65666,     0.65766,     0.65866,     0.65966,     0.66066,     0.66166,     0.66266,     0.66366,     0.66466,     0.66567,     0.66667,     0.66767,     0.66867,     0.66967,     0.67067,     0.67167,\n",
       "           0.67267,     0.67367,     0.67467,     0.67568,     0.67668,     0.67768,     0.67868,     0.67968,     0.68068,     0.68168,     0.68268,     0.68368,     0.68468,     0.68569,     0.68669,     0.68769,     0.68869,     0.68969,     0.69069,     0.69169,     0.69269,     0.69369,     0.69469,      0.6957,\n",
       "            0.6967,      0.6977,      0.6987,      0.6997,      0.7007,      0.7017,      0.7027,      0.7037,      0.7047,     0.70571,     0.70671,     0.70771,     0.70871,     0.70971,     0.71071,     0.71171,     0.71271,     0.71371,     0.71471,     0.71572,     0.71672,     0.71772,     0.71872,     0.71972,\n",
       "           0.72072,     0.72172,     0.72272,     0.72372,     0.72472,     0.72573,     0.72673,     0.72773,     0.72873,     0.72973,     0.73073,     0.73173,     0.73273,     0.73373,     0.73473,     0.73574,     0.73674,     0.73774,     0.73874,     0.73974,     0.74074,     0.74174,     0.74274,     0.74374,\n",
       "           0.74474,     0.74575,     0.74675,     0.74775,     0.74875,     0.74975,     0.75075,     0.75175,     0.75275,     0.75375,     0.75475,     0.75576,     0.75676,     0.75776,     0.75876,     0.75976,     0.76076,     0.76176,     0.76276,     0.76376,     0.76476,     0.76577,     0.76677,     0.76777,\n",
       "           0.76877,     0.76977,     0.77077,     0.77177,     0.77277,     0.77377,     0.77477,     0.77578,     0.77678,     0.77778,     0.77878,     0.77978,     0.78078,     0.78178,     0.78278,     0.78378,     0.78478,     0.78579,     0.78679,     0.78779,     0.78879,     0.78979,     0.79079,     0.79179,\n",
       "           0.79279,     0.79379,     0.79479,      0.7958,      0.7968,      0.7978,      0.7988,      0.7998,      0.8008,      0.8018,      0.8028,      0.8038,      0.8048,     0.80581,     0.80681,     0.80781,     0.80881,     0.80981,     0.81081,     0.81181,     0.81281,     0.81381,     0.81481,     0.81582,\n",
       "           0.81682,     0.81782,     0.81882,     0.81982,     0.82082,     0.82182,     0.82282,     0.82382,     0.82482,     0.82583,     0.82683,     0.82783,     0.82883,     0.82983,     0.83083,     0.83183,     0.83283,     0.83383,     0.83483,     0.83584,     0.83684,     0.83784,     0.83884,     0.83984,\n",
       "           0.84084,     0.84184,     0.84284,     0.84384,     0.84484,     0.84585,     0.84685,     0.84785,     0.84885,     0.84985,     0.85085,     0.85185,     0.85285,     0.85385,     0.85485,     0.85586,     0.85686,     0.85786,     0.85886,     0.85986,     0.86086,     0.86186,     0.86286,     0.86386,\n",
       "           0.86486,     0.86587,     0.86687,     0.86787,     0.86887,     0.86987,     0.87087,     0.87187,     0.87287,     0.87387,     0.87487,     0.87588,     0.87688,     0.87788,     0.87888,     0.87988,     0.88088,     0.88188,     0.88288,     0.88388,     0.88488,     0.88589,     0.88689,     0.88789,\n",
       "           0.88889,     0.88989,     0.89089,     0.89189,     0.89289,     0.89389,     0.89489,      0.8959,      0.8969,      0.8979,      0.8989,      0.8999,      0.9009,      0.9019,      0.9029,      0.9039,      0.9049,     0.90591,     0.90691,     0.90791,     0.90891,     0.90991,     0.91091,     0.91191,\n",
       "           0.91291,     0.91391,     0.91491,     0.91592,     0.91692,     0.91792,     0.91892,     0.91992,     0.92092,     0.92192,     0.92292,     0.92392,     0.92492,     0.92593,     0.92693,     0.92793,     0.92893,     0.92993,     0.93093,     0.93193,     0.93293,     0.93393,     0.93493,     0.93594,\n",
       "           0.93694,     0.93794,     0.93894,     0.93994,     0.94094,     0.94194,     0.94294,     0.94394,     0.94494,     0.94595,     0.94695,     0.94795,     0.94895,     0.94995,     0.95095,     0.95195,     0.95295,     0.95395,     0.95495,     0.95596,     0.95696,     0.95796,     0.95896,     0.95996,\n",
       "           0.96096,     0.96196,     0.96296,     0.96396,     0.96496,     0.96597,     0.96697,     0.96797,     0.96897,     0.96997,     0.97097,     0.97197,     0.97297,     0.97397,     0.97497,     0.97598,     0.97698,     0.97798,     0.97898,     0.97998,     0.98098,     0.98198,     0.98298,     0.98398,\n",
       "           0.98498,     0.98599,     0.98699,     0.98799,     0.98899,     0.98999,     0.99099,     0.99199,     0.99299,     0.99399,     0.99499,       0.996,       0.997,       0.998,       0.999,           1]), array([[          1,           1,           1, ...,           0,           0,           0],\n",
       "       [          1,           1,           1, ...,           0,           0,           0]]), 'Confidence', 'Recall']]\n",
       "fitness: 0.3468270199549302\n",
       "keys: ['metrics/precision(B)', 'metrics/recall(B)', 'metrics/mAP50(B)', 'metrics/mAP50-95(B)']\n",
       "maps: array([     0.3908,     0.23065])\n",
       "names: {0: 'negative', 1: 'positive'}\n",
       "plot: True\n",
       "results_dict: {'metrics/precision(B)': 0.5873487330710074, 'metrics/recall(B)': 0.8240827054325497, 'metrics/mAP50(B)': 0.6717057451794681, 'metrics/mAP50-95(B)': 0.3107293838188704, 'fitness': 0.3468270199549302}\n",
       "save_dir: PosixPath('runs/detect/val/val_raytune')\n",
       "speed: {'preprocess': 1.1197878764225888, 'inference': 3.047791811136099, 'loss': 0.0010728836059570312, 'postprocess': 15.49368638258714}\n",
       "task: 'detect'"
      ]
     },
     "execution_count": 9,
     "metadata": {},
     "output_type": "execute_result"
    }
   ],
   "source": [
    "experiment_name = 'val'\n",
    "work_name = 'raytune' #이름수정주의\n",
    "train_dir = os.path.join('runs', experiment_name)\n",
    "\n",
    "if os.path.exists(train_dir):\n",
    "    shutil.rmtree(train_dir)\n",
    "\n",
    "train_model.val(name=os.path.join(experiment_name, f'{experiment_name}_{work_name}'), split=\"val\")"
   ]
  },
  {
   "cell_type": "code",
   "execution_count": 10,
   "metadata": {},
   "outputs": [
    {
     "name": "stdout",
     "output_type": "stream",
     "text": [
      "Ultralytics YOLOv8.2.70 🚀 Python-3.10.14 torch-2.1.0 CUDA:0 (NVIDIA GeForce RTX 3090, 24260MiB)\n"
     ]
    },
    {
     "name": "stderr",
     "output_type": "stream",
     "text": [
      "\u001b[34m\u001b[1mval: \u001b[0mScanning /home/under1/Detect/jeongui/sagittal/base/labels/test.cache... 70 images, 0 backgrounds, 0 corrupt: 100%|██████████| 70/70 [00:00<?, ?it/s]\n",
      "                 Class     Images  Instances      Box(P          R      mAP50  mAP50-95): 100%|██████████| 5/5 [00:03<00:00,  1.66it/s]\n"
     ]
    },
    {
     "name": "stdout",
     "output_type": "stream",
     "text": [
      "                   all         70         77      0.439      0.807      0.503      0.231\n",
      "              negative         35         39      0.492      0.692      0.487      0.239\n",
      "              positive         35         38      0.385      0.921      0.518      0.224\n",
      "Speed: 0.6ms preprocess, 4.3ms inference, 0.0ms loss, 13.3ms postprocess per image\n",
      "Results saved to \u001b[1mruns/detect/test/test_raytune\u001b[0m\n"
     ]
    },
    {
     "data": {
      "text/plain": [
       "ultralytics.utils.metrics.DetMetrics object with attributes:\n",
       "\n",
       "ap_class_index: array([0, 1])\n",
       "box: ultralytics.utils.metrics.Metric object\n",
       "confusion_matrix: <ultralytics.utils.metrics.ConfusionMatrix object at 0x7f19d428e410>\n",
       "curves: ['Precision-Recall(B)', 'F1-Confidence(B)', 'Precision-Confidence(B)', 'Recall-Confidence(B)']\n",
       "curves_results: [[array([          0,    0.001001,    0.002002,    0.003003,    0.004004,    0.005005,    0.006006,    0.007007,    0.008008,    0.009009,     0.01001,    0.011011,    0.012012,    0.013013,    0.014014,    0.015015,    0.016016,    0.017017,    0.018018,    0.019019,     0.02002,    0.021021,    0.022022,    0.023023,\n",
       "          0.024024,    0.025025,    0.026026,    0.027027,    0.028028,    0.029029,     0.03003,    0.031031,    0.032032,    0.033033,    0.034034,    0.035035,    0.036036,    0.037037,    0.038038,    0.039039,     0.04004,    0.041041,    0.042042,    0.043043,    0.044044,    0.045045,    0.046046,    0.047047,\n",
       "          0.048048,    0.049049,     0.05005,    0.051051,    0.052052,    0.053053,    0.054054,    0.055055,    0.056056,    0.057057,    0.058058,    0.059059,     0.06006,    0.061061,    0.062062,    0.063063,    0.064064,    0.065065,    0.066066,    0.067067,    0.068068,    0.069069,     0.07007,    0.071071,\n",
       "          0.072072,    0.073073,    0.074074,    0.075075,    0.076076,    0.077077,    0.078078,    0.079079,     0.08008,    0.081081,    0.082082,    0.083083,    0.084084,    0.085085,    0.086086,    0.087087,    0.088088,    0.089089,     0.09009,    0.091091,    0.092092,    0.093093,    0.094094,    0.095095,\n",
       "          0.096096,    0.097097,    0.098098,    0.099099,      0.1001,      0.1011,      0.1021,      0.1031,      0.1041,     0.10511,     0.10611,     0.10711,     0.10811,     0.10911,     0.11011,     0.11111,     0.11211,     0.11311,     0.11411,     0.11512,     0.11612,     0.11712,     0.11812,     0.11912,\n",
       "           0.12012,     0.12112,     0.12212,     0.12312,     0.12412,     0.12513,     0.12613,     0.12713,     0.12813,     0.12913,     0.13013,     0.13113,     0.13213,     0.13313,     0.13413,     0.13514,     0.13614,     0.13714,     0.13814,     0.13914,     0.14014,     0.14114,     0.14214,     0.14314,\n",
       "           0.14414,     0.14515,     0.14615,     0.14715,     0.14815,     0.14915,     0.15015,     0.15115,     0.15215,     0.15315,     0.15415,     0.15516,     0.15616,     0.15716,     0.15816,     0.15916,     0.16016,     0.16116,     0.16216,     0.16316,     0.16416,     0.16517,     0.16617,     0.16717,\n",
       "           0.16817,     0.16917,     0.17017,     0.17117,     0.17217,     0.17317,     0.17417,     0.17518,     0.17618,     0.17718,     0.17818,     0.17918,     0.18018,     0.18118,     0.18218,     0.18318,     0.18418,     0.18519,     0.18619,     0.18719,     0.18819,     0.18919,     0.19019,     0.19119,\n",
       "           0.19219,     0.19319,     0.19419,      0.1952,      0.1962,      0.1972,      0.1982,      0.1992,      0.2002,      0.2012,      0.2022,      0.2032,      0.2042,     0.20521,     0.20621,     0.20721,     0.20821,     0.20921,     0.21021,     0.21121,     0.21221,     0.21321,     0.21421,     0.21522,\n",
       "           0.21622,     0.21722,     0.21822,     0.21922,     0.22022,     0.22122,     0.22222,     0.22322,     0.22422,     0.22523,     0.22623,     0.22723,     0.22823,     0.22923,     0.23023,     0.23123,     0.23223,     0.23323,     0.23423,     0.23524,     0.23624,     0.23724,     0.23824,     0.23924,\n",
       "           0.24024,     0.24124,     0.24224,     0.24324,     0.24424,     0.24525,     0.24625,     0.24725,     0.24825,     0.24925,     0.25025,     0.25125,     0.25225,     0.25325,     0.25425,     0.25526,     0.25626,     0.25726,     0.25826,     0.25926,     0.26026,     0.26126,     0.26226,     0.26326,\n",
       "           0.26426,     0.26527,     0.26627,     0.26727,     0.26827,     0.26927,     0.27027,     0.27127,     0.27227,     0.27327,     0.27427,     0.27528,     0.27628,     0.27728,     0.27828,     0.27928,     0.28028,     0.28128,     0.28228,     0.28328,     0.28428,     0.28529,     0.28629,     0.28729,\n",
       "           0.28829,     0.28929,     0.29029,     0.29129,     0.29229,     0.29329,     0.29429,      0.2953,      0.2963,      0.2973,      0.2983,      0.2993,      0.3003,      0.3013,      0.3023,      0.3033,      0.3043,     0.30531,     0.30631,     0.30731,     0.30831,     0.30931,     0.31031,     0.31131,\n",
       "           0.31231,     0.31331,     0.31431,     0.31532,     0.31632,     0.31732,     0.31832,     0.31932,     0.32032,     0.32132,     0.32232,     0.32332,     0.32432,     0.32533,     0.32633,     0.32733,     0.32833,     0.32933,     0.33033,     0.33133,     0.33233,     0.33333,     0.33433,     0.33534,\n",
       "           0.33634,     0.33734,     0.33834,     0.33934,     0.34034,     0.34134,     0.34234,     0.34334,     0.34434,     0.34535,     0.34635,     0.34735,     0.34835,     0.34935,     0.35035,     0.35135,     0.35235,     0.35335,     0.35435,     0.35536,     0.35636,     0.35736,     0.35836,     0.35936,\n",
       "           0.36036,     0.36136,     0.36236,     0.36336,     0.36436,     0.36537,     0.36637,     0.36737,     0.36837,     0.36937,     0.37037,     0.37137,     0.37237,     0.37337,     0.37437,     0.37538,     0.37638,     0.37738,     0.37838,     0.37938,     0.38038,     0.38138,     0.38238,     0.38338,\n",
       "           0.38438,     0.38539,     0.38639,     0.38739,     0.38839,     0.38939,     0.39039,     0.39139,     0.39239,     0.39339,     0.39439,      0.3954,      0.3964,      0.3974,      0.3984,      0.3994,      0.4004,      0.4014,      0.4024,      0.4034,      0.4044,     0.40541,     0.40641,     0.40741,\n",
       "           0.40841,     0.40941,     0.41041,     0.41141,     0.41241,     0.41341,     0.41441,     0.41542,     0.41642,     0.41742,     0.41842,     0.41942,     0.42042,     0.42142,     0.42242,     0.42342,     0.42442,     0.42543,     0.42643,     0.42743,     0.42843,     0.42943,     0.43043,     0.43143,\n",
       "           0.43243,     0.43343,     0.43443,     0.43544,     0.43644,     0.43744,     0.43844,     0.43944,     0.44044,     0.44144,     0.44244,     0.44344,     0.44444,     0.44545,     0.44645,     0.44745,     0.44845,     0.44945,     0.45045,     0.45145,     0.45245,     0.45345,     0.45445,     0.45546,\n",
       "           0.45646,     0.45746,     0.45846,     0.45946,     0.46046,     0.46146,     0.46246,     0.46346,     0.46446,     0.46547,     0.46647,     0.46747,     0.46847,     0.46947,     0.47047,     0.47147,     0.47247,     0.47347,     0.47447,     0.47548,     0.47648,     0.47748,     0.47848,     0.47948,\n",
       "           0.48048,     0.48148,     0.48248,     0.48348,     0.48448,     0.48549,     0.48649,     0.48749,     0.48849,     0.48949,     0.49049,     0.49149,     0.49249,     0.49349,     0.49449,      0.4955,      0.4965,      0.4975,      0.4985,      0.4995,      0.5005,      0.5015,      0.5025,      0.5035,\n",
       "            0.5045,     0.50551,     0.50651,     0.50751,     0.50851,     0.50951,     0.51051,     0.51151,     0.51251,     0.51351,     0.51451,     0.51552,     0.51652,     0.51752,     0.51852,     0.51952,     0.52052,     0.52152,     0.52252,     0.52352,     0.52452,     0.52553,     0.52653,     0.52753,\n",
       "           0.52853,     0.52953,     0.53053,     0.53153,     0.53253,     0.53353,     0.53453,     0.53554,     0.53654,     0.53754,     0.53854,     0.53954,     0.54054,     0.54154,     0.54254,     0.54354,     0.54454,     0.54555,     0.54655,     0.54755,     0.54855,     0.54955,     0.55055,     0.55155,\n",
       "           0.55255,     0.55355,     0.55455,     0.55556,     0.55656,     0.55756,     0.55856,     0.55956,     0.56056,     0.56156,     0.56256,     0.56356,     0.56456,     0.56557,     0.56657,     0.56757,     0.56857,     0.56957,     0.57057,     0.57157,     0.57257,     0.57357,     0.57457,     0.57558,\n",
       "           0.57658,     0.57758,     0.57858,     0.57958,     0.58058,     0.58158,     0.58258,     0.58358,     0.58458,     0.58559,     0.58659,     0.58759,     0.58859,     0.58959,     0.59059,     0.59159,     0.59259,     0.59359,     0.59459,      0.5956,      0.5966,      0.5976,      0.5986,      0.5996,\n",
       "            0.6006,      0.6016,      0.6026,      0.6036,      0.6046,     0.60561,     0.60661,     0.60761,     0.60861,     0.60961,     0.61061,     0.61161,     0.61261,     0.61361,     0.61461,     0.61562,     0.61662,     0.61762,     0.61862,     0.61962,     0.62062,     0.62162,     0.62262,     0.62362,\n",
       "           0.62462,     0.62563,     0.62663,     0.62763,     0.62863,     0.62963,     0.63063,     0.63163,     0.63263,     0.63363,     0.63463,     0.63564,     0.63664,     0.63764,     0.63864,     0.63964,     0.64064,     0.64164,     0.64264,     0.64364,     0.64464,     0.64565,     0.64665,     0.64765,\n",
       "           0.64865,     0.64965,     0.65065,     0.65165,     0.65265,     0.65365,     0.65465,     0.65566,     0.65666,     0.65766,     0.65866,     0.65966,     0.66066,     0.66166,     0.66266,     0.66366,     0.66466,     0.66567,     0.66667,     0.66767,     0.66867,     0.66967,     0.67067,     0.67167,\n",
       "           0.67267,     0.67367,     0.67467,     0.67568,     0.67668,     0.67768,     0.67868,     0.67968,     0.68068,     0.68168,     0.68268,     0.68368,     0.68468,     0.68569,     0.68669,     0.68769,     0.68869,     0.68969,     0.69069,     0.69169,     0.69269,     0.69369,     0.69469,      0.6957,\n",
       "            0.6967,      0.6977,      0.6987,      0.6997,      0.7007,      0.7017,      0.7027,      0.7037,      0.7047,     0.70571,     0.70671,     0.70771,     0.70871,     0.70971,     0.71071,     0.71171,     0.71271,     0.71371,     0.71471,     0.71572,     0.71672,     0.71772,     0.71872,     0.71972,\n",
       "           0.72072,     0.72172,     0.72272,     0.72372,     0.72472,     0.72573,     0.72673,     0.72773,     0.72873,     0.72973,     0.73073,     0.73173,     0.73273,     0.73373,     0.73473,     0.73574,     0.73674,     0.73774,     0.73874,     0.73974,     0.74074,     0.74174,     0.74274,     0.74374,\n",
       "           0.74474,     0.74575,     0.74675,     0.74775,     0.74875,     0.74975,     0.75075,     0.75175,     0.75275,     0.75375,     0.75475,     0.75576,     0.75676,     0.75776,     0.75876,     0.75976,     0.76076,     0.76176,     0.76276,     0.76376,     0.76476,     0.76577,     0.76677,     0.76777,\n",
       "           0.76877,     0.76977,     0.77077,     0.77177,     0.77277,     0.77377,     0.77477,     0.77578,     0.77678,     0.77778,     0.77878,     0.77978,     0.78078,     0.78178,     0.78278,     0.78378,     0.78478,     0.78579,     0.78679,     0.78779,     0.78879,     0.78979,     0.79079,     0.79179,\n",
       "           0.79279,     0.79379,     0.79479,      0.7958,      0.7968,      0.7978,      0.7988,      0.7998,      0.8008,      0.8018,      0.8028,      0.8038,      0.8048,     0.80581,     0.80681,     0.80781,     0.80881,     0.80981,     0.81081,     0.81181,     0.81281,     0.81381,     0.81481,     0.81582,\n",
       "           0.81682,     0.81782,     0.81882,     0.81982,     0.82082,     0.82182,     0.82282,     0.82382,     0.82482,     0.82583,     0.82683,     0.82783,     0.82883,     0.82983,     0.83083,     0.83183,     0.83283,     0.83383,     0.83483,     0.83584,     0.83684,     0.83784,     0.83884,     0.83984,\n",
       "           0.84084,     0.84184,     0.84284,     0.84384,     0.84484,     0.84585,     0.84685,     0.84785,     0.84885,     0.84985,     0.85085,     0.85185,     0.85285,     0.85385,     0.85485,     0.85586,     0.85686,     0.85786,     0.85886,     0.85986,     0.86086,     0.86186,     0.86286,     0.86386,\n",
       "           0.86486,     0.86587,     0.86687,     0.86787,     0.86887,     0.86987,     0.87087,     0.87187,     0.87287,     0.87387,     0.87487,     0.87588,     0.87688,     0.87788,     0.87888,     0.87988,     0.88088,     0.88188,     0.88288,     0.88388,     0.88488,     0.88589,     0.88689,     0.88789,\n",
       "           0.88889,     0.88989,     0.89089,     0.89189,     0.89289,     0.89389,     0.89489,      0.8959,      0.8969,      0.8979,      0.8989,      0.8999,      0.9009,      0.9019,      0.9029,      0.9039,      0.9049,     0.90591,     0.90691,     0.90791,     0.90891,     0.90991,     0.91091,     0.91191,\n",
       "           0.91291,     0.91391,     0.91491,     0.91592,     0.91692,     0.91792,     0.91892,     0.91992,     0.92092,     0.92192,     0.92292,     0.92392,     0.92492,     0.92593,     0.92693,     0.92793,     0.92893,     0.92993,     0.93093,     0.93193,     0.93293,     0.93393,     0.93493,     0.93594,\n",
       "           0.93694,     0.93794,     0.93894,     0.93994,     0.94094,     0.94194,     0.94294,     0.94394,     0.94494,     0.94595,     0.94695,     0.94795,     0.94895,     0.94995,     0.95095,     0.95195,     0.95295,     0.95395,     0.95495,     0.95596,     0.95696,     0.95796,     0.95896,     0.95996,\n",
       "           0.96096,     0.96196,     0.96296,     0.96396,     0.96496,     0.96597,     0.96697,     0.96797,     0.96897,     0.96997,     0.97097,     0.97197,     0.97297,     0.97397,     0.97497,     0.97598,     0.97698,     0.97798,     0.97898,     0.97998,     0.98098,     0.98198,     0.98298,     0.98398,\n",
       "           0.98498,     0.98599,     0.98699,     0.98799,     0.98899,     0.98999,     0.99099,     0.99199,     0.99299,     0.99399,     0.99499,       0.996,       0.997,       0.998,       0.999,           1]), array([[       0.75,        0.75,        0.75, ...,  0.00022226,  0.00011113,           0],\n",
       "       [          1,           1,           1, ...,    0.025232,    0.025232,           0]]), 'Recall', 'Precision'], [array([          0,    0.001001,    0.002002,    0.003003,    0.004004,    0.005005,    0.006006,    0.007007,    0.008008,    0.009009,     0.01001,    0.011011,    0.012012,    0.013013,    0.014014,    0.015015,    0.016016,    0.017017,    0.018018,    0.019019,     0.02002,    0.021021,    0.022022,    0.023023,\n",
       "          0.024024,    0.025025,    0.026026,    0.027027,    0.028028,    0.029029,     0.03003,    0.031031,    0.032032,    0.033033,    0.034034,    0.035035,    0.036036,    0.037037,    0.038038,    0.039039,     0.04004,    0.041041,    0.042042,    0.043043,    0.044044,    0.045045,    0.046046,    0.047047,\n",
       "          0.048048,    0.049049,     0.05005,    0.051051,    0.052052,    0.053053,    0.054054,    0.055055,    0.056056,    0.057057,    0.058058,    0.059059,     0.06006,    0.061061,    0.062062,    0.063063,    0.064064,    0.065065,    0.066066,    0.067067,    0.068068,    0.069069,     0.07007,    0.071071,\n",
       "          0.072072,    0.073073,    0.074074,    0.075075,    0.076076,    0.077077,    0.078078,    0.079079,     0.08008,    0.081081,    0.082082,    0.083083,    0.084084,    0.085085,    0.086086,    0.087087,    0.088088,    0.089089,     0.09009,    0.091091,    0.092092,    0.093093,    0.094094,    0.095095,\n",
       "          0.096096,    0.097097,    0.098098,    0.099099,      0.1001,      0.1011,      0.1021,      0.1031,      0.1041,     0.10511,     0.10611,     0.10711,     0.10811,     0.10911,     0.11011,     0.11111,     0.11211,     0.11311,     0.11411,     0.11512,     0.11612,     0.11712,     0.11812,     0.11912,\n",
       "           0.12012,     0.12112,     0.12212,     0.12312,     0.12412,     0.12513,     0.12613,     0.12713,     0.12813,     0.12913,     0.13013,     0.13113,     0.13213,     0.13313,     0.13413,     0.13514,     0.13614,     0.13714,     0.13814,     0.13914,     0.14014,     0.14114,     0.14214,     0.14314,\n",
       "           0.14414,     0.14515,     0.14615,     0.14715,     0.14815,     0.14915,     0.15015,     0.15115,     0.15215,     0.15315,     0.15415,     0.15516,     0.15616,     0.15716,     0.15816,     0.15916,     0.16016,     0.16116,     0.16216,     0.16316,     0.16416,     0.16517,     0.16617,     0.16717,\n",
       "           0.16817,     0.16917,     0.17017,     0.17117,     0.17217,     0.17317,     0.17417,     0.17518,     0.17618,     0.17718,     0.17818,     0.17918,     0.18018,     0.18118,     0.18218,     0.18318,     0.18418,     0.18519,     0.18619,     0.18719,     0.18819,     0.18919,     0.19019,     0.19119,\n",
       "           0.19219,     0.19319,     0.19419,      0.1952,      0.1962,      0.1972,      0.1982,      0.1992,      0.2002,      0.2012,      0.2022,      0.2032,      0.2042,     0.20521,     0.20621,     0.20721,     0.20821,     0.20921,     0.21021,     0.21121,     0.21221,     0.21321,     0.21421,     0.21522,\n",
       "           0.21622,     0.21722,     0.21822,     0.21922,     0.22022,     0.22122,     0.22222,     0.22322,     0.22422,     0.22523,     0.22623,     0.22723,     0.22823,     0.22923,     0.23023,     0.23123,     0.23223,     0.23323,     0.23423,     0.23524,     0.23624,     0.23724,     0.23824,     0.23924,\n",
       "           0.24024,     0.24124,     0.24224,     0.24324,     0.24424,     0.24525,     0.24625,     0.24725,     0.24825,     0.24925,     0.25025,     0.25125,     0.25225,     0.25325,     0.25425,     0.25526,     0.25626,     0.25726,     0.25826,     0.25926,     0.26026,     0.26126,     0.26226,     0.26326,\n",
       "           0.26426,     0.26527,     0.26627,     0.26727,     0.26827,     0.26927,     0.27027,     0.27127,     0.27227,     0.27327,     0.27427,     0.27528,     0.27628,     0.27728,     0.27828,     0.27928,     0.28028,     0.28128,     0.28228,     0.28328,     0.28428,     0.28529,     0.28629,     0.28729,\n",
       "           0.28829,     0.28929,     0.29029,     0.29129,     0.29229,     0.29329,     0.29429,      0.2953,      0.2963,      0.2973,      0.2983,      0.2993,      0.3003,      0.3013,      0.3023,      0.3033,      0.3043,     0.30531,     0.30631,     0.30731,     0.30831,     0.30931,     0.31031,     0.31131,\n",
       "           0.31231,     0.31331,     0.31431,     0.31532,     0.31632,     0.31732,     0.31832,     0.31932,     0.32032,     0.32132,     0.32232,     0.32332,     0.32432,     0.32533,     0.32633,     0.32733,     0.32833,     0.32933,     0.33033,     0.33133,     0.33233,     0.33333,     0.33433,     0.33534,\n",
       "           0.33634,     0.33734,     0.33834,     0.33934,     0.34034,     0.34134,     0.34234,     0.34334,     0.34434,     0.34535,     0.34635,     0.34735,     0.34835,     0.34935,     0.35035,     0.35135,     0.35235,     0.35335,     0.35435,     0.35536,     0.35636,     0.35736,     0.35836,     0.35936,\n",
       "           0.36036,     0.36136,     0.36236,     0.36336,     0.36436,     0.36537,     0.36637,     0.36737,     0.36837,     0.36937,     0.37037,     0.37137,     0.37237,     0.37337,     0.37437,     0.37538,     0.37638,     0.37738,     0.37838,     0.37938,     0.38038,     0.38138,     0.38238,     0.38338,\n",
       "           0.38438,     0.38539,     0.38639,     0.38739,     0.38839,     0.38939,     0.39039,     0.39139,     0.39239,     0.39339,     0.39439,      0.3954,      0.3964,      0.3974,      0.3984,      0.3994,      0.4004,      0.4014,      0.4024,      0.4034,      0.4044,     0.40541,     0.40641,     0.40741,\n",
       "           0.40841,     0.40941,     0.41041,     0.41141,     0.41241,     0.41341,     0.41441,     0.41542,     0.41642,     0.41742,     0.41842,     0.41942,     0.42042,     0.42142,     0.42242,     0.42342,     0.42442,     0.42543,     0.42643,     0.42743,     0.42843,     0.42943,     0.43043,     0.43143,\n",
       "           0.43243,     0.43343,     0.43443,     0.43544,     0.43644,     0.43744,     0.43844,     0.43944,     0.44044,     0.44144,     0.44244,     0.44344,     0.44444,     0.44545,     0.44645,     0.44745,     0.44845,     0.44945,     0.45045,     0.45145,     0.45245,     0.45345,     0.45445,     0.45546,\n",
       "           0.45646,     0.45746,     0.45846,     0.45946,     0.46046,     0.46146,     0.46246,     0.46346,     0.46446,     0.46547,     0.46647,     0.46747,     0.46847,     0.46947,     0.47047,     0.47147,     0.47247,     0.47347,     0.47447,     0.47548,     0.47648,     0.47748,     0.47848,     0.47948,\n",
       "           0.48048,     0.48148,     0.48248,     0.48348,     0.48448,     0.48549,     0.48649,     0.48749,     0.48849,     0.48949,     0.49049,     0.49149,     0.49249,     0.49349,     0.49449,      0.4955,      0.4965,      0.4975,      0.4985,      0.4995,      0.5005,      0.5015,      0.5025,      0.5035,\n",
       "            0.5045,     0.50551,     0.50651,     0.50751,     0.50851,     0.50951,     0.51051,     0.51151,     0.51251,     0.51351,     0.51451,     0.51552,     0.51652,     0.51752,     0.51852,     0.51952,     0.52052,     0.52152,     0.52252,     0.52352,     0.52452,     0.52553,     0.52653,     0.52753,\n",
       "           0.52853,     0.52953,     0.53053,     0.53153,     0.53253,     0.53353,     0.53453,     0.53554,     0.53654,     0.53754,     0.53854,     0.53954,     0.54054,     0.54154,     0.54254,     0.54354,     0.54454,     0.54555,     0.54655,     0.54755,     0.54855,     0.54955,     0.55055,     0.55155,\n",
       "           0.55255,     0.55355,     0.55455,     0.55556,     0.55656,     0.55756,     0.55856,     0.55956,     0.56056,     0.56156,     0.56256,     0.56356,     0.56456,     0.56557,     0.56657,     0.56757,     0.56857,     0.56957,     0.57057,     0.57157,     0.57257,     0.57357,     0.57457,     0.57558,\n",
       "           0.57658,     0.57758,     0.57858,     0.57958,     0.58058,     0.58158,     0.58258,     0.58358,     0.58458,     0.58559,     0.58659,     0.58759,     0.58859,     0.58959,     0.59059,     0.59159,     0.59259,     0.59359,     0.59459,      0.5956,      0.5966,      0.5976,      0.5986,      0.5996,\n",
       "            0.6006,      0.6016,      0.6026,      0.6036,      0.6046,     0.60561,     0.60661,     0.60761,     0.60861,     0.60961,     0.61061,     0.61161,     0.61261,     0.61361,     0.61461,     0.61562,     0.61662,     0.61762,     0.61862,     0.61962,     0.62062,     0.62162,     0.62262,     0.62362,\n",
       "           0.62462,     0.62563,     0.62663,     0.62763,     0.62863,     0.62963,     0.63063,     0.63163,     0.63263,     0.63363,     0.63463,     0.63564,     0.63664,     0.63764,     0.63864,     0.63964,     0.64064,     0.64164,     0.64264,     0.64364,     0.64464,     0.64565,     0.64665,     0.64765,\n",
       "           0.64865,     0.64965,     0.65065,     0.65165,     0.65265,     0.65365,     0.65465,     0.65566,     0.65666,     0.65766,     0.65866,     0.65966,     0.66066,     0.66166,     0.66266,     0.66366,     0.66466,     0.66567,     0.66667,     0.66767,     0.66867,     0.66967,     0.67067,     0.67167,\n",
       "           0.67267,     0.67367,     0.67467,     0.67568,     0.67668,     0.67768,     0.67868,     0.67968,     0.68068,     0.68168,     0.68268,     0.68368,     0.68468,     0.68569,     0.68669,     0.68769,     0.68869,     0.68969,     0.69069,     0.69169,     0.69269,     0.69369,     0.69469,      0.6957,\n",
       "            0.6967,      0.6977,      0.6987,      0.6997,      0.7007,      0.7017,      0.7027,      0.7037,      0.7047,     0.70571,     0.70671,     0.70771,     0.70871,     0.70971,     0.71071,     0.71171,     0.71271,     0.71371,     0.71471,     0.71572,     0.71672,     0.71772,     0.71872,     0.71972,\n",
       "           0.72072,     0.72172,     0.72272,     0.72372,     0.72472,     0.72573,     0.72673,     0.72773,     0.72873,     0.72973,     0.73073,     0.73173,     0.73273,     0.73373,     0.73473,     0.73574,     0.73674,     0.73774,     0.73874,     0.73974,     0.74074,     0.74174,     0.74274,     0.74374,\n",
       "           0.74474,     0.74575,     0.74675,     0.74775,     0.74875,     0.74975,     0.75075,     0.75175,     0.75275,     0.75375,     0.75475,     0.75576,     0.75676,     0.75776,     0.75876,     0.75976,     0.76076,     0.76176,     0.76276,     0.76376,     0.76476,     0.76577,     0.76677,     0.76777,\n",
       "           0.76877,     0.76977,     0.77077,     0.77177,     0.77277,     0.77377,     0.77477,     0.77578,     0.77678,     0.77778,     0.77878,     0.77978,     0.78078,     0.78178,     0.78278,     0.78378,     0.78478,     0.78579,     0.78679,     0.78779,     0.78879,     0.78979,     0.79079,     0.79179,\n",
       "           0.79279,     0.79379,     0.79479,      0.7958,      0.7968,      0.7978,      0.7988,      0.7998,      0.8008,      0.8018,      0.8028,      0.8038,      0.8048,     0.80581,     0.80681,     0.80781,     0.80881,     0.80981,     0.81081,     0.81181,     0.81281,     0.81381,     0.81481,     0.81582,\n",
       "           0.81682,     0.81782,     0.81882,     0.81982,     0.82082,     0.82182,     0.82282,     0.82382,     0.82482,     0.82583,     0.82683,     0.82783,     0.82883,     0.82983,     0.83083,     0.83183,     0.83283,     0.83383,     0.83483,     0.83584,     0.83684,     0.83784,     0.83884,     0.83984,\n",
       "           0.84084,     0.84184,     0.84284,     0.84384,     0.84484,     0.84585,     0.84685,     0.84785,     0.84885,     0.84985,     0.85085,     0.85185,     0.85285,     0.85385,     0.85485,     0.85586,     0.85686,     0.85786,     0.85886,     0.85986,     0.86086,     0.86186,     0.86286,     0.86386,\n",
       "           0.86486,     0.86587,     0.86687,     0.86787,     0.86887,     0.86987,     0.87087,     0.87187,     0.87287,     0.87387,     0.87487,     0.87588,     0.87688,     0.87788,     0.87888,     0.87988,     0.88088,     0.88188,     0.88288,     0.88388,     0.88488,     0.88589,     0.88689,     0.88789,\n",
       "           0.88889,     0.88989,     0.89089,     0.89189,     0.89289,     0.89389,     0.89489,      0.8959,      0.8969,      0.8979,      0.8989,      0.8999,      0.9009,      0.9019,      0.9029,      0.9039,      0.9049,     0.90591,     0.90691,     0.90791,     0.90891,     0.90991,     0.91091,     0.91191,\n",
       "           0.91291,     0.91391,     0.91491,     0.91592,     0.91692,     0.91792,     0.91892,     0.91992,     0.92092,     0.92192,     0.92292,     0.92392,     0.92492,     0.92593,     0.92693,     0.92793,     0.92893,     0.92993,     0.93093,     0.93193,     0.93293,     0.93393,     0.93493,     0.93594,\n",
       "           0.93694,     0.93794,     0.93894,     0.93994,     0.94094,     0.94194,     0.94294,     0.94394,     0.94494,     0.94595,     0.94695,     0.94795,     0.94895,     0.94995,     0.95095,     0.95195,     0.95295,     0.95395,     0.95495,     0.95596,     0.95696,     0.95796,     0.95896,     0.95996,\n",
       "           0.96096,     0.96196,     0.96296,     0.96396,     0.96496,     0.96597,     0.96697,     0.96797,     0.96897,     0.96997,     0.97097,     0.97197,     0.97297,     0.97397,     0.97497,     0.97598,     0.97698,     0.97798,     0.97898,     0.97998,     0.98098,     0.98198,     0.98298,     0.98398,\n",
       "           0.98498,     0.98599,     0.98699,     0.98799,     0.98899,     0.98999,     0.99099,     0.99199,     0.99299,     0.99399,     0.99499,       0.996,       0.997,       0.998,       0.999,           1]), array([[  0.0056767,   0.0056767,     0.15675, ...,           0,           0,           0],\n",
       "       [  0.0098843,   0.0098843,     0.13804, ...,           0,           0,           0]]), 'Confidence', 'F1'], [array([          0,    0.001001,    0.002002,    0.003003,    0.004004,    0.005005,    0.006006,    0.007007,    0.008008,    0.009009,     0.01001,    0.011011,    0.012012,    0.013013,    0.014014,    0.015015,    0.016016,    0.017017,    0.018018,    0.019019,     0.02002,    0.021021,    0.022022,    0.023023,\n",
       "          0.024024,    0.025025,    0.026026,    0.027027,    0.028028,    0.029029,     0.03003,    0.031031,    0.032032,    0.033033,    0.034034,    0.035035,    0.036036,    0.037037,    0.038038,    0.039039,     0.04004,    0.041041,    0.042042,    0.043043,    0.044044,    0.045045,    0.046046,    0.047047,\n",
       "          0.048048,    0.049049,     0.05005,    0.051051,    0.052052,    0.053053,    0.054054,    0.055055,    0.056056,    0.057057,    0.058058,    0.059059,     0.06006,    0.061061,    0.062062,    0.063063,    0.064064,    0.065065,    0.066066,    0.067067,    0.068068,    0.069069,     0.07007,    0.071071,\n",
       "          0.072072,    0.073073,    0.074074,    0.075075,    0.076076,    0.077077,    0.078078,    0.079079,     0.08008,    0.081081,    0.082082,    0.083083,    0.084084,    0.085085,    0.086086,    0.087087,    0.088088,    0.089089,     0.09009,    0.091091,    0.092092,    0.093093,    0.094094,    0.095095,\n",
       "          0.096096,    0.097097,    0.098098,    0.099099,      0.1001,      0.1011,      0.1021,      0.1031,      0.1041,     0.10511,     0.10611,     0.10711,     0.10811,     0.10911,     0.11011,     0.11111,     0.11211,     0.11311,     0.11411,     0.11512,     0.11612,     0.11712,     0.11812,     0.11912,\n",
       "           0.12012,     0.12112,     0.12212,     0.12312,     0.12412,     0.12513,     0.12613,     0.12713,     0.12813,     0.12913,     0.13013,     0.13113,     0.13213,     0.13313,     0.13413,     0.13514,     0.13614,     0.13714,     0.13814,     0.13914,     0.14014,     0.14114,     0.14214,     0.14314,\n",
       "           0.14414,     0.14515,     0.14615,     0.14715,     0.14815,     0.14915,     0.15015,     0.15115,     0.15215,     0.15315,     0.15415,     0.15516,     0.15616,     0.15716,     0.15816,     0.15916,     0.16016,     0.16116,     0.16216,     0.16316,     0.16416,     0.16517,     0.16617,     0.16717,\n",
       "           0.16817,     0.16917,     0.17017,     0.17117,     0.17217,     0.17317,     0.17417,     0.17518,     0.17618,     0.17718,     0.17818,     0.17918,     0.18018,     0.18118,     0.18218,     0.18318,     0.18418,     0.18519,     0.18619,     0.18719,     0.18819,     0.18919,     0.19019,     0.19119,\n",
       "           0.19219,     0.19319,     0.19419,      0.1952,      0.1962,      0.1972,      0.1982,      0.1992,      0.2002,      0.2012,      0.2022,      0.2032,      0.2042,     0.20521,     0.20621,     0.20721,     0.20821,     0.20921,     0.21021,     0.21121,     0.21221,     0.21321,     0.21421,     0.21522,\n",
       "           0.21622,     0.21722,     0.21822,     0.21922,     0.22022,     0.22122,     0.22222,     0.22322,     0.22422,     0.22523,     0.22623,     0.22723,     0.22823,     0.22923,     0.23023,     0.23123,     0.23223,     0.23323,     0.23423,     0.23524,     0.23624,     0.23724,     0.23824,     0.23924,\n",
       "           0.24024,     0.24124,     0.24224,     0.24324,     0.24424,     0.24525,     0.24625,     0.24725,     0.24825,     0.24925,     0.25025,     0.25125,     0.25225,     0.25325,     0.25425,     0.25526,     0.25626,     0.25726,     0.25826,     0.25926,     0.26026,     0.26126,     0.26226,     0.26326,\n",
       "           0.26426,     0.26527,     0.26627,     0.26727,     0.26827,     0.26927,     0.27027,     0.27127,     0.27227,     0.27327,     0.27427,     0.27528,     0.27628,     0.27728,     0.27828,     0.27928,     0.28028,     0.28128,     0.28228,     0.28328,     0.28428,     0.28529,     0.28629,     0.28729,\n",
       "           0.28829,     0.28929,     0.29029,     0.29129,     0.29229,     0.29329,     0.29429,      0.2953,      0.2963,      0.2973,      0.2983,      0.2993,      0.3003,      0.3013,      0.3023,      0.3033,      0.3043,     0.30531,     0.30631,     0.30731,     0.30831,     0.30931,     0.31031,     0.31131,\n",
       "           0.31231,     0.31331,     0.31431,     0.31532,     0.31632,     0.31732,     0.31832,     0.31932,     0.32032,     0.32132,     0.32232,     0.32332,     0.32432,     0.32533,     0.32633,     0.32733,     0.32833,     0.32933,     0.33033,     0.33133,     0.33233,     0.33333,     0.33433,     0.33534,\n",
       "           0.33634,     0.33734,     0.33834,     0.33934,     0.34034,     0.34134,     0.34234,     0.34334,     0.34434,     0.34535,     0.34635,     0.34735,     0.34835,     0.34935,     0.35035,     0.35135,     0.35235,     0.35335,     0.35435,     0.35536,     0.35636,     0.35736,     0.35836,     0.35936,\n",
       "           0.36036,     0.36136,     0.36236,     0.36336,     0.36436,     0.36537,     0.36637,     0.36737,     0.36837,     0.36937,     0.37037,     0.37137,     0.37237,     0.37337,     0.37437,     0.37538,     0.37638,     0.37738,     0.37838,     0.37938,     0.38038,     0.38138,     0.38238,     0.38338,\n",
       "           0.38438,     0.38539,     0.38639,     0.38739,     0.38839,     0.38939,     0.39039,     0.39139,     0.39239,     0.39339,     0.39439,      0.3954,      0.3964,      0.3974,      0.3984,      0.3994,      0.4004,      0.4014,      0.4024,      0.4034,      0.4044,     0.40541,     0.40641,     0.40741,\n",
       "           0.40841,     0.40941,     0.41041,     0.41141,     0.41241,     0.41341,     0.41441,     0.41542,     0.41642,     0.41742,     0.41842,     0.41942,     0.42042,     0.42142,     0.42242,     0.42342,     0.42442,     0.42543,     0.42643,     0.42743,     0.42843,     0.42943,     0.43043,     0.43143,\n",
       "           0.43243,     0.43343,     0.43443,     0.43544,     0.43644,     0.43744,     0.43844,     0.43944,     0.44044,     0.44144,     0.44244,     0.44344,     0.44444,     0.44545,     0.44645,     0.44745,     0.44845,     0.44945,     0.45045,     0.45145,     0.45245,     0.45345,     0.45445,     0.45546,\n",
       "           0.45646,     0.45746,     0.45846,     0.45946,     0.46046,     0.46146,     0.46246,     0.46346,     0.46446,     0.46547,     0.46647,     0.46747,     0.46847,     0.46947,     0.47047,     0.47147,     0.47247,     0.47347,     0.47447,     0.47548,     0.47648,     0.47748,     0.47848,     0.47948,\n",
       "           0.48048,     0.48148,     0.48248,     0.48348,     0.48448,     0.48549,     0.48649,     0.48749,     0.48849,     0.48949,     0.49049,     0.49149,     0.49249,     0.49349,     0.49449,      0.4955,      0.4965,      0.4975,      0.4985,      0.4995,      0.5005,      0.5015,      0.5025,      0.5035,\n",
       "            0.5045,     0.50551,     0.50651,     0.50751,     0.50851,     0.50951,     0.51051,     0.51151,     0.51251,     0.51351,     0.51451,     0.51552,     0.51652,     0.51752,     0.51852,     0.51952,     0.52052,     0.52152,     0.52252,     0.52352,     0.52452,     0.52553,     0.52653,     0.52753,\n",
       "           0.52853,     0.52953,     0.53053,     0.53153,     0.53253,     0.53353,     0.53453,     0.53554,     0.53654,     0.53754,     0.53854,     0.53954,     0.54054,     0.54154,     0.54254,     0.54354,     0.54454,     0.54555,     0.54655,     0.54755,     0.54855,     0.54955,     0.55055,     0.55155,\n",
       "           0.55255,     0.55355,     0.55455,     0.55556,     0.55656,     0.55756,     0.55856,     0.55956,     0.56056,     0.56156,     0.56256,     0.56356,     0.56456,     0.56557,     0.56657,     0.56757,     0.56857,     0.56957,     0.57057,     0.57157,     0.57257,     0.57357,     0.57457,     0.57558,\n",
       "           0.57658,     0.57758,     0.57858,     0.57958,     0.58058,     0.58158,     0.58258,     0.58358,     0.58458,     0.58559,     0.58659,     0.58759,     0.58859,     0.58959,     0.59059,     0.59159,     0.59259,     0.59359,     0.59459,      0.5956,      0.5966,      0.5976,      0.5986,      0.5996,\n",
       "            0.6006,      0.6016,      0.6026,      0.6036,      0.6046,     0.60561,     0.60661,     0.60761,     0.60861,     0.60961,     0.61061,     0.61161,     0.61261,     0.61361,     0.61461,     0.61562,     0.61662,     0.61762,     0.61862,     0.61962,     0.62062,     0.62162,     0.62262,     0.62362,\n",
       "           0.62462,     0.62563,     0.62663,     0.62763,     0.62863,     0.62963,     0.63063,     0.63163,     0.63263,     0.63363,     0.63463,     0.63564,     0.63664,     0.63764,     0.63864,     0.63964,     0.64064,     0.64164,     0.64264,     0.64364,     0.64464,     0.64565,     0.64665,     0.64765,\n",
       "           0.64865,     0.64965,     0.65065,     0.65165,     0.65265,     0.65365,     0.65465,     0.65566,     0.65666,     0.65766,     0.65866,     0.65966,     0.66066,     0.66166,     0.66266,     0.66366,     0.66466,     0.66567,     0.66667,     0.66767,     0.66867,     0.66967,     0.67067,     0.67167,\n",
       "           0.67267,     0.67367,     0.67467,     0.67568,     0.67668,     0.67768,     0.67868,     0.67968,     0.68068,     0.68168,     0.68268,     0.68368,     0.68468,     0.68569,     0.68669,     0.68769,     0.68869,     0.68969,     0.69069,     0.69169,     0.69269,     0.69369,     0.69469,      0.6957,\n",
       "            0.6967,      0.6977,      0.6987,      0.6997,      0.7007,      0.7017,      0.7027,      0.7037,      0.7047,     0.70571,     0.70671,     0.70771,     0.70871,     0.70971,     0.71071,     0.71171,     0.71271,     0.71371,     0.71471,     0.71572,     0.71672,     0.71772,     0.71872,     0.71972,\n",
       "           0.72072,     0.72172,     0.72272,     0.72372,     0.72472,     0.72573,     0.72673,     0.72773,     0.72873,     0.72973,     0.73073,     0.73173,     0.73273,     0.73373,     0.73473,     0.73574,     0.73674,     0.73774,     0.73874,     0.73974,     0.74074,     0.74174,     0.74274,     0.74374,\n",
       "           0.74474,     0.74575,     0.74675,     0.74775,     0.74875,     0.74975,     0.75075,     0.75175,     0.75275,     0.75375,     0.75475,     0.75576,     0.75676,     0.75776,     0.75876,     0.75976,     0.76076,     0.76176,     0.76276,     0.76376,     0.76476,     0.76577,     0.76677,     0.76777,\n",
       "           0.76877,     0.76977,     0.77077,     0.77177,     0.77277,     0.77377,     0.77477,     0.77578,     0.77678,     0.77778,     0.77878,     0.77978,     0.78078,     0.78178,     0.78278,     0.78378,     0.78478,     0.78579,     0.78679,     0.78779,     0.78879,     0.78979,     0.79079,     0.79179,\n",
       "           0.79279,     0.79379,     0.79479,      0.7958,      0.7968,      0.7978,      0.7988,      0.7998,      0.8008,      0.8018,      0.8028,      0.8038,      0.8048,     0.80581,     0.80681,     0.80781,     0.80881,     0.80981,     0.81081,     0.81181,     0.81281,     0.81381,     0.81481,     0.81582,\n",
       "           0.81682,     0.81782,     0.81882,     0.81982,     0.82082,     0.82182,     0.82282,     0.82382,     0.82482,     0.82583,     0.82683,     0.82783,     0.82883,     0.82983,     0.83083,     0.83183,     0.83283,     0.83383,     0.83483,     0.83584,     0.83684,     0.83784,     0.83884,     0.83984,\n",
       "           0.84084,     0.84184,     0.84284,     0.84384,     0.84484,     0.84585,     0.84685,     0.84785,     0.84885,     0.84985,     0.85085,     0.85185,     0.85285,     0.85385,     0.85485,     0.85586,     0.85686,     0.85786,     0.85886,     0.85986,     0.86086,     0.86186,     0.86286,     0.86386,\n",
       "           0.86486,     0.86587,     0.86687,     0.86787,     0.86887,     0.86987,     0.87087,     0.87187,     0.87287,     0.87387,     0.87487,     0.87588,     0.87688,     0.87788,     0.87888,     0.87988,     0.88088,     0.88188,     0.88288,     0.88388,     0.88488,     0.88589,     0.88689,     0.88789,\n",
       "           0.88889,     0.88989,     0.89089,     0.89189,     0.89289,     0.89389,     0.89489,      0.8959,      0.8969,      0.8979,      0.8989,      0.8999,      0.9009,      0.9019,      0.9029,      0.9039,      0.9049,     0.90591,     0.90691,     0.90791,     0.90891,     0.90991,     0.91091,     0.91191,\n",
       "           0.91291,     0.91391,     0.91491,     0.91592,     0.91692,     0.91792,     0.91892,     0.91992,     0.92092,     0.92192,     0.92292,     0.92392,     0.92492,     0.92593,     0.92693,     0.92793,     0.92893,     0.92993,     0.93093,     0.93193,     0.93293,     0.93393,     0.93493,     0.93594,\n",
       "           0.93694,     0.93794,     0.93894,     0.93994,     0.94094,     0.94194,     0.94294,     0.94394,     0.94494,     0.94595,     0.94695,     0.94795,     0.94895,     0.94995,     0.95095,     0.95195,     0.95295,     0.95395,     0.95495,     0.95596,     0.95696,     0.95796,     0.95896,     0.95996,\n",
       "           0.96096,     0.96196,     0.96296,     0.96396,     0.96496,     0.96597,     0.96697,     0.96797,     0.96897,     0.96997,     0.97097,     0.97197,     0.97297,     0.97397,     0.97497,     0.97598,     0.97698,     0.97798,     0.97898,     0.97998,     0.98098,     0.98198,     0.98298,     0.98398,\n",
       "           0.98498,     0.98599,     0.98699,     0.98799,     0.98899,     0.98999,     0.99099,     0.99199,     0.99299,     0.99399,     0.99499,       0.996,       0.997,       0.998,       0.999,           1]), array([[  0.0028467,   0.0028467,    0.085231, ...,           1,           1,           1],\n",
       "       [  0.0049667,   0.0049667,    0.074286, ...,           1,           1,           1]]), 'Confidence', 'Precision'], [array([          0,    0.001001,    0.002002,    0.003003,    0.004004,    0.005005,    0.006006,    0.007007,    0.008008,    0.009009,     0.01001,    0.011011,    0.012012,    0.013013,    0.014014,    0.015015,    0.016016,    0.017017,    0.018018,    0.019019,     0.02002,    0.021021,    0.022022,    0.023023,\n",
       "          0.024024,    0.025025,    0.026026,    0.027027,    0.028028,    0.029029,     0.03003,    0.031031,    0.032032,    0.033033,    0.034034,    0.035035,    0.036036,    0.037037,    0.038038,    0.039039,     0.04004,    0.041041,    0.042042,    0.043043,    0.044044,    0.045045,    0.046046,    0.047047,\n",
       "          0.048048,    0.049049,     0.05005,    0.051051,    0.052052,    0.053053,    0.054054,    0.055055,    0.056056,    0.057057,    0.058058,    0.059059,     0.06006,    0.061061,    0.062062,    0.063063,    0.064064,    0.065065,    0.066066,    0.067067,    0.068068,    0.069069,     0.07007,    0.071071,\n",
       "          0.072072,    0.073073,    0.074074,    0.075075,    0.076076,    0.077077,    0.078078,    0.079079,     0.08008,    0.081081,    0.082082,    0.083083,    0.084084,    0.085085,    0.086086,    0.087087,    0.088088,    0.089089,     0.09009,    0.091091,    0.092092,    0.093093,    0.094094,    0.095095,\n",
       "          0.096096,    0.097097,    0.098098,    0.099099,      0.1001,      0.1011,      0.1021,      0.1031,      0.1041,     0.10511,     0.10611,     0.10711,     0.10811,     0.10911,     0.11011,     0.11111,     0.11211,     0.11311,     0.11411,     0.11512,     0.11612,     0.11712,     0.11812,     0.11912,\n",
       "           0.12012,     0.12112,     0.12212,     0.12312,     0.12412,     0.12513,     0.12613,     0.12713,     0.12813,     0.12913,     0.13013,     0.13113,     0.13213,     0.13313,     0.13413,     0.13514,     0.13614,     0.13714,     0.13814,     0.13914,     0.14014,     0.14114,     0.14214,     0.14314,\n",
       "           0.14414,     0.14515,     0.14615,     0.14715,     0.14815,     0.14915,     0.15015,     0.15115,     0.15215,     0.15315,     0.15415,     0.15516,     0.15616,     0.15716,     0.15816,     0.15916,     0.16016,     0.16116,     0.16216,     0.16316,     0.16416,     0.16517,     0.16617,     0.16717,\n",
       "           0.16817,     0.16917,     0.17017,     0.17117,     0.17217,     0.17317,     0.17417,     0.17518,     0.17618,     0.17718,     0.17818,     0.17918,     0.18018,     0.18118,     0.18218,     0.18318,     0.18418,     0.18519,     0.18619,     0.18719,     0.18819,     0.18919,     0.19019,     0.19119,\n",
       "           0.19219,     0.19319,     0.19419,      0.1952,      0.1962,      0.1972,      0.1982,      0.1992,      0.2002,      0.2012,      0.2022,      0.2032,      0.2042,     0.20521,     0.20621,     0.20721,     0.20821,     0.20921,     0.21021,     0.21121,     0.21221,     0.21321,     0.21421,     0.21522,\n",
       "           0.21622,     0.21722,     0.21822,     0.21922,     0.22022,     0.22122,     0.22222,     0.22322,     0.22422,     0.22523,     0.22623,     0.22723,     0.22823,     0.22923,     0.23023,     0.23123,     0.23223,     0.23323,     0.23423,     0.23524,     0.23624,     0.23724,     0.23824,     0.23924,\n",
       "           0.24024,     0.24124,     0.24224,     0.24324,     0.24424,     0.24525,     0.24625,     0.24725,     0.24825,     0.24925,     0.25025,     0.25125,     0.25225,     0.25325,     0.25425,     0.25526,     0.25626,     0.25726,     0.25826,     0.25926,     0.26026,     0.26126,     0.26226,     0.26326,\n",
       "           0.26426,     0.26527,     0.26627,     0.26727,     0.26827,     0.26927,     0.27027,     0.27127,     0.27227,     0.27327,     0.27427,     0.27528,     0.27628,     0.27728,     0.27828,     0.27928,     0.28028,     0.28128,     0.28228,     0.28328,     0.28428,     0.28529,     0.28629,     0.28729,\n",
       "           0.28829,     0.28929,     0.29029,     0.29129,     0.29229,     0.29329,     0.29429,      0.2953,      0.2963,      0.2973,      0.2983,      0.2993,      0.3003,      0.3013,      0.3023,      0.3033,      0.3043,     0.30531,     0.30631,     0.30731,     0.30831,     0.30931,     0.31031,     0.31131,\n",
       "           0.31231,     0.31331,     0.31431,     0.31532,     0.31632,     0.31732,     0.31832,     0.31932,     0.32032,     0.32132,     0.32232,     0.32332,     0.32432,     0.32533,     0.32633,     0.32733,     0.32833,     0.32933,     0.33033,     0.33133,     0.33233,     0.33333,     0.33433,     0.33534,\n",
       "           0.33634,     0.33734,     0.33834,     0.33934,     0.34034,     0.34134,     0.34234,     0.34334,     0.34434,     0.34535,     0.34635,     0.34735,     0.34835,     0.34935,     0.35035,     0.35135,     0.35235,     0.35335,     0.35435,     0.35536,     0.35636,     0.35736,     0.35836,     0.35936,\n",
       "           0.36036,     0.36136,     0.36236,     0.36336,     0.36436,     0.36537,     0.36637,     0.36737,     0.36837,     0.36937,     0.37037,     0.37137,     0.37237,     0.37337,     0.37437,     0.37538,     0.37638,     0.37738,     0.37838,     0.37938,     0.38038,     0.38138,     0.38238,     0.38338,\n",
       "           0.38438,     0.38539,     0.38639,     0.38739,     0.38839,     0.38939,     0.39039,     0.39139,     0.39239,     0.39339,     0.39439,      0.3954,      0.3964,      0.3974,      0.3984,      0.3994,      0.4004,      0.4014,      0.4024,      0.4034,      0.4044,     0.40541,     0.40641,     0.40741,\n",
       "           0.40841,     0.40941,     0.41041,     0.41141,     0.41241,     0.41341,     0.41441,     0.41542,     0.41642,     0.41742,     0.41842,     0.41942,     0.42042,     0.42142,     0.42242,     0.42342,     0.42442,     0.42543,     0.42643,     0.42743,     0.42843,     0.42943,     0.43043,     0.43143,\n",
       "           0.43243,     0.43343,     0.43443,     0.43544,     0.43644,     0.43744,     0.43844,     0.43944,     0.44044,     0.44144,     0.44244,     0.44344,     0.44444,     0.44545,     0.44645,     0.44745,     0.44845,     0.44945,     0.45045,     0.45145,     0.45245,     0.45345,     0.45445,     0.45546,\n",
       "           0.45646,     0.45746,     0.45846,     0.45946,     0.46046,     0.46146,     0.46246,     0.46346,     0.46446,     0.46547,     0.46647,     0.46747,     0.46847,     0.46947,     0.47047,     0.47147,     0.47247,     0.47347,     0.47447,     0.47548,     0.47648,     0.47748,     0.47848,     0.47948,\n",
       "           0.48048,     0.48148,     0.48248,     0.48348,     0.48448,     0.48549,     0.48649,     0.48749,     0.48849,     0.48949,     0.49049,     0.49149,     0.49249,     0.49349,     0.49449,      0.4955,      0.4965,      0.4975,      0.4985,      0.4995,      0.5005,      0.5015,      0.5025,      0.5035,\n",
       "            0.5045,     0.50551,     0.50651,     0.50751,     0.50851,     0.50951,     0.51051,     0.51151,     0.51251,     0.51351,     0.51451,     0.51552,     0.51652,     0.51752,     0.51852,     0.51952,     0.52052,     0.52152,     0.52252,     0.52352,     0.52452,     0.52553,     0.52653,     0.52753,\n",
       "           0.52853,     0.52953,     0.53053,     0.53153,     0.53253,     0.53353,     0.53453,     0.53554,     0.53654,     0.53754,     0.53854,     0.53954,     0.54054,     0.54154,     0.54254,     0.54354,     0.54454,     0.54555,     0.54655,     0.54755,     0.54855,     0.54955,     0.55055,     0.55155,\n",
       "           0.55255,     0.55355,     0.55455,     0.55556,     0.55656,     0.55756,     0.55856,     0.55956,     0.56056,     0.56156,     0.56256,     0.56356,     0.56456,     0.56557,     0.56657,     0.56757,     0.56857,     0.56957,     0.57057,     0.57157,     0.57257,     0.57357,     0.57457,     0.57558,\n",
       "           0.57658,     0.57758,     0.57858,     0.57958,     0.58058,     0.58158,     0.58258,     0.58358,     0.58458,     0.58559,     0.58659,     0.58759,     0.58859,     0.58959,     0.59059,     0.59159,     0.59259,     0.59359,     0.59459,      0.5956,      0.5966,      0.5976,      0.5986,      0.5996,\n",
       "            0.6006,      0.6016,      0.6026,      0.6036,      0.6046,     0.60561,     0.60661,     0.60761,     0.60861,     0.60961,     0.61061,     0.61161,     0.61261,     0.61361,     0.61461,     0.61562,     0.61662,     0.61762,     0.61862,     0.61962,     0.62062,     0.62162,     0.62262,     0.62362,\n",
       "           0.62462,     0.62563,     0.62663,     0.62763,     0.62863,     0.62963,     0.63063,     0.63163,     0.63263,     0.63363,     0.63463,     0.63564,     0.63664,     0.63764,     0.63864,     0.63964,     0.64064,     0.64164,     0.64264,     0.64364,     0.64464,     0.64565,     0.64665,     0.64765,\n",
       "           0.64865,     0.64965,     0.65065,     0.65165,     0.65265,     0.65365,     0.65465,     0.65566,     0.65666,     0.65766,     0.65866,     0.65966,     0.66066,     0.66166,     0.66266,     0.66366,     0.66466,     0.66567,     0.66667,     0.66767,     0.66867,     0.66967,     0.67067,     0.67167,\n",
       "           0.67267,     0.67367,     0.67467,     0.67568,     0.67668,     0.67768,     0.67868,     0.67968,     0.68068,     0.68168,     0.68268,     0.68368,     0.68468,     0.68569,     0.68669,     0.68769,     0.68869,     0.68969,     0.69069,     0.69169,     0.69269,     0.69369,     0.69469,      0.6957,\n",
       "            0.6967,      0.6977,      0.6987,      0.6997,      0.7007,      0.7017,      0.7027,      0.7037,      0.7047,     0.70571,     0.70671,     0.70771,     0.70871,     0.70971,     0.71071,     0.71171,     0.71271,     0.71371,     0.71471,     0.71572,     0.71672,     0.71772,     0.71872,     0.71972,\n",
       "           0.72072,     0.72172,     0.72272,     0.72372,     0.72472,     0.72573,     0.72673,     0.72773,     0.72873,     0.72973,     0.73073,     0.73173,     0.73273,     0.73373,     0.73473,     0.73574,     0.73674,     0.73774,     0.73874,     0.73974,     0.74074,     0.74174,     0.74274,     0.74374,\n",
       "           0.74474,     0.74575,     0.74675,     0.74775,     0.74875,     0.74975,     0.75075,     0.75175,     0.75275,     0.75375,     0.75475,     0.75576,     0.75676,     0.75776,     0.75876,     0.75976,     0.76076,     0.76176,     0.76276,     0.76376,     0.76476,     0.76577,     0.76677,     0.76777,\n",
       "           0.76877,     0.76977,     0.77077,     0.77177,     0.77277,     0.77377,     0.77477,     0.77578,     0.77678,     0.77778,     0.77878,     0.77978,     0.78078,     0.78178,     0.78278,     0.78378,     0.78478,     0.78579,     0.78679,     0.78779,     0.78879,     0.78979,     0.79079,     0.79179,\n",
       "           0.79279,     0.79379,     0.79479,      0.7958,      0.7968,      0.7978,      0.7988,      0.7998,      0.8008,      0.8018,      0.8028,      0.8038,      0.8048,     0.80581,     0.80681,     0.80781,     0.80881,     0.80981,     0.81081,     0.81181,     0.81281,     0.81381,     0.81481,     0.81582,\n",
       "           0.81682,     0.81782,     0.81882,     0.81982,     0.82082,     0.82182,     0.82282,     0.82382,     0.82482,     0.82583,     0.82683,     0.82783,     0.82883,     0.82983,     0.83083,     0.83183,     0.83283,     0.83383,     0.83483,     0.83584,     0.83684,     0.83784,     0.83884,     0.83984,\n",
       "           0.84084,     0.84184,     0.84284,     0.84384,     0.84484,     0.84585,     0.84685,     0.84785,     0.84885,     0.84985,     0.85085,     0.85185,     0.85285,     0.85385,     0.85485,     0.85586,     0.85686,     0.85786,     0.85886,     0.85986,     0.86086,     0.86186,     0.86286,     0.86386,\n",
       "           0.86486,     0.86587,     0.86687,     0.86787,     0.86887,     0.86987,     0.87087,     0.87187,     0.87287,     0.87387,     0.87487,     0.87588,     0.87688,     0.87788,     0.87888,     0.87988,     0.88088,     0.88188,     0.88288,     0.88388,     0.88488,     0.88589,     0.88689,     0.88789,\n",
       "           0.88889,     0.88989,     0.89089,     0.89189,     0.89289,     0.89389,     0.89489,      0.8959,      0.8969,      0.8979,      0.8989,      0.8999,      0.9009,      0.9019,      0.9029,      0.9039,      0.9049,     0.90591,     0.90691,     0.90791,     0.90891,     0.90991,     0.91091,     0.91191,\n",
       "           0.91291,     0.91391,     0.91491,     0.91592,     0.91692,     0.91792,     0.91892,     0.91992,     0.92092,     0.92192,     0.92292,     0.92392,     0.92492,     0.92593,     0.92693,     0.92793,     0.92893,     0.92993,     0.93093,     0.93193,     0.93293,     0.93393,     0.93493,     0.93594,\n",
       "           0.93694,     0.93794,     0.93894,     0.93994,     0.94094,     0.94194,     0.94294,     0.94394,     0.94494,     0.94595,     0.94695,     0.94795,     0.94895,     0.94995,     0.95095,     0.95195,     0.95295,     0.95395,     0.95495,     0.95596,     0.95696,     0.95796,     0.95896,     0.95996,\n",
       "           0.96096,     0.96196,     0.96296,     0.96396,     0.96496,     0.96597,     0.96697,     0.96797,     0.96897,     0.96997,     0.97097,     0.97197,     0.97297,     0.97397,     0.97497,     0.97598,     0.97698,     0.97798,     0.97898,     0.97998,     0.98098,     0.98198,     0.98298,     0.98398,\n",
       "           0.98498,     0.98599,     0.98699,     0.98799,     0.98899,     0.98999,     0.99099,     0.99199,     0.99299,     0.99399,     0.99499,       0.996,       0.997,       0.998,       0.999,           1]), array([[    0.97436,     0.97436,     0.97436, ...,           0,           0,           0],\n",
       "       [          1,           1,     0.97368, ...,           0,           0,           0]]), 'Confidence', 'Recall']]\n",
       "fitness: 0.25847571335136316\n",
       "keys: ['metrics/precision(B)', 'metrics/recall(B)', 'metrics/mAP50(B)', 'metrics/mAP50-95(B)']\n",
       "maps: array([    0.23913,     0.22359])\n",
       "names: {0: 'negative', 1: 'positive'}\n",
       "plot: True\n",
       "results_dict: {'metrics/precision(B)': 0.4386584337077638, 'metrics/recall(B)': 0.8066801619433198, 'metrics/mAP50(B)': 0.5025189003715259, 'metrics/mAP50-95(B)': 0.23135980368245615, 'fitness': 0.25847571335136316}\n",
       "save_dir: PosixPath('runs/detect/test/test_raytune')\n",
       "speed: {'preprocess': 0.5946431841169085, 'inference': 4.344490596226283, 'loss': 0.0008072171892438616, 'postprocess': 13.256246703011648}\n",
       "task: 'detect'"
      ]
     },
     "execution_count": 10,
     "metadata": {},
     "output_type": "execute_result"
    }
   ],
   "source": [
    "experiment_name = 'test'\n",
    "work_name = 'raytune' #이름수정주의\n",
    "train_dir = os.path.join('runs', experiment_name)\n",
    "\n",
    "if os.path.exists(train_dir):\n",
    "    shutil.rmtree(train_dir)\n",
    "\n",
    "train_model.val(name=os.path.join(experiment_name, f'{experiment_name}_{work_name}'), split=\"test\")"
   ]
  }
 ],
 "metadata": {
  "kernelspec": {
   "display_name": "detect",
   "language": "python",
   "name": "python3"
  },
  "language_info": {
   "codemirror_mode": {
    "name": "ipython",
    "version": 3
   },
   "file_extension": ".py",
   "mimetype": "text/x-python",
   "name": "python",
   "nbconvert_exporter": "python",
   "pygments_lexer": "ipython3",
   "version": "3.10.14"
  }
 },
 "nbformat": 4,
 "nbformat_minor": 2
}
