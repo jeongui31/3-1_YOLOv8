{
 "cells": [
  {
   "cell_type": "code",
   "execution_count": 3,
   "metadata": {},
   "outputs": [
    {
     "name": "stdout",
     "output_type": "stream",
     "text": [
      "정규화 및 파일 복사가 완료되었습니다.\n"
     ]
    }
   ],
   "source": [
    "import os\n",
    "import cv2\n",
    "import numpy as np\n",
    "import shutil\n",
    "\n",
    "# 입력 폴더 및 출력 폴더 설정\n",
    "input_image_folder = '/home/under1/Detect/jeongui/axial/images/val'\n",
    "input_label_folder = '/home/under1/Detect/jeongui/axial/labels/val'\n",
    "output_image_folder = '/home/under1/Detect/jeongui/axial/images/val_normal'\n",
    "output_label_folder = '/home/under1/Detect/jeongui/axial/labels/val_normal'\n",
    "\n",
    "# 출력 폴더가 없으면 생성\n",
    "os.makedirs(output_image_folder, exist_ok=True)\n",
    "os.makedirs(output_label_folder, exist_ok=True)\n",
    "\n",
    "# 이미지 파일 목록 가져오기\n",
    "image_files = [f for f in os.listdir(input_image_folder) if f.endswith(('.png', '.jpg', '.jpeg'))]\n",
    "\n",
    "# 이미지 정규화 함수\n",
    "def normalize_image(image):\n",
    "    normalized_image = image.astype(np.float32) / 255.0\n",
    "    return normalized_image\n",
    "\n",
    "# 이미지 처리 및 저장\n",
    "for image_file in image_files:\n",
    "    # 이미지 읽기\n",
    "    image_path = os.path.join(input_image_folder, image_file)\n",
    "    image = cv2.imread(image_path, cv2.IMREAD_COLOR)\n",
    "    \n",
    "    if image is not None:\n",
    "        # 이미지 정규화\n",
    "        normalized_image = normalize_image(image)\n",
    "        \n",
    "        # 정규화된 이미지 저장\n",
    "        output_image_path = os.path.join(output_image_folder, image_file)\n",
    "        # OpenCV는 기본적으로 float 이미지를 저장하지 않으므로 0-255 범위로 다시 변환 후 저장\n",
    "        cv2.imwrite(output_image_path, (normalized_image * 255).astype(np.uint8))\n",
    "\n",
    "# 라벨 파일 복사\n",
    "label_files = [f for f in os.listdir(input_label_folder) if f.endswith('.txt')]\n",
    "\n",
    "for label_file in label_files:\n",
    "    input_label_path = os.path.join(input_label_folder, label_file)\n",
    "    output_label_path = os.path.join(output_label_folder, label_file)\n",
    "    shutil.copy(input_label_path, output_label_path)\n",
    "\n",
    "print(\"정규화 및 파일 복사가 완료되었습니다.\")"
   ]
  }
 ],
 "metadata": {
  "kernelspec": {
   "display_name": "yolo",
   "language": "python",
   "name": "python3"
  },
  "language_info": {
   "codemirror_mode": {
    "name": "ipython",
    "version": 3
   },
   "file_extension": ".py",
   "mimetype": "text/x-python",
   "name": "python",
   "nbconvert_exporter": "python",
   "pygments_lexer": "ipython3",
   "version": "3.10.14"
  }
 },
 "nbformat": 4,
 "nbformat_minor": 2
}
