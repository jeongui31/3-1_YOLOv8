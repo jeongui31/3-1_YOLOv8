{
 "cells": [
  {
   "cell_type": "code",
   "execution_count": 2,
   "metadata": {},
   "outputs": [],
   "source": [
    "from ultralytics import YOLO\n",
    "import torch\n",
    "import pandas as pd\n",
    "import numpy as np\n",
    "import os\n",
    "import cv2\n",
    "import matplotlib.pyplot as plt\n",
    "import random\n",
    "import shutil\n",
    "from glob import glob"
   ]
  },
  {
   "cell_type": "code",
   "execution_count": 10,
   "metadata": {},
   "outputs": [
    {
     "name": "stdout",
     "output_type": "stream",
     "text": [
      "New https://pypi.org/project/ultralytics/8.2.64 available 😃 Update with 'pip install -U ultralytics'\n",
      "Ultralytics YOLOv8.2.48 🚀 Python-3.10.14 torch-2.1.0 CUDA:0 (NVIDIA GeForce RTX 3090, 24260MiB)\n",
      "\u001b[34m\u001b[1mengine/trainer: \u001b[0mtask=detect, mode=train, model=yolov8n.pt, data=all.yaml, epochs=200, time=None, patience=100, batch=16, imgsz=640, save=True, save_period=-1, cache=False, device=0, workers=8, project=None, name=train_all, exist_ok=True, pretrained=True, optimizer=auto, verbose=True, seed=0, deterministic=True, single_cls=False, rect=False, cos_lr=False, close_mosaic=10, resume=False, amp=True, fraction=1.0, profile=False, freeze=None, multi_scale=False, overlap_mask=True, mask_ratio=4, dropout=0.0, val=True, split=val, save_json=False, save_hybrid=False, conf=None, iou=0.7, max_det=300, half=False, dnn=False, plots=True, source=None, vid_stride=1, stream_buffer=False, visualize=False, augment=False, agnostic_nms=False, classes=None, retina_masks=False, embed=None, show=False, save_frames=False, save_txt=False, save_conf=False, save_crop=False, show_labels=True, show_conf=True, show_boxes=True, line_width=None, format=torchscript, keras=False, optimize=False, int8=False, dynamic=False, simplify=False, opset=None, workspace=4, nms=False, lr0=0.01, lrf=0.01, momentum=0.937, weight_decay=0.0005, warmup_epochs=3.0, warmup_momentum=0.8, warmup_bias_lr=0.1, box=7.5, cls=0.5, dfl=1.5, pose=12.0, kobj=1.0, label_smoothing=0.0, nbs=64, hsv_h=0.015, hsv_s=0.7, hsv_v=0.4, degrees=0.0, translate=0.1, scale=0.5, shear=0.0, perspective=0.0, flipud=0.0, fliplr=0.5, bgr=0.0, mosaic=1.0, mixup=0.0, copy_paste=0.0, auto_augment=randaugment, erasing=0.4, crop_fraction=1.0, cfg=None, tracker=botsort.yaml, save_dir=runs/detect/train_all\n",
      "Overriding model.yaml nc=80 with nc=2\n",
      "\n",
      "                   from  n    params  module                                       arguments                     \n",
      "  0                  -1  1       464  ultralytics.nn.modules.conv.Conv             [3, 16, 3, 2]                 \n",
      "  1                  -1  1      4672  ultralytics.nn.modules.conv.Conv             [16, 32, 3, 2]                \n",
      "  2                  -1  1      7360  ultralytics.nn.modules.block.C2f             [32, 32, 1, True]             \n",
      "  3                  -1  1     18560  ultralytics.nn.modules.conv.Conv             [32, 64, 3, 2]                \n",
      "  4                  -1  2     49664  ultralytics.nn.modules.block.C2f             [64, 64, 2, True]             \n",
      "  5                  -1  1     73984  ultralytics.nn.modules.conv.Conv             [64, 128, 3, 2]               \n",
      "  6                  -1  2    197632  ultralytics.nn.modules.block.C2f             [128, 128, 2, True]           \n",
      "  7                  -1  1    295424  ultralytics.nn.modules.conv.Conv             [128, 256, 3, 2]              \n",
      "  8                  -1  1    460288  ultralytics.nn.modules.block.C2f             [256, 256, 1, True]           \n",
      "  9                  -1  1    164608  ultralytics.nn.modules.block.SPPF            [256, 256, 5]                 \n",
      " 10                  -1  1         0  torch.nn.modules.upsampling.Upsample         [None, 2, 'nearest']          \n",
      " 11             [-1, 6]  1         0  ultralytics.nn.modules.conv.Concat           [1]                           \n",
      " 12                  -1  1    148224  ultralytics.nn.modules.block.C2f             [384, 128, 1]                 \n",
      " 13                  -1  1         0  torch.nn.modules.upsampling.Upsample         [None, 2, 'nearest']          \n",
      " 14             [-1, 4]  1         0  ultralytics.nn.modules.conv.Concat           [1]                           \n",
      " 15                  -1  1     37248  ultralytics.nn.modules.block.C2f             [192, 64, 1]                  \n",
      " 16                  -1  1     36992  ultralytics.nn.modules.conv.Conv             [64, 64, 3, 2]                \n",
      " 17            [-1, 12]  1         0  ultralytics.nn.modules.conv.Concat           [1]                           \n",
      " 18                  -1  1    123648  ultralytics.nn.modules.block.C2f             [192, 128, 1]                 \n",
      " 19                  -1  1    147712  ultralytics.nn.modules.conv.Conv             [128, 128, 3, 2]              \n",
      " 20             [-1, 9]  1         0  ultralytics.nn.modules.conv.Concat           [1]                           \n",
      " 21                  -1  1    493056  ultralytics.nn.modules.block.C2f             [384, 256, 1]                 \n",
      " 22        [15, 18, 21]  1    751702  ultralytics.nn.modules.head.Detect           [2, [64, 128, 256]]           \n",
      "Model summary: 225 layers, 3011238 parameters, 3011222 gradients, 8.2 GFLOPs\n",
      "\n",
      "Transferred 319/355 items from pretrained weights\n",
      "Trainer: <ultralytics.models.yolo.detect.train.DetectionTrainer object at 0x7f8eb6640190>\n",
      "Trainer's model: DetectionModel(\n",
      "  (model): Sequential(\n",
      "    (0): Conv(\n",
      "      (conv): Conv2d(3, 16, kernel_size=(3, 3), stride=(2, 2), padding=(1, 1), bias=False)\n",
      "      (bn): BatchNorm2d(16, eps=0.001, momentum=0.03, affine=True, track_running_stats=True)\n",
      "      (act): SiLU(inplace=True)\n",
      "    )\n",
      "    (1): Conv(\n",
      "      (conv): Conv2d(16, 32, kernel_size=(3, 3), stride=(2, 2), padding=(1, 1), bias=False)\n",
      "      (bn): BatchNorm2d(32, eps=0.001, momentum=0.03, affine=True, track_running_stats=True)\n",
      "      (act): SiLU(inplace=True)\n",
      "    )\n",
      "    (2): C2f(\n",
      "      (cv1): Conv(\n",
      "        (conv): Conv2d(32, 32, kernel_size=(1, 1), stride=(1, 1), bias=False)\n",
      "        (bn): BatchNorm2d(32, eps=0.001, momentum=0.03, affine=True, track_running_stats=True)\n",
      "        (act): SiLU(inplace=True)\n",
      "      )\n",
      "      (cv2): Conv(\n",
      "        (conv): Conv2d(48, 32, kernel_size=(1, 1), stride=(1, 1), bias=False)\n",
      "        (bn): BatchNorm2d(32, eps=0.001, momentum=0.03, affine=True, track_running_stats=True)\n",
      "        (act): SiLU(inplace=True)\n",
      "      )\n",
      "      (m): ModuleList(\n",
      "        (0): Bottleneck(\n",
      "          (cv1): Conv(\n",
      "            (conv): Conv2d(16, 16, kernel_size=(3, 3), stride=(1, 1), padding=(1, 1), bias=False)\n",
      "            (bn): BatchNorm2d(16, eps=0.001, momentum=0.03, affine=True, track_running_stats=True)\n",
      "            (act): SiLU(inplace=True)\n",
      "          )\n",
      "          (cv2): Conv(\n",
      "            (conv): Conv2d(16, 16, kernel_size=(3, 3), stride=(1, 1), padding=(1, 1), bias=False)\n",
      "            (bn): BatchNorm2d(16, eps=0.001, momentum=0.03, affine=True, track_running_stats=True)\n",
      "            (act): SiLU(inplace=True)\n",
      "          )\n",
      "        )\n",
      "      )\n",
      "    )\n",
      "    (3): Conv(\n",
      "      (conv): Conv2d(32, 64, kernel_size=(3, 3), stride=(2, 2), padding=(1, 1), bias=False)\n",
      "      (bn): BatchNorm2d(64, eps=0.001, momentum=0.03, affine=True, track_running_stats=True)\n",
      "      (act): SiLU(inplace=True)\n",
      "    )\n",
      "    (4): C2f(\n",
      "      (cv1): Conv(\n",
      "        (conv): Conv2d(64, 64, kernel_size=(1, 1), stride=(1, 1), bias=False)\n",
      "        (bn): BatchNorm2d(64, eps=0.001, momentum=0.03, affine=True, track_running_stats=True)\n",
      "        (act): SiLU(inplace=True)\n",
      "      )\n",
      "      (cv2): Conv(\n",
      "        (conv): Conv2d(128, 64, kernel_size=(1, 1), stride=(1, 1), bias=False)\n",
      "        (bn): BatchNorm2d(64, eps=0.001, momentum=0.03, affine=True, track_running_stats=True)\n",
      "        (act): SiLU(inplace=True)\n",
      "      )\n",
      "      (m): ModuleList(\n",
      "        (0-1): 2 x Bottleneck(\n",
      "          (cv1): Conv(\n",
      "            (conv): Conv2d(32, 32, kernel_size=(3, 3), stride=(1, 1), padding=(1, 1), bias=False)\n",
      "            (bn): BatchNorm2d(32, eps=0.001, momentum=0.03, affine=True, track_running_stats=True)\n",
      "            (act): SiLU(inplace=True)\n",
      "          )\n",
      "          (cv2): Conv(\n",
      "            (conv): Conv2d(32, 32, kernel_size=(3, 3), stride=(1, 1), padding=(1, 1), bias=False)\n",
      "            (bn): BatchNorm2d(32, eps=0.001, momentum=0.03, affine=True, track_running_stats=True)\n",
      "            (act): SiLU(inplace=True)\n",
      "          )\n",
      "        )\n",
      "      )\n",
      "    )\n",
      "    (5): Conv(\n",
      "      (conv): Conv2d(64, 128, kernel_size=(3, 3), stride=(2, 2), padding=(1, 1), bias=False)\n",
      "      (bn): BatchNorm2d(128, eps=0.001, momentum=0.03, affine=True, track_running_stats=True)\n",
      "      (act): SiLU(inplace=True)\n",
      "    )\n",
      "    (6): C2f(\n",
      "      (cv1): Conv(\n",
      "        (conv): Conv2d(128, 128, kernel_size=(1, 1), stride=(1, 1), bias=False)\n",
      "        (bn): BatchNorm2d(128, eps=0.001, momentum=0.03, affine=True, track_running_stats=True)\n",
      "        (act): SiLU(inplace=True)\n",
      "      )\n",
      "      (cv2): Conv(\n",
      "        (conv): Conv2d(256, 128, kernel_size=(1, 1), stride=(1, 1), bias=False)\n",
      "        (bn): BatchNorm2d(128, eps=0.001, momentum=0.03, affine=True, track_running_stats=True)\n",
      "        (act): SiLU(inplace=True)\n",
      "      )\n",
      "      (m): ModuleList(\n",
      "        (0-1): 2 x Bottleneck(\n",
      "          (cv1): Conv(\n",
      "            (conv): Conv2d(64, 64, kernel_size=(3, 3), stride=(1, 1), padding=(1, 1), bias=False)\n",
      "            (bn): BatchNorm2d(64, eps=0.001, momentum=0.03, affine=True, track_running_stats=True)\n",
      "            (act): SiLU(inplace=True)\n",
      "          )\n",
      "          (cv2): Conv(\n",
      "            (conv): Conv2d(64, 64, kernel_size=(3, 3), stride=(1, 1), padding=(1, 1), bias=False)\n",
      "            (bn): BatchNorm2d(64, eps=0.001, momentum=0.03, affine=True, track_running_stats=True)\n",
      "            (act): SiLU(inplace=True)\n",
      "          )\n",
      "        )\n",
      "      )\n",
      "    )\n",
      "    (7): Conv(\n",
      "      (conv): Conv2d(128, 256, kernel_size=(3, 3), stride=(2, 2), padding=(1, 1), bias=False)\n",
      "      (bn): BatchNorm2d(256, eps=0.001, momentum=0.03, affine=True, track_running_stats=True)\n",
      "      (act): SiLU(inplace=True)\n",
      "    )\n",
      "    (8): C2f(\n",
      "      (cv1): Conv(\n",
      "        (conv): Conv2d(256, 256, kernel_size=(1, 1), stride=(1, 1), bias=False)\n",
      "        (bn): BatchNorm2d(256, eps=0.001, momentum=0.03, affine=True, track_running_stats=True)\n",
      "        (act): SiLU(inplace=True)\n",
      "      )\n",
      "      (cv2): Conv(\n",
      "        (conv): Conv2d(384, 256, kernel_size=(1, 1), stride=(1, 1), bias=False)\n",
      "        (bn): BatchNorm2d(256, eps=0.001, momentum=0.03, affine=True, track_running_stats=True)\n",
      "        (act): SiLU(inplace=True)\n",
      "      )\n",
      "      (m): ModuleList(\n",
      "        (0): Bottleneck(\n",
      "          (cv1): Conv(\n",
      "            (conv): Conv2d(128, 128, kernel_size=(3, 3), stride=(1, 1), padding=(1, 1), bias=False)\n",
      "            (bn): BatchNorm2d(128, eps=0.001, momentum=0.03, affine=True, track_running_stats=True)\n",
      "            (act): SiLU(inplace=True)\n",
      "          )\n",
      "          (cv2): Conv(\n",
      "            (conv): Conv2d(128, 128, kernel_size=(3, 3), stride=(1, 1), padding=(1, 1), bias=False)\n",
      "            (bn): BatchNorm2d(128, eps=0.001, momentum=0.03, affine=True, track_running_stats=True)\n",
      "            (act): SiLU(inplace=True)\n",
      "          )\n",
      "        )\n",
      "      )\n",
      "    )\n",
      "    (9): SPPF(\n",
      "      (cv1): Conv(\n",
      "        (conv): Conv2d(256, 128, kernel_size=(1, 1), stride=(1, 1), bias=False)\n",
      "        (bn): BatchNorm2d(128, eps=0.001, momentum=0.03, affine=True, track_running_stats=True)\n",
      "        (act): SiLU(inplace=True)\n",
      "      )\n",
      "      (cv2): Conv(\n",
      "        (conv): Conv2d(512, 256, kernel_size=(1, 1), stride=(1, 1), bias=False)\n",
      "        (bn): BatchNorm2d(256, eps=0.001, momentum=0.03, affine=True, track_running_stats=True)\n",
      "        (act): SiLU(inplace=True)\n",
      "      )\n",
      "      (m): MaxPool2d(kernel_size=5, stride=1, padding=2, dilation=1, ceil_mode=False)\n",
      "    )\n",
      "    (10): Upsample(scale_factor=2.0, mode='nearest')\n",
      "    (11): Concat()\n",
      "    (12): C2f(\n",
      "      (cv1): Conv(\n",
      "        (conv): Conv2d(384, 128, kernel_size=(1, 1), stride=(1, 1), bias=False)\n",
      "        (bn): BatchNorm2d(128, eps=0.001, momentum=0.03, affine=True, track_running_stats=True)\n",
      "        (act): SiLU(inplace=True)\n",
      "      )\n",
      "      (cv2): Conv(\n",
      "        (conv): Conv2d(192, 128, kernel_size=(1, 1), stride=(1, 1), bias=False)\n",
      "        (bn): BatchNorm2d(128, eps=0.001, momentum=0.03, affine=True, track_running_stats=True)\n",
      "        (act): SiLU(inplace=True)\n",
      "      )\n",
      "      (m): ModuleList(\n",
      "        (0): Bottleneck(\n",
      "          (cv1): Conv(\n",
      "            (conv): Conv2d(64, 64, kernel_size=(3, 3), stride=(1, 1), padding=(1, 1), bias=False)\n",
      "            (bn): BatchNorm2d(64, eps=0.001, momentum=0.03, affine=True, track_running_stats=True)\n",
      "            (act): SiLU(inplace=True)\n",
      "          )\n",
      "          (cv2): Conv(\n",
      "            (conv): Conv2d(64, 64, kernel_size=(3, 3), stride=(1, 1), padding=(1, 1), bias=False)\n",
      "            (bn): BatchNorm2d(64, eps=0.001, momentum=0.03, affine=True, track_running_stats=True)\n",
      "            (act): SiLU(inplace=True)\n",
      "          )\n",
      "        )\n",
      "      )\n",
      "    )\n",
      "    (13): Upsample(scale_factor=2.0, mode='nearest')\n",
      "    (14): Concat()\n",
      "    (15): C2f(\n",
      "      (cv1): Conv(\n",
      "        (conv): Conv2d(192, 64, kernel_size=(1, 1), stride=(1, 1), bias=False)\n",
      "        (bn): BatchNorm2d(64, eps=0.001, momentum=0.03, affine=True, track_running_stats=True)\n",
      "        (act): SiLU(inplace=True)\n",
      "      )\n",
      "      (cv2): Conv(\n",
      "        (conv): Conv2d(96, 64, kernel_size=(1, 1), stride=(1, 1), bias=False)\n",
      "        (bn): BatchNorm2d(64, eps=0.001, momentum=0.03, affine=True, track_running_stats=True)\n",
      "        (act): SiLU(inplace=True)\n",
      "      )\n",
      "      (m): ModuleList(\n",
      "        (0): Bottleneck(\n",
      "          (cv1): Conv(\n",
      "            (conv): Conv2d(32, 32, kernel_size=(3, 3), stride=(1, 1), padding=(1, 1), bias=False)\n",
      "            (bn): BatchNorm2d(32, eps=0.001, momentum=0.03, affine=True, track_running_stats=True)\n",
      "            (act): SiLU(inplace=True)\n",
      "          )\n",
      "          (cv2): Conv(\n",
      "            (conv): Conv2d(32, 32, kernel_size=(3, 3), stride=(1, 1), padding=(1, 1), bias=False)\n",
      "            (bn): BatchNorm2d(32, eps=0.001, momentum=0.03, affine=True, track_running_stats=True)\n",
      "            (act): SiLU(inplace=True)\n",
      "          )\n",
      "        )\n",
      "      )\n",
      "    )\n",
      "    (16): Conv(\n",
      "      (conv): Conv2d(64, 64, kernel_size=(3, 3), stride=(2, 2), padding=(1, 1), bias=False)\n",
      "      (bn): BatchNorm2d(64, eps=0.001, momentum=0.03, affine=True, track_running_stats=True)\n",
      "      (act): SiLU(inplace=True)\n",
      "    )\n",
      "    (17): Concat()\n",
      "    (18): C2f(\n",
      "      (cv1): Conv(\n",
      "        (conv): Conv2d(192, 128, kernel_size=(1, 1), stride=(1, 1), bias=False)\n",
      "        (bn): BatchNorm2d(128, eps=0.001, momentum=0.03, affine=True, track_running_stats=True)\n",
      "        (act): SiLU(inplace=True)\n",
      "      )\n",
      "      (cv2): Conv(\n",
      "        (conv): Conv2d(192, 128, kernel_size=(1, 1), stride=(1, 1), bias=False)\n",
      "        (bn): BatchNorm2d(128, eps=0.001, momentum=0.03, affine=True, track_running_stats=True)\n",
      "        (act): SiLU(inplace=True)\n",
      "      )\n",
      "      (m): ModuleList(\n",
      "        (0): Bottleneck(\n",
      "          (cv1): Conv(\n",
      "            (conv): Conv2d(64, 64, kernel_size=(3, 3), stride=(1, 1), padding=(1, 1), bias=False)\n",
      "            (bn): BatchNorm2d(64, eps=0.001, momentum=0.03, affine=True, track_running_stats=True)\n",
      "            (act): SiLU(inplace=True)\n",
      "          )\n",
      "          (cv2): Conv(\n",
      "            (conv): Conv2d(64, 64, kernel_size=(3, 3), stride=(1, 1), padding=(1, 1), bias=False)\n",
      "            (bn): BatchNorm2d(64, eps=0.001, momentum=0.03, affine=True, track_running_stats=True)\n",
      "            (act): SiLU(inplace=True)\n",
      "          )\n",
      "        )\n",
      "      )\n",
      "    )\n",
      "    (19): Conv(\n",
      "      (conv): Conv2d(128, 128, kernel_size=(3, 3), stride=(2, 2), padding=(1, 1), bias=False)\n",
      "      (bn): BatchNorm2d(128, eps=0.001, momentum=0.03, affine=True, track_running_stats=True)\n",
      "      (act): SiLU(inplace=True)\n",
      "    )\n",
      "    (20): Concat()\n",
      "    (21): C2f(\n",
      "      (cv1): Conv(\n",
      "        (conv): Conv2d(384, 256, kernel_size=(1, 1), stride=(1, 1), bias=False)\n",
      "        (bn): BatchNorm2d(256, eps=0.001, momentum=0.03, affine=True, track_running_stats=True)\n",
      "        (act): SiLU(inplace=True)\n",
      "      )\n",
      "      (cv2): Conv(\n",
      "        (conv): Conv2d(384, 256, kernel_size=(1, 1), stride=(1, 1), bias=False)\n",
      "        (bn): BatchNorm2d(256, eps=0.001, momentum=0.03, affine=True, track_running_stats=True)\n",
      "        (act): SiLU(inplace=True)\n",
      "      )\n",
      "      (m): ModuleList(\n",
      "        (0): Bottleneck(\n",
      "          (cv1): Conv(\n",
      "            (conv): Conv2d(128, 128, kernel_size=(3, 3), stride=(1, 1), padding=(1, 1), bias=False)\n",
      "            (bn): BatchNorm2d(128, eps=0.001, momentum=0.03, affine=True, track_running_stats=True)\n",
      "            (act): SiLU(inplace=True)\n",
      "          )\n",
      "          (cv2): Conv(\n",
      "            (conv): Conv2d(128, 128, kernel_size=(3, 3), stride=(1, 1), padding=(1, 1), bias=False)\n",
      "            (bn): BatchNorm2d(128, eps=0.001, momentum=0.03, affine=True, track_running_stats=True)\n",
      "            (act): SiLU(inplace=True)\n",
      "          )\n",
      "        )\n",
      "      )\n",
      "    )\n",
      "    (22): Detect(\n",
      "      (cv2): ModuleList(\n",
      "        (0): Sequential(\n",
      "          (0): Conv(\n",
      "            (conv): Conv2d(64, 64, kernel_size=(3, 3), stride=(1, 1), padding=(1, 1), bias=False)\n",
      "            (bn): BatchNorm2d(64, eps=0.001, momentum=0.03, affine=True, track_running_stats=True)\n",
      "            (act): SiLU(inplace=True)\n",
      "          )\n",
      "          (1): Conv(\n",
      "            (conv): Conv2d(64, 64, kernel_size=(3, 3), stride=(1, 1), padding=(1, 1), bias=False)\n",
      "            (bn): BatchNorm2d(64, eps=0.001, momentum=0.03, affine=True, track_running_stats=True)\n",
      "            (act): SiLU(inplace=True)\n",
      "          )\n",
      "          (2): Conv2d(64, 64, kernel_size=(1, 1), stride=(1, 1))\n",
      "        )\n",
      "        (1): Sequential(\n",
      "          (0): Conv(\n",
      "            (conv): Conv2d(128, 64, kernel_size=(3, 3), stride=(1, 1), padding=(1, 1), bias=False)\n",
      "            (bn): BatchNorm2d(64, eps=0.001, momentum=0.03, affine=True, track_running_stats=True)\n",
      "            (act): SiLU(inplace=True)\n",
      "          )\n",
      "          (1): Conv(\n",
      "            (conv): Conv2d(64, 64, kernel_size=(3, 3), stride=(1, 1), padding=(1, 1), bias=False)\n",
      "            (bn): BatchNorm2d(64, eps=0.001, momentum=0.03, affine=True, track_running_stats=True)\n",
      "            (act): SiLU(inplace=True)\n",
      "          )\n",
      "          (2): Conv2d(64, 64, kernel_size=(1, 1), stride=(1, 1))\n",
      "        )\n",
      "        (2): Sequential(\n",
      "          (0): Conv(\n",
      "            (conv): Conv2d(256, 64, kernel_size=(3, 3), stride=(1, 1), padding=(1, 1), bias=False)\n",
      "            (bn): BatchNorm2d(64, eps=0.001, momentum=0.03, affine=True, track_running_stats=True)\n",
      "            (act): SiLU(inplace=True)\n",
      "          )\n",
      "          (1): Conv(\n",
      "            (conv): Conv2d(64, 64, kernel_size=(3, 3), stride=(1, 1), padding=(1, 1), bias=False)\n",
      "            (bn): BatchNorm2d(64, eps=0.001, momentum=0.03, affine=True, track_running_stats=True)\n",
      "            (act): SiLU(inplace=True)\n",
      "          )\n",
      "          (2): Conv2d(64, 64, kernel_size=(1, 1), stride=(1, 1))\n",
      "        )\n",
      "      )\n",
      "      (cv3): ModuleList(\n",
      "        (0): Sequential(\n",
      "          (0): Conv(\n",
      "            (conv): Conv2d(64, 64, kernel_size=(3, 3), stride=(1, 1), padding=(1, 1), bias=False)\n",
      "            (bn): BatchNorm2d(64, eps=0.001, momentum=0.03, affine=True, track_running_stats=True)\n",
      "            (act): SiLU(inplace=True)\n",
      "          )\n",
      "          (1): Conv(\n",
      "            (conv): Conv2d(64, 64, kernel_size=(3, 3), stride=(1, 1), padding=(1, 1), bias=False)\n",
      "            (bn): BatchNorm2d(64, eps=0.001, momentum=0.03, affine=True, track_running_stats=True)\n",
      "            (act): SiLU(inplace=True)\n",
      "          )\n",
      "          (2): Conv2d(64, 2, kernel_size=(1, 1), stride=(1, 1))\n",
      "        )\n",
      "        (1): Sequential(\n",
      "          (0): Conv(\n",
      "            (conv): Conv2d(128, 64, kernel_size=(3, 3), stride=(1, 1), padding=(1, 1), bias=False)\n",
      "            (bn): BatchNorm2d(64, eps=0.001, momentum=0.03, affine=True, track_running_stats=True)\n",
      "            (act): SiLU(inplace=True)\n",
      "          )\n",
      "          (1): Conv(\n",
      "            (conv): Conv2d(64, 64, kernel_size=(3, 3), stride=(1, 1), padding=(1, 1), bias=False)\n",
      "            (bn): BatchNorm2d(64, eps=0.001, momentum=0.03, affine=True, track_running_stats=True)\n",
      "            (act): SiLU(inplace=True)\n",
      "          )\n",
      "          (2): Conv2d(64, 2, kernel_size=(1, 1), stride=(1, 1))\n",
      "        )\n",
      "        (2): Sequential(\n",
      "          (0): Conv(\n",
      "            (conv): Conv2d(256, 64, kernel_size=(3, 3), stride=(1, 1), padding=(1, 1), bias=False)\n",
      "            (bn): BatchNorm2d(64, eps=0.001, momentum=0.03, affine=True, track_running_stats=True)\n",
      "            (act): SiLU(inplace=True)\n",
      "          )\n",
      "          (1): Conv(\n",
      "            (conv): Conv2d(64, 64, kernel_size=(3, 3), stride=(1, 1), padding=(1, 1), bias=False)\n",
      "            (bn): BatchNorm2d(64, eps=0.001, momentum=0.03, affine=True, track_running_stats=True)\n",
      "            (act): SiLU(inplace=True)\n",
      "          )\n",
      "          (2): Conv2d(64, 2, kernel_size=(1, 1), stride=(1, 1))\n",
      "        )\n",
      "      )\n",
      "      (dfl): DFL(\n",
      "        (conv): Conv2d(16, 1, kernel_size=(1, 1), stride=(1, 1), bias=False)\n",
      "      )\n",
      "    )\n",
      "  )\n",
      ")\n",
      "Trainer's dataset: /home/under1/Detect/jeongui/all/base/images/train, /home/under1/Detect/jeongui/all/base/images/val\n",
      "\u001b[34m\u001b[1mTensorBoard: \u001b[0mStart with 'tensorboard --logdir runs/detect/train_all', view at http://localhost:6006/\n",
      "Freezing layer 'model.22.dfl.conv.weight'\n",
      "\u001b[34m\u001b[1mAMP: \u001b[0mrunning Automatic Mixed Precision (AMP) checks with YOLOv8n...\n",
      "\u001b[34m\u001b[1mAMP: \u001b[0mchecks passed ✅\n"
     ]
    },
    {
     "name": "stderr",
     "output_type": "stream",
     "text": [
      "\u001b[34m\u001b[1mtrain: \u001b[0mScanning /home/under1/Detect/jeongui/all/base/labels/train... 704 images, 0 backgrounds, 0 corrupt: 100%|██████████| 704/704 [00:00<00:00, 751.22it/s]"
     ]
    },
    {
     "name": "stdout",
     "output_type": "stream",
     "text": [
      "\u001b[34m\u001b[1mtrain: \u001b[0mNew cache created: /home/under1/Detect/jeongui/all/base/labels/train.cache\n"
     ]
    },
    {
     "name": "stderr",
     "output_type": "stream",
     "text": [
      "\n"
     ]
    },
    {
     "name": "stdout",
     "output_type": "stream",
     "text": [
      "\u001b[34m\u001b[1malbumentations: \u001b[0mBlur(p=0.01, blur_limit=(3, 7)), MedianBlur(p=0.01, blur_limit=(3, 7)), ToGray(p=0.01), CLAHE(p=0.01, clip_limit=(1, 4.0), tile_grid_size=(8, 8))\n"
     ]
    },
    {
     "name": "stderr",
     "output_type": "stream",
     "text": [
      "\u001b[34m\u001b[1mval: \u001b[0mScanning /home/under1/Detect/jeongui/all/base/labels/val... 174 images, 0 backgrounds, 0 corrupt: 100%|██████████| 174/174 [00:00<00:00, 750.14it/s]"
     ]
    },
    {
     "name": "stdout",
     "output_type": "stream",
     "text": [
      "\u001b[34m\u001b[1mval: \u001b[0mNew cache created: /home/under1/Detect/jeongui/all/base/labels/val.cache\n"
     ]
    },
    {
     "name": "stderr",
     "output_type": "stream",
     "text": [
      "\n"
     ]
    },
    {
     "name": "stdout",
     "output_type": "stream",
     "text": [
      "Plotting labels to runs/detect/train_all/labels.jpg... \n",
      "\u001b[34m\u001b[1moptimizer:\u001b[0m 'optimizer=auto' found, ignoring 'lr0=0.01' and 'momentum=0.937' and determining best 'optimizer', 'lr0' and 'momentum' automatically... \n",
      "\u001b[34m\u001b[1moptimizer:\u001b[0m AdamW(lr=0.001667, momentum=0.9) with parameter groups 57 weight(decay=0.0), 64 weight(decay=0.0005), 63 bias(decay=0.0)\n",
      "\u001b[34m\u001b[1mTensorBoard: \u001b[0mmodel graph visualization added ✅\n",
      "Image sizes 640 train, 640 val\n",
      "Using 8 dataloader workers\n",
      "Logging results to \u001b[1mruns/detect/train_all\u001b[0m\n",
      "Starting training for 200 epochs...\n",
      "\n",
      "      Epoch    GPU_mem   box_loss   cls_loss   dfl_loss  Instances       Size\n"
     ]
    },
    {
     "name": "stderr",
     "output_type": "stream",
     "text": [
      "      1/200      2.41G      1.396      3.539      1.244         34        640: 100%|██████████| 44/44 [00:04<00:00,  9.00it/s]\n",
      "                 Class     Images  Instances      Box(P          R      mAP50  mAP50-95): 100%|██████████| 6/6 [00:01<00:00,  4.54it/s]"
     ]
    },
    {
     "name": "stdout",
     "output_type": "stream",
     "text": [
      "                   all        174        182    0.00139      0.395     0.0688     0.0389\n"
     ]
    },
    {
     "name": "stderr",
     "output_type": "stream",
     "text": [
      "\n"
     ]
    },
    {
     "name": "stdout",
     "output_type": "stream",
     "text": [
      "\n",
      "      Epoch    GPU_mem   box_loss   cls_loss   dfl_loss  Instances       Size\n"
     ]
    },
    {
     "name": "stderr",
     "output_type": "stream",
     "text": [
      "      2/200      2.11G      1.207      2.354      1.134         24        640: 100%|██████████| 44/44 [00:03<00:00, 11.72it/s]\n",
      "                 Class     Images  Instances      Box(P          R      mAP50  mAP50-95): 100%|██████████| 6/6 [00:00<00:00,  6.46it/s]"
     ]
    },
    {
     "name": "stdout",
     "output_type": "stream",
     "text": [
      "                   all        174        182      0.328      0.473      0.278      0.172\n"
     ]
    },
    {
     "name": "stderr",
     "output_type": "stream",
     "text": [
      "\n"
     ]
    },
    {
     "name": "stdout",
     "output_type": "stream",
     "text": [
      "\n",
      "      Epoch    GPU_mem   box_loss   cls_loss   dfl_loss  Instances       Size\n"
     ]
    },
    {
     "name": "stderr",
     "output_type": "stream",
     "text": [
      "      3/200      2.11G      1.234      2.204      1.166         29        640: 100%|██████████| 44/44 [00:03<00:00, 12.37it/s]\n",
      "                 Class     Images  Instances      Box(P          R      mAP50  mAP50-95): 100%|██████████| 6/6 [00:00<00:00,  8.91it/s]\n"
     ]
    },
    {
     "name": "stdout",
     "output_type": "stream",
     "text": [
      "                   all        174        182      0.429      0.635      0.432      0.278\n",
      "\n",
      "      Epoch    GPU_mem   box_loss   cls_loss   dfl_loss  Instances       Size\n"
     ]
    },
    {
     "name": "stderr",
     "output_type": "stream",
     "text": [
      "      4/200      2.11G      1.215      1.916      1.155         30        640: 100%|██████████| 44/44 [00:03<00:00, 14.32it/s]\n",
      "                 Class     Images  Instances      Box(P          R      mAP50  mAP50-95): 100%|██████████| 6/6 [00:00<00:00,  7.64it/s]"
     ]
    },
    {
     "name": "stdout",
     "output_type": "stream",
     "text": [
      "                   all        174        182      0.465      0.531      0.429      0.268\n"
     ]
    },
    {
     "name": "stderr",
     "output_type": "stream",
     "text": [
      "\n"
     ]
    },
    {
     "name": "stdout",
     "output_type": "stream",
     "text": [
      "\n",
      "      Epoch    GPU_mem   box_loss   cls_loss   dfl_loss  Instances       Size\n"
     ]
    },
    {
     "name": "stderr",
     "output_type": "stream",
     "text": [
      "      5/200      2.11G      1.204      1.703      1.121         23        640: 100%|██████████| 44/44 [00:03<00:00, 12.88it/s]\n",
      "                 Class     Images  Instances      Box(P          R      mAP50  mAP50-95): 100%|██████████| 6/6 [00:00<00:00,  8.66it/s]\n"
     ]
    },
    {
     "name": "stdout",
     "output_type": "stream",
     "text": [
      "                   all        174        182      0.429      0.748      0.475      0.323\n",
      "\n",
      "      Epoch    GPU_mem   box_loss   cls_loss   dfl_loss  Instances       Size\n"
     ]
    },
    {
     "name": "stderr",
     "output_type": "stream",
     "text": [
      "      6/200      2.11G      1.192      1.626      1.129         30        640: 100%|██████████| 44/44 [00:03<00:00, 11.94it/s]\n",
      "                 Class     Images  Instances      Box(P          R      mAP50  mAP50-95): 100%|██████████| 6/6 [00:00<00:00,  9.36it/s]\n"
     ]
    },
    {
     "name": "stdout",
     "output_type": "stream",
     "text": [
      "                   all        174        182      0.476      0.826      0.491      0.341\n",
      "\n",
      "      Epoch    GPU_mem   box_loss   cls_loss   dfl_loss  Instances       Size\n"
     ]
    },
    {
     "name": "stderr",
     "output_type": "stream",
     "text": [
      "      7/200      2.11G      1.178      1.547      1.129         24        640: 100%|██████████| 44/44 [00:03<00:00, 12.60it/s]\n",
      "                 Class     Images  Instances      Box(P          R      mAP50  mAP50-95): 100%|██████████| 6/6 [00:00<00:00,  9.37it/s]\n"
     ]
    },
    {
     "name": "stdout",
     "output_type": "stream",
     "text": [
      "                   all        174        182      0.487      0.709      0.471      0.325\n",
      "\n",
      "      Epoch    GPU_mem   box_loss   cls_loss   dfl_loss  Instances       Size\n"
     ]
    },
    {
     "name": "stderr",
     "output_type": "stream",
     "text": [
      "      8/200       2.1G       1.12      1.442      1.107         29        640: 100%|██████████| 44/44 [00:03<00:00, 13.41it/s]\n",
      "                 Class     Images  Instances      Box(P          R      mAP50  mAP50-95): 100%|██████████| 6/6 [00:00<00:00, 10.19it/s]"
     ]
    },
    {
     "name": "stdout",
     "output_type": "stream",
     "text": [
      "                   all        174        182      0.445      0.831      0.503      0.336\n"
     ]
    },
    {
     "name": "stderr",
     "output_type": "stream",
     "text": [
      "\n"
     ]
    },
    {
     "name": "stdout",
     "output_type": "stream",
     "text": [
      "\n",
      "      Epoch    GPU_mem   box_loss   cls_loss   dfl_loss  Instances       Size\n"
     ]
    },
    {
     "name": "stderr",
     "output_type": "stream",
     "text": [
      "      9/200       2.1G      1.144      1.388      1.101         32        640: 100%|██████████| 44/44 [00:03<00:00, 12.33it/s]\n",
      "                 Class     Images  Instances      Box(P          R      mAP50  mAP50-95): 100%|██████████| 6/6 [00:00<00:00,  9.69it/s]"
     ]
    },
    {
     "name": "stdout",
     "output_type": "stream",
     "text": [
      "                   all        174        182      0.493      0.847      0.541      0.384\n"
     ]
    },
    {
     "name": "stderr",
     "output_type": "stream",
     "text": [
      "\n"
     ]
    },
    {
     "name": "stdout",
     "output_type": "stream",
     "text": [
      "\n",
      "      Epoch    GPU_mem   box_loss   cls_loss   dfl_loss  Instances       Size\n"
     ]
    },
    {
     "name": "stderr",
     "output_type": "stream",
     "text": [
      "     10/200       2.1G      1.146      1.352      1.113         25        640: 100%|██████████| 44/44 [00:03<00:00, 12.74it/s]\n",
      "                 Class     Images  Instances      Box(P          R      mAP50  mAP50-95): 100%|██████████| 6/6 [00:00<00:00, 10.27it/s]"
     ]
    },
    {
     "name": "stdout",
     "output_type": "stream",
     "text": [
      "                   all        174        182       0.48      0.869      0.539      0.382\n"
     ]
    },
    {
     "name": "stderr",
     "output_type": "stream",
     "text": [
      "\n"
     ]
    },
    {
     "name": "stdout",
     "output_type": "stream",
     "text": [
      "\n",
      "      Epoch    GPU_mem   box_loss   cls_loss   dfl_loss  Instances       Size\n"
     ]
    },
    {
     "name": "stderr",
     "output_type": "stream",
     "text": [
      "     11/200       2.1G      1.089      1.299       1.09         28        640: 100%|██████████| 44/44 [00:03<00:00, 13.08it/s]\n",
      "                 Class     Images  Instances      Box(P          R      mAP50  mAP50-95): 100%|██████████| 6/6 [00:00<00:00, 10.44it/s]"
     ]
    },
    {
     "name": "stdout",
     "output_type": "stream",
     "text": [
      "                   all        174        182      0.488      0.781      0.521       0.35\n"
     ]
    },
    {
     "name": "stderr",
     "output_type": "stream",
     "text": [
      "\n"
     ]
    },
    {
     "name": "stdout",
     "output_type": "stream",
     "text": [
      "\n",
      "      Epoch    GPU_mem   box_loss   cls_loss   dfl_loss  Instances       Size\n"
     ]
    },
    {
     "name": "stderr",
     "output_type": "stream",
     "text": [
      "     12/200       2.1G      1.082      1.232      1.086         26        640: 100%|██████████| 44/44 [00:03<00:00, 13.15it/s]\n",
      "                 Class     Images  Instances      Box(P          R      mAP50  mAP50-95): 100%|██████████| 6/6 [00:00<00:00, 10.54it/s]"
     ]
    },
    {
     "name": "stdout",
     "output_type": "stream",
     "text": [
      "                   all        174        182      0.472      0.834      0.552      0.382\n"
     ]
    },
    {
     "name": "stderr",
     "output_type": "stream",
     "text": [
      "\n"
     ]
    },
    {
     "name": "stdout",
     "output_type": "stream",
     "text": [
      "\n",
      "      Epoch    GPU_mem   box_loss   cls_loss   dfl_loss  Instances       Size\n"
     ]
    },
    {
     "name": "stderr",
     "output_type": "stream",
     "text": [
      "     13/200       2.1G      1.116      1.249      1.088         24        640: 100%|██████████| 44/44 [00:03<00:00, 13.17it/s]\n",
      "                 Class     Images  Instances      Box(P          R      mAP50  mAP50-95): 100%|██████████| 6/6 [00:00<00:00, 10.21it/s]"
     ]
    },
    {
     "name": "stdout",
     "output_type": "stream",
     "text": [
      "                   all        174        182      0.472      0.851      0.529      0.358\n"
     ]
    },
    {
     "name": "stderr",
     "output_type": "stream",
     "text": [
      "\n"
     ]
    },
    {
     "name": "stdout",
     "output_type": "stream",
     "text": [
      "\n",
      "      Epoch    GPU_mem   box_loss   cls_loss   dfl_loss  Instances       Size\n"
     ]
    },
    {
     "name": "stderr",
     "output_type": "stream",
     "text": [
      "     14/200       2.1G      1.066      1.232      1.065         31        640: 100%|██████████| 44/44 [00:03<00:00, 13.10it/s]\n",
      "                 Class     Images  Instances      Box(P          R      mAP50  mAP50-95): 100%|██████████| 6/6 [00:00<00:00, 10.55it/s]"
     ]
    },
    {
     "name": "stdout",
     "output_type": "stream",
     "text": [
      "                   all        174        182      0.489      0.879      0.552       0.41\n"
     ]
    },
    {
     "name": "stderr",
     "output_type": "stream",
     "text": [
      "\n"
     ]
    },
    {
     "name": "stdout",
     "output_type": "stream",
     "text": [
      "\n",
      "      Epoch    GPU_mem   box_loss   cls_loss   dfl_loss  Instances       Size\n"
     ]
    },
    {
     "name": "stderr",
     "output_type": "stream",
     "text": [
      "     15/200       2.1G      1.036      1.203      1.061         28        640: 100%|██████████| 44/44 [00:03<00:00, 13.18it/s]\n",
      "                 Class     Images  Instances      Box(P          R      mAP50  mAP50-95): 100%|██████████| 6/6 [00:00<00:00, 10.46it/s]"
     ]
    },
    {
     "name": "stdout",
     "output_type": "stream",
     "text": [
      "                   all        174        182      0.493      0.862      0.575      0.415\n"
     ]
    },
    {
     "name": "stderr",
     "output_type": "stream",
     "text": [
      "\n"
     ]
    },
    {
     "name": "stdout",
     "output_type": "stream",
     "text": [
      "\n",
      "      Epoch    GPU_mem   box_loss   cls_loss   dfl_loss  Instances       Size\n"
     ]
    },
    {
     "name": "stderr",
     "output_type": "stream",
     "text": [
      "     16/200       2.1G       1.02      1.164      1.051         23        640: 100%|██████████| 44/44 [00:03<00:00, 13.39it/s]\n",
      "                 Class     Images  Instances      Box(P          R      mAP50  mAP50-95): 100%|██████████| 6/6 [00:00<00:00,  7.78it/s]"
     ]
    },
    {
     "name": "stdout",
     "output_type": "stream",
     "text": [
      "                   all        174        182       0.49      0.795      0.587      0.438\n"
     ]
    },
    {
     "name": "stderr",
     "output_type": "stream",
     "text": [
      "\n"
     ]
    },
    {
     "name": "stdout",
     "output_type": "stream",
     "text": [
      "\n",
      "      Epoch    GPU_mem   box_loss   cls_loss   dfl_loss  Instances       Size\n"
     ]
    },
    {
     "name": "stderr",
     "output_type": "stream",
     "text": [
      "     17/200       2.1G      1.041      1.173      1.069         22        640: 100%|██████████| 44/44 [00:03<00:00, 12.36it/s]\n",
      "                 Class     Images  Instances      Box(P          R      mAP50  mAP50-95): 100%|██████████| 6/6 [00:00<00:00,  9.20it/s]"
     ]
    },
    {
     "name": "stdout",
     "output_type": "stream",
     "text": [
      "                   all        174        182      0.495      0.863       0.56      0.421\n"
     ]
    },
    {
     "name": "stderr",
     "output_type": "stream",
     "text": [
      "\n"
     ]
    },
    {
     "name": "stdout",
     "output_type": "stream",
     "text": [
      "\n",
      "      Epoch    GPU_mem   box_loss   cls_loss   dfl_loss  Instances       Size\n"
     ]
    },
    {
     "name": "stderr",
     "output_type": "stream",
     "text": [
      "     18/200       2.1G       1.04      1.169      1.059         23        640: 100%|██████████| 44/44 [00:03<00:00, 11.87it/s]\n",
      "                 Class     Images  Instances      Box(P          R      mAP50  mAP50-95): 100%|██████████| 6/6 [00:00<00:00,  8.08it/s]"
     ]
    },
    {
     "name": "stdout",
     "output_type": "stream",
     "text": [
      "                   all        174        182      0.498      0.818      0.594      0.435\n"
     ]
    },
    {
     "name": "stderr",
     "output_type": "stream",
     "text": [
      "\n"
     ]
    },
    {
     "name": "stdout",
     "output_type": "stream",
     "text": [
      "\n",
      "      Epoch    GPU_mem   box_loss   cls_loss   dfl_loss  Instances       Size\n"
     ]
    },
    {
     "name": "stderr",
     "output_type": "stream",
     "text": [
      "     19/200       2.1G      1.045      1.154      1.066         24        640: 100%|██████████| 44/44 [00:03<00:00, 12.90it/s]\n",
      "                 Class     Images  Instances      Box(P          R      mAP50  mAP50-95): 100%|██████████| 6/6 [00:00<00:00, 10.41it/s]"
     ]
    },
    {
     "name": "stdout",
     "output_type": "stream",
     "text": [
      "                   all        174        182      0.493       0.83      0.566      0.423\n"
     ]
    },
    {
     "name": "stderr",
     "output_type": "stream",
     "text": [
      "\n"
     ]
    },
    {
     "name": "stdout",
     "output_type": "stream",
     "text": [
      "\n",
      "      Epoch    GPU_mem   box_loss   cls_loss   dfl_loss  Instances       Size\n"
     ]
    },
    {
     "name": "stderr",
     "output_type": "stream",
     "text": [
      "     20/200       2.1G      1.021      1.153      1.053         19        640: 100%|██████████| 44/44 [00:03<00:00, 12.84it/s]\n",
      "                 Class     Images  Instances      Box(P          R      mAP50  mAP50-95): 100%|██████████| 6/6 [00:00<00:00, 10.40it/s]"
     ]
    },
    {
     "name": "stdout",
     "output_type": "stream",
     "text": [
      "                   all        174        182      0.491      0.875      0.596      0.433\n"
     ]
    },
    {
     "name": "stderr",
     "output_type": "stream",
     "text": [
      "\n"
     ]
    },
    {
     "name": "stdout",
     "output_type": "stream",
     "text": [
      "\n",
      "      Epoch    GPU_mem   box_loss   cls_loss   dfl_loss  Instances       Size\n"
     ]
    },
    {
     "name": "stderr",
     "output_type": "stream",
     "text": [
      "     21/200       2.1G      1.034      1.167      1.056         19        640: 100%|██████████| 44/44 [00:03<00:00, 13.30it/s]\n",
      "                 Class     Images  Instances      Box(P          R      mAP50  mAP50-95): 100%|██████████| 6/6 [00:00<00:00, 10.47it/s]"
     ]
    },
    {
     "name": "stdout",
     "output_type": "stream",
     "text": [
      "                   all        174        182      0.472       0.84      0.562      0.414\n"
     ]
    },
    {
     "name": "stderr",
     "output_type": "stream",
     "text": [
      "\n"
     ]
    },
    {
     "name": "stdout",
     "output_type": "stream",
     "text": [
      "\n",
      "      Epoch    GPU_mem   box_loss   cls_loss   dfl_loss  Instances       Size\n"
     ]
    },
    {
     "name": "stderr",
     "output_type": "stream",
     "text": [
      "     22/200       2.1G      1.008      1.143      1.041         26        640: 100%|██████████| 44/44 [00:03<00:00, 12.83it/s]\n",
      "                 Class     Images  Instances      Box(P          R      mAP50  mAP50-95): 100%|██████████| 6/6 [00:00<00:00, 10.43it/s]"
     ]
    },
    {
     "name": "stdout",
     "output_type": "stream",
     "text": [
      "                   all        174        182      0.504      0.918      0.586      0.429\n"
     ]
    },
    {
     "name": "stderr",
     "output_type": "stream",
     "text": [
      "\n"
     ]
    },
    {
     "name": "stdout",
     "output_type": "stream",
     "text": [
      "\n",
      "      Epoch    GPU_mem   box_loss   cls_loss   dfl_loss  Instances       Size\n"
     ]
    },
    {
     "name": "stderr",
     "output_type": "stream",
     "text": [
      "     23/200       2.1G      1.014       1.14      1.058         30        640: 100%|██████████| 44/44 [00:03<00:00, 11.54it/s]\n",
      "                 Class     Images  Instances      Box(P          R      mAP50  mAP50-95): 100%|██████████| 6/6 [00:00<00:00, 10.20it/s]"
     ]
    },
    {
     "name": "stdout",
     "output_type": "stream",
     "text": [
      "                   all        174        182      0.501      0.847      0.614      0.462\n"
     ]
    },
    {
     "name": "stderr",
     "output_type": "stream",
     "text": [
      "\n"
     ]
    },
    {
     "name": "stdout",
     "output_type": "stream",
     "text": [
      "\n",
      "      Epoch    GPU_mem   box_loss   cls_loss   dfl_loss  Instances       Size\n"
     ]
    },
    {
     "name": "stderr",
     "output_type": "stream",
     "text": [
      "     24/200       2.1G     0.9993      1.153      1.048         22        640: 100%|██████████| 44/44 [00:03<00:00, 12.72it/s]\n",
      "                 Class     Images  Instances      Box(P          R      mAP50  mAP50-95): 100%|██████████| 6/6 [00:00<00:00,  9.66it/s]"
     ]
    },
    {
     "name": "stdout",
     "output_type": "stream",
     "text": [
      "                   all        174        182      0.472      0.854      0.621      0.428\n"
     ]
    },
    {
     "name": "stderr",
     "output_type": "stream",
     "text": [
      "\n"
     ]
    },
    {
     "name": "stdout",
     "output_type": "stream",
     "text": [
      "\n",
      "      Epoch    GPU_mem   box_loss   cls_loss   dfl_loss  Instances       Size\n"
     ]
    },
    {
     "name": "stderr",
     "output_type": "stream",
     "text": [
      "     25/200       2.1G       1.01      1.112      1.042         28        640: 100%|██████████| 44/44 [00:03<00:00, 11.91it/s]\n",
      "                 Class     Images  Instances      Box(P          R      mAP50  mAP50-95): 100%|██████████| 6/6 [00:00<00:00,  9.96it/s]"
     ]
    },
    {
     "name": "stdout",
     "output_type": "stream",
     "text": [
      "                   all        174        182       0.49      0.845      0.599      0.451\n"
     ]
    },
    {
     "name": "stderr",
     "output_type": "stream",
     "text": [
      "\n"
     ]
    },
    {
     "name": "stdout",
     "output_type": "stream",
     "text": [
      "\n",
      "      Epoch    GPU_mem   box_loss   cls_loss   dfl_loss  Instances       Size\n"
     ]
    },
    {
     "name": "stderr",
     "output_type": "stream",
     "text": [
      "     26/200       2.1G     0.9963      1.126      1.053         18        640: 100%|██████████| 44/44 [00:03<00:00, 13.02it/s]\n",
      "                 Class     Images  Instances      Box(P          R      mAP50  mAP50-95): 100%|██████████| 6/6 [00:00<00:00, 10.61it/s]"
     ]
    },
    {
     "name": "stdout",
     "output_type": "stream",
     "text": [
      "                   all        174        182      0.545      0.813      0.667      0.492\n"
     ]
    },
    {
     "name": "stderr",
     "output_type": "stream",
     "text": [
      "\n"
     ]
    },
    {
     "name": "stdout",
     "output_type": "stream",
     "text": [
      "\n",
      "      Epoch    GPU_mem   box_loss   cls_loss   dfl_loss  Instances       Size\n"
     ]
    },
    {
     "name": "stderr",
     "output_type": "stream",
     "text": [
      "     27/200       2.1G     0.9578       1.09      1.028         32        640: 100%|██████████| 44/44 [00:03<00:00, 12.82it/s]\n",
      "                 Class     Images  Instances      Box(P          R      mAP50  mAP50-95): 100%|██████████| 6/6 [00:00<00:00, 10.79it/s]"
     ]
    },
    {
     "name": "stdout",
     "output_type": "stream",
     "text": [
      "                   all        174        182      0.516       0.87      0.595      0.441\n"
     ]
    },
    {
     "name": "stderr",
     "output_type": "stream",
     "text": [
      "\n"
     ]
    },
    {
     "name": "stdout",
     "output_type": "stream",
     "text": [
      "\n",
      "      Epoch    GPU_mem   box_loss   cls_loss   dfl_loss  Instances       Size\n"
     ]
    },
    {
     "name": "stderr",
     "output_type": "stream",
     "text": [
      "     28/200       2.1G      1.006      1.068       1.04         25        640: 100%|██████████| 44/44 [00:03<00:00, 12.30it/s]\n",
      "                 Class     Images  Instances      Box(P          R      mAP50  mAP50-95): 100%|██████████| 6/6 [00:00<00:00,  9.90it/s]"
     ]
    },
    {
     "name": "stdout",
     "output_type": "stream",
     "text": [
      "                   all        174        182      0.525      0.847      0.662      0.493\n"
     ]
    },
    {
     "name": "stderr",
     "output_type": "stream",
     "text": [
      "\n"
     ]
    },
    {
     "name": "stdout",
     "output_type": "stream",
     "text": [
      "\n",
      "      Epoch    GPU_mem   box_loss   cls_loss   dfl_loss  Instances       Size\n"
     ]
    },
    {
     "name": "stderr",
     "output_type": "stream",
     "text": [
      "     29/200       2.1G     0.9678      1.071      1.044         36        640: 100%|██████████| 44/44 [00:03<00:00, 12.62it/s]\n",
      "                 Class     Images  Instances      Box(P          R      mAP50  mAP50-95): 100%|██████████| 6/6 [00:00<00:00, 10.18it/s]"
     ]
    },
    {
     "name": "stdout",
     "output_type": "stream",
     "text": [
      "                   all        174        182      0.521      0.846      0.661      0.495\n"
     ]
    },
    {
     "name": "stderr",
     "output_type": "stream",
     "text": [
      "\n"
     ]
    },
    {
     "name": "stdout",
     "output_type": "stream",
     "text": [
      "\n",
      "      Epoch    GPU_mem   box_loss   cls_loss   dfl_loss  Instances       Size\n"
     ]
    },
    {
     "name": "stderr",
     "output_type": "stream",
     "text": [
      "     30/200       2.1G       0.96      1.087      1.038         31        640: 100%|██████████| 44/44 [00:03<00:00, 11.95it/s]\n",
      "                 Class     Images  Instances      Box(P          R      mAP50  mAP50-95): 100%|██████████| 6/6 [00:00<00:00,  9.40it/s]"
     ]
    },
    {
     "name": "stdout",
     "output_type": "stream",
     "text": [
      "                   all        174        182      0.557      0.791       0.68      0.508\n"
     ]
    },
    {
     "name": "stderr",
     "output_type": "stream",
     "text": [
      "\n"
     ]
    },
    {
     "name": "stdout",
     "output_type": "stream",
     "text": [
      "\n",
      "      Epoch    GPU_mem   box_loss   cls_loss   dfl_loss  Instances       Size\n"
     ]
    },
    {
     "name": "stderr",
     "output_type": "stream",
     "text": [
      "     31/200       2.1G     0.9855      1.056       1.03         22        640: 100%|██████████| 44/44 [00:03<00:00, 13.29it/s]\n",
      "                 Class     Images  Instances      Box(P          R      mAP50  mAP50-95): 100%|██████████| 6/6 [00:00<00:00, 10.83it/s]"
     ]
    },
    {
     "name": "stdout",
     "output_type": "stream",
     "text": [
      "                   all        174        182      0.605      0.746      0.725      0.535\n"
     ]
    },
    {
     "name": "stderr",
     "output_type": "stream",
     "text": [
      "\n"
     ]
    },
    {
     "name": "stdout",
     "output_type": "stream",
     "text": [
      "\n",
      "      Epoch    GPU_mem   box_loss   cls_loss   dfl_loss  Instances       Size\n"
     ]
    },
    {
     "name": "stderr",
     "output_type": "stream",
     "text": [
      "     32/200       2.1G     0.9524      1.042      1.021         34        640: 100%|██████████| 44/44 [00:03<00:00, 12.84it/s]\n",
      "                 Class     Images  Instances      Box(P          R      mAP50  mAP50-95): 100%|██████████| 6/6 [00:00<00:00, 10.77it/s]"
     ]
    },
    {
     "name": "stdout",
     "output_type": "stream",
     "text": [
      "                   all        174        182      0.625      0.777       0.75       0.56\n"
     ]
    },
    {
     "name": "stderr",
     "output_type": "stream",
     "text": [
      "\n"
     ]
    },
    {
     "name": "stdout",
     "output_type": "stream",
     "text": [
      "\n",
      "      Epoch    GPU_mem   box_loss   cls_loss   dfl_loss  Instances       Size\n"
     ]
    },
    {
     "name": "stderr",
     "output_type": "stream",
     "text": [
      "     33/200       2.1G     0.9523      1.052      1.025         26        640: 100%|██████████| 44/44 [00:03<00:00, 12.23it/s]\n",
      "                 Class     Images  Instances      Box(P          R      mAP50  mAP50-95): 100%|██████████| 6/6 [00:00<00:00, 10.05it/s]"
     ]
    },
    {
     "name": "stdout",
     "output_type": "stream",
     "text": [
      "                   all        174        182      0.544       0.83      0.741      0.553\n"
     ]
    },
    {
     "name": "stderr",
     "output_type": "stream",
     "text": [
      "\n"
     ]
    },
    {
     "name": "stdout",
     "output_type": "stream",
     "text": [
      "\n",
      "      Epoch    GPU_mem   box_loss   cls_loss   dfl_loss  Instances       Size\n"
     ]
    },
    {
     "name": "stderr",
     "output_type": "stream",
     "text": [
      "     34/200       2.1G      0.911       1.03      1.003         29        640: 100%|██████████| 44/44 [00:03<00:00, 12.07it/s]\n",
      "                 Class     Images  Instances      Box(P          R      mAP50  mAP50-95): 100%|██████████| 6/6 [00:00<00:00, 10.13it/s]"
     ]
    },
    {
     "name": "stdout",
     "output_type": "stream",
     "text": [
      "                   all        174        182      0.552      0.781      0.685      0.505\n"
     ]
    },
    {
     "name": "stderr",
     "output_type": "stream",
     "text": [
      "\n"
     ]
    },
    {
     "name": "stdout",
     "output_type": "stream",
     "text": [
      "\n",
      "      Epoch    GPU_mem   box_loss   cls_loss   dfl_loss  Instances       Size\n"
     ]
    },
    {
     "name": "stderr",
     "output_type": "stream",
     "text": [
      "     35/200       2.1G     0.9565      1.045      1.027         23        640: 100%|██████████| 44/44 [00:03<00:00, 12.33it/s]\n",
      "                 Class     Images  Instances      Box(P          R      mAP50  mAP50-95): 100%|██████████| 6/6 [00:00<00:00,  9.78it/s]"
     ]
    },
    {
     "name": "stdout",
     "output_type": "stream",
     "text": [
      "                   all        174        182      0.623      0.749      0.736       0.54\n"
     ]
    },
    {
     "name": "stderr",
     "output_type": "stream",
     "text": [
      "\n"
     ]
    },
    {
     "name": "stdout",
     "output_type": "stream",
     "text": [
      "\n",
      "      Epoch    GPU_mem   box_loss   cls_loss   dfl_loss  Instances       Size\n"
     ]
    },
    {
     "name": "stderr",
     "output_type": "stream",
     "text": [
      "     36/200       2.1G     0.9458     0.9991      1.041         26        640: 100%|██████████| 44/44 [00:03<00:00, 12.69it/s]\n",
      "                 Class     Images  Instances      Box(P          R      mAP50  mAP50-95): 100%|██████████| 6/6 [00:00<00:00,  9.42it/s]"
     ]
    },
    {
     "name": "stdout",
     "output_type": "stream",
     "text": [
      "                   all        174        182      0.595       0.82      0.781      0.578\n"
     ]
    },
    {
     "name": "stderr",
     "output_type": "stream",
     "text": [
      "\n"
     ]
    },
    {
     "name": "stdout",
     "output_type": "stream",
     "text": [
      "\n",
      "      Epoch    GPU_mem   box_loss   cls_loss   dfl_loss  Instances       Size\n"
     ]
    },
    {
     "name": "stderr",
     "output_type": "stream",
     "text": [
      "     37/200       2.1G     0.9101      1.011      1.006         24        640: 100%|██████████| 44/44 [00:03<00:00, 12.87it/s]\n",
      "                 Class     Images  Instances      Box(P          R      mAP50  mAP50-95): 100%|██████████| 6/6 [00:00<00:00,  8.23it/s]"
     ]
    },
    {
     "name": "stdout",
     "output_type": "stream",
     "text": [
      "                   all        174        182      0.565      0.812      0.695      0.522\n"
     ]
    },
    {
     "name": "stderr",
     "output_type": "stream",
     "text": [
      "\n"
     ]
    },
    {
     "name": "stdout",
     "output_type": "stream",
     "text": [
      "\n",
      "      Epoch    GPU_mem   box_loss   cls_loss   dfl_loss  Instances       Size\n"
     ]
    },
    {
     "name": "stderr",
     "output_type": "stream",
     "text": [
      "     38/200       2.1G     0.9315      1.017      1.009         25        640: 100%|██████████| 44/44 [00:03<00:00, 12.41it/s]\n",
      "                 Class     Images  Instances      Box(P          R      mAP50  mAP50-95): 100%|██████████| 6/6 [00:00<00:00,  9.13it/s]"
     ]
    },
    {
     "name": "stdout",
     "output_type": "stream",
     "text": [
      "                   all        174        182      0.573      0.785      0.707      0.523\n"
     ]
    },
    {
     "name": "stderr",
     "output_type": "stream",
     "text": [
      "\n"
     ]
    },
    {
     "name": "stdout",
     "output_type": "stream",
     "text": [
      "\n",
      "      Epoch    GPU_mem   box_loss   cls_loss   dfl_loss  Instances       Size\n"
     ]
    },
    {
     "name": "stderr",
     "output_type": "stream",
     "text": [
      "     39/200       2.1G     0.9193     0.9999      1.016         24        640: 100%|██████████| 44/44 [00:03<00:00, 12.29it/s]\n",
      "                 Class     Images  Instances      Box(P          R      mAP50  mAP50-95): 100%|██████████| 6/6 [00:00<00:00,  9.62it/s]"
     ]
    },
    {
     "name": "stdout",
     "output_type": "stream",
     "text": [
      "                   all        174        182      0.634       0.85      0.807      0.602\n"
     ]
    },
    {
     "name": "stderr",
     "output_type": "stream",
     "text": [
      "\n"
     ]
    },
    {
     "name": "stdout",
     "output_type": "stream",
     "text": [
      "\n",
      "      Epoch    GPU_mem   box_loss   cls_loss   dfl_loss  Instances       Size\n"
     ]
    },
    {
     "name": "stderr",
     "output_type": "stream",
     "text": [
      "     40/200       2.1G     0.9283      1.008      1.012         36        640: 100%|██████████| 44/44 [00:03<00:00, 12.06it/s]\n",
      "                 Class     Images  Instances      Box(P          R      mAP50  mAP50-95): 100%|██████████| 6/6 [00:00<00:00,  9.89it/s]"
     ]
    },
    {
     "name": "stdout",
     "output_type": "stream",
     "text": [
      "                   all        174        182      0.622      0.807      0.784      0.584\n"
     ]
    },
    {
     "name": "stderr",
     "output_type": "stream",
     "text": [
      "\n"
     ]
    },
    {
     "name": "stdout",
     "output_type": "stream",
     "text": [
      "\n",
      "      Epoch    GPU_mem   box_loss   cls_loss   dfl_loss  Instances       Size\n"
     ]
    },
    {
     "name": "stderr",
     "output_type": "stream",
     "text": [
      "     41/200       2.1G     0.9428          1      1.025         23        640: 100%|██████████| 44/44 [00:03<00:00, 11.24it/s]\n",
      "                 Class     Images  Instances      Box(P          R      mAP50  mAP50-95): 100%|██████████| 6/6 [00:00<00:00,  7.90it/s]"
     ]
    },
    {
     "name": "stdout",
     "output_type": "stream",
     "text": [
      "                   all        174        182       0.66      0.824      0.783      0.588\n"
     ]
    },
    {
     "name": "stderr",
     "output_type": "stream",
     "text": [
      "\n"
     ]
    },
    {
     "name": "stdout",
     "output_type": "stream",
     "text": [
      "\n",
      "      Epoch    GPU_mem   box_loss   cls_loss   dfl_loss  Instances       Size\n"
     ]
    },
    {
     "name": "stderr",
     "output_type": "stream",
     "text": [
      "     42/200       2.1G     0.9279     0.9684      1.015         27        640: 100%|██████████| 44/44 [00:03<00:00, 12.16it/s]\n",
      "                 Class     Images  Instances      Box(P          R      mAP50  mAP50-95): 100%|██████████| 6/6 [00:00<00:00,  9.95it/s]"
     ]
    },
    {
     "name": "stdout",
     "output_type": "stream",
     "text": [
      "                   all        174        182      0.649      0.855      0.804      0.591\n"
     ]
    },
    {
     "name": "stderr",
     "output_type": "stream",
     "text": [
      "\n"
     ]
    },
    {
     "name": "stdout",
     "output_type": "stream",
     "text": [
      "\n",
      "      Epoch    GPU_mem   box_loss   cls_loss   dfl_loss  Instances       Size\n"
     ]
    },
    {
     "name": "stderr",
     "output_type": "stream",
     "text": [
      "     43/200       2.1G     0.9119     0.9619     0.9956         34        640: 100%|██████████| 44/44 [00:03<00:00, 13.22it/s]\n",
      "                 Class     Images  Instances      Box(P          R      mAP50  mAP50-95): 100%|██████████| 6/6 [00:00<00:00, 10.46it/s]"
     ]
    },
    {
     "name": "stdout",
     "output_type": "stream",
     "text": [
      "                   all        174        182      0.612      0.851      0.794      0.568\n"
     ]
    },
    {
     "name": "stderr",
     "output_type": "stream",
     "text": [
      "\n"
     ]
    },
    {
     "name": "stdout",
     "output_type": "stream",
     "text": [
      "\n",
      "      Epoch    GPU_mem   box_loss   cls_loss   dfl_loss  Instances       Size\n"
     ]
    },
    {
     "name": "stderr",
     "output_type": "stream",
     "text": [
      "     44/200       2.1G     0.9482     0.9565       1.02         24        640: 100%|██████████| 44/44 [00:03<00:00, 13.17it/s]\n",
      "                 Class     Images  Instances      Box(P          R      mAP50  mAP50-95): 100%|██████████| 6/6 [00:00<00:00, 10.76it/s]"
     ]
    },
    {
     "name": "stdout",
     "output_type": "stream",
     "text": [
      "                   all        174        182      0.708      0.805      0.816      0.606\n"
     ]
    },
    {
     "name": "stderr",
     "output_type": "stream",
     "text": [
      "\n"
     ]
    },
    {
     "name": "stdout",
     "output_type": "stream",
     "text": [
      "\n",
      "      Epoch    GPU_mem   box_loss   cls_loss   dfl_loss  Instances       Size\n"
     ]
    },
    {
     "name": "stderr",
     "output_type": "stream",
     "text": [
      "     45/200       2.1G      0.919     0.9672     0.9987         29        640: 100%|██████████| 44/44 [00:03<00:00, 13.09it/s]\n",
      "                 Class     Images  Instances      Box(P          R      mAP50  mAP50-95): 100%|██████████| 6/6 [00:00<00:00, 10.89it/s]"
     ]
    },
    {
     "name": "stdout",
     "output_type": "stream",
     "text": [
      "                   all        174        182      0.623      0.811      0.775      0.574\n"
     ]
    },
    {
     "name": "stderr",
     "output_type": "stream",
     "text": [
      "\n"
     ]
    },
    {
     "name": "stdout",
     "output_type": "stream",
     "text": [
      "\n",
      "      Epoch    GPU_mem   box_loss   cls_loss   dfl_loss  Instances       Size\n"
     ]
    },
    {
     "name": "stderr",
     "output_type": "stream",
     "text": [
      "     46/200       2.1G     0.9355     0.9358      1.019         21        640: 100%|██████████| 44/44 [00:03<00:00, 13.06it/s]\n",
      "                 Class     Images  Instances      Box(P          R      mAP50  mAP50-95): 100%|██████████| 6/6 [00:00<00:00,  9.31it/s]"
     ]
    },
    {
     "name": "stdout",
     "output_type": "stream",
     "text": [
      "                   all        174        182      0.609      0.745      0.726      0.511\n"
     ]
    },
    {
     "name": "stderr",
     "output_type": "stream",
     "text": [
      "\n"
     ]
    },
    {
     "name": "stdout",
     "output_type": "stream",
     "text": [
      "\n",
      "      Epoch    GPU_mem   box_loss   cls_loss   dfl_loss  Instances       Size\n"
     ]
    },
    {
     "name": "stderr",
     "output_type": "stream",
     "text": [
      "     47/200       2.1G     0.9129      0.931     0.9992         33        640: 100%|██████████| 44/44 [00:03<00:00, 13.06it/s]\n",
      "                 Class     Images  Instances      Box(P          R      mAP50  mAP50-95): 100%|██████████| 6/6 [00:00<00:00, 10.71it/s]"
     ]
    },
    {
     "name": "stdout",
     "output_type": "stream",
     "text": [
      "                   all        174        182      0.601      0.777      0.736      0.541\n"
     ]
    },
    {
     "name": "stderr",
     "output_type": "stream",
     "text": [
      "\n"
     ]
    },
    {
     "name": "stdout",
     "output_type": "stream",
     "text": [
      "\n",
      "      Epoch    GPU_mem   box_loss   cls_loss   dfl_loss  Instances       Size\n"
     ]
    },
    {
     "name": "stderr",
     "output_type": "stream",
     "text": [
      "     48/200       2.1G     0.9265     0.9019      1.011         32        640: 100%|██████████| 44/44 [00:03<00:00, 13.20it/s]\n",
      "                 Class     Images  Instances      Box(P          R      mAP50  mAP50-95): 100%|██████████| 6/6 [00:00<00:00, 10.57it/s]"
     ]
    },
    {
     "name": "stdout",
     "output_type": "stream",
     "text": [
      "                   all        174        182      0.592      0.791       0.72      0.526\n"
     ]
    },
    {
     "name": "stderr",
     "output_type": "stream",
     "text": [
      "\n"
     ]
    },
    {
     "name": "stdout",
     "output_type": "stream",
     "text": [
      "\n",
      "      Epoch    GPU_mem   box_loss   cls_loss   dfl_loss  Instances       Size\n"
     ]
    },
    {
     "name": "stderr",
     "output_type": "stream",
     "text": [
      "     49/200       2.1G     0.9159     0.9607      1.012         28        640: 100%|██████████| 44/44 [00:03<00:00, 13.04it/s]\n",
      "                 Class     Images  Instances      Box(P          R      mAP50  mAP50-95): 100%|██████████| 6/6 [00:00<00:00, 10.68it/s]"
     ]
    },
    {
     "name": "stdout",
     "output_type": "stream",
     "text": [
      "                   all        174        182       0.64      0.807      0.772      0.578\n"
     ]
    },
    {
     "name": "stderr",
     "output_type": "stream",
     "text": [
      "\n"
     ]
    },
    {
     "name": "stdout",
     "output_type": "stream",
     "text": [
      "\n",
      "      Epoch    GPU_mem   box_loss   cls_loss   dfl_loss  Instances       Size\n"
     ]
    },
    {
     "name": "stderr",
     "output_type": "stream",
     "text": [
      "     50/200       2.1G     0.8994     0.9217      0.998         26        640: 100%|██████████| 44/44 [00:03<00:00, 12.95it/s]\n",
      "                 Class     Images  Instances      Box(P          R      mAP50  mAP50-95): 100%|██████████| 6/6 [00:00<00:00, 10.91it/s]"
     ]
    },
    {
     "name": "stdout",
     "output_type": "stream",
     "text": [
      "                   all        174        182      0.594      0.763      0.737      0.547\n"
     ]
    },
    {
     "name": "stderr",
     "output_type": "stream",
     "text": [
      "\n"
     ]
    },
    {
     "name": "stdout",
     "output_type": "stream",
     "text": [
      "\n",
      "      Epoch    GPU_mem   box_loss   cls_loss   dfl_loss  Instances       Size\n"
     ]
    },
    {
     "name": "stderr",
     "output_type": "stream",
     "text": [
      "     51/200       2.1G     0.8905     0.8846     0.9867         16        640: 100%|██████████| 44/44 [00:03<00:00, 11.77it/s]\n",
      "                 Class     Images  Instances      Box(P          R      mAP50  mAP50-95): 100%|██████████| 6/6 [00:00<00:00, 10.26it/s]"
     ]
    },
    {
     "name": "stdout",
     "output_type": "stream",
     "text": [
      "                   all        174        182      0.658      0.816      0.797      0.596\n"
     ]
    },
    {
     "name": "stderr",
     "output_type": "stream",
     "text": [
      "\n"
     ]
    },
    {
     "name": "stdout",
     "output_type": "stream",
     "text": [
      "\n",
      "      Epoch    GPU_mem   box_loss   cls_loss   dfl_loss  Instances       Size\n"
     ]
    },
    {
     "name": "stderr",
     "output_type": "stream",
     "text": [
      "     52/200       2.1G     0.9034     0.9089      1.003         32        640: 100%|██████████| 44/44 [00:03<00:00, 12.79it/s]\n",
      "                 Class     Images  Instances      Box(P          R      mAP50  mAP50-95): 100%|██████████| 6/6 [00:00<00:00, 10.18it/s]"
     ]
    },
    {
     "name": "stdout",
     "output_type": "stream",
     "text": [
      "                   all        174        182      0.678      0.762      0.774      0.567\n"
     ]
    },
    {
     "name": "stderr",
     "output_type": "stream",
     "text": [
      "\n"
     ]
    },
    {
     "name": "stdout",
     "output_type": "stream",
     "text": [
      "\n",
      "      Epoch    GPU_mem   box_loss   cls_loss   dfl_loss  Instances       Size\n"
     ]
    },
    {
     "name": "stderr",
     "output_type": "stream",
     "text": [
      "     53/200       2.1G     0.8805     0.8816     0.9845         23        640: 100%|██████████| 44/44 [00:03<00:00, 13.10it/s]\n",
      "                 Class     Images  Instances      Box(P          R      mAP50  mAP50-95): 100%|██████████| 6/6 [00:00<00:00, 10.63it/s]"
     ]
    },
    {
     "name": "stdout",
     "output_type": "stream",
     "text": [
      "                   all        174        182      0.657      0.791      0.771      0.574\n"
     ]
    },
    {
     "name": "stderr",
     "output_type": "stream",
     "text": [
      "\n"
     ]
    },
    {
     "name": "stdout",
     "output_type": "stream",
     "text": [
      "\n",
      "      Epoch    GPU_mem   box_loss   cls_loss   dfl_loss  Instances       Size\n"
     ]
    },
    {
     "name": "stderr",
     "output_type": "stream",
     "text": [
      "     54/200       2.1G     0.9034     0.8687      0.995         24        640: 100%|██████████| 44/44 [00:03<00:00, 13.19it/s]\n",
      "                 Class     Images  Instances      Box(P          R      mAP50  mAP50-95): 100%|██████████| 6/6 [00:00<00:00, 10.86it/s]"
     ]
    },
    {
     "name": "stdout",
     "output_type": "stream",
     "text": [
      "                   all        174        182      0.604      0.838      0.773      0.576\n"
     ]
    },
    {
     "name": "stderr",
     "output_type": "stream",
     "text": [
      "\n"
     ]
    },
    {
     "name": "stdout",
     "output_type": "stream",
     "text": [
      "\n",
      "      Epoch    GPU_mem   box_loss   cls_loss   dfl_loss  Instances       Size\n"
     ]
    },
    {
     "name": "stderr",
     "output_type": "stream",
     "text": [
      "     55/200       2.1G     0.8811     0.8815     0.9944         32        640: 100%|██████████| 44/44 [00:03<00:00, 13.11it/s]\n",
      "                 Class     Images  Instances      Box(P          R      mAP50  mAP50-95): 100%|██████████| 6/6 [00:00<00:00, 10.97it/s]"
     ]
    },
    {
     "name": "stdout",
     "output_type": "stream",
     "text": [
      "                   all        174        182       0.63      0.776       0.75      0.554\n"
     ]
    },
    {
     "name": "stderr",
     "output_type": "stream",
     "text": [
      "\n"
     ]
    },
    {
     "name": "stdout",
     "output_type": "stream",
     "text": [
      "\n",
      "      Epoch    GPU_mem   box_loss   cls_loss   dfl_loss  Instances       Size\n"
     ]
    },
    {
     "name": "stderr",
     "output_type": "stream",
     "text": [
      "     56/200       2.1G     0.8991     0.8706      1.007         28        640: 100%|██████████| 44/44 [00:03<00:00, 11.90it/s]\n",
      "                 Class     Images  Instances      Box(P          R      mAP50  mAP50-95): 100%|██████████| 6/6 [00:00<00:00,  9.30it/s]"
     ]
    },
    {
     "name": "stdout",
     "output_type": "stream",
     "text": [
      "                   all        174        182      0.685      0.748      0.793      0.609\n"
     ]
    },
    {
     "name": "stderr",
     "output_type": "stream",
     "text": [
      "\n"
     ]
    },
    {
     "name": "stdout",
     "output_type": "stream",
     "text": [
      "\n",
      "      Epoch    GPU_mem   box_loss   cls_loss   dfl_loss  Instances       Size\n"
     ]
    },
    {
     "name": "stderr",
     "output_type": "stream",
     "text": [
      "     57/200       2.1G      0.893     0.8834      0.998         21        640: 100%|██████████| 44/44 [00:03<00:00, 12.47it/s]\n",
      "                 Class     Images  Instances      Box(P          R      mAP50  mAP50-95): 100%|██████████| 6/6 [00:00<00:00, 10.27it/s]"
     ]
    },
    {
     "name": "stdout",
     "output_type": "stream",
     "text": [
      "                   all        174        182      0.613       0.84      0.763      0.572\n"
     ]
    },
    {
     "name": "stderr",
     "output_type": "stream",
     "text": [
      "\n"
     ]
    },
    {
     "name": "stdout",
     "output_type": "stream",
     "text": [
      "\n",
      "      Epoch    GPU_mem   box_loss   cls_loss   dfl_loss  Instances       Size\n"
     ]
    },
    {
     "name": "stderr",
     "output_type": "stream",
     "text": [
      "     58/200       2.1G     0.8649      0.871     0.9877         29        640: 100%|██████████| 44/44 [00:03<00:00, 12.53it/s]\n",
      "                 Class     Images  Instances      Box(P          R      mAP50  mAP50-95): 100%|██████████| 6/6 [00:00<00:00, 10.94it/s]"
     ]
    },
    {
     "name": "stdout",
     "output_type": "stream",
     "text": [
      "                   all        174        182      0.649      0.722      0.756      0.555\n"
     ]
    },
    {
     "name": "stderr",
     "output_type": "stream",
     "text": [
      "\n"
     ]
    },
    {
     "name": "stdout",
     "output_type": "stream",
     "text": [
      "\n",
      "      Epoch    GPU_mem   box_loss   cls_loss   dfl_loss  Instances       Size\n"
     ]
    },
    {
     "name": "stderr",
     "output_type": "stream",
     "text": [
      "     59/200       2.1G     0.8754     0.8297     0.9997         24        640: 100%|██████████| 44/44 [00:03<00:00, 11.92it/s]\n",
      "                 Class     Images  Instances      Box(P          R      mAP50  mAP50-95): 100%|██████████| 6/6 [00:00<00:00, 10.08it/s]"
     ]
    },
    {
     "name": "stdout",
     "output_type": "stream",
     "text": [
      "                   all        174        182      0.754      0.708      0.802      0.609\n"
     ]
    },
    {
     "name": "stderr",
     "output_type": "stream",
     "text": [
      "\n"
     ]
    },
    {
     "name": "stdout",
     "output_type": "stream",
     "text": [
      "\n",
      "      Epoch    GPU_mem   box_loss   cls_loss   dfl_loss  Instances       Size\n"
     ]
    },
    {
     "name": "stderr",
     "output_type": "stream",
     "text": [
      "     60/200       2.1G     0.8639     0.8272     0.9963         26        640: 100%|██████████| 44/44 [00:03<00:00, 13.18it/s]\n",
      "                 Class     Images  Instances      Box(P          R      mAP50  mAP50-95): 100%|██████████| 6/6 [00:00<00:00, 10.52it/s]"
     ]
    },
    {
     "name": "stdout",
     "output_type": "stream",
     "text": [
      "                   all        174        182      0.621      0.839      0.786      0.588\n"
     ]
    },
    {
     "name": "stderr",
     "output_type": "stream",
     "text": [
      "\n"
     ]
    },
    {
     "name": "stdout",
     "output_type": "stream",
     "text": [
      "\n",
      "      Epoch    GPU_mem   box_loss   cls_loss   dfl_loss  Instances       Size\n"
     ]
    },
    {
     "name": "stderr",
     "output_type": "stream",
     "text": [
      "     61/200       2.1G     0.8722     0.8475      0.989         25        640: 100%|██████████| 44/44 [00:03<00:00, 13.38it/s]\n",
      "                 Class     Images  Instances      Box(P          R      mAP50  mAP50-95): 100%|██████████| 6/6 [00:00<00:00, 10.85it/s]"
     ]
    },
    {
     "name": "stdout",
     "output_type": "stream",
     "text": [
      "                   all        174        182      0.661      0.779      0.796      0.598\n"
     ]
    },
    {
     "name": "stderr",
     "output_type": "stream",
     "text": [
      "\n"
     ]
    },
    {
     "name": "stdout",
     "output_type": "stream",
     "text": [
      "\n",
      "      Epoch    GPU_mem   box_loss   cls_loss   dfl_loss  Instances       Size\n"
     ]
    },
    {
     "name": "stderr",
     "output_type": "stream",
     "text": [
      "     62/200       2.1G     0.8588     0.8495     0.9903         25        640: 100%|██████████| 44/44 [00:03<00:00, 13.51it/s]\n",
      "                 Class     Images  Instances      Box(P          R      mAP50  mAP50-95): 100%|██████████| 6/6 [00:00<00:00, 10.56it/s]"
     ]
    },
    {
     "name": "stdout",
     "output_type": "stream",
     "text": [
      "                   all        174        182      0.535      0.772       0.67      0.479\n"
     ]
    },
    {
     "name": "stderr",
     "output_type": "stream",
     "text": [
      "\n"
     ]
    },
    {
     "name": "stdout",
     "output_type": "stream",
     "text": [
      "\n",
      "      Epoch    GPU_mem   box_loss   cls_loss   dfl_loss  Instances       Size\n"
     ]
    },
    {
     "name": "stderr",
     "output_type": "stream",
     "text": [
      "     63/200       2.1G     0.8743     0.8236     0.9974         25        640: 100%|██████████| 44/44 [00:03<00:00, 12.60it/s]\n",
      "                 Class     Images  Instances      Box(P          R      mAP50  mAP50-95): 100%|██████████| 6/6 [00:00<00:00,  8.11it/s]"
     ]
    },
    {
     "name": "stdout",
     "output_type": "stream",
     "text": [
      "                   all        174        182      0.689      0.776      0.788      0.592\n"
     ]
    },
    {
     "name": "stderr",
     "output_type": "stream",
     "text": [
      "\n"
     ]
    },
    {
     "name": "stdout",
     "output_type": "stream",
     "text": [
      "\n",
      "      Epoch    GPU_mem   box_loss   cls_loss   dfl_loss  Instances       Size\n"
     ]
    },
    {
     "name": "stderr",
     "output_type": "stream",
     "text": [
      "     64/200       2.1G     0.8693     0.8435     0.9833         20        640: 100%|██████████| 44/44 [00:03<00:00, 11.67it/s]\n",
      "                 Class     Images  Instances      Box(P          R      mAP50  mAP50-95): 100%|██████████| 6/6 [00:00<00:00, 10.00it/s]"
     ]
    },
    {
     "name": "stdout",
     "output_type": "stream",
     "text": [
      "                   all        174        182      0.685      0.804      0.797      0.611\n"
     ]
    },
    {
     "name": "stderr",
     "output_type": "stream",
     "text": [
      "\n"
     ]
    },
    {
     "name": "stdout",
     "output_type": "stream",
     "text": [
      "\n",
      "      Epoch    GPU_mem   box_loss   cls_loss   dfl_loss  Instances       Size\n"
     ]
    },
    {
     "name": "stderr",
     "output_type": "stream",
     "text": [
      "     65/200       2.1G     0.8655      0.783      1.001         26        640: 100%|██████████| 44/44 [00:03<00:00, 12.88it/s]\n",
      "                 Class     Images  Instances      Box(P          R      mAP50  mAP50-95): 100%|██████████| 6/6 [00:00<00:00, 10.70it/s]"
     ]
    },
    {
     "name": "stdout",
     "output_type": "stream",
     "text": [
      "                   all        174        182      0.739      0.721       0.81      0.626\n"
     ]
    },
    {
     "name": "stderr",
     "output_type": "stream",
     "text": [
      "\n"
     ]
    },
    {
     "name": "stdout",
     "output_type": "stream",
     "text": [
      "\n",
      "      Epoch    GPU_mem   box_loss   cls_loss   dfl_loss  Instances       Size\n"
     ]
    },
    {
     "name": "stderr",
     "output_type": "stream",
     "text": [
      "     66/200       2.1G     0.8523     0.7664     0.9735         25        640: 100%|██████████| 44/44 [00:03<00:00, 12.00it/s]\n",
      "                 Class     Images  Instances      Box(P          R      mAP50  mAP50-95): 100%|██████████| 6/6 [00:00<00:00, 10.11it/s]"
     ]
    },
    {
     "name": "stdout",
     "output_type": "stream",
     "text": [
      "                   all        174        182      0.662      0.803      0.798      0.595\n"
     ]
    },
    {
     "name": "stderr",
     "output_type": "stream",
     "text": [
      "\n"
     ]
    },
    {
     "name": "stdout",
     "output_type": "stream",
     "text": [
      "\n",
      "      Epoch    GPU_mem   box_loss   cls_loss   dfl_loss  Instances       Size\n"
     ]
    },
    {
     "name": "stderr",
     "output_type": "stream",
     "text": [
      "     67/200       2.1G     0.8498     0.7798      0.974         21        640: 100%|██████████| 44/44 [00:03<00:00, 12.90it/s]\n",
      "                 Class     Images  Instances      Box(P          R      mAP50  mAP50-95): 100%|██████████| 6/6 [00:00<00:00, 10.50it/s]"
     ]
    },
    {
     "name": "stdout",
     "output_type": "stream",
     "text": [
      "                   all        174        182      0.601      0.826      0.758       0.58\n"
     ]
    },
    {
     "name": "stderr",
     "output_type": "stream",
     "text": [
      "\n"
     ]
    },
    {
     "name": "stdout",
     "output_type": "stream",
     "text": [
      "\n",
      "      Epoch    GPU_mem   box_loss   cls_loss   dfl_loss  Instances       Size\n"
     ]
    },
    {
     "name": "stderr",
     "output_type": "stream",
     "text": [
      "     68/200       2.1G     0.8557     0.7685     0.9699         16        640: 100%|██████████| 44/44 [00:03<00:00, 13.11it/s]\n",
      "                 Class     Images  Instances      Box(P          R      mAP50  mAP50-95): 100%|██████████| 6/6 [00:00<00:00, 10.69it/s]"
     ]
    },
    {
     "name": "stdout",
     "output_type": "stream",
     "text": [
      "                   all        174        182      0.672      0.779      0.785      0.596\n"
     ]
    },
    {
     "name": "stderr",
     "output_type": "stream",
     "text": [
      "\n"
     ]
    },
    {
     "name": "stdout",
     "output_type": "stream",
     "text": [
      "\n",
      "      Epoch    GPU_mem   box_loss   cls_loss   dfl_loss  Instances       Size\n"
     ]
    },
    {
     "name": "stderr",
     "output_type": "stream",
     "text": [
      "     69/200       2.1G     0.8586     0.7477     0.9697         25        640: 100%|██████████| 44/44 [00:03<00:00, 11.85it/s]\n",
      "                 Class     Images  Instances      Box(P          R      mAP50  mAP50-95): 100%|██████████| 6/6 [00:00<00:00, 10.04it/s]"
     ]
    },
    {
     "name": "stdout",
     "output_type": "stream",
     "text": [
      "                   all        174        182       0.69      0.763      0.808      0.616\n"
     ]
    },
    {
     "name": "stderr",
     "output_type": "stream",
     "text": [
      "\n"
     ]
    },
    {
     "name": "stdout",
     "output_type": "stream",
     "text": [
      "\n",
      "      Epoch    GPU_mem   box_loss   cls_loss   dfl_loss  Instances       Size\n"
     ]
    },
    {
     "name": "stderr",
     "output_type": "stream",
     "text": [
      "     70/200       2.1G     0.8536     0.7571      0.974         24        640: 100%|██████████| 44/44 [00:03<00:00, 12.08it/s]\n",
      "                 Class     Images  Instances      Box(P          R      mAP50  mAP50-95): 100%|██████████| 6/6 [00:00<00:00,  9.78it/s]"
     ]
    },
    {
     "name": "stdout",
     "output_type": "stream",
     "text": [
      "                   all        174        182      0.605      0.817      0.766      0.572\n"
     ]
    },
    {
     "name": "stderr",
     "output_type": "stream",
     "text": [
      "\n"
     ]
    },
    {
     "name": "stdout",
     "output_type": "stream",
     "text": [
      "\n",
      "      Epoch    GPU_mem   box_loss   cls_loss   dfl_loss  Instances       Size\n"
     ]
    },
    {
     "name": "stderr",
     "output_type": "stream",
     "text": [
      "     71/200       2.1G     0.8419     0.7398     0.9763         22        640: 100%|██████████| 44/44 [00:03<00:00, 11.64it/s]\n",
      "                 Class     Images  Instances      Box(P          R      mAP50  mAP50-95): 100%|██████████| 6/6 [00:00<00:00,  9.96it/s]"
     ]
    },
    {
     "name": "stdout",
     "output_type": "stream",
     "text": [
      "                   all        174        182      0.686      0.733      0.767      0.575\n"
     ]
    },
    {
     "name": "stderr",
     "output_type": "stream",
     "text": [
      "\n"
     ]
    },
    {
     "name": "stdout",
     "output_type": "stream",
     "text": [
      "\n",
      "      Epoch    GPU_mem   box_loss   cls_loss   dfl_loss  Instances       Size\n"
     ]
    },
    {
     "name": "stderr",
     "output_type": "stream",
     "text": [
      "     72/200       2.1G     0.8441     0.7609     0.9726         31        640: 100%|██████████| 44/44 [00:03<00:00, 12.63it/s]\n",
      "                 Class     Images  Instances      Box(P          R      mAP50  mAP50-95): 100%|██████████| 6/6 [00:00<00:00, 10.24it/s]"
     ]
    },
    {
     "name": "stdout",
     "output_type": "stream",
     "text": [
      "                   all        174        182      0.674      0.885       0.84      0.639\n"
     ]
    },
    {
     "name": "stderr",
     "output_type": "stream",
     "text": [
      "\n"
     ]
    },
    {
     "name": "stdout",
     "output_type": "stream",
     "text": [
      "\n",
      "      Epoch    GPU_mem   box_loss   cls_loss   dfl_loss  Instances       Size\n"
     ]
    },
    {
     "name": "stderr",
     "output_type": "stream",
     "text": [
      "     73/200       2.1G     0.8215     0.7087     0.9599         33        640: 100%|██████████| 44/44 [00:03<00:00, 12.94it/s]\n",
      "                 Class     Images  Instances      Box(P          R      mAP50  mAP50-95): 100%|██████████| 6/6 [00:00<00:00, 10.63it/s]"
     ]
    },
    {
     "name": "stdout",
     "output_type": "stream",
     "text": [
      "                   all        174        182      0.742      0.727      0.825      0.626\n"
     ]
    },
    {
     "name": "stderr",
     "output_type": "stream",
     "text": [
      "\n"
     ]
    },
    {
     "name": "stdout",
     "output_type": "stream",
     "text": [
      "\n",
      "      Epoch    GPU_mem   box_loss   cls_loss   dfl_loss  Instances       Size\n"
     ]
    },
    {
     "name": "stderr",
     "output_type": "stream",
     "text": [
      "     74/200       2.1G      0.814     0.7281     0.9707         26        640: 100%|██████████| 44/44 [00:03<00:00, 13.13it/s]\n",
      "                 Class     Images  Instances      Box(P          R      mAP50  mAP50-95): 100%|██████████| 6/6 [00:00<00:00, 10.79it/s]"
     ]
    },
    {
     "name": "stdout",
     "output_type": "stream",
     "text": [
      "                   all        174        182      0.657      0.788        0.8      0.607\n"
     ]
    },
    {
     "name": "stderr",
     "output_type": "stream",
     "text": [
      "\n"
     ]
    },
    {
     "name": "stdout",
     "output_type": "stream",
     "text": [
      "\n",
      "      Epoch    GPU_mem   box_loss   cls_loss   dfl_loss  Instances       Size\n"
     ]
    },
    {
     "name": "stderr",
     "output_type": "stream",
     "text": [
      "     75/200       2.1G     0.8292     0.6891     0.9644         24        640: 100%|██████████| 44/44 [00:03<00:00, 12.99it/s]\n",
      "                 Class     Images  Instances      Box(P          R      mAP50  mAP50-95): 100%|██████████| 6/6 [00:00<00:00, 10.68it/s]"
     ]
    },
    {
     "name": "stdout",
     "output_type": "stream",
     "text": [
      "                   all        174        182      0.699      0.819      0.821      0.612\n"
     ]
    },
    {
     "name": "stderr",
     "output_type": "stream",
     "text": [
      "\n"
     ]
    },
    {
     "name": "stdout",
     "output_type": "stream",
     "text": [
      "\n",
      "      Epoch    GPU_mem   box_loss   cls_loss   dfl_loss  Instances       Size\n"
     ]
    },
    {
     "name": "stderr",
     "output_type": "stream",
     "text": [
      "     76/200       2.1G     0.8277     0.7103     0.9795         23        640: 100%|██████████| 44/44 [00:03<00:00, 13.17it/s]\n",
      "                 Class     Images  Instances      Box(P          R      mAP50  mAP50-95): 100%|██████████| 6/6 [00:00<00:00, 10.72it/s]"
     ]
    },
    {
     "name": "stdout",
     "output_type": "stream",
     "text": [
      "                   all        174        182      0.636      0.845      0.805      0.599\n"
     ]
    },
    {
     "name": "stderr",
     "output_type": "stream",
     "text": [
      "\n"
     ]
    },
    {
     "name": "stdout",
     "output_type": "stream",
     "text": [
      "\n",
      "      Epoch    GPU_mem   box_loss   cls_loss   dfl_loss  Instances       Size\n"
     ]
    },
    {
     "name": "stderr",
     "output_type": "stream",
     "text": [
      "     77/200       2.1G     0.8147     0.7155      0.964         26        640: 100%|██████████| 44/44 [00:03<00:00, 11.62it/s]\n",
      "                 Class     Images  Instances      Box(P          R      mAP50  mAP50-95): 100%|██████████| 6/6 [00:00<00:00,  7.90it/s]"
     ]
    },
    {
     "name": "stdout",
     "output_type": "stream",
     "text": [
      "                   all        174        182       0.65      0.794      0.815      0.606\n"
     ]
    },
    {
     "name": "stderr",
     "output_type": "stream",
     "text": [
      "\n"
     ]
    },
    {
     "name": "stdout",
     "output_type": "stream",
     "text": [
      "\n",
      "      Epoch    GPU_mem   box_loss   cls_loss   dfl_loss  Instances       Size\n"
     ]
    },
    {
     "name": "stderr",
     "output_type": "stream",
     "text": [
      "     78/200       2.1G     0.8541     0.7367     0.9835         24        640: 100%|██████████| 44/44 [00:03<00:00, 12.79it/s]\n",
      "                 Class     Images  Instances      Box(P          R      mAP50  mAP50-95): 100%|██████████| 6/6 [00:00<00:00, 10.72it/s]"
     ]
    },
    {
     "name": "stdout",
     "output_type": "stream",
     "text": [
      "                   all        174        182      0.794       0.75      0.835      0.606\n"
     ]
    },
    {
     "name": "stderr",
     "output_type": "stream",
     "text": [
      "\n"
     ]
    },
    {
     "name": "stdout",
     "output_type": "stream",
     "text": [
      "\n",
      "      Epoch    GPU_mem   box_loss   cls_loss   dfl_loss  Instances       Size\n"
     ]
    },
    {
     "name": "stderr",
     "output_type": "stream",
     "text": [
      "     79/200       2.1G     0.8257     0.6853     0.9727         28        640: 100%|██████████| 44/44 [00:03<00:00, 12.17it/s]\n",
      "                 Class     Images  Instances      Box(P          R      mAP50  mAP50-95): 100%|██████████| 6/6 [00:00<00:00, 10.13it/s]"
     ]
    },
    {
     "name": "stdout",
     "output_type": "stream",
     "text": [
      "                   all        174        182      0.816      0.717      0.836      0.623\n"
     ]
    },
    {
     "name": "stderr",
     "output_type": "stream",
     "text": [
      "\n"
     ]
    },
    {
     "name": "stdout",
     "output_type": "stream",
     "text": [
      "\n",
      "      Epoch    GPU_mem   box_loss   cls_loss   dfl_loss  Instances       Size\n"
     ]
    },
    {
     "name": "stderr",
     "output_type": "stream",
     "text": [
      "     80/200       2.1G     0.8026     0.6708      0.966         25        640: 100%|██████████| 44/44 [00:03<00:00, 13.25it/s]\n",
      "                 Class     Images  Instances      Box(P          R      mAP50  mAP50-95): 100%|██████████| 6/6 [00:00<00:00,  8.09it/s]"
     ]
    },
    {
     "name": "stdout",
     "output_type": "stream",
     "text": [
      "                   all        174        182      0.673      0.829      0.826      0.625\n"
     ]
    },
    {
     "name": "stderr",
     "output_type": "stream",
     "text": [
      "\n"
     ]
    },
    {
     "name": "stdout",
     "output_type": "stream",
     "text": [
      "\n",
      "      Epoch    GPU_mem   box_loss   cls_loss   dfl_loss  Instances       Size\n"
     ]
    },
    {
     "name": "stderr",
     "output_type": "stream",
     "text": [
      "     81/200       2.1G     0.8162     0.7019     0.9576         31        640: 100%|██████████| 44/44 [00:03<00:00, 11.82it/s]\n",
      "                 Class     Images  Instances      Box(P          R      mAP50  mAP50-95): 100%|██████████| 6/6 [00:00<00:00, 10.21it/s]"
     ]
    },
    {
     "name": "stdout",
     "output_type": "stream",
     "text": [
      "                   all        174        182      0.754      0.787      0.845      0.638\n"
     ]
    },
    {
     "name": "stderr",
     "output_type": "stream",
     "text": [
      "\n"
     ]
    },
    {
     "name": "stdout",
     "output_type": "stream",
     "text": [
      "\n",
      "      Epoch    GPU_mem   box_loss   cls_loss   dfl_loss  Instances       Size\n"
     ]
    },
    {
     "name": "stderr",
     "output_type": "stream",
     "text": [
      "     82/200       2.1G     0.8318     0.6785     0.9686         23        640: 100%|██████████| 44/44 [00:03<00:00, 13.08it/s]\n",
      "                 Class     Images  Instances      Box(P          R      mAP50  mAP50-95): 100%|██████████| 6/6 [00:00<00:00, 10.87it/s]"
     ]
    },
    {
     "name": "stdout",
     "output_type": "stream",
     "text": [
      "                   all        174        182       0.75      0.778      0.845      0.623\n"
     ]
    },
    {
     "name": "stderr",
     "output_type": "stream",
     "text": [
      "\n"
     ]
    },
    {
     "name": "stdout",
     "output_type": "stream",
     "text": [
      "\n",
      "      Epoch    GPU_mem   box_loss   cls_loss   dfl_loss  Instances       Size\n"
     ]
    },
    {
     "name": "stderr",
     "output_type": "stream",
     "text": [
      "     83/200       2.1G      0.765     0.6269     0.9416         26        640: 100%|██████████| 44/44 [00:03<00:00, 13.20it/s]\n",
      "                 Class     Images  Instances      Box(P          R      mAP50  mAP50-95): 100%|██████████| 6/6 [00:00<00:00, 10.80it/s]"
     ]
    },
    {
     "name": "stdout",
     "output_type": "stream",
     "text": [
      "                   all        174        182      0.794      0.738       0.84      0.624\n"
     ]
    },
    {
     "name": "stderr",
     "output_type": "stream",
     "text": [
      "\n"
     ]
    },
    {
     "name": "stdout",
     "output_type": "stream",
     "text": [
      "\n",
      "      Epoch    GPU_mem   box_loss   cls_loss   dfl_loss  Instances       Size\n"
     ]
    },
    {
     "name": "stderr",
     "output_type": "stream",
     "text": [
      "     84/200       2.1G       0.81     0.6393     0.9604         28        640: 100%|██████████| 44/44 [00:03<00:00, 12.68it/s]\n",
      "                 Class     Images  Instances      Box(P          R      mAP50  mAP50-95): 100%|██████████| 6/6 [00:00<00:00, 10.15it/s]"
     ]
    },
    {
     "name": "stdout",
     "output_type": "stream",
     "text": [
      "                   all        174        182      0.743      0.775      0.842       0.64\n"
     ]
    },
    {
     "name": "stderr",
     "output_type": "stream",
     "text": [
      "\n"
     ]
    },
    {
     "name": "stdout",
     "output_type": "stream",
     "text": [
      "\n",
      "      Epoch    GPU_mem   box_loss   cls_loss   dfl_loss  Instances       Size\n"
     ]
    },
    {
     "name": "stderr",
     "output_type": "stream",
     "text": [
      "     85/200       2.1G     0.8059     0.6361     0.9561         30        640: 100%|██████████| 44/44 [00:03<00:00, 13.04it/s]\n",
      "                 Class     Images  Instances      Box(P          R      mAP50  mAP50-95): 100%|██████████| 6/6 [00:00<00:00, 10.82it/s]"
     ]
    },
    {
     "name": "stdout",
     "output_type": "stream",
     "text": [
      "                   all        174        182      0.672      0.801      0.815      0.624\n"
     ]
    },
    {
     "name": "stderr",
     "output_type": "stream",
     "text": [
      "\n"
     ]
    },
    {
     "name": "stdout",
     "output_type": "stream",
     "text": [
      "\n",
      "      Epoch    GPU_mem   box_loss   cls_loss   dfl_loss  Instances       Size\n"
     ]
    },
    {
     "name": "stderr",
     "output_type": "stream",
     "text": [
      "     86/200       2.1G     0.8034      0.648     0.9456         26        640: 100%|██████████| 44/44 [00:03<00:00, 13.04it/s]\n",
      "                 Class     Images  Instances      Box(P          R      mAP50  mAP50-95): 100%|██████████| 6/6 [00:00<00:00, 10.51it/s]"
     ]
    },
    {
     "name": "stdout",
     "output_type": "stream",
     "text": [
      "                   all        174        182      0.635      0.819      0.788      0.599\n"
     ]
    },
    {
     "name": "stderr",
     "output_type": "stream",
     "text": [
      "\n"
     ]
    },
    {
     "name": "stdout",
     "output_type": "stream",
     "text": [
      "\n",
      "      Epoch    GPU_mem   box_loss   cls_loss   dfl_loss  Instances       Size\n"
     ]
    },
    {
     "name": "stderr",
     "output_type": "stream",
     "text": [
      "     87/200       2.1G     0.7921     0.6198     0.9536         28        640: 100%|██████████| 44/44 [00:03<00:00, 13.05it/s]\n",
      "                 Class     Images  Instances      Box(P          R      mAP50  mAP50-95): 100%|██████████| 6/6 [00:00<00:00, 10.89it/s]"
     ]
    },
    {
     "name": "stdout",
     "output_type": "stream",
     "text": [
      "                   all        174        182      0.769      0.714      0.801      0.607\n"
     ]
    },
    {
     "name": "stderr",
     "output_type": "stream",
     "text": [
      "\n"
     ]
    },
    {
     "name": "stdout",
     "output_type": "stream",
     "text": [
      "\n",
      "      Epoch    GPU_mem   box_loss   cls_loss   dfl_loss  Instances       Size\n"
     ]
    },
    {
     "name": "stderr",
     "output_type": "stream",
     "text": [
      "     88/200       2.1G     0.7752     0.6434      0.938         31        640: 100%|██████████| 44/44 [00:03<00:00, 13.05it/s]\n",
      "                 Class     Images  Instances      Box(P          R      mAP50  mAP50-95): 100%|██████████| 6/6 [00:00<00:00, 10.73it/s]"
     ]
    },
    {
     "name": "stdout",
     "output_type": "stream",
     "text": [
      "                   all        174        182      0.756      0.781      0.844      0.627\n"
     ]
    },
    {
     "name": "stderr",
     "output_type": "stream",
     "text": [
      "\n"
     ]
    },
    {
     "name": "stdout",
     "output_type": "stream",
     "text": [
      "\n",
      "      Epoch    GPU_mem   box_loss   cls_loss   dfl_loss  Instances       Size\n"
     ]
    },
    {
     "name": "stderr",
     "output_type": "stream",
     "text": [
      "     89/200       2.1G     0.7947     0.6286     0.9509         33        640: 100%|██████████| 44/44 [00:03<00:00, 12.85it/s]\n",
      "                 Class     Images  Instances      Box(P          R      mAP50  mAP50-95): 100%|██████████| 6/6 [00:00<00:00,  9.44it/s]"
     ]
    },
    {
     "name": "stdout",
     "output_type": "stream",
     "text": [
      "                   all        174        182      0.677      0.779       0.81       0.62\n"
     ]
    },
    {
     "name": "stderr",
     "output_type": "stream",
     "text": [
      "\n"
     ]
    },
    {
     "name": "stdout",
     "output_type": "stream",
     "text": [
      "\n",
      "      Epoch    GPU_mem   box_loss   cls_loss   dfl_loss  Instances       Size\n"
     ]
    },
    {
     "name": "stderr",
     "output_type": "stream",
     "text": [
      "     90/200       2.1G     0.7631     0.5918      0.943         29        640: 100%|██████████| 44/44 [00:03<00:00, 12.06it/s]\n",
      "                 Class     Images  Instances      Box(P          R      mAP50  mAP50-95): 100%|██████████| 6/6 [00:00<00:00, 10.37it/s]"
     ]
    },
    {
     "name": "stdout",
     "output_type": "stream",
     "text": [
      "                   all        174        182      0.708      0.853       0.87      0.654\n"
     ]
    },
    {
     "name": "stderr",
     "output_type": "stream",
     "text": [
      "\n"
     ]
    },
    {
     "name": "stdout",
     "output_type": "stream",
     "text": [
      "\n",
      "      Epoch    GPU_mem   box_loss   cls_loss   dfl_loss  Instances       Size\n"
     ]
    },
    {
     "name": "stderr",
     "output_type": "stream",
     "text": [
      "     91/200       2.1G      0.769     0.6274     0.9398         29        640: 100%|██████████| 44/44 [00:03<00:00, 11.85it/s]\n",
      "                 Class     Images  Instances      Box(P          R      mAP50  mAP50-95): 100%|██████████| 6/6 [00:00<00:00, 10.26it/s]"
     ]
    },
    {
     "name": "stdout",
     "output_type": "stream",
     "text": [
      "                   all        174        182      0.763      0.847      0.876      0.651\n"
     ]
    },
    {
     "name": "stderr",
     "output_type": "stream",
     "text": [
      "\n"
     ]
    },
    {
     "name": "stdout",
     "output_type": "stream",
     "text": [
      "\n",
      "      Epoch    GPU_mem   box_loss   cls_loss   dfl_loss  Instances       Size\n"
     ]
    },
    {
     "name": "stderr",
     "output_type": "stream",
     "text": [
      "     92/200       2.1G     0.7717     0.6083     0.9492         30        640: 100%|██████████| 44/44 [00:03<00:00, 12.87it/s]\n",
      "                 Class     Images  Instances      Box(P          R      mAP50  mAP50-95): 100%|██████████| 6/6 [00:00<00:00, 10.48it/s]"
     ]
    },
    {
     "name": "stdout",
     "output_type": "stream",
     "text": [
      "                   all        174        182      0.739      0.819      0.856       0.64\n"
     ]
    },
    {
     "name": "stderr",
     "output_type": "stream",
     "text": [
      "\n"
     ]
    },
    {
     "name": "stdout",
     "output_type": "stream",
     "text": [
      "\n",
      "      Epoch    GPU_mem   box_loss   cls_loss   dfl_loss  Instances       Size\n"
     ]
    },
    {
     "name": "stderr",
     "output_type": "stream",
     "text": [
      "     93/200       2.1G     0.7645     0.6076     0.9416         25        640: 100%|██████████| 44/44 [00:03<00:00, 12.24it/s]\n",
      "                 Class     Images  Instances      Box(P          R      mAP50  mAP50-95): 100%|██████████| 6/6 [00:00<00:00, 10.66it/s]"
     ]
    },
    {
     "name": "stdout",
     "output_type": "stream",
     "text": [
      "                   all        174        182      0.728      0.793      0.848      0.646\n"
     ]
    },
    {
     "name": "stderr",
     "output_type": "stream",
     "text": [
      "\n"
     ]
    },
    {
     "name": "stdout",
     "output_type": "stream",
     "text": [
      "\n",
      "      Epoch    GPU_mem   box_loss   cls_loss   dfl_loss  Instances       Size\n"
     ]
    },
    {
     "name": "stderr",
     "output_type": "stream",
     "text": [
      "     94/200       2.1G     0.7515     0.6182     0.9379         36        640: 100%|██████████| 44/44 [00:03<00:00, 12.63it/s]\n",
      "                 Class     Images  Instances      Box(P          R      mAP50  mAP50-95): 100%|██████████| 6/6 [00:00<00:00, 10.69it/s]"
     ]
    },
    {
     "name": "stdout",
     "output_type": "stream",
     "text": [
      "                   all        174        182      0.673      0.821      0.799      0.609\n"
     ]
    },
    {
     "name": "stderr",
     "output_type": "stream",
     "text": [
      "\n"
     ]
    },
    {
     "name": "stdout",
     "output_type": "stream",
     "text": [
      "\n",
      "      Epoch    GPU_mem   box_loss   cls_loss   dfl_loss  Instances       Size\n"
     ]
    },
    {
     "name": "stderr",
     "output_type": "stream",
     "text": [
      "     95/200       2.1G     0.7624     0.6205     0.9376         27        640: 100%|██████████| 44/44 [00:03<00:00, 13.04it/s]\n",
      "                 Class     Images  Instances      Box(P          R      mAP50  mAP50-95): 100%|██████████| 6/6 [00:00<00:00, 10.75it/s]"
     ]
    },
    {
     "name": "stdout",
     "output_type": "stream",
     "text": [
      "                   all        174        182      0.729      0.859      0.864      0.655\n"
     ]
    },
    {
     "name": "stderr",
     "output_type": "stream",
     "text": [
      "\n"
     ]
    },
    {
     "name": "stdout",
     "output_type": "stream",
     "text": [
      "\n",
      "      Epoch    GPU_mem   box_loss   cls_loss   dfl_loss  Instances       Size\n"
     ]
    },
    {
     "name": "stderr",
     "output_type": "stream",
     "text": [
      "     96/200       2.1G     0.7556     0.5912     0.9373         26        640: 100%|██████████| 44/44 [00:03<00:00, 12.95it/s]\n",
      "                 Class     Images  Instances      Box(P          R      mAP50  mAP50-95): 100%|██████████| 6/6 [00:00<00:00, 10.71it/s]"
     ]
    },
    {
     "name": "stdout",
     "output_type": "stream",
     "text": [
      "                   all        174        182      0.767        0.8      0.835      0.637\n"
     ]
    },
    {
     "name": "stderr",
     "output_type": "stream",
     "text": [
      "\n"
     ]
    },
    {
     "name": "stdout",
     "output_type": "stream",
     "text": [
      "\n",
      "      Epoch    GPU_mem   box_loss   cls_loss   dfl_loss  Instances       Size\n"
     ]
    },
    {
     "name": "stderr",
     "output_type": "stream",
     "text": [
      "     97/200       2.1G      0.759     0.5731      0.944         25        640: 100%|██████████| 44/44 [00:03<00:00, 13.10it/s]\n",
      "                 Class     Images  Instances      Box(P          R      mAP50  mAP50-95): 100%|██████████| 6/6 [00:00<00:00, 10.86it/s]"
     ]
    },
    {
     "name": "stdout",
     "output_type": "stream",
     "text": [
      "                   all        174        182      0.735      0.808      0.869      0.653\n"
     ]
    },
    {
     "name": "stderr",
     "output_type": "stream",
     "text": [
      "\n"
     ]
    },
    {
     "name": "stdout",
     "output_type": "stream",
     "text": [
      "\n",
      "      Epoch    GPU_mem   box_loss   cls_loss   dfl_loss  Instances       Size\n"
     ]
    },
    {
     "name": "stderr",
     "output_type": "stream",
     "text": [
      "     98/200       2.1G     0.7725     0.5906     0.9511         26        640: 100%|██████████| 44/44 [00:03<00:00, 13.09it/s]\n",
      "                 Class     Images  Instances      Box(P          R      mAP50  mAP50-95): 100%|██████████| 6/6 [00:00<00:00, 10.51it/s]"
     ]
    },
    {
     "name": "stdout",
     "output_type": "stream",
     "text": [
      "                   all        174        182      0.831      0.747      0.867      0.655\n"
     ]
    },
    {
     "name": "stderr",
     "output_type": "stream",
     "text": [
      "\n"
     ]
    },
    {
     "name": "stdout",
     "output_type": "stream",
     "text": [
      "\n",
      "      Epoch    GPU_mem   box_loss   cls_loss   dfl_loss  Instances       Size\n"
     ]
    },
    {
     "name": "stderr",
     "output_type": "stream",
     "text": [
      "     99/200       2.1G     0.7661     0.5592     0.9358         26        640: 100%|██████████| 44/44 [00:03<00:00, 11.88it/s]\n",
      "                 Class     Images  Instances      Box(P          R      mAP50  mAP50-95): 100%|██████████| 6/6 [00:00<00:00,  9.96it/s]"
     ]
    },
    {
     "name": "stdout",
     "output_type": "stream",
     "text": [
      "                   all        174        182      0.836      0.793      0.872      0.663\n"
     ]
    },
    {
     "name": "stderr",
     "output_type": "stream",
     "text": [
      "\n"
     ]
    },
    {
     "name": "stdout",
     "output_type": "stream",
     "text": [
      "\n",
      "      Epoch    GPU_mem   box_loss   cls_loss   dfl_loss  Instances       Size\n"
     ]
    },
    {
     "name": "stderr",
     "output_type": "stream",
     "text": [
      "    100/200       2.1G     0.7278     0.5188     0.9274         20        640: 100%|██████████| 44/44 [00:03<00:00, 12.18it/s]\n",
      "                 Class     Images  Instances      Box(P          R      mAP50  mAP50-95): 100%|██████████| 6/6 [00:00<00:00,  7.93it/s]\n"
     ]
    },
    {
     "name": "stdout",
     "output_type": "stream",
     "text": [
      "                   all        174        182      0.753      0.868      0.877      0.669\n",
      "\n",
      "      Epoch    GPU_mem   box_loss   cls_loss   dfl_loss  Instances       Size\n"
     ]
    },
    {
     "name": "stderr",
     "output_type": "stream",
     "text": [
      "    101/200       2.1G     0.7568     0.5541     0.9323         21        640: 100%|██████████| 44/44 [00:03<00:00, 11.72it/s]\n",
      "                 Class     Images  Instances      Box(P          R      mAP50  mAP50-95): 100%|██████████| 6/6 [00:00<00:00, 10.00it/s]"
     ]
    },
    {
     "name": "stdout",
     "output_type": "stream",
     "text": [
      "                   all        174        182      0.821      0.746       0.85      0.657\n"
     ]
    },
    {
     "name": "stderr",
     "output_type": "stream",
     "text": [
      "\n"
     ]
    },
    {
     "name": "stdout",
     "output_type": "stream",
     "text": [
      "\n",
      "      Epoch    GPU_mem   box_loss   cls_loss   dfl_loss  Instances       Size\n"
     ]
    },
    {
     "name": "stderr",
     "output_type": "stream",
     "text": [
      "    102/200       2.1G      0.757     0.5639     0.9479         29        640: 100%|██████████| 44/44 [00:03<00:00, 11.97it/s]\n",
      "                 Class     Images  Instances      Box(P          R      mAP50  mAP50-95): 100%|██████████| 6/6 [00:00<00:00, 10.37it/s]"
     ]
    },
    {
     "name": "stdout",
     "output_type": "stream",
     "text": [
      "                   all        174        182      0.774      0.815      0.836      0.635\n"
     ]
    },
    {
     "name": "stderr",
     "output_type": "stream",
     "text": [
      "\n"
     ]
    },
    {
     "name": "stdout",
     "output_type": "stream",
     "text": [
      "\n",
      "      Epoch    GPU_mem   box_loss   cls_loss   dfl_loss  Instances       Size\n"
     ]
    },
    {
     "name": "stderr",
     "output_type": "stream",
     "text": [
      "    103/200       2.1G     0.7698     0.6012     0.9574         22        640: 100%|██████████| 44/44 [00:03<00:00, 12.67it/s]\n",
      "                 Class     Images  Instances      Box(P          R      mAP50  mAP50-95): 100%|██████████| 6/6 [00:00<00:00, 10.72it/s]"
     ]
    },
    {
     "name": "stdout",
     "output_type": "stream",
     "text": [
      "                   all        174        182      0.782      0.825      0.859      0.645\n"
     ]
    },
    {
     "name": "stderr",
     "output_type": "stream",
     "text": [
      "\n"
     ]
    },
    {
     "name": "stdout",
     "output_type": "stream",
     "text": [
      "\n",
      "      Epoch    GPU_mem   box_loss   cls_loss   dfl_loss  Instances       Size\n"
     ]
    },
    {
     "name": "stderr",
     "output_type": "stream",
     "text": [
      "    104/200       2.1G     0.7448      0.544     0.9372         23        640: 100%|██████████| 44/44 [00:03<00:00, 11.96it/s]\n",
      "                 Class     Images  Instances      Box(P          R      mAP50  mAP50-95): 100%|██████████| 6/6 [00:00<00:00,  8.61it/s]"
     ]
    },
    {
     "name": "stdout",
     "output_type": "stream",
     "text": [
      "                   all        174        182       0.76      0.826      0.873       0.66\n"
     ]
    },
    {
     "name": "stderr",
     "output_type": "stream",
     "text": [
      "\n"
     ]
    },
    {
     "name": "stdout",
     "output_type": "stream",
     "text": [
      "\n",
      "      Epoch    GPU_mem   box_loss   cls_loss   dfl_loss  Instances       Size\n"
     ]
    },
    {
     "name": "stderr",
     "output_type": "stream",
     "text": [
      "    105/200       2.1G     0.7531     0.5674     0.9386         30        640: 100%|██████████| 44/44 [00:03<00:00, 11.87it/s]\n",
      "                 Class     Images  Instances      Box(P          R      mAP50  mAP50-95): 100%|██████████| 6/6 [00:00<00:00,  8.68it/s]\n"
     ]
    },
    {
     "name": "stdout",
     "output_type": "stream",
     "text": [
      "                   all        174        182       0.72      0.823      0.827      0.627\n",
      "\n",
      "      Epoch    GPU_mem   box_loss   cls_loss   dfl_loss  Instances       Size\n"
     ]
    },
    {
     "name": "stderr",
     "output_type": "stream",
     "text": [
      "    106/200       2.1G     0.7361       0.55     0.9311         30        640: 100%|██████████| 44/44 [00:03<00:00, 11.64it/s]\n",
      "                 Class     Images  Instances      Box(P          R      mAP50  mAP50-95): 100%|██████████| 6/6 [00:00<00:00,  8.46it/s]"
     ]
    },
    {
     "name": "stdout",
     "output_type": "stream",
     "text": [
      "                   all        174        182      0.777      0.753      0.831      0.625\n"
     ]
    },
    {
     "name": "stderr",
     "output_type": "stream",
     "text": [
      "\n"
     ]
    },
    {
     "name": "stdout",
     "output_type": "stream",
     "text": [
      "\n",
      "      Epoch    GPU_mem   box_loss   cls_loss   dfl_loss  Instances       Size\n"
     ]
    },
    {
     "name": "stderr",
     "output_type": "stream",
     "text": [
      "    107/200       2.1G     0.7273     0.5473     0.9281         18        640: 100%|██████████| 44/44 [00:03<00:00, 11.78it/s]\n",
      "                 Class     Images  Instances      Box(P          R      mAP50  mAP50-95): 100%|██████████| 6/6 [00:00<00:00, 10.22it/s]"
     ]
    },
    {
     "name": "stdout",
     "output_type": "stream",
     "text": [
      "                   all        174        182      0.738      0.841      0.857      0.656\n"
     ]
    },
    {
     "name": "stderr",
     "output_type": "stream",
     "text": [
      "\n"
     ]
    },
    {
     "name": "stdout",
     "output_type": "stream",
     "text": [
      "\n",
      "      Epoch    GPU_mem   box_loss   cls_loss   dfl_loss  Instances       Size\n"
     ]
    },
    {
     "name": "stderr",
     "output_type": "stream",
     "text": [
      "    108/200       2.1G     0.7639     0.5496     0.9565         24        640: 100%|██████████| 44/44 [00:03<00:00, 12.48it/s]\n",
      "                 Class     Images  Instances      Box(P          R      mAP50  mAP50-95): 100%|██████████| 6/6 [00:00<00:00,  9.91it/s]"
     ]
    },
    {
     "name": "stdout",
     "output_type": "stream",
     "text": [
      "                   all        174        182      0.757      0.878       0.88       0.68\n"
     ]
    },
    {
     "name": "stderr",
     "output_type": "stream",
     "text": [
      "\n"
     ]
    },
    {
     "name": "stdout",
     "output_type": "stream",
     "text": [
      "\n",
      "      Epoch    GPU_mem   box_loss   cls_loss   dfl_loss  Instances       Size\n"
     ]
    },
    {
     "name": "stderr",
     "output_type": "stream",
     "text": [
      "    109/200       2.1G      0.713     0.5051     0.9368         24        640: 100%|██████████| 44/44 [00:03<00:00, 12.19it/s]\n",
      "                 Class     Images  Instances      Box(P          R      mAP50  mAP50-95): 100%|██████████| 6/6 [00:00<00:00, 10.25it/s]"
     ]
    },
    {
     "name": "stdout",
     "output_type": "stream",
     "text": [
      "                   all        174        182      0.717      0.827      0.845      0.631\n"
     ]
    },
    {
     "name": "stderr",
     "output_type": "stream",
     "text": [
      "\n"
     ]
    },
    {
     "name": "stdout",
     "output_type": "stream",
     "text": [
      "\n",
      "      Epoch    GPU_mem   box_loss   cls_loss   dfl_loss  Instances       Size\n"
     ]
    },
    {
     "name": "stderr",
     "output_type": "stream",
     "text": [
      "    110/200       2.1G     0.7376     0.5404      0.941         23        640: 100%|██████████| 44/44 [00:04<00:00, 10.46it/s]\n",
      "                 Class     Images  Instances      Box(P          R      mAP50  mAP50-95): 100%|██████████| 6/6 [00:00<00:00,  8.02it/s]"
     ]
    },
    {
     "name": "stdout",
     "output_type": "stream",
     "text": [
      "                   all        174        182      0.787      0.796      0.858      0.652\n"
     ]
    },
    {
     "name": "stderr",
     "output_type": "stream",
     "text": [
      "\n"
     ]
    },
    {
     "name": "stdout",
     "output_type": "stream",
     "text": [
      "\n",
      "      Epoch    GPU_mem   box_loss   cls_loss   dfl_loss  Instances       Size\n"
     ]
    },
    {
     "name": "stderr",
     "output_type": "stream",
     "text": [
      "    111/200       2.1G     0.7328     0.5352      0.926         22        640: 100%|██████████| 44/44 [00:03<00:00, 12.04it/s]\n",
      "                 Class     Images  Instances      Box(P          R      mAP50  mAP50-95): 100%|██████████| 6/6 [00:00<00:00,  9.86it/s]"
     ]
    },
    {
     "name": "stdout",
     "output_type": "stream",
     "text": [
      "                   all        174        182      0.712      0.846      0.852       0.63\n"
     ]
    },
    {
     "name": "stderr",
     "output_type": "stream",
     "text": [
      "\n"
     ]
    },
    {
     "name": "stdout",
     "output_type": "stream",
     "text": [
      "\n",
      "      Epoch    GPU_mem   box_loss   cls_loss   dfl_loss  Instances       Size\n"
     ]
    },
    {
     "name": "stderr",
     "output_type": "stream",
     "text": [
      "    112/200       2.1G     0.7249     0.5329     0.9302         27        640: 100%|██████████| 44/44 [00:03<00:00, 12.88it/s]\n",
      "                 Class     Images  Instances      Box(P          R      mAP50  mAP50-95): 100%|██████████| 6/6 [00:00<00:00, 10.83it/s]"
     ]
    },
    {
     "name": "stdout",
     "output_type": "stream",
     "text": [
      "                   all        174        182      0.716       0.84      0.839      0.636\n"
     ]
    },
    {
     "name": "stderr",
     "output_type": "stream",
     "text": [
      "\n"
     ]
    },
    {
     "name": "stdout",
     "output_type": "stream",
     "text": [
      "\n",
      "      Epoch    GPU_mem   box_loss   cls_loss   dfl_loss  Instances       Size\n"
     ]
    },
    {
     "name": "stderr",
     "output_type": "stream",
     "text": [
      "    113/200       2.1G     0.7218     0.5236     0.9275         25        640: 100%|██████████| 44/44 [00:03<00:00, 12.73it/s]\n",
      "                 Class     Images  Instances      Box(P          R      mAP50  mAP50-95): 100%|██████████| 6/6 [00:00<00:00,  7.90it/s]"
     ]
    },
    {
     "name": "stdout",
     "output_type": "stream",
     "text": [
      "                   all        174        182      0.851      0.786      0.875      0.667\n"
     ]
    },
    {
     "name": "stderr",
     "output_type": "stream",
     "text": [
      "\n"
     ]
    },
    {
     "name": "stdout",
     "output_type": "stream",
     "text": [
      "\n",
      "      Epoch    GPU_mem   box_loss   cls_loss   dfl_loss  Instances       Size\n"
     ]
    },
    {
     "name": "stderr",
     "output_type": "stream",
     "text": [
      "    114/200       2.1G     0.7456     0.5386     0.9362         31        640: 100%|██████████| 44/44 [00:03<00:00, 11.89it/s]\n",
      "                 Class     Images  Instances      Box(P          R      mAP50  mAP50-95): 100%|██████████| 6/6 [00:00<00:00, 10.21it/s]"
     ]
    },
    {
     "name": "stdout",
     "output_type": "stream",
     "text": [
      "                   all        174        182      0.849      0.777      0.869      0.664\n"
     ]
    },
    {
     "name": "stderr",
     "output_type": "stream",
     "text": [
      "\n"
     ]
    },
    {
     "name": "stdout",
     "output_type": "stream",
     "text": [
      "\n",
      "      Epoch    GPU_mem   box_loss   cls_loss   dfl_loss  Instances       Size\n"
     ]
    },
    {
     "name": "stderr",
     "output_type": "stream",
     "text": [
      "    115/200       2.1G     0.7022     0.5448     0.9193         22        640: 100%|██████████| 44/44 [00:03<00:00, 12.58it/s]\n",
      "                 Class     Images  Instances      Box(P          R      mAP50  mAP50-95): 100%|██████████| 6/6 [00:00<00:00,  9.91it/s]"
     ]
    },
    {
     "name": "stdout",
     "output_type": "stream",
     "text": [
      "                   all        174        182      0.787      0.803      0.865      0.663\n"
     ]
    },
    {
     "name": "stderr",
     "output_type": "stream",
     "text": [
      "\n"
     ]
    },
    {
     "name": "stdout",
     "output_type": "stream",
     "text": [
      "\n",
      "      Epoch    GPU_mem   box_loss   cls_loss   dfl_loss  Instances       Size\n"
     ]
    },
    {
     "name": "stderr",
     "output_type": "stream",
     "text": [
      "    116/200       2.1G     0.7333     0.5391     0.9252         31        640: 100%|██████████| 44/44 [00:03<00:00, 11.93it/s]\n",
      "                 Class     Images  Instances      Box(P          R      mAP50  mAP50-95): 100%|██████████| 6/6 [00:00<00:00, 10.63it/s]"
     ]
    },
    {
     "name": "stdout",
     "output_type": "stream",
     "text": [
      "                   all        174        182      0.741      0.824      0.863      0.667\n"
     ]
    },
    {
     "name": "stderr",
     "output_type": "stream",
     "text": [
      "\n"
     ]
    },
    {
     "name": "stdout",
     "output_type": "stream",
     "text": [
      "\n",
      "      Epoch    GPU_mem   box_loss   cls_loss   dfl_loss  Instances       Size\n"
     ]
    },
    {
     "name": "stderr",
     "output_type": "stream",
     "text": [
      "    117/200       2.1G     0.7285     0.5255     0.9401         28        640: 100%|██████████| 44/44 [00:03<00:00, 13.00it/s]\n",
      "                 Class     Images  Instances      Box(P          R      mAP50  mAP50-95): 100%|██████████| 6/6 [00:00<00:00, 10.70it/s]"
     ]
    },
    {
     "name": "stdout",
     "output_type": "stream",
     "text": [
      "                   all        174        182      0.743      0.823       0.86      0.651\n"
     ]
    },
    {
     "name": "stderr",
     "output_type": "stream",
     "text": [
      "\n"
     ]
    },
    {
     "name": "stdout",
     "output_type": "stream",
     "text": [
      "\n",
      "      Epoch    GPU_mem   box_loss   cls_loss   dfl_loss  Instances       Size\n"
     ]
    },
    {
     "name": "stderr",
     "output_type": "stream",
     "text": [
      "    118/200       2.1G     0.6863     0.5128     0.9126         27        640: 100%|██████████| 44/44 [00:03<00:00, 12.31it/s]\n",
      "                 Class     Images  Instances      Box(P          R      mAP50  mAP50-95): 100%|██████████| 6/6 [00:00<00:00,  9.83it/s]"
     ]
    },
    {
     "name": "stdout",
     "output_type": "stream",
     "text": [
      "                   all        174        182      0.824      0.797      0.868      0.668\n"
     ]
    },
    {
     "name": "stderr",
     "output_type": "stream",
     "text": [
      "\n"
     ]
    },
    {
     "name": "stdout",
     "output_type": "stream",
     "text": [
      "\n",
      "      Epoch    GPU_mem   box_loss   cls_loss   dfl_loss  Instances       Size\n"
     ]
    },
    {
     "name": "stderr",
     "output_type": "stream",
     "text": [
      "    119/200       2.1G      0.704     0.5074      0.928         27        640: 100%|██████████| 44/44 [00:03<00:00, 11.86it/s]\n",
      "                 Class     Images  Instances      Box(P          R      mAP50  mAP50-95): 100%|██████████| 6/6 [00:00<00:00,  9.75it/s]"
     ]
    },
    {
     "name": "stdout",
     "output_type": "stream",
     "text": [
      "                   all        174        182      0.819      0.807      0.861      0.661\n"
     ]
    },
    {
     "name": "stderr",
     "output_type": "stream",
     "text": [
      "\n"
     ]
    },
    {
     "name": "stdout",
     "output_type": "stream",
     "text": [
      "\n",
      "      Epoch    GPU_mem   box_loss   cls_loss   dfl_loss  Instances       Size\n"
     ]
    },
    {
     "name": "stderr",
     "output_type": "stream",
     "text": [
      "    120/200       2.1G     0.7157     0.4991     0.9304         33        640: 100%|██████████| 44/44 [00:03<00:00, 12.15it/s]\n",
      "                 Class     Images  Instances      Box(P          R      mAP50  mAP50-95): 100%|██████████| 6/6 [00:00<00:00, 10.04it/s]"
     ]
    },
    {
     "name": "stdout",
     "output_type": "stream",
     "text": [
      "                   all        174        182      0.762      0.841      0.861      0.657\n"
     ]
    },
    {
     "name": "stderr",
     "output_type": "stream",
     "text": [
      "\n"
     ]
    },
    {
     "name": "stdout",
     "output_type": "stream",
     "text": [
      "\n",
      "      Epoch    GPU_mem   box_loss   cls_loss   dfl_loss  Instances       Size\n"
     ]
    },
    {
     "name": "stderr",
     "output_type": "stream",
     "text": [
      "    121/200       2.1G     0.7285     0.5193     0.9334         29        640: 100%|██████████| 44/44 [00:03<00:00, 13.20it/s]\n",
      "                 Class     Images  Instances      Box(P          R      mAP50  mAP50-95): 100%|██████████| 6/6 [00:00<00:00, 10.48it/s]"
     ]
    },
    {
     "name": "stdout",
     "output_type": "stream",
     "text": [
      "                   all        174        182      0.752       0.83      0.866      0.656\n"
     ]
    },
    {
     "name": "stderr",
     "output_type": "stream",
     "text": [
      "\n"
     ]
    },
    {
     "name": "stdout",
     "output_type": "stream",
     "text": [
      "\n",
      "      Epoch    GPU_mem   box_loss   cls_loss   dfl_loss  Instances       Size\n"
     ]
    },
    {
     "name": "stderr",
     "output_type": "stream",
     "text": [
      "    122/200       2.1G     0.7056     0.5063     0.9203         28        640: 100%|██████████| 44/44 [00:03<00:00, 13.23it/s]\n",
      "                 Class     Images  Instances      Box(P          R      mAP50  mAP50-95): 100%|██████████| 6/6 [00:00<00:00, 10.87it/s]"
     ]
    },
    {
     "name": "stdout",
     "output_type": "stream",
     "text": [
      "                   all        174        182      0.734      0.836      0.869      0.652\n"
     ]
    },
    {
     "name": "stderr",
     "output_type": "stream",
     "text": [
      "\n"
     ]
    },
    {
     "name": "stdout",
     "output_type": "stream",
     "text": [
      "\n",
      "      Epoch    GPU_mem   box_loss   cls_loss   dfl_loss  Instances       Size\n"
     ]
    },
    {
     "name": "stderr",
     "output_type": "stream",
     "text": [
      "    123/200       2.1G     0.7054     0.5075      0.924         32        640: 100%|██████████| 44/44 [00:03<00:00, 12.17it/s]\n",
      "                 Class     Images  Instances      Box(P          R      mAP50  mAP50-95): 100%|██████████| 6/6 [00:00<00:00, 10.06it/s]"
     ]
    },
    {
     "name": "stdout",
     "output_type": "stream",
     "text": [
      "                   all        174        182      0.797      0.829      0.881      0.669\n"
     ]
    },
    {
     "name": "stderr",
     "output_type": "stream",
     "text": [
      "\n"
     ]
    },
    {
     "name": "stdout",
     "output_type": "stream",
     "text": [
      "\n",
      "      Epoch    GPU_mem   box_loss   cls_loss   dfl_loss  Instances       Size\n"
     ]
    },
    {
     "name": "stderr",
     "output_type": "stream",
     "text": [
      "    124/200       2.1G     0.7002     0.5038     0.9223         21        640: 100%|██████████| 44/44 [00:03<00:00, 13.22it/s]\n",
      "                 Class     Images  Instances      Box(P          R      mAP50  mAP50-95): 100%|██████████| 6/6 [00:00<00:00, 10.81it/s]"
     ]
    },
    {
     "name": "stdout",
     "output_type": "stream",
     "text": [
      "                   all        174        182      0.802      0.767      0.855      0.639\n"
     ]
    },
    {
     "name": "stderr",
     "output_type": "stream",
     "text": [
      "\n"
     ]
    },
    {
     "name": "stdout",
     "output_type": "stream",
     "text": [
      "\n",
      "      Epoch    GPU_mem   box_loss   cls_loss   dfl_loss  Instances       Size\n"
     ]
    },
    {
     "name": "stderr",
     "output_type": "stream",
     "text": [
      "    125/200       2.1G     0.7022     0.4887     0.9146         28        640: 100%|██████████| 44/44 [00:03<00:00, 11.96it/s]\n",
      "                 Class     Images  Instances      Box(P          R      mAP50  mAP50-95): 100%|██████████| 6/6 [00:00<00:00,  9.84it/s]"
     ]
    },
    {
     "name": "stdout",
     "output_type": "stream",
     "text": [
      "                   all        174        182      0.802      0.821      0.894       0.68\n"
     ]
    },
    {
     "name": "stderr",
     "output_type": "stream",
     "text": [
      "\n"
     ]
    },
    {
     "name": "stdout",
     "output_type": "stream",
     "text": [
      "\n",
      "      Epoch    GPU_mem   box_loss   cls_loss   dfl_loss  Instances       Size\n"
     ]
    },
    {
     "name": "stderr",
     "output_type": "stream",
     "text": [
      "    126/200      2.11G     0.6848     0.4809     0.9215         28        640: 100%|██████████| 44/44 [00:03<00:00, 12.78it/s]\n",
      "                 Class     Images  Instances      Box(P          R      mAP50  mAP50-95): 100%|██████████| 6/6 [00:00<00:00, 10.17it/s]"
     ]
    },
    {
     "name": "stdout",
     "output_type": "stream",
     "text": [
      "                   all        174        182      0.707      0.817      0.831      0.613\n"
     ]
    },
    {
     "name": "stderr",
     "output_type": "stream",
     "text": [
      "\n"
     ]
    },
    {
     "name": "stdout",
     "output_type": "stream",
     "text": [
      "\n",
      "      Epoch    GPU_mem   box_loss   cls_loss   dfl_loss  Instances       Size\n"
     ]
    },
    {
     "name": "stderr",
     "output_type": "stream",
     "text": [
      "    127/200       2.1G     0.6848     0.4851     0.9148         31        640: 100%|██████████| 44/44 [00:03<00:00, 13.09it/s]\n",
      "                 Class     Images  Instances      Box(P          R      mAP50  mAP50-95): 100%|██████████| 6/6 [00:00<00:00, 10.42it/s]"
     ]
    },
    {
     "name": "stdout",
     "output_type": "stream",
     "text": [
      "                   all        174        182      0.737      0.855      0.887      0.686\n"
     ]
    },
    {
     "name": "stderr",
     "output_type": "stream",
     "text": [
      "\n"
     ]
    },
    {
     "name": "stdout",
     "output_type": "stream",
     "text": [
      "\n",
      "      Epoch    GPU_mem   box_loss   cls_loss   dfl_loss  Instances       Size\n"
     ]
    },
    {
     "name": "stderr",
     "output_type": "stream",
     "text": [
      "    128/200       2.1G     0.6758     0.4632     0.9119         29        640: 100%|██████████| 44/44 [00:03<00:00, 13.11it/s]\n",
      "                 Class     Images  Instances      Box(P          R      mAP50  mAP50-95): 100%|██████████| 6/6 [00:00<00:00, 10.19it/s]"
     ]
    },
    {
     "name": "stdout",
     "output_type": "stream",
     "text": [
      "                   all        174        182      0.845        0.8       0.88      0.673\n"
     ]
    },
    {
     "name": "stderr",
     "output_type": "stream",
     "text": [
      "\n"
     ]
    },
    {
     "name": "stdout",
     "output_type": "stream",
     "text": [
      "\n",
      "      Epoch    GPU_mem   box_loss   cls_loss   dfl_loss  Instances       Size\n"
     ]
    },
    {
     "name": "stderr",
     "output_type": "stream",
     "text": [
      "    129/200       2.1G     0.6888     0.4949     0.9191         26        640: 100%|██████████| 44/44 [00:03<00:00, 12.25it/s]\n",
      "                 Class     Images  Instances      Box(P          R      mAP50  mAP50-95): 100%|██████████| 6/6 [00:00<00:00, 10.30it/s]"
     ]
    },
    {
     "name": "stdout",
     "output_type": "stream",
     "text": [
      "                   all        174        182      0.782      0.857        0.9      0.685\n"
     ]
    },
    {
     "name": "stderr",
     "output_type": "stream",
     "text": [
      "\n"
     ]
    },
    {
     "name": "stdout",
     "output_type": "stream",
     "text": [
      "\n",
      "      Epoch    GPU_mem   box_loss   cls_loss   dfl_loss  Instances       Size\n"
     ]
    },
    {
     "name": "stderr",
     "output_type": "stream",
     "text": [
      "    130/200       2.1G     0.6934     0.4943     0.9291         27        640: 100%|██████████| 44/44 [00:03<00:00, 12.71it/s]\n",
      "                 Class     Images  Instances      Box(P          R      mAP50  mAP50-95): 100%|██████████| 6/6 [00:00<00:00,  9.83it/s]"
     ]
    },
    {
     "name": "stdout",
     "output_type": "stream",
     "text": [
      "                   all        174        182      0.805      0.758      0.863      0.656\n"
     ]
    },
    {
     "name": "stderr",
     "output_type": "stream",
     "text": [
      "\n"
     ]
    },
    {
     "name": "stdout",
     "output_type": "stream",
     "text": [
      "\n",
      "      Epoch    GPU_mem   box_loss   cls_loss   dfl_loss  Instances       Size\n"
     ]
    },
    {
     "name": "stderr",
     "output_type": "stream",
     "text": [
      "    131/200       2.1G     0.6935      0.489     0.9226         25        640: 100%|██████████| 44/44 [00:03<00:00, 13.23it/s]\n",
      "                 Class     Images  Instances      Box(P          R      mAP50  mAP50-95): 100%|██████████| 6/6 [00:00<00:00, 10.63it/s]"
     ]
    },
    {
     "name": "stdout",
     "output_type": "stream",
     "text": [
      "                   all        174        182      0.863      0.775      0.877      0.675\n"
     ]
    },
    {
     "name": "stderr",
     "output_type": "stream",
     "text": [
      "\n"
     ]
    },
    {
     "name": "stdout",
     "output_type": "stream",
     "text": [
      "\n",
      "      Epoch    GPU_mem   box_loss   cls_loss   dfl_loss  Instances       Size\n"
     ]
    },
    {
     "name": "stderr",
     "output_type": "stream",
     "text": [
      "    132/200       2.1G     0.6668     0.4827     0.9075         24        640: 100%|██████████| 44/44 [00:03<00:00, 12.64it/s]\n",
      "                 Class     Images  Instances      Box(P          R      mAP50  mAP50-95): 100%|██████████| 6/6 [00:00<00:00, 10.63it/s]"
     ]
    },
    {
     "name": "stdout",
     "output_type": "stream",
     "text": [
      "                   all        174        182      0.815       0.85       0.89      0.683\n"
     ]
    },
    {
     "name": "stderr",
     "output_type": "stream",
     "text": [
      "\n"
     ]
    },
    {
     "name": "stdout",
     "output_type": "stream",
     "text": [
      "\n",
      "      Epoch    GPU_mem   box_loss   cls_loss   dfl_loss  Instances       Size\n"
     ]
    },
    {
     "name": "stderr",
     "output_type": "stream",
     "text": [
      "    133/200       2.1G     0.6676     0.4676     0.9278         17        640: 100%|██████████| 44/44 [00:03<00:00, 11.42it/s]\n",
      "                 Class     Images  Instances      Box(P          R      mAP50  mAP50-95): 100%|██████████| 6/6 [00:00<00:00,  9.57it/s]"
     ]
    },
    {
     "name": "stdout",
     "output_type": "stream",
     "text": [
      "                   all        174        182      0.868      0.815      0.885      0.671\n"
     ]
    },
    {
     "name": "stderr",
     "output_type": "stream",
     "text": [
      "\n"
     ]
    },
    {
     "name": "stdout",
     "output_type": "stream",
     "text": [
      "\n",
      "      Epoch    GPU_mem   box_loss   cls_loss   dfl_loss  Instances       Size\n"
     ]
    },
    {
     "name": "stderr",
     "output_type": "stream",
     "text": [
      "    134/200       2.1G     0.7015     0.4971     0.9283         29        640: 100%|██████████| 44/44 [00:03<00:00, 12.20it/s]\n",
      "                 Class     Images  Instances      Box(P          R      mAP50  mAP50-95): 100%|██████████| 6/6 [00:00<00:00, 10.22it/s]"
     ]
    },
    {
     "name": "stdout",
     "output_type": "stream",
     "text": [
      "                   all        174        182      0.787      0.855      0.887      0.661\n"
     ]
    },
    {
     "name": "stderr",
     "output_type": "stream",
     "text": [
      "\n"
     ]
    },
    {
     "name": "stdout",
     "output_type": "stream",
     "text": [
      "\n",
      "      Epoch    GPU_mem   box_loss   cls_loss   dfl_loss  Instances       Size\n"
     ]
    },
    {
     "name": "stderr",
     "output_type": "stream",
     "text": [
      "    135/200       2.1G      0.677     0.4771     0.9181         25        640: 100%|██████████| 44/44 [00:03<00:00, 11.73it/s]\n",
      "                 Class     Images  Instances      Box(P          R      mAP50  mAP50-95): 100%|██████████| 6/6 [00:00<00:00, 10.28it/s]"
     ]
    },
    {
     "name": "stdout",
     "output_type": "stream",
     "text": [
      "                   all        174        182       0.81      0.853      0.901       0.69\n"
     ]
    },
    {
     "name": "stderr",
     "output_type": "stream",
     "text": [
      "\n"
     ]
    },
    {
     "name": "stdout",
     "output_type": "stream",
     "text": [
      "\n",
      "      Epoch    GPU_mem   box_loss   cls_loss   dfl_loss  Instances       Size\n"
     ]
    },
    {
     "name": "stderr",
     "output_type": "stream",
     "text": [
      "    136/200       2.1G     0.6648     0.4551     0.9057         27        640: 100%|██████████| 44/44 [00:03<00:00, 12.25it/s]\n",
      "                 Class     Images  Instances      Box(P          R      mAP50  mAP50-95): 100%|██████████| 6/6 [00:00<00:00,  9.73it/s]"
     ]
    },
    {
     "name": "stdout",
     "output_type": "stream",
     "text": [
      "                   all        174        182      0.823      0.825      0.901      0.679\n"
     ]
    },
    {
     "name": "stderr",
     "output_type": "stream",
     "text": [
      "\n"
     ]
    },
    {
     "name": "stdout",
     "output_type": "stream",
     "text": [
      "\n",
      "      Epoch    GPU_mem   box_loss   cls_loss   dfl_loss  Instances       Size\n"
     ]
    },
    {
     "name": "stderr",
     "output_type": "stream",
     "text": [
      "    137/200       2.1G     0.6967     0.4628     0.9342         20        640: 100%|██████████| 44/44 [00:03<00:00, 11.98it/s]\n",
      "                 Class     Images  Instances      Box(P          R      mAP50  mAP50-95): 100%|██████████| 6/6 [00:00<00:00,  9.61it/s]"
     ]
    },
    {
     "name": "stdout",
     "output_type": "stream",
     "text": [
      "                   all        174        182      0.781      0.853       0.88      0.669\n"
     ]
    },
    {
     "name": "stderr",
     "output_type": "stream",
     "text": [
      "\n"
     ]
    },
    {
     "name": "stdout",
     "output_type": "stream",
     "text": [
      "\n",
      "      Epoch    GPU_mem   box_loss   cls_loss   dfl_loss  Instances       Size\n"
     ]
    },
    {
     "name": "stderr",
     "output_type": "stream",
     "text": [
      "    138/200       2.1G      0.683     0.4624     0.9169         20        640: 100%|██████████| 44/44 [00:03<00:00, 11.90it/s]\n",
      "                 Class     Images  Instances      Box(P          R      mAP50  mAP50-95): 100%|██████████| 6/6 [00:00<00:00,  9.52it/s]"
     ]
    },
    {
     "name": "stdout",
     "output_type": "stream",
     "text": [
      "                   all        174        182      0.778      0.847      0.881      0.669\n"
     ]
    },
    {
     "name": "stderr",
     "output_type": "stream",
     "text": [
      "\n"
     ]
    },
    {
     "name": "stdout",
     "output_type": "stream",
     "text": [
      "\n",
      "      Epoch    GPU_mem   box_loss   cls_loss   dfl_loss  Instances       Size\n"
     ]
    },
    {
     "name": "stderr",
     "output_type": "stream",
     "text": [
      "    139/200       2.1G     0.6703     0.4451     0.9086         33        640: 100%|██████████| 44/44 [00:03<00:00, 11.78it/s]\n",
      "                 Class     Images  Instances      Box(P          R      mAP50  mAP50-95): 100%|██████████| 6/6 [00:00<00:00,  9.86it/s]"
     ]
    },
    {
     "name": "stdout",
     "output_type": "stream",
     "text": [
      "                   all        174        182      0.861      0.763      0.858      0.658\n"
     ]
    },
    {
     "name": "stderr",
     "output_type": "stream",
     "text": [
      "\n"
     ]
    },
    {
     "name": "stdout",
     "output_type": "stream",
     "text": [
      "\n",
      "      Epoch    GPU_mem   box_loss   cls_loss   dfl_loss  Instances       Size\n"
     ]
    },
    {
     "name": "stderr",
     "output_type": "stream",
     "text": [
      "    140/200       2.1G     0.6639      0.466     0.9194         20        640: 100%|██████████| 44/44 [00:03<00:00, 11.58it/s]\n",
      "                 Class     Images  Instances      Box(P          R      mAP50  mAP50-95): 100%|██████████| 6/6 [00:00<00:00, 11.01it/s]"
     ]
    },
    {
     "name": "stdout",
     "output_type": "stream",
     "text": [
      "                   all        174        182      0.811      0.827      0.868      0.661\n"
     ]
    },
    {
     "name": "stderr",
     "output_type": "stream",
     "text": [
      "\n"
     ]
    },
    {
     "name": "stdout",
     "output_type": "stream",
     "text": [
      "\n",
      "      Epoch    GPU_mem   box_loss   cls_loss   dfl_loss  Instances       Size\n"
     ]
    },
    {
     "name": "stderr",
     "output_type": "stream",
     "text": [
      "    141/200       2.1G     0.6582     0.4628      0.908         24        640: 100%|██████████| 44/44 [00:03<00:00, 11.98it/s]\n",
      "                 Class     Images  Instances      Box(P          R      mAP50  mAP50-95): 100%|██████████| 6/6 [00:00<00:00, 10.59it/s]"
     ]
    },
    {
     "name": "stdout",
     "output_type": "stream",
     "text": [
      "                   all        174        182      0.824      0.791      0.867      0.667\n"
     ]
    },
    {
     "name": "stderr",
     "output_type": "stream",
     "text": [
      "\n"
     ]
    },
    {
     "name": "stdout",
     "output_type": "stream",
     "text": [
      "\n",
      "      Epoch    GPU_mem   box_loss   cls_loss   dfl_loss  Instances       Size\n"
     ]
    },
    {
     "name": "stderr",
     "output_type": "stream",
     "text": [
      "    142/200       2.1G     0.6631     0.4473     0.9097         25        640: 100%|██████████| 44/44 [00:03<00:00, 11.88it/s]\n",
      "                 Class     Images  Instances      Box(P          R      mAP50  mAP50-95): 100%|██████████| 6/6 [00:00<00:00,  9.98it/s]"
     ]
    },
    {
     "name": "stdout",
     "output_type": "stream",
     "text": [
      "                   all        174        182      0.793      0.814      0.867      0.657\n"
     ]
    },
    {
     "name": "stderr",
     "output_type": "stream",
     "text": [
      "\n"
     ]
    },
    {
     "name": "stdout",
     "output_type": "stream",
     "text": [
      "\n",
      "      Epoch    GPU_mem   box_loss   cls_loss   dfl_loss  Instances       Size\n"
     ]
    },
    {
     "name": "stderr",
     "output_type": "stream",
     "text": [
      "    143/200       2.1G     0.6569     0.4433     0.9101         29        640: 100%|██████████| 44/44 [00:03<00:00, 13.03it/s]\n",
      "                 Class     Images  Instances      Box(P          R      mAP50  mAP50-95): 100%|██████████| 6/6 [00:00<00:00, 11.00it/s]"
     ]
    },
    {
     "name": "stdout",
     "output_type": "stream",
     "text": [
      "                   all        174        182      0.823       0.78      0.865      0.662\n"
     ]
    },
    {
     "name": "stderr",
     "output_type": "stream",
     "text": [
      "\n"
     ]
    },
    {
     "name": "stdout",
     "output_type": "stream",
     "text": [
      "\n",
      "      Epoch    GPU_mem   box_loss   cls_loss   dfl_loss  Instances       Size\n"
     ]
    },
    {
     "name": "stderr",
     "output_type": "stream",
     "text": [
      "    144/200       2.1G     0.6556     0.4492     0.9066         24        640: 100%|██████████| 44/44 [00:03<00:00, 12.78it/s]\n",
      "                 Class     Images  Instances      Box(P          R      mAP50  mAP50-95): 100%|██████████| 6/6 [00:00<00:00,  8.12it/s]"
     ]
    },
    {
     "name": "stdout",
     "output_type": "stream",
     "text": [
      "                   all        174        182      0.792       0.79      0.879      0.675\n"
     ]
    },
    {
     "name": "stderr",
     "output_type": "stream",
     "text": [
      "\n"
     ]
    },
    {
     "name": "stdout",
     "output_type": "stream",
     "text": [
      "\n",
      "      Epoch    GPU_mem   box_loss   cls_loss   dfl_loss  Instances       Size\n"
     ]
    },
    {
     "name": "stderr",
     "output_type": "stream",
     "text": [
      "    145/200       2.1G     0.6599      0.464     0.9131         30        640: 100%|██████████| 44/44 [00:03<00:00, 13.01it/s]\n",
      "                 Class     Images  Instances      Box(P          R      mAP50  mAP50-95): 100%|██████████| 6/6 [00:00<00:00, 10.44it/s]"
     ]
    },
    {
     "name": "stdout",
     "output_type": "stream",
     "text": [
      "                   all        174        182      0.873      0.792        0.9      0.689\n"
     ]
    },
    {
     "name": "stderr",
     "output_type": "stream",
     "text": [
      "\n"
     ]
    },
    {
     "name": "stdout",
     "output_type": "stream",
     "text": [
      "\n",
      "      Epoch    GPU_mem   box_loss   cls_loss   dfl_loss  Instances       Size\n"
     ]
    },
    {
     "name": "stderr",
     "output_type": "stream",
     "text": [
      "    146/200       2.1G     0.6567     0.4475     0.9116         28        640: 100%|██████████| 44/44 [00:03<00:00, 12.85it/s]\n",
      "                 Class     Images  Instances      Box(P          R      mAP50  mAP50-95): 100%|██████████| 6/6 [00:00<00:00, 10.03it/s]"
     ]
    },
    {
     "name": "stdout",
     "output_type": "stream",
     "text": [
      "                   all        174        182      0.752      0.858      0.874      0.669\n"
     ]
    },
    {
     "name": "stderr",
     "output_type": "stream",
     "text": [
      "\n"
     ]
    },
    {
     "name": "stdout",
     "output_type": "stream",
     "text": [
      "\n",
      "      Epoch    GPU_mem   box_loss   cls_loss   dfl_loss  Instances       Size\n"
     ]
    },
    {
     "name": "stderr",
     "output_type": "stream",
     "text": [
      "    147/200       2.1G      0.651      0.438     0.9034         23        640: 100%|██████████| 44/44 [00:03<00:00, 11.78it/s]\n",
      "                 Class     Images  Instances      Box(P          R      mAP50  mAP50-95): 100%|██████████| 6/6 [00:00<00:00, 10.27it/s]"
     ]
    },
    {
     "name": "stdout",
     "output_type": "stream",
     "text": [
      "                   all        174        182      0.824      0.786      0.877      0.669\n"
     ]
    },
    {
     "name": "stderr",
     "output_type": "stream",
     "text": [
      "\n"
     ]
    },
    {
     "name": "stdout",
     "output_type": "stream",
     "text": [
      "\n",
      "      Epoch    GPU_mem   box_loss   cls_loss   dfl_loss  Instances       Size\n"
     ]
    },
    {
     "name": "stderr",
     "output_type": "stream",
     "text": [
      "    148/200       2.1G     0.6745     0.4517     0.9169         39        640: 100%|██████████| 44/44 [00:03<00:00, 11.94it/s]\n",
      "                 Class     Images  Instances      Box(P          R      mAP50  mAP50-95): 100%|██████████| 6/6 [00:00<00:00,  9.18it/s]"
     ]
    },
    {
     "name": "stdout",
     "output_type": "stream",
     "text": [
      "                   all        174        182      0.764      0.818      0.874      0.677\n"
     ]
    },
    {
     "name": "stderr",
     "output_type": "stream",
     "text": [
      "\n"
     ]
    },
    {
     "name": "stdout",
     "output_type": "stream",
     "text": [
      "\n",
      "      Epoch    GPU_mem   box_loss   cls_loss   dfl_loss  Instances       Size\n"
     ]
    },
    {
     "name": "stderr",
     "output_type": "stream",
     "text": [
      "    149/200       2.1G     0.6406     0.4232     0.9066         25        640: 100%|██████████| 44/44 [00:03<00:00, 11.70it/s]\n",
      "                 Class     Images  Instances      Box(P          R      mAP50  mAP50-95): 100%|██████████| 6/6 [00:00<00:00,  9.48it/s]"
     ]
    },
    {
     "name": "stdout",
     "output_type": "stream",
     "text": [
      "                   all        174        182       0.81       0.86      0.902      0.688\n"
     ]
    },
    {
     "name": "stderr",
     "output_type": "stream",
     "text": [
      "\n"
     ]
    },
    {
     "name": "stdout",
     "output_type": "stream",
     "text": [
      "\n",
      "      Epoch    GPU_mem   box_loss   cls_loss   dfl_loss  Instances       Size\n"
     ]
    },
    {
     "name": "stderr",
     "output_type": "stream",
     "text": [
      "    150/200       2.1G      0.634     0.4359     0.9013         25        640: 100%|██████████| 44/44 [00:03<00:00, 12.95it/s]\n",
      "                 Class     Images  Instances      Box(P          R      mAP50  mAP50-95): 100%|██████████| 6/6 [00:00<00:00, 10.71it/s]"
     ]
    },
    {
     "name": "stdout",
     "output_type": "stream",
     "text": [
      "                   all        174        182      0.882      0.765      0.875      0.659\n"
     ]
    },
    {
     "name": "stderr",
     "output_type": "stream",
     "text": [
      "\n"
     ]
    },
    {
     "name": "stdout",
     "output_type": "stream",
     "text": [
      "\n",
      "      Epoch    GPU_mem   box_loss   cls_loss   dfl_loss  Instances       Size\n"
     ]
    },
    {
     "name": "stderr",
     "output_type": "stream",
     "text": [
      "    151/200       2.1G     0.6264     0.4226     0.8976         25        640: 100%|██████████| 44/44 [00:03<00:00, 13.00it/s]\n",
      "                 Class     Images  Instances      Box(P          R      mAP50  mAP50-95): 100%|██████████| 6/6 [00:00<00:00, 10.29it/s]"
     ]
    },
    {
     "name": "stdout",
     "output_type": "stream",
     "text": [
      "                   all        174        182      0.847      0.823      0.897      0.678\n"
     ]
    },
    {
     "name": "stderr",
     "output_type": "stream",
     "text": [
      "\n"
     ]
    },
    {
     "name": "stdout",
     "output_type": "stream",
     "text": [
      "\n",
      "      Epoch    GPU_mem   box_loss   cls_loss   dfl_loss  Instances       Size\n"
     ]
    },
    {
     "name": "stderr",
     "output_type": "stream",
     "text": [
      "    152/200       2.1G     0.6524     0.4368     0.9046         25        640: 100%|██████████| 44/44 [00:03<00:00, 12.00it/s]\n",
      "                 Class     Images  Instances      Box(P          R      mAP50  mAP50-95): 100%|██████████| 6/6 [00:00<00:00, 10.45it/s]"
     ]
    },
    {
     "name": "stdout",
     "output_type": "stream",
     "text": [
      "                   all        174        182      0.882      0.789      0.874       0.67\n"
     ]
    },
    {
     "name": "stderr",
     "output_type": "stream",
     "text": [
      "\n"
     ]
    },
    {
     "name": "stdout",
     "output_type": "stream",
     "text": [
      "\n",
      "      Epoch    GPU_mem   box_loss   cls_loss   dfl_loss  Instances       Size\n"
     ]
    },
    {
     "name": "stderr",
     "output_type": "stream",
     "text": [
      "    153/200       2.1G      0.626     0.4166     0.9032         31        640: 100%|██████████| 44/44 [00:03<00:00, 11.65it/s]\n",
      "                 Class     Images  Instances      Box(P          R      mAP50  mAP50-95): 100%|██████████| 6/6 [00:00<00:00,  9.99it/s]"
     ]
    },
    {
     "name": "stdout",
     "output_type": "stream",
     "text": [
      "                   all        174        182      0.903      0.756      0.882      0.682\n"
     ]
    },
    {
     "name": "stderr",
     "output_type": "stream",
     "text": [
      "\n"
     ]
    },
    {
     "name": "stdout",
     "output_type": "stream",
     "text": [
      "\n",
      "      Epoch    GPU_mem   box_loss   cls_loss   dfl_loss  Instances       Size\n"
     ]
    },
    {
     "name": "stderr",
     "output_type": "stream",
     "text": [
      "    154/200       2.1G     0.6497     0.4167      0.905         30        640: 100%|██████████| 44/44 [00:03<00:00, 12.04it/s]\n",
      "                 Class     Images  Instances      Box(P          R      mAP50  mAP50-95): 100%|██████████| 6/6 [00:00<00:00,  9.88it/s]"
     ]
    },
    {
     "name": "stdout",
     "output_type": "stream",
     "text": [
      "                   all        174        182      0.822      0.798      0.876      0.672\n"
     ]
    },
    {
     "name": "stderr",
     "output_type": "stream",
     "text": [
      "\n"
     ]
    },
    {
     "name": "stdout",
     "output_type": "stream",
     "text": [
      "\n",
      "      Epoch    GPU_mem   box_loss   cls_loss   dfl_loss  Instances       Size\n"
     ]
    },
    {
     "name": "stderr",
     "output_type": "stream",
     "text": [
      "    155/200       2.1G     0.6261     0.4091     0.8909         34        640: 100%|██████████| 44/44 [00:03<00:00, 12.12it/s]\n",
      "                 Class     Images  Instances      Box(P          R      mAP50  mAP50-95): 100%|██████████| 6/6 [00:00<00:00, 10.23it/s]"
     ]
    },
    {
     "name": "stdout",
     "output_type": "stream",
     "text": [
      "                   all        174        182       0.81      0.851      0.891       0.69\n"
     ]
    },
    {
     "name": "stderr",
     "output_type": "stream",
     "text": [
      "\n"
     ]
    },
    {
     "name": "stdout",
     "output_type": "stream",
     "text": [
      "\n",
      "      Epoch    GPU_mem   box_loss   cls_loss   dfl_loss  Instances       Size\n"
     ]
    },
    {
     "name": "stderr",
     "output_type": "stream",
     "text": [
      "    156/200       2.1G     0.6224      0.415     0.8945         22        640: 100%|██████████| 44/44 [00:03<00:00, 13.41it/s]\n",
      "                 Class     Images  Instances      Box(P          R      mAP50  mAP50-95): 100%|██████████| 6/6 [00:00<00:00, 10.05it/s]"
     ]
    },
    {
     "name": "stdout",
     "output_type": "stream",
     "text": [
      "                   all        174        182      0.878      0.761      0.887      0.678\n"
     ]
    },
    {
     "name": "stderr",
     "output_type": "stream",
     "text": [
      "\n"
     ]
    },
    {
     "name": "stdout",
     "output_type": "stream",
     "text": [
      "\n",
      "      Epoch    GPU_mem   box_loss   cls_loss   dfl_loss  Instances       Size\n"
     ]
    },
    {
     "name": "stderr",
     "output_type": "stream",
     "text": [
      "    157/200       2.1G     0.6448     0.4205     0.8945         21        640: 100%|██████████| 44/44 [00:03<00:00, 11.88it/s]\n",
      "                 Class     Images  Instances      Box(P          R      mAP50  mAP50-95): 100%|██████████| 6/6 [00:00<00:00,  9.89it/s]"
     ]
    },
    {
     "name": "stdout",
     "output_type": "stream",
     "text": [
      "                   all        174        182      0.857      0.792      0.878      0.666\n"
     ]
    },
    {
     "name": "stderr",
     "output_type": "stream",
     "text": [
      "\n"
     ]
    },
    {
     "name": "stdout",
     "output_type": "stream",
     "text": [
      "\n",
      "      Epoch    GPU_mem   box_loss   cls_loss   dfl_loss  Instances       Size\n"
     ]
    },
    {
     "name": "stderr",
     "output_type": "stream",
     "text": [
      "    158/200       2.1G     0.6377     0.4142     0.9089         26        640: 100%|██████████| 44/44 [00:03<00:00, 13.00it/s]\n",
      "                 Class     Images  Instances      Box(P          R      mAP50  mAP50-95): 100%|██████████| 6/6 [00:00<00:00, 10.75it/s]"
     ]
    },
    {
     "name": "stdout",
     "output_type": "stream",
     "text": [
      "                   all        174        182      0.886      0.793      0.901      0.694\n"
     ]
    },
    {
     "name": "stderr",
     "output_type": "stream",
     "text": [
      "\n"
     ]
    },
    {
     "name": "stdout",
     "output_type": "stream",
     "text": [
      "\n",
      "      Epoch    GPU_mem   box_loss   cls_loss   dfl_loss  Instances       Size\n"
     ]
    },
    {
     "name": "stderr",
     "output_type": "stream",
     "text": [
      "    159/200       2.1G     0.6161     0.4008     0.8906         33        640: 100%|██████████| 44/44 [00:03<00:00, 13.06it/s]\n",
      "                 Class     Images  Instances      Box(P          R      mAP50  mAP50-95): 100%|██████████| 6/6 [00:00<00:00, 10.52it/s]"
     ]
    },
    {
     "name": "stdout",
     "output_type": "stream",
     "text": [
      "                   all        174        182      0.884      0.846      0.906      0.693\n"
     ]
    },
    {
     "name": "stderr",
     "output_type": "stream",
     "text": [
      "\n"
     ]
    },
    {
     "name": "stdout",
     "output_type": "stream",
     "text": [
      "\n",
      "      Epoch    GPU_mem   box_loss   cls_loss   dfl_loss  Instances       Size\n"
     ]
    },
    {
     "name": "stderr",
     "output_type": "stream",
     "text": [
      "    160/200       2.1G     0.6217     0.4215     0.8994         27        640: 100%|██████████| 44/44 [00:03<00:00, 12.92it/s]\n",
      "                 Class     Images  Instances      Box(P          R      mAP50  mAP50-95): 100%|██████████| 6/6 [00:00<00:00, 10.74it/s]"
     ]
    },
    {
     "name": "stdout",
     "output_type": "stream",
     "text": [
      "                   all        174        182      0.823      0.821       0.87      0.657\n"
     ]
    },
    {
     "name": "stderr",
     "output_type": "stream",
     "text": [
      "\n"
     ]
    },
    {
     "name": "stdout",
     "output_type": "stream",
     "text": [
      "\n",
      "      Epoch    GPU_mem   box_loss   cls_loss   dfl_loss  Instances       Size\n"
     ]
    },
    {
     "name": "stderr",
     "output_type": "stream",
     "text": [
      "    161/200       2.1G     0.6342     0.4091     0.9004         26        640: 100%|██████████| 44/44 [00:03<00:00, 13.16it/s]\n",
      "                 Class     Images  Instances      Box(P          R      mAP50  mAP50-95): 100%|██████████| 6/6 [00:00<00:00, 10.59it/s]"
     ]
    },
    {
     "name": "stdout",
     "output_type": "stream",
     "text": [
      "                   all        174        182      0.882       0.83        0.9      0.688\n"
     ]
    },
    {
     "name": "stderr",
     "output_type": "stream",
     "text": [
      "\n"
     ]
    },
    {
     "name": "stdout",
     "output_type": "stream",
     "text": [
      "\n",
      "      Epoch    GPU_mem   box_loss   cls_loss   dfl_loss  Instances       Size\n"
     ]
    },
    {
     "name": "stderr",
     "output_type": "stream",
     "text": [
      "    162/200       2.1G     0.6335     0.4156     0.9075         28        640: 100%|██████████| 44/44 [00:03<00:00, 13.13it/s]\n",
      "                 Class     Images  Instances      Box(P          R      mAP50  mAP50-95): 100%|██████████| 6/6 [00:00<00:00, 10.33it/s]"
     ]
    },
    {
     "name": "stdout",
     "output_type": "stream",
     "text": [
      "                   all        174        182      0.872      0.811      0.891       0.69\n"
     ]
    },
    {
     "name": "stderr",
     "output_type": "stream",
     "text": [
      "\n"
     ]
    },
    {
     "name": "stdout",
     "output_type": "stream",
     "text": [
      "\n",
      "      Epoch    GPU_mem   box_loss   cls_loss   dfl_loss  Instances       Size\n"
     ]
    },
    {
     "name": "stderr",
     "output_type": "stream",
     "text": [
      "    163/200       2.1G     0.6193     0.4129     0.9024         21        640: 100%|██████████| 44/44 [00:03<00:00, 13.08it/s]\n",
      "                 Class     Images  Instances      Box(P          R      mAP50  mAP50-95): 100%|██████████| 6/6 [00:00<00:00, 10.54it/s]"
     ]
    },
    {
     "name": "stdout",
     "output_type": "stream",
     "text": [
      "                   all        174        182      0.888      0.811      0.876      0.674\n"
     ]
    },
    {
     "name": "stderr",
     "output_type": "stream",
     "text": [
      "\n"
     ]
    },
    {
     "name": "stdout",
     "output_type": "stream",
     "text": [
      "\n",
      "      Epoch    GPU_mem   box_loss   cls_loss   dfl_loss  Instances       Size\n"
     ]
    },
    {
     "name": "stderr",
     "output_type": "stream",
     "text": [
      "    164/200       2.1G     0.6143     0.3912     0.8982         31        640: 100%|██████████| 44/44 [00:03<00:00, 11.97it/s]\n",
      "                 Class     Images  Instances      Box(P          R      mAP50  mAP50-95): 100%|██████████| 6/6 [00:00<00:00, 10.38it/s]"
     ]
    },
    {
     "name": "stdout",
     "output_type": "stream",
     "text": [
      "                   all        174        182      0.864       0.79      0.885      0.681\n"
     ]
    },
    {
     "name": "stderr",
     "output_type": "stream",
     "text": [
      "\n"
     ]
    },
    {
     "name": "stdout",
     "output_type": "stream",
     "text": [
      "\n",
      "      Epoch    GPU_mem   box_loss   cls_loss   dfl_loss  Instances       Size\n"
     ]
    },
    {
     "name": "stderr",
     "output_type": "stream",
     "text": [
      "    165/200       2.1G     0.6034     0.4067     0.8935         26        640: 100%|██████████| 44/44 [00:03<00:00, 11.60it/s]\n",
      "                 Class     Images  Instances      Box(P          R      mAP50  mAP50-95): 100%|██████████| 6/6 [00:00<00:00,  9.90it/s]"
     ]
    },
    {
     "name": "stdout",
     "output_type": "stream",
     "text": [
      "                   all        174        182      0.878       0.82      0.893      0.685\n"
     ]
    },
    {
     "name": "stderr",
     "output_type": "stream",
     "text": [
      "\n"
     ]
    },
    {
     "name": "stdout",
     "output_type": "stream",
     "text": [
      "\n",
      "      Epoch    GPU_mem   box_loss   cls_loss   dfl_loss  Instances       Size\n"
     ]
    },
    {
     "name": "stderr",
     "output_type": "stream",
     "text": [
      "    166/200       2.1G     0.6046     0.3967     0.8943         25        640: 100%|██████████| 44/44 [00:03<00:00, 12.53it/s]\n",
      "                 Class     Images  Instances      Box(P          R      mAP50  mAP50-95): 100%|██████████| 6/6 [00:00<00:00, 10.48it/s]"
     ]
    },
    {
     "name": "stdout",
     "output_type": "stream",
     "text": [
      "                   all        174        182      0.849      0.814      0.888      0.678\n"
     ]
    },
    {
     "name": "stderr",
     "output_type": "stream",
     "text": [
      "\n"
     ]
    },
    {
     "name": "stdout",
     "output_type": "stream",
     "text": [
      "\n",
      "      Epoch    GPU_mem   box_loss   cls_loss   dfl_loss  Instances       Size\n"
     ]
    },
    {
     "name": "stderr",
     "output_type": "stream",
     "text": [
      "    167/200       2.1G     0.6092     0.4015     0.8978         25        640: 100%|██████████| 44/44 [00:03<00:00, 12.38it/s]\n",
      "                 Class     Images  Instances      Box(P          R      mAP50  mAP50-95): 100%|██████████| 6/6 [00:00<00:00, 10.19it/s]"
     ]
    },
    {
     "name": "stdout",
     "output_type": "stream",
     "text": [
      "                   all        174        182      0.809      0.779      0.861      0.671\n"
     ]
    },
    {
     "name": "stderr",
     "output_type": "stream",
     "text": [
      "\n"
     ]
    },
    {
     "name": "stdout",
     "output_type": "stream",
     "text": [
      "\n",
      "      Epoch    GPU_mem   box_loss   cls_loss   dfl_loss  Instances       Size\n"
     ]
    },
    {
     "name": "stderr",
     "output_type": "stream",
     "text": [
      "    168/200       2.1G     0.5978     0.3905     0.8933         23        640: 100%|██████████| 44/44 [00:03<00:00, 12.82it/s]\n",
      "                 Class     Images  Instances      Box(P          R      mAP50  mAP50-95): 100%|██████████| 6/6 [00:00<00:00, 10.49it/s]"
     ]
    },
    {
     "name": "stdout",
     "output_type": "stream",
     "text": [
      "                   all        174        182       0.89      0.795      0.891      0.684\n"
     ]
    },
    {
     "name": "stderr",
     "output_type": "stream",
     "text": [
      "\n"
     ]
    },
    {
     "name": "stdout",
     "output_type": "stream",
     "text": [
      "\n",
      "      Epoch    GPU_mem   box_loss   cls_loss   dfl_loss  Instances       Size\n"
     ]
    },
    {
     "name": "stderr",
     "output_type": "stream",
     "text": [
      "    169/200       2.1G     0.6096     0.3957     0.9047         15        640: 100%|██████████| 44/44 [00:03<00:00, 12.68it/s]\n",
      "                 Class     Images  Instances      Box(P          R      mAP50  mAP50-95): 100%|██████████| 6/6 [00:00<00:00,  8.72it/s]\n"
     ]
    },
    {
     "name": "stdout",
     "output_type": "stream",
     "text": [
      "                   all        174        182      0.804      0.829      0.876      0.684\n",
      "\n",
      "      Epoch    GPU_mem   box_loss   cls_loss   dfl_loss  Instances       Size\n"
     ]
    },
    {
     "name": "stderr",
     "output_type": "stream",
     "text": [
      "    170/200       2.1G     0.6052     0.3992     0.9021         20        640: 100%|██████████| 44/44 [00:03<00:00, 11.70it/s]\n",
      "                 Class     Images  Instances      Box(P          R      mAP50  mAP50-95): 100%|██████████| 6/6 [00:00<00:00,  9.36it/s]"
     ]
    },
    {
     "name": "stdout",
     "output_type": "stream",
     "text": [
      "                   all        174        182      0.884      0.808      0.894      0.689\n"
     ]
    },
    {
     "name": "stderr",
     "output_type": "stream",
     "text": [
      "\n"
     ]
    },
    {
     "name": "stdout",
     "output_type": "stream",
     "text": [
      "\n",
      "      Epoch    GPU_mem   box_loss   cls_loss   dfl_loss  Instances       Size\n"
     ]
    },
    {
     "name": "stderr",
     "output_type": "stream",
     "text": [
      "    171/200       2.1G      0.595     0.3846     0.8941         18        640: 100%|██████████| 44/44 [00:03<00:00, 12.90it/s]\n",
      "                 Class     Images  Instances      Box(P          R      mAP50  mAP50-95): 100%|██████████| 6/6 [00:00<00:00, 10.31it/s]"
     ]
    },
    {
     "name": "stdout",
     "output_type": "stream",
     "text": [
      "                   all        174        182      0.864      0.808      0.888      0.686\n"
     ]
    },
    {
     "name": "stderr",
     "output_type": "stream",
     "text": [
      "\n"
     ]
    },
    {
     "name": "stdout",
     "output_type": "stream",
     "text": [
      "\n",
      "      Epoch    GPU_mem   box_loss   cls_loss   dfl_loss  Instances       Size\n"
     ]
    },
    {
     "name": "stderr",
     "output_type": "stream",
     "text": [
      "    172/200       2.1G     0.6022     0.3998     0.8891         29        640: 100%|██████████| 44/44 [00:03<00:00, 12.95it/s]\n",
      "                 Class     Images  Instances      Box(P          R      mAP50  mAP50-95): 100%|██████████| 6/6 [00:00<00:00, 10.87it/s]"
     ]
    },
    {
     "name": "stdout",
     "output_type": "stream",
     "text": [
      "                   all        174        182      0.872      0.792      0.893      0.687\n"
     ]
    },
    {
     "name": "stderr",
     "output_type": "stream",
     "text": [
      "\n"
     ]
    },
    {
     "name": "stdout",
     "output_type": "stream",
     "text": [
      "\n",
      "      Epoch    GPU_mem   box_loss   cls_loss   dfl_loss  Instances       Size\n"
     ]
    },
    {
     "name": "stderr",
     "output_type": "stream",
     "text": [
      "    173/200       2.1G     0.5999     0.4026     0.8892         21        640: 100%|██████████| 44/44 [00:03<00:00, 12.99it/s]\n",
      "                 Class     Images  Instances      Box(P          R      mAP50  mAP50-95): 100%|██████████| 6/6 [00:00<00:00, 10.68it/s]"
     ]
    },
    {
     "name": "stdout",
     "output_type": "stream",
     "text": [
      "                   all        174        182      0.854      0.811      0.889      0.677\n"
     ]
    },
    {
     "name": "stderr",
     "output_type": "stream",
     "text": [
      "\n"
     ]
    },
    {
     "name": "stdout",
     "output_type": "stream",
     "text": [
      "\n",
      "      Epoch    GPU_mem   box_loss   cls_loss   dfl_loss  Instances       Size\n"
     ]
    },
    {
     "name": "stderr",
     "output_type": "stream",
     "text": [
      "    174/200       2.1G     0.5971     0.3892     0.8937         19        640: 100%|██████████| 44/44 [00:03<00:00, 13.25it/s]\n",
      "                 Class     Images  Instances      Box(P          R      mAP50  mAP50-95): 100%|██████████| 6/6 [00:00<00:00, 10.07it/s]"
     ]
    },
    {
     "name": "stdout",
     "output_type": "stream",
     "text": [
      "                   all        174        182      0.868      0.792      0.886      0.684\n"
     ]
    },
    {
     "name": "stderr",
     "output_type": "stream",
     "text": [
      "\n"
     ]
    },
    {
     "name": "stdout",
     "output_type": "stream",
     "text": [
      "\n",
      "      Epoch    GPU_mem   box_loss   cls_loss   dfl_loss  Instances       Size\n"
     ]
    },
    {
     "name": "stderr",
     "output_type": "stream",
     "text": [
      "    175/200       2.1G     0.5733     0.3919     0.8867         23        640: 100%|██████████| 44/44 [00:03<00:00, 13.10it/s]\n",
      "                 Class     Images  Instances      Box(P          R      mAP50  mAP50-95): 100%|██████████| 6/6 [00:00<00:00, 10.69it/s]"
     ]
    },
    {
     "name": "stdout",
     "output_type": "stream",
     "text": [
      "                   all        174        182      0.839      0.828      0.877      0.681\n"
     ]
    },
    {
     "name": "stderr",
     "output_type": "stream",
     "text": [
      "\n"
     ]
    },
    {
     "name": "stdout",
     "output_type": "stream",
     "text": [
      "\n",
      "      Epoch    GPU_mem   box_loss   cls_loss   dfl_loss  Instances       Size\n"
     ]
    },
    {
     "name": "stderr",
     "output_type": "stream",
     "text": [
      "    176/200       2.1G     0.5902     0.3744     0.8894         27        640: 100%|██████████| 44/44 [00:03<00:00, 12.69it/s]\n",
      "                 Class     Images  Instances      Box(P          R      mAP50  mAP50-95): 100%|██████████| 6/6 [00:00<00:00, 10.49it/s]"
     ]
    },
    {
     "name": "stdout",
     "output_type": "stream",
     "text": [
      "                   all        174        182      0.872      0.841      0.899      0.688\n"
     ]
    },
    {
     "name": "stderr",
     "output_type": "stream",
     "text": [
      "\n"
     ]
    },
    {
     "name": "stdout",
     "output_type": "stream",
     "text": [
      "\n",
      "      Epoch    GPU_mem   box_loss   cls_loss   dfl_loss  Instances       Size\n"
     ]
    },
    {
     "name": "stderr",
     "output_type": "stream",
     "text": [
      "    177/200       2.1G     0.5877     0.3738     0.8849         21        640: 100%|██████████| 44/44 [00:03<00:00, 13.01it/s]\n",
      "                 Class     Images  Instances      Box(P          R      mAP50  mAP50-95): 100%|██████████| 6/6 [00:00<00:00, 10.65it/s]"
     ]
    },
    {
     "name": "stdout",
     "output_type": "stream",
     "text": [
      "                   all        174        182      0.902      0.809      0.892      0.686\n"
     ]
    },
    {
     "name": "stderr",
     "output_type": "stream",
     "text": [
      "\n"
     ]
    },
    {
     "name": "stdout",
     "output_type": "stream",
     "text": [
      "\n",
      "      Epoch    GPU_mem   box_loss   cls_loss   dfl_loss  Instances       Size\n"
     ]
    },
    {
     "name": "stderr",
     "output_type": "stream",
     "text": [
      "    178/200       2.1G     0.6009     0.3764     0.8929         27        640: 100%|██████████| 44/44 [00:03<00:00, 11.95it/s]\n",
      "                 Class     Images  Instances      Box(P          R      mAP50  mAP50-95): 100%|██████████| 6/6 [00:00<00:00, 10.12it/s]"
     ]
    },
    {
     "name": "stdout",
     "output_type": "stream",
     "text": [
      "                   all        174        182      0.831      0.841      0.901      0.697\n"
     ]
    },
    {
     "name": "stderr",
     "output_type": "stream",
     "text": [
      "\n"
     ]
    },
    {
     "name": "stdout",
     "output_type": "stream",
     "text": [
      "\n",
      "      Epoch    GPU_mem   box_loss   cls_loss   dfl_loss  Instances       Size\n"
     ]
    },
    {
     "name": "stderr",
     "output_type": "stream",
     "text": [
      "    179/200       2.1G     0.5827     0.3783     0.8888         19        640: 100%|██████████| 44/44 [00:03<00:00, 11.99it/s]\n",
      "                 Class     Images  Instances      Box(P          R      mAP50  mAP50-95): 100%|██████████| 6/6 [00:00<00:00,  9.93it/s]"
     ]
    },
    {
     "name": "stdout",
     "output_type": "stream",
     "text": [
      "                   all        174        182      0.874      0.837      0.901      0.694\n"
     ]
    },
    {
     "name": "stderr",
     "output_type": "stream",
     "text": [
      "\n"
     ]
    },
    {
     "name": "stdout",
     "output_type": "stream",
     "text": [
      "\n",
      "      Epoch    GPU_mem   box_loss   cls_loss   dfl_loss  Instances       Size\n"
     ]
    },
    {
     "name": "stderr",
     "output_type": "stream",
     "text": [
      "    180/200       2.1G     0.5974     0.3806     0.8946         25        640: 100%|██████████| 44/44 [00:03<00:00, 11.65it/s]\n",
      "                 Class     Images  Instances      Box(P          R      mAP50  mAP50-95): 100%|██████████| 6/6 [00:00<00:00, 10.44it/s]"
     ]
    },
    {
     "name": "stdout",
     "output_type": "stream",
     "text": [
      "                   all        174        182      0.863      0.858      0.898      0.685\n"
     ]
    },
    {
     "name": "stderr",
     "output_type": "stream",
     "text": [
      "\n"
     ]
    },
    {
     "name": "stdout",
     "output_type": "stream",
     "text": [
      "\n",
      "      Epoch    GPU_mem   box_loss   cls_loss   dfl_loss  Instances       Size\n"
     ]
    },
    {
     "name": "stderr",
     "output_type": "stream",
     "text": [
      "    181/200       2.1G     0.5836     0.3701     0.8951         33        640: 100%|██████████| 44/44 [00:03<00:00, 12.87it/s]\n",
      "                 Class     Images  Instances      Box(P          R      mAP50  mAP50-95): 100%|██████████| 6/6 [00:00<00:00, 10.56it/s]"
     ]
    },
    {
     "name": "stdout",
     "output_type": "stream",
     "text": [
      "                   all        174        182      0.879      0.814        0.9       0.68\n"
     ]
    },
    {
     "name": "stderr",
     "output_type": "stream",
     "text": [
      "\n"
     ]
    },
    {
     "name": "stdout",
     "output_type": "stream",
     "text": [
      "\n",
      "      Epoch    GPU_mem   box_loss   cls_loss   dfl_loss  Instances       Size\n"
     ]
    },
    {
     "name": "stderr",
     "output_type": "stream",
     "text": [
      "    182/200       2.1G     0.5752     0.3747      0.887         17        640: 100%|██████████| 44/44 [00:03<00:00, 11.84it/s]\n",
      "                 Class     Images  Instances      Box(P          R      mAP50  mAP50-95): 100%|██████████| 6/6 [00:00<00:00, 10.28it/s]"
     ]
    },
    {
     "name": "stdout",
     "output_type": "stream",
     "text": [
      "                   all        174        182       0.89      0.839      0.898      0.685\n"
     ]
    },
    {
     "name": "stderr",
     "output_type": "stream",
     "text": [
      "\n"
     ]
    },
    {
     "name": "stdout",
     "output_type": "stream",
     "text": [
      "\n",
      "      Epoch    GPU_mem   box_loss   cls_loss   dfl_loss  Instances       Size\n"
     ]
    },
    {
     "name": "stderr",
     "output_type": "stream",
     "text": [
      "    183/200       2.1G     0.5691     0.3637     0.8799         27        640: 100%|██████████| 44/44 [00:03<00:00, 13.15it/s]\n",
      "                 Class     Images  Instances      Box(P          R      mAP50  mAP50-95): 100%|██████████| 6/6 [00:00<00:00, 10.70it/s]"
     ]
    },
    {
     "name": "stdout",
     "output_type": "stream",
     "text": [
      "                   all        174        182      0.919      0.865      0.899      0.684\n"
     ]
    },
    {
     "name": "stderr",
     "output_type": "stream",
     "text": [
      "\n"
     ]
    },
    {
     "name": "stdout",
     "output_type": "stream",
     "text": [
      "\n",
      "      Epoch    GPU_mem   box_loss   cls_loss   dfl_loss  Instances       Size\n"
     ]
    },
    {
     "name": "stderr",
     "output_type": "stream",
     "text": [
      "    184/200       2.1G     0.5831     0.3658     0.8838         32        640: 100%|██████████| 44/44 [00:03<00:00, 12.76it/s]\n",
      "                 Class     Images  Instances      Box(P          R      mAP50  mAP50-95): 100%|██████████| 6/6 [00:00<00:00, 10.64it/s]"
     ]
    },
    {
     "name": "stdout",
     "output_type": "stream",
     "text": [
      "                   all        174        182      0.886      0.869      0.908        0.7\n"
     ]
    },
    {
     "name": "stderr",
     "output_type": "stream",
     "text": [
      "\n"
     ]
    },
    {
     "name": "stdout",
     "output_type": "stream",
     "text": [
      "\n",
      "      Epoch    GPU_mem   box_loss   cls_loss   dfl_loss  Instances       Size\n"
     ]
    },
    {
     "name": "stderr",
     "output_type": "stream",
     "text": [
      "    185/200       2.1G     0.5736     0.3803     0.8851         29        640: 100%|██████████| 44/44 [00:03<00:00, 12.80it/s]\n",
      "                 Class     Images  Instances      Box(P          R      mAP50  mAP50-95): 100%|██████████| 6/6 [00:00<00:00, 10.25it/s]"
     ]
    },
    {
     "name": "stdout",
     "output_type": "stream",
     "text": [
      "                   all        174        182      0.836      0.844       0.89      0.687\n"
     ]
    },
    {
     "name": "stderr",
     "output_type": "stream",
     "text": [
      "\n"
     ]
    },
    {
     "name": "stdout",
     "output_type": "stream",
     "text": [
      "\n",
      "      Epoch    GPU_mem   box_loss   cls_loss   dfl_loss  Instances       Size\n"
     ]
    },
    {
     "name": "stderr",
     "output_type": "stream",
     "text": [
      "    186/200       2.1G     0.5939     0.3815     0.9006         28        640: 100%|██████████| 44/44 [00:03<00:00, 12.77it/s]\n",
      "                 Class     Images  Instances      Box(P          R      mAP50  mAP50-95): 100%|██████████| 6/6 [00:00<00:00, 10.80it/s]"
     ]
    },
    {
     "name": "stdout",
     "output_type": "stream",
     "text": [
      "                   all        174        182      0.869      0.841       0.89      0.681\n"
     ]
    },
    {
     "name": "stderr",
     "output_type": "stream",
     "text": [
      "\n"
     ]
    },
    {
     "name": "stdout",
     "output_type": "stream",
     "text": [
      "\n",
      "      Epoch    GPU_mem   box_loss   cls_loss   dfl_loss  Instances       Size\n"
     ]
    },
    {
     "name": "stderr",
     "output_type": "stream",
     "text": [
      "    187/200       2.1G      0.582     0.3775     0.8874         24        640: 100%|██████████| 44/44 [00:03<00:00, 13.13it/s]\n",
      "                 Class     Images  Instances      Box(P          R      mAP50  mAP50-95): 100%|██████████| 6/6 [00:00<00:00,  8.38it/s]"
     ]
    },
    {
     "name": "stdout",
     "output_type": "stream",
     "text": [
      "                   all        174        182      0.856       0.84      0.899      0.692\n"
     ]
    },
    {
     "name": "stderr",
     "output_type": "stream",
     "text": [
      "\n"
     ]
    },
    {
     "name": "stdout",
     "output_type": "stream",
     "text": [
      "\n",
      "      Epoch    GPU_mem   box_loss   cls_loss   dfl_loss  Instances       Size\n"
     ]
    },
    {
     "name": "stderr",
     "output_type": "stream",
     "text": [
      "    188/200       2.1G     0.5875     0.3747     0.8838         29        640: 100%|██████████| 44/44 [00:03<00:00, 12.02it/s]\n",
      "                 Class     Images  Instances      Box(P          R      mAP50  mAP50-95): 100%|██████████| 6/6 [00:00<00:00, 10.12it/s]"
     ]
    },
    {
     "name": "stdout",
     "output_type": "stream",
     "text": [
      "                   all        174        182      0.876      0.835      0.902      0.697\n"
     ]
    },
    {
     "name": "stderr",
     "output_type": "stream",
     "text": [
      "\n"
     ]
    },
    {
     "name": "stdout",
     "output_type": "stream",
     "text": [
      "\n",
      "      Epoch    GPU_mem   box_loss   cls_loss   dfl_loss  Instances       Size\n"
     ]
    },
    {
     "name": "stderr",
     "output_type": "stream",
     "text": [
      "    189/200       2.1G     0.5595     0.3643     0.8758         25        640: 100%|██████████| 44/44 [00:03<00:00, 12.53it/s]\n",
      "                 Class     Images  Instances      Box(P          R      mAP50  mAP50-95): 100%|██████████| 6/6 [00:00<00:00,  9.95it/s]"
     ]
    },
    {
     "name": "stdout",
     "output_type": "stream",
     "text": [
      "                   all        174        182      0.881      0.838      0.907      0.702\n"
     ]
    },
    {
     "name": "stderr",
     "output_type": "stream",
     "text": [
      "\n"
     ]
    },
    {
     "name": "stdout",
     "output_type": "stream",
     "text": [
      "\n",
      "      Epoch    GPU_mem   box_loss   cls_loss   dfl_loss  Instances       Size\n"
     ]
    },
    {
     "name": "stderr",
     "output_type": "stream",
     "text": [
      "    190/200       2.1G     0.5723     0.3668      0.885         25        640: 100%|██████████| 44/44 [00:03<00:00, 12.00it/s]\n",
      "                 Class     Images  Instances      Box(P          R      mAP50  mAP50-95): 100%|██████████| 6/6 [00:00<00:00, 10.28it/s]"
     ]
    },
    {
     "name": "stdout",
     "output_type": "stream",
     "text": [
      "                   all        174        182      0.849      0.863      0.901      0.697\n"
     ]
    },
    {
     "name": "stderr",
     "output_type": "stream",
     "text": [
      "\n"
     ]
    },
    {
     "name": "stdout",
     "output_type": "stream",
     "text": [
      "Closing dataloader mosaic\n",
      "\u001b[34m\u001b[1malbumentations: \u001b[0mBlur(p=0.01, blur_limit=(3, 7)), MedianBlur(p=0.01, blur_limit=(3, 7)), ToGray(p=0.01), CLAHE(p=0.01, clip_limit=(1, 4.0), tile_grid_size=(8, 8))\n",
      "\n",
      "      Epoch    GPU_mem   box_loss   cls_loss   dfl_loss  Instances       Size\n"
     ]
    },
    {
     "name": "stderr",
     "output_type": "stream",
     "text": [
      "    191/200      2.38G     0.5017     0.3091     0.8405         19        640: 100%|██████████| 44/44 [00:03<00:00, 11.46it/s]\n",
      "                 Class     Images  Instances      Box(P          R      mAP50  mAP50-95): 100%|██████████| 6/6 [00:00<00:00,  7.97it/s]"
     ]
    },
    {
     "name": "stdout",
     "output_type": "stream",
     "text": [
      "                   all        174        182      0.843      0.857      0.905      0.698\n"
     ]
    },
    {
     "name": "stderr",
     "output_type": "stream",
     "text": [
      "\n"
     ]
    },
    {
     "name": "stdout",
     "output_type": "stream",
     "text": [
      "\n",
      "      Epoch    GPU_mem   box_loss   cls_loss   dfl_loss  Instances       Size\n"
     ]
    },
    {
     "name": "stderr",
     "output_type": "stream",
     "text": [
      "    192/200      2.11G     0.4979     0.2924     0.8409         16        640: 100%|██████████| 44/44 [00:03<00:00, 11.12it/s]\n",
      "                 Class     Images  Instances      Box(P          R      mAP50  mAP50-95): 100%|██████████| 6/6 [00:00<00:00,  8.09it/s]"
     ]
    },
    {
     "name": "stdout",
     "output_type": "stream",
     "text": [
      "                   all        174        182      0.888      0.824      0.904      0.699\n"
     ]
    },
    {
     "name": "stderr",
     "output_type": "stream",
     "text": [
      "\n"
     ]
    },
    {
     "name": "stdout",
     "output_type": "stream",
     "text": [
      "\n",
      "      Epoch    GPU_mem   box_loss   cls_loss   dfl_loss  Instances       Size\n"
     ]
    },
    {
     "name": "stderr",
     "output_type": "stream",
     "text": [
      "    193/200      2.11G     0.4888     0.2797       0.84         17        640: 100%|██████████| 44/44 [00:03<00:00, 11.51it/s]\n",
      "                 Class     Images  Instances      Box(P          R      mAP50  mAP50-95): 100%|██████████| 6/6 [00:00<00:00,  8.05it/s]"
     ]
    },
    {
     "name": "stdout",
     "output_type": "stream",
     "text": [
      "                   all        174        182      0.884      0.841      0.905      0.696\n"
     ]
    },
    {
     "name": "stderr",
     "output_type": "stream",
     "text": [
      "\n"
     ]
    },
    {
     "name": "stdout",
     "output_type": "stream",
     "text": [
      "\n",
      "      Epoch    GPU_mem   box_loss   cls_loss   dfl_loss  Instances       Size\n"
     ]
    },
    {
     "name": "stderr",
     "output_type": "stream",
     "text": [
      "    194/200      2.11G     0.4871     0.2769     0.8396         17        640: 100%|██████████| 44/44 [00:04<00:00, 10.40it/s]\n",
      "                 Class     Images  Instances      Box(P          R      mAP50  mAP50-95): 100%|██████████| 6/6 [00:00<00:00, 10.90it/s]"
     ]
    },
    {
     "name": "stdout",
     "output_type": "stream",
     "text": [
      "                   all        174        182      0.867      0.852      0.895      0.689\n"
     ]
    },
    {
     "name": "stderr",
     "output_type": "stream",
     "text": [
      "\n"
     ]
    },
    {
     "name": "stdout",
     "output_type": "stream",
     "text": [
      "\n",
      "      Epoch    GPU_mem   box_loss   cls_loss   dfl_loss  Instances       Size\n"
     ]
    },
    {
     "name": "stderr",
     "output_type": "stream",
     "text": [
      "    195/200      2.11G     0.4752     0.2735      0.836         16        640: 100%|██████████| 44/44 [00:03<00:00, 11.78it/s]\n",
      "                 Class     Images  Instances      Box(P          R      mAP50  mAP50-95): 100%|██████████| 6/6 [00:00<00:00,  9.88it/s]"
     ]
    },
    {
     "name": "stdout",
     "output_type": "stream",
     "text": [
      "                   all        174        182      0.857      0.848      0.893      0.692\n"
     ]
    },
    {
     "name": "stderr",
     "output_type": "stream",
     "text": [
      "\n"
     ]
    },
    {
     "name": "stdout",
     "output_type": "stream",
     "text": [
      "\n",
      "      Epoch    GPU_mem   box_loss   cls_loss   dfl_loss  Instances       Size\n"
     ]
    },
    {
     "name": "stderr",
     "output_type": "stream",
     "text": [
      "    196/200      2.11G     0.4696     0.2588     0.8315         18        640: 100%|██████████| 44/44 [00:03<00:00, 11.09it/s]\n",
      "                 Class     Images  Instances      Box(P          R      mAP50  mAP50-95): 100%|██████████| 6/6 [00:00<00:00,  9.71it/s]"
     ]
    },
    {
     "name": "stdout",
     "output_type": "stream",
     "text": [
      "                   all        174        182      0.892      0.825      0.898       0.69\n"
     ]
    },
    {
     "name": "stderr",
     "output_type": "stream",
     "text": [
      "\n"
     ]
    },
    {
     "name": "stdout",
     "output_type": "stream",
     "text": [
      "\n",
      "      Epoch    GPU_mem   box_loss   cls_loss   dfl_loss  Instances       Size\n"
     ]
    },
    {
     "name": "stderr",
     "output_type": "stream",
     "text": [
      "    197/200      2.11G     0.4601     0.2698     0.8408         19        640: 100%|██████████| 44/44 [00:03<00:00, 12.48it/s]\n",
      "                 Class     Images  Instances      Box(P          R      mAP50  mAP50-95): 100%|██████████| 6/6 [00:00<00:00, 10.46it/s]"
     ]
    },
    {
     "name": "stdout",
     "output_type": "stream",
     "text": [
      "                   all        174        182      0.878      0.825      0.895      0.689\n"
     ]
    },
    {
     "name": "stderr",
     "output_type": "stream",
     "text": [
      "\n"
     ]
    },
    {
     "name": "stdout",
     "output_type": "stream",
     "text": [
      "\n",
      "      Epoch    GPU_mem   box_loss   cls_loss   dfl_loss  Instances       Size\n"
     ]
    },
    {
     "name": "stderr",
     "output_type": "stream",
     "text": [
      "    198/200      2.11G     0.4542     0.2601     0.8154         17        640: 100%|██████████| 44/44 [00:03<00:00, 12.80it/s]\n",
      "                 Class     Images  Instances      Box(P          R      mAP50  mAP50-95): 100%|██████████| 6/6 [00:00<00:00, 10.75it/s]"
     ]
    },
    {
     "name": "stdout",
     "output_type": "stream",
     "text": [
      "                   all        174        182      0.899      0.818        0.9      0.692\n"
     ]
    },
    {
     "name": "stderr",
     "output_type": "stream",
     "text": [
      "\n"
     ]
    },
    {
     "name": "stdout",
     "output_type": "stream",
     "text": [
      "\n",
      "      Epoch    GPU_mem   box_loss   cls_loss   dfl_loss  Instances       Size\n"
     ]
    },
    {
     "name": "stderr",
     "output_type": "stream",
     "text": [
      "    199/200      2.11G      0.464     0.2641     0.8324         17        640: 100%|██████████| 44/44 [00:03<00:00, 11.16it/s]\n",
      "                 Class     Images  Instances      Box(P          R      mAP50  mAP50-95): 100%|██████████| 6/6 [00:00<00:00, 10.25it/s]"
     ]
    },
    {
     "name": "stdout",
     "output_type": "stream",
     "text": [
      "                   all        174        182      0.901      0.836      0.904      0.691\n"
     ]
    },
    {
     "name": "stderr",
     "output_type": "stream",
     "text": [
      "\n"
     ]
    },
    {
     "name": "stdout",
     "output_type": "stream",
     "text": [
      "\n",
      "      Epoch    GPU_mem   box_loss   cls_loss   dfl_loss  Instances       Size\n"
     ]
    },
    {
     "name": "stderr",
     "output_type": "stream",
     "text": [
      "    200/200      2.11G     0.4622     0.2615     0.8341         17        640: 100%|██████████| 44/44 [00:03<00:00, 12.97it/s]\n",
      "                 Class     Images  Instances      Box(P          R      mAP50  mAP50-95): 100%|██████████| 6/6 [00:00<00:00, 10.83it/s]"
     ]
    },
    {
     "name": "stdout",
     "output_type": "stream",
     "text": [
      "                   all        174        182      0.905      0.824      0.898      0.696\n"
     ]
    },
    {
     "name": "stderr",
     "output_type": "stream",
     "text": [
      "\n"
     ]
    },
    {
     "name": "stdout",
     "output_type": "stream",
     "text": [
      "\n",
      "200 epochs completed in 0.275 hours.\n",
      "Optimizer stripped from runs/detect/train_all/weights/last.pt, 6.3MB\n",
      "Optimizer stripped from runs/detect/train_all/weights/best.pt, 6.3MB\n",
      "\n",
      "Validating runs/detect/train_all/weights/best.pt...\n",
      "Ultralytics YOLOv8.2.48 🚀 Python-3.10.14 torch-2.1.0 CUDA:0 (NVIDIA GeForce RTX 3090, 24260MiB)\n",
      "Model summary (fused): 168 layers, 3006038 parameters, 0 gradients, 8.1 GFLOPs\n"
     ]
    },
    {
     "name": "stderr",
     "output_type": "stream",
     "text": [
      "                 Class     Images  Instances      Box(P          R      mAP50  mAP50-95): 100%|██████████| 6/6 [00:00<00:00,  6.77it/s]\n"
     ]
    },
    {
     "name": "stdout",
     "output_type": "stream",
     "text": [
      "                   all        174        182      0.881      0.841      0.907      0.702\n",
      "              negative         86         89      0.924      0.843      0.936      0.753\n",
      "              positive         88         93      0.839       0.84      0.878       0.65\n",
      "Speed: 0.1ms preprocess, 0.9ms inference, 0.0ms loss, 0.8ms postprocess per image\n",
      "Results saved to \u001b[1mruns/detect/train_all\u001b[0m\n"
     ]
    }
   ],
   "source": [
    "experiment_name = 'train'\n",
    "work_name = 'all' #이름수정주의\n",
    "train_dir = os.path.join('runs', experiment_name)\n",
    "\n",
    "if os.path.exists(train_dir):\n",
    "    shutil.rmtree(train_dir)\n",
    "\n",
    "model_n = YOLO('yolov8n.pt') #이름수정주의 2개\n",
    "results_n = model_n.train( #이름수정주의 2개\n",
    "    data='all.yaml', \n",
    "    epochs=200, \n",
    "    device=0,  \n",
    "    name=os.path.join(f'{experiment_name}_{work_name}'),  \n",
    "    exist_ok=True,\n",
    ")"
   ]
  },
  {
   "cell_type": "code",
   "execution_count": 11,
   "metadata": {},
   "outputs": [
    {
     "data": {
      "text/plain": [
       "{'metrics/precision(B)': 0.8813875947662473,\n",
       " 'metrics/recall(B)': 0.8413717686803748,\n",
       " 'metrics/mAP50(B)': 0.9070042650385368,\n",
       " 'metrics/mAP50-95(B)': 0.7017268089008594,\n",
       " 'fitness': 0.7222545545146272}"
      ]
     },
     "execution_count": 11,
     "metadata": {},
     "output_type": "execute_result"
    }
   ],
   "source": [
    "results_n.results_dict"
   ]
  },
  {
   "cell_type": "code",
   "execution_count": 12,
   "metadata": {},
   "outputs": [
    {
     "name": "stdout",
     "output_type": "stream",
     "text": [
      "Ultralytics YOLOv8.2.48 🚀 Python-3.10.14 torch-2.1.0 CUDA:0 (NVIDIA GeForce RTX 3090, 24260MiB)\n",
      "Model summary (fused): 168 layers, 3006038 parameters, 0 gradients, 8.1 GFLOPs\n"
     ]
    },
    {
     "name": "stderr",
     "output_type": "stream",
     "text": [
      "\u001b[34m\u001b[1mval: \u001b[0mScanning /home/under1/Detect/jeongui/all/base/labels/val.cache... 174 images, 0 backgrounds, 0 corrupt: 100%|██████████| 174/174 [00:00<?, ?it/s]\n",
      "                 Class     Images  Instances      Box(P          R      mAP50  mAP50-95): 100%|██████████| 11/11 [00:01<00:00,  6.47it/s]\n"
     ]
    },
    {
     "name": "stdout",
     "output_type": "stream",
     "text": [
      "                   all        174        182      0.884      0.839      0.905      0.702\n",
      "              negative         86         89      0.927      0.851      0.935      0.752\n",
      "              positive         88         93      0.841      0.828      0.875      0.651\n",
      "Speed: 0.1ms preprocess, 4.3ms inference, 0.0ms loss, 0.9ms postprocess per image\n",
      "Results saved to \u001b[1mruns/detect/val/val_all\u001b[0m\n"
     ]
    },
    {
     "data": {
      "text/plain": [
       "ultralytics.utils.metrics.DetMetrics object with attributes:\n",
       "\n",
       "ap_class_index: array([0, 1])\n",
       "box: ultralytics.utils.metrics.Metric object\n",
       "confusion_matrix: <ultralytics.utils.metrics.ConfusionMatrix object at 0x7f8c42b996c0>\n",
       "curves: ['Precision-Recall(B)', 'F1-Confidence(B)', 'Precision-Confidence(B)', 'Recall-Confidence(B)']\n",
       "curves_results: [[array([          0,    0.001001,    0.002002,    0.003003,    0.004004,    0.005005,    0.006006,    0.007007,    0.008008,    0.009009,     0.01001,    0.011011,    0.012012,    0.013013,    0.014014,    0.015015,    0.016016,    0.017017,    0.018018,    0.019019,     0.02002,    0.021021,    0.022022,    0.023023,\n",
       "          0.024024,    0.025025,    0.026026,    0.027027,    0.028028,    0.029029,     0.03003,    0.031031,    0.032032,    0.033033,    0.034034,    0.035035,    0.036036,    0.037037,    0.038038,    0.039039,     0.04004,    0.041041,    0.042042,    0.043043,    0.044044,    0.045045,    0.046046,    0.047047,\n",
       "          0.048048,    0.049049,     0.05005,    0.051051,    0.052052,    0.053053,    0.054054,    0.055055,    0.056056,    0.057057,    0.058058,    0.059059,     0.06006,    0.061061,    0.062062,    0.063063,    0.064064,    0.065065,    0.066066,    0.067067,    0.068068,    0.069069,     0.07007,    0.071071,\n",
       "          0.072072,    0.073073,    0.074074,    0.075075,    0.076076,    0.077077,    0.078078,    0.079079,     0.08008,    0.081081,    0.082082,    0.083083,    0.084084,    0.085085,    0.086086,    0.087087,    0.088088,    0.089089,     0.09009,    0.091091,    0.092092,    0.093093,    0.094094,    0.095095,\n",
       "          0.096096,    0.097097,    0.098098,    0.099099,      0.1001,      0.1011,      0.1021,      0.1031,      0.1041,     0.10511,     0.10611,     0.10711,     0.10811,     0.10911,     0.11011,     0.11111,     0.11211,     0.11311,     0.11411,     0.11512,     0.11612,     0.11712,     0.11812,     0.11912,\n",
       "           0.12012,     0.12112,     0.12212,     0.12312,     0.12412,     0.12513,     0.12613,     0.12713,     0.12813,     0.12913,     0.13013,     0.13113,     0.13213,     0.13313,     0.13413,     0.13514,     0.13614,     0.13714,     0.13814,     0.13914,     0.14014,     0.14114,     0.14214,     0.14314,\n",
       "           0.14414,     0.14515,     0.14615,     0.14715,     0.14815,     0.14915,     0.15015,     0.15115,     0.15215,     0.15315,     0.15415,     0.15516,     0.15616,     0.15716,     0.15816,     0.15916,     0.16016,     0.16116,     0.16216,     0.16316,     0.16416,     0.16517,     0.16617,     0.16717,\n",
       "           0.16817,     0.16917,     0.17017,     0.17117,     0.17217,     0.17317,     0.17417,     0.17518,     0.17618,     0.17718,     0.17818,     0.17918,     0.18018,     0.18118,     0.18218,     0.18318,     0.18418,     0.18519,     0.18619,     0.18719,     0.18819,     0.18919,     0.19019,     0.19119,\n",
       "           0.19219,     0.19319,     0.19419,      0.1952,      0.1962,      0.1972,      0.1982,      0.1992,      0.2002,      0.2012,      0.2022,      0.2032,      0.2042,     0.20521,     0.20621,     0.20721,     0.20821,     0.20921,     0.21021,     0.21121,     0.21221,     0.21321,     0.21421,     0.21522,\n",
       "           0.21622,     0.21722,     0.21822,     0.21922,     0.22022,     0.22122,     0.22222,     0.22322,     0.22422,     0.22523,     0.22623,     0.22723,     0.22823,     0.22923,     0.23023,     0.23123,     0.23223,     0.23323,     0.23423,     0.23524,     0.23624,     0.23724,     0.23824,     0.23924,\n",
       "           0.24024,     0.24124,     0.24224,     0.24324,     0.24424,     0.24525,     0.24625,     0.24725,     0.24825,     0.24925,     0.25025,     0.25125,     0.25225,     0.25325,     0.25425,     0.25526,     0.25626,     0.25726,     0.25826,     0.25926,     0.26026,     0.26126,     0.26226,     0.26326,\n",
       "           0.26426,     0.26527,     0.26627,     0.26727,     0.26827,     0.26927,     0.27027,     0.27127,     0.27227,     0.27327,     0.27427,     0.27528,     0.27628,     0.27728,     0.27828,     0.27928,     0.28028,     0.28128,     0.28228,     0.28328,     0.28428,     0.28529,     0.28629,     0.28729,\n",
       "           0.28829,     0.28929,     0.29029,     0.29129,     0.29229,     0.29329,     0.29429,      0.2953,      0.2963,      0.2973,      0.2983,      0.2993,      0.3003,      0.3013,      0.3023,      0.3033,      0.3043,     0.30531,     0.30631,     0.30731,     0.30831,     0.30931,     0.31031,     0.31131,\n",
       "           0.31231,     0.31331,     0.31431,     0.31532,     0.31632,     0.31732,     0.31832,     0.31932,     0.32032,     0.32132,     0.32232,     0.32332,     0.32432,     0.32533,     0.32633,     0.32733,     0.32833,     0.32933,     0.33033,     0.33133,     0.33233,     0.33333,     0.33433,     0.33534,\n",
       "           0.33634,     0.33734,     0.33834,     0.33934,     0.34034,     0.34134,     0.34234,     0.34334,     0.34434,     0.34535,     0.34635,     0.34735,     0.34835,     0.34935,     0.35035,     0.35135,     0.35235,     0.35335,     0.35435,     0.35536,     0.35636,     0.35736,     0.35836,     0.35936,\n",
       "           0.36036,     0.36136,     0.36236,     0.36336,     0.36436,     0.36537,     0.36637,     0.36737,     0.36837,     0.36937,     0.37037,     0.37137,     0.37237,     0.37337,     0.37437,     0.37538,     0.37638,     0.37738,     0.37838,     0.37938,     0.38038,     0.38138,     0.38238,     0.38338,\n",
       "           0.38438,     0.38539,     0.38639,     0.38739,     0.38839,     0.38939,     0.39039,     0.39139,     0.39239,     0.39339,     0.39439,      0.3954,      0.3964,      0.3974,      0.3984,      0.3994,      0.4004,      0.4014,      0.4024,      0.4034,      0.4044,     0.40541,     0.40641,     0.40741,\n",
       "           0.40841,     0.40941,     0.41041,     0.41141,     0.41241,     0.41341,     0.41441,     0.41542,     0.41642,     0.41742,     0.41842,     0.41942,     0.42042,     0.42142,     0.42242,     0.42342,     0.42442,     0.42543,     0.42643,     0.42743,     0.42843,     0.42943,     0.43043,     0.43143,\n",
       "           0.43243,     0.43343,     0.43443,     0.43544,     0.43644,     0.43744,     0.43844,     0.43944,     0.44044,     0.44144,     0.44244,     0.44344,     0.44444,     0.44545,     0.44645,     0.44745,     0.44845,     0.44945,     0.45045,     0.45145,     0.45245,     0.45345,     0.45445,     0.45546,\n",
       "           0.45646,     0.45746,     0.45846,     0.45946,     0.46046,     0.46146,     0.46246,     0.46346,     0.46446,     0.46547,     0.46647,     0.46747,     0.46847,     0.46947,     0.47047,     0.47147,     0.47247,     0.47347,     0.47447,     0.47548,     0.47648,     0.47748,     0.47848,     0.47948,\n",
       "           0.48048,     0.48148,     0.48248,     0.48348,     0.48448,     0.48549,     0.48649,     0.48749,     0.48849,     0.48949,     0.49049,     0.49149,     0.49249,     0.49349,     0.49449,      0.4955,      0.4965,      0.4975,      0.4985,      0.4995,      0.5005,      0.5015,      0.5025,      0.5035,\n",
       "            0.5045,     0.50551,     0.50651,     0.50751,     0.50851,     0.50951,     0.51051,     0.51151,     0.51251,     0.51351,     0.51451,     0.51552,     0.51652,     0.51752,     0.51852,     0.51952,     0.52052,     0.52152,     0.52252,     0.52352,     0.52452,     0.52553,     0.52653,     0.52753,\n",
       "           0.52853,     0.52953,     0.53053,     0.53153,     0.53253,     0.53353,     0.53453,     0.53554,     0.53654,     0.53754,     0.53854,     0.53954,     0.54054,     0.54154,     0.54254,     0.54354,     0.54454,     0.54555,     0.54655,     0.54755,     0.54855,     0.54955,     0.55055,     0.55155,\n",
       "           0.55255,     0.55355,     0.55455,     0.55556,     0.55656,     0.55756,     0.55856,     0.55956,     0.56056,     0.56156,     0.56256,     0.56356,     0.56456,     0.56557,     0.56657,     0.56757,     0.56857,     0.56957,     0.57057,     0.57157,     0.57257,     0.57357,     0.57457,     0.57558,\n",
       "           0.57658,     0.57758,     0.57858,     0.57958,     0.58058,     0.58158,     0.58258,     0.58358,     0.58458,     0.58559,     0.58659,     0.58759,     0.58859,     0.58959,     0.59059,     0.59159,     0.59259,     0.59359,     0.59459,      0.5956,      0.5966,      0.5976,      0.5986,      0.5996,\n",
       "            0.6006,      0.6016,      0.6026,      0.6036,      0.6046,     0.60561,     0.60661,     0.60761,     0.60861,     0.60961,     0.61061,     0.61161,     0.61261,     0.61361,     0.61461,     0.61562,     0.61662,     0.61762,     0.61862,     0.61962,     0.62062,     0.62162,     0.62262,     0.62362,\n",
       "           0.62462,     0.62563,     0.62663,     0.62763,     0.62863,     0.62963,     0.63063,     0.63163,     0.63263,     0.63363,     0.63463,     0.63564,     0.63664,     0.63764,     0.63864,     0.63964,     0.64064,     0.64164,     0.64264,     0.64364,     0.64464,     0.64565,     0.64665,     0.64765,\n",
       "           0.64865,     0.64965,     0.65065,     0.65165,     0.65265,     0.65365,     0.65465,     0.65566,     0.65666,     0.65766,     0.65866,     0.65966,     0.66066,     0.66166,     0.66266,     0.66366,     0.66466,     0.66567,     0.66667,     0.66767,     0.66867,     0.66967,     0.67067,     0.67167,\n",
       "           0.67267,     0.67367,     0.67467,     0.67568,     0.67668,     0.67768,     0.67868,     0.67968,     0.68068,     0.68168,     0.68268,     0.68368,     0.68468,     0.68569,     0.68669,     0.68769,     0.68869,     0.68969,     0.69069,     0.69169,     0.69269,     0.69369,     0.69469,      0.6957,\n",
       "            0.6967,      0.6977,      0.6987,      0.6997,      0.7007,      0.7017,      0.7027,      0.7037,      0.7047,     0.70571,     0.70671,     0.70771,     0.70871,     0.70971,     0.71071,     0.71171,     0.71271,     0.71371,     0.71471,     0.71572,     0.71672,     0.71772,     0.71872,     0.71972,\n",
       "           0.72072,     0.72172,     0.72272,     0.72372,     0.72472,     0.72573,     0.72673,     0.72773,     0.72873,     0.72973,     0.73073,     0.73173,     0.73273,     0.73373,     0.73473,     0.73574,     0.73674,     0.73774,     0.73874,     0.73974,     0.74074,     0.74174,     0.74274,     0.74374,\n",
       "           0.74474,     0.74575,     0.74675,     0.74775,     0.74875,     0.74975,     0.75075,     0.75175,     0.75275,     0.75375,     0.75475,     0.75576,     0.75676,     0.75776,     0.75876,     0.75976,     0.76076,     0.76176,     0.76276,     0.76376,     0.76476,     0.76577,     0.76677,     0.76777,\n",
       "           0.76877,     0.76977,     0.77077,     0.77177,     0.77277,     0.77377,     0.77477,     0.77578,     0.77678,     0.77778,     0.77878,     0.77978,     0.78078,     0.78178,     0.78278,     0.78378,     0.78478,     0.78579,     0.78679,     0.78779,     0.78879,     0.78979,     0.79079,     0.79179,\n",
       "           0.79279,     0.79379,     0.79479,      0.7958,      0.7968,      0.7978,      0.7988,      0.7998,      0.8008,      0.8018,      0.8028,      0.8038,      0.8048,     0.80581,     0.80681,     0.80781,     0.80881,     0.80981,     0.81081,     0.81181,     0.81281,     0.81381,     0.81481,     0.81582,\n",
       "           0.81682,     0.81782,     0.81882,     0.81982,     0.82082,     0.82182,     0.82282,     0.82382,     0.82482,     0.82583,     0.82683,     0.82783,     0.82883,     0.82983,     0.83083,     0.83183,     0.83283,     0.83383,     0.83483,     0.83584,     0.83684,     0.83784,     0.83884,     0.83984,\n",
       "           0.84084,     0.84184,     0.84284,     0.84384,     0.84484,     0.84585,     0.84685,     0.84785,     0.84885,     0.84985,     0.85085,     0.85185,     0.85285,     0.85385,     0.85485,     0.85586,     0.85686,     0.85786,     0.85886,     0.85986,     0.86086,     0.86186,     0.86286,     0.86386,\n",
       "           0.86486,     0.86587,     0.86687,     0.86787,     0.86887,     0.86987,     0.87087,     0.87187,     0.87287,     0.87387,     0.87487,     0.87588,     0.87688,     0.87788,     0.87888,     0.87988,     0.88088,     0.88188,     0.88288,     0.88388,     0.88488,     0.88589,     0.88689,     0.88789,\n",
       "           0.88889,     0.88989,     0.89089,     0.89189,     0.89289,     0.89389,     0.89489,      0.8959,      0.8969,      0.8979,      0.8989,      0.8999,      0.9009,      0.9019,      0.9029,      0.9039,      0.9049,     0.90591,     0.90691,     0.90791,     0.90891,     0.90991,     0.91091,     0.91191,\n",
       "           0.91291,     0.91391,     0.91491,     0.91592,     0.91692,     0.91792,     0.91892,     0.91992,     0.92092,     0.92192,     0.92292,     0.92392,     0.92492,     0.92593,     0.92693,     0.92793,     0.92893,     0.92993,     0.93093,     0.93193,     0.93293,     0.93393,     0.93493,     0.93594,\n",
       "           0.93694,     0.93794,     0.93894,     0.93994,     0.94094,     0.94194,     0.94294,     0.94394,     0.94494,     0.94595,     0.94695,     0.94795,     0.94895,     0.94995,     0.95095,     0.95195,     0.95295,     0.95395,     0.95495,     0.95596,     0.95696,     0.95796,     0.95896,     0.95996,\n",
       "           0.96096,     0.96196,     0.96296,     0.96396,     0.96496,     0.96597,     0.96697,     0.96797,     0.96897,     0.96997,     0.97097,     0.97197,     0.97297,     0.97397,     0.97497,     0.97598,     0.97698,     0.97798,     0.97898,     0.97998,     0.98098,     0.98198,     0.98298,     0.98398,\n",
       "           0.98498,     0.98599,     0.98699,     0.98799,     0.98899,     0.98999,     0.99099,     0.99199,     0.99299,     0.99399,     0.99499,       0.996,       0.997,       0.998,       0.999,           1]), array([[          1,           1,           1, ...,    0.040159,     0.02008,           0],\n",
       "       [          1,           1,           1, ...,    0.028523,    0.014262,           0]]), 'Recall', 'Precision'], [array([          0,    0.001001,    0.002002,    0.003003,    0.004004,    0.005005,    0.006006,    0.007007,    0.008008,    0.009009,     0.01001,    0.011011,    0.012012,    0.013013,    0.014014,    0.015015,    0.016016,    0.017017,    0.018018,    0.019019,     0.02002,    0.021021,    0.022022,    0.023023,\n",
       "          0.024024,    0.025025,    0.026026,    0.027027,    0.028028,    0.029029,     0.03003,    0.031031,    0.032032,    0.033033,    0.034034,    0.035035,    0.036036,    0.037037,    0.038038,    0.039039,     0.04004,    0.041041,    0.042042,    0.043043,    0.044044,    0.045045,    0.046046,    0.047047,\n",
       "          0.048048,    0.049049,     0.05005,    0.051051,    0.052052,    0.053053,    0.054054,    0.055055,    0.056056,    0.057057,    0.058058,    0.059059,     0.06006,    0.061061,    0.062062,    0.063063,    0.064064,    0.065065,    0.066066,    0.067067,    0.068068,    0.069069,     0.07007,    0.071071,\n",
       "          0.072072,    0.073073,    0.074074,    0.075075,    0.076076,    0.077077,    0.078078,    0.079079,     0.08008,    0.081081,    0.082082,    0.083083,    0.084084,    0.085085,    0.086086,    0.087087,    0.088088,    0.089089,     0.09009,    0.091091,    0.092092,    0.093093,    0.094094,    0.095095,\n",
       "          0.096096,    0.097097,    0.098098,    0.099099,      0.1001,      0.1011,      0.1021,      0.1031,      0.1041,     0.10511,     0.10611,     0.10711,     0.10811,     0.10911,     0.11011,     0.11111,     0.11211,     0.11311,     0.11411,     0.11512,     0.11612,     0.11712,     0.11812,     0.11912,\n",
       "           0.12012,     0.12112,     0.12212,     0.12312,     0.12412,     0.12513,     0.12613,     0.12713,     0.12813,     0.12913,     0.13013,     0.13113,     0.13213,     0.13313,     0.13413,     0.13514,     0.13614,     0.13714,     0.13814,     0.13914,     0.14014,     0.14114,     0.14214,     0.14314,\n",
       "           0.14414,     0.14515,     0.14615,     0.14715,     0.14815,     0.14915,     0.15015,     0.15115,     0.15215,     0.15315,     0.15415,     0.15516,     0.15616,     0.15716,     0.15816,     0.15916,     0.16016,     0.16116,     0.16216,     0.16316,     0.16416,     0.16517,     0.16617,     0.16717,\n",
       "           0.16817,     0.16917,     0.17017,     0.17117,     0.17217,     0.17317,     0.17417,     0.17518,     0.17618,     0.17718,     0.17818,     0.17918,     0.18018,     0.18118,     0.18218,     0.18318,     0.18418,     0.18519,     0.18619,     0.18719,     0.18819,     0.18919,     0.19019,     0.19119,\n",
       "           0.19219,     0.19319,     0.19419,      0.1952,      0.1962,      0.1972,      0.1982,      0.1992,      0.2002,      0.2012,      0.2022,      0.2032,      0.2042,     0.20521,     0.20621,     0.20721,     0.20821,     0.20921,     0.21021,     0.21121,     0.21221,     0.21321,     0.21421,     0.21522,\n",
       "           0.21622,     0.21722,     0.21822,     0.21922,     0.22022,     0.22122,     0.22222,     0.22322,     0.22422,     0.22523,     0.22623,     0.22723,     0.22823,     0.22923,     0.23023,     0.23123,     0.23223,     0.23323,     0.23423,     0.23524,     0.23624,     0.23724,     0.23824,     0.23924,\n",
       "           0.24024,     0.24124,     0.24224,     0.24324,     0.24424,     0.24525,     0.24625,     0.24725,     0.24825,     0.24925,     0.25025,     0.25125,     0.25225,     0.25325,     0.25425,     0.25526,     0.25626,     0.25726,     0.25826,     0.25926,     0.26026,     0.26126,     0.26226,     0.26326,\n",
       "           0.26426,     0.26527,     0.26627,     0.26727,     0.26827,     0.26927,     0.27027,     0.27127,     0.27227,     0.27327,     0.27427,     0.27528,     0.27628,     0.27728,     0.27828,     0.27928,     0.28028,     0.28128,     0.28228,     0.28328,     0.28428,     0.28529,     0.28629,     0.28729,\n",
       "           0.28829,     0.28929,     0.29029,     0.29129,     0.29229,     0.29329,     0.29429,      0.2953,      0.2963,      0.2973,      0.2983,      0.2993,      0.3003,      0.3013,      0.3023,      0.3033,      0.3043,     0.30531,     0.30631,     0.30731,     0.30831,     0.30931,     0.31031,     0.31131,\n",
       "           0.31231,     0.31331,     0.31431,     0.31532,     0.31632,     0.31732,     0.31832,     0.31932,     0.32032,     0.32132,     0.32232,     0.32332,     0.32432,     0.32533,     0.32633,     0.32733,     0.32833,     0.32933,     0.33033,     0.33133,     0.33233,     0.33333,     0.33433,     0.33534,\n",
       "           0.33634,     0.33734,     0.33834,     0.33934,     0.34034,     0.34134,     0.34234,     0.34334,     0.34434,     0.34535,     0.34635,     0.34735,     0.34835,     0.34935,     0.35035,     0.35135,     0.35235,     0.35335,     0.35435,     0.35536,     0.35636,     0.35736,     0.35836,     0.35936,\n",
       "           0.36036,     0.36136,     0.36236,     0.36336,     0.36436,     0.36537,     0.36637,     0.36737,     0.36837,     0.36937,     0.37037,     0.37137,     0.37237,     0.37337,     0.37437,     0.37538,     0.37638,     0.37738,     0.37838,     0.37938,     0.38038,     0.38138,     0.38238,     0.38338,\n",
       "           0.38438,     0.38539,     0.38639,     0.38739,     0.38839,     0.38939,     0.39039,     0.39139,     0.39239,     0.39339,     0.39439,      0.3954,      0.3964,      0.3974,      0.3984,      0.3994,      0.4004,      0.4014,      0.4024,      0.4034,      0.4044,     0.40541,     0.40641,     0.40741,\n",
       "           0.40841,     0.40941,     0.41041,     0.41141,     0.41241,     0.41341,     0.41441,     0.41542,     0.41642,     0.41742,     0.41842,     0.41942,     0.42042,     0.42142,     0.42242,     0.42342,     0.42442,     0.42543,     0.42643,     0.42743,     0.42843,     0.42943,     0.43043,     0.43143,\n",
       "           0.43243,     0.43343,     0.43443,     0.43544,     0.43644,     0.43744,     0.43844,     0.43944,     0.44044,     0.44144,     0.44244,     0.44344,     0.44444,     0.44545,     0.44645,     0.44745,     0.44845,     0.44945,     0.45045,     0.45145,     0.45245,     0.45345,     0.45445,     0.45546,\n",
       "           0.45646,     0.45746,     0.45846,     0.45946,     0.46046,     0.46146,     0.46246,     0.46346,     0.46446,     0.46547,     0.46647,     0.46747,     0.46847,     0.46947,     0.47047,     0.47147,     0.47247,     0.47347,     0.47447,     0.47548,     0.47648,     0.47748,     0.47848,     0.47948,\n",
       "           0.48048,     0.48148,     0.48248,     0.48348,     0.48448,     0.48549,     0.48649,     0.48749,     0.48849,     0.48949,     0.49049,     0.49149,     0.49249,     0.49349,     0.49449,      0.4955,      0.4965,      0.4975,      0.4985,      0.4995,      0.5005,      0.5015,      0.5025,      0.5035,\n",
       "            0.5045,     0.50551,     0.50651,     0.50751,     0.50851,     0.50951,     0.51051,     0.51151,     0.51251,     0.51351,     0.51451,     0.51552,     0.51652,     0.51752,     0.51852,     0.51952,     0.52052,     0.52152,     0.52252,     0.52352,     0.52452,     0.52553,     0.52653,     0.52753,\n",
       "           0.52853,     0.52953,     0.53053,     0.53153,     0.53253,     0.53353,     0.53453,     0.53554,     0.53654,     0.53754,     0.53854,     0.53954,     0.54054,     0.54154,     0.54254,     0.54354,     0.54454,     0.54555,     0.54655,     0.54755,     0.54855,     0.54955,     0.55055,     0.55155,\n",
       "           0.55255,     0.55355,     0.55455,     0.55556,     0.55656,     0.55756,     0.55856,     0.55956,     0.56056,     0.56156,     0.56256,     0.56356,     0.56456,     0.56557,     0.56657,     0.56757,     0.56857,     0.56957,     0.57057,     0.57157,     0.57257,     0.57357,     0.57457,     0.57558,\n",
       "           0.57658,     0.57758,     0.57858,     0.57958,     0.58058,     0.58158,     0.58258,     0.58358,     0.58458,     0.58559,     0.58659,     0.58759,     0.58859,     0.58959,     0.59059,     0.59159,     0.59259,     0.59359,     0.59459,      0.5956,      0.5966,      0.5976,      0.5986,      0.5996,\n",
       "            0.6006,      0.6016,      0.6026,      0.6036,      0.6046,     0.60561,     0.60661,     0.60761,     0.60861,     0.60961,     0.61061,     0.61161,     0.61261,     0.61361,     0.61461,     0.61562,     0.61662,     0.61762,     0.61862,     0.61962,     0.62062,     0.62162,     0.62262,     0.62362,\n",
       "           0.62462,     0.62563,     0.62663,     0.62763,     0.62863,     0.62963,     0.63063,     0.63163,     0.63263,     0.63363,     0.63463,     0.63564,     0.63664,     0.63764,     0.63864,     0.63964,     0.64064,     0.64164,     0.64264,     0.64364,     0.64464,     0.64565,     0.64665,     0.64765,\n",
       "           0.64865,     0.64965,     0.65065,     0.65165,     0.65265,     0.65365,     0.65465,     0.65566,     0.65666,     0.65766,     0.65866,     0.65966,     0.66066,     0.66166,     0.66266,     0.66366,     0.66466,     0.66567,     0.66667,     0.66767,     0.66867,     0.66967,     0.67067,     0.67167,\n",
       "           0.67267,     0.67367,     0.67467,     0.67568,     0.67668,     0.67768,     0.67868,     0.67968,     0.68068,     0.68168,     0.68268,     0.68368,     0.68468,     0.68569,     0.68669,     0.68769,     0.68869,     0.68969,     0.69069,     0.69169,     0.69269,     0.69369,     0.69469,      0.6957,\n",
       "            0.6967,      0.6977,      0.6987,      0.6997,      0.7007,      0.7017,      0.7027,      0.7037,      0.7047,     0.70571,     0.70671,     0.70771,     0.70871,     0.70971,     0.71071,     0.71171,     0.71271,     0.71371,     0.71471,     0.71572,     0.71672,     0.71772,     0.71872,     0.71972,\n",
       "           0.72072,     0.72172,     0.72272,     0.72372,     0.72472,     0.72573,     0.72673,     0.72773,     0.72873,     0.72973,     0.73073,     0.73173,     0.73273,     0.73373,     0.73473,     0.73574,     0.73674,     0.73774,     0.73874,     0.73974,     0.74074,     0.74174,     0.74274,     0.74374,\n",
       "           0.74474,     0.74575,     0.74675,     0.74775,     0.74875,     0.74975,     0.75075,     0.75175,     0.75275,     0.75375,     0.75475,     0.75576,     0.75676,     0.75776,     0.75876,     0.75976,     0.76076,     0.76176,     0.76276,     0.76376,     0.76476,     0.76577,     0.76677,     0.76777,\n",
       "           0.76877,     0.76977,     0.77077,     0.77177,     0.77277,     0.77377,     0.77477,     0.77578,     0.77678,     0.77778,     0.77878,     0.77978,     0.78078,     0.78178,     0.78278,     0.78378,     0.78478,     0.78579,     0.78679,     0.78779,     0.78879,     0.78979,     0.79079,     0.79179,\n",
       "           0.79279,     0.79379,     0.79479,      0.7958,      0.7968,      0.7978,      0.7988,      0.7998,      0.8008,      0.8018,      0.8028,      0.8038,      0.8048,     0.80581,     0.80681,     0.80781,     0.80881,     0.80981,     0.81081,     0.81181,     0.81281,     0.81381,     0.81481,     0.81582,\n",
       "           0.81682,     0.81782,     0.81882,     0.81982,     0.82082,     0.82182,     0.82282,     0.82382,     0.82482,     0.82583,     0.82683,     0.82783,     0.82883,     0.82983,     0.83083,     0.83183,     0.83283,     0.83383,     0.83483,     0.83584,     0.83684,     0.83784,     0.83884,     0.83984,\n",
       "           0.84084,     0.84184,     0.84284,     0.84384,     0.84484,     0.84585,     0.84685,     0.84785,     0.84885,     0.84985,     0.85085,     0.85185,     0.85285,     0.85385,     0.85485,     0.85586,     0.85686,     0.85786,     0.85886,     0.85986,     0.86086,     0.86186,     0.86286,     0.86386,\n",
       "           0.86486,     0.86587,     0.86687,     0.86787,     0.86887,     0.86987,     0.87087,     0.87187,     0.87287,     0.87387,     0.87487,     0.87588,     0.87688,     0.87788,     0.87888,     0.87988,     0.88088,     0.88188,     0.88288,     0.88388,     0.88488,     0.88589,     0.88689,     0.88789,\n",
       "           0.88889,     0.88989,     0.89089,     0.89189,     0.89289,     0.89389,     0.89489,      0.8959,      0.8969,      0.8979,      0.8989,      0.8999,      0.9009,      0.9019,      0.9029,      0.9039,      0.9049,     0.90591,     0.90691,     0.90791,     0.90891,     0.90991,     0.91091,     0.91191,\n",
       "           0.91291,     0.91391,     0.91491,     0.91592,     0.91692,     0.91792,     0.91892,     0.91992,     0.92092,     0.92192,     0.92292,     0.92392,     0.92492,     0.92593,     0.92693,     0.92793,     0.92893,     0.92993,     0.93093,     0.93193,     0.93293,     0.93393,     0.93493,     0.93594,\n",
       "           0.93694,     0.93794,     0.93894,     0.93994,     0.94094,     0.94194,     0.94294,     0.94394,     0.94494,     0.94595,     0.94695,     0.94795,     0.94895,     0.94995,     0.95095,     0.95195,     0.95295,     0.95395,     0.95495,     0.95596,     0.95696,     0.95796,     0.95896,     0.95996,\n",
       "           0.96096,     0.96196,     0.96296,     0.96396,     0.96496,     0.96597,     0.96697,     0.96797,     0.96897,     0.96997,     0.97097,     0.97197,     0.97297,     0.97397,     0.97497,     0.97598,     0.97698,     0.97798,     0.97898,     0.97998,     0.98098,     0.98198,     0.98298,     0.98398,\n",
       "           0.98498,     0.98599,     0.98699,     0.98799,     0.98899,     0.98999,     0.99099,     0.99199,     0.99299,     0.99399,     0.99499,       0.996,       0.997,       0.998,       0.999,           1]), array([[    0.61702,     0.61702,     0.69689, ...,           0,           0,           0],\n",
       "       [    0.46667,     0.46669,     0.53781, ...,           0,           0,           0]]), 'Confidence', 'F1'], [array([          0,    0.001001,    0.002002,    0.003003,    0.004004,    0.005005,    0.006006,    0.007007,    0.008008,    0.009009,     0.01001,    0.011011,    0.012012,    0.013013,    0.014014,    0.015015,    0.016016,    0.017017,    0.018018,    0.019019,     0.02002,    0.021021,    0.022022,    0.023023,\n",
       "          0.024024,    0.025025,    0.026026,    0.027027,    0.028028,    0.029029,     0.03003,    0.031031,    0.032032,    0.033033,    0.034034,    0.035035,    0.036036,    0.037037,    0.038038,    0.039039,     0.04004,    0.041041,    0.042042,    0.043043,    0.044044,    0.045045,    0.046046,    0.047047,\n",
       "          0.048048,    0.049049,     0.05005,    0.051051,    0.052052,    0.053053,    0.054054,    0.055055,    0.056056,    0.057057,    0.058058,    0.059059,     0.06006,    0.061061,    0.062062,    0.063063,    0.064064,    0.065065,    0.066066,    0.067067,    0.068068,    0.069069,     0.07007,    0.071071,\n",
       "          0.072072,    0.073073,    0.074074,    0.075075,    0.076076,    0.077077,    0.078078,    0.079079,     0.08008,    0.081081,    0.082082,    0.083083,    0.084084,    0.085085,    0.086086,    0.087087,    0.088088,    0.089089,     0.09009,    0.091091,    0.092092,    0.093093,    0.094094,    0.095095,\n",
       "          0.096096,    0.097097,    0.098098,    0.099099,      0.1001,      0.1011,      0.1021,      0.1031,      0.1041,     0.10511,     0.10611,     0.10711,     0.10811,     0.10911,     0.11011,     0.11111,     0.11211,     0.11311,     0.11411,     0.11512,     0.11612,     0.11712,     0.11812,     0.11912,\n",
       "           0.12012,     0.12112,     0.12212,     0.12312,     0.12412,     0.12513,     0.12613,     0.12713,     0.12813,     0.12913,     0.13013,     0.13113,     0.13213,     0.13313,     0.13413,     0.13514,     0.13614,     0.13714,     0.13814,     0.13914,     0.14014,     0.14114,     0.14214,     0.14314,\n",
       "           0.14414,     0.14515,     0.14615,     0.14715,     0.14815,     0.14915,     0.15015,     0.15115,     0.15215,     0.15315,     0.15415,     0.15516,     0.15616,     0.15716,     0.15816,     0.15916,     0.16016,     0.16116,     0.16216,     0.16316,     0.16416,     0.16517,     0.16617,     0.16717,\n",
       "           0.16817,     0.16917,     0.17017,     0.17117,     0.17217,     0.17317,     0.17417,     0.17518,     0.17618,     0.17718,     0.17818,     0.17918,     0.18018,     0.18118,     0.18218,     0.18318,     0.18418,     0.18519,     0.18619,     0.18719,     0.18819,     0.18919,     0.19019,     0.19119,\n",
       "           0.19219,     0.19319,     0.19419,      0.1952,      0.1962,      0.1972,      0.1982,      0.1992,      0.2002,      0.2012,      0.2022,      0.2032,      0.2042,     0.20521,     0.20621,     0.20721,     0.20821,     0.20921,     0.21021,     0.21121,     0.21221,     0.21321,     0.21421,     0.21522,\n",
       "           0.21622,     0.21722,     0.21822,     0.21922,     0.22022,     0.22122,     0.22222,     0.22322,     0.22422,     0.22523,     0.22623,     0.22723,     0.22823,     0.22923,     0.23023,     0.23123,     0.23223,     0.23323,     0.23423,     0.23524,     0.23624,     0.23724,     0.23824,     0.23924,\n",
       "           0.24024,     0.24124,     0.24224,     0.24324,     0.24424,     0.24525,     0.24625,     0.24725,     0.24825,     0.24925,     0.25025,     0.25125,     0.25225,     0.25325,     0.25425,     0.25526,     0.25626,     0.25726,     0.25826,     0.25926,     0.26026,     0.26126,     0.26226,     0.26326,\n",
       "           0.26426,     0.26527,     0.26627,     0.26727,     0.26827,     0.26927,     0.27027,     0.27127,     0.27227,     0.27327,     0.27427,     0.27528,     0.27628,     0.27728,     0.27828,     0.27928,     0.28028,     0.28128,     0.28228,     0.28328,     0.28428,     0.28529,     0.28629,     0.28729,\n",
       "           0.28829,     0.28929,     0.29029,     0.29129,     0.29229,     0.29329,     0.29429,      0.2953,      0.2963,      0.2973,      0.2983,      0.2993,      0.3003,      0.3013,      0.3023,      0.3033,      0.3043,     0.30531,     0.30631,     0.30731,     0.30831,     0.30931,     0.31031,     0.31131,\n",
       "           0.31231,     0.31331,     0.31431,     0.31532,     0.31632,     0.31732,     0.31832,     0.31932,     0.32032,     0.32132,     0.32232,     0.32332,     0.32432,     0.32533,     0.32633,     0.32733,     0.32833,     0.32933,     0.33033,     0.33133,     0.33233,     0.33333,     0.33433,     0.33534,\n",
       "           0.33634,     0.33734,     0.33834,     0.33934,     0.34034,     0.34134,     0.34234,     0.34334,     0.34434,     0.34535,     0.34635,     0.34735,     0.34835,     0.34935,     0.35035,     0.35135,     0.35235,     0.35335,     0.35435,     0.35536,     0.35636,     0.35736,     0.35836,     0.35936,\n",
       "           0.36036,     0.36136,     0.36236,     0.36336,     0.36436,     0.36537,     0.36637,     0.36737,     0.36837,     0.36937,     0.37037,     0.37137,     0.37237,     0.37337,     0.37437,     0.37538,     0.37638,     0.37738,     0.37838,     0.37938,     0.38038,     0.38138,     0.38238,     0.38338,\n",
       "           0.38438,     0.38539,     0.38639,     0.38739,     0.38839,     0.38939,     0.39039,     0.39139,     0.39239,     0.39339,     0.39439,      0.3954,      0.3964,      0.3974,      0.3984,      0.3994,      0.4004,      0.4014,      0.4024,      0.4034,      0.4044,     0.40541,     0.40641,     0.40741,\n",
       "           0.40841,     0.40941,     0.41041,     0.41141,     0.41241,     0.41341,     0.41441,     0.41542,     0.41642,     0.41742,     0.41842,     0.41942,     0.42042,     0.42142,     0.42242,     0.42342,     0.42442,     0.42543,     0.42643,     0.42743,     0.42843,     0.42943,     0.43043,     0.43143,\n",
       "           0.43243,     0.43343,     0.43443,     0.43544,     0.43644,     0.43744,     0.43844,     0.43944,     0.44044,     0.44144,     0.44244,     0.44344,     0.44444,     0.44545,     0.44645,     0.44745,     0.44845,     0.44945,     0.45045,     0.45145,     0.45245,     0.45345,     0.45445,     0.45546,\n",
       "           0.45646,     0.45746,     0.45846,     0.45946,     0.46046,     0.46146,     0.46246,     0.46346,     0.46446,     0.46547,     0.46647,     0.46747,     0.46847,     0.46947,     0.47047,     0.47147,     0.47247,     0.47347,     0.47447,     0.47548,     0.47648,     0.47748,     0.47848,     0.47948,\n",
       "           0.48048,     0.48148,     0.48248,     0.48348,     0.48448,     0.48549,     0.48649,     0.48749,     0.48849,     0.48949,     0.49049,     0.49149,     0.49249,     0.49349,     0.49449,      0.4955,      0.4965,      0.4975,      0.4985,      0.4995,      0.5005,      0.5015,      0.5025,      0.5035,\n",
       "            0.5045,     0.50551,     0.50651,     0.50751,     0.50851,     0.50951,     0.51051,     0.51151,     0.51251,     0.51351,     0.51451,     0.51552,     0.51652,     0.51752,     0.51852,     0.51952,     0.52052,     0.52152,     0.52252,     0.52352,     0.52452,     0.52553,     0.52653,     0.52753,\n",
       "           0.52853,     0.52953,     0.53053,     0.53153,     0.53253,     0.53353,     0.53453,     0.53554,     0.53654,     0.53754,     0.53854,     0.53954,     0.54054,     0.54154,     0.54254,     0.54354,     0.54454,     0.54555,     0.54655,     0.54755,     0.54855,     0.54955,     0.55055,     0.55155,\n",
       "           0.55255,     0.55355,     0.55455,     0.55556,     0.55656,     0.55756,     0.55856,     0.55956,     0.56056,     0.56156,     0.56256,     0.56356,     0.56456,     0.56557,     0.56657,     0.56757,     0.56857,     0.56957,     0.57057,     0.57157,     0.57257,     0.57357,     0.57457,     0.57558,\n",
       "           0.57658,     0.57758,     0.57858,     0.57958,     0.58058,     0.58158,     0.58258,     0.58358,     0.58458,     0.58559,     0.58659,     0.58759,     0.58859,     0.58959,     0.59059,     0.59159,     0.59259,     0.59359,     0.59459,      0.5956,      0.5966,      0.5976,      0.5986,      0.5996,\n",
       "            0.6006,      0.6016,      0.6026,      0.6036,      0.6046,     0.60561,     0.60661,     0.60761,     0.60861,     0.60961,     0.61061,     0.61161,     0.61261,     0.61361,     0.61461,     0.61562,     0.61662,     0.61762,     0.61862,     0.61962,     0.62062,     0.62162,     0.62262,     0.62362,\n",
       "           0.62462,     0.62563,     0.62663,     0.62763,     0.62863,     0.62963,     0.63063,     0.63163,     0.63263,     0.63363,     0.63463,     0.63564,     0.63664,     0.63764,     0.63864,     0.63964,     0.64064,     0.64164,     0.64264,     0.64364,     0.64464,     0.64565,     0.64665,     0.64765,\n",
       "           0.64865,     0.64965,     0.65065,     0.65165,     0.65265,     0.65365,     0.65465,     0.65566,     0.65666,     0.65766,     0.65866,     0.65966,     0.66066,     0.66166,     0.66266,     0.66366,     0.66466,     0.66567,     0.66667,     0.66767,     0.66867,     0.66967,     0.67067,     0.67167,\n",
       "           0.67267,     0.67367,     0.67467,     0.67568,     0.67668,     0.67768,     0.67868,     0.67968,     0.68068,     0.68168,     0.68268,     0.68368,     0.68468,     0.68569,     0.68669,     0.68769,     0.68869,     0.68969,     0.69069,     0.69169,     0.69269,     0.69369,     0.69469,      0.6957,\n",
       "            0.6967,      0.6977,      0.6987,      0.6997,      0.7007,      0.7017,      0.7027,      0.7037,      0.7047,     0.70571,     0.70671,     0.70771,     0.70871,     0.70971,     0.71071,     0.71171,     0.71271,     0.71371,     0.71471,     0.71572,     0.71672,     0.71772,     0.71872,     0.71972,\n",
       "           0.72072,     0.72172,     0.72272,     0.72372,     0.72472,     0.72573,     0.72673,     0.72773,     0.72873,     0.72973,     0.73073,     0.73173,     0.73273,     0.73373,     0.73473,     0.73574,     0.73674,     0.73774,     0.73874,     0.73974,     0.74074,     0.74174,     0.74274,     0.74374,\n",
       "           0.74474,     0.74575,     0.74675,     0.74775,     0.74875,     0.74975,     0.75075,     0.75175,     0.75275,     0.75375,     0.75475,     0.75576,     0.75676,     0.75776,     0.75876,     0.75976,     0.76076,     0.76176,     0.76276,     0.76376,     0.76476,     0.76577,     0.76677,     0.76777,\n",
       "           0.76877,     0.76977,     0.77077,     0.77177,     0.77277,     0.77377,     0.77477,     0.77578,     0.77678,     0.77778,     0.77878,     0.77978,     0.78078,     0.78178,     0.78278,     0.78378,     0.78478,     0.78579,     0.78679,     0.78779,     0.78879,     0.78979,     0.79079,     0.79179,\n",
       "           0.79279,     0.79379,     0.79479,      0.7958,      0.7968,      0.7978,      0.7988,      0.7998,      0.8008,      0.8018,      0.8028,      0.8038,      0.8048,     0.80581,     0.80681,     0.80781,     0.80881,     0.80981,     0.81081,     0.81181,     0.81281,     0.81381,     0.81481,     0.81582,\n",
       "           0.81682,     0.81782,     0.81882,     0.81982,     0.82082,     0.82182,     0.82282,     0.82382,     0.82482,     0.82583,     0.82683,     0.82783,     0.82883,     0.82983,     0.83083,     0.83183,     0.83283,     0.83383,     0.83483,     0.83584,     0.83684,     0.83784,     0.83884,     0.83984,\n",
       "           0.84084,     0.84184,     0.84284,     0.84384,     0.84484,     0.84585,     0.84685,     0.84785,     0.84885,     0.84985,     0.85085,     0.85185,     0.85285,     0.85385,     0.85485,     0.85586,     0.85686,     0.85786,     0.85886,     0.85986,     0.86086,     0.86186,     0.86286,     0.86386,\n",
       "           0.86486,     0.86587,     0.86687,     0.86787,     0.86887,     0.86987,     0.87087,     0.87187,     0.87287,     0.87387,     0.87487,     0.87588,     0.87688,     0.87788,     0.87888,     0.87988,     0.88088,     0.88188,     0.88288,     0.88388,     0.88488,     0.88589,     0.88689,     0.88789,\n",
       "           0.88889,     0.88989,     0.89089,     0.89189,     0.89289,     0.89389,     0.89489,      0.8959,      0.8969,      0.8979,      0.8989,      0.8999,      0.9009,      0.9019,      0.9029,      0.9039,      0.9049,     0.90591,     0.90691,     0.90791,     0.90891,     0.90991,     0.91091,     0.91191,\n",
       "           0.91291,     0.91391,     0.91491,     0.91592,     0.91692,     0.91792,     0.91892,     0.91992,     0.92092,     0.92192,     0.92292,     0.92392,     0.92492,     0.92593,     0.92693,     0.92793,     0.92893,     0.92993,     0.93093,     0.93193,     0.93293,     0.93393,     0.93493,     0.93594,\n",
       "           0.93694,     0.93794,     0.93894,     0.93994,     0.94094,     0.94194,     0.94294,     0.94394,     0.94494,     0.94595,     0.94695,     0.94795,     0.94895,     0.94995,     0.95095,     0.95195,     0.95295,     0.95395,     0.95495,     0.95596,     0.95696,     0.95796,     0.95896,     0.95996,\n",
       "           0.96096,     0.96196,     0.96296,     0.96396,     0.96496,     0.96597,     0.96697,     0.96797,     0.96897,     0.96997,     0.97097,     0.97197,     0.97297,     0.97397,     0.97497,     0.97598,     0.97698,     0.97798,     0.97898,     0.97998,     0.98098,     0.98198,     0.98298,     0.98398,\n",
       "           0.98498,     0.98599,     0.98699,     0.98799,     0.98899,     0.98999,     0.99099,     0.99199,     0.99299,     0.99399,     0.99499,       0.996,       0.997,       0.998,       0.999,           1]), array([[    0.45078,     0.45078,     0.54145, ...,           1,           1,           1],\n",
       "       [     0.3064,     0.30642,     0.37081, ...,           1,           1,           1]]), 'Confidence', 'Precision'], [array([          0,    0.001001,    0.002002,    0.003003,    0.004004,    0.005005,    0.006006,    0.007007,    0.008008,    0.009009,     0.01001,    0.011011,    0.012012,    0.013013,    0.014014,    0.015015,    0.016016,    0.017017,    0.018018,    0.019019,     0.02002,    0.021021,    0.022022,    0.023023,\n",
       "          0.024024,    0.025025,    0.026026,    0.027027,    0.028028,    0.029029,     0.03003,    0.031031,    0.032032,    0.033033,    0.034034,    0.035035,    0.036036,    0.037037,    0.038038,    0.039039,     0.04004,    0.041041,    0.042042,    0.043043,    0.044044,    0.045045,    0.046046,    0.047047,\n",
       "          0.048048,    0.049049,     0.05005,    0.051051,    0.052052,    0.053053,    0.054054,    0.055055,    0.056056,    0.057057,    0.058058,    0.059059,     0.06006,    0.061061,    0.062062,    0.063063,    0.064064,    0.065065,    0.066066,    0.067067,    0.068068,    0.069069,     0.07007,    0.071071,\n",
       "          0.072072,    0.073073,    0.074074,    0.075075,    0.076076,    0.077077,    0.078078,    0.079079,     0.08008,    0.081081,    0.082082,    0.083083,    0.084084,    0.085085,    0.086086,    0.087087,    0.088088,    0.089089,     0.09009,    0.091091,    0.092092,    0.093093,    0.094094,    0.095095,\n",
       "          0.096096,    0.097097,    0.098098,    0.099099,      0.1001,      0.1011,      0.1021,      0.1031,      0.1041,     0.10511,     0.10611,     0.10711,     0.10811,     0.10911,     0.11011,     0.11111,     0.11211,     0.11311,     0.11411,     0.11512,     0.11612,     0.11712,     0.11812,     0.11912,\n",
       "           0.12012,     0.12112,     0.12212,     0.12312,     0.12412,     0.12513,     0.12613,     0.12713,     0.12813,     0.12913,     0.13013,     0.13113,     0.13213,     0.13313,     0.13413,     0.13514,     0.13614,     0.13714,     0.13814,     0.13914,     0.14014,     0.14114,     0.14214,     0.14314,\n",
       "           0.14414,     0.14515,     0.14615,     0.14715,     0.14815,     0.14915,     0.15015,     0.15115,     0.15215,     0.15315,     0.15415,     0.15516,     0.15616,     0.15716,     0.15816,     0.15916,     0.16016,     0.16116,     0.16216,     0.16316,     0.16416,     0.16517,     0.16617,     0.16717,\n",
       "           0.16817,     0.16917,     0.17017,     0.17117,     0.17217,     0.17317,     0.17417,     0.17518,     0.17618,     0.17718,     0.17818,     0.17918,     0.18018,     0.18118,     0.18218,     0.18318,     0.18418,     0.18519,     0.18619,     0.18719,     0.18819,     0.18919,     0.19019,     0.19119,\n",
       "           0.19219,     0.19319,     0.19419,      0.1952,      0.1962,      0.1972,      0.1982,      0.1992,      0.2002,      0.2012,      0.2022,      0.2032,      0.2042,     0.20521,     0.20621,     0.20721,     0.20821,     0.20921,     0.21021,     0.21121,     0.21221,     0.21321,     0.21421,     0.21522,\n",
       "           0.21622,     0.21722,     0.21822,     0.21922,     0.22022,     0.22122,     0.22222,     0.22322,     0.22422,     0.22523,     0.22623,     0.22723,     0.22823,     0.22923,     0.23023,     0.23123,     0.23223,     0.23323,     0.23423,     0.23524,     0.23624,     0.23724,     0.23824,     0.23924,\n",
       "           0.24024,     0.24124,     0.24224,     0.24324,     0.24424,     0.24525,     0.24625,     0.24725,     0.24825,     0.24925,     0.25025,     0.25125,     0.25225,     0.25325,     0.25425,     0.25526,     0.25626,     0.25726,     0.25826,     0.25926,     0.26026,     0.26126,     0.26226,     0.26326,\n",
       "           0.26426,     0.26527,     0.26627,     0.26727,     0.26827,     0.26927,     0.27027,     0.27127,     0.27227,     0.27327,     0.27427,     0.27528,     0.27628,     0.27728,     0.27828,     0.27928,     0.28028,     0.28128,     0.28228,     0.28328,     0.28428,     0.28529,     0.28629,     0.28729,\n",
       "           0.28829,     0.28929,     0.29029,     0.29129,     0.29229,     0.29329,     0.29429,      0.2953,      0.2963,      0.2973,      0.2983,      0.2993,      0.3003,      0.3013,      0.3023,      0.3033,      0.3043,     0.30531,     0.30631,     0.30731,     0.30831,     0.30931,     0.31031,     0.31131,\n",
       "           0.31231,     0.31331,     0.31431,     0.31532,     0.31632,     0.31732,     0.31832,     0.31932,     0.32032,     0.32132,     0.32232,     0.32332,     0.32432,     0.32533,     0.32633,     0.32733,     0.32833,     0.32933,     0.33033,     0.33133,     0.33233,     0.33333,     0.33433,     0.33534,\n",
       "           0.33634,     0.33734,     0.33834,     0.33934,     0.34034,     0.34134,     0.34234,     0.34334,     0.34434,     0.34535,     0.34635,     0.34735,     0.34835,     0.34935,     0.35035,     0.35135,     0.35235,     0.35335,     0.35435,     0.35536,     0.35636,     0.35736,     0.35836,     0.35936,\n",
       "           0.36036,     0.36136,     0.36236,     0.36336,     0.36436,     0.36537,     0.36637,     0.36737,     0.36837,     0.36937,     0.37037,     0.37137,     0.37237,     0.37337,     0.37437,     0.37538,     0.37638,     0.37738,     0.37838,     0.37938,     0.38038,     0.38138,     0.38238,     0.38338,\n",
       "           0.38438,     0.38539,     0.38639,     0.38739,     0.38839,     0.38939,     0.39039,     0.39139,     0.39239,     0.39339,     0.39439,      0.3954,      0.3964,      0.3974,      0.3984,      0.3994,      0.4004,      0.4014,      0.4024,      0.4034,      0.4044,     0.40541,     0.40641,     0.40741,\n",
       "           0.40841,     0.40941,     0.41041,     0.41141,     0.41241,     0.41341,     0.41441,     0.41542,     0.41642,     0.41742,     0.41842,     0.41942,     0.42042,     0.42142,     0.42242,     0.42342,     0.42442,     0.42543,     0.42643,     0.42743,     0.42843,     0.42943,     0.43043,     0.43143,\n",
       "           0.43243,     0.43343,     0.43443,     0.43544,     0.43644,     0.43744,     0.43844,     0.43944,     0.44044,     0.44144,     0.44244,     0.44344,     0.44444,     0.44545,     0.44645,     0.44745,     0.44845,     0.44945,     0.45045,     0.45145,     0.45245,     0.45345,     0.45445,     0.45546,\n",
       "           0.45646,     0.45746,     0.45846,     0.45946,     0.46046,     0.46146,     0.46246,     0.46346,     0.46446,     0.46547,     0.46647,     0.46747,     0.46847,     0.46947,     0.47047,     0.47147,     0.47247,     0.47347,     0.47447,     0.47548,     0.47648,     0.47748,     0.47848,     0.47948,\n",
       "           0.48048,     0.48148,     0.48248,     0.48348,     0.48448,     0.48549,     0.48649,     0.48749,     0.48849,     0.48949,     0.49049,     0.49149,     0.49249,     0.49349,     0.49449,      0.4955,      0.4965,      0.4975,      0.4985,      0.4995,      0.5005,      0.5015,      0.5025,      0.5035,\n",
       "            0.5045,     0.50551,     0.50651,     0.50751,     0.50851,     0.50951,     0.51051,     0.51151,     0.51251,     0.51351,     0.51451,     0.51552,     0.51652,     0.51752,     0.51852,     0.51952,     0.52052,     0.52152,     0.52252,     0.52352,     0.52452,     0.52553,     0.52653,     0.52753,\n",
       "           0.52853,     0.52953,     0.53053,     0.53153,     0.53253,     0.53353,     0.53453,     0.53554,     0.53654,     0.53754,     0.53854,     0.53954,     0.54054,     0.54154,     0.54254,     0.54354,     0.54454,     0.54555,     0.54655,     0.54755,     0.54855,     0.54955,     0.55055,     0.55155,\n",
       "           0.55255,     0.55355,     0.55455,     0.55556,     0.55656,     0.55756,     0.55856,     0.55956,     0.56056,     0.56156,     0.56256,     0.56356,     0.56456,     0.56557,     0.56657,     0.56757,     0.56857,     0.56957,     0.57057,     0.57157,     0.57257,     0.57357,     0.57457,     0.57558,\n",
       "           0.57658,     0.57758,     0.57858,     0.57958,     0.58058,     0.58158,     0.58258,     0.58358,     0.58458,     0.58559,     0.58659,     0.58759,     0.58859,     0.58959,     0.59059,     0.59159,     0.59259,     0.59359,     0.59459,      0.5956,      0.5966,      0.5976,      0.5986,      0.5996,\n",
       "            0.6006,      0.6016,      0.6026,      0.6036,      0.6046,     0.60561,     0.60661,     0.60761,     0.60861,     0.60961,     0.61061,     0.61161,     0.61261,     0.61361,     0.61461,     0.61562,     0.61662,     0.61762,     0.61862,     0.61962,     0.62062,     0.62162,     0.62262,     0.62362,\n",
       "           0.62462,     0.62563,     0.62663,     0.62763,     0.62863,     0.62963,     0.63063,     0.63163,     0.63263,     0.63363,     0.63463,     0.63564,     0.63664,     0.63764,     0.63864,     0.63964,     0.64064,     0.64164,     0.64264,     0.64364,     0.64464,     0.64565,     0.64665,     0.64765,\n",
       "           0.64865,     0.64965,     0.65065,     0.65165,     0.65265,     0.65365,     0.65465,     0.65566,     0.65666,     0.65766,     0.65866,     0.65966,     0.66066,     0.66166,     0.66266,     0.66366,     0.66466,     0.66567,     0.66667,     0.66767,     0.66867,     0.66967,     0.67067,     0.67167,\n",
       "           0.67267,     0.67367,     0.67467,     0.67568,     0.67668,     0.67768,     0.67868,     0.67968,     0.68068,     0.68168,     0.68268,     0.68368,     0.68468,     0.68569,     0.68669,     0.68769,     0.68869,     0.68969,     0.69069,     0.69169,     0.69269,     0.69369,     0.69469,      0.6957,\n",
       "            0.6967,      0.6977,      0.6987,      0.6997,      0.7007,      0.7017,      0.7027,      0.7037,      0.7047,     0.70571,     0.70671,     0.70771,     0.70871,     0.70971,     0.71071,     0.71171,     0.71271,     0.71371,     0.71471,     0.71572,     0.71672,     0.71772,     0.71872,     0.71972,\n",
       "           0.72072,     0.72172,     0.72272,     0.72372,     0.72472,     0.72573,     0.72673,     0.72773,     0.72873,     0.72973,     0.73073,     0.73173,     0.73273,     0.73373,     0.73473,     0.73574,     0.73674,     0.73774,     0.73874,     0.73974,     0.74074,     0.74174,     0.74274,     0.74374,\n",
       "           0.74474,     0.74575,     0.74675,     0.74775,     0.74875,     0.74975,     0.75075,     0.75175,     0.75275,     0.75375,     0.75475,     0.75576,     0.75676,     0.75776,     0.75876,     0.75976,     0.76076,     0.76176,     0.76276,     0.76376,     0.76476,     0.76577,     0.76677,     0.76777,\n",
       "           0.76877,     0.76977,     0.77077,     0.77177,     0.77277,     0.77377,     0.77477,     0.77578,     0.77678,     0.77778,     0.77878,     0.77978,     0.78078,     0.78178,     0.78278,     0.78378,     0.78478,     0.78579,     0.78679,     0.78779,     0.78879,     0.78979,     0.79079,     0.79179,\n",
       "           0.79279,     0.79379,     0.79479,      0.7958,      0.7968,      0.7978,      0.7988,      0.7998,      0.8008,      0.8018,      0.8028,      0.8038,      0.8048,     0.80581,     0.80681,     0.80781,     0.80881,     0.80981,     0.81081,     0.81181,     0.81281,     0.81381,     0.81481,     0.81582,\n",
       "           0.81682,     0.81782,     0.81882,     0.81982,     0.82082,     0.82182,     0.82282,     0.82382,     0.82482,     0.82583,     0.82683,     0.82783,     0.82883,     0.82983,     0.83083,     0.83183,     0.83283,     0.83383,     0.83483,     0.83584,     0.83684,     0.83784,     0.83884,     0.83984,\n",
       "           0.84084,     0.84184,     0.84284,     0.84384,     0.84484,     0.84585,     0.84685,     0.84785,     0.84885,     0.84985,     0.85085,     0.85185,     0.85285,     0.85385,     0.85485,     0.85586,     0.85686,     0.85786,     0.85886,     0.85986,     0.86086,     0.86186,     0.86286,     0.86386,\n",
       "           0.86486,     0.86587,     0.86687,     0.86787,     0.86887,     0.86987,     0.87087,     0.87187,     0.87287,     0.87387,     0.87487,     0.87588,     0.87688,     0.87788,     0.87888,     0.87988,     0.88088,     0.88188,     0.88288,     0.88388,     0.88488,     0.88589,     0.88689,     0.88789,\n",
       "           0.88889,     0.88989,     0.89089,     0.89189,     0.89289,     0.89389,     0.89489,      0.8959,      0.8969,      0.8979,      0.8989,      0.8999,      0.9009,      0.9019,      0.9029,      0.9039,      0.9049,     0.90591,     0.90691,     0.90791,     0.90891,     0.90991,     0.91091,     0.91191,\n",
       "           0.91291,     0.91391,     0.91491,     0.91592,     0.91692,     0.91792,     0.91892,     0.91992,     0.92092,     0.92192,     0.92292,     0.92392,     0.92492,     0.92593,     0.92693,     0.92793,     0.92893,     0.92993,     0.93093,     0.93193,     0.93293,     0.93393,     0.93493,     0.93594,\n",
       "           0.93694,     0.93794,     0.93894,     0.93994,     0.94094,     0.94194,     0.94294,     0.94394,     0.94494,     0.94595,     0.94695,     0.94795,     0.94895,     0.94995,     0.95095,     0.95195,     0.95295,     0.95395,     0.95495,     0.95596,     0.95696,     0.95796,     0.95896,     0.95996,\n",
       "           0.96096,     0.96196,     0.96296,     0.96396,     0.96496,     0.96597,     0.96697,     0.96797,     0.96897,     0.96997,     0.97097,     0.97197,     0.97297,     0.97397,     0.97497,     0.97598,     0.97698,     0.97798,     0.97898,     0.97998,     0.98098,     0.98198,     0.98298,     0.98398,\n",
       "           0.98498,     0.98599,     0.98699,     0.98799,     0.98899,     0.98999,     0.99099,     0.99199,     0.99299,     0.99399,     0.99499,       0.996,       0.997,       0.998,       0.999,           1]), array([[    0.97753,     0.97753,     0.97753, ...,           0,           0,           0],\n",
       "       [    0.97849,     0.97849,     0.97849, ...,           0,           0,           0]]), 'Confidence', 'Recall']]\n",
       "fitness: 0.7221308850480822\n",
       "keys: ['metrics/precision(B)', 'metrics/recall(B)', 'metrics/mAP50(B)', 'metrics/mAP50-95(B)']\n",
       "maps: array([    0.75224,     0.65136])\n",
       "names: {0: 'negative', 1: 'positive'}\n",
       "plot: True\n",
       "results_dict: {'metrics/precision(B)': 0.8838568963251912, 'metrics/recall(B)': 0.8393880742649897, 'metrics/mAP50(B)': 0.9050702062915084, 'metrics/mAP50-95(B)': 0.7018042937988126, 'fitness': 0.7221308850480822}\n",
       "save_dir: PosixPath('runs/detect/val/val_all')\n",
       "speed: {'preprocess': 0.14691243226500764, 'inference': 4.317931745244169, 'loss': 0.0007782859363775144, 'postprocess': 0.9408120451302364}\n",
       "task: 'detect'"
      ]
     },
     "execution_count": 12,
     "metadata": {},
     "output_type": "execute_result"
    }
   ],
   "source": [
    "#val\n",
    "experiment_name = 'val'\n",
    "work_name = 'all' #이름수정주의\n",
    "train_dir = os.path.join('runs', experiment_name)\n",
    "\n",
    "if os.path.exists(train_dir):\n",
    "    shutil.rmtree(train_dir)\n",
    "\n",
    "train_model = YOLO(\"/home/under1/Detect/jeongui/all/base/runs/detect/train_all/weights/best.pt\")\n",
    "train_model.val(name=os.path.join(experiment_name, f'{experiment_name}_{work_name}'))"
   ]
  },
  {
   "cell_type": "code",
   "execution_count": 13,
   "metadata": {},
   "outputs": [
    {
     "name": "stdout",
     "output_type": "stream",
     "text": [
      "Ultralytics YOLOv8.2.48 🚀 Python-3.10.14 torch-2.1.0 CUDA:0 (NVIDIA GeForce RTX 3090, 24260MiB)\n"
     ]
    },
    {
     "name": "stderr",
     "output_type": "stream",
     "text": [
      "\u001b[34m\u001b[1mval: \u001b[0mScanning /home/under1/Detect/jeongui/all/base/labels/test... 70 images, 0 backgrounds, 0 corrupt: 100%|██████████| 70/70 [00:00<00:00, 770.53it/s]"
     ]
    },
    {
     "name": "stdout",
     "output_type": "stream",
     "text": [
      "\u001b[34m\u001b[1mval: \u001b[0mNew cache created: /home/under1/Detect/jeongui/all/base/labels/test.cache\n"
     ]
    },
    {
     "name": "stderr",
     "output_type": "stream",
     "text": [
      "\n",
      "                 Class     Images  Instances      Box(P          R      mAP50  mAP50-95): 100%|██████████| 5/5 [00:01<00:00,  4.84it/s]\n"
     ]
    },
    {
     "name": "stdout",
     "output_type": "stream",
     "text": [
      "                   all         70         77      0.465      0.691       0.54      0.416\n",
      "              negative         35         39      0.501       0.54      0.469      0.334\n",
      "              positive         35         38      0.428      0.842      0.611      0.499\n",
      "Speed: 0.2ms preprocess, 3.2ms inference, 0.0ms loss, 1.9ms postprocess per image\n",
      "Results saved to \u001b[1mruns/detect/test/test_all\u001b[0m\n"
     ]
    },
    {
     "data": {
      "text/plain": [
       "ultralytics.utils.metrics.DetMetrics object with attributes:\n",
       "\n",
       "ap_class_index: array([0, 1])\n",
       "box: ultralytics.utils.metrics.Metric object\n",
       "confusion_matrix: <ultralytics.utils.metrics.ConfusionMatrix object at 0x7f8c42de9930>\n",
       "curves: ['Precision-Recall(B)', 'F1-Confidence(B)', 'Precision-Confidence(B)', 'Recall-Confidence(B)']\n",
       "curves_results: [[array([          0,    0.001001,    0.002002,    0.003003,    0.004004,    0.005005,    0.006006,    0.007007,    0.008008,    0.009009,     0.01001,    0.011011,    0.012012,    0.013013,    0.014014,    0.015015,    0.016016,    0.017017,    0.018018,    0.019019,     0.02002,    0.021021,    0.022022,    0.023023,\n",
       "          0.024024,    0.025025,    0.026026,    0.027027,    0.028028,    0.029029,     0.03003,    0.031031,    0.032032,    0.033033,    0.034034,    0.035035,    0.036036,    0.037037,    0.038038,    0.039039,     0.04004,    0.041041,    0.042042,    0.043043,    0.044044,    0.045045,    0.046046,    0.047047,\n",
       "          0.048048,    0.049049,     0.05005,    0.051051,    0.052052,    0.053053,    0.054054,    0.055055,    0.056056,    0.057057,    0.058058,    0.059059,     0.06006,    0.061061,    0.062062,    0.063063,    0.064064,    0.065065,    0.066066,    0.067067,    0.068068,    0.069069,     0.07007,    0.071071,\n",
       "          0.072072,    0.073073,    0.074074,    0.075075,    0.076076,    0.077077,    0.078078,    0.079079,     0.08008,    0.081081,    0.082082,    0.083083,    0.084084,    0.085085,    0.086086,    0.087087,    0.088088,    0.089089,     0.09009,    0.091091,    0.092092,    0.093093,    0.094094,    0.095095,\n",
       "          0.096096,    0.097097,    0.098098,    0.099099,      0.1001,      0.1011,      0.1021,      0.1031,      0.1041,     0.10511,     0.10611,     0.10711,     0.10811,     0.10911,     0.11011,     0.11111,     0.11211,     0.11311,     0.11411,     0.11512,     0.11612,     0.11712,     0.11812,     0.11912,\n",
       "           0.12012,     0.12112,     0.12212,     0.12312,     0.12412,     0.12513,     0.12613,     0.12713,     0.12813,     0.12913,     0.13013,     0.13113,     0.13213,     0.13313,     0.13413,     0.13514,     0.13614,     0.13714,     0.13814,     0.13914,     0.14014,     0.14114,     0.14214,     0.14314,\n",
       "           0.14414,     0.14515,     0.14615,     0.14715,     0.14815,     0.14915,     0.15015,     0.15115,     0.15215,     0.15315,     0.15415,     0.15516,     0.15616,     0.15716,     0.15816,     0.15916,     0.16016,     0.16116,     0.16216,     0.16316,     0.16416,     0.16517,     0.16617,     0.16717,\n",
       "           0.16817,     0.16917,     0.17017,     0.17117,     0.17217,     0.17317,     0.17417,     0.17518,     0.17618,     0.17718,     0.17818,     0.17918,     0.18018,     0.18118,     0.18218,     0.18318,     0.18418,     0.18519,     0.18619,     0.18719,     0.18819,     0.18919,     0.19019,     0.19119,\n",
       "           0.19219,     0.19319,     0.19419,      0.1952,      0.1962,      0.1972,      0.1982,      0.1992,      0.2002,      0.2012,      0.2022,      0.2032,      0.2042,     0.20521,     0.20621,     0.20721,     0.20821,     0.20921,     0.21021,     0.21121,     0.21221,     0.21321,     0.21421,     0.21522,\n",
       "           0.21622,     0.21722,     0.21822,     0.21922,     0.22022,     0.22122,     0.22222,     0.22322,     0.22422,     0.22523,     0.22623,     0.22723,     0.22823,     0.22923,     0.23023,     0.23123,     0.23223,     0.23323,     0.23423,     0.23524,     0.23624,     0.23724,     0.23824,     0.23924,\n",
       "           0.24024,     0.24124,     0.24224,     0.24324,     0.24424,     0.24525,     0.24625,     0.24725,     0.24825,     0.24925,     0.25025,     0.25125,     0.25225,     0.25325,     0.25425,     0.25526,     0.25626,     0.25726,     0.25826,     0.25926,     0.26026,     0.26126,     0.26226,     0.26326,\n",
       "           0.26426,     0.26527,     0.26627,     0.26727,     0.26827,     0.26927,     0.27027,     0.27127,     0.27227,     0.27327,     0.27427,     0.27528,     0.27628,     0.27728,     0.27828,     0.27928,     0.28028,     0.28128,     0.28228,     0.28328,     0.28428,     0.28529,     0.28629,     0.28729,\n",
       "           0.28829,     0.28929,     0.29029,     0.29129,     0.29229,     0.29329,     0.29429,      0.2953,      0.2963,      0.2973,      0.2983,      0.2993,      0.3003,      0.3013,      0.3023,      0.3033,      0.3043,     0.30531,     0.30631,     0.30731,     0.30831,     0.30931,     0.31031,     0.31131,\n",
       "           0.31231,     0.31331,     0.31431,     0.31532,     0.31632,     0.31732,     0.31832,     0.31932,     0.32032,     0.32132,     0.32232,     0.32332,     0.32432,     0.32533,     0.32633,     0.32733,     0.32833,     0.32933,     0.33033,     0.33133,     0.33233,     0.33333,     0.33433,     0.33534,\n",
       "           0.33634,     0.33734,     0.33834,     0.33934,     0.34034,     0.34134,     0.34234,     0.34334,     0.34434,     0.34535,     0.34635,     0.34735,     0.34835,     0.34935,     0.35035,     0.35135,     0.35235,     0.35335,     0.35435,     0.35536,     0.35636,     0.35736,     0.35836,     0.35936,\n",
       "           0.36036,     0.36136,     0.36236,     0.36336,     0.36436,     0.36537,     0.36637,     0.36737,     0.36837,     0.36937,     0.37037,     0.37137,     0.37237,     0.37337,     0.37437,     0.37538,     0.37638,     0.37738,     0.37838,     0.37938,     0.38038,     0.38138,     0.38238,     0.38338,\n",
       "           0.38438,     0.38539,     0.38639,     0.38739,     0.38839,     0.38939,     0.39039,     0.39139,     0.39239,     0.39339,     0.39439,      0.3954,      0.3964,      0.3974,      0.3984,      0.3994,      0.4004,      0.4014,      0.4024,      0.4034,      0.4044,     0.40541,     0.40641,     0.40741,\n",
       "           0.40841,     0.40941,     0.41041,     0.41141,     0.41241,     0.41341,     0.41441,     0.41542,     0.41642,     0.41742,     0.41842,     0.41942,     0.42042,     0.42142,     0.42242,     0.42342,     0.42442,     0.42543,     0.42643,     0.42743,     0.42843,     0.42943,     0.43043,     0.43143,\n",
       "           0.43243,     0.43343,     0.43443,     0.43544,     0.43644,     0.43744,     0.43844,     0.43944,     0.44044,     0.44144,     0.44244,     0.44344,     0.44444,     0.44545,     0.44645,     0.44745,     0.44845,     0.44945,     0.45045,     0.45145,     0.45245,     0.45345,     0.45445,     0.45546,\n",
       "           0.45646,     0.45746,     0.45846,     0.45946,     0.46046,     0.46146,     0.46246,     0.46346,     0.46446,     0.46547,     0.46647,     0.46747,     0.46847,     0.46947,     0.47047,     0.47147,     0.47247,     0.47347,     0.47447,     0.47548,     0.47648,     0.47748,     0.47848,     0.47948,\n",
       "           0.48048,     0.48148,     0.48248,     0.48348,     0.48448,     0.48549,     0.48649,     0.48749,     0.48849,     0.48949,     0.49049,     0.49149,     0.49249,     0.49349,     0.49449,      0.4955,      0.4965,      0.4975,      0.4985,      0.4995,      0.5005,      0.5015,      0.5025,      0.5035,\n",
       "            0.5045,     0.50551,     0.50651,     0.50751,     0.50851,     0.50951,     0.51051,     0.51151,     0.51251,     0.51351,     0.51451,     0.51552,     0.51652,     0.51752,     0.51852,     0.51952,     0.52052,     0.52152,     0.52252,     0.52352,     0.52452,     0.52553,     0.52653,     0.52753,\n",
       "           0.52853,     0.52953,     0.53053,     0.53153,     0.53253,     0.53353,     0.53453,     0.53554,     0.53654,     0.53754,     0.53854,     0.53954,     0.54054,     0.54154,     0.54254,     0.54354,     0.54454,     0.54555,     0.54655,     0.54755,     0.54855,     0.54955,     0.55055,     0.55155,\n",
       "           0.55255,     0.55355,     0.55455,     0.55556,     0.55656,     0.55756,     0.55856,     0.55956,     0.56056,     0.56156,     0.56256,     0.56356,     0.56456,     0.56557,     0.56657,     0.56757,     0.56857,     0.56957,     0.57057,     0.57157,     0.57257,     0.57357,     0.57457,     0.57558,\n",
       "           0.57658,     0.57758,     0.57858,     0.57958,     0.58058,     0.58158,     0.58258,     0.58358,     0.58458,     0.58559,     0.58659,     0.58759,     0.58859,     0.58959,     0.59059,     0.59159,     0.59259,     0.59359,     0.59459,      0.5956,      0.5966,      0.5976,      0.5986,      0.5996,\n",
       "            0.6006,      0.6016,      0.6026,      0.6036,      0.6046,     0.60561,     0.60661,     0.60761,     0.60861,     0.60961,     0.61061,     0.61161,     0.61261,     0.61361,     0.61461,     0.61562,     0.61662,     0.61762,     0.61862,     0.61962,     0.62062,     0.62162,     0.62262,     0.62362,\n",
       "           0.62462,     0.62563,     0.62663,     0.62763,     0.62863,     0.62963,     0.63063,     0.63163,     0.63263,     0.63363,     0.63463,     0.63564,     0.63664,     0.63764,     0.63864,     0.63964,     0.64064,     0.64164,     0.64264,     0.64364,     0.64464,     0.64565,     0.64665,     0.64765,\n",
       "           0.64865,     0.64965,     0.65065,     0.65165,     0.65265,     0.65365,     0.65465,     0.65566,     0.65666,     0.65766,     0.65866,     0.65966,     0.66066,     0.66166,     0.66266,     0.66366,     0.66466,     0.66567,     0.66667,     0.66767,     0.66867,     0.66967,     0.67067,     0.67167,\n",
       "           0.67267,     0.67367,     0.67467,     0.67568,     0.67668,     0.67768,     0.67868,     0.67968,     0.68068,     0.68168,     0.68268,     0.68368,     0.68468,     0.68569,     0.68669,     0.68769,     0.68869,     0.68969,     0.69069,     0.69169,     0.69269,     0.69369,     0.69469,      0.6957,\n",
       "            0.6967,      0.6977,      0.6987,      0.6997,      0.7007,      0.7017,      0.7027,      0.7037,      0.7047,     0.70571,     0.70671,     0.70771,     0.70871,     0.70971,     0.71071,     0.71171,     0.71271,     0.71371,     0.71471,     0.71572,     0.71672,     0.71772,     0.71872,     0.71972,\n",
       "           0.72072,     0.72172,     0.72272,     0.72372,     0.72472,     0.72573,     0.72673,     0.72773,     0.72873,     0.72973,     0.73073,     0.73173,     0.73273,     0.73373,     0.73473,     0.73574,     0.73674,     0.73774,     0.73874,     0.73974,     0.74074,     0.74174,     0.74274,     0.74374,\n",
       "           0.74474,     0.74575,     0.74675,     0.74775,     0.74875,     0.74975,     0.75075,     0.75175,     0.75275,     0.75375,     0.75475,     0.75576,     0.75676,     0.75776,     0.75876,     0.75976,     0.76076,     0.76176,     0.76276,     0.76376,     0.76476,     0.76577,     0.76677,     0.76777,\n",
       "           0.76877,     0.76977,     0.77077,     0.77177,     0.77277,     0.77377,     0.77477,     0.77578,     0.77678,     0.77778,     0.77878,     0.77978,     0.78078,     0.78178,     0.78278,     0.78378,     0.78478,     0.78579,     0.78679,     0.78779,     0.78879,     0.78979,     0.79079,     0.79179,\n",
       "           0.79279,     0.79379,     0.79479,      0.7958,      0.7968,      0.7978,      0.7988,      0.7998,      0.8008,      0.8018,      0.8028,      0.8038,      0.8048,     0.80581,     0.80681,     0.80781,     0.80881,     0.80981,     0.81081,     0.81181,     0.81281,     0.81381,     0.81481,     0.81582,\n",
       "           0.81682,     0.81782,     0.81882,     0.81982,     0.82082,     0.82182,     0.82282,     0.82382,     0.82482,     0.82583,     0.82683,     0.82783,     0.82883,     0.82983,     0.83083,     0.83183,     0.83283,     0.83383,     0.83483,     0.83584,     0.83684,     0.83784,     0.83884,     0.83984,\n",
       "           0.84084,     0.84184,     0.84284,     0.84384,     0.84484,     0.84585,     0.84685,     0.84785,     0.84885,     0.84985,     0.85085,     0.85185,     0.85285,     0.85385,     0.85485,     0.85586,     0.85686,     0.85786,     0.85886,     0.85986,     0.86086,     0.86186,     0.86286,     0.86386,\n",
       "           0.86486,     0.86587,     0.86687,     0.86787,     0.86887,     0.86987,     0.87087,     0.87187,     0.87287,     0.87387,     0.87487,     0.87588,     0.87688,     0.87788,     0.87888,     0.87988,     0.88088,     0.88188,     0.88288,     0.88388,     0.88488,     0.88589,     0.88689,     0.88789,\n",
       "           0.88889,     0.88989,     0.89089,     0.89189,     0.89289,     0.89389,     0.89489,      0.8959,      0.8969,      0.8979,      0.8989,      0.8999,      0.9009,      0.9019,      0.9029,      0.9039,      0.9049,     0.90591,     0.90691,     0.90791,     0.90891,     0.90991,     0.91091,     0.91191,\n",
       "           0.91291,     0.91391,     0.91491,     0.91592,     0.91692,     0.91792,     0.91892,     0.91992,     0.92092,     0.92192,     0.92292,     0.92392,     0.92492,     0.92593,     0.92693,     0.92793,     0.92893,     0.92993,     0.93093,     0.93193,     0.93293,     0.93393,     0.93493,     0.93594,\n",
       "           0.93694,     0.93794,     0.93894,     0.93994,     0.94094,     0.94194,     0.94294,     0.94394,     0.94494,     0.94595,     0.94695,     0.94795,     0.94895,     0.94995,     0.95095,     0.95195,     0.95295,     0.95395,     0.95495,     0.95596,     0.95696,     0.95796,     0.95896,     0.95996,\n",
       "           0.96096,     0.96196,     0.96296,     0.96396,     0.96496,     0.96597,     0.96697,     0.96797,     0.96897,     0.96997,     0.97097,     0.97197,     0.97297,     0.97397,     0.97497,     0.97598,     0.97698,     0.97798,     0.97898,     0.97998,     0.98098,     0.98198,     0.98298,     0.98398,\n",
       "           0.98498,     0.98599,     0.98699,     0.98799,     0.98899,     0.98999,     0.99099,     0.99199,     0.99299,     0.99399,     0.99499,       0.996,       0.997,       0.998,       0.999,           1]), array([[       0.55,        0.55,        0.55, ...,   0.0060333,   0.0030167,           0],\n",
       "       [          1,           1,           1, ...,   0.0097118,   0.0048559,           0]]), 'Recall', 'Precision'], [array([          0,    0.001001,    0.002002,    0.003003,    0.004004,    0.005005,    0.006006,    0.007007,    0.008008,    0.009009,     0.01001,    0.011011,    0.012012,    0.013013,    0.014014,    0.015015,    0.016016,    0.017017,    0.018018,    0.019019,     0.02002,    0.021021,    0.022022,    0.023023,\n",
       "          0.024024,    0.025025,    0.026026,    0.027027,    0.028028,    0.029029,     0.03003,    0.031031,    0.032032,    0.033033,    0.034034,    0.035035,    0.036036,    0.037037,    0.038038,    0.039039,     0.04004,    0.041041,    0.042042,    0.043043,    0.044044,    0.045045,    0.046046,    0.047047,\n",
       "          0.048048,    0.049049,     0.05005,    0.051051,    0.052052,    0.053053,    0.054054,    0.055055,    0.056056,    0.057057,    0.058058,    0.059059,     0.06006,    0.061061,    0.062062,    0.063063,    0.064064,    0.065065,    0.066066,    0.067067,    0.068068,    0.069069,     0.07007,    0.071071,\n",
       "          0.072072,    0.073073,    0.074074,    0.075075,    0.076076,    0.077077,    0.078078,    0.079079,     0.08008,    0.081081,    0.082082,    0.083083,    0.084084,    0.085085,    0.086086,    0.087087,    0.088088,    0.089089,     0.09009,    0.091091,    0.092092,    0.093093,    0.094094,    0.095095,\n",
       "          0.096096,    0.097097,    0.098098,    0.099099,      0.1001,      0.1011,      0.1021,      0.1031,      0.1041,     0.10511,     0.10611,     0.10711,     0.10811,     0.10911,     0.11011,     0.11111,     0.11211,     0.11311,     0.11411,     0.11512,     0.11612,     0.11712,     0.11812,     0.11912,\n",
       "           0.12012,     0.12112,     0.12212,     0.12312,     0.12412,     0.12513,     0.12613,     0.12713,     0.12813,     0.12913,     0.13013,     0.13113,     0.13213,     0.13313,     0.13413,     0.13514,     0.13614,     0.13714,     0.13814,     0.13914,     0.14014,     0.14114,     0.14214,     0.14314,\n",
       "           0.14414,     0.14515,     0.14615,     0.14715,     0.14815,     0.14915,     0.15015,     0.15115,     0.15215,     0.15315,     0.15415,     0.15516,     0.15616,     0.15716,     0.15816,     0.15916,     0.16016,     0.16116,     0.16216,     0.16316,     0.16416,     0.16517,     0.16617,     0.16717,\n",
       "           0.16817,     0.16917,     0.17017,     0.17117,     0.17217,     0.17317,     0.17417,     0.17518,     0.17618,     0.17718,     0.17818,     0.17918,     0.18018,     0.18118,     0.18218,     0.18318,     0.18418,     0.18519,     0.18619,     0.18719,     0.18819,     0.18919,     0.19019,     0.19119,\n",
       "           0.19219,     0.19319,     0.19419,      0.1952,      0.1962,      0.1972,      0.1982,      0.1992,      0.2002,      0.2012,      0.2022,      0.2032,      0.2042,     0.20521,     0.20621,     0.20721,     0.20821,     0.20921,     0.21021,     0.21121,     0.21221,     0.21321,     0.21421,     0.21522,\n",
       "           0.21622,     0.21722,     0.21822,     0.21922,     0.22022,     0.22122,     0.22222,     0.22322,     0.22422,     0.22523,     0.22623,     0.22723,     0.22823,     0.22923,     0.23023,     0.23123,     0.23223,     0.23323,     0.23423,     0.23524,     0.23624,     0.23724,     0.23824,     0.23924,\n",
       "           0.24024,     0.24124,     0.24224,     0.24324,     0.24424,     0.24525,     0.24625,     0.24725,     0.24825,     0.24925,     0.25025,     0.25125,     0.25225,     0.25325,     0.25425,     0.25526,     0.25626,     0.25726,     0.25826,     0.25926,     0.26026,     0.26126,     0.26226,     0.26326,\n",
       "           0.26426,     0.26527,     0.26627,     0.26727,     0.26827,     0.26927,     0.27027,     0.27127,     0.27227,     0.27327,     0.27427,     0.27528,     0.27628,     0.27728,     0.27828,     0.27928,     0.28028,     0.28128,     0.28228,     0.28328,     0.28428,     0.28529,     0.28629,     0.28729,\n",
       "           0.28829,     0.28929,     0.29029,     0.29129,     0.29229,     0.29329,     0.29429,      0.2953,      0.2963,      0.2973,      0.2983,      0.2993,      0.3003,      0.3013,      0.3023,      0.3033,      0.3043,     0.30531,     0.30631,     0.30731,     0.30831,     0.30931,     0.31031,     0.31131,\n",
       "           0.31231,     0.31331,     0.31431,     0.31532,     0.31632,     0.31732,     0.31832,     0.31932,     0.32032,     0.32132,     0.32232,     0.32332,     0.32432,     0.32533,     0.32633,     0.32733,     0.32833,     0.32933,     0.33033,     0.33133,     0.33233,     0.33333,     0.33433,     0.33534,\n",
       "           0.33634,     0.33734,     0.33834,     0.33934,     0.34034,     0.34134,     0.34234,     0.34334,     0.34434,     0.34535,     0.34635,     0.34735,     0.34835,     0.34935,     0.35035,     0.35135,     0.35235,     0.35335,     0.35435,     0.35536,     0.35636,     0.35736,     0.35836,     0.35936,\n",
       "           0.36036,     0.36136,     0.36236,     0.36336,     0.36436,     0.36537,     0.36637,     0.36737,     0.36837,     0.36937,     0.37037,     0.37137,     0.37237,     0.37337,     0.37437,     0.37538,     0.37638,     0.37738,     0.37838,     0.37938,     0.38038,     0.38138,     0.38238,     0.38338,\n",
       "           0.38438,     0.38539,     0.38639,     0.38739,     0.38839,     0.38939,     0.39039,     0.39139,     0.39239,     0.39339,     0.39439,      0.3954,      0.3964,      0.3974,      0.3984,      0.3994,      0.4004,      0.4014,      0.4024,      0.4034,      0.4044,     0.40541,     0.40641,     0.40741,\n",
       "           0.40841,     0.40941,     0.41041,     0.41141,     0.41241,     0.41341,     0.41441,     0.41542,     0.41642,     0.41742,     0.41842,     0.41942,     0.42042,     0.42142,     0.42242,     0.42342,     0.42442,     0.42543,     0.42643,     0.42743,     0.42843,     0.42943,     0.43043,     0.43143,\n",
       "           0.43243,     0.43343,     0.43443,     0.43544,     0.43644,     0.43744,     0.43844,     0.43944,     0.44044,     0.44144,     0.44244,     0.44344,     0.44444,     0.44545,     0.44645,     0.44745,     0.44845,     0.44945,     0.45045,     0.45145,     0.45245,     0.45345,     0.45445,     0.45546,\n",
       "           0.45646,     0.45746,     0.45846,     0.45946,     0.46046,     0.46146,     0.46246,     0.46346,     0.46446,     0.46547,     0.46647,     0.46747,     0.46847,     0.46947,     0.47047,     0.47147,     0.47247,     0.47347,     0.47447,     0.47548,     0.47648,     0.47748,     0.47848,     0.47948,\n",
       "           0.48048,     0.48148,     0.48248,     0.48348,     0.48448,     0.48549,     0.48649,     0.48749,     0.48849,     0.48949,     0.49049,     0.49149,     0.49249,     0.49349,     0.49449,      0.4955,      0.4965,      0.4975,      0.4985,      0.4995,      0.5005,      0.5015,      0.5025,      0.5035,\n",
       "            0.5045,     0.50551,     0.50651,     0.50751,     0.50851,     0.50951,     0.51051,     0.51151,     0.51251,     0.51351,     0.51451,     0.51552,     0.51652,     0.51752,     0.51852,     0.51952,     0.52052,     0.52152,     0.52252,     0.52352,     0.52452,     0.52553,     0.52653,     0.52753,\n",
       "           0.52853,     0.52953,     0.53053,     0.53153,     0.53253,     0.53353,     0.53453,     0.53554,     0.53654,     0.53754,     0.53854,     0.53954,     0.54054,     0.54154,     0.54254,     0.54354,     0.54454,     0.54555,     0.54655,     0.54755,     0.54855,     0.54955,     0.55055,     0.55155,\n",
       "           0.55255,     0.55355,     0.55455,     0.55556,     0.55656,     0.55756,     0.55856,     0.55956,     0.56056,     0.56156,     0.56256,     0.56356,     0.56456,     0.56557,     0.56657,     0.56757,     0.56857,     0.56957,     0.57057,     0.57157,     0.57257,     0.57357,     0.57457,     0.57558,\n",
       "           0.57658,     0.57758,     0.57858,     0.57958,     0.58058,     0.58158,     0.58258,     0.58358,     0.58458,     0.58559,     0.58659,     0.58759,     0.58859,     0.58959,     0.59059,     0.59159,     0.59259,     0.59359,     0.59459,      0.5956,      0.5966,      0.5976,      0.5986,      0.5996,\n",
       "            0.6006,      0.6016,      0.6026,      0.6036,      0.6046,     0.60561,     0.60661,     0.60761,     0.60861,     0.60961,     0.61061,     0.61161,     0.61261,     0.61361,     0.61461,     0.61562,     0.61662,     0.61762,     0.61862,     0.61962,     0.62062,     0.62162,     0.62262,     0.62362,\n",
       "           0.62462,     0.62563,     0.62663,     0.62763,     0.62863,     0.62963,     0.63063,     0.63163,     0.63263,     0.63363,     0.63463,     0.63564,     0.63664,     0.63764,     0.63864,     0.63964,     0.64064,     0.64164,     0.64264,     0.64364,     0.64464,     0.64565,     0.64665,     0.64765,\n",
       "           0.64865,     0.64965,     0.65065,     0.65165,     0.65265,     0.65365,     0.65465,     0.65566,     0.65666,     0.65766,     0.65866,     0.65966,     0.66066,     0.66166,     0.66266,     0.66366,     0.66466,     0.66567,     0.66667,     0.66767,     0.66867,     0.66967,     0.67067,     0.67167,\n",
       "           0.67267,     0.67367,     0.67467,     0.67568,     0.67668,     0.67768,     0.67868,     0.67968,     0.68068,     0.68168,     0.68268,     0.68368,     0.68468,     0.68569,     0.68669,     0.68769,     0.68869,     0.68969,     0.69069,     0.69169,     0.69269,     0.69369,     0.69469,      0.6957,\n",
       "            0.6967,      0.6977,      0.6987,      0.6997,      0.7007,      0.7017,      0.7027,      0.7037,      0.7047,     0.70571,     0.70671,     0.70771,     0.70871,     0.70971,     0.71071,     0.71171,     0.71271,     0.71371,     0.71471,     0.71572,     0.71672,     0.71772,     0.71872,     0.71972,\n",
       "           0.72072,     0.72172,     0.72272,     0.72372,     0.72472,     0.72573,     0.72673,     0.72773,     0.72873,     0.72973,     0.73073,     0.73173,     0.73273,     0.73373,     0.73473,     0.73574,     0.73674,     0.73774,     0.73874,     0.73974,     0.74074,     0.74174,     0.74274,     0.74374,\n",
       "           0.74474,     0.74575,     0.74675,     0.74775,     0.74875,     0.74975,     0.75075,     0.75175,     0.75275,     0.75375,     0.75475,     0.75576,     0.75676,     0.75776,     0.75876,     0.75976,     0.76076,     0.76176,     0.76276,     0.76376,     0.76476,     0.76577,     0.76677,     0.76777,\n",
       "           0.76877,     0.76977,     0.77077,     0.77177,     0.77277,     0.77377,     0.77477,     0.77578,     0.77678,     0.77778,     0.77878,     0.77978,     0.78078,     0.78178,     0.78278,     0.78378,     0.78478,     0.78579,     0.78679,     0.78779,     0.78879,     0.78979,     0.79079,     0.79179,\n",
       "           0.79279,     0.79379,     0.79479,      0.7958,      0.7968,      0.7978,      0.7988,      0.7998,      0.8008,      0.8018,      0.8028,      0.8038,      0.8048,     0.80581,     0.80681,     0.80781,     0.80881,     0.80981,     0.81081,     0.81181,     0.81281,     0.81381,     0.81481,     0.81582,\n",
       "           0.81682,     0.81782,     0.81882,     0.81982,     0.82082,     0.82182,     0.82282,     0.82382,     0.82482,     0.82583,     0.82683,     0.82783,     0.82883,     0.82983,     0.83083,     0.83183,     0.83283,     0.83383,     0.83483,     0.83584,     0.83684,     0.83784,     0.83884,     0.83984,\n",
       "           0.84084,     0.84184,     0.84284,     0.84384,     0.84484,     0.84585,     0.84685,     0.84785,     0.84885,     0.84985,     0.85085,     0.85185,     0.85285,     0.85385,     0.85485,     0.85586,     0.85686,     0.85786,     0.85886,     0.85986,     0.86086,     0.86186,     0.86286,     0.86386,\n",
       "           0.86486,     0.86587,     0.86687,     0.86787,     0.86887,     0.86987,     0.87087,     0.87187,     0.87287,     0.87387,     0.87487,     0.87588,     0.87688,     0.87788,     0.87888,     0.87988,     0.88088,     0.88188,     0.88288,     0.88388,     0.88488,     0.88589,     0.88689,     0.88789,\n",
       "           0.88889,     0.88989,     0.89089,     0.89189,     0.89289,     0.89389,     0.89489,      0.8959,      0.8969,      0.8979,      0.8989,      0.8999,      0.9009,      0.9019,      0.9029,      0.9039,      0.9049,     0.90591,     0.90691,     0.90791,     0.90891,     0.90991,     0.91091,     0.91191,\n",
       "           0.91291,     0.91391,     0.91491,     0.91592,     0.91692,     0.91792,     0.91892,     0.91992,     0.92092,     0.92192,     0.92292,     0.92392,     0.92492,     0.92593,     0.92693,     0.92793,     0.92893,     0.92993,     0.93093,     0.93193,     0.93293,     0.93393,     0.93493,     0.93594,\n",
       "           0.93694,     0.93794,     0.93894,     0.93994,     0.94094,     0.94194,     0.94294,     0.94394,     0.94494,     0.94595,     0.94695,     0.94795,     0.94895,     0.94995,     0.95095,     0.95195,     0.95295,     0.95395,     0.95495,     0.95596,     0.95696,     0.95796,     0.95896,     0.95996,\n",
       "           0.96096,     0.96196,     0.96296,     0.96396,     0.96496,     0.96597,     0.96697,     0.96797,     0.96897,     0.96997,     0.97097,     0.97197,     0.97297,     0.97397,     0.97497,     0.97598,     0.97698,     0.97798,     0.97898,     0.97998,     0.98098,     0.98198,     0.98298,     0.98398,\n",
       "           0.98498,     0.98599,     0.98699,     0.98799,     0.98899,     0.98999,     0.99099,     0.99199,     0.99299,     0.99399,     0.99499,       0.996,       0.997,       0.998,       0.999,           1]), array([[    0.53543,     0.53543,       0.558, ...,           0,           0,           0],\n",
       "       [    0.40223,     0.40223,     0.44424, ...,           0,           0,           0]]), 'Confidence', 'F1'], [array([          0,    0.001001,    0.002002,    0.003003,    0.004004,    0.005005,    0.006006,    0.007007,    0.008008,    0.009009,     0.01001,    0.011011,    0.012012,    0.013013,    0.014014,    0.015015,    0.016016,    0.017017,    0.018018,    0.019019,     0.02002,    0.021021,    0.022022,    0.023023,\n",
       "          0.024024,    0.025025,    0.026026,    0.027027,    0.028028,    0.029029,     0.03003,    0.031031,    0.032032,    0.033033,    0.034034,    0.035035,    0.036036,    0.037037,    0.038038,    0.039039,     0.04004,    0.041041,    0.042042,    0.043043,    0.044044,    0.045045,    0.046046,    0.047047,\n",
       "          0.048048,    0.049049,     0.05005,    0.051051,    0.052052,    0.053053,    0.054054,    0.055055,    0.056056,    0.057057,    0.058058,    0.059059,     0.06006,    0.061061,    0.062062,    0.063063,    0.064064,    0.065065,    0.066066,    0.067067,    0.068068,    0.069069,     0.07007,    0.071071,\n",
       "          0.072072,    0.073073,    0.074074,    0.075075,    0.076076,    0.077077,    0.078078,    0.079079,     0.08008,    0.081081,    0.082082,    0.083083,    0.084084,    0.085085,    0.086086,    0.087087,    0.088088,    0.089089,     0.09009,    0.091091,    0.092092,    0.093093,    0.094094,    0.095095,\n",
       "          0.096096,    0.097097,    0.098098,    0.099099,      0.1001,      0.1011,      0.1021,      0.1031,      0.1041,     0.10511,     0.10611,     0.10711,     0.10811,     0.10911,     0.11011,     0.11111,     0.11211,     0.11311,     0.11411,     0.11512,     0.11612,     0.11712,     0.11812,     0.11912,\n",
       "           0.12012,     0.12112,     0.12212,     0.12312,     0.12412,     0.12513,     0.12613,     0.12713,     0.12813,     0.12913,     0.13013,     0.13113,     0.13213,     0.13313,     0.13413,     0.13514,     0.13614,     0.13714,     0.13814,     0.13914,     0.14014,     0.14114,     0.14214,     0.14314,\n",
       "           0.14414,     0.14515,     0.14615,     0.14715,     0.14815,     0.14915,     0.15015,     0.15115,     0.15215,     0.15315,     0.15415,     0.15516,     0.15616,     0.15716,     0.15816,     0.15916,     0.16016,     0.16116,     0.16216,     0.16316,     0.16416,     0.16517,     0.16617,     0.16717,\n",
       "           0.16817,     0.16917,     0.17017,     0.17117,     0.17217,     0.17317,     0.17417,     0.17518,     0.17618,     0.17718,     0.17818,     0.17918,     0.18018,     0.18118,     0.18218,     0.18318,     0.18418,     0.18519,     0.18619,     0.18719,     0.18819,     0.18919,     0.19019,     0.19119,\n",
       "           0.19219,     0.19319,     0.19419,      0.1952,      0.1962,      0.1972,      0.1982,      0.1992,      0.2002,      0.2012,      0.2022,      0.2032,      0.2042,     0.20521,     0.20621,     0.20721,     0.20821,     0.20921,     0.21021,     0.21121,     0.21221,     0.21321,     0.21421,     0.21522,\n",
       "           0.21622,     0.21722,     0.21822,     0.21922,     0.22022,     0.22122,     0.22222,     0.22322,     0.22422,     0.22523,     0.22623,     0.22723,     0.22823,     0.22923,     0.23023,     0.23123,     0.23223,     0.23323,     0.23423,     0.23524,     0.23624,     0.23724,     0.23824,     0.23924,\n",
       "           0.24024,     0.24124,     0.24224,     0.24324,     0.24424,     0.24525,     0.24625,     0.24725,     0.24825,     0.24925,     0.25025,     0.25125,     0.25225,     0.25325,     0.25425,     0.25526,     0.25626,     0.25726,     0.25826,     0.25926,     0.26026,     0.26126,     0.26226,     0.26326,\n",
       "           0.26426,     0.26527,     0.26627,     0.26727,     0.26827,     0.26927,     0.27027,     0.27127,     0.27227,     0.27327,     0.27427,     0.27528,     0.27628,     0.27728,     0.27828,     0.27928,     0.28028,     0.28128,     0.28228,     0.28328,     0.28428,     0.28529,     0.28629,     0.28729,\n",
       "           0.28829,     0.28929,     0.29029,     0.29129,     0.29229,     0.29329,     0.29429,      0.2953,      0.2963,      0.2973,      0.2983,      0.2993,      0.3003,      0.3013,      0.3023,      0.3033,      0.3043,     0.30531,     0.30631,     0.30731,     0.30831,     0.30931,     0.31031,     0.31131,\n",
       "           0.31231,     0.31331,     0.31431,     0.31532,     0.31632,     0.31732,     0.31832,     0.31932,     0.32032,     0.32132,     0.32232,     0.32332,     0.32432,     0.32533,     0.32633,     0.32733,     0.32833,     0.32933,     0.33033,     0.33133,     0.33233,     0.33333,     0.33433,     0.33534,\n",
       "           0.33634,     0.33734,     0.33834,     0.33934,     0.34034,     0.34134,     0.34234,     0.34334,     0.34434,     0.34535,     0.34635,     0.34735,     0.34835,     0.34935,     0.35035,     0.35135,     0.35235,     0.35335,     0.35435,     0.35536,     0.35636,     0.35736,     0.35836,     0.35936,\n",
       "           0.36036,     0.36136,     0.36236,     0.36336,     0.36436,     0.36537,     0.36637,     0.36737,     0.36837,     0.36937,     0.37037,     0.37137,     0.37237,     0.37337,     0.37437,     0.37538,     0.37638,     0.37738,     0.37838,     0.37938,     0.38038,     0.38138,     0.38238,     0.38338,\n",
       "           0.38438,     0.38539,     0.38639,     0.38739,     0.38839,     0.38939,     0.39039,     0.39139,     0.39239,     0.39339,     0.39439,      0.3954,      0.3964,      0.3974,      0.3984,      0.3994,      0.4004,      0.4014,      0.4024,      0.4034,      0.4044,     0.40541,     0.40641,     0.40741,\n",
       "           0.40841,     0.40941,     0.41041,     0.41141,     0.41241,     0.41341,     0.41441,     0.41542,     0.41642,     0.41742,     0.41842,     0.41942,     0.42042,     0.42142,     0.42242,     0.42342,     0.42442,     0.42543,     0.42643,     0.42743,     0.42843,     0.42943,     0.43043,     0.43143,\n",
       "           0.43243,     0.43343,     0.43443,     0.43544,     0.43644,     0.43744,     0.43844,     0.43944,     0.44044,     0.44144,     0.44244,     0.44344,     0.44444,     0.44545,     0.44645,     0.44745,     0.44845,     0.44945,     0.45045,     0.45145,     0.45245,     0.45345,     0.45445,     0.45546,\n",
       "           0.45646,     0.45746,     0.45846,     0.45946,     0.46046,     0.46146,     0.46246,     0.46346,     0.46446,     0.46547,     0.46647,     0.46747,     0.46847,     0.46947,     0.47047,     0.47147,     0.47247,     0.47347,     0.47447,     0.47548,     0.47648,     0.47748,     0.47848,     0.47948,\n",
       "           0.48048,     0.48148,     0.48248,     0.48348,     0.48448,     0.48549,     0.48649,     0.48749,     0.48849,     0.48949,     0.49049,     0.49149,     0.49249,     0.49349,     0.49449,      0.4955,      0.4965,      0.4975,      0.4985,      0.4995,      0.5005,      0.5015,      0.5025,      0.5035,\n",
       "            0.5045,     0.50551,     0.50651,     0.50751,     0.50851,     0.50951,     0.51051,     0.51151,     0.51251,     0.51351,     0.51451,     0.51552,     0.51652,     0.51752,     0.51852,     0.51952,     0.52052,     0.52152,     0.52252,     0.52352,     0.52452,     0.52553,     0.52653,     0.52753,\n",
       "           0.52853,     0.52953,     0.53053,     0.53153,     0.53253,     0.53353,     0.53453,     0.53554,     0.53654,     0.53754,     0.53854,     0.53954,     0.54054,     0.54154,     0.54254,     0.54354,     0.54454,     0.54555,     0.54655,     0.54755,     0.54855,     0.54955,     0.55055,     0.55155,\n",
       "           0.55255,     0.55355,     0.55455,     0.55556,     0.55656,     0.55756,     0.55856,     0.55956,     0.56056,     0.56156,     0.56256,     0.56356,     0.56456,     0.56557,     0.56657,     0.56757,     0.56857,     0.56957,     0.57057,     0.57157,     0.57257,     0.57357,     0.57457,     0.57558,\n",
       "           0.57658,     0.57758,     0.57858,     0.57958,     0.58058,     0.58158,     0.58258,     0.58358,     0.58458,     0.58559,     0.58659,     0.58759,     0.58859,     0.58959,     0.59059,     0.59159,     0.59259,     0.59359,     0.59459,      0.5956,      0.5966,      0.5976,      0.5986,      0.5996,\n",
       "            0.6006,      0.6016,      0.6026,      0.6036,      0.6046,     0.60561,     0.60661,     0.60761,     0.60861,     0.60961,     0.61061,     0.61161,     0.61261,     0.61361,     0.61461,     0.61562,     0.61662,     0.61762,     0.61862,     0.61962,     0.62062,     0.62162,     0.62262,     0.62362,\n",
       "           0.62462,     0.62563,     0.62663,     0.62763,     0.62863,     0.62963,     0.63063,     0.63163,     0.63263,     0.63363,     0.63463,     0.63564,     0.63664,     0.63764,     0.63864,     0.63964,     0.64064,     0.64164,     0.64264,     0.64364,     0.64464,     0.64565,     0.64665,     0.64765,\n",
       "           0.64865,     0.64965,     0.65065,     0.65165,     0.65265,     0.65365,     0.65465,     0.65566,     0.65666,     0.65766,     0.65866,     0.65966,     0.66066,     0.66166,     0.66266,     0.66366,     0.66466,     0.66567,     0.66667,     0.66767,     0.66867,     0.66967,     0.67067,     0.67167,\n",
       "           0.67267,     0.67367,     0.67467,     0.67568,     0.67668,     0.67768,     0.67868,     0.67968,     0.68068,     0.68168,     0.68268,     0.68368,     0.68468,     0.68569,     0.68669,     0.68769,     0.68869,     0.68969,     0.69069,     0.69169,     0.69269,     0.69369,     0.69469,      0.6957,\n",
       "            0.6967,      0.6977,      0.6987,      0.6997,      0.7007,      0.7017,      0.7027,      0.7037,      0.7047,     0.70571,     0.70671,     0.70771,     0.70871,     0.70971,     0.71071,     0.71171,     0.71271,     0.71371,     0.71471,     0.71572,     0.71672,     0.71772,     0.71872,     0.71972,\n",
       "           0.72072,     0.72172,     0.72272,     0.72372,     0.72472,     0.72573,     0.72673,     0.72773,     0.72873,     0.72973,     0.73073,     0.73173,     0.73273,     0.73373,     0.73473,     0.73574,     0.73674,     0.73774,     0.73874,     0.73974,     0.74074,     0.74174,     0.74274,     0.74374,\n",
       "           0.74474,     0.74575,     0.74675,     0.74775,     0.74875,     0.74975,     0.75075,     0.75175,     0.75275,     0.75375,     0.75475,     0.75576,     0.75676,     0.75776,     0.75876,     0.75976,     0.76076,     0.76176,     0.76276,     0.76376,     0.76476,     0.76577,     0.76677,     0.76777,\n",
       "           0.76877,     0.76977,     0.77077,     0.77177,     0.77277,     0.77377,     0.77477,     0.77578,     0.77678,     0.77778,     0.77878,     0.77978,     0.78078,     0.78178,     0.78278,     0.78378,     0.78478,     0.78579,     0.78679,     0.78779,     0.78879,     0.78979,     0.79079,     0.79179,\n",
       "           0.79279,     0.79379,     0.79479,      0.7958,      0.7968,      0.7978,      0.7988,      0.7998,      0.8008,      0.8018,      0.8028,      0.8038,      0.8048,     0.80581,     0.80681,     0.80781,     0.80881,     0.80981,     0.81081,     0.81181,     0.81281,     0.81381,     0.81481,     0.81582,\n",
       "           0.81682,     0.81782,     0.81882,     0.81982,     0.82082,     0.82182,     0.82282,     0.82382,     0.82482,     0.82583,     0.82683,     0.82783,     0.82883,     0.82983,     0.83083,     0.83183,     0.83283,     0.83383,     0.83483,     0.83584,     0.83684,     0.83784,     0.83884,     0.83984,\n",
       "           0.84084,     0.84184,     0.84284,     0.84384,     0.84484,     0.84585,     0.84685,     0.84785,     0.84885,     0.84985,     0.85085,     0.85185,     0.85285,     0.85385,     0.85485,     0.85586,     0.85686,     0.85786,     0.85886,     0.85986,     0.86086,     0.86186,     0.86286,     0.86386,\n",
       "           0.86486,     0.86587,     0.86687,     0.86787,     0.86887,     0.86987,     0.87087,     0.87187,     0.87287,     0.87387,     0.87487,     0.87588,     0.87688,     0.87788,     0.87888,     0.87988,     0.88088,     0.88188,     0.88288,     0.88388,     0.88488,     0.88589,     0.88689,     0.88789,\n",
       "           0.88889,     0.88989,     0.89089,     0.89189,     0.89289,     0.89389,     0.89489,      0.8959,      0.8969,      0.8979,      0.8989,      0.8999,      0.9009,      0.9019,      0.9029,      0.9039,      0.9049,     0.90591,     0.90691,     0.90791,     0.90891,     0.90991,     0.91091,     0.91191,\n",
       "           0.91291,     0.91391,     0.91491,     0.91592,     0.91692,     0.91792,     0.91892,     0.91992,     0.92092,     0.92192,     0.92292,     0.92392,     0.92492,     0.92593,     0.92693,     0.92793,     0.92893,     0.92993,     0.93093,     0.93193,     0.93293,     0.93393,     0.93493,     0.93594,\n",
       "           0.93694,     0.93794,     0.93894,     0.93994,     0.94094,     0.94194,     0.94294,     0.94394,     0.94494,     0.94595,     0.94695,     0.94795,     0.94895,     0.94995,     0.95095,     0.95195,     0.95295,     0.95395,     0.95495,     0.95596,     0.95696,     0.95796,     0.95896,     0.95996,\n",
       "           0.96096,     0.96196,     0.96296,     0.96396,     0.96496,     0.96597,     0.96697,     0.96797,     0.96897,     0.96997,     0.97097,     0.97197,     0.97297,     0.97397,     0.97497,     0.97598,     0.97698,     0.97798,     0.97898,     0.97998,     0.98098,     0.98198,     0.98298,     0.98398,\n",
       "           0.98498,     0.98599,     0.98699,     0.98799,     0.98899,     0.98999,     0.99099,     0.99199,     0.99299,     0.99399,     0.99499,       0.996,       0.997,       0.998,       0.999,           1]), array([[    0.38636,     0.38636,     0.41625, ...,           1,           1,           1],\n",
       "       [    0.25532,     0.25532,     0.29015, ...,           1,           1,           1]]), 'Confidence', 'Precision'], [array([          0,    0.001001,    0.002002,    0.003003,    0.004004,    0.005005,    0.006006,    0.007007,    0.008008,    0.009009,     0.01001,    0.011011,    0.012012,    0.013013,    0.014014,    0.015015,    0.016016,    0.017017,    0.018018,    0.019019,     0.02002,    0.021021,    0.022022,    0.023023,\n",
       "          0.024024,    0.025025,    0.026026,    0.027027,    0.028028,    0.029029,     0.03003,    0.031031,    0.032032,    0.033033,    0.034034,    0.035035,    0.036036,    0.037037,    0.038038,    0.039039,     0.04004,    0.041041,    0.042042,    0.043043,    0.044044,    0.045045,    0.046046,    0.047047,\n",
       "          0.048048,    0.049049,     0.05005,    0.051051,    0.052052,    0.053053,    0.054054,    0.055055,    0.056056,    0.057057,    0.058058,    0.059059,     0.06006,    0.061061,    0.062062,    0.063063,    0.064064,    0.065065,    0.066066,    0.067067,    0.068068,    0.069069,     0.07007,    0.071071,\n",
       "          0.072072,    0.073073,    0.074074,    0.075075,    0.076076,    0.077077,    0.078078,    0.079079,     0.08008,    0.081081,    0.082082,    0.083083,    0.084084,    0.085085,    0.086086,    0.087087,    0.088088,    0.089089,     0.09009,    0.091091,    0.092092,    0.093093,    0.094094,    0.095095,\n",
       "          0.096096,    0.097097,    0.098098,    0.099099,      0.1001,      0.1011,      0.1021,      0.1031,      0.1041,     0.10511,     0.10611,     0.10711,     0.10811,     0.10911,     0.11011,     0.11111,     0.11211,     0.11311,     0.11411,     0.11512,     0.11612,     0.11712,     0.11812,     0.11912,\n",
       "           0.12012,     0.12112,     0.12212,     0.12312,     0.12412,     0.12513,     0.12613,     0.12713,     0.12813,     0.12913,     0.13013,     0.13113,     0.13213,     0.13313,     0.13413,     0.13514,     0.13614,     0.13714,     0.13814,     0.13914,     0.14014,     0.14114,     0.14214,     0.14314,\n",
       "           0.14414,     0.14515,     0.14615,     0.14715,     0.14815,     0.14915,     0.15015,     0.15115,     0.15215,     0.15315,     0.15415,     0.15516,     0.15616,     0.15716,     0.15816,     0.15916,     0.16016,     0.16116,     0.16216,     0.16316,     0.16416,     0.16517,     0.16617,     0.16717,\n",
       "           0.16817,     0.16917,     0.17017,     0.17117,     0.17217,     0.17317,     0.17417,     0.17518,     0.17618,     0.17718,     0.17818,     0.17918,     0.18018,     0.18118,     0.18218,     0.18318,     0.18418,     0.18519,     0.18619,     0.18719,     0.18819,     0.18919,     0.19019,     0.19119,\n",
       "           0.19219,     0.19319,     0.19419,      0.1952,      0.1962,      0.1972,      0.1982,      0.1992,      0.2002,      0.2012,      0.2022,      0.2032,      0.2042,     0.20521,     0.20621,     0.20721,     0.20821,     0.20921,     0.21021,     0.21121,     0.21221,     0.21321,     0.21421,     0.21522,\n",
       "           0.21622,     0.21722,     0.21822,     0.21922,     0.22022,     0.22122,     0.22222,     0.22322,     0.22422,     0.22523,     0.22623,     0.22723,     0.22823,     0.22923,     0.23023,     0.23123,     0.23223,     0.23323,     0.23423,     0.23524,     0.23624,     0.23724,     0.23824,     0.23924,\n",
       "           0.24024,     0.24124,     0.24224,     0.24324,     0.24424,     0.24525,     0.24625,     0.24725,     0.24825,     0.24925,     0.25025,     0.25125,     0.25225,     0.25325,     0.25425,     0.25526,     0.25626,     0.25726,     0.25826,     0.25926,     0.26026,     0.26126,     0.26226,     0.26326,\n",
       "           0.26426,     0.26527,     0.26627,     0.26727,     0.26827,     0.26927,     0.27027,     0.27127,     0.27227,     0.27327,     0.27427,     0.27528,     0.27628,     0.27728,     0.27828,     0.27928,     0.28028,     0.28128,     0.28228,     0.28328,     0.28428,     0.28529,     0.28629,     0.28729,\n",
       "           0.28829,     0.28929,     0.29029,     0.29129,     0.29229,     0.29329,     0.29429,      0.2953,      0.2963,      0.2973,      0.2983,      0.2993,      0.3003,      0.3013,      0.3023,      0.3033,      0.3043,     0.30531,     0.30631,     0.30731,     0.30831,     0.30931,     0.31031,     0.31131,\n",
       "           0.31231,     0.31331,     0.31431,     0.31532,     0.31632,     0.31732,     0.31832,     0.31932,     0.32032,     0.32132,     0.32232,     0.32332,     0.32432,     0.32533,     0.32633,     0.32733,     0.32833,     0.32933,     0.33033,     0.33133,     0.33233,     0.33333,     0.33433,     0.33534,\n",
       "           0.33634,     0.33734,     0.33834,     0.33934,     0.34034,     0.34134,     0.34234,     0.34334,     0.34434,     0.34535,     0.34635,     0.34735,     0.34835,     0.34935,     0.35035,     0.35135,     0.35235,     0.35335,     0.35435,     0.35536,     0.35636,     0.35736,     0.35836,     0.35936,\n",
       "           0.36036,     0.36136,     0.36236,     0.36336,     0.36436,     0.36537,     0.36637,     0.36737,     0.36837,     0.36937,     0.37037,     0.37137,     0.37237,     0.37337,     0.37437,     0.37538,     0.37638,     0.37738,     0.37838,     0.37938,     0.38038,     0.38138,     0.38238,     0.38338,\n",
       "           0.38438,     0.38539,     0.38639,     0.38739,     0.38839,     0.38939,     0.39039,     0.39139,     0.39239,     0.39339,     0.39439,      0.3954,      0.3964,      0.3974,      0.3984,      0.3994,      0.4004,      0.4014,      0.4024,      0.4034,      0.4044,     0.40541,     0.40641,     0.40741,\n",
       "           0.40841,     0.40941,     0.41041,     0.41141,     0.41241,     0.41341,     0.41441,     0.41542,     0.41642,     0.41742,     0.41842,     0.41942,     0.42042,     0.42142,     0.42242,     0.42342,     0.42442,     0.42543,     0.42643,     0.42743,     0.42843,     0.42943,     0.43043,     0.43143,\n",
       "           0.43243,     0.43343,     0.43443,     0.43544,     0.43644,     0.43744,     0.43844,     0.43944,     0.44044,     0.44144,     0.44244,     0.44344,     0.44444,     0.44545,     0.44645,     0.44745,     0.44845,     0.44945,     0.45045,     0.45145,     0.45245,     0.45345,     0.45445,     0.45546,\n",
       "           0.45646,     0.45746,     0.45846,     0.45946,     0.46046,     0.46146,     0.46246,     0.46346,     0.46446,     0.46547,     0.46647,     0.46747,     0.46847,     0.46947,     0.47047,     0.47147,     0.47247,     0.47347,     0.47447,     0.47548,     0.47648,     0.47748,     0.47848,     0.47948,\n",
       "           0.48048,     0.48148,     0.48248,     0.48348,     0.48448,     0.48549,     0.48649,     0.48749,     0.48849,     0.48949,     0.49049,     0.49149,     0.49249,     0.49349,     0.49449,      0.4955,      0.4965,      0.4975,      0.4985,      0.4995,      0.5005,      0.5015,      0.5025,      0.5035,\n",
       "            0.5045,     0.50551,     0.50651,     0.50751,     0.50851,     0.50951,     0.51051,     0.51151,     0.51251,     0.51351,     0.51451,     0.51552,     0.51652,     0.51752,     0.51852,     0.51952,     0.52052,     0.52152,     0.52252,     0.52352,     0.52452,     0.52553,     0.52653,     0.52753,\n",
       "           0.52853,     0.52953,     0.53053,     0.53153,     0.53253,     0.53353,     0.53453,     0.53554,     0.53654,     0.53754,     0.53854,     0.53954,     0.54054,     0.54154,     0.54254,     0.54354,     0.54454,     0.54555,     0.54655,     0.54755,     0.54855,     0.54955,     0.55055,     0.55155,\n",
       "           0.55255,     0.55355,     0.55455,     0.55556,     0.55656,     0.55756,     0.55856,     0.55956,     0.56056,     0.56156,     0.56256,     0.56356,     0.56456,     0.56557,     0.56657,     0.56757,     0.56857,     0.56957,     0.57057,     0.57157,     0.57257,     0.57357,     0.57457,     0.57558,\n",
       "           0.57658,     0.57758,     0.57858,     0.57958,     0.58058,     0.58158,     0.58258,     0.58358,     0.58458,     0.58559,     0.58659,     0.58759,     0.58859,     0.58959,     0.59059,     0.59159,     0.59259,     0.59359,     0.59459,      0.5956,      0.5966,      0.5976,      0.5986,      0.5996,\n",
       "            0.6006,      0.6016,      0.6026,      0.6036,      0.6046,     0.60561,     0.60661,     0.60761,     0.60861,     0.60961,     0.61061,     0.61161,     0.61261,     0.61361,     0.61461,     0.61562,     0.61662,     0.61762,     0.61862,     0.61962,     0.62062,     0.62162,     0.62262,     0.62362,\n",
       "           0.62462,     0.62563,     0.62663,     0.62763,     0.62863,     0.62963,     0.63063,     0.63163,     0.63263,     0.63363,     0.63463,     0.63564,     0.63664,     0.63764,     0.63864,     0.63964,     0.64064,     0.64164,     0.64264,     0.64364,     0.64464,     0.64565,     0.64665,     0.64765,\n",
       "           0.64865,     0.64965,     0.65065,     0.65165,     0.65265,     0.65365,     0.65465,     0.65566,     0.65666,     0.65766,     0.65866,     0.65966,     0.66066,     0.66166,     0.66266,     0.66366,     0.66466,     0.66567,     0.66667,     0.66767,     0.66867,     0.66967,     0.67067,     0.67167,\n",
       "           0.67267,     0.67367,     0.67467,     0.67568,     0.67668,     0.67768,     0.67868,     0.67968,     0.68068,     0.68168,     0.68268,     0.68368,     0.68468,     0.68569,     0.68669,     0.68769,     0.68869,     0.68969,     0.69069,     0.69169,     0.69269,     0.69369,     0.69469,      0.6957,\n",
       "            0.6967,      0.6977,      0.6987,      0.6997,      0.7007,      0.7017,      0.7027,      0.7037,      0.7047,     0.70571,     0.70671,     0.70771,     0.70871,     0.70971,     0.71071,     0.71171,     0.71271,     0.71371,     0.71471,     0.71572,     0.71672,     0.71772,     0.71872,     0.71972,\n",
       "           0.72072,     0.72172,     0.72272,     0.72372,     0.72472,     0.72573,     0.72673,     0.72773,     0.72873,     0.72973,     0.73073,     0.73173,     0.73273,     0.73373,     0.73473,     0.73574,     0.73674,     0.73774,     0.73874,     0.73974,     0.74074,     0.74174,     0.74274,     0.74374,\n",
       "           0.74474,     0.74575,     0.74675,     0.74775,     0.74875,     0.74975,     0.75075,     0.75175,     0.75275,     0.75375,     0.75475,     0.75576,     0.75676,     0.75776,     0.75876,     0.75976,     0.76076,     0.76176,     0.76276,     0.76376,     0.76476,     0.76577,     0.76677,     0.76777,\n",
       "           0.76877,     0.76977,     0.77077,     0.77177,     0.77277,     0.77377,     0.77477,     0.77578,     0.77678,     0.77778,     0.77878,     0.77978,     0.78078,     0.78178,     0.78278,     0.78378,     0.78478,     0.78579,     0.78679,     0.78779,     0.78879,     0.78979,     0.79079,     0.79179,\n",
       "           0.79279,     0.79379,     0.79479,      0.7958,      0.7968,      0.7978,      0.7988,      0.7998,      0.8008,      0.8018,      0.8028,      0.8038,      0.8048,     0.80581,     0.80681,     0.80781,     0.80881,     0.80981,     0.81081,     0.81181,     0.81281,     0.81381,     0.81481,     0.81582,\n",
       "           0.81682,     0.81782,     0.81882,     0.81982,     0.82082,     0.82182,     0.82282,     0.82382,     0.82482,     0.82583,     0.82683,     0.82783,     0.82883,     0.82983,     0.83083,     0.83183,     0.83283,     0.83383,     0.83483,     0.83584,     0.83684,     0.83784,     0.83884,     0.83984,\n",
       "           0.84084,     0.84184,     0.84284,     0.84384,     0.84484,     0.84585,     0.84685,     0.84785,     0.84885,     0.84985,     0.85085,     0.85185,     0.85285,     0.85385,     0.85485,     0.85586,     0.85686,     0.85786,     0.85886,     0.85986,     0.86086,     0.86186,     0.86286,     0.86386,\n",
       "           0.86486,     0.86587,     0.86687,     0.86787,     0.86887,     0.86987,     0.87087,     0.87187,     0.87287,     0.87387,     0.87487,     0.87588,     0.87688,     0.87788,     0.87888,     0.87988,     0.88088,     0.88188,     0.88288,     0.88388,     0.88488,     0.88589,     0.88689,     0.88789,\n",
       "           0.88889,     0.88989,     0.89089,     0.89189,     0.89289,     0.89389,     0.89489,      0.8959,      0.8969,      0.8979,      0.8989,      0.8999,      0.9009,      0.9019,      0.9029,      0.9039,      0.9049,     0.90591,     0.90691,     0.90791,     0.90891,     0.90991,     0.91091,     0.91191,\n",
       "           0.91291,     0.91391,     0.91491,     0.91592,     0.91692,     0.91792,     0.91892,     0.91992,     0.92092,     0.92192,     0.92292,     0.92392,     0.92492,     0.92593,     0.92693,     0.92793,     0.92893,     0.92993,     0.93093,     0.93193,     0.93293,     0.93393,     0.93493,     0.93594,\n",
       "           0.93694,     0.93794,     0.93894,     0.93994,     0.94094,     0.94194,     0.94294,     0.94394,     0.94494,     0.94595,     0.94695,     0.94795,     0.94895,     0.94995,     0.95095,     0.95195,     0.95295,     0.95395,     0.95495,     0.95596,     0.95696,     0.95796,     0.95896,     0.95996,\n",
       "           0.96096,     0.96196,     0.96296,     0.96396,     0.96496,     0.96597,     0.96697,     0.96797,     0.96897,     0.96997,     0.97097,     0.97197,     0.97297,     0.97397,     0.97497,     0.97598,     0.97698,     0.97798,     0.97898,     0.97998,     0.98098,     0.98198,     0.98298,     0.98398,\n",
       "           0.98498,     0.98599,     0.98699,     0.98799,     0.98899,     0.98999,     0.99099,     0.99199,     0.99299,     0.99399,     0.99499,       0.996,       0.997,       0.998,       0.999,           1]), array([[    0.87179,     0.87179,     0.84615, ...,           0,           0,           0],\n",
       "       [    0.94737,     0.94737,     0.94737, ...,           0,           0,           0]]), 'Confidence', 'Recall']]\n",
       "fitness: 0.42884468977806955\n",
       "keys: ['metrics/precision(B)', 'metrics/recall(B)', 'metrics/mAP50(B)', 'metrics/mAP50-95(B)']\n",
       "maps: array([    0.33357,      0.4994])\n",
       "names: {0: 'negative', 1: 'positive'}\n",
       "plot: True\n",
       "results_dict: {'metrics/precision(B)': 0.4645725092725167, 'metrics/recall(B)': 0.6911570391631602, 'metrics/mAP50(B)': 0.5400877592150823, 'metrics/mAP50-95(B)': 0.41648434872951257, 'fitness': 0.42884468977806955}\n",
       "save_dir: PosixPath('runs/detect/test/test_all')\n",
       "speed: {'preprocess': 0.19648415701729913, 'inference': 3.2141378947666714, 'loss': 0.000759533473423549, 'postprocess': 1.8789495740618025}\n",
       "task: 'detect'"
      ]
     },
     "execution_count": 13,
     "metadata": {},
     "output_type": "execute_result"
    }
   ],
   "source": [
    "# test\n",
    "experiment_name = 'test'\n",
    "work_name = 'all' #이름수정주의\n",
    "train_dir = os.path.join('runs', experiment_name, f'{experiment_name}_{work_name}')\n",
    "\n",
    "if os.path.exists(train_dir):\n",
    "    shutil.rmtree(train_dir)\n",
    "\n",
    "train_model.val(name=os.path.join(experiment_name, f'{experiment_name}_{work_name}'), split=\"test\")"
   ]
  },
  {
   "cell_type": "code",
   "execution_count": 14,
   "metadata": {},
   "outputs": [
    {
     "name": "stdout",
     "output_type": "stream",
     "text": [
      "\n",
      "image 1/70 /home/under1/Detect/jeongui/all/base/images/test/00000_102.jpg: 640x640 1 positive, 8.7ms\n",
      "image 2/70 /home/under1/Detect/jeongui/all/base/images/test/00000_121.jpg: 640x640 1 positive, 8.7ms\n",
      "image 3/70 /home/under1/Detect/jeongui/all/base/images/test/00000_140.jpg: 640x640 1 positive, 8.7ms\n",
      "image 4/70 /home/under1/Detect/jeongui/all/base/images/test/00000_159.jpg: 640x640 1 positive, 8.7ms\n",
      "image 5/70 /home/under1/Detect/jeongui/all/base/images/test/00002_110.jpg: 640x640 1 positive, 8.7ms\n",
      "image 6/70 /home/under1/Detect/jeongui/all/base/images/test/00002_129.jpg: 640x640 1 positive, 6.7ms\n",
      "image 7/70 /home/under1/Detect/jeongui/all/base/images/test/00002_147.jpg: 640x640 1 positive, 6.6ms\n",
      "image 8/70 /home/under1/Detect/jeongui/all/base/images/test/00002_166.jpg: 640x640 1 negative, 1 positive, 6.8ms\n",
      "image 9/70 /home/under1/Detect/jeongui/all/base/images/test/00003_154.jpg: 640x640 1 negative, 6.6ms\n",
      "image 10/70 /home/under1/Detect/jeongui/all/base/images/test/00003_173.jpg: 640x640 1 negative, 6.7ms\n",
      "image 11/70 /home/under1/Detect/jeongui/all/base/images/test/00003_192.jpg: 640x640 1 negative, 6.5ms\n",
      "image 12/70 /home/under1/Detect/jeongui/all/base/images/test/00003_211.jpg: 640x640 1 positive, 6.6ms\n",
      "image 13/70 /home/under1/Detect/jeongui/all/base/images/test/00005_106.jpg: 640x640 3 positives, 6.5ms\n",
      "image 14/70 /home/under1/Detect/jeongui/all/base/images/test/00005_125.jpg: 640x640 1 negative, 6.5ms\n",
      "image 15/70 /home/under1/Detect/jeongui/all/base/images/test/00005_143.jpg: 640x640 1 negative, 6.9ms\n",
      "image 16/70 /home/under1/Detect/jeongui/all/base/images/test/00006_137.jpg: 640x640 1 negative, 1 positive, 6.7ms\n",
      "image 17/70 /home/under1/Detect/jeongui/all/base/images/test/00006_156.jpg: 640x640 1 negative, 1 positive, 6.5ms\n",
      "image 18/70 /home/under1/Detect/jeongui/all/base/images/test/00006_174.jpg: 640x640 1 negative, 1 positive, 6.7ms\n",
      "image 19/70 /home/under1/Detect/jeongui/all/base/images/test/00006_192.jpg: 640x640 1 negative, 1 positive, 7.0ms\n",
      "image 20/70 /home/under1/Detect/jeongui/all/base/images/test/00006_210.jpg: 640x640 1 positive, 7.0ms\n",
      "image 21/70 /home/under1/Detect/jeongui/all/base/images/test/00008_178.jpg: 640x640 (no detections), 6.8ms\n",
      "image 22/70 /home/under1/Detect/jeongui/all/base/images/test/00009_110.jpg: 640x640 1 positive, 6.8ms\n",
      "image 23/70 /home/under1/Detect/jeongui/all/base/images/test/00009_184.jpg: 640x640 (no detections), 7.0ms\n",
      "image 24/70 /home/under1/Detect/jeongui/all/base/images/test/00011_277.jpg: 640x640 1 positive, 6.6ms\n",
      "image 25/70 /home/under1/Detect/jeongui/all/base/images/test/00012_181.jpg: 640x640 1 positive, 6.7ms\n",
      "image 26/70 /home/under1/Detect/jeongui/all/base/images/test/00017_187.jpg: 640x640 1 positive, 7.0ms\n",
      "image 27/70 /home/under1/Detect/jeongui/all/base/images/test/00021_178.jpg: 640x640 1 positive, 7.0ms\n",
      "image 28/70 /home/under1/Detect/jeongui/all/base/images/test/00022_199.jpg: 640x640 (no detections), 6.9ms\n",
      "image 29/70 /home/under1/Detect/jeongui/all/base/images/test/00022_218.jpg: 640x640 1 positive, 6.7ms\n",
      "image 30/70 /home/under1/Detect/jeongui/all/base/images/test/00022_237.jpg: 640x640 2 positives, 7.0ms\n",
      "image 31/70 /home/under1/Detect/jeongui/all/base/images/test/00022_256.jpg: 640x640 1 negative, 2 positives, 8.8ms\n",
      "image 32/70 /home/under1/Detect/jeongui/all/base/images/test/00022_275.jpg: 640x640 2 positives, 7.2ms\n",
      "image 33/70 /home/under1/Detect/jeongui/all/base/images/test/00026_118.jpg: 640x640 1 negative, 4 positives, 7.5ms\n",
      "image 34/70 /home/under1/Detect/jeongui/all/base/images/test/00026_97.jpg: 640x640 1 positive, 7.3ms\n",
      "image 35/70 /home/under1/Detect/jeongui/all/base/images/test/00030_194.jpg: 640x640 1 positive, 7.4ms\n",
      "image 36/70 /home/under1/Detect/jeongui/all/base/images/test/00030_215.jpg: 640x640 1 negative, 2 positives, 7.3ms\n",
      "image 37/70 /home/under1/Detect/jeongui/all/base/images/test/00030_236.jpg: 640x640 1 positive, 7.4ms\n",
      "image 38/70 /home/under1/Detect/jeongui/all/base/images/test/00030_257.jpg: 640x640 1 negative, 7.3ms\n",
      "image 39/70 /home/under1/Detect/jeongui/all/base/images/test/00031_163.jpg: 640x640 (no detections), 7.4ms\n",
      "image 40/70 /home/under1/Detect/jeongui/all/base/images/test/00031_236.jpg: 640x640 1 positive, 7.4ms\n",
      "image 41/70 /home/under1/Detect/jeongui/all/base/images/test/00031_255.jpg: 640x640 1 positive, 7.2ms\n",
      "image 42/70 /home/under1/Detect/jeongui/all/base/images/test/00031_273.jpg: 640x640 1 positive, 7.3ms\n",
      "image 43/70 /home/under1/Detect/jeongui/all/base/images/test/00032_77.jpg: 640x640 1 positive, 7.2ms\n",
      "image 44/70 /home/under1/Detect/jeongui/all/base/images/test/00032_96.jpg: 640x640 1 negative, 6.7ms\n",
      "image 45/70 /home/under1/Detect/jeongui/all/base/images/test/00035_111.jpg: 640x640 1 negative, 6.8ms\n",
      "image 46/70 /home/under1/Detect/jeongui/all/base/images/test/00035_129.jpg: 640x640 1 negative, 1 positive, 6.9ms\n",
      "image 47/70 /home/under1/Detect/jeongui/all/base/images/test/00035_148.jpg: 640x640 1 negative, 6.9ms\n",
      "image 48/70 /home/under1/Detect/jeongui/all/base/images/test/00036_103.jpg: 640x640 1 negative, 1 positive, 7.1ms\n",
      "image 49/70 /home/under1/Detect/jeongui/all/base/images/test/00036_122.jpg: 640x640 1 positive, 7.2ms\n",
      "image 50/70 /home/under1/Detect/jeongui/all/base/images/test/00036_142.jpg: 640x640 1 negative, 1 positive, 6.8ms\n",
      "image 51/70 /home/under1/Detect/jeongui/all/base/images/test/00036_162.jpg: 640x640 2 positives, 6.6ms\n",
      "image 52/70 /home/under1/Detect/jeongui/all/base/images/test/00043_96.jpg: 640x640 1 positive, 6.8ms\n",
      "image 53/70 /home/under1/Detect/jeongui/all/base/images/test/00045_117.jpg: 640x640 1 positive, 6.9ms\n",
      "image 54/70 /home/under1/Detect/jeongui/all/base/images/test/00045_77.jpg: 640x640 1 positive, 6.8ms\n",
      "image 55/70 /home/under1/Detect/jeongui/all/base/images/test/00045_97.jpg: 640x640 1 positive, 6.6ms\n",
      "image 56/70 /home/under1/Detect/jeongui/all/base/images/test/00048_102.jpg: 640x640 1 positive, 6.5ms\n",
      "image 57/70 /home/under1/Detect/jeongui/all/base/images/test/00048_121.jpg: 640x640 1 positive, 6.8ms\n",
      "image 58/70 /home/under1/Detect/jeongui/all/base/images/test/00048_82.jpg: 640x640 1 positive, 6.7ms\n",
      "image 59/70 /home/under1/Detect/jeongui/all/base/images/test/00049_102.jpg: 640x640 1 negative, 6.8ms\n",
      "image 60/70 /home/under1/Detect/jeongui/all/base/images/test/00049_122.jpg: 640x640 1 negative, 6.8ms\n",
      "image 61/70 /home/under1/Detect/jeongui/all/base/images/test/00049_142.jpg: 640x640 1 positive, 6.7ms\n",
      "image 62/70 /home/under1/Detect/jeongui/all/base/images/test/00053_125.jpg: 640x640 2 positives, 6.6ms\n",
      "image 63/70 /home/under1/Detect/jeongui/all/base/images/test/00053_145.jpg: 640x640 1 positive, 6.6ms\n",
      "image 64/70 /home/under1/Detect/jeongui/all/base/images/test/00053_165.jpg: 640x640 1 positive, 6.7ms\n",
      "image 65/70 /home/under1/Detect/jeongui/all/base/images/test/00053_203.jpg: 640x640 1 negative, 6.5ms\n",
      "image 66/70 /home/under1/Detect/jeongui/all/base/images/test/00053_85.jpg: 640x640 1 negative, 6.7ms\n",
      "image 67/70 /home/under1/Detect/jeongui/all/base/images/test/00054_107.jpg: 640x640 1 negative, 6.6ms\n",
      "image 68/70 /home/under1/Detect/jeongui/all/base/images/test/00054_126.jpg: 640x640 2 positives, 6.6ms\n",
      "image 69/70 /home/under1/Detect/jeongui/all/base/images/test/00054_88.jpg: 640x640 1 negative, 6.4ms\n",
      "image 70/70 /home/under1/Detect/jeongui/all/base/images/test/00061_89.jpg: 640x640 1 negative, 1 positive, 6.5ms\n",
      "Speed: 3.0ms preprocess, 7.0ms inference, 1.0ms postprocess per image at shape (1, 3, 640, 640)\n",
      "Results saved to \u001b[1mruns/detect/predict\u001b[0m\n"
     ]
    }
   ],
   "source": [
    "test_image = './images/test'\n",
    "predict_results = train_model.predict(test_image, save=True, save_dir='./runs/detect/predict')"
   ]
  },
  {
   "cell_type": "code",
   "execution_count": 15,
   "metadata": {},
   "outputs": [
    {
     "name": "stdout",
     "output_type": "stream",
     "text": [
      "\n",
      "0: 640x640 1 positive, 9.4ms\n",
      "Speed: 3.7ms preprocess, 9.4ms inference, 1.4ms postprocess per image at shape (1, 3, 640, 640)\n",
      "Processed 89 (5).jpg, saved to ./runs/detect/heatmap/heatmap_89 (5).jpg\n",
      "\n",
      "0: 640x640 1 negative, 9.1ms\n",
      "Speed: 3.5ms preprocess, 9.1ms inference, 1.3ms postprocess per image at shape (1, 3, 640, 640)\n",
      "Processed 00110_162.jpg, saved to ./runs/detect/heatmap/heatmap_00110_162.jpg\n",
      "\n",
      "0: 640x640 1 positive, 8.8ms\n",
      "Speed: 3.1ms preprocess, 8.8ms inference, 1.3ms postprocess per image at shape (1, 3, 640, 640)\n",
      "Processed 00281_116.jpg, saved to ./runs/detect/heatmap/heatmap_00281_116.jpg\n",
      "\n",
      "0: 640x640 1 positive, 9.0ms\n",
      "Speed: 3.5ms preprocess, 9.0ms inference, 1.3ms postprocess per image at shape (1, 3, 640, 640)\n",
      "Processed 67 (5).jpg, saved to ./runs/detect/heatmap/heatmap_67 (5).jpg\n",
      "\n",
      "0: 640x640 1 negative, 8.6ms\n",
      "Speed: 3.4ms preprocess, 8.6ms inference, 1.1ms postprocess per image at shape (1, 3, 640, 640)\n",
      "Processed 104.jpg, saved to ./runs/detect/heatmap/heatmap_104.jpg\n",
      "\n",
      "0: 640x640 1 negative, 7.2ms\n",
      "Speed: 2.7ms preprocess, 7.2ms inference, 1.1ms postprocess per image at shape (1, 3, 640, 640)\n",
      "Processed 00095_170.jpg, saved to ./runs/detect/heatmap/heatmap_00095_170.jpg\n",
      "\n",
      "0: 640x640 1 positive, 6.9ms\n",
      "Speed: 2.7ms preprocess, 6.9ms inference, 1.0ms postprocess per image at shape (1, 3, 640, 640)\n",
      "Processed 64 (8).jpg, saved to ./runs/detect/heatmap/heatmap_64 (8).jpg\n",
      "\n",
      "0: 640x640 1 negative, 6.9ms\n",
      "Speed: 2.7ms preprocess, 6.9ms inference, 1.0ms postprocess per image at shape (1, 3, 640, 640)\n",
      "Processed 63 (2).jpg, saved to ./runs/detect/heatmap/heatmap_63 (2).jpg\n",
      "\n",
      "0: 640x640 1 negative, 7.1ms\n",
      "Speed: 2.8ms preprocess, 7.1ms inference, 1.0ms postprocess per image at shape (1, 3, 640, 640)\n",
      "Processed 00095_188.jpg, saved to ./runs/detect/heatmap/heatmap_00095_188.jpg\n",
      "\n",
      "0: 640x640 1 positive, 7.0ms\n",
      "Speed: 2.7ms preprocess, 7.0ms inference, 1.0ms postprocess per image at shape (1, 3, 640, 640)\n",
      "Processed 00071_259.jpg, saved to ./runs/detect/heatmap/heatmap_00071_259.jpg\n",
      "\n",
      "0: 640x640 1 positive, 7.1ms\n",
      "Speed: 2.7ms preprocess, 7.1ms inference, 1.0ms postprocess per image at shape (1, 3, 640, 640)\n",
      "Processed 93 (6).jpg, saved to ./runs/detect/heatmap/heatmap_93 (6).jpg\n",
      "\n",
      "0: 640x640 1 negative, 6.8ms\n",
      "Speed: 2.4ms preprocess, 6.8ms inference, 1.0ms postprocess per image at shape (1, 3, 640, 640)\n",
      "Processed 00123_10.jpg, saved to ./runs/detect/heatmap/heatmap_00123_10.jpg\n",
      "\n",
      "0: 640x640 1 negative, 7.0ms\n",
      "Speed: 2.7ms preprocess, 7.0ms inference, 1.0ms postprocess per image at shape (1, 3, 640, 640)\n",
      "Processed 71.jpg, saved to ./runs/detect/heatmap/heatmap_71.jpg\n",
      "\n",
      "0: 640x640 1 positive, 8.7ms\n",
      "Speed: 2.7ms preprocess, 8.7ms inference, 1.0ms postprocess per image at shape (1, 3, 640, 640)\n",
      "Processed 00059_122.jpg, saved to ./runs/detect/heatmap/heatmap_00059_122.jpg\n",
      "\n",
      "0: 640x640 1 negative, 6.8ms\n",
      "Speed: 2.7ms preprocess, 6.8ms inference, 1.0ms postprocess per image at shape (1, 3, 640, 640)\n",
      "Processed 81 (4).jpg, saved to ./runs/detect/heatmap/heatmap_81 (4).jpg\n",
      "\n",
      "0: 640x576 1 negative, 98.1ms\n",
      "Speed: 2.2ms preprocess, 98.1ms inference, 1.2ms postprocess per image at shape (1, 3, 640, 576)\n",
      "Processed 00124_9.jpg, saved to ./runs/detect/heatmap/heatmap_00124_9.jpg\n",
      "\n",
      "0: 640x640 1 negative, 8.0ms\n",
      "Speed: 2.8ms preprocess, 8.0ms inference, 1.1ms postprocess per image at shape (1, 3, 640, 640)\n",
      "Processed 89.jpg, saved to ./runs/detect/heatmap/heatmap_89.jpg\n",
      "\n",
      "0: 640x640 1 positive, 7.1ms\n",
      "Speed: 2.9ms preprocess, 7.1ms inference, 1.0ms postprocess per image at shape (1, 3, 640, 640)\n",
      "Processed 00177_125.jpg, saved to ./runs/detect/heatmap/heatmap_00177_125.jpg\n",
      "\n",
      "0: 640x640 1 negative, 7.1ms\n",
      "Speed: 2.7ms preprocess, 7.1ms inference, 1.0ms postprocess per image at shape (1, 3, 640, 640)\n",
      "Processed 62 (4).jpg, saved to ./runs/detect/heatmap/heatmap_62 (4).jpg\n",
      "\n",
      "0: 640x640 1 negative, 7.2ms\n",
      "Speed: 2.8ms preprocess, 7.2ms inference, 1.0ms postprocess per image at shape (1, 3, 640, 640)\n",
      "Processed 79 (6).jpg, saved to ./runs/detect/heatmap/heatmap_79 (6).jpg\n",
      "\n",
      "0: 640x576 1 negative, 7.5ms\n",
      "Speed: 2.3ms preprocess, 7.5ms inference, 1.0ms postprocess per image at shape (1, 3, 640, 576)\n",
      "Processed 00124_10.jpg, saved to ./runs/detect/heatmap/heatmap_00124_10.jpg\n",
      "\n",
      "0: 640x640 1 negative, 7.6ms\n",
      "Speed: 2.5ms preprocess, 7.6ms inference, 1.0ms postprocess per image at shape (1, 3, 640, 640)\n",
      "Processed 00097_79.jpg, saved to ./runs/detect/heatmap/heatmap_00097_79.jpg\n",
      "\n",
      "0: 640x640 1 negative, 7.0ms\n",
      "Speed: 2.7ms preprocess, 7.0ms inference, 1.0ms postprocess per image at shape (1, 3, 640, 640)\n",
      "Processed 00133_247.jpg, saved to ./runs/detect/heatmap/heatmap_00133_247.jpg\n",
      "\n",
      "0: 640x640 1 negative, 6.9ms\n",
      "Speed: 2.8ms preprocess, 6.9ms inference, 1.0ms postprocess per image at shape (1, 3, 640, 640)\n",
      "Processed 108.jpg, saved to ./runs/detect/heatmap/heatmap_108.jpg\n",
      "\n",
      "0: 640x640 1 positive, 6.9ms\n",
      "Speed: 2.5ms preprocess, 6.9ms inference, 0.9ms postprocess per image at shape (1, 3, 640, 640)\n",
      "Processed 00281_124.jpg, saved to ./runs/detect/heatmap/heatmap_00281_124.jpg\n",
      "\n",
      "0: 640x640 1 positive, 7.1ms\n",
      "Speed: 2.7ms preprocess, 7.1ms inference, 1.0ms postprocess per image at shape (1, 3, 640, 640)\n",
      "Processed 92 (6).jpg, saved to ./runs/detect/heatmap/heatmap_92 (6).jpg\n",
      "\n",
      "0: 640x640 1 negative, 7.1ms\n",
      "Speed: 2.9ms preprocess, 7.1ms inference, 1.0ms postprocess per image at shape (1, 3, 640, 640)\n",
      "Processed 80.jpg, saved to ./runs/detect/heatmap/heatmap_80.jpg\n",
      "\n",
      "0: 640x640 2 negatives, 7.0ms\n",
      "Speed: 2.6ms preprocess, 7.0ms inference, 1.0ms postprocess per image at shape (1, 3, 640, 640)\n",
      "Processed 71 (3).jpg, saved to ./runs/detect/heatmap/heatmap_71 (3).jpg\n",
      "\n",
      "0: 640x640 1 negative, 7.2ms\n",
      "Speed: 2.8ms preprocess, 7.2ms inference, 1.0ms postprocess per image at shape (1, 3, 640, 640)\n",
      "Processed 00192_191.jpg, saved to ./runs/detect/heatmap/heatmap_00192_191.jpg\n",
      "\n",
      "0: 640x480 1 positive, 15.5ms\n",
      "Speed: 2.0ms preprocess, 15.5ms inference, 1.0ms postprocess per image at shape (1, 3, 640, 480)\n",
      "Processed 00304_113.jpg, saved to ./runs/detect/heatmap/heatmap_00304_113.jpg\n",
      "\n",
      "0: 640x640 1 positive, 7.4ms\n",
      "Speed: 2.7ms preprocess, 7.4ms inference, 0.9ms postprocess per image at shape (1, 3, 640, 640)\n",
      "Processed 00128_243.jpg, saved to ./runs/detect/heatmap/heatmap_00128_243.jpg\n",
      "\n",
      "0: 640x640 1 negative, 1 positive, 7.0ms\n",
      "Speed: 2.8ms preprocess, 7.0ms inference, 1.0ms postprocess per image at shape (1, 3, 640, 640)\n",
      "Processed 72 (4).jpg, saved to ./runs/detect/heatmap/heatmap_72 (4).jpg\n",
      "\n",
      "0: 640x480 1 positive, 7.6ms\n",
      "Speed: 1.9ms preprocess, 7.6ms inference, 1.0ms postprocess per image at shape (1, 3, 640, 480)\n",
      "Processed 00360_102.jpg, saved to ./runs/detect/heatmap/heatmap_00360_102.jpg\n",
      "\n",
      "0: 640x480 1 negative, 6.9ms\n",
      "Speed: 2.1ms preprocess, 6.9ms inference, 0.9ms postprocess per image at shape (1, 3, 640, 480)\n",
      "Processed 00172_102.jpg, saved to ./runs/detect/heatmap/heatmap_00172_102.jpg\n",
      "\n",
      "0: 640x640 1 positive, 7.3ms\n",
      "Speed: 2.7ms preprocess, 7.3ms inference, 0.9ms postprocess per image at shape (1, 3, 640, 640)\n",
      "Processed 78 (4).jpg, saved to ./runs/detect/heatmap/heatmap_78 (4).jpg\n",
      "\n",
      "0: 640x640 1 negative, 7.1ms\n",
      "Speed: 2.8ms preprocess, 7.1ms inference, 1.0ms postprocess per image at shape (1, 3, 640, 640)\n",
      "Processed 00123_241.jpg, saved to ./runs/detect/heatmap/heatmap_00123_241.jpg\n",
      "\n",
      "0: 640x640 1 negative, 7.1ms\n",
      "Speed: 2.7ms preprocess, 7.1ms inference, 1.0ms postprocess per image at shape (1, 3, 640, 640)\n",
      "Processed 00104_168.jpg, saved to ./runs/detect/heatmap/heatmap_00104_168.jpg\n",
      "\n",
      "0: 640x640 1 positive, 6.9ms\n",
      "Speed: 2.7ms preprocess, 6.9ms inference, 1.0ms postprocess per image at shape (1, 3, 640, 640)\n",
      "Processed 00138_217.jpg, saved to ./runs/detect/heatmap/heatmap_00138_217.jpg\n",
      "\n",
      "0: 640x640 1 negative, 7.3ms\n",
      "Speed: 2.6ms preprocess, 7.3ms inference, 1.0ms postprocess per image at shape (1, 3, 640, 640)\n",
      "Processed 00165_176.jpg, saved to ./runs/detect/heatmap/heatmap_00165_176.jpg\n",
      "\n",
      "0: 640x480 1 positive, 7.5ms\n",
      "Speed: 2.0ms preprocess, 7.5ms inference, 1.0ms postprocess per image at shape (1, 3, 640, 480)\n",
      "Processed 00296_132.jpg, saved to ./runs/detect/heatmap/heatmap_00296_132.jpg\n",
      "\n",
      "0: 640x640 1 positive, 7.5ms\n",
      "Speed: 2.7ms preprocess, 7.5ms inference, 1.1ms postprocess per image at shape (1, 3, 640, 640)\n",
      "Processed 70 (6).jpg, saved to ./runs/detect/heatmap/heatmap_70 (6).jpg\n",
      "\n",
      "0: 640x640 1 positive, 7.3ms\n",
      "Speed: 2.8ms preprocess, 7.3ms inference, 1.0ms postprocess per image at shape (1, 3, 640, 640)\n",
      "Processed 65 (6).jpg, saved to ./runs/detect/heatmap/heatmap_65 (6).jpg\n",
      "\n",
      "0: 640x640 1 negative, 6.9ms\n",
      "Speed: 2.6ms preprocess, 6.9ms inference, 0.9ms postprocess per image at shape (1, 3, 640, 640)\n",
      "Processed 76 (3).jpg, saved to ./runs/detect/heatmap/heatmap_76 (3).jpg\n",
      "\n",
      "0: 640x640 1 positive, 7.1ms\n",
      "Speed: 2.7ms preprocess, 7.1ms inference, 1.0ms postprocess per image at shape (1, 3, 640, 640)\n",
      "Processed 00060_72.jpg, saved to ./runs/detect/heatmap/heatmap_00060_72.jpg\n",
      "\n",
      "0: 640x640 1 negative, 6.9ms\n",
      "Speed: 2.7ms preprocess, 6.9ms inference, 1.1ms postprocess per image at shape (1, 3, 640, 640)\n",
      "Processed 95 (2).jpg, saved to ./runs/detect/heatmap/heatmap_95 (2).jpg\n",
      "\n",
      "0: 640x640 1 positive, 7.1ms\n",
      "Speed: 2.8ms preprocess, 7.1ms inference, 1.0ms postprocess per image at shape (1, 3, 640, 640)\n",
      "Processed 64 (7).jpg, saved to ./runs/detect/heatmap/heatmap_64 (7).jpg\n",
      "\n",
      "0: 640x640 1 negative, 7.3ms\n",
      "Speed: 2.4ms preprocess, 7.3ms inference, 1.1ms postprocess per image at shape (1, 3, 640, 640)\n",
      "Processed 106 (2).jpg, saved to ./runs/detect/heatmap/heatmap_106 (2).jpg\n",
      "\n",
      "0: 640x480 1 positive, 7.4ms\n",
      "Speed: 2.0ms preprocess, 7.4ms inference, 1.0ms postprocess per image at shape (1, 3, 640, 480)\n",
      "Processed 00340_121.jpg, saved to ./runs/detect/heatmap/heatmap_00340_121.jpg\n",
      "\n",
      "0: 640x640 1 positive, 7.5ms\n",
      "Speed: 2.7ms preprocess, 7.5ms inference, 1.0ms postprocess per image at shape (1, 3, 640, 640)\n",
      "Processed 00074_249.jpg, saved to ./runs/detect/heatmap/heatmap_00074_249.jpg\n",
      "\n",
      "0: 640x480 1 positive, 7.4ms\n",
      "Speed: 1.9ms preprocess, 7.4ms inference, 0.9ms postprocess per image at shape (1, 3, 640, 480)\n",
      "Processed 00282_83.jpg, saved to ./runs/detect/heatmap/heatmap_00282_83.jpg\n",
      "\n",
      "0: 640x480 1 negative, 6.7ms\n",
      "Speed: 2.0ms preprocess, 6.7ms inference, 1.0ms postprocess per image at shape (1, 3, 640, 480)\n",
      "Processed 00176_89.jpg, saved to ./runs/detect/heatmap/heatmap_00176_89.jpg\n",
      "\n",
      "0: 640x480 1 negative, 6.8ms\n",
      "Speed: 1.9ms preprocess, 6.8ms inference, 0.9ms postprocess per image at shape (1, 3, 640, 480)\n",
      "Processed 00165_123.jpg, saved to ./runs/detect/heatmap/heatmap_00165_123.jpg\n",
      "\n",
      "0: 640x640 1 positive, 7.3ms\n",
      "Speed: 2.7ms preprocess, 7.3ms inference, 0.9ms postprocess per image at shape (1, 3, 640, 640)\n",
      "Processed 00159_189.jpg, saved to ./runs/detect/heatmap/heatmap_00159_189.jpg\n",
      "\n",
      "0: 640x480 1 positive, 7.7ms\n",
      "Speed: 1.9ms preprocess, 7.7ms inference, 1.0ms postprocess per image at shape (1, 3, 640, 480)\n",
      "Processed 00350_139.jpg, saved to ./runs/detect/heatmap/heatmap_00350_139.jpg\n",
      "\n",
      "0: 640x640 1 negative, 7.3ms\n",
      "Speed: 2.7ms preprocess, 7.3ms inference, 0.9ms postprocess per image at shape (1, 3, 640, 640)\n",
      "Processed 69 (3).jpg, saved to ./runs/detect/heatmap/heatmap_69 (3).jpg\n",
      "\n",
      "0: 640x640 1 positive, 7.1ms\n",
      "Speed: 2.8ms preprocess, 7.1ms inference, 1.0ms postprocess per image at shape (1, 3, 640, 640)\n",
      "Processed 76 (10).jpg, saved to ./runs/detect/heatmap/heatmap_76 (10).jpg\n",
      "\n",
      "0: 640x640 1 positive, 6.8ms\n",
      "Speed: 2.7ms preprocess, 6.8ms inference, 1.0ms postprocess per image at shape (1, 3, 640, 640)\n",
      "Processed 80 (6).jpg, saved to ./runs/detect/heatmap/heatmap_80 (6).jpg\n",
      "\n",
      "0: 640x640 1 positive, 6.9ms\n",
      "Speed: 2.7ms preprocess, 6.9ms inference, 1.0ms postprocess per image at shape (1, 3, 640, 640)\n",
      "Processed 67 (8).jpg, saved to ./runs/detect/heatmap/heatmap_67 (8).jpg\n",
      "\n",
      "0: 640x640 1 positive, 9.0ms\n",
      "Speed: 2.7ms preprocess, 9.0ms inference, 1.1ms postprocess per image at shape (1, 3, 640, 640)\n",
      "Processed 00177_221.jpg, saved to ./runs/detect/heatmap/heatmap_00177_221.jpg\n",
      "\n",
      "0: 640x640 1 negative, 6.9ms\n",
      "Speed: 2.4ms preprocess, 6.9ms inference, 1.0ms postprocess per image at shape (1, 3, 640, 640)\n",
      "Processed 109.jpg, saved to ./runs/detect/heatmap/heatmap_109.jpg\n",
      "\n",
      "0: 640x544 1 positive, 100.8ms\n",
      "Speed: 2.4ms preprocess, 100.8ms inference, 1.1ms postprocess per image at shape (1, 3, 640, 544)\n",
      "Processed 00291_24.jpg, saved to ./runs/detect/heatmap/heatmap_00291_24.jpg\n",
      "\n",
      "0: 640x640 1 negative, 7.9ms\n",
      "Speed: 2.6ms preprocess, 7.9ms inference, 1.0ms postprocess per image at shape (1, 3, 640, 640)\n",
      "Processed 00130_114.jpg, saved to ./runs/detect/heatmap/heatmap_00130_114.jpg\n",
      "\n",
      "0: 640x640 1 positive, 7.4ms\n",
      "Speed: 2.6ms preprocess, 7.4ms inference, 1.1ms postprocess per image at shape (1, 3, 640, 640)\n",
      "Processed 00359_115.jpg, saved to ./runs/detect/heatmap/heatmap_00359_115.jpg\n",
      "\n",
      "0: 640x640 1 positive, 6.9ms\n",
      "Speed: 2.7ms preprocess, 6.9ms inference, 1.0ms postprocess per image at shape (1, 3, 640, 640)\n",
      "Processed 74 (12).jpg, saved to ./runs/detect/heatmap/heatmap_74 (12).jpg\n",
      "\n",
      "0: 640x544 2 negatives, 7.7ms\n",
      "Speed: 2.4ms preprocess, 7.7ms inference, 1.0ms postprocess per image at shape (1, 3, 640, 544)\n",
      "Processed 00112_10.jpg, saved to ./runs/detect/heatmap/heatmap_00112_10.jpg\n",
      "\n",
      "0: 640x640 1 positive, 7.7ms\n",
      "Speed: 2.7ms preprocess, 7.7ms inference, 1.0ms postprocess per image at shape (1, 3, 640, 640)\n",
      "Processed 00317_22.jpg, saved to ./runs/detect/heatmap/heatmap_00317_22.jpg\n",
      "\n",
      "0: 640x640 1 negative, 6.8ms\n",
      "Speed: 2.7ms preprocess, 6.8ms inference, 1.0ms postprocess per image at shape (1, 3, 640, 640)\n",
      "Processed 75 (3).jpg, saved to ./runs/detect/heatmap/heatmap_75 (3).jpg\n",
      "\n",
      "0: 640x640 1 positive, 7.2ms\n",
      "Speed: 2.7ms preprocess, 7.2ms inference, 1.0ms postprocess per image at shape (1, 3, 640, 640)\n",
      "Processed 102 (3).jpg, saved to ./runs/detect/heatmap/heatmap_102 (3).jpg\n",
      "\n",
      "0: 640x480 1 positive, 7.4ms\n",
      "Speed: 1.9ms preprocess, 7.4ms inference, 1.0ms postprocess per image at shape (1, 3, 640, 480)\n",
      "Processed 00263_117.jpg, saved to ./runs/detect/heatmap/heatmap_00263_117.jpg\n",
      "\n",
      "0: 640x640 1 negative, 7.5ms\n",
      "Speed: 2.8ms preprocess, 7.5ms inference, 1.0ms postprocess per image at shape (1, 3, 640, 640)\n",
      "Processed 72 (5).jpg, saved to ./runs/detect/heatmap/heatmap_72 (5).jpg\n",
      "\n",
      "0: 640x480 1 positive, 7.4ms\n",
      "Speed: 1.9ms preprocess, 7.4ms inference, 1.0ms postprocess per image at shape (1, 3, 640, 480)\n",
      "Processed 00311_105.jpg, saved to ./runs/detect/heatmap/heatmap_00311_105.jpg\n",
      "\n",
      "0: 640x640 1 negative, 7.6ms\n",
      "Speed: 2.7ms preprocess, 7.6ms inference, 0.9ms postprocess per image at shape (1, 3, 640, 640)\n",
      "Processed 00137_264.jpg, saved to ./runs/detect/heatmap/heatmap_00137_264.jpg\n",
      "\n",
      "0: 640x480 2 positives, 8.2ms\n",
      "Speed: 2.0ms preprocess, 8.2ms inference, 1.0ms postprocess per image at shape (1, 3, 640, 480)\n",
      "Processed 00328_90.jpg, saved to ./runs/detect/heatmap/heatmap_00328_90.jpg\n",
      "\n",
      "0: 640x640 1 positive, 7.7ms\n",
      "Speed: 2.8ms preprocess, 7.7ms inference, 1.0ms postprocess per image at shape (1, 3, 640, 640)\n",
      "Processed 62 (13).jpg, saved to ./runs/detect/heatmap/heatmap_62 (13).jpg\n",
      "\n",
      "0: 640x640 1 positive, 7.4ms\n",
      "Speed: 2.8ms preprocess, 7.4ms inference, 1.0ms postprocess per image at shape (1, 3, 640, 640)\n",
      "Processed 00143_236.jpg, saved to ./runs/detect/heatmap/heatmap_00143_236.jpg\n",
      "\n",
      "0: 640x640 1 positive, 7.3ms\n",
      "Speed: 2.7ms preprocess, 7.3ms inference, 1.1ms postprocess per image at shape (1, 3, 640, 640)\n",
      "Processed 62 (14).jpg, saved to ./runs/detect/heatmap/heatmap_62 (14).jpg\n",
      "\n",
      "0: 640x640 1 negative, 7.0ms\n",
      "Speed: 2.4ms preprocess, 7.0ms inference, 1.0ms postprocess per image at shape (1, 3, 640, 640)\n",
      "Processed 00123_15.jpg, saved to ./runs/detect/heatmap/heatmap_00123_15.jpg\n",
      "\n",
      "0: 640x640 1 negative, 7.0ms\n",
      "Speed: 2.4ms preprocess, 7.0ms inference, 0.9ms postprocess per image at shape (1, 3, 640, 640)\n",
      "Processed 00097_80.jpg, saved to ./runs/detect/heatmap/heatmap_00097_80.jpg\n",
      "\n",
      "0: 640x640 1 positive, 6.9ms\n",
      "Speed: 2.8ms preprocess, 6.9ms inference, 1.0ms postprocess per image at shape (1, 3, 640, 640)\n",
      "Processed 72 (9).jpg, saved to ./runs/detect/heatmap/heatmap_72 (9).jpg\n",
      "\n",
      "0: 640x640 1 negative, 7.0ms\n",
      "Speed: 2.8ms preprocess, 7.0ms inference, 1.0ms postprocess per image at shape (1, 3, 640, 640)\n",
      "Processed 00095_201.jpg, saved to ./runs/detect/heatmap/heatmap_00095_201.jpg\n",
      "\n",
      "0: 640x640 1 negative, 7.0ms\n",
      "Speed: 2.4ms preprocess, 7.0ms inference, 0.9ms postprocess per image at shape (1, 3, 640, 640)\n",
      "Processed 00151_10.jpg, saved to ./runs/detect/heatmap/heatmap_00151_10.jpg\n",
      "\n",
      "0: 640x640 1 positive, 7.0ms\n",
      "Speed: 2.7ms preprocess, 7.0ms inference, 1.0ms postprocess per image at shape (1, 3, 640, 640)\n",
      "Processed 78 (5).jpg, saved to ./runs/detect/heatmap/heatmap_78 (5).jpg\n",
      "\n",
      "0: 640x640 1 negative, 7.1ms\n",
      "Speed: 2.8ms preprocess, 7.1ms inference, 1.0ms postprocess per image at shape (1, 3, 640, 640)\n",
      "Processed 79.jpg, saved to ./runs/detect/heatmap/heatmap_79.jpg\n",
      "\n",
      "0: 640x480 1 positive, 7.7ms\n",
      "Speed: 1.9ms preprocess, 7.7ms inference, 1.0ms postprocess per image at shape (1, 3, 640, 480)\n",
      "Processed 00306_102.jpg, saved to ./runs/detect/heatmap/heatmap_00306_102.jpg\n",
      "\n",
      "0: 640x640 1 positive, 7.4ms\n",
      "Speed: 2.7ms preprocess, 7.4ms inference, 1.1ms postprocess per image at shape (1, 3, 640, 640)\n",
      "Processed 00159_133.jpg, saved to ./runs/detect/heatmap/heatmap_00159_133.jpg\n",
      "\n",
      "0: 640x640 1 negative, 7.0ms\n",
      "Speed: 2.5ms preprocess, 7.0ms inference, 1.1ms postprocess per image at shape (1, 3, 640, 640)\n",
      "Processed 00099_154.jpg, saved to ./runs/detect/heatmap/heatmap_00099_154.jpg\n",
      "\n",
      "0: 640x640 1 positive, 6.7ms\n",
      "Speed: 2.7ms preprocess, 6.7ms inference, 0.9ms postprocess per image at shape (1, 3, 640, 640)\n",
      "Processed 00066_259.jpg, saved to ./runs/detect/heatmap/heatmap_00066_259.jpg\n",
      "\n",
      "0: 640x640 1 positive, 6.9ms\n",
      "Speed: 2.8ms preprocess, 6.9ms inference, 1.0ms postprocess per image at shape (1, 3, 640, 640)\n",
      "Processed 61 (4).jpg, saved to ./runs/detect/heatmap/heatmap_61 (4).jpg\n",
      "\n",
      "0: 640x640 1 positive, 7.3ms\n",
      "Speed: 2.7ms preprocess, 7.3ms inference, 1.0ms postprocess per image at shape (1, 3, 640, 640)\n",
      "Processed 00177_241.jpg, saved to ./runs/detect/heatmap/heatmap_00177_241.jpg\n",
      "\n",
      "0: 640x640 1 negative, 7.0ms\n",
      "Speed: 2.5ms preprocess, 7.0ms inference, 1.0ms postprocess per image at shape (1, 3, 640, 640)\n",
      "Processed 00097_68.jpg, saved to ./runs/detect/heatmap/heatmap_00097_68.jpg\n",
      "\n",
      "0: 640x640 1 positive, 7.1ms\n",
      "Speed: 2.7ms preprocess, 7.1ms inference, 1.0ms postprocess per image at shape (1, 3, 640, 640)\n",
      "Processed 00156_196.jpg, saved to ./runs/detect/heatmap/heatmap_00156_196.jpg\n",
      "\n",
      "0: 640x640 1 negative, 7.1ms\n",
      "Speed: 2.8ms preprocess, 7.1ms inference, 1.0ms postprocess per image at shape (1, 3, 640, 640)\n",
      "Processed 00132_130.jpg, saved to ./runs/detect/heatmap/heatmap_00132_130.jpg\n",
      "\n",
      "0: 640x640 1 negative, 7.3ms\n",
      "Speed: 2.5ms preprocess, 7.3ms inference, 1.0ms postprocess per image at shape (1, 3, 640, 640)\n",
      "Processed 00169_142.jpg, saved to ./runs/detect/heatmap/heatmap_00169_142.jpg\n",
      "\n",
      "0: 640x640 1 negative, 6.7ms\n",
      "Speed: 2.5ms preprocess, 6.7ms inference, 1.0ms postprocess per image at shape (1, 3, 640, 640)\n",
      "Processed 00122_10.jpg, saved to ./runs/detect/heatmap/heatmap_00122_10.jpg\n",
      "\n",
      "0: 640x640 1 negative, 7.0ms\n",
      "Speed: 2.4ms preprocess, 7.0ms inference, 1.0ms postprocess per image at shape (1, 3, 640, 640)\n",
      "Processed 00130_88.jpg, saved to ./runs/detect/heatmap/heatmap_00130_88.jpg\n",
      "\n",
      "0: 640x640 1 positive, 6.7ms\n",
      "Speed: 2.8ms preprocess, 6.7ms inference, 1.0ms postprocess per image at shape (1, 3, 640, 640)\n",
      "Processed 00071_240.jpg, saved to ./runs/detect/heatmap/heatmap_00071_240.jpg\n",
      "\n",
      "0: 640x640 1 positive, 7.3ms\n",
      "Speed: 2.8ms preprocess, 7.3ms inference, 1.1ms postprocess per image at shape (1, 3, 640, 640)\n",
      "Processed 00178_158.jpg, saved to ./runs/detect/heatmap/heatmap_00178_158.jpg\n",
      "\n",
      "0: 640x640 1 positive, 7.1ms\n",
      "Speed: 2.6ms preprocess, 7.1ms inference, 1.0ms postprocess per image at shape (1, 3, 640, 640)\n",
      "Processed 00060_71.jpg, saved to ./runs/detect/heatmap/heatmap_00060_71.jpg\n",
      "\n",
      "0: 640x480 2 positives, 7.3ms\n",
      "Speed: 1.9ms preprocess, 7.3ms inference, 1.0ms postprocess per image at shape (1, 3, 640, 480)\n",
      "Processed 00328_94.jpg, saved to ./runs/detect/heatmap/heatmap_00328_94.jpg\n",
      "\n",
      "0: 640x640 1 negative, 7.7ms\n",
      "Speed: 2.4ms preprocess, 7.7ms inference, 1.0ms postprocess per image at shape (1, 3, 640, 640)\n",
      "Processed 138.jpg, saved to ./runs/detect/heatmap/heatmap_138.jpg\n",
      "\n",
      "0: 640x640 1 negative, 6.8ms\n",
      "Speed: 2.8ms preprocess, 6.8ms inference, 1.0ms postprocess per image at shape (1, 3, 640, 640)\n",
      "Processed 65.jpg, saved to ./runs/detect/heatmap/heatmap_65.jpg\n",
      "\n",
      "0: 640x640 1 negative, 7.3ms\n",
      "Speed: 2.8ms preprocess, 7.3ms inference, 1.0ms postprocess per image at shape (1, 3, 640, 640)\n",
      "Processed 89 (3).jpg, saved to ./runs/detect/heatmap/heatmap_89 (3).jpg\n",
      "\n",
      "0: 640x640 1 positive, 6.7ms\n",
      "Speed: 2.7ms preprocess, 6.7ms inference, 0.9ms postprocess per image at shape (1, 3, 640, 640)\n",
      "Processed 00317_20.jpg, saved to ./runs/detect/heatmap/heatmap_00317_20.jpg\n",
      "\n",
      "0: 640x640 1 negative, 6.9ms\n",
      "Speed: 2.7ms preprocess, 6.9ms inference, 1.0ms postprocess per image at shape (1, 3, 640, 640)\n",
      "Processed 97.jpg, saved to ./runs/detect/heatmap/heatmap_97.jpg\n",
      "\n",
      "0: 640x480 1 positive, 8.1ms\n",
      "Speed: 2.0ms preprocess, 8.1ms inference, 1.0ms postprocess per image at shape (1, 3, 640, 480)\n",
      "Processed 00284_149.jpg, saved to ./runs/detect/heatmap/heatmap_00284_149.jpg\n",
      "\n",
      "0: 640x640 1 positive, 7.5ms\n",
      "Speed: 2.7ms preprocess, 7.5ms inference, 1.0ms postprocess per image at shape (1, 3, 640, 640)\n",
      "Processed 00056_147.jpg, saved to ./runs/detect/heatmap/heatmap_00056_147.jpg\n",
      "\n",
      "0: 640x640 1 negative, 7.2ms\n",
      "Speed: 2.7ms preprocess, 7.2ms inference, 1.1ms postprocess per image at shape (1, 3, 640, 640)\n",
      "Processed 96 (2).jpg, saved to ./runs/detect/heatmap/heatmap_96 (2).jpg\n",
      "\n",
      "0: 640x640 1 positive, 7.0ms\n",
      "Speed: 2.7ms preprocess, 7.0ms inference, 1.0ms postprocess per image at shape (1, 3, 640, 640)\n",
      "Processed 00100_119.jpg, saved to ./runs/detect/heatmap/heatmap_00100_119.jpg\n",
      "\n",
      "0: 640x480 1 negative, 7.4ms\n",
      "Speed: 1.9ms preprocess, 7.4ms inference, 1.0ms postprocess per image at shape (1, 3, 640, 480)\n",
      "Processed 00158_96.jpg, saved to ./runs/detect/heatmap/heatmap_00158_96.jpg\n",
      "\n",
      "0: 640x640 1 negative, 7.5ms\n",
      "Speed: 2.7ms preprocess, 7.5ms inference, 1.0ms postprocess per image at shape (1, 3, 640, 640)\n",
      "Processed 83 (2).jpg, saved to ./runs/detect/heatmap/heatmap_83 (2).jpg\n",
      "\n",
      "0: 640x640 1 negative, 7.1ms\n",
      "Speed: 2.8ms preprocess, 7.1ms inference, 1.0ms postprocess per image at shape (1, 3, 640, 640)\n",
      "Processed 61 (3).jpg, saved to ./runs/detect/heatmap/heatmap_61 (3).jpg\n",
      "\n",
      "0: 640x640 1 positive, 7.4ms\n",
      "Speed: 2.8ms preprocess, 7.4ms inference, 1.1ms postprocess per image at shape (1, 3, 640, 640)\n",
      "Processed 64 (6).jpg, saved to ./runs/detect/heatmap/heatmap_64 (6).jpg\n",
      "\n",
      "0: 640x640 1 positive, 7.0ms\n",
      "Speed: 2.7ms preprocess, 7.0ms inference, 1.1ms postprocess per image at shape (1, 3, 640, 640)\n",
      "Processed 97 (2).jpg, saved to ./runs/detect/heatmap/heatmap_97 (2).jpg\n",
      "\n",
      "0: 640x640 1 negative, 7.1ms\n",
      "Speed: 2.5ms preprocess, 7.1ms inference, 1.1ms postprocess per image at shape (1, 3, 640, 640)\n",
      "Processed 118.jpg, saved to ./runs/detect/heatmap/heatmap_118.jpg\n",
      "\n",
      "0: 640x640 1 positive, 6.9ms\n",
      "Speed: 2.8ms preprocess, 6.9ms inference, 1.0ms postprocess per image at shape (1, 3, 640, 640)\n",
      "Processed 76 (8).jpg, saved to ./runs/detect/heatmap/heatmap_76 (8).jpg\n",
      "\n",
      "0: 640x480 1 positive, 7.5ms\n",
      "Speed: 1.9ms preprocess, 7.5ms inference, 1.0ms postprocess per image at shape (1, 3, 640, 480)\n",
      "Processed 00250_121.jpg, saved to ./runs/detect/heatmap/heatmap_00250_121.jpg\n",
      "\n",
      "0: 640x640 1 negative, 1 positive, 7.7ms\n",
      "Speed: 2.8ms preprocess, 7.7ms inference, 1.0ms postprocess per image at shape (1, 3, 640, 640)\n",
      "Processed 72 (11).jpg, saved to ./runs/detect/heatmap/heatmap_72 (11).jpg\n",
      "\n",
      "0: 640x640 1 negative, 7.0ms\n",
      "Speed: 2.5ms preprocess, 7.0ms inference, 1.0ms postprocess per image at shape (1, 3, 640, 640)\n",
      "Processed 00130_107.jpg, saved to ./runs/detect/heatmap/heatmap_00130_107.jpg\n",
      "\n",
      "0: 640x640 1 negative, 7.1ms\n",
      "Speed: 2.7ms preprocess, 7.1ms inference, 1.0ms postprocess per image at shape (1, 3, 640, 640)\n",
      "Processed 74 (5).jpg, saved to ./runs/detect/heatmap/heatmap_74 (5).jpg\n",
      "\n",
      "0: 640x480 1 positive, 7.4ms\n",
      "Speed: 1.9ms preprocess, 7.4ms inference, 1.0ms postprocess per image at shape (1, 3, 640, 480)\n",
      "Processed 00271_122.jpg, saved to ./runs/detect/heatmap/heatmap_00271_122.jpg\n",
      "\n",
      "0: 640x640 1 negative, 7.5ms\n",
      "Speed: 2.5ms preprocess, 7.5ms inference, 0.9ms postprocess per image at shape (1, 3, 640, 640)\n",
      "Processed 116.jpg, saved to ./runs/detect/heatmap/heatmap_116.jpg\n",
      "\n",
      "0: 640x480 1 negative, 7.4ms\n",
      "Speed: 1.9ms preprocess, 7.4ms inference, 1.0ms postprocess per image at shape (1, 3, 640, 480)\n",
      "Processed 00158_102.jpg, saved to ./runs/detect/heatmap/heatmap_00158_102.jpg\n",
      "\n",
      "0: 640x480 1 positive, 6.9ms\n",
      "Speed: 1.9ms preprocess, 6.9ms inference, 1.0ms postprocess per image at shape (1, 3, 640, 480)\n",
      "Processed 00260_136.jpg, saved to ./runs/detect/heatmap/heatmap_00260_136.jpg\n",
      "\n",
      "0: 640x640 2 negatives, 7.4ms\n",
      "Speed: 2.9ms preprocess, 7.4ms inference, 1.0ms postprocess per image at shape (1, 3, 640, 640)\n",
      "Processed 00142_144.jpg, saved to ./runs/detect/heatmap/heatmap_00142_144.jpg\n",
      "\n",
      "0: 640x480 2 positives, 7.4ms\n",
      "Speed: 1.9ms preprocess, 7.4ms inference, 0.9ms postprocess per image at shape (1, 3, 640, 480)\n",
      "Processed 00322_122.jpg, saved to ./runs/detect/heatmap/heatmap_00322_122.jpg\n",
      "\n",
      "0: 640x640 1 negative, 7.5ms\n",
      "Speed: 2.7ms preprocess, 7.5ms inference, 1.0ms postprocess per image at shape (1, 3, 640, 640)\n",
      "Processed 00090_112.jpg, saved to ./runs/detect/heatmap/heatmap_00090_112.jpg\n",
      "\n",
      "0: 640x640 1 negative, 6.9ms\n",
      "Speed: 2.9ms preprocess, 6.9ms inference, 1.0ms postprocess per image at shape (1, 3, 640, 640)\n",
      "Processed 00110_147.jpg, saved to ./runs/detect/heatmap/heatmap_00110_147.jpg\n",
      "\n",
      "0: 640x640 1 negative, 6.9ms\n",
      "Speed: 2.7ms preprocess, 6.9ms inference, 1.0ms postprocess per image at shape (1, 3, 640, 640)\n",
      "Processed 00151_162.jpg, saved to ./runs/detect/heatmap/heatmap_00151_162.jpg\n",
      "\n",
      "0: 640x640 1 negative, 7.3ms\n",
      "Speed: 2.7ms preprocess, 7.3ms inference, 1.0ms postprocess per image at shape (1, 3, 640, 640)\n",
      "Processed 00122_90.jpg, saved to ./runs/detect/heatmap/heatmap_00122_90.jpg\n",
      "\n",
      "0: 640x640 1 positive, 6.9ms\n",
      "Speed: 2.7ms preprocess, 6.9ms inference, 0.9ms postprocess per image at shape (1, 3, 640, 640)\n",
      "Processed 00056_92.jpg, saved to ./runs/detect/heatmap/heatmap_00056_92.jpg\n",
      "\n",
      "0: 640x480 1 positive, 7.6ms\n",
      "Speed: 2.1ms preprocess, 7.6ms inference, 1.0ms postprocess per image at shape (1, 3, 640, 480)\n",
      "Processed 00332_141.jpg, saved to ./runs/detect/heatmap/heatmap_00332_141.jpg\n",
      "\n",
      "0: 640x640 1 negative, 7.4ms\n",
      "Speed: 2.8ms preprocess, 7.4ms inference, 1.1ms postprocess per image at shape (1, 3, 640, 640)\n",
      "Processed 64 (4).jpg, saved to ./runs/detect/heatmap/heatmap_64 (4).jpg\n",
      "\n",
      "0: 640x576 1 negative, 7.6ms\n",
      "Speed: 2.4ms preprocess, 7.6ms inference, 1.0ms postprocess per image at shape (1, 3, 640, 576)\n",
      "Processed 00124_7.jpg, saved to ./runs/detect/heatmap/heatmap_00124_7.jpg\n",
      "\n",
      "0: 640x640 1 negative, 7.5ms\n",
      "Speed: 2.8ms preprocess, 7.5ms inference, 1.0ms postprocess per image at shape (1, 3, 640, 640)\n",
      "Processed 00061_146.jpg, saved to ./runs/detect/heatmap/heatmap_00061_146.jpg\n",
      "\n",
      "0: 640x640 1 negative, 7.1ms\n",
      "Speed: 2.9ms preprocess, 7.1ms inference, 1.0ms postprocess per image at shape (1, 3, 640, 640)\n",
      "Processed 98.jpg, saved to ./runs/detect/heatmap/heatmap_98.jpg\n",
      "\n",
      "0: 640x640 1 positive, 7.1ms\n",
      "Speed: 2.7ms preprocess, 7.1ms inference, 1.0ms postprocess per image at shape (1, 3, 640, 640)\n",
      "Processed 103 (2).jpg, saved to ./runs/detect/heatmap/heatmap_103 (2).jpg\n",
      "\n",
      "0: 640x640 1 positive, 7.1ms\n",
      "Speed: 2.7ms preprocess, 7.1ms inference, 1.0ms postprocess per image at shape (1, 3, 640, 640)\n",
      "Processed 73 (5).jpg, saved to ./runs/detect/heatmap/heatmap_73 (5).jpg\n",
      "\n",
      "0: 640x640 1 negative, 7.1ms\n",
      "Speed: 2.8ms preprocess, 7.1ms inference, 1.0ms postprocess per image at shape (1, 3, 640, 640)\n",
      "Processed 00158_256.jpg, saved to ./runs/detect/heatmap/heatmap_00158_256.jpg\n",
      "\n",
      "0: 640x640 1 positive, 7.0ms\n",
      "Speed: 2.8ms preprocess, 7.0ms inference, 1.0ms postprocess per image at shape (1, 3, 640, 640)\n",
      "Processed 68 (5).jpg, saved to ./runs/detect/heatmap/heatmap_68 (5).jpg\n",
      "\n",
      "0: 640x640 1 positive, 7.1ms\n",
      "Speed: 2.8ms preprocess, 7.1ms inference, 1.0ms postprocess per image at shape (1, 3, 640, 640)\n",
      "Processed 00107_118.jpg, saved to ./runs/detect/heatmap/heatmap_00107_118.jpg\n",
      "\n",
      "0: 640x640 1 negative, 7.1ms\n",
      "Speed: 2.4ms preprocess, 7.1ms inference, 1.1ms postprocess per image at shape (1, 3, 640, 640)\n",
      "Processed 115.jpg, saved to ./runs/detect/heatmap/heatmap_115.jpg\n",
      "\n",
      "0: 640x640 1 positive, 6.9ms\n",
      "Speed: 2.6ms preprocess, 6.9ms inference, 1.0ms postprocess per image at shape (1, 3, 640, 640)\n",
      "Processed 00338_15.jpg, saved to ./runs/detect/heatmap/heatmap_00338_15.jpg\n",
      "\n",
      "0: 640x640 1 negative, 7.1ms\n",
      "Speed: 2.8ms preprocess, 7.1ms inference, 1.0ms postprocess per image at shape (1, 3, 640, 640)\n",
      "Processed 00191_143.jpg, saved to ./runs/detect/heatmap/heatmap_00191_143.jpg\n",
      "\n",
      "0: 640x640 1 positive, 7.3ms\n",
      "Speed: 2.9ms preprocess, 7.3ms inference, 1.0ms postprocess per image at shape (1, 3, 640, 640)\n",
      "Processed 00058_122.jpg, saved to ./runs/detect/heatmap/heatmap_00058_122.jpg\n",
      "\n",
      "0: 640x480 1 positive, 7.7ms\n",
      "Speed: 2.1ms preprocess, 7.7ms inference, 1.0ms postprocess per image at shape (1, 3, 640, 480)\n",
      "Processed 00271_134.jpg, saved to ./runs/detect/heatmap/heatmap_00271_134.jpg\n",
      "\n",
      "0: 640x640 3 positives, 7.7ms\n",
      "Speed: 2.8ms preprocess, 7.7ms inference, 1.0ms postprocess per image at shape (1, 3, 640, 640)\n",
      "Processed 67 (7).jpg, saved to ./runs/detect/heatmap/heatmap_67 (7).jpg\n",
      "\n",
      "0: 640x640 1 negative, 7.1ms\n",
      "Speed: 2.8ms preprocess, 7.1ms inference, 1.0ms postprocess per image at shape (1, 3, 640, 640)\n",
      "Processed 80 (3).jpg, saved to ./runs/detect/heatmap/heatmap_80 (3).jpg\n",
      "\n",
      "0: 640x640 1 positive, 7.0ms\n",
      "Speed: 2.5ms preprocess, 7.0ms inference, 1.0ms postprocess per image at shape (1, 3, 640, 640)\n",
      "Processed 00305_116.jpg, saved to ./runs/detect/heatmap/heatmap_00305_116.jpg\n",
      "\n",
      "0: 640x640 1 negative, 7.2ms\n",
      "Speed: 2.7ms preprocess, 7.2ms inference, 1.0ms postprocess per image at shape (1, 3, 640, 640)\n",
      "Processed 95.jpg, saved to ./runs/detect/heatmap/heatmap_95.jpg\n",
      "\n",
      "0: 640x544 1 negative, 7.8ms\n",
      "Speed: 2.4ms preprocess, 7.8ms inference, 1.0ms postprocess per image at shape (1, 3, 640, 544)\n",
      "Processed 00112_12.jpg, saved to ./runs/detect/heatmap/heatmap_00112_12.jpg\n",
      "\n",
      "0: 640x640 1 positive, 7.6ms\n",
      "Speed: 2.8ms preprocess, 7.6ms inference, 1.0ms postprocess per image at shape (1, 3, 640, 640)\n",
      "Processed 80 (7).jpg, saved to ./runs/detect/heatmap/heatmap_80 (7).jpg\n",
      "\n",
      "0: 640x480 1 positive, 7.8ms\n",
      "Speed: 2.0ms preprocess, 7.8ms inference, 1.0ms postprocess per image at shape (1, 3, 640, 480)\n",
      "Processed 00322_153.jpg, saved to ./runs/detect/heatmap/heatmap_00322_153.jpg\n",
      "\n",
      "0: 640x480 1 positive, 7.0ms\n",
      "Speed: 2.0ms preprocess, 7.0ms inference, 1.0ms postprocess per image at shape (1, 3, 640, 480)\n",
      "Processed 00334_91.jpg, saved to ./runs/detect/heatmap/heatmap_00334_91.jpg\n",
      "\n",
      "0: 640x576 1 positive, 7.6ms\n",
      "Speed: 2.7ms preprocess, 7.6ms inference, 1.0ms postprocess per image at shape (1, 3, 640, 576)\n",
      "Processed 00294_22.jpg, saved to ./runs/detect/heatmap/heatmap_00294_22.jpg\n",
      "\n",
      "0: 640x640 1 negative, 7.5ms\n",
      "Speed: 2.5ms preprocess, 7.5ms inference, 1.1ms postprocess per image at shape (1, 3, 640, 640)\n",
      "Processed 00122_9.jpg, saved to ./runs/detect/heatmap/heatmap_00122_9.jpg\n",
      "\n",
      "0: 640x640 1 positive, 9.0ms\n",
      "Speed: 2.7ms preprocess, 9.0ms inference, 1.0ms postprocess per image at shape (1, 3, 640, 640)\n",
      "Processed 104 (3).jpg, saved to ./runs/detect/heatmap/heatmap_104 (3).jpg\n",
      "\n",
      "0: 640x640 1 positive, 7.1ms\n",
      "Speed: 2.9ms preprocess, 7.1ms inference, 1.0ms postprocess per image at shape (1, 3, 640, 640)\n",
      "Processed 00159_171.jpg, saved to ./runs/detect/heatmap/heatmap_00159_171.jpg\n",
      "\n",
      "0: 640x640 1 negative, 7.0ms\n",
      "Speed: 2.5ms preprocess, 7.0ms inference, 1.0ms postprocess per image at shape (1, 3, 640, 640)\n",
      "Processed 00097_81.jpg, saved to ./runs/detect/heatmap/heatmap_00097_81.jpg\n",
      "\n",
      "0: 640x640 1 negative, 7.3ms\n",
      "Speed: 2.8ms preprocess, 7.3ms inference, 1.0ms postprocess per image at shape (1, 3, 640, 640)\n",
      "Processed 00095_200.jpg, saved to ./runs/detect/heatmap/heatmap_00095_200.jpg\n",
      "\n",
      "0: 640x640 1 negative, 7.1ms\n",
      "Speed: 2.8ms preprocess, 7.1ms inference, 1.0ms postprocess per image at shape (1, 3, 640, 640)\n",
      "Processed 69 (2).jpg, saved to ./runs/detect/heatmap/heatmap_69 (2).jpg\n",
      "\n",
      "0: 640x480 1 negative, 7.9ms\n",
      "Speed: 2.0ms preprocess, 7.9ms inference, 1.1ms postprocess per image at shape (1, 3, 640, 480)\n",
      "Processed 00167_125.jpg, saved to ./runs/detect/heatmap/heatmap_00167_125.jpg\n",
      "\n",
      "0: 640x640 1 negative, 7.6ms\n",
      "Speed: 2.7ms preprocess, 7.6ms inference, 0.9ms postprocess per image at shape (1, 3, 640, 640)\n",
      "Processed 73.jpg, saved to ./runs/detect/heatmap/heatmap_73.jpg\n",
      "\n",
      "0: 640x640 1 negative, 7.2ms\n",
      "Speed: 2.8ms preprocess, 7.2ms inference, 1.0ms postprocess per image at shape (1, 3, 640, 640)\n",
      "Processed 00192_244.jpg, saved to ./runs/detect/heatmap/heatmap_00192_244.jpg\n",
      "\n",
      "0: 640x640 1 positive, 7.4ms\n",
      "Speed: 2.7ms preprocess, 7.4ms inference, 1.0ms postprocess per image at shape (1, 3, 640, 640)\n",
      "Processed 75 (8).jpg, saved to ./runs/detect/heatmap/heatmap_75 (8).jpg\n",
      "\n",
      "0: 640x640 1 positive, 7.1ms\n",
      "Speed: 2.8ms preprocess, 7.1ms inference, 1.0ms postprocess per image at shape (1, 3, 640, 640)\n",
      "Processed 65 (10).jpg, saved to ./runs/detect/heatmap/heatmap_65 (10).jpg\n",
      "\n",
      "0: 640x640 1 positive, 7.4ms\n",
      "Speed: 2.8ms preprocess, 7.4ms inference, 1.0ms postprocess per image at shape (1, 3, 640, 640)\n",
      "Processed 00058_141.jpg, saved to ./runs/detect/heatmap/heatmap_00058_141.jpg\n",
      "\n",
      "0: 640x640 1 positive, 7.1ms\n",
      "Speed: 2.7ms preprocess, 7.1ms inference, 1.0ms postprocess per image at shape (1, 3, 640, 640)\n",
      "Processed 65 (12).jpg, saved to ./runs/detect/heatmap/heatmap_65 (12).jpg\n",
      "\n",
      "0: 640x640 1 negative, 7.2ms\n",
      "Speed: 2.8ms preprocess, 7.2ms inference, 1.0ms postprocess per image at shape (1, 3, 640, 640)\n",
      "Processed 70 (4).jpg, saved to ./runs/detect/heatmap/heatmap_70 (4).jpg\n",
      "\n",
      "0: 640x480 1 positive, 7.9ms\n",
      "Speed: 1.9ms preprocess, 7.9ms inference, 1.0ms postprocess per image at shape (1, 3, 640, 480)\n",
      "Processed 00313_133.jpg, saved to ./runs/detect/heatmap/heatmap_00313_133.jpg\n",
      "\n",
      "0: 640x640 1 positive, 7.6ms\n",
      "Speed: 2.7ms preprocess, 7.6ms inference, 1.0ms postprocess per image at shape (1, 3, 640, 640)\n",
      "Processed 00317_28.jpg, saved to ./runs/detect/heatmap/heatmap_00317_28.jpg\n",
      "\n",
      "0: 640x640 1 positive, 7.5ms\n",
      "Speed: 2.9ms preprocess, 7.5ms inference, 1.0ms postprocess per image at shape (1, 3, 640, 640)\n",
      "Processed 91 (5).jpg, saved to ./runs/detect/heatmap/heatmap_91 (5).jpg\n",
      "\n",
      "0: 640x480 1 positive, 7.6ms\n",
      "Speed: 2.0ms preprocess, 7.6ms inference, 0.9ms postprocess per image at shape (1, 3, 640, 480)\n",
      "Processed 00334_114.jpg, saved to ./runs/detect/heatmap/heatmap_00334_114.jpg\n",
      "\n",
      "0: 640x640 1 positive, 7.6ms\n",
      "Speed: 2.7ms preprocess, 7.6ms inference, 1.0ms postprocess per image at shape (1, 3, 640, 640)\n",
      "Processed 65 (9).jpg, saved to ./runs/detect/heatmap/heatmap_65 (9).jpg\n",
      "\n",
      "0: 640x640 1 negative, 7.0ms\n",
      "Speed: 2.8ms preprocess, 7.0ms inference, 1.0ms postprocess per image at shape (1, 3, 640, 640)\n",
      "Processed 105.jpg, saved to ./runs/detect/heatmap/heatmap_105.jpg\n",
      "\n",
      "0: 640x640 1 negative, 7.0ms\n",
      "Speed: 2.7ms preprocess, 7.0ms inference, 0.9ms postprocess per image at shape (1, 3, 640, 640)\n",
      "Processed 68 (3).jpg, saved to ./runs/detect/heatmap/heatmap_68 (3).jpg\n",
      "\n",
      "0: 640x640 1 negative, 7.3ms\n",
      "Speed: 2.4ms preprocess, 7.3ms inference, 1.1ms postprocess per image at shape (1, 3, 640, 640)\n",
      "Processed 00151_14.jpg, saved to ./runs/detect/heatmap/heatmap_00151_14.jpg\n",
      "\n",
      "0: 640x640 1 negative, 7.1ms\n",
      "Speed: 2.7ms preprocess, 7.1ms inference, 0.9ms postprocess per image at shape (1, 3, 640, 640)\n",
      "Processed 66.jpg, saved to ./runs/detect/heatmap/heatmap_66.jpg\n",
      "\n",
      "0: 640x576 1 negative, 7.7ms\n",
      "Speed: 2.4ms preprocess, 7.7ms inference, 1.0ms postprocess per image at shape (1, 3, 640, 576)\n",
      "Processed 00124_11.jpg, saved to ./runs/detect/heatmap/heatmap_00124_11.jpg\n",
      "\n",
      "0: 640x640 1 positive, 7.6ms\n",
      "Speed: 2.8ms preprocess, 7.6ms inference, 1.0ms postprocess per image at shape (1, 3, 640, 640)\n",
      "Processed 76 (7).jpg, saved to ./runs/detect/heatmap/heatmap_76 (7).jpg\n",
      "\n",
      "0: 640x640 1 negative, 7.1ms\n",
      "Speed: 2.7ms preprocess, 7.1ms inference, 1.1ms postprocess per image at shape (1, 3, 640, 640)\n",
      "Processed 76 (6).jpg, saved to ./runs/detect/heatmap/heatmap_76 (6).jpg\n",
      "\n",
      "0: 640x480 1 positive, 7.5ms\n",
      "Speed: 2.0ms preprocess, 7.5ms inference, 0.9ms postprocess per image at shape (1, 3, 640, 480)\n",
      "Processed 00271_117.jpg, saved to ./runs/detect/heatmap/heatmap_00271_117.jpg\n",
      "\n",
      "0: 640x640 1 negative, 7.6ms\n",
      "Speed: 2.8ms preprocess, 7.6ms inference, 1.0ms postprocess per image at shape (1, 3, 640, 640)\n",
      "Processed 92.jpg, saved to ./runs/detect/heatmap/heatmap_92.jpg\n",
      "\n",
      "0: 640x640 1 positive, 7.1ms\n",
      "Speed: 2.7ms preprocess, 7.1ms inference, 0.9ms postprocess per image at shape (1, 3, 640, 640)\n",
      "Processed 67 (11).jpg, saved to ./runs/detect/heatmap/heatmap_67 (11).jpg\n",
      "\n",
      "0: 640x640 1 negative, 7.2ms\n",
      "Speed: 2.5ms preprocess, 7.2ms inference, 0.9ms postprocess per image at shape (1, 3, 640, 640)\n",
      "Processed 00104_18.jpg, saved to ./runs/detect/heatmap/heatmap_00104_18.jpg\n",
      "\n",
      "0: 640x640 1 negative, 7.1ms\n",
      "Speed: 2.7ms preprocess, 7.1ms inference, 0.9ms postprocess per image at shape (1, 3, 640, 640)\n",
      "Processed 85.jpg, saved to ./runs/detect/heatmap/heatmap_85.jpg\n",
      "\n",
      "0: 640x640 1 positive, 7.2ms\n",
      "Speed: 2.8ms preprocess, 7.2ms inference, 1.0ms postprocess per image at shape (1, 3, 640, 640)\n",
      "Processed 83 (5).jpg, saved to ./runs/detect/heatmap/heatmap_83 (5).jpg\n",
      "\n",
      "0: 640x640 1 negative, 7.2ms\n",
      "Speed: 2.7ms preprocess, 7.2ms inference, 1.0ms postprocess per image at shape (1, 3, 640, 640)\n",
      "Processed 107.jpg, saved to ./runs/detect/heatmap/heatmap_107.jpg\n",
      "\n",
      "0: 640x480 1 positive, 7.5ms\n",
      "Speed: 1.9ms preprocess, 7.5ms inference, 1.0ms postprocess per image at shape (1, 3, 640, 480)\n",
      "Processed 00296_130.jpg, saved to ./runs/detect/heatmap/heatmap_00296_130.jpg\n",
      "\n",
      "0: 640x640 1 positive, 7.5ms\n",
      "Speed: 2.7ms preprocess, 7.5ms inference, 0.9ms postprocess per image at shape (1, 3, 640, 640)\n",
      "Processed 00059_141.jpg, saved to ./runs/detect/heatmap/heatmap_00059_141.jpg\n",
      "\n",
      "0: 640x640 1 negative, 7.1ms\n",
      "Speed: 2.8ms preprocess, 7.1ms inference, 1.0ms postprocess per image at shape (1, 3, 640, 640)\n",
      "Processed 76 (5).jpg, saved to ./runs/detect/heatmap/heatmap_76 (5).jpg\n",
      "\n",
      "0: 640x640 1 negative, 6.9ms\n",
      "Speed: 2.7ms preprocess, 6.9ms inference, 1.0ms postprocess per image at shape (1, 3, 640, 640)\n",
      "Processed 00147_115.jpg, saved to ./runs/detect/heatmap/heatmap_00147_115.jpg\n",
      "\n",
      "0: 640x640 1 negative, 7.1ms\n",
      "Speed: 2.7ms preprocess, 7.1ms inference, 1.1ms postprocess per image at shape (1, 3, 640, 640)\n",
      "Processed 65 (2).jpg, saved to ./runs/detect/heatmap/heatmap_65 (2).jpg\n",
      "\n",
      "0: 640x640 2 positives, 7.4ms\n",
      "Speed: 2.7ms preprocess, 7.4ms inference, 1.0ms postprocess per image at shape (1, 3, 640, 640)\n",
      "Processed 62 (9).jpg, saved to ./runs/detect/heatmap/heatmap_62 (9).jpg\n",
      "\n",
      "0: 640x640 1 positive, 7.5ms\n",
      "Speed: 2.6ms preprocess, 7.5ms inference, 1.1ms postprocess per image at shape (1, 3, 640, 640)\n",
      "Processed 00281_128.jpg, saved to ./runs/detect/heatmap/heatmap_00281_128.jpg\n",
      "\n",
      "0: 640x640 1 positive, 7.2ms\n",
      "Speed: 2.8ms preprocess, 7.2ms inference, 1.0ms postprocess per image at shape (1, 3, 640, 640)\n",
      "Processed 00078_219.jpg, saved to ./runs/detect/heatmap/heatmap_00078_219.jpg\n",
      "\n",
      "0: 640x480 1 positive, 7.6ms\n",
      "Speed: 1.9ms preprocess, 7.6ms inference, 1.1ms postprocess per image at shape (1, 3, 640, 480)\n",
      "Processed 00285_93.jpg, saved to ./runs/detect/heatmap/heatmap_00285_93.jpg\n",
      "\n",
      "0: 640x640 1 negative, 7.4ms\n",
      "Speed: 2.8ms preprocess, 7.4ms inference, 0.9ms postprocess per image at shape (1, 3, 640, 640)\n",
      "Processed 00172_91.jpg, saved to ./runs/detect/heatmap/heatmap_00172_91.jpg\n",
      "\n",
      "0: 640x640 1 positive, 7.5ms\n",
      "Speed: 2.8ms preprocess, 7.5ms inference, 1.1ms postprocess per image at shape (1, 3, 640, 640)\n",
      "Processed 00144_278.jpg, saved to ./runs/detect/heatmap/heatmap_00144_278.jpg\n",
      "\n",
      "0: 640x640 1 negative, 7.4ms\n",
      "Speed: 2.6ms preprocess, 7.4ms inference, 1.0ms postprocess per image at shape (1, 3, 640, 640)\n",
      "Processed 00169_112.jpg, saved to ./runs/detect/heatmap/heatmap_00169_112.jpg\n",
      "\n",
      "0: 640x640 1 negative, 7.0ms\n",
      "Speed: 2.7ms preprocess, 7.0ms inference, 0.9ms postprocess per image at shape (1, 3, 640, 640)\n",
      "Processed 00169_243.jpg, saved to ./runs/detect/heatmap/heatmap_00169_243.jpg\n",
      "\n",
      "0: 640x640 1 positive, 7.2ms\n",
      "Speed: 2.8ms preprocess, 7.2ms inference, 1.1ms postprocess per image at shape (1, 3, 640, 640)\n",
      "Processed 00058_179.jpg, saved to ./runs/detect/heatmap/heatmap_00058_179.jpg\n",
      "\n",
      "0: 640x640 1 negative, 7.0ms\n",
      "Speed: 2.7ms preprocess, 7.0ms inference, 1.0ms postprocess per image at shape (1, 3, 640, 640)\n",
      "Processed 65 (5).jpg, saved to ./runs/detect/heatmap/heatmap_65 (5).jpg\n",
      "\n",
      "0: 640x640 1 negative, 7.4ms\n",
      "Speed: 2.8ms preprocess, 7.4ms inference, 1.0ms postprocess per image at shape (1, 3, 640, 640)\n",
      "Processed 00151_145.jpg, saved to ./runs/detect/heatmap/heatmap_00151_145.jpg\n",
      "\n",
      "0: 640x640 1 positive, 7.3ms\n",
      "Speed: 2.7ms preprocess, 7.3ms inference, 1.2ms postprocess per image at shape (1, 3, 640, 640)\n",
      "Processed 79 (12).jpg, saved to ./runs/detect/heatmap/heatmap_79 (12).jpg\n",
      "\n",
      "0: 640x640 1 positive, 7.4ms\n",
      "Speed: 2.7ms preprocess, 7.4ms inference, 1.0ms postprocess per image at shape (1, 3, 640, 640)\n",
      "Processed 00143_254.jpg, saved to ./runs/detect/heatmap/heatmap_00143_254.jpg\n",
      "\n",
      "0: 640x640 1 positive, 7.3ms\n",
      "Speed: 2.8ms preprocess, 7.3ms inference, 2.7ms postprocess per image at shape (1, 3, 640, 640)\n",
      "Processed 65 (11).jpg, saved to ./runs/detect/heatmap/heatmap_65 (11).jpg\n",
      "\n",
      "0: 640x480 1 negative, 8.1ms\n",
      "Speed: 2.3ms preprocess, 8.1ms inference, 1.1ms postprocess per image at shape (1, 3, 640, 480)\n",
      "Processed 00116_13.jpg, saved to ./runs/detect/heatmap/heatmap_00116_13.jpg\n",
      "\n",
      "0: 640x640 1 negative, 7.4ms\n",
      "Speed: 2.8ms preprocess, 7.4ms inference, 1.0ms postprocess per image at shape (1, 3, 640, 640)\n",
      "Processed 00148_19.jpg, saved to ./runs/detect/heatmap/heatmap_00148_19.jpg\n",
      "\n",
      "0: 640x640 1 positive, 7.4ms\n",
      "Speed: 2.8ms preprocess, 7.4ms inference, 1.0ms postprocess per image at shape (1, 3, 640, 640)\n",
      "Processed 00100_136.jpg, saved to ./runs/detect/heatmap/heatmap_00100_136.jpg\n",
      "\n",
      "0: 640x640 1 positive, 7.1ms\n",
      "Speed: 2.7ms preprocess, 7.1ms inference, 1.0ms postprocess per image at shape (1, 3, 640, 640)\n",
      "Processed 00317_21.jpg, saved to ./runs/detect/heatmap/heatmap_00317_21.jpg\n",
      "\n",
      "0: 640x640 1 positive, 7.0ms\n",
      "Speed: 2.5ms preprocess, 7.0ms inference, 1.0ms postprocess per image at shape (1, 3, 640, 640)\n",
      "Processed 00359_109.jpg, saved to ./runs/detect/heatmap/heatmap_00359_109.jpg\n",
      "\n",
      "0: 640x640 1 negative, 7.2ms\n",
      "Speed: 2.5ms preprocess, 7.2ms inference, 1.0ms postprocess per image at shape (1, 3, 640, 640)\n",
      "Processed 110 (2).jpg, saved to ./runs/detect/heatmap/heatmap_110 (2).jpg\n",
      "\n",
      "0: 640x480 2 positives, 7.5ms\n",
      "Speed: 2.2ms preprocess, 7.5ms inference, 0.9ms postprocess per image at shape (1, 3, 640, 480)\n",
      "Processed 00340_126.jpg, saved to ./runs/detect/heatmap/heatmap_00340_126.jpg\n",
      "\n",
      "0: 640x640 1 positive, 7.5ms\n",
      "Speed: 2.7ms preprocess, 7.5ms inference, 1.0ms postprocess per image at shape (1, 3, 640, 640)\n",
      "Processed 00054_164.jpg, saved to ./runs/detect/heatmap/heatmap_00054_164.jpg\n",
      "\n",
      "0: 640x640 1 positive, 7.3ms\n",
      "Speed: 2.8ms preprocess, 7.3ms inference, 1.0ms postprocess per image at shape (1, 3, 640, 640)\n",
      "Processed 67 (6).jpg, saved to ./runs/detect/heatmap/heatmap_67 (6).jpg\n",
      "\n",
      "0: 640x640 1 positive, 7.4ms\n",
      "Speed: 2.6ms preprocess, 7.4ms inference, 1.0ms postprocess per image at shape (1, 3, 640, 640)\n",
      "Processed 00359_116.jpg, saved to ./runs/detect/heatmap/heatmap_00359_116.jpg\n",
      "\n",
      "0: 640x640 1 negative, 7.1ms\n",
      "Speed: 2.8ms preprocess, 7.1ms inference, 1.0ms postprocess per image at shape (1, 3, 640, 640)\n",
      "Processed 00072_119.jpg, saved to ./runs/detect/heatmap/heatmap_00072_119.jpg\n",
      "\n",
      "0: 640x640 1 negative, 7.2ms\n",
      "Speed: 2.8ms preprocess, 7.2ms inference, 1.1ms postprocess per image at shape (1, 3, 640, 640)\n",
      "Processed 93.jpg, saved to ./runs/detect/heatmap/heatmap_93.jpg\n",
      "\n",
      "0: 640x480 1 positive, 7.7ms\n",
      "Speed: 1.9ms preprocess, 7.7ms inference, 1.0ms postprocess per image at shape (1, 3, 640, 480)\n",
      "Processed 00253_85.jpg, saved to ./runs/detect/heatmap/heatmap_00253_85.jpg\n",
      "\n",
      "0: 640x576 1 negative, 7.5ms\n",
      "Speed: 2.4ms preprocess, 7.5ms inference, 1.1ms postprocess per image at shape (1, 3, 640, 576)\n",
      "Processed 00124_6.jpg, saved to ./runs/detect/heatmap/heatmap_00124_6.jpg\n",
      "\n",
      "0: 640x640 1 negative, 7.6ms\n",
      "Speed: 2.8ms preprocess, 7.6ms inference, 1.1ms postprocess per image at shape (1, 3, 640, 640)\n",
      "Processed 00184_145.jpg, saved to ./runs/detect/heatmap/heatmap_00184_145.jpg\n",
      "\n",
      "0: 640x640 1 positive, 7.0ms\n",
      "Speed: 2.8ms preprocess, 7.0ms inference, 1.1ms postprocess per image at shape (1, 3, 640, 640)\n",
      "Processed 99 (4).jpg, saved to ./runs/detect/heatmap/heatmap_99 (4).jpg\n",
      "\n",
      "0: 640x640 2 negatives, 6.9ms\n",
      "Speed: 2.7ms preprocess, 6.9ms inference, 1.0ms postprocess per image at shape (1, 3, 640, 640)\n",
      "Processed 73 (2).jpg, saved to ./runs/detect/heatmap/heatmap_73 (2).jpg\n",
      "\n",
      "0: 640x640 1 positive, 7.1ms\n",
      "Speed: 2.7ms preprocess, 7.1ms inference, 0.9ms postprocess per image at shape (1, 3, 640, 640)\n",
      "Processed 00187_118.jpg, saved to ./runs/detect/heatmap/heatmap_00187_118.jpg\n",
      "\n",
      "0: 640x640 1 negative, 7.2ms\n",
      "Speed: 2.7ms preprocess, 7.2ms inference, 1.0ms postprocess per image at shape (1, 3, 640, 640)\n",
      "Processed 00108_102.jpg, saved to ./runs/detect/heatmap/heatmap_00108_102.jpg\n",
      "\n",
      "0: 640x640 1 positive, 7.1ms\n",
      "Speed: 2.7ms preprocess, 7.1ms inference, 1.0ms postprocess per image at shape (1, 3, 640, 640)\n",
      "Processed 88 (5).jpg, saved to ./runs/detect/heatmap/heatmap_88 (5).jpg\n",
      "\n",
      "0: 640x640 1 negative, 7.4ms\n",
      "Speed: 2.8ms preprocess, 7.4ms inference, 1.1ms postprocess per image at shape (1, 3, 640, 640)\n",
      "Processed 00072_99.jpg, saved to ./runs/detect/heatmap/heatmap_00072_99.jpg\n",
      "\n",
      "0: 640x640 1 positive, 7.1ms\n",
      "Speed: 2.7ms preprocess, 7.1ms inference, 1.1ms postprocess per image at shape (1, 3, 640, 640)\n",
      "Processed 00160_270.jpg, saved to ./runs/detect/heatmap/heatmap_00160_270.jpg\n",
      "\n",
      "0: 640x640 1 positive, 7.0ms\n",
      "Speed: 2.7ms preprocess, 7.0ms inference, 1.0ms postprocess per image at shape (1, 3, 640, 640)\n",
      "Processed 75 (10).jpg, saved to ./runs/detect/heatmap/heatmap_75 (10).jpg\n",
      "\n",
      "0: 640x480 1 positive, 7.7ms\n",
      "Speed: 1.9ms preprocess, 7.7ms inference, 1.0ms postprocess per image at shape (1, 3, 640, 480)\n",
      "Processed 00304_101.jpg, saved to ./runs/detect/heatmap/heatmap_00304_101.jpg\n",
      "\n",
      "0: 640x640 1 negative, 7.9ms\n",
      "Speed: 2.8ms preprocess, 7.9ms inference, 1.0ms postprocess per image at shape (1, 3, 640, 640)\n",
      "Processed 75 (4).jpg, saved to ./runs/detect/heatmap/heatmap_75 (4).jpg\n",
      "\n",
      "0: 640x480 1 positive, 7.5ms\n",
      "Speed: 1.9ms preprocess, 7.5ms inference, 1.0ms postprocess per image at shape (1, 3, 640, 480)\n",
      "Processed 00260_121.jpg, saved to ./runs/detect/heatmap/heatmap_00260_121.jpg\n",
      "\n",
      "0: 640x640 1 positive, 7.7ms\n",
      "Speed: 2.7ms preprocess, 7.7ms inference, 1.0ms postprocess per image at shape (1, 3, 640, 640)\n",
      "Processed 00187_170.jpg, saved to ./runs/detect/heatmap/heatmap_00187_170.jpg\n",
      "\n",
      "0: 640x640 1 negative, 7.3ms\n",
      "Speed: 2.8ms preprocess, 7.3ms inference, 1.0ms postprocess per image at shape (1, 3, 640, 640)\n",
      "Processed 00201_121.jpg, saved to ./runs/detect/heatmap/heatmap_00201_121.jpg\n",
      "\n",
      "0: 640x480 1 positive, 7.6ms\n",
      "Speed: 2.0ms preprocess, 7.6ms inference, 1.0ms postprocess per image at shape (1, 3, 640, 480)\n",
      "Processed 00296_118.jpg, saved to ./runs/detect/heatmap/heatmap_00296_118.jpg\n",
      "\n",
      "0: 640x480 1 negative, 7.0ms\n",
      "Speed: 2.0ms preprocess, 7.0ms inference, 0.9ms postprocess per image at shape (1, 3, 640, 480)\n",
      "Processed 00116_11.jpg, saved to ./runs/detect/heatmap/heatmap_00116_11.jpg\n",
      "\n",
      "0: 640x640 1 positive, 7.6ms\n",
      "Speed: 2.8ms preprocess, 7.6ms inference, 1.0ms postprocess per image at shape (1, 3, 640, 640)\n",
      "Processed 00077_186.jpg, saved to ./runs/detect/heatmap/heatmap_00077_186.jpg\n",
      "\n",
      "0: 640x640 1 negative, 6.8ms\n",
      "Speed: 2.8ms preprocess, 6.8ms inference, 1.1ms postprocess per image at shape (1, 3, 640, 640)\n",
      "Processed 96.jpg, saved to ./runs/detect/heatmap/heatmap_96.jpg\n",
      "\n",
      "0: 640x640 1 negative, 7.1ms\n",
      "Speed: 2.6ms preprocess, 7.1ms inference, 1.0ms postprocess per image at shape (1, 3, 640, 640)\n",
      "Processed 62 (5).jpg, saved to ./runs/detect/heatmap/heatmap_62 (5).jpg\n",
      "\n",
      "0: 640x640 1 negative, 7.0ms\n",
      "Speed: 2.7ms preprocess, 7.0ms inference, 1.0ms postprocess per image at shape (1, 3, 640, 640)\n",
      "Processed 00194_243.jpg, saved to ./runs/detect/heatmap/heatmap_00194_243.jpg\n",
      "\n",
      "0: 640x640 1 negative, 7.2ms\n",
      "Speed: 2.8ms preprocess, 7.2ms inference, 1.0ms postprocess per image at shape (1, 3, 640, 640)\n",
      "Processed 79 (7).jpg, saved to ./runs/detect/heatmap/heatmap_79 (7).jpg\n",
      "\n",
      "0: 640x640 1 negative, 7.0ms\n",
      "Speed: 2.8ms preprocess, 7.0ms inference, 1.0ms postprocess per image at shape (1, 3, 640, 640)\n",
      "Processed 00061_184.jpg, saved to ./runs/detect/heatmap/heatmap_00061_184.jpg\n",
      "\n",
      "0: 640x640 1 positive, 7.0ms\n",
      "Speed: 2.8ms preprocess, 7.0ms inference, 1.0ms postprocess per image at shape (1, 3, 640, 640)\n",
      "Processed 84 (3).jpg, saved to ./runs/detect/heatmap/heatmap_84 (3).jpg\n",
      "\n",
      "0: 640x640 1 negative, 7.2ms\n",
      "Speed: 2.8ms preprocess, 7.2ms inference, 1.0ms postprocess per image at shape (1, 3, 640, 640)\n",
      "Processed 70 (3).jpg, saved to ./runs/detect/heatmap/heatmap_70 (3).jpg\n",
      "\n",
      "0: 640x640 1 negative, 7.3ms\n",
      "Speed: 2.8ms preprocess, 7.3ms inference, 1.0ms postprocess per image at shape (1, 3, 640, 640)\n",
      "Processed 00195_208.jpg, saved to ./runs/detect/heatmap/heatmap_00195_208.jpg\n",
      "\n",
      "0: 640x640 1 negative, 7.7ms\n",
      "Speed: 2.9ms preprocess, 7.7ms inference, 1.1ms postprocess per image at shape (1, 3, 640, 640)\n",
      "Processed 103.jpg, saved to ./runs/detect/heatmap/heatmap_103.jpg\n",
      "\n",
      "0: 640x640 1 negative, 7.8ms\n",
      "Speed: 3.0ms preprocess, 7.8ms inference, 1.2ms postprocess per image at shape (1, 3, 640, 640)\n",
      "Processed 91.jpg, saved to ./runs/detect/heatmap/heatmap_91.jpg\n",
      "\n",
      "0: 640x640 1 negative, 7.9ms\n",
      "Speed: 2.9ms preprocess, 7.9ms inference, 1.1ms postprocess per image at shape (1, 3, 640, 640)\n",
      "Processed 00148_22.jpg, saved to ./runs/detect/heatmap/heatmap_00148_22.jpg\n",
      "\n",
      "0: 640x480 1 positive, 8.1ms\n",
      "Speed: 2.0ms preprocess, 8.1ms inference, 1.1ms postprocess per image at shape (1, 3, 640, 480)\n",
      "Processed 00260_130.jpg, saved to ./runs/detect/heatmap/heatmap_00260_130.jpg\n",
      "\n",
      "0: 640x640 1 negative, 8.1ms\n",
      "Speed: 2.9ms preprocess, 8.1ms inference, 1.1ms postprocess per image at shape (1, 3, 640, 640)\n",
      "Processed 88 (2).jpg, saved to ./runs/detect/heatmap/heatmap_88 (2).jpg\n",
      "\n",
      "0: 640x640 1 positive, 7.5ms\n",
      "Speed: 2.9ms preprocess, 7.5ms inference, 1.1ms postprocess per image at shape (1, 3, 640, 640)\n",
      "Processed 76 (11).jpg, saved to ./runs/detect/heatmap/heatmap_76 (11).jpg\n",
      "\n",
      "0: 640x640 1 negative, 7.5ms\n",
      "Speed: 2.9ms preprocess, 7.5ms inference, 1.1ms postprocess per image at shape (1, 3, 640, 640)\n",
      "Processed 00061_108.jpg, saved to ./runs/detect/heatmap/heatmap_00061_108.jpg\n",
      "\n",
      "0: 640x480 1 positive, 8.1ms\n",
      "Speed: 2.0ms preprocess, 8.1ms inference, 1.2ms postprocess per image at shape (1, 3, 640, 480)\n",
      "Processed 00263_109.jpg, saved to ./runs/detect/heatmap/heatmap_00263_109.jpg\n",
      "\n",
      "0: 640x640 1 positive, 8.4ms\n",
      "Speed: 3.0ms preprocess, 8.4ms inference, 1.2ms postprocess per image at shape (1, 3, 640, 640)\n",
      "Processed 00317_25.jpg, saved to ./runs/detect/heatmap/heatmap_00317_25.jpg\n",
      "\n",
      "0: 640x640 1 positive, 8.0ms\n",
      "Speed: 3.0ms preprocess, 8.0ms inference, 1.2ms postprocess per image at shape (1, 3, 640, 640)\n",
      "Processed 68 (7).jpg, saved to ./runs/detect/heatmap/heatmap_68 (7).jpg\n",
      "\n",
      "0: 640x640 1 negative, 7.8ms\n",
      "Speed: 2.7ms preprocess, 7.8ms inference, 1.1ms postprocess per image at shape (1, 3, 640, 640)\n",
      "Processed 00099_137.jpg, saved to ./runs/detect/heatmap/heatmap_00099_137.jpg\n",
      "\n",
      "0: 640x640 1 negative, 7.7ms\n",
      "Speed: 3.0ms preprocess, 7.7ms inference, 1.1ms postprocess per image at shape (1, 3, 640, 640)\n",
      "Processed 90.jpg, saved to ./runs/detect/heatmap/heatmap_90.jpg\n",
      "\n",
      "0: 640x640 1 positive, 7.9ms\n",
      "Speed: 3.0ms preprocess, 7.9ms inference, 1.1ms postprocess per image at shape (1, 3, 640, 640)\n",
      "Processed 63 (5).jpg, saved to ./runs/detect/heatmap/heatmap_63 (5).jpg\n",
      "\n",
      "0: 640x640 1 negative, 8.3ms\n",
      "Speed: 3.0ms preprocess, 8.3ms inference, 1.2ms postprocess per image at shape (1, 3, 640, 640)\n",
      "Processed 00133_228.jpg, saved to ./runs/detect/heatmap/heatmap_00133_228.jpg\n",
      "\n",
      "0: 640x480 1 positive, 8.7ms\n",
      "Speed: 2.1ms preprocess, 8.7ms inference, 1.2ms postprocess per image at shape (1, 3, 640, 480)\n",
      "Processed 00313_130.jpg, saved to ./runs/detect/heatmap/heatmap_00313_130.jpg\n",
      "\n",
      "0: 640x640 1 negative, 8.4ms\n",
      "Speed: 3.0ms preprocess, 8.4ms inference, 1.1ms postprocess per image at shape (1, 3, 640, 640)\n",
      "Processed 83.jpg, saved to ./runs/detect/heatmap/heatmap_83.jpg\n",
      "\n",
      "0: 640x640 1 negative, 8.2ms\n",
      "Speed: 3.1ms preprocess, 8.2ms inference, 1.2ms postprocess per image at shape (1, 3, 640, 640)\n",
      "Processed 00148_20.jpg, saved to ./runs/detect/heatmap/heatmap_00148_20.jpg\n",
      "\n",
      "0: 640x640 1 positive, 7.5ms\n",
      "Speed: 2.8ms preprocess, 7.5ms inference, 1.1ms postprocess per image at shape (1, 3, 640, 640)\n",
      "Processed 00171_126.jpg, saved to ./runs/detect/heatmap/heatmap_00171_126.jpg\n",
      "\n",
      "0: 640x640 1 positive, 7.6ms\n",
      "Speed: 2.8ms preprocess, 7.6ms inference, 1.1ms postprocess per image at shape (1, 3, 640, 640)\n",
      "Processed 80 (4).jpg, saved to ./runs/detect/heatmap/heatmap_80 (4).jpg\n",
      "\n",
      "0: 640x640 1 negative, 8.0ms\n",
      "Speed: 3.1ms preprocess, 8.0ms inference, 1.1ms postprocess per image at shape (1, 3, 640, 640)\n",
      "Processed 00183_161.jpg, saved to ./runs/detect/heatmap/heatmap_00183_161.jpg\n",
      "\n",
      "0: 640x640 1 positive, 7.9ms\n",
      "Speed: 2.9ms preprocess, 7.9ms inference, 1.2ms postprocess per image at shape (1, 3, 640, 640)\n",
      "Processed 99 (2).jpg, saved to ./runs/detect/heatmap/heatmap_99 (2).jpg\n",
      "\n",
      "0: 640x640 1 positive, 8.0ms\n",
      "Speed: 3.1ms preprocess, 8.0ms inference, 1.2ms postprocess per image at shape (1, 3, 640, 640)\n",
      "Processed 00100_102.jpg, saved to ./runs/detect/heatmap/heatmap_00100_102.jpg\n",
      "\n",
      "0: 640x480 1 negative, 8.5ms\n",
      "Speed: 2.1ms preprocess, 8.5ms inference, 1.1ms postprocess per image at shape (1, 3, 640, 480)\n",
      "Processed 00176_98.jpg, saved to ./runs/detect/heatmap/heatmap_00176_98.jpg\n",
      "\n",
      "0: 640x640 1 positive, 8.4ms\n",
      "Speed: 3.1ms preprocess, 8.4ms inference, 1.2ms postprocess per image at shape (1, 3, 640, 640)\n",
      "Processed 00063_197.jpg, saved to ./runs/detect/heatmap/heatmap_00063_197.jpg\n",
      "\n",
      "0: 640x640 1 positive, 8.0ms\n",
      "Speed: 3.0ms preprocess, 8.0ms inference, 1.2ms postprocess per image at shape (1, 3, 640, 640)\n",
      "Processed 61 (8).jpg, saved to ./runs/detect/heatmap/heatmap_61 (8).jpg\n",
      "\n",
      "0: 640x608 1 negative, 109.7ms\n",
      "Speed: 2.9ms preprocess, 109.7ms inference, 1.1ms postprocess per image at shape (1, 3, 640, 608)\n",
      "Processed 00150_9.jpg, saved to ./runs/detect/heatmap/heatmap_00150_9.jpg\n",
      "\n",
      "0: 640x640 1 positive, 8.4ms\n",
      "Speed: 3.0ms preprocess, 8.4ms inference, 1.1ms postprocess per image at shape (1, 3, 640, 640)\n",
      "Processed 94 (5).jpg, saved to ./runs/detect/heatmap/heatmap_94 (5).jpg\n",
      "\n",
      "0: 640x640 1 negative, 7.8ms\n",
      "Speed: 2.9ms preprocess, 7.8ms inference, 1.1ms postprocess per image at shape (1, 3, 640, 640)\n",
      "Processed 00183_109.jpg, saved to ./runs/detect/heatmap/heatmap_00183_109.jpg\n",
      "\n",
      "0: 640x640 1 negative, 8.0ms\n",
      "Speed: 3.0ms preprocess, 8.0ms inference, 1.1ms postprocess per image at shape (1, 3, 640, 640)\n",
      "Processed 94 (2).jpg, saved to ./runs/detect/heatmap/heatmap_94 (2).jpg\n",
      "\n",
      "0: 640x480 1 positive, 8.6ms\n",
      "Speed: 2.2ms preprocess, 8.6ms inference, 1.2ms postprocess per image at shape (1, 3, 640, 480)\n",
      "Processed 00273_86.jpg, saved to ./runs/detect/heatmap/heatmap_00273_86.jpg\n",
      "\n",
      "0: 640x640 1 positive, 8.4ms\n",
      "Speed: 3.0ms preprocess, 8.4ms inference, 1.1ms postprocess per image at shape (1, 3, 640, 640)\n",
      "Processed 00156_116.jpg, saved to ./runs/detect/heatmap/heatmap_00156_116.jpg\n",
      "\n",
      "0: 640x640 1 positive, 7.9ms\n",
      "Speed: 3.1ms preprocess, 7.9ms inference, 1.2ms postprocess per image at shape (1, 3, 640, 640)\n",
      "Processed 75 (7).jpg, saved to ./runs/detect/heatmap/heatmap_75 (7).jpg\n",
      "\n",
      "0: 640x640 1 negative, 7.9ms\n",
      "Speed: 2.8ms preprocess, 7.9ms inference, 1.2ms postprocess per image at shape (1, 3, 640, 640)\n",
      "Processed 00130_94.jpg, saved to ./runs/detect/heatmap/heatmap_00130_94.jpg\n",
      "\n",
      "0: 640x640 1 positive, 7.9ms\n",
      "Speed: 3.0ms preprocess, 7.9ms inference, 1.2ms postprocess per image at shape (1, 3, 640, 640)\n",
      "Processed 68 (8).jpg, saved to ./runs/detect/heatmap/heatmap_68 (8).jpg\n",
      "\n",
      "0: 640x480 1 positive, 8.4ms\n",
      "Speed: 2.0ms preprocess, 8.4ms inference, 1.2ms postprocess per image at shape (1, 3, 640, 480)\n",
      "Processed 00313_119.jpg, saved to ./runs/detect/heatmap/heatmap_00313_119.jpg\n",
      "\n",
      "0: 640x640 1 negative, 8.9ms\n",
      "Speed: 3.0ms preprocess, 8.9ms inference, 1.2ms postprocess per image at shape (1, 3, 640, 640)\n",
      "Processed 00183_144.jpg, saved to ./runs/detect/heatmap/heatmap_00183_144.jpg\n",
      "\n",
      "0: 640x640 1 negative, 8.3ms\n",
      "Speed: 3.1ms preprocess, 8.3ms inference, 1.2ms postprocess per image at shape (1, 3, 640, 640)\n",
      "Processed 94.jpg, saved to ./runs/detect/heatmap/heatmap_94.jpg\n",
      "\n",
      "0: 640x480 2 positives, 8.8ms\n",
      "Speed: 2.1ms preprocess, 8.8ms inference, 1.2ms postprocess per image at shape (1, 3, 640, 480)\n",
      "Processed 00322_127.jpg, saved to ./runs/detect/heatmap/heatmap_00322_127.jpg\n",
      "\n",
      "0: 640x640 1 positive, 8.5ms\n",
      "Speed: 3.0ms preprocess, 8.5ms inference, 1.3ms postprocess per image at shape (1, 3, 640, 640)\n",
      "Processed 68 (9).jpg, saved to ./runs/detect/heatmap/heatmap_68 (9).jpg\n",
      "\n",
      "0: 640x640 1 positive, 7.9ms\n",
      "Speed: 2.9ms preprocess, 7.9ms inference, 1.1ms postprocess per image at shape (1, 3, 640, 640)\n",
      "Processed 76 (9).jpg, saved to ./runs/detect/heatmap/heatmap_76 (9).jpg\n",
      "\n",
      "0: 640x480 1 positive, 8.5ms\n",
      "Speed: 2.0ms preprocess, 8.5ms inference, 1.2ms postprocess per image at shape (1, 3, 640, 480)\n",
      "Processed 00304_119.jpg, saved to ./runs/detect/heatmap/heatmap_00304_119.jpg\n",
      "\n",
      "0: 640x640 1 negative, 8.3ms\n",
      "Speed: 2.9ms preprocess, 8.3ms inference, 1.1ms postprocess per image at shape (1, 3, 640, 640)\n",
      "Processed 100 (2).jpg, saved to ./runs/detect/heatmap/heatmap_100 (2).jpg\n",
      "\n",
      "0: 640x640 1 negative, 8.1ms\n",
      "Speed: 2.9ms preprocess, 8.1ms inference, 1.1ms postprocess per image at shape (1, 3, 640, 640)\n",
      "Processed 77 (4).jpg, saved to ./runs/detect/heatmap/heatmap_77 (4).jpg\n",
      "\n",
      "0: 640x640 1 positive, 8.1ms\n",
      "Speed: 2.9ms preprocess, 8.1ms inference, 1.3ms postprocess per image at shape (1, 3, 640, 640)\n",
      "Processed 61 (6).jpg, saved to ./runs/detect/heatmap/heatmap_61 (6).jpg\n",
      "\n",
      "0: 640x640 1 negative, 8.2ms\n",
      "Speed: 3.0ms preprocess, 8.2ms inference, 1.2ms postprocess per image at shape (1, 3, 640, 640)\n",
      "Processed 00201_102.jpg, saved to ./runs/detect/heatmap/heatmap_00201_102.jpg\n",
      "\n",
      "0: 640x640 1 negative, 8.2ms\n",
      "Speed: 3.0ms preprocess, 8.2ms inference, 1.2ms postprocess per image at shape (1, 3, 640, 640)\n",
      "Processed 71 (2).jpg, saved to ./runs/detect/heatmap/heatmap_71 (2).jpg\n",
      "\n",
      "0: 640x640 1 positive, 7.7ms\n",
      "Speed: 2.9ms preprocess, 7.7ms inference, 1.2ms postprocess per image at shape (1, 3, 640, 640)\n",
      "Processed 00059_103.jpg, saved to ./runs/detect/heatmap/heatmap_00059_103.jpg\n",
      "\n",
      "0: 640x640 1 negative, 8.1ms\n",
      "Speed: 3.1ms preprocess, 8.1ms inference, 1.2ms postprocess per image at shape (1, 3, 640, 640)\n",
      "Processed 00158_239.jpg, saved to ./runs/detect/heatmap/heatmap_00158_239.jpg\n",
      "\n",
      "0: 640x640 1 negative, 7.8ms\n",
      "Speed: 2.8ms preprocess, 7.8ms inference, 1.1ms postprocess per image at shape (1, 3, 640, 640)\n",
      "Processed 81 (3).jpg, saved to ./runs/detect/heatmap/heatmap_81 (3).jpg\n",
      "\n",
      "0: 640x640 1 negative, 9.5ms\n",
      "Speed: 2.8ms preprocess, 9.5ms inference, 1.2ms postprocess per image at shape (1, 3, 640, 640)\n",
      "Processed 00183_195.jpg, saved to ./runs/detect/heatmap/heatmap_00183_195.jpg\n",
      "\n",
      "0: 640x640 1 negative, 8.0ms\n",
      "Speed: 3.0ms preprocess, 8.0ms inference, 1.2ms postprocess per image at shape (1, 3, 640, 640)\n",
      "Processed 00124_114.jpg, saved to ./runs/detect/heatmap/heatmap_00124_114.jpg\n",
      "\n",
      "0: 640x640 1 negative, 7.9ms\n",
      "Speed: 2.7ms preprocess, 7.9ms inference, 1.2ms postprocess per image at shape (1, 3, 640, 640)\n",
      "Processed 00099_145.jpg, saved to ./runs/detect/heatmap/heatmap_00099_145.jpg\n",
      "\n",
      "0: 640x640 1 negative, 8.0ms\n",
      "Speed: 3.1ms preprocess, 8.0ms inference, 1.2ms postprocess per image at shape (1, 3, 640, 640)\n",
      "Processed 00169_260.jpg, saved to ./runs/detect/heatmap/heatmap_00169_260.jpg\n",
      "\n",
      "0: 640x640 1 negative, 8.1ms\n",
      "Speed: 3.2ms preprocess, 8.1ms inference, 1.2ms postprocess per image at shape (1, 3, 640, 640)\n",
      "Processed 00097_87.jpg, saved to ./runs/detect/heatmap/heatmap_00097_87.jpg\n",
      "\n",
      "0: 640x640 1 negative, 7.8ms\n",
      "Speed: 3.0ms preprocess, 7.8ms inference, 1.1ms postprocess per image at shape (1, 3, 640, 640)\n",
      "Processed 00151_128.jpg, saved to ./runs/detect/heatmap/heatmap_00151_128.jpg\n",
      "\n",
      "0: 640x640 1 negative, 7.9ms\n",
      "Speed: 2.9ms preprocess, 7.9ms inference, 1.1ms postprocess per image at shape (1, 3, 640, 640)\n",
      "Processed 00165_158.jpg, saved to ./runs/detect/heatmap/heatmap_00165_158.jpg\n",
      "\n",
      "0: 640x640 1 positive, 7.9ms\n",
      "Speed: 3.1ms preprocess, 7.9ms inference, 1.2ms postprocess per image at shape (1, 3, 640, 640)\n",
      "Processed 94 (6).jpg, saved to ./runs/detect/heatmap/heatmap_94 (6).jpg\n",
      "\n",
      "0: 640x640 1 positive, 7.8ms\n",
      "Speed: 3.0ms preprocess, 7.8ms inference, 1.2ms postprocess per image at shape (1, 3, 640, 640)\n",
      "Processed 00178_104.jpg, saved to ./runs/detect/heatmap/heatmap_00178_104.jpg\n",
      "\n",
      "0: 640x640 1 positive, 8.0ms\n",
      "Speed: 2.9ms preprocess, 8.0ms inference, 1.1ms postprocess per image at shape (1, 3, 640, 640)\n",
      "Processed 00087_149.jpg, saved to ./runs/detect/heatmap/heatmap_00087_149.jpg\n",
      "\n",
      "0: 640x576 1 positive, 8.5ms\n",
      "Speed: 2.7ms preprocess, 8.5ms inference, 1.1ms postprocess per image at shape (1, 3, 640, 576)\n",
      "Processed 00294_23.jpg, saved to ./runs/detect/heatmap/heatmap_00294_23.jpg\n",
      "\n",
      "0: 640x640 1 negative, 8.3ms\n",
      "Speed: 2.8ms preprocess, 8.3ms inference, 1.1ms postprocess per image at shape (1, 3, 640, 640)\n",
      "Processed 00167_213.jpg, saved to ./runs/detect/heatmap/heatmap_00167_213.jpg\n",
      "\n",
      "0: 640x480 1 positive, 8.4ms\n",
      "Speed: 2.1ms preprocess, 8.4ms inference, 1.1ms postprocess per image at shape (1, 3, 640, 480)\n",
      "Processed 00322_147.jpg, saved to ./runs/detect/heatmap/heatmap_00322_147.jpg\n",
      "\n",
      "0: 640x640 1 negative, 8.4ms\n",
      "Speed: 2.7ms preprocess, 8.4ms inference, 1.1ms postprocess per image at shape (1, 3, 640, 640)\n",
      "Processed 00169_149.jpg, saved to ./runs/detect/heatmap/heatmap_00169_149.jpg\n",
      "\n",
      "0: 640x640 1 positive, 7.8ms\n",
      "Speed: 2.9ms preprocess, 7.8ms inference, 1.3ms postprocess per image at shape (1, 3, 640, 640)\n",
      "Processed 87 (4).jpg, saved to ./runs/detect/heatmap/heatmap_87 (4).jpg\n",
      "\n",
      "0: 640x640 1 positive, 7.7ms\n",
      "Speed: 2.9ms preprocess, 7.7ms inference, 1.3ms postprocess per image at shape (1, 3, 640, 640)\n",
      "Processed 00178_175.jpg, saved to ./runs/detect/heatmap/heatmap_00178_175.jpg\n",
      "\n",
      "0: 640x640 1 negative, 7.9ms\n",
      "Speed: 2.9ms preprocess, 7.9ms inference, 1.2ms postprocess per image at shape (1, 3, 640, 640)\n",
      "Processed 00151_195.jpg, saved to ./runs/detect/heatmap/heatmap_00151_195.jpg\n",
      "\n",
      "0: 640x640 1 positive, 7.8ms\n",
      "Speed: 2.9ms preprocess, 7.8ms inference, 1.3ms postprocess per image at shape (1, 3, 640, 640)\n",
      "Processed 68 (10).jpg, saved to ./runs/detect/heatmap/heatmap_68 (10).jpg\n",
      "\n",
      "0: 640x480 1 positive, 8.5ms\n",
      "Speed: 2.1ms preprocess, 8.5ms inference, 1.1ms postprocess per image at shape (1, 3, 640, 480)\n",
      "Processed 00240_134.jpg, saved to ./runs/detect/heatmap/heatmap_00240_134.jpg\n",
      "\n",
      "0: 640x640 1 positive, 8.3ms\n",
      "Speed: 2.9ms preprocess, 8.3ms inference, 1.1ms postprocess per image at shape (1, 3, 640, 640)\n",
      "Processed 63 (8).jpg, saved to ./runs/detect/heatmap/heatmap_63 (8).jpg\n",
      "\n",
      "0: 640x640 1 positive, 8.1ms\n",
      "Speed: 3.0ms preprocess, 8.1ms inference, 1.2ms postprocess per image at shape (1, 3, 640, 640)\n",
      "Processed 90 (2).jpg, saved to ./runs/detect/heatmap/heatmap_90 (2).jpg\n",
      "\n",
      "0: 640x608 1 negative, 8.6ms\n",
      "Speed: 3.0ms preprocess, 8.6ms inference, 1.1ms postprocess per image at shape (1, 3, 640, 608)\n",
      "Processed 00150_8.jpg, saved to ./runs/detect/heatmap/heatmap_00150_8.jpg\n",
      "\n",
      "0: 640x640 1 positive, 8.4ms\n",
      "Speed: 3.0ms preprocess, 8.4ms inference, 1.1ms postprocess per image at shape (1, 3, 640, 640)\n",
      "Processed 00071_278.jpg, saved to ./runs/detect/heatmap/heatmap_00071_278.jpg\n",
      "\n",
      "0: 640x640 1 positive, 8.2ms\n",
      "Speed: 3.0ms preprocess, 8.2ms inference, 1.2ms postprocess per image at shape (1, 3, 640, 640)\n",
      "Processed 83 (3).jpg, saved to ./runs/detect/heatmap/heatmap_83 (3).jpg\n",
      "\n",
      "0: 640x480 2 positives, 8.7ms\n",
      "Speed: 2.2ms preprocess, 8.7ms inference, 1.1ms postprocess per image at shape (1, 3, 640, 480)\n",
      "Processed 00322_121.jpg, saved to ./runs/detect/heatmap/heatmap_00322_121.jpg\n",
      "\n",
      "0: 640x640 1 negative, 8.4ms\n",
      "Speed: 2.8ms preprocess, 8.4ms inference, 1.1ms postprocess per image at shape (1, 3, 640, 640)\n",
      "Processed 89 (4).jpg, saved to ./runs/detect/heatmap/heatmap_89 (4).jpg\n",
      "\n",
      "0: 640x640 1 negative, 7.7ms\n",
      "Speed: 2.6ms preprocess, 7.7ms inference, 1.1ms postprocess per image at shape (1, 3, 640, 640)\n",
      "Processed 144.jpg, saved to ./runs/detect/heatmap/heatmap_144.jpg\n",
      "\n",
      "0: 640x640 1 positive, 8.0ms\n",
      "Speed: 3.0ms preprocess, 8.0ms inference, 1.2ms postprocess per image at shape (1, 3, 640, 640)\n",
      "Processed 94 (4).jpg, saved to ./runs/detect/heatmap/heatmap_94 (4).jpg\n",
      "\n",
      "0: 640x640 1 negative, 8.1ms\n",
      "Speed: 3.0ms preprocess, 8.1ms inference, 1.3ms postprocess per image at shape (1, 3, 640, 640)\n",
      "Processed 74 (6).jpg, saved to ./runs/detect/heatmap/heatmap_74 (6).jpg\n",
      "\n",
      "0: 640x640 1 positive, 8.0ms\n",
      "Speed: 3.0ms preprocess, 8.0ms inference, 1.2ms postprocess per image at shape (1, 3, 640, 640)\n",
      "Processed 95 (4).jpg, saved to ./runs/detect/heatmap/heatmap_95 (4).jpg\n",
      "\n",
      "0: 640x480 1 positive, 8.5ms\n",
      "Speed: 2.1ms preprocess, 8.5ms inference, 1.1ms postprocess per image at shape (1, 3, 640, 480)\n",
      "Processed 00254_83.jpg, saved to ./runs/detect/heatmap/heatmap_00254_83.jpg\n",
      "\n",
      "0: 640x480 1 positive, 8.2ms\n",
      "Speed: 2.1ms preprocess, 8.2ms inference, 1.2ms postprocess per image at shape (1, 3, 640, 480)\n",
      "Processed 00282_99.jpg, saved to ./runs/detect/heatmap/heatmap_00282_99.jpg\n",
      "\n",
      "0: 640x640 1 negative, 8.3ms\n",
      "Speed: 3.0ms preprocess, 8.3ms inference, 1.2ms postprocess per image at shape (1, 3, 640, 640)\n",
      "Processed 64 (5).jpg, saved to ./runs/detect/heatmap/heatmap_64 (5).jpg\n",
      "\n",
      "0: 640x640 1 positive, 7.7ms\n",
      "Speed: 3.0ms preprocess, 7.7ms inference, 1.3ms postprocess per image at shape (1, 3, 640, 640)\n",
      "Processed 00156_132.jpg, saved to ./runs/detect/heatmap/heatmap_00156_132.jpg\n",
      "\n",
      "0: 640x640 1 negative, 7.9ms\n",
      "Speed: 2.9ms preprocess, 7.9ms inference, 1.2ms postprocess per image at shape (1, 3, 640, 640)\n",
      "Processed 00162_122.jpg, saved to ./runs/detect/heatmap/heatmap_00162_122.jpg\n",
      "\n",
      "0: 640x640 1 positive, 8.2ms\n",
      "Speed: 3.1ms preprocess, 8.2ms inference, 1.2ms postprocess per image at shape (1, 3, 640, 640)\n",
      "Processed 00066_221.jpg, saved to ./runs/detect/heatmap/heatmap_00066_221.jpg\n",
      "\n",
      "0: 640x640 1 positive, 7.9ms\n",
      "Speed: 2.6ms preprocess, 7.9ms inference, 1.1ms postprocess per image at shape (1, 3, 640, 640)\n",
      "Processed 00305_113.jpg, saved to ./runs/detect/heatmap/heatmap_00305_113.jpg\n",
      "\n",
      "0: 640x480 1 positive, 8.2ms\n",
      "Speed: 2.1ms preprocess, 8.2ms inference, 1.1ms postprocess per image at shape (1, 3, 640, 480)\n",
      "Processed 00306_96.jpg, saved to ./runs/detect/heatmap/heatmap_00306_96.jpg\n",
      "\n",
      "0: 640x640 1 negative, 8.3ms\n",
      "Speed: 2.9ms preprocess, 8.3ms inference, 1.1ms postprocess per image at shape (1, 3, 640, 640)\n",
      "Processed 91 (2).jpg, saved to ./runs/detect/heatmap/heatmap_91 (2).jpg\n",
      "\n",
      "0: 640x640 1 negative, 7.8ms\n",
      "Speed: 3.0ms preprocess, 7.8ms inference, 1.2ms postprocess per image at shape (1, 3, 640, 640)\n",
      "Processed 00124_168.jpg, saved to ./runs/detect/heatmap/heatmap_00124_168.jpg\n",
      "\n",
      "0: 640x640 1 positive, 7.9ms\n",
      "Speed: 2.8ms preprocess, 7.9ms inference, 1.2ms postprocess per image at shape (1, 3, 640, 640)\n",
      "Processed 00063_217.jpg, saved to ./runs/detect/heatmap/heatmap_00063_217.jpg\n",
      "\n",
      "0: 640x480 1 negative, 8.4ms\n",
      "Speed: 2.0ms preprocess, 8.4ms inference, 1.1ms postprocess per image at shape (1, 3, 640, 480)\n",
      "Processed 00165_135.jpg, saved to ./runs/detect/heatmap/heatmap_00165_135.jpg\n",
      "\n",
      "0: 640x640 1 negative, 8.4ms\n",
      "Speed: 3.0ms preprocess, 8.4ms inference, 1.1ms postprocess per image at shape (1, 3, 640, 640)\n",
      "Processed 00194_259.jpg, saved to ./runs/detect/heatmap/heatmap_00194_259.jpg\n",
      "\n",
      "0: 640x640 1 negative, 7.8ms\n",
      "Speed: 2.7ms preprocess, 7.8ms inference, 1.2ms postprocess per image at shape (1, 3, 640, 640)\n",
      "Processed 00097_76.jpg, saved to ./runs/detect/heatmap/heatmap_00097_76.jpg\n",
      "\n",
      "0: 640x640 1 positive, 7.6ms\n",
      "Speed: 2.9ms preprocess, 7.6ms inference, 1.2ms postprocess per image at shape (1, 3, 640, 640)\n",
      "Processed 00074_209.jpg, saved to ./runs/detect/heatmap/heatmap_00074_209.jpg\n",
      "\n",
      "0: 640x544 1 negative, 8.4ms\n",
      "Speed: 2.5ms preprocess, 8.4ms inference, 1.2ms postprocess per image at shape (1, 3, 640, 544)\n",
      "Processed 00112_11.jpg, saved to ./runs/detect/heatmap/heatmap_00112_11.jpg\n",
      "\n",
      "0: 640x640 1 negative, 8.3ms\n",
      "Speed: 4.3ms preprocess, 8.3ms inference, 1.1ms postprocess per image at shape (1, 3, 640, 640)\n",
      "Processed 00097_77.jpg, saved to ./runs/detect/heatmap/heatmap_00097_77.jpg\n",
      "\n",
      "0: 640x640 1 positive, 7.9ms\n",
      "Speed: 3.0ms preprocess, 7.9ms inference, 1.1ms postprocess per image at shape (1, 3, 640, 640)\n",
      "Processed 98 (4).jpg, saved to ./runs/detect/heatmap/heatmap_98 (4).jpg\n",
      "\n",
      "0: 640x640 1 negative, 7.9ms\n",
      "Speed: 3.1ms preprocess, 7.9ms inference, 1.1ms postprocess per image at shape (1, 3, 640, 640)\n",
      "Processed 77.jpg, saved to ./runs/detect/heatmap/heatmap_77.jpg\n",
      "\n",
      "0: 640x640 1 negative, 8.1ms\n",
      "Speed: 3.0ms preprocess, 8.1ms inference, 1.2ms postprocess per image at shape (1, 3, 640, 640)\n",
      "Processed 00097_106.jpg, saved to ./runs/detect/heatmap/heatmap_00097_106.jpg\n",
      "\n",
      "0: 640x576 1 positive, 8.5ms\n",
      "Speed: 2.9ms preprocess, 8.5ms inference, 1.1ms postprocess per image at shape (1, 3, 640, 576)\n",
      "Processed 00270_12.jpg, saved to ./runs/detect/heatmap/heatmap_00270_12.jpg\n",
      "\n",
      "0: 640x640 2 positives, 8.7ms\n",
      "Speed: 3.0ms preprocess, 8.7ms inference, 1.1ms postprocess per image at shape (1, 3, 640, 640)\n",
      "Processed 66 (11).jpg, saved to ./runs/detect/heatmap/heatmap_66 (11).jpg\n",
      "\n",
      "0: 640x640 1 positive, 7.8ms\n",
      "Speed: 3.1ms preprocess, 7.8ms inference, 1.1ms postprocess per image at shape (1, 3, 640, 640)\n",
      "Processed 00056_129.jpg, saved to ./runs/detect/heatmap/heatmap_00056_129.jpg\n",
      "\n",
      "0: 640x640 1 positive, 7.8ms\n",
      "Speed: 2.8ms preprocess, 7.8ms inference, 1.1ms postprocess per image at shape (1, 3, 640, 640)\n",
      "Processed 95 (3).jpg, saved to ./runs/detect/heatmap/heatmap_95 (3).jpg\n",
      "\n",
      "0: 640x640 1 positive, 7.7ms\n",
      "Speed: 2.8ms preprocess, 7.7ms inference, 1.1ms postprocess per image at shape (1, 3, 640, 640)\n",
      "Processed 00096_260.jpg, saved to ./runs/detect/heatmap/heatmap_00096_260.jpg\n",
      "\n",
      "0: 640x640 1 negative, 7.8ms\n",
      "Speed: 2.9ms preprocess, 7.8ms inference, 1.2ms postprocess per image at shape (1, 3, 640, 640)\n",
      "Processed 89 (2).jpg, saved to ./runs/detect/heatmap/heatmap_89 (2).jpg\n",
      "\n",
      "0: 640x480 1 positive, 8.3ms\n",
      "Speed: 2.0ms preprocess, 8.3ms inference, 1.1ms postprocess per image at shape (1, 3, 640, 480)\n",
      "Processed 00350_128.jpg, saved to ./runs/detect/heatmap/heatmap_00350_128.jpg\n",
      "\n",
      "0: 640x640 1 positive, 8.7ms\n",
      "Speed: 3.0ms preprocess, 8.7ms inference, 1.1ms postprocess per image at shape (1, 3, 640, 640)\n",
      "Processed 00185_271.jpg, saved to ./runs/detect/heatmap/heatmap_00185_271.jpg\n",
      "\n",
      "0: 640x640 1 positive, 8.0ms\n",
      "Speed: 3.0ms preprocess, 8.0ms inference, 1.1ms postprocess per image at shape (1, 3, 640, 640)\n",
      "Processed 00066_240.jpg, saved to ./runs/detect/heatmap/heatmap_00066_240.jpg\n",
      "\n",
      "0: 640x640 1 positive, 7.9ms\n",
      "Speed: 3.0ms preprocess, 7.9ms inference, 1.1ms postprocess per image at shape (1, 3, 640, 640)\n",
      "Processed 00106_195.jpg, saved to ./runs/detect/heatmap/heatmap_00106_195.jpg\n",
      "\n",
      "0: 640x640 1 positive, 8.2ms\n",
      "Speed: 2.9ms preprocess, 8.2ms inference, 1.2ms postprocess per image at shape (1, 3, 640, 640)\n",
      "Processed 00185_252.jpg, saved to ./runs/detect/heatmap/heatmap_00185_252.jpg\n",
      "\n",
      "0: 640x640 1 negative, 8.1ms\n",
      "Speed: 2.9ms preprocess, 8.1ms inference, 1.2ms postprocess per image at shape (1, 3, 640, 640)\n",
      "Processed 92 (2).jpg, saved to ./runs/detect/heatmap/heatmap_92 (2).jpg\n",
      "\n",
      "0: 640x640 1 negative, 7.9ms\n",
      "Speed: 2.7ms preprocess, 7.9ms inference, 1.2ms postprocess per image at shape (1, 3, 640, 640)\n",
      "Processed 00123_16.jpg, saved to ./runs/detect/heatmap/heatmap_00123_16.jpg\n",
      "\n",
      "0: 640x640 1 negative, 7.7ms\n",
      "Speed: 2.6ms preprocess, 7.7ms inference, 1.1ms postprocess per image at shape (1, 3, 640, 640)\n",
      "Processed 99.jpg, saved to ./runs/detect/heatmap/heatmap_99.jpg\n",
      "\n",
      "0: 640x640 1 negative, 7.8ms\n",
      "Speed: 2.9ms preprocess, 7.8ms inference, 1.1ms postprocess per image at shape (1, 3, 640, 640)\n",
      "Processed 67.jpg, saved to ./runs/detect/heatmap/heatmap_67.jpg\n",
      "\n",
      "0: 640x576 1 negative, 8.2ms\n",
      "Speed: 2.5ms preprocess, 8.2ms inference, 1.0ms postprocess per image at shape (1, 3, 640, 576)\n",
      "Processed 00124_12.jpg, saved to ./runs/detect/heatmap/heatmap_00124_12.jpg\n",
      "\n",
      "0: 640x640 2 negatives, 8.5ms\n",
      "Speed: 2.9ms preprocess, 8.5ms inference, 1.1ms postprocess per image at shape (1, 3, 640, 640)\n",
      "Processed 00064_101.jpg, saved to ./runs/detect/heatmap/heatmap_00064_101.jpg\n",
      "\n",
      "0: 640x640 1 negative, 7.8ms\n",
      "Speed: 3.0ms preprocess, 7.8ms inference, 1.1ms postprocess per image at shape (1, 3, 640, 640)\n",
      "Processed 00154_210.jpg, saved to ./runs/detect/heatmap/heatmap_00154_210.jpg\n",
      "\n",
      "0: 640x640 1 negative, 7.9ms\n",
      "Speed: 2.9ms preprocess, 7.9ms inference, 1.2ms postprocess per image at shape (1, 3, 640, 640)\n",
      "Processed 72.jpg, saved to ./runs/detect/heatmap/heatmap_72.jpg\n",
      "\n",
      "0: 640x480 1 positive, 8.3ms\n",
      "Speed: 2.0ms preprocess, 8.3ms inference, 1.1ms postprocess per image at shape (1, 3, 640, 480)\n",
      "Processed 00322_114.jpg, saved to ./runs/detect/heatmap/heatmap_00322_114.jpg\n",
      "\n",
      "0: 640x480 1 positive, 7.6ms\n",
      "Speed: 2.1ms preprocess, 7.6ms inference, 1.1ms postprocess per image at shape (1, 3, 640, 480)\n",
      "Processed 00296_125.jpg, saved to ./runs/detect/heatmap/heatmap_00296_125.jpg\n",
      "\n",
      "0: 640x640 1 positive, 8.1ms\n",
      "Speed: 2.7ms preprocess, 8.1ms inference, 1.1ms postprocess per image at shape (1, 3, 640, 640)\n",
      "Processed 00281_104.jpg, saved to ./runs/detect/heatmap/heatmap_00281_104.jpg\n",
      "\n",
      "0: 640x640 1 positive, 7.7ms\n",
      "Speed: 2.7ms preprocess, 7.7ms inference, 1.1ms postprocess per image at shape (1, 3, 640, 640)\n",
      "Processed 00305_107.jpg, saved to ./runs/detect/heatmap/heatmap_00305_107.jpg\n",
      "\n",
      "0: 640x640 1 negative, 7.6ms\n",
      "Speed: 2.8ms preprocess, 7.6ms inference, 1.1ms postprocess per image at shape (1, 3, 640, 640)\n",
      "Processed 00154_248.jpg, saved to ./runs/detect/heatmap/heatmap_00154_248.jpg\n",
      "\n",
      "0: 640x640 1 negative, 7.7ms\n",
      "Speed: 2.7ms preprocess, 7.7ms inference, 1.1ms postprocess per image at shape (1, 3, 640, 640)\n",
      "Processed 00111_98.jpg, saved to ./runs/detect/heatmap/heatmap_00111_98.jpg\n",
      "\n",
      "0: 640x608 1 negative, 8.6ms\n",
      "Speed: 2.8ms preprocess, 8.6ms inference, 1.1ms postprocess per image at shape (1, 3, 640, 608)\n",
      "Processed 00150_11.jpg, saved to ./runs/detect/heatmap/heatmap_00150_11.jpg\n",
      "\n",
      "0: 640x480 1 positive, 8.2ms\n",
      "Speed: 2.2ms preprocess, 8.2ms inference, 1.1ms postprocess per image at shape (1, 3, 640, 480)\n",
      "Processed 00350_157.jpg, saved to ./runs/detect/heatmap/heatmap_00350_157.jpg\n",
      "\n",
      "0: 640x640 1 negative, 8.1ms\n",
      "Speed: 2.9ms preprocess, 8.1ms inference, 1.1ms postprocess per image at shape (1, 3, 640, 640)\n",
      "Processed 00150_252.jpg, saved to ./runs/detect/heatmap/heatmap_00150_252.jpg\n",
      "\n",
      "0: 640x640 2 positives, 7.9ms\n",
      "Speed: 3.0ms preprocess, 7.9ms inference, 1.2ms postprocess per image at shape (1, 3, 640, 640)\n",
      "Processed 00166_206.jpg, saved to ./runs/detect/heatmap/heatmap_00166_206.jpg\n",
      "\n",
      "0: 640x640 1 positive, 7.8ms\n",
      "Speed: 2.8ms preprocess, 7.8ms inference, 1.2ms postprocess per image at shape (1, 3, 640, 640)\n",
      "Processed 65 (8).jpg, saved to ./runs/detect/heatmap/heatmap_65 (8).jpg\n",
      "\n",
      "0: 640x480 1 positive, 8.3ms\n",
      "Speed: 2.0ms preprocess, 8.3ms inference, 1.1ms postprocess per image at shape (1, 3, 640, 480)\n",
      "Processed 00313_124.jpg, saved to ./runs/detect/heatmap/heatmap_00313_124.jpg\n",
      "\n",
      "0: 640x640 1 negative, 8.1ms\n",
      "Speed: 2.9ms preprocess, 8.1ms inference, 1.1ms postprocess per image at shape (1, 3, 640, 640)\n",
      "Processed 86 (2).jpg, saved to ./runs/detect/heatmap/heatmap_86 (2).jpg\n",
      "\n",
      "0: 640x640 1 positive, 8.1ms\n",
      "Speed: 3.0ms preprocess, 8.1ms inference, 1.2ms postprocess per image at shape (1, 3, 640, 640)\n",
      "Processed 67 (9).jpg, saved to ./runs/detect/heatmap/heatmap_67 (9).jpg\n",
      "\n",
      "0: 640x576 1 positive, 8.0ms\n",
      "Speed: 2.6ms preprocess, 8.0ms inference, 1.2ms postprocess per image at shape (1, 3, 640, 576)\n",
      "Processed 00270_13.jpg, saved to ./runs/detect/heatmap/heatmap_00270_13.jpg\n",
      "\n",
      "0: 640x640 1 positive, 8.3ms\n",
      "Speed: 2.9ms preprocess, 8.3ms inference, 1.1ms postprocess per image at shape (1, 3, 640, 640)\n",
      "Processed 00143_272.jpg, saved to ./runs/detect/heatmap/heatmap_00143_272.jpg\n",
      "\n",
      "0: 640x480 1 positive, 8.7ms\n",
      "Speed: 2.0ms preprocess, 8.7ms inference, 1.2ms postprocess per image at shape (1, 3, 640, 480)\n",
      "Processed 00240_138.jpg, saved to ./runs/detect/heatmap/heatmap_00240_138.jpg\n",
      "\n",
      "0: 640x640 2 positives, 8.4ms\n",
      "Speed: 2.9ms preprocess, 8.4ms inference, 1.1ms postprocess per image at shape (1, 3, 640, 640)\n",
      "Processed 00059_84.jpg, saved to ./runs/detect/heatmap/heatmap_00059_84.jpg\n",
      "\n",
      "0: 640x640 1 negative, 7.9ms\n",
      "Speed: 3.0ms preprocess, 7.9ms inference, 1.1ms postprocess per image at shape (1, 3, 640, 640)\n",
      "Processed 75 (2).jpg, saved to ./runs/detect/heatmap/heatmap_75 (2).jpg\n",
      "\n",
      "0: 640x640 1 positive, 7.8ms\n",
      "Speed: 3.0ms preprocess, 7.8ms inference, 1.2ms postprocess per image at shape (1, 3, 640, 640)\n",
      "Processed 79 (10).jpg, saved to ./runs/detect/heatmap/heatmap_79 (10).jpg\n",
      "\n",
      "0: 640x480 1 positive, 8.8ms\n",
      "Speed: 2.0ms preprocess, 8.8ms inference, 1.1ms postprocess per image at shape (1, 3, 640, 480)\n",
      "Processed 00245_101.jpg, saved to ./runs/detect/heatmap/heatmap_00245_101.jpg\n",
      "\n",
      "0: 640x640 2 negatives, 8.3ms\n",
      "Speed: 2.9ms preprocess, 8.3ms inference, 1.1ms postprocess per image at shape (1, 3, 640, 640)\n",
      "Processed 64 (3).jpg, saved to ./runs/detect/heatmap/heatmap_64 (3).jpg\n",
      "\n",
      "0: 640x480 1 positive, 8.4ms\n",
      "Speed: 2.0ms preprocess, 8.4ms inference, 1.1ms postprocess per image at shape (1, 3, 640, 480)\n",
      "Processed 00352_103.jpg, saved to ./runs/detect/heatmap/heatmap_00352_103.jpg\n",
      "\n",
      "0: 640x480 1 positive, 8.0ms\n",
      "Speed: 2.1ms preprocess, 8.0ms inference, 3.3ms postprocess per image at shape (1, 3, 640, 480)\n",
      "Processed 00260_142.jpg, saved to ./runs/detect/heatmap/heatmap_00260_142.jpg\n",
      "\n",
      "0: 640x640 1 negative, 8.6ms\n",
      "Speed: 2.7ms preprocess, 8.6ms inference, 1.1ms postprocess per image at shape (1, 3, 640, 640)\n",
      "Processed 00130_100.jpg, saved to ./runs/detect/heatmap/heatmap_00130_100.jpg\n",
      "\n",
      "0: 640x640 1 negative, 7.9ms\n",
      "Speed: 2.9ms preprocess, 7.9ms inference, 1.2ms postprocess per image at shape (1, 3, 640, 640)\n",
      "Processed 79 (5).jpg, saved to ./runs/detect/heatmap/heatmap_79 (5).jpg\n",
      "\n",
      "0: 640x640 1 negative, 7.9ms\n",
      "Speed: 3.0ms preprocess, 7.9ms inference, 1.2ms postprocess per image at shape (1, 3, 640, 640)\n",
      "Processed 65 (3).jpg, saved to ./runs/detect/heatmap/heatmap_65 (3).jpg\n",
      "\n",
      "0: 640x480 1 positive, 8.9ms\n",
      "Speed: 2.2ms preprocess, 8.9ms inference, 1.1ms postprocess per image at shape (1, 3, 640, 480)\n",
      "Processed 00250_104.jpg, saved to ./runs/detect/heatmap/heatmap_00250_104.jpg\n",
      "\n",
      "0: 640x640 1 positive, 8.5ms\n",
      "Speed: 3.0ms preprocess, 8.5ms inference, 1.1ms postprocess per image at shape (1, 3, 640, 640)\n",
      "Processed 68 (4).jpg, saved to ./runs/detect/heatmap/heatmap_68 (4).jpg\n",
      "\n",
      "0: 640x640 1 negative, 7.8ms\n",
      "Speed: 3.0ms preprocess, 7.8ms inference, 1.2ms postprocess per image at shape (1, 3, 640, 640)\n",
      "Processed 75.jpg, saved to ./runs/detect/heatmap/heatmap_75.jpg\n",
      "\n",
      "0: 640x640 1 positive, 7.8ms\n",
      "Speed: 2.5ms preprocess, 7.8ms inference, 1.2ms postprocess per image at shape (1, 3, 640, 640)\n",
      "Processed 00359_103.jpg, saved to ./runs/detect/heatmap/heatmap_00359_103.jpg\n",
      "\n",
      "0: 640x640 1 negative, 7.8ms\n",
      "Speed: 2.9ms preprocess, 7.8ms inference, 1.2ms postprocess per image at shape (1, 3, 640, 640)\n",
      "Processed 00142_89.jpg, saved to ./runs/detect/heatmap/heatmap_00142_89.jpg\n",
      "\n",
      "0: 640x640 1 positive, 7.9ms\n",
      "Speed: 3.0ms preprocess, 7.9ms inference, 1.2ms postprocess per image at shape (1, 3, 640, 640)\n",
      "Processed 00166_189.jpg, saved to ./runs/detect/heatmap/heatmap_00166_189.jpg\n",
      "\n",
      "0: 640x480 1 positive, 8.7ms\n",
      "Speed: 2.0ms preprocess, 8.7ms inference, 1.2ms postprocess per image at shape (1, 3, 640, 480)\n",
      "Processed 00263_125.jpg, saved to ./runs/detect/heatmap/heatmap_00263_125.jpg\n",
      "\n",
      "0: 640x640 2 negatives, 8.3ms\n",
      "Speed: 2.9ms preprocess, 8.3ms inference, 1.1ms postprocess per image at shape (1, 3, 640, 640)\n",
      "Processed 74 (3).jpg, saved to ./runs/detect/heatmap/heatmap_74 (3).jpg\n",
      "\n",
      "0: 640x640 1 positive, 7.9ms\n",
      "Speed: 3.0ms preprocess, 7.9ms inference, 1.1ms postprocess per image at shape (1, 3, 640, 640)\n",
      "Processed 00071_221.jpg, saved to ./runs/detect/heatmap/heatmap_00071_221.jpg\n",
      "\n",
      "0: 640x640 1 negative, 8.0ms\n",
      "Speed: 2.9ms preprocess, 8.0ms inference, 1.2ms postprocess per image at shape (1, 3, 640, 640)\n",
      "Processed 76.jpg, saved to ./runs/detect/heatmap/heatmap_76.jpg\n",
      "\n",
      "0: 640x640 1 positive, 8.3ms\n",
      "Speed: 3.0ms preprocess, 8.3ms inference, 1.2ms postprocess per image at shape (1, 3, 640, 640)\n",
      "Processed 79 (9).jpg, saved to ./runs/detect/heatmap/heatmap_79 (9).jpg\n",
      "\n",
      "0: 640x640 1 positive, 7.9ms\n",
      "Speed: 2.9ms preprocess, 7.9ms inference, 1.3ms postprocess per image at shape (1, 3, 640, 640)\n",
      "Processed 81 (5).jpg, saved to ./runs/detect/heatmap/heatmap_81 (5).jpg\n",
      "\n",
      "0: 640x640 1 positive, 7.9ms\n",
      "Speed: 2.9ms preprocess, 7.9ms inference, 1.3ms postprocess per image at shape (1, 3, 640, 640)\n",
      "Processed 00077_166.jpg, saved to ./runs/detect/heatmap/heatmap_00077_166.jpg\n",
      "\n",
      "0: 640x640 1 positive, 8.0ms\n",
      "Speed: 2.9ms preprocess, 8.0ms inference, 1.2ms postprocess per image at shape (1, 3, 640, 640)\n",
      "Processed 00159_207.jpg, saved to ./runs/detect/heatmap/heatmap_00159_207.jpg\n",
      "\n",
      "0: 640x480 1 positive, 8.5ms\n",
      "Speed: 2.1ms preprocess, 8.5ms inference, 1.1ms postprocess per image at shape (1, 3, 640, 480)\n",
      "Processed 00306_92.jpg, saved to ./runs/detect/heatmap/heatmap_00306_92.jpg\n",
      "\n",
      "0: 640x480 1 positive, 7.9ms\n",
      "Speed: 2.1ms preprocess, 7.9ms inference, 1.1ms postprocess per image at shape (1, 3, 640, 480)\n",
      "Processed 00360_96.jpg, saved to ./runs/detect/heatmap/heatmap_00360_96.jpg\n",
      "\n",
      "0: 640x640 1 positive, 8.3ms\n",
      "Speed: 2.9ms preprocess, 8.3ms inference, 1.2ms postprocess per image at shape (1, 3, 640, 640)\n",
      "Processed 00128_277.jpg, saved to ./runs/detect/heatmap/heatmap_00128_277.jpg\n",
      "\n",
      "0: 640x640 1 positive, 7.8ms\n",
      "Speed: 3.0ms preprocess, 7.8ms inference, 1.2ms postprocess per image at shape (1, 3, 640, 640)\n",
      "Processed 66 (9).jpg, saved to ./runs/detect/heatmap/heatmap_66 (9).jpg\n",
      "\n",
      "0: 640x640 1 negative, 7.7ms\n",
      "Speed: 2.9ms preprocess, 7.7ms inference, 1.2ms postprocess per image at shape (1, 3, 640, 640)\n",
      "Processed 00095_224.jpg, saved to ./runs/detect/heatmap/heatmap_00095_224.jpg\n",
      "\n",
      "0: 640x640 1 positive, 7.8ms\n",
      "Speed: 2.9ms preprocess, 7.8ms inference, 1.1ms postprocess per image at shape (1, 3, 640, 640)\n",
      "Processed 00138_289.jpg, saved to ./runs/detect/heatmap/heatmap_00138_289.jpg\n",
      "\n",
      "0: 640x480 1 positive, 8.4ms\n",
      "Speed: 2.0ms preprocess, 8.4ms inference, 1.1ms postprocess per image at shape (1, 3, 640, 480)\n",
      "Processed 00285_87.jpg, saved to ./runs/detect/heatmap/heatmap_00285_87.jpg\n",
      "\n",
      "0: 640x640 1 positive, 8.4ms\n",
      "Speed: 3.0ms preprocess, 8.4ms inference, 1.1ms postprocess per image at shape (1, 3, 640, 640)\n",
      "Processed 00109_85.jpg, saved to ./runs/detect/heatmap/heatmap_00109_85.jpg\n",
      "\n",
      "0: 640x640 1 negative, 7.8ms\n",
      "Speed: 3.0ms preprocess, 7.8ms inference, 1.2ms postprocess per image at shape (1, 3, 640, 640)\n",
      "Processed 62.jpg, saved to ./runs/detect/heatmap/heatmap_62.jpg\n",
      "\n",
      "0: 640x480 1 negative, 8.0ms\n",
      "Speed: 2.0ms preprocess, 8.0ms inference, 1.2ms postprocess per image at shape (1, 3, 640, 480)\n",
      "Processed 00165_118.jpg, saved to ./runs/detect/heatmap/heatmap_00165_118.jpg\n",
      "\n",
      "0: 640x640 1 positive, 8.3ms\n",
      "Speed: 2.9ms preprocess, 8.3ms inference, 1.2ms postprocess per image at shape (1, 3, 640, 640)\n",
      "Processed 00071_183.jpg, saved to ./runs/detect/heatmap/heatmap_00071_183.jpg\n",
      "\n",
      "0: 640x640 1 negative, 8.1ms\n",
      "Speed: 3.0ms preprocess, 8.1ms inference, 1.2ms postprocess per image at shape (1, 3, 640, 640)\n",
      "Processed 00095_243.jpg, saved to ./runs/detect/heatmap/heatmap_00095_243.jpg\n",
      "\n",
      "0: 640x640 1 negative, 7.9ms\n",
      "Speed: 2.9ms preprocess, 7.9ms inference, 1.2ms postprocess per image at shape (1, 3, 640, 640)\n",
      "Processed 00191_106.jpg, saved to ./runs/detect/heatmap/heatmap_00191_106.jpg\n",
      "\n",
      "0: 640x640 2 positives, 7.9ms\n",
      "Speed: 2.8ms preprocess, 7.9ms inference, 1.2ms postprocess per image at shape (1, 3, 640, 640)\n",
      "Processed 00105_151.jpg, saved to ./runs/detect/heatmap/heatmap_00105_151.jpg\n",
      "\n",
      "0: 640x640 1 negative, 7.9ms\n",
      "Speed: 3.1ms preprocess, 7.9ms inference, 1.2ms postprocess per image at shape (1, 3, 640, 640)\n",
      "Processed 73 (3).jpg, saved to ./runs/detect/heatmap/heatmap_73 (3).jpg\n",
      "\n",
      "0: 640x480 1 negative, 8.6ms\n",
      "Speed: 2.1ms preprocess, 8.6ms inference, 1.1ms postprocess per image at shape (1, 3, 640, 480)\n",
      "Processed 00158_86.jpg, saved to ./runs/detect/heatmap/heatmap_00158_86.jpg\n",
      "\n",
      "0: 640x640 1 negative, 8.5ms\n",
      "Speed: 2.9ms preprocess, 8.5ms inference, 1.2ms postprocess per image at shape (1, 3, 640, 640)\n",
      "Processed 00072_196.jpg, saved to ./runs/detect/heatmap/heatmap_00072_196.jpg\n",
      "\n",
      "0: 640x640 1 negative, 7.8ms\n",
      "Speed: 2.9ms preprocess, 7.8ms inference, 1.3ms postprocess per image at shape (1, 3, 640, 640)\n",
      "Processed 00176_127.jpg, saved to ./runs/detect/heatmap/heatmap_00176_127.jpg\n",
      "\n",
      "0: 640x640 1 positive, 7.6ms\n",
      "Speed: 2.9ms preprocess, 7.6ms inference, 1.2ms postprocess per image at shape (1, 3, 640, 640)\n",
      "Processed 00077_226.jpg, saved to ./runs/detect/heatmap/heatmap_00077_226.jpg\n",
      "\n",
      "0: 640x640 1 positive, 7.9ms\n",
      "Speed: 2.9ms preprocess, 7.9ms inference, 1.2ms postprocess per image at shape (1, 3, 640, 640)\n",
      "Processed 82 (5).jpg, saved to ./runs/detect/heatmap/heatmap_82 (5).jpg\n",
      "\n",
      "0: 640x480 1 positive, 8.8ms\n",
      "Speed: 2.1ms preprocess, 8.8ms inference, 1.2ms postprocess per image at shape (1, 3, 640, 480)\n",
      "Processed 00273_96.jpg, saved to ./runs/detect/heatmap/heatmap_00273_96.jpg\n",
      "\n",
      "0: 640x640 1 negative, 8.6ms\n",
      "Speed: 3.1ms preprocess, 8.6ms inference, 1.3ms postprocess per image at shape (1, 3, 640, 640)\n",
      "Processed 00104_150.jpg, saved to ./runs/detect/heatmap/heatmap_00104_150.jpg\n",
      "\n",
      "0: 640x480 1 positive, 8.5ms\n",
      "Speed: 2.2ms preprocess, 8.5ms inference, 1.2ms postprocess per image at shape (1, 3, 640, 480)\n",
      "Processed 00254_89.jpg, saved to ./runs/detect/heatmap/heatmap_00254_89.jpg\n",
      "\n",
      "0: 640x640 1 positive, 8.8ms\n",
      "Speed: 3.0ms preprocess, 8.8ms inference, 1.2ms postprocess per image at shape (1, 3, 640, 640)\n",
      "Processed 109 (2).jpg, saved to ./runs/detect/heatmap/heatmap_109 (2).jpg\n",
      "\n",
      "0: 640x640 1 positive, 7.9ms\n",
      "Speed: 3.0ms preprocess, 7.9ms inference, 1.2ms postprocess per image at shape (1, 3, 640, 640)\n",
      "Processed 65 (7).jpg, saved to ./runs/detect/heatmap/heatmap_65 (7).jpg\n",
      "\n",
      "0: 640x640 1 positive, 7.9ms\n",
      "Speed: 2.9ms preprocess, 7.9ms inference, 1.2ms postprocess per image at shape (1, 3, 640, 640)\n",
      "Processed 102 (2).jpg, saved to ./runs/detect/heatmap/heatmap_102 (2).jpg\n",
      "\n",
      "0: 640x640 1 negative, 8.0ms\n",
      "Speed: 2.8ms preprocess, 8.0ms inference, 1.1ms postprocess per image at shape (1, 3, 640, 640)\n",
      "Processed 91 (3).jpg, saved to ./runs/detect/heatmap/heatmap_91 (3).jpg\n",
      "\n",
      "0: 640x480 1 negative, 8.6ms\n",
      "Speed: 2.0ms preprocess, 8.6ms inference, 1.1ms postprocess per image at shape (1, 3, 640, 480)\n",
      "Processed 00158_108.jpg, saved to ./runs/detect/heatmap/heatmap_00158_108.jpg\n",
      "\n",
      "0: 640x480 2 positives, 9.6ms\n",
      "Speed: 2.1ms preprocess, 9.6ms inference, 1.2ms postprocess per image at shape (1, 3, 640, 480)\n",
      "Processed 00340_128.jpg, saved to ./runs/detect/heatmap/heatmap_00340_128.jpg\n",
      "\n",
      "0: 640x640 1 positive, 8.7ms\n",
      "Speed: 2.9ms preprocess, 8.7ms inference, 1.1ms postprocess per image at shape (1, 3, 640, 640)\n",
      "Processed 00098_247.jpg, saved to ./runs/detect/heatmap/heatmap_00098_247.jpg\n",
      "\n",
      "0: 640x640 1 negative, 8.0ms\n",
      "Speed: 3.0ms preprocess, 8.0ms inference, 1.1ms postprocess per image at shape (1, 3, 640, 640)\n",
      "Processed 00097_162.jpg, saved to ./runs/detect/heatmap/heatmap_00097_162.jpg\n",
      "\n",
      "0: 640x640 1 positive, 7.9ms\n",
      "Speed: 2.9ms preprocess, 7.9ms inference, 1.3ms postprocess per image at shape (1, 3, 640, 640)\n",
      "Processed 62 (12).jpg, saved to ./runs/detect/heatmap/heatmap_62 (12).jpg\n",
      "\n",
      "0: 640x640 1 positive, 8.1ms\n",
      "Speed: 2.9ms preprocess, 8.1ms inference, 1.2ms postprocess per image at shape (1, 3, 640, 640)\n",
      "Processed 68 (6).jpg, saved to ./runs/detect/heatmap/heatmap_68 (6).jpg\n",
      "\n",
      "0: 640x640 1 negative, 7.6ms\n",
      "Speed: 2.9ms preprocess, 7.6ms inference, 1.1ms postprocess per image at shape (1, 3, 640, 640)\n",
      "Processed 00147_134.jpg, saved to ./runs/detect/heatmap/heatmap_00147_134.jpg\n",
      "\n",
      "0: 640x640 1 negative, 7.8ms\n",
      "Speed: 2.9ms preprocess, 7.8ms inference, 1.1ms postprocess per image at shape (1, 3, 640, 640)\n",
      "Processed 79 (4).jpg, saved to ./runs/detect/heatmap/heatmap_79 (4).jpg\n",
      "\n",
      "0: 640x480 1 negative, 8.4ms\n",
      "Speed: 2.0ms preprocess, 8.4ms inference, 1.1ms postprocess per image at shape (1, 3, 640, 480)\n",
      "Processed 00172_108.jpg, saved to ./runs/detect/heatmap/heatmap_00172_108.jpg\n",
      "\n",
      "0: 640x640 1 positive, 8.5ms\n",
      "Speed: 2.9ms preprocess, 8.5ms inference, 1.2ms postprocess per image at shape (1, 3, 640, 640)\n",
      "Processed 00156_180.jpg, saved to ./runs/detect/heatmap/heatmap_00156_180.jpg\n",
      "\n",
      "0: 640x640 1 positive, 7.7ms\n",
      "Speed: 3.0ms preprocess, 7.7ms inference, 1.3ms postprocess per image at shape (1, 3, 640, 640)\n",
      "Processed 00187_135.jpg, saved to ./runs/detect/heatmap/heatmap_00187_135.jpg\n",
      "\n",
      "0: 640x640 1 negative, 7.8ms\n",
      "Speed: 2.6ms preprocess, 7.8ms inference, 1.3ms postprocess per image at shape (1, 3, 640, 640)\n",
      "Processed 104 (2).jpg, saved to ./runs/detect/heatmap/heatmap_104 (2).jpg\n",
      "\n",
      "0: 640x640 2 negatives, 8.0ms\n",
      "Speed: 2.8ms preprocess, 8.0ms inference, 1.2ms postprocess per image at shape (1, 3, 640, 640)\n",
      "Processed 00147_170.jpg, saved to ./runs/detect/heatmap/heatmap_00147_170.jpg\n",
      "\n",
      "0: 640x640 1 negative, 7.9ms\n",
      "Speed: 2.6ms preprocess, 7.9ms inference, 1.2ms postprocess per image at shape (1, 3, 640, 640)\n",
      "Processed 00111_110.jpg, saved to ./runs/detect/heatmap/heatmap_00111_110.jpg\n",
      "\n",
      "0: 640x640 1 positive, 7.9ms\n",
      "Speed: 3.0ms preprocess, 7.9ms inference, 1.2ms postprocess per image at shape (1, 3, 640, 640)\n",
      "Processed 74 (9).jpg, saved to ./runs/detect/heatmap/heatmap_74 (9).jpg\n",
      "\n",
      "0: 640x640 1 positive, 8.1ms\n",
      "Speed: 3.2ms preprocess, 8.1ms inference, 1.2ms postprocess per image at shape (1, 3, 640, 640)\n",
      "Processed 67 (10).jpg, saved to ./runs/detect/heatmap/heatmap_67 (10).jpg\n",
      "\n",
      "0: 640x640 1 negative, 8.0ms\n",
      "Speed: 3.0ms preprocess, 8.0ms inference, 1.2ms postprocess per image at shape (1, 3, 640, 640)\n",
      "Processed 62 (2).jpg, saved to ./runs/detect/heatmap/heatmap_62 (2).jpg\n",
      "\n",
      "0: 640x640 1 negative, 8.2ms\n",
      "Speed: 3.0ms preprocess, 8.2ms inference, 1.2ms postprocess per image at shape (1, 3, 640, 640)\n",
      "Processed 00123_277.jpg, saved to ./runs/detect/heatmap/heatmap_00123_277.jpg\n",
      "\n",
      "0: 640x640 1 positive, 7.6ms\n",
      "Speed: 2.7ms preprocess, 7.6ms inference, 1.1ms postprocess per image at shape (1, 3, 640, 640)\n",
      "Processed 00056_239.jpg, saved to ./runs/detect/heatmap/heatmap_00056_239.jpg\n",
      "\n",
      "0: 640x640 1 negative, 7.3ms\n",
      "Speed: 2.8ms preprocess, 7.3ms inference, 1.0ms postprocess per image at shape (1, 3, 640, 640)\n",
      "Processed 87 (2).jpg, saved to ./runs/detect/heatmap/heatmap_87 (2).jpg\n",
      "\n",
      "0: 640x640 1 negative, 7.0ms\n",
      "Speed: 2.7ms preprocess, 7.0ms inference, 1.0ms postprocess per image at shape (1, 3, 640, 640)\n",
      "Processed 00121_175.jpg, saved to ./runs/detect/heatmap/heatmap_00121_175.jpg\n",
      "\n",
      "0: 640x640 1 negative, 7.0ms\n",
      "Speed: 2.5ms preprocess, 7.0ms inference, 1.0ms postprocess per image at shape (1, 3, 640, 640)\n",
      "Processed 00123_12.jpg, saved to ./runs/detect/heatmap/heatmap_00123_12.jpg\n",
      "\n",
      "0: 640x640 1 positive, 6.9ms\n",
      "Speed: 2.7ms preprocess, 6.9ms inference, 1.0ms postprocess per image at shape (1, 3, 640, 640)\n",
      "Processed 00058_102.jpg, saved to ./runs/detect/heatmap/heatmap_00058_102.jpg\n",
      "\n",
      "0: 640x640 1 positive, 6.8ms\n",
      "Speed: 2.8ms preprocess, 6.8ms inference, 1.0ms postprocess per image at shape (1, 3, 640, 640)\n",
      "Processed 69 (7).jpg, saved to ./runs/detect/heatmap/heatmap_69 (7).jpg\n",
      "\n",
      "0: 640x640 1 positive, 7.4ms\n",
      "Speed: 2.7ms preprocess, 7.4ms inference, 1.1ms postprocess per image at shape (1, 3, 640, 640)\n",
      "Processed 90 (3).jpg, saved to ./runs/detect/heatmap/heatmap_90 (3).jpg\n",
      "\n",
      "0: 640x640 1 positive, 7.0ms\n",
      "Speed: 2.4ms preprocess, 7.0ms inference, 1.0ms postprocess per image at shape (1, 3, 640, 640)\n",
      "Processed 00305_98.jpg, saved to ./runs/detect/heatmap/heatmap_00305_98.jpg\n",
      "\n",
      "0: 640x640 1 negative, 7.3ms\n",
      "Speed: 2.5ms preprocess, 7.3ms inference, 1.0ms postprocess per image at shape (1, 3, 640, 640)\n",
      "Processed 00122_8.jpg, saved to ./runs/detect/heatmap/heatmap_00122_8.jpg\n",
      "\n",
      "0: 640x640 1 negative, 6.8ms\n",
      "Speed: 2.7ms preprocess, 6.8ms inference, 1.0ms postprocess per image at shape (1, 3, 640, 640)\n",
      "Processed 68.jpg, saved to ./runs/detect/heatmap/heatmap_68.jpg\n",
      "\n",
      "0: 640x480 1 negative, 7.8ms\n",
      "Speed: 1.9ms preprocess, 7.8ms inference, 1.0ms postprocess per image at shape (1, 3, 640, 480)\n",
      "Processed 00165_116.jpg, saved to ./runs/detect/heatmap/heatmap_00165_116.jpg\n",
      "\n",
      "0: 640x640 1 negative, 7.4ms\n",
      "Speed: 2.5ms preprocess, 7.4ms inference, 1.0ms postprocess per image at shape (1, 3, 640, 640)\n",
      "Processed 00169_119.jpg, saved to ./runs/detect/heatmap/heatmap_00169_119.jpg\n",
      "\n",
      "0: 640x640 1 negative, 7.0ms\n",
      "Speed: 2.6ms preprocess, 7.0ms inference, 1.0ms postprocess per image at shape (1, 3, 640, 640)\n",
      "Processed 93 (2).jpg, saved to ./runs/detect/heatmap/heatmap_93 (2).jpg\n",
      "\n",
      "0: 640x640 1 negative, 6.9ms\n",
      "Speed: 2.8ms preprocess, 6.9ms inference, 1.0ms postprocess per image at shape (1, 3, 640, 640)\n",
      "Processed 78.jpg, saved to ./runs/detect/heatmap/heatmap_78.jpg\n",
      "\n",
      "0: 640x640 1 positive, 7.6ms\n",
      "Speed: 2.8ms preprocess, 7.6ms inference, 1.1ms postprocess per image at shape (1, 3, 640, 640)\n",
      "Processed 81 (6).jpg, saved to ./runs/detect/heatmap/heatmap_81 (6).jpg\n",
      "\n",
      "0: 640x640 1 positive, 7.2ms\n",
      "Speed: 2.8ms preprocess, 7.2ms inference, 1.0ms postprocess per image at shape (1, 3, 640, 640)\n",
      "Processed 00146_142.jpg, saved to ./runs/detect/heatmap/heatmap_00146_142.jpg\n",
      "\n",
      "0: 640x640 1 positive, 7.2ms\n",
      "Speed: 2.7ms preprocess, 7.2ms inference, 1.0ms postprocess per image at shape (1, 3, 640, 640)\n",
      "Processed 99 (3).jpg, saved to ./runs/detect/heatmap/heatmap_99 (3).jpg\n",
      "\n",
      "0: 640x640 1 positive, 7.6ms\n",
      "Speed: 2.8ms preprocess, 7.6ms inference, 1.1ms postprocess per image at shape (1, 3, 640, 640)\n",
      "Processed 00128_260.jpg, saved to ./runs/detect/heatmap/heatmap_00128_260.jpg\n",
      "\n",
      "0: 640x480 1 positive, 8.8ms\n",
      "Speed: 2.1ms preprocess, 8.8ms inference, 1.2ms postprocess per image at shape (1, 3, 640, 480)\n",
      "Processed 00250_110.jpg, saved to ./runs/detect/heatmap/heatmap_00250_110.jpg\n",
      "\n",
      "0: 640x640 1 negative, 8.8ms\n",
      "Speed: 3.1ms preprocess, 8.8ms inference, 1.2ms postprocess per image at shape (1, 3, 640, 640)\n",
      "Processed 00193_208.jpg, saved to ./runs/detect/heatmap/heatmap_00193_208.jpg\n",
      "\n",
      "0: 640x640 1 positive, 8.0ms\n",
      "Speed: 3.0ms preprocess, 8.0ms inference, 1.2ms postprocess per image at shape (1, 3, 640, 640)\n",
      "Processed 74 (11).jpg, saved to ./runs/detect/heatmap/heatmap_74 (11).jpg\n",
      "\n",
      "0: 640x480 2 positives, 7.6ms\n",
      "Speed: 1.9ms preprocess, 7.6ms inference, 1.0ms postprocess per image at shape (1, 3, 640, 480)\n",
      "Processed 00322_134.jpg, saved to ./runs/detect/heatmap/heatmap_00322_134.jpg\n",
      "\n",
      "0: 640x480 2 positives, 7.2ms\n",
      "Speed: 2.0ms preprocess, 7.2ms inference, 1.0ms postprocess per image at shape (1, 3, 640, 480)\n",
      "Processed 00322_130.jpg, saved to ./runs/detect/heatmap/heatmap_00322_130.jpg\n",
      "\n",
      "0: 640x640 1 negative, 7.5ms\n",
      "Speed: 2.4ms preprocess, 7.5ms inference, 1.0ms postprocess per image at shape (1, 3, 640, 640)\n",
      "Processed 00104_14.jpg, saved to ./runs/detect/heatmap/heatmap_00104_14.jpg\n",
      "\n",
      "0: 640x480 1 negative, 7.5ms\n",
      "Speed: 1.9ms preprocess, 7.5ms inference, 0.9ms postprocess per image at shape (1, 3, 640, 480)\n",
      "Processed 00116_12.jpg, saved to ./runs/detect/heatmap/heatmap_00116_12.jpg\n",
      "\n",
      "0: 640x640 1 negative, 7.8ms\n",
      "Speed: 2.5ms preprocess, 7.8ms inference, 0.9ms postprocess per image at shape (1, 3, 640, 640)\n",
      "Processed 00130_78.jpg, saved to ./runs/detect/heatmap/heatmap_00130_78.jpg\n",
      "\n",
      "0: 640x640 1 positive, 7.4ms\n",
      "Speed: 2.4ms preprocess, 7.4ms inference, 1.0ms postprocess per image at shape (1, 3, 640, 640)\n",
      "Processed 00281_122.jpg, saved to ./runs/detect/heatmap/heatmap_00281_122.jpg\n",
      "\n",
      "0: 640x640 1 negative, 7.0ms\n",
      "Speed: 2.7ms preprocess, 7.0ms inference, 0.9ms postprocess per image at shape (1, 3, 640, 640)\n",
      "Processed 78 (3).jpg, saved to ./runs/detect/heatmap/heatmap_78 (3).jpg\n",
      "\n",
      "0: 640x480 1 positive, 7.6ms\n",
      "Speed: 1.9ms preprocess, 7.6ms inference, 1.0ms postprocess per image at shape (1, 3, 640, 480)\n",
      "Processed 00360_90.jpg, saved to ./runs/detect/heatmap/heatmap_00360_90.jpg\n",
      "\n",
      "0: 640x480 1 positive, 7.0ms\n",
      "Speed: 1.9ms preprocess, 7.0ms inference, 0.9ms postprocess per image at shape (1, 3, 640, 480)\n",
      "Processed 00311_117.jpg, saved to ./runs/detect/heatmap/heatmap_00311_117.jpg\n",
      "\n",
      "0: 640x640 1 positive, 7.3ms\n",
      "Speed: 2.6ms preprocess, 7.3ms inference, 0.9ms postprocess per image at shape (1, 3, 640, 640)\n",
      "Processed 00066_278.jpg, saved to ./runs/detect/heatmap/heatmap_00066_278.jpg\n",
      "\n",
      "0: 640x480 1 positive, 7.5ms\n",
      "Speed: 2.1ms preprocess, 7.5ms inference, 0.9ms postprocess per image at shape (1, 3, 640, 480)\n",
      "Processed 00360_87.jpg, saved to ./runs/detect/heatmap/heatmap_00360_87.jpg\n",
      "\n",
      "0: 640x640 1 negative, 7.7ms\n",
      "Speed: 2.7ms preprocess, 7.7ms inference, 0.9ms postprocess per image at shape (1, 3, 640, 640)\n",
      "Processed 00130_273.jpg, saved to ./runs/detect/heatmap/heatmap_00130_273.jpg\n",
      "\n",
      "0: 640x640 1 positive, 7.5ms\n",
      "Speed: 3.1ms preprocess, 7.5ms inference, 1.0ms postprocess per image at shape (1, 3, 640, 640)\n",
      "Processed 66 (10).jpg, saved to ./runs/detect/heatmap/heatmap_66 (10).jpg\n",
      "\n",
      "0: 640x640 1 positive, 7.0ms\n",
      "Speed: 2.4ms preprocess, 7.0ms inference, 1.0ms postprocess per image at shape (1, 3, 640, 640)\n",
      "Processed 00359_121.jpg, saved to ./runs/detect/heatmap/heatmap_00359_121.jpg\n",
      "\n",
      "0: 640x640 1 negative, 6.9ms\n",
      "Speed: 2.5ms preprocess, 6.9ms inference, 1.0ms postprocess per image at shape (1, 3, 640, 640)\n",
      "Processed 00097_74.jpg, saved to ./runs/detect/heatmap/heatmap_00097_74.jpg\n",
      "\n",
      "0: 640x640 1 positive, 6.9ms\n",
      "Speed: 2.7ms preprocess, 6.9ms inference, 0.9ms postprocess per image at shape (1, 3, 640, 640)\n",
      "Processed 74 (8).jpg, saved to ./runs/detect/heatmap/heatmap_74 (8).jpg\n",
      "\n",
      "0: 640x480 1 positive, 7.7ms\n",
      "Speed: 2.1ms preprocess, 7.7ms inference, 1.1ms postprocess per image at shape (1, 3, 640, 480)\n",
      "Processed 00260_125.jpg, saved to ./runs/detect/heatmap/heatmap_00260_125.jpg\n",
      "\n",
      "0: 640x640 2 negatives, 7.4ms\n",
      "Speed: 2.4ms preprocess, 7.4ms inference, 1.0ms postprocess per image at shape (1, 3, 640, 640)\n",
      "Processed 125.jpg, saved to ./runs/detect/heatmap/heatmap_125.jpg\n",
      "\n",
      "0: 640x480 1 negative, 7.3ms\n",
      "Speed: 1.9ms preprocess, 7.3ms inference, 0.9ms postprocess per image at shape (1, 3, 640, 480)\n",
      "Processed 00183_86.jpg, saved to ./runs/detect/heatmap/heatmap_00183_86.jpg\n",
      "\n",
      "0: 640x640 1 positive, 7.9ms\n",
      "Speed: 2.7ms preprocess, 7.9ms inference, 1.0ms postprocess per image at shape (1, 3, 640, 640)\n",
      "Processed 00105_113.jpg, saved to ./runs/detect/heatmap/heatmap_00105_113.jpg\n",
      "\n",
      "0: 640x640 1 negative, 7.6ms\n",
      "Speed: 2.9ms preprocess, 7.6ms inference, 1.0ms postprocess per image at shape (1, 3, 640, 640)\n",
      "Processed 96 (3).jpg, saved to ./runs/detect/heatmap/heatmap_96 (3).jpg\n",
      "\n",
      "0: 640x640 1 negative, 7.1ms\n",
      "Speed: 2.7ms preprocess, 7.1ms inference, 1.1ms postprocess per image at shape (1, 3, 640, 640)\n",
      "Processed 00072_138.jpg, saved to ./runs/detect/heatmap/heatmap_00072_138.jpg\n",
      "\n",
      "0: 640x640 1 negative, 7.4ms\n",
      "Speed: 2.7ms preprocess, 7.4ms inference, 1.0ms postprocess per image at shape (1, 3, 640, 640)\n",
      "Processed 68 (2).jpg, saved to ./runs/detect/heatmap/heatmap_68 (2).jpg\n",
      "\n",
      "0: 640x640 1 positive, 7.3ms\n",
      "Speed: 2.7ms preprocess, 7.3ms inference, 1.0ms postprocess per image at shape (1, 3, 640, 640)\n",
      "Processed 96 (5).jpg, saved to ./runs/detect/heatmap/heatmap_96 (5).jpg\n",
      "\n",
      "0: 640x640 1 positive, 7.2ms\n",
      "Speed: 2.7ms preprocess, 7.2ms inference, 1.0ms postprocess per image at shape (1, 3, 640, 640)\n",
      "Processed 73 (4).jpg, saved to ./runs/detect/heatmap/heatmap_73 (4).jpg\n",
      "\n",
      "0: 640x480 1 positive, 7.6ms\n",
      "Speed: 1.9ms preprocess, 7.6ms inference, 1.0ms postprocess per image at shape (1, 3, 640, 480)\n",
      "Processed 00350_126.jpg, saved to ./runs/detect/heatmap/heatmap_00350_126.jpg\n",
      "\n",
      "0: 640x640 1 positive, 7.4ms\n",
      "Speed: 2.7ms preprocess, 7.4ms inference, 0.9ms postprocess per image at shape (1, 3, 640, 640)\n",
      "Processed 00177_280.jpg, saved to ./runs/detect/heatmap/heatmap_00177_280.jpg\n",
      "\n",
      "0: 640x640 1 negative, 7.3ms\n",
      "Speed: 2.7ms preprocess, 7.3ms inference, 1.0ms postprocess per image at shape (1, 3, 640, 640)\n",
      "Processed 82 (4).jpg, saved to ./runs/detect/heatmap/heatmap_82 (4).jpg\n",
      "\n",
      "0: 640x544 1 positive, 8.2ms\n",
      "Speed: 2.6ms preprocess, 8.2ms inference, 1.0ms postprocess per image at shape (1, 3, 640, 544)\n",
      "Processed 00291_22.jpg, saved to ./runs/detect/heatmap/heatmap_00291_22.jpg\n",
      "\n",
      "0: 640x640 1 negative, 7.9ms\n",
      "Speed: 2.8ms preprocess, 7.9ms inference, 1.0ms postprocess per image at shape (1, 3, 640, 640)\n",
      "Processed 66 (6).jpg, saved to ./runs/detect/heatmap/heatmap_66 (6).jpg\n",
      "\n",
      "0: 640x640 1 positive, 7.2ms\n",
      "Speed: 2.7ms preprocess, 7.2ms inference, 1.0ms postprocess per image at shape (1, 3, 640, 640)\n",
      "Processed 00144_260.jpg, saved to ./runs/detect/heatmap/heatmap_00144_260.jpg\n",
      "\n",
      "0: 640x640 1 negative, 7.1ms\n",
      "Speed: 2.8ms preprocess, 7.1ms inference, 1.0ms postprocess per image at shape (1, 3, 640, 640)\n",
      "Processed 00169_208.jpg, saved to ./runs/detect/heatmap/heatmap_00169_208.jpg\n",
      "\n",
      "0: 640x640 1 negative, 7.4ms\n",
      "Speed: 2.8ms preprocess, 7.4ms inference, 1.0ms postprocess per image at shape (1, 3, 640, 640)\n",
      "Processed 00193_172.jpg, saved to ./runs/detect/heatmap/heatmap_00193_172.jpg\n",
      "\n",
      "0: 640x480 1 positive, 8.0ms\n",
      "Speed: 2.0ms preprocess, 8.0ms inference, 1.0ms postprocess per image at shape (1, 3, 640, 480)\n",
      "Processed 00271_111.jpg, saved to ./runs/detect/heatmap/heatmap_00271_111.jpg\n",
      "\n",
      "0: 640x640 2 positives, 7.5ms\n",
      "Speed: 2.7ms preprocess, 7.5ms inference, 0.9ms postprocess per image at shape (1, 3, 640, 640)\n",
      "Processed 61 (5).jpg, saved to ./runs/detect/heatmap/heatmap_61 (5).jpg\n",
      "\n",
      "0: 640x640 1 negative, 7.1ms\n",
      "Speed: 2.9ms preprocess, 7.1ms inference, 1.0ms postprocess per image at shape (1, 3, 640, 640)\n",
      "Processed 00157_115.jpg, saved to ./runs/detect/heatmap/heatmap_00157_115.jpg\n",
      "\n",
      "0: 640x640 1 positive, 7.0ms\n",
      "Speed: 2.6ms preprocess, 7.0ms inference, 1.0ms postprocess per image at shape (1, 3, 640, 640)\n",
      "Processed 00187_153.jpg, saved to ./runs/detect/heatmap/heatmap_00187_153.jpg\n",
      "\n",
      "0: 640x640 1 positive, 7.2ms\n",
      "Speed: 2.7ms preprocess, 7.2ms inference, 1.0ms postprocess per image at shape (1, 3, 640, 640)\n",
      "Processed 79 (8).jpg, saved to ./runs/detect/heatmap/heatmap_79 (8).jpg\n",
      "\n",
      "0: 640x640 1 positive, 7.2ms\n",
      "Speed: 2.7ms preprocess, 7.2ms inference, 1.0ms postprocess per image at shape (1, 3, 640, 640)\n",
      "Processed 85 (6).jpg, saved to ./runs/detect/heatmap/heatmap_85 (6).jpg\n",
      "\n",
      "0: 640x640 1 negative, 7.2ms\n",
      "Speed: 2.7ms preprocess, 7.2ms inference, 1.0ms postprocess per image at shape (1, 3, 640, 640)\n",
      "Processed 00132_164.jpg, saved to ./runs/detect/heatmap/heatmap_00132_164.jpg\n",
      "\n",
      "0: 640x640 1 positive, 7.3ms\n",
      "Speed: 2.7ms preprocess, 7.3ms inference, 1.0ms postprocess per image at shape (1, 3, 640, 640)\n",
      "Processed 00120_245.jpg, saved to ./runs/detect/heatmap/heatmap_00120_245.jpg\n",
      "\n",
      "0: 640x480 1 positive, 7.9ms\n",
      "Speed: 1.9ms preprocess, 7.9ms inference, 1.0ms postprocess per image at shape (1, 3, 640, 480)\n",
      "Processed 00263_123.jpg, saved to ./runs/detect/heatmap/heatmap_00263_123.jpg\n",
      "\n",
      "0: 640x480 1 positive, 7.1ms\n",
      "Speed: 1.9ms preprocess, 7.1ms inference, 1.0ms postprocess per image at shape (1, 3, 640, 480)\n",
      "Processed 00350_145.jpg, saved to ./runs/detect/heatmap/heatmap_00350_145.jpg\n",
      "\n",
      "0: 640x640 1 positive, 7.8ms\n",
      "Speed: 2.7ms preprocess, 7.8ms inference, 0.9ms postprocess per image at shape (1, 3, 640, 640)\n",
      "Processed 00074_269.jpg, saved to ./runs/detect/heatmap/heatmap_00074_269.jpg\n",
      "\n",
      "0: 640x480 1 positive, 7.6ms\n",
      "Speed: 2.0ms preprocess, 7.6ms inference, 1.0ms postprocess per image at shape (1, 3, 640, 480)\n",
      "Processed 00271_106.jpg, saved to ./runs/detect/heatmap/heatmap_00271_106.jpg\n",
      "\n",
      "0: 640x640 1 positive, 7.6ms\n",
      "Speed: 2.7ms preprocess, 7.6ms inference, 0.9ms postprocess per image at shape (1, 3, 640, 640)\n",
      "Processed 74 (7).jpg, saved to ./runs/detect/heatmap/heatmap_74 (7).jpg\n",
      "\n",
      "0: 640x640 1 negative, 2 positives, 7.2ms\n",
      "Speed: 2.8ms preprocess, 7.2ms inference, 0.9ms postprocess per image at shape (1, 3, 640, 640)\n",
      "Processed 72 (10).jpg, saved to ./runs/detect/heatmap/heatmap_72 (10).jpg\n",
      "\n",
      "0: 640x480 1 positive, 7.8ms\n",
      "Speed: 1.9ms preprocess, 7.8ms inference, 1.0ms postprocess per image at shape (1, 3, 640, 480)\n",
      "Processed 00296_124.jpg, saved to ./runs/detect/heatmap/heatmap_00296_124.jpg\n",
      "\n",
      "0: 640x480 1 positive, 7.2ms\n",
      "Speed: 2.0ms preprocess, 7.2ms inference, 1.0ms postprocess per image at shape (1, 3, 640, 480)\n",
      "Processed 00271_145.jpg, saved to ./runs/detect/heatmap/heatmap_00271_145.jpg\n",
      "\n",
      "0: 640x640 2 positives, 7.2ms\n",
      "Speed: 2.6ms preprocess, 7.2ms inference, 0.9ms postprocess per image at shape (1, 3, 640, 640)\n",
      "Processed 84 (2).jpg, saved to ./runs/detect/heatmap/heatmap_84 (2).jpg\n",
      "\n",
      "0: 640x640 1 positive, 7.4ms\n",
      "Speed: 2.8ms preprocess, 7.4ms inference, 1.1ms postprocess per image at shape (1, 3, 640, 640)\n",
      "Processed 00146_195.jpg, saved to ./runs/detect/heatmap/heatmap_00146_195.jpg\n",
      "\n",
      "0: 640x640 1 negative, 6.9ms\n",
      "Speed: 2.7ms preprocess, 6.9ms inference, 0.9ms postprocess per image at shape (1, 3, 640, 640)\n",
      "Processed 00147_152.jpg, saved to ./runs/detect/heatmap/heatmap_00147_152.jpg\n",
      "\n",
      "0: 640x640 1 positive, 7.4ms\n",
      "Speed: 2.8ms preprocess, 7.4ms inference, 1.1ms postprocess per image at shape (1, 3, 640, 640)\n",
      "Processed 79 (11).jpg, saved to ./runs/detect/heatmap/heatmap_79 (11).jpg\n",
      "\n",
      "0: 640x640 1 positive, 7.6ms\n",
      "Speed: 2.7ms preprocess, 7.6ms inference, 1.0ms postprocess per image at shape (1, 3, 640, 640)\n",
      "Processed 88 (3).jpg, saved to ./runs/detect/heatmap/heatmap_88 (3).jpg\n",
      "\n",
      "0: 640x640 1 positive, 7.0ms\n",
      "Speed: 2.7ms preprocess, 7.0ms inference, 1.0ms postprocess per image at shape (1, 3, 640, 640)\n",
      "Processed 00136_121.jpg, saved to ./runs/detect/heatmap/heatmap_00136_121.jpg\n",
      "\n",
      "0: 640x640 1 positive, 7.1ms\n",
      "Speed: 2.7ms preprocess, 7.1ms inference, 1.1ms postprocess per image at shape (1, 3, 640, 640)\n",
      "Processed 76 (12).jpg, saved to ./runs/detect/heatmap/heatmap_76 (12).jpg\n",
      "\n",
      "0: 640x640 1 positive, 7.4ms\n",
      "Speed: 2.7ms preprocess, 7.4ms inference, 1.0ms postprocess per image at shape (1, 3, 640, 640)\n",
      "Processed 00166_259.jpg, saved to ./runs/detect/heatmap/heatmap_00166_259.jpg\n",
      "\n",
      "0: 640x640 1 negative, 7.2ms\n",
      "Speed: 2.7ms preprocess, 7.2ms inference, 1.0ms postprocess per image at shape (1, 3, 640, 640)\n",
      "Processed 80 (2).jpg, saved to ./runs/detect/heatmap/heatmap_80 (2).jpg\n",
      "\n",
      "0: 640x480 1 positive, 7.9ms\n",
      "Speed: 2.0ms preprocess, 7.9ms inference, 1.0ms postprocess per image at shape (1, 3, 640, 480)\n",
      "Processed 00329_87.jpg, saved to ./runs/detect/heatmap/heatmap_00329_87.jpg\n",
      "\n",
      "0: 640x640 1 negative, 8.0ms\n",
      "Speed: 2.6ms preprocess, 8.0ms inference, 1.0ms postprocess per image at shape (1, 3, 640, 640)\n",
      "Processed 00176_145.jpg, saved to ./runs/detect/heatmap/heatmap_00176_145.jpg\n",
      "\n",
      "0: 640x640 1 negative, 7.2ms\n",
      "Speed: 2.8ms preprocess, 7.2ms inference, 1.0ms postprocess per image at shape (1, 3, 640, 640)\n",
      "Processed 00104_132.jpg, saved to ./runs/detect/heatmap/heatmap_00104_132.jpg\n",
      "\n",
      "0: 640x640 1 negative, 7.3ms\n",
      "Speed: 2.4ms preprocess, 7.3ms inference, 1.0ms postprocess per image at shape (1, 3, 640, 640)\n",
      "Processed 00104_16.jpg, saved to ./runs/detect/heatmap/heatmap_00104_16.jpg\n",
      "\n",
      "0: 640x640 1 negative, 7.9ms\n",
      "Speed: 2.5ms preprocess, 7.9ms inference, 1.1ms postprocess per image at shape (1, 3, 640, 640)\n",
      "Processed 00151_12.jpg, saved to ./runs/detect/heatmap/heatmap_00151_12.jpg\n",
      "\n",
      "0: 640x640 1 negative, 7.5ms\n",
      "Speed: 2.5ms preprocess, 7.5ms inference, 1.0ms postprocess per image at shape (1, 3, 640, 640)\n",
      "Processed 00123_11.jpg, saved to ./runs/detect/heatmap/heatmap_00123_11.jpg\n",
      "\n",
      "0: 640x640 1 positive, 7.0ms\n",
      "Speed: 2.6ms preprocess, 7.0ms inference, 1.0ms postprocess per image at shape (1, 3, 640, 640)\n",
      "Processed 88 (4).jpg, saved to ./runs/detect/heatmap/heatmap_88 (4).jpg\n",
      "\n",
      "0: 640x640 1 positive, 7.0ms\n",
      "Speed: 2.8ms preprocess, 7.0ms inference, 0.9ms postprocess per image at shape (1, 3, 640, 640)\n",
      "Processed 91 (6).jpg, saved to ./runs/detect/heatmap/heatmap_91 (6).jpg\n",
      "\n",
      "0: 640x640 1 negative, 6.9ms\n",
      "Speed: 2.6ms preprocess, 6.9ms inference, 1.0ms postprocess per image at shape (1, 3, 640, 640)\n",
      "Processed 00183_126.jpg, saved to ./runs/detect/heatmap/heatmap_00183_126.jpg\n",
      "\n",
      "0: 640x640 1 positive, 7.0ms\n",
      "Speed: 2.6ms preprocess, 7.0ms inference, 0.9ms postprocess per image at shape (1, 3, 640, 640)\n",
      "Processed 71 (4).jpg, saved to ./runs/detect/heatmap/heatmap_71 (4).jpg\n",
      "\n",
      "0: 640x640 1 positive, 7.0ms\n",
      "Speed: 2.6ms preprocess, 7.0ms inference, 1.0ms postprocess per image at shape (1, 3, 640, 640)\n",
      "Processed 00178_140.jpg, saved to ./runs/detect/heatmap/heatmap_00178_140.jpg\n",
      "\n",
      "0: 640x640 1 positive, 7.1ms\n",
      "Speed: 2.7ms preprocess, 7.1ms inference, 1.0ms postprocess per image at shape (1, 3, 640, 640)\n",
      "Processed 00317_27.jpg, saved to ./runs/detect/heatmap/heatmap_00317_27.jpg\n",
      "\n",
      "0: 640x480 1 positive, 8.0ms\n",
      "Speed: 2.0ms preprocess, 8.0ms inference, 1.1ms postprocess per image at shape (1, 3, 640, 480)\n",
      "Processed 00271_130.jpg, saved to ./runs/detect/heatmap/heatmap_00271_130.jpg\n",
      "\n",
      "0: 640x640 1 negative, 7.6ms\n",
      "Speed: 2.8ms preprocess, 7.6ms inference, 1.1ms postprocess per image at shape (1, 3, 640, 640)\n",
      "Processed 00072_80.jpg, saved to ./runs/detect/heatmap/heatmap_00072_80.jpg\n",
      "\n",
      "0: 640x640 1 positive, 7.5ms\n",
      "Speed: 2.8ms preprocess, 7.5ms inference, 1.0ms postprocess per image at shape (1, 3, 640, 640)\n",
      "Processed 72 (7).jpg, saved to ./runs/detect/heatmap/heatmap_72 (7).jpg\n",
      "\n",
      "0: 640x640 1 positive, 7.2ms\n",
      "Speed: 2.7ms preprocess, 7.2ms inference, 1.0ms postprocess per image at shape (1, 3, 640, 640)\n",
      "Processed 100 (3).jpg, saved to ./runs/detect/heatmap/heatmap_100 (3).jpg\n",
      "\n",
      "0: 640x480 1 negative, 7.7ms\n",
      "Speed: 1.9ms preprocess, 7.7ms inference, 1.1ms postprocess per image at shape (1, 3, 640, 480)\n",
      "Processed 00116_15.jpg, saved to ./runs/detect/heatmap/heatmap_00116_15.jpg\n",
      "\n",
      "0: 640x640 1 negative, 8.6ms\n",
      "Speed: 2.4ms preprocess, 8.6ms inference, 1.0ms postprocess per image at shape (1, 3, 640, 640)\n",
      "Processed 00097_70.jpg, saved to ./runs/detect/heatmap/heatmap_00097_70.jpg\n",
      "\n",
      "0: 640x640 2 positives, 7.0ms\n",
      "Speed: 2.7ms preprocess, 7.0ms inference, 1.0ms postprocess per image at shape (1, 3, 640, 640)\n",
      "Processed 00105_132.jpg, saved to ./runs/detect/heatmap/heatmap_00105_132.jpg\n",
      "\n",
      "0: 640x640 1 negative, 7.4ms\n",
      "Speed: 2.8ms preprocess, 7.4ms inference, 1.0ms postprocess per image at shape (1, 3, 640, 640)\n",
      "Processed 85 (3).jpg, saved to ./runs/detect/heatmap/heatmap_85 (3).jpg\n",
      "\n",
      "0: 640x640 1 positive, 7.1ms\n",
      "Speed: 2.6ms preprocess, 7.1ms inference, 1.1ms postprocess per image at shape (1, 3, 640, 640)\n",
      "Processed 78 (6).jpg, saved to ./runs/detect/heatmap/heatmap_78 (6).jpg\n",
      "\n",
      "0: 640x640 2 positives, 7.3ms\n",
      "Speed: 2.7ms preprocess, 7.3ms inference, 1.0ms postprocess per image at shape (1, 3, 640, 640)\n",
      "Processed 62 (8).jpg, saved to ./runs/detect/heatmap/heatmap_62 (8).jpg\n",
      "\n",
      "0: 640x640 1 negative, 7.5ms\n",
      "Speed: 2.8ms preprocess, 7.5ms inference, 1.0ms postprocess per image at shape (1, 3, 640, 640)\n",
      "Processed 00116_231.jpg, saved to ./runs/detect/heatmap/heatmap_00116_231.jpg\n",
      "\n",
      "0: 640x640 1 positive, 7.2ms\n",
      "Speed: 2.8ms preprocess, 7.2ms inference, 1.0ms postprocess per image at shape (1, 3, 640, 640)\n",
      "Processed 62 (7).jpg, saved to ./runs/detect/heatmap/heatmap_62 (7).jpg\n",
      "\n",
      "0: 640x480 1 positive, 7.9ms\n",
      "Speed: 1.9ms preprocess, 7.9ms inference, 1.0ms postprocess per image at shape (1, 3, 640, 480)\n",
      "Processed 00352_97.jpg, saved to ./runs/detect/heatmap/heatmap_00352_97.jpg\n",
      "\n",
      "0: 640x640 1 negative, 7.8ms\n",
      "Speed: 2.8ms preprocess, 7.8ms inference, 1.1ms postprocess per image at shape (1, 3, 640, 640)\n",
      "Processed 00158_272.jpg, saved to ./runs/detect/heatmap/heatmap_00158_272.jpg\n",
      "\n",
      "0: 640x640 1 negative, 7.4ms\n",
      "Speed: 2.8ms preprocess, 7.4ms inference, 1.0ms postprocess per image at shape (1, 3, 640, 640)\n",
      "Processed 00183_178.jpg, saved to ./runs/detect/heatmap/heatmap_00183_178.jpg\n",
      "\n",
      "0: 640x480 1 negative, 8.2ms\n",
      "Speed: 1.9ms preprocess, 8.2ms inference, 1.0ms postprocess per image at shape (1, 3, 640, 480)\n",
      "Processed 00165_125.jpg, saved to ./runs/detect/heatmap/heatmap_00165_125.jpg\n",
      "\n",
      "0: 640x640 1 positive, 8.0ms\n",
      "Speed: 2.8ms preprocess, 8.0ms inference, 1.0ms postprocess per image at shape (1, 3, 640, 640)\n",
      "Processed 00120_215.jpg, saved to ./runs/detect/heatmap/heatmap_00120_215.jpg\n",
      "\n",
      "0: 640x640 1 negative, 7.3ms\n",
      "Speed: 2.8ms preprocess, 7.3ms inference, 1.0ms postprocess per image at shape (1, 3, 640, 640)\n",
      "Processed 98 (2).jpg, saved to ./runs/detect/heatmap/heatmap_98 (2).jpg\n",
      "\n",
      "0: 640x480 1 positive, 7.8ms\n",
      "Speed: 1.9ms preprocess, 7.8ms inference, 1.0ms postprocess per image at shape (1, 3, 640, 480)\n",
      "Processed 00340_132.jpg, saved to ./runs/detect/heatmap/heatmap_00340_132.jpg\n",
      "\n",
      "0: 640x480 1 positive, 7.1ms\n",
      "Speed: 1.9ms preprocess, 7.1ms inference, 1.0ms postprocess per image at shape (1, 3, 640, 480)\n",
      "Processed 00329_90.jpg, saved to ./runs/detect/heatmap/heatmap_00329_90.jpg\n",
      "\n",
      "0: 640x640 1 positive, 7.7ms\n",
      "Speed: 2.7ms preprocess, 7.7ms inference, 1.0ms postprocess per image at shape (1, 3, 640, 640)\n",
      "Processed 92 (5).jpg, saved to ./runs/detect/heatmap/heatmap_92 (5).jpg\n",
      "\n",
      "0: 640x640 1 negative, 7.3ms\n",
      "Speed: 2.7ms preprocess, 7.3ms inference, 1.0ms postprocess per image at shape (1, 3, 640, 640)\n",
      "Processed 66 (3).jpg, saved to ./runs/detect/heatmap/heatmap_66 (3).jpg\n",
      "\n",
      "0: 640x480 1 positive, 7.7ms\n",
      "Speed: 1.9ms preprocess, 7.7ms inference, 1.0ms postprocess per image at shape (1, 3, 640, 480)\n",
      "Processed 00240_151.jpg, saved to ./runs/detect/heatmap/heatmap_00240_151.jpg\n",
      "\n",
      "0: 640x640 2 negatives, 7.6ms\n",
      "Speed: 2.7ms preprocess, 7.6ms inference, 1.0ms postprocess per image at shape (1, 3, 640, 640)\n",
      "Processed 76 (4).jpg, saved to ./runs/detect/heatmap/heatmap_76 (4).jpg\n",
      "\n",
      "0: 640x640 1 negative, 7.1ms\n",
      "Speed: 2.4ms preprocess, 7.1ms inference, 1.0ms postprocess per image at shape (1, 3, 640, 640)\n",
      "Processed 00122_11.jpg, saved to ./runs/detect/heatmap/heatmap_00122_11.jpg\n",
      "\n",
      "0: 640x640 1 negative, 7.0ms\n",
      "Speed: 2.7ms preprocess, 7.0ms inference, 1.1ms postprocess per image at shape (1, 3, 640, 640)\n",
      "Processed 69 (5).jpg, saved to ./runs/detect/heatmap/heatmap_69 (5).jpg\n",
      "\n",
      "0: 640x640 1 positive, 7.1ms\n",
      "Speed: 2.8ms preprocess, 7.1ms inference, 1.1ms postprocess per image at shape (1, 3, 640, 640)\n",
      "Processed 96 (4).jpg, saved to ./runs/detect/heatmap/heatmap_96 (4).jpg\n",
      "\n",
      "0: 640x640 3 positives, 7.2ms\n",
      "Speed: 2.7ms preprocess, 7.2ms inference, 1.0ms postprocess per image at shape (1, 3, 640, 640)\n",
      "Processed 63 (7).jpg, saved to ./runs/detect/heatmap/heatmap_63 (7).jpg\n",
      "\n",
      "0: 640x640 1 positive, 7.1ms\n",
      "Speed: 2.7ms preprocess, 7.1ms inference, 1.0ms postprocess per image at shape (1, 3, 640, 640)\n",
      "Processed 69 (6).jpg, saved to ./runs/detect/heatmap/heatmap_69 (6).jpg\n",
      "\n",
      "0: 640x640 1 positive, 7.4ms\n",
      "Speed: 2.7ms preprocess, 7.4ms inference, 1.0ms postprocess per image at shape (1, 3, 640, 640)\n",
      "Processed 00178_122.jpg, saved to ./runs/detect/heatmap/heatmap_00178_122.jpg\n",
      "\n",
      "0: 640x640 1 positive, 7.3ms\n",
      "Speed: 2.7ms preprocess, 7.3ms inference, 1.1ms postprocess per image at shape (1, 3, 640, 640)\n",
      "Processed 00177_260.jpg, saved to ./runs/detect/heatmap/heatmap_00177_260.jpg\n",
      "\n",
      "0: 640x640 1 positive, 7.2ms\n",
      "Speed: 2.6ms preprocess, 7.2ms inference, 1.0ms postprocess per image at shape (1, 3, 640, 640)\n",
      "Processed 80 (5).jpg, saved to ./runs/detect/heatmap/heatmap_80 (5).jpg\n",
      "\n",
      "0: 640x640 1 negative, 7.2ms\n",
      "Speed: 2.7ms preprocess, 7.2ms inference, 1.0ms postprocess per image at shape (1, 3, 640, 640)\n",
      "Processed 00095_181.jpg, saved to ./runs/detect/heatmap/heatmap_00095_181.jpg\n",
      "\n",
      "0: 640x640 1 positive, 7.3ms\n",
      "Speed: 2.7ms preprocess, 7.3ms inference, 1.0ms postprocess per image at shape (1, 3, 640, 640)\n",
      "Processed 00078_258.jpg, saved to ./runs/detect/heatmap/heatmap_00078_258.jpg\n",
      "\n",
      "0: 640x640 1 negative, 6.9ms\n",
      "Speed: 2.4ms preprocess, 6.9ms inference, 1.1ms postprocess per image at shape (1, 3, 640, 640)\n",
      "Processed 00151_15.jpg, saved to ./runs/detect/heatmap/heatmap_00151_15.jpg\n",
      "\n",
      "0: 640x640 1 positive, 7.4ms\n",
      "Speed: 2.7ms preprocess, 7.4ms inference, 1.0ms postprocess per image at shape (1, 3, 640, 640)\n",
      "Processed 00109_104.jpg, saved to ./runs/detect/heatmap/heatmap_00109_104.jpg\n",
      "\n",
      "0: 640x640 1 negative, 7.2ms\n",
      "Speed: 2.8ms preprocess, 7.2ms inference, 1.0ms postprocess per image at shape (1, 3, 640, 640)\n",
      "Processed 64 (2).jpg, saved to ./runs/detect/heatmap/heatmap_64 (2).jpg\n",
      "\n",
      "0: 640x640 2 positives, 7.5ms\n",
      "Speed: 2.8ms preprocess, 7.5ms inference, 1.0ms postprocess per image at shape (1, 3, 640, 640)\n",
      "Processed 00056_110.jpg, saved to ./runs/detect/heatmap/heatmap_00056_110.jpg\n",
      "\n",
      "0: 640x640 1 negative, 7.3ms\n",
      "Speed: 2.6ms preprocess, 7.3ms inference, 1.0ms postprocess per image at shape (1, 3, 640, 640)\n",
      "Processed 00110_131.jpg, saved to ./runs/detect/heatmap/heatmap_00110_131.jpg\n",
      "\n",
      "0: 640x480 1 negative, 7.6ms\n",
      "Speed: 1.9ms preprocess, 7.6ms inference, 1.0ms postprocess per image at shape (1, 3, 640, 480)\n",
      "Processed 00158_90.jpg, saved to ./runs/detect/heatmap/heatmap_00158_90.jpg\n",
      "\n",
      "0: 640x640 1 negative, 7.5ms\n",
      "Speed: 2.7ms preprocess, 7.5ms inference, 1.0ms postprocess per image at shape (1, 3, 640, 640)\n",
      "Processed 81 (2).jpg, saved to ./runs/detect/heatmap/heatmap_81 (2).jpg\n",
      "\n",
      "0: 640x640 1 negative, 7.1ms\n",
      "Speed: 2.5ms preprocess, 7.1ms inference, 0.9ms postprocess per image at shape (1, 3, 640, 640)\n",
      "Processed 113 (2).jpg, saved to ./runs/detect/heatmap/heatmap_113 (2).jpg\n",
      "\n",
      "0: 640x480 1 negative, 7.8ms\n",
      "Speed: 1.9ms preprocess, 7.8ms inference, 1.0ms postprocess per image at shape (1, 3, 640, 480)\n",
      "Processed 00165_129.jpg, saved to ./runs/detect/heatmap/heatmap_00165_129.jpg\n",
      "\n",
      "0: 640x480 1 positive, 7.9ms\n",
      "Speed: 1.9ms preprocess, 7.9ms inference, 1.0ms postprocess per image at shape (1, 3, 640, 480)\n",
      "Processed 00322_108.jpg, saved to ./runs/detect/heatmap/heatmap_00322_108.jpg\n",
      "\n",
      "0: 640x640 1 positive, 7.6ms\n",
      "Speed: 2.7ms preprocess, 7.6ms inference, 1.0ms postprocess per image at shape (1, 3, 640, 640)\n",
      "Processed 00096_240.jpg, saved to ./runs/detect/heatmap/heatmap_00096_240.jpg\n",
      "\n",
      "0: 640x480 1 negative, 7.3ms\n",
      "Speed: 1.9ms preprocess, 7.3ms inference, 1.0ms postprocess per image at shape (1, 3, 640, 480)\n",
      "Processed 00158_115.jpg, saved to ./runs/detect/heatmap/heatmap_00158_115.jpg\n",
      "\n",
      "0: 640x640 1 negative, 7.3ms\n",
      "Speed: 2.4ms preprocess, 7.3ms inference, 0.9ms postprocess per image at shape (1, 3, 640, 640)\n",
      "Processed 00169_141.jpg, saved to ./runs/detect/heatmap/heatmap_00169_141.jpg\n",
      "\n",
      "0: 640x640 1 negative, 7.2ms\n",
      "Speed: 2.4ms preprocess, 7.2ms inference, 1.0ms postprocess per image at shape (1, 3, 640, 640)\n",
      "Processed 119.jpg, saved to ./runs/detect/heatmap/heatmap_119.jpg\n",
      "\n",
      "0: 640x640 1 negative, 8.1ms\n",
      "Speed: 2.6ms preprocess, 8.1ms inference, 1.2ms postprocess per image at shape (1, 3, 640, 640)\n",
      "Processed 00104_17.jpg, saved to ./runs/detect/heatmap/heatmap_00104_17.jpg\n",
      "\n",
      "0: 640x608 1 negative, 8.5ms\n",
      "Speed: 2.8ms preprocess, 8.5ms inference, 1.1ms postprocess per image at shape (1, 3, 640, 608)\n",
      "Processed 00150_10.jpg, saved to ./runs/detect/heatmap/heatmap_00150_10.jpg\n",
      "\n",
      "0: 640x640 1 negative, 8.4ms\n",
      "Speed: 2.7ms preprocess, 8.4ms inference, 1.1ms postprocess per image at shape (1, 3, 640, 640)\n",
      "Processed 00130_81.jpg, saved to ./runs/detect/heatmap/heatmap_00130_81.jpg\n",
      "\n",
      "0: 640x640 1 positive, 7.5ms\n",
      "Speed: 2.5ms preprocess, 7.5ms inference, 1.1ms postprocess per image at shape (1, 3, 640, 640)\n",
      "Processed 00305_105.jpg, saved to ./runs/detect/heatmap/heatmap_00305_105.jpg\n",
      "\n",
      "0: 640x480 1 negative, 7.4ms\n",
      "Speed: 2.0ms preprocess, 7.4ms inference, 0.9ms postprocess per image at shape (1, 3, 640, 480)\n",
      "Processed 00116_9.jpg, saved to ./runs/detect/heatmap/heatmap_00116_9.jpg\n",
      "\n",
      "0: 640x480 1 positive, 7.5ms\n",
      "Speed: 2.0ms preprocess, 7.5ms inference, 1.0ms postprocess per image at shape (1, 3, 640, 480)\n",
      "Processed 00260_119.jpg, saved to ./runs/detect/heatmap/heatmap_00260_119.jpg\n",
      "\n",
      "0: 640x640 1 positive, 7.5ms\n",
      "Speed: 2.7ms preprocess, 7.5ms inference, 1.0ms postprocess per image at shape (1, 3, 640, 640)\n",
      "Processed 00136_138.jpg, saved to ./runs/detect/heatmap/heatmap_00136_138.jpg\n",
      "\n",
      "0: 640x480 1 negative, 7.4ms\n",
      "Speed: 1.9ms preprocess, 7.4ms inference, 1.0ms postprocess per image at shape (1, 3, 640, 480)\n",
      "Processed 00158_114.jpg, saved to ./runs/detect/heatmap/heatmap_00158_114.jpg\n",
      "\n",
      "0: 640x640 1 negative, 8.1ms\n",
      "Speed: 2.7ms preprocess, 8.1ms inference, 1.1ms postprocess per image at shape (1, 3, 640, 640)\n",
      "Processed 00124_96.jpg, saved to ./runs/detect/heatmap/heatmap_00124_96.jpg\n",
      "\n",
      "0: 640x480 1 positive, 7.9ms\n",
      "Speed: 2.0ms preprocess, 7.9ms inference, 1.0ms postprocess per image at shape (1, 3, 640, 480)\n",
      "Processed 00334_95.jpg, saved to ./runs/detect/heatmap/heatmap_00334_95.jpg\n",
      "\n",
      "0: 640x640 1 negative, 7.8ms\n",
      "Speed: 2.6ms preprocess, 7.8ms inference, 1.0ms postprocess per image at shape (1, 3, 640, 640)\n",
      "Processed 00151_211.jpg, saved to ./runs/detect/heatmap/heatmap_00151_211.jpg\n",
      "\n",
      "0: 640x640 1 negative, 7.1ms\n",
      "Speed: 2.8ms preprocess, 7.1ms inference, 1.1ms postprocess per image at shape (1, 3, 640, 640)\n",
      "Processed 102.jpg, saved to ./runs/detect/heatmap/heatmap_102.jpg\n",
      "\n",
      "0: 640x640 1 negative, 7.2ms\n",
      "Speed: 2.6ms preprocess, 7.2ms inference, 0.9ms postprocess per image at shape (1, 3, 640, 640)\n",
      "Processed 00132_95.jpg, saved to ./runs/detect/heatmap/heatmap_00132_95.jpg\n",
      "\n",
      "0: 640x640 1 negative, 7.3ms\n",
      "Speed: 2.7ms preprocess, 7.3ms inference, 1.0ms postprocess per image at shape (1, 3, 640, 640)\n",
      "Processed 00142_163.jpg, saved to ./runs/detect/heatmap/heatmap_00142_163.jpg\n",
      "\n",
      "0: 640x640 1 negative, 7.1ms\n",
      "Speed: 2.7ms preprocess, 7.1ms inference, 1.0ms postprocess per image at shape (1, 3, 640, 640)\n",
      "Processed 66 (5).jpg, saved to ./runs/detect/heatmap/heatmap_66 (5).jpg\n",
      "\n",
      "0: 640x480 1 positive, 7.7ms\n",
      "Speed: 1.9ms preprocess, 7.7ms inference, 1.0ms postprocess per image at shape (1, 3, 640, 480)\n",
      "Processed 00240_157.jpg, saved to ./runs/detect/heatmap/heatmap_00240_157.jpg\n",
      "\n",
      "0: 640x640 1 negative, 7.7ms\n",
      "Speed: 2.7ms preprocess, 7.7ms inference, 1.0ms postprocess per image at shape (1, 3, 640, 640)\n",
      "Processed 00169_225.jpg, saved to ./runs/detect/heatmap/heatmap_00169_225.jpg\n",
      "\n",
      "0: 640x480 1 positive, 7.8ms\n",
      "Speed: 1.9ms preprocess, 7.8ms inference, 1.0ms postprocess per image at shape (1, 3, 640, 480)\n",
      "Processed 00282_87.jpg, saved to ./runs/detect/heatmap/heatmap_00282_87.jpg\n",
      "\n",
      "0: 640x640 2 negatives, 7.4ms\n",
      "Speed: 2.7ms preprocess, 7.4ms inference, 0.9ms postprocess per image at shape (1, 3, 640, 640)\n",
      "Processed 00142_107.jpg, saved to ./runs/detect/heatmap/heatmap_00142_107.jpg\n",
      "\n",
      "0: 640x640 1 positive, 7.3ms\n",
      "Speed: 2.8ms preprocess, 7.3ms inference, 1.0ms postprocess per image at shape (1, 3, 640, 640)\n",
      "Processed 00186_207.jpg, saved to ./runs/detect/heatmap/heatmap_00186_207.jpg\n",
      "\n",
      "0: 640x640 1 positive, 7.5ms\n",
      "Speed: 2.8ms preprocess, 7.5ms inference, 1.0ms postprocess per image at shape (1, 3, 640, 640)\n",
      "Processed 00054_145.jpg, saved to ./runs/detect/heatmap/heatmap_00054_145.jpg\n",
      "\n",
      "0: 640x480 1 positive, 7.6ms\n",
      "Speed: 1.9ms preprocess, 7.6ms inference, 1.0ms postprocess per image at shape (1, 3, 640, 480)\n",
      "Processed 00271_128.jpg, saved to ./runs/detect/heatmap/heatmap_00271_128.jpg\n",
      "\n",
      "0: 640x640 1 positive, 7.7ms\n",
      "Speed: 2.7ms preprocess, 7.7ms inference, 1.0ms postprocess per image at shape (1, 3, 640, 640)\n",
      "Processed 00146_160.jpg, saved to ./runs/detect/heatmap/heatmap_00146_160.jpg\n",
      "\n",
      "0: 640x640 1 positive, 7.2ms\n",
      "Speed: 2.8ms preprocess, 7.2ms inference, 1.0ms postprocess per image at shape (1, 3, 640, 640)\n",
      "Processed 00156_148.jpg, saved to ./runs/detect/heatmap/heatmap_00156_148.jpg\n",
      "\n",
      "0: 640x480 1 positive, 7.7ms\n",
      "Speed: 1.9ms preprocess, 7.7ms inference, 1.0ms postprocess per image at shape (1, 3, 640, 480)\n",
      "Processed 00306_109.jpg, saved to ./runs/detect/heatmap/heatmap_00306_109.jpg\n",
      "\n",
      "0: 640x608 1 negative, 7.7ms\n",
      "Speed: 2.7ms preprocess, 7.7ms inference, 1.0ms postprocess per image at shape (1, 3, 640, 608)\n",
      "Processed 00150_12.jpg, saved to ./runs/detect/heatmap/heatmap_00150_12.jpg\n",
      "\n",
      "0: 640x640 1 negative, 7.7ms\n",
      "Speed: 2.4ms preprocess, 7.7ms inference, 1.0ms postprocess per image at shape (1, 3, 640, 640)\n",
      "Processed 00130_119.jpg, saved to ./runs/detect/heatmap/heatmap_00130_119.jpg\n",
      "\n",
      "0: 640x480 1 positive, 7.6ms\n",
      "Speed: 1.9ms preprocess, 7.6ms inference, 1.0ms postprocess per image at shape (1, 3, 640, 480)\n",
      "Processed 00250_120.jpg, saved to ./runs/detect/heatmap/heatmap_00250_120.jpg\n",
      "\n",
      "0: 640x640 1 positive, 7.4ms\n",
      "Speed: 2.6ms preprocess, 7.4ms inference, 0.9ms postprocess per image at shape (1, 3, 640, 640)\n",
      "Processed 00166_241.jpg, saved to ./runs/detect/heatmap/heatmap_00166_241.jpg\n",
      "\n",
      "0: 640x640 1 negative, 7.4ms\n",
      "Speed: 2.8ms preprocess, 7.4ms inference, 1.0ms postprocess per image at shape (1, 3, 640, 640)\n",
      "Processed 00191_124.jpg, saved to ./runs/detect/heatmap/heatmap_00191_124.jpg\n",
      "\n",
      "0: 640x640 1 negative, 7.0ms\n",
      "Speed: 2.4ms preprocess, 7.0ms inference, 1.0ms postprocess per image at shape (1, 3, 640, 640)\n",
      "Processed 114.jpg, saved to ./runs/detect/heatmap/heatmap_114.jpg\n",
      "\n",
      "0: 640x480 1 positive, 7.7ms\n",
      "Speed: 2.0ms preprocess, 7.7ms inference, 1.1ms postprocess per image at shape (1, 3, 640, 480)\n",
      "Processed 00311_111.jpg, saved to ./runs/detect/heatmap/heatmap_00311_111.jpg\n",
      "\n",
      "0: 640x640 1 negative, 7.4ms\n",
      "Speed: 2.7ms preprocess, 7.4ms inference, 1.0ms postprocess per image at shape (1, 3, 640, 640)\n",
      "Processed 113.jpg, saved to ./runs/detect/heatmap/heatmap_113.jpg\n",
      "\n",
      "0: 640x640 1 positive, 7.5ms\n",
      "Speed: 2.8ms preprocess, 7.5ms inference, 1.1ms postprocess per image at shape (1, 3, 640, 640)\n",
      "Processed 00107_101.jpg, saved to ./runs/detect/heatmap/heatmap_00107_101.jpg\n",
      "\n",
      "0: 640x640 1 negative, 7.0ms\n",
      "Speed: 2.7ms preprocess, 7.0ms inference, 1.1ms postprocess per image at shape (1, 3, 640, 640)\n",
      "Processed 74 (2).jpg, saved to ./runs/detect/heatmap/heatmap_74 (2).jpg\n",
      "\n",
      "0: 640x640 1 positive, 7.1ms\n",
      "Speed: 2.6ms preprocess, 7.1ms inference, 1.1ms postprocess per image at shape (1, 3, 640, 640)\n",
      "Processed 75 (9).jpg, saved to ./runs/detect/heatmap/heatmap_75 (9).jpg\n",
      "\n",
      "0: 640x480 1 positive, 7.7ms\n",
      "Speed: 1.9ms preprocess, 7.7ms inference, 1.0ms postprocess per image at shape (1, 3, 640, 480)\n",
      "Processed 00254_79.jpg, saved to ./runs/detect/heatmap/heatmap_00254_79.jpg\n",
      "\n",
      "0: 640x640 1 positive, 8.2ms\n",
      "Speed: 2.8ms preprocess, 8.2ms inference, 1.1ms postprocess per image at shape (1, 3, 640, 640)\n",
      "Processed 66 (8).jpg, saved to ./runs/detect/heatmap/heatmap_66 (8).jpg\n",
      "\n",
      "0: 640x640 3 negatives, 8.1ms\n",
      "Speed: 3.0ms preprocess, 8.1ms inference, 1.1ms postprocess per image at shape (1, 3, 640, 640)\n",
      "Processed 00061_127.jpg, saved to ./runs/detect/heatmap/heatmap_00061_127.jpg\n",
      "\n",
      "0: 640x640 1 negative, 7.8ms\n",
      "Speed: 2.8ms preprocess, 7.8ms inference, 1.2ms postprocess per image at shape (1, 3, 640, 640)\n",
      "Processed 00123_259.jpg, saved to ./runs/detect/heatmap/heatmap_00123_259.jpg\n",
      "\n",
      "0: 640x640 1 negative, 8.0ms\n",
      "Speed: 2.9ms preprocess, 8.0ms inference, 1.1ms postprocess per image at shape (1, 3, 640, 640)\n",
      "Processed 00095_222.jpg, saved to ./runs/detect/heatmap/heatmap_00095_222.jpg\n",
      "\n",
      "0: 640x480 1 positive, 8.0ms\n",
      "Speed: 2.0ms preprocess, 8.0ms inference, 1.0ms postprocess per image at shape (1, 3, 640, 480)\n",
      "Processed 00306_115.jpg, saved to ./runs/detect/heatmap/heatmap_00306_115.jpg\n",
      "\n",
      "0: 640x640 1 negative, 7.5ms\n",
      "Speed: 2.7ms preprocess, 7.5ms inference, 1.0ms postprocess per image at shape (1, 3, 640, 640)\n",
      "Processed 62 (3).jpg, saved to ./runs/detect/heatmap/heatmap_62 (3).jpg\n",
      "\n",
      "0: 640x480 1 negative, 7.8ms\n",
      "Speed: 1.9ms preprocess, 7.8ms inference, 1.0ms postprocess per image at shape (1, 3, 640, 480)\n",
      "Processed 00165_110.jpg, saved to ./runs/detect/heatmap/heatmap_00165_110.jpg\n",
      "\n",
      "0: 640x640 1 negative, 7.5ms\n",
      "Speed: 2.7ms preprocess, 7.5ms inference, 1.0ms postprocess per image at shape (1, 3, 640, 640)\n",
      "Processed 111.jpg, saved to ./runs/detect/heatmap/heatmap_111.jpg\n",
      "\n",
      "0: 640x640 1 negative, 7.5ms\n",
      "Speed: 2.8ms preprocess, 7.5ms inference, 1.1ms postprocess per image at shape (1, 3, 640, 640)\n",
      "Processed 00095_236.jpg, saved to ./runs/detect/heatmap/heatmap_00095_236.jpg\n",
      "\n",
      "0: 640x480 1 positive, 8.8ms\n",
      "Speed: 1.9ms preprocess, 8.8ms inference, 1.1ms postprocess per image at shape (1, 3, 640, 480)\n",
      "Processed 00332_147.jpg, saved to ./runs/detect/heatmap/heatmap_00332_147.jpg\n",
      "\n",
      "0: 640x480 1 positive, 7.3ms\n",
      "Speed: 2.0ms preprocess, 7.3ms inference, 1.0ms postprocess per image at shape (1, 3, 640, 480)\n",
      "Processed 00334_101.jpg, saved to ./runs/detect/heatmap/heatmap_00334_101.jpg\n",
      "\n",
      "0: 640x640 1 negative, 7.9ms\n",
      "Speed: 2.7ms preprocess, 7.9ms inference, 1.0ms postprocess per image at shape (1, 3, 640, 640)\n",
      "Processed 72 (2).jpg, saved to ./runs/detect/heatmap/heatmap_72 (2).jpg\n",
      "\n",
      "0: 640x480 1 negative, 7.6ms\n",
      "Speed: 1.9ms preprocess, 7.6ms inference, 0.9ms postprocess per image at shape (1, 3, 640, 480)\n",
      "Processed 00172_92.jpg, saved to ./runs/detect/heatmap/heatmap_00172_92.jpg\n",
      "\n",
      "0: 640x640 1 negative, 8.0ms\n",
      "Speed: 2.7ms preprocess, 8.0ms inference, 1.0ms postprocess per image at shape (1, 3, 640, 640)\n",
      "Processed 00165_122.jpg, saved to ./runs/detect/heatmap/heatmap_00165_122.jpg\n",
      "\n",
      "0: 640x640 1 positive, 7.4ms\n",
      "Speed: 2.8ms preprocess, 7.4ms inference, 1.0ms postprocess per image at shape (1, 3, 640, 640)\n",
      "Processed 00117_200.jpg, saved to ./runs/detect/heatmap/heatmap_00117_200.jpg\n",
      "\n",
      "0: 640x640 1 positive, 7.1ms\n",
      "Speed: 2.6ms preprocess, 7.1ms inference, 1.1ms postprocess per image at shape (1, 3, 640, 640)\n",
      "Processed 00100_153.jpg, saved to ./runs/detect/heatmap/heatmap_00100_153.jpg\n",
      "\n",
      "0: 640x480 1 positive, 7.6ms\n",
      "Speed: 1.9ms preprocess, 7.6ms inference, 1.0ms postprocess per image at shape (1, 3, 640, 480)\n",
      "Processed 00304_107.jpg, saved to ./runs/detect/heatmap/heatmap_00304_107.jpg\n",
      "\n",
      "0: 640x480 1 positive, 7.0ms\n",
      "Speed: 2.0ms preprocess, 7.0ms inference, 1.0ms postprocess per image at shape (1, 3, 640, 480)\n",
      "Processed 00282_93.jpg, saved to ./runs/detect/heatmap/heatmap_00282_93.jpg\n",
      "\n",
      "0: 640x640 1 positive, 7.7ms\n",
      "Speed: 2.6ms preprocess, 7.7ms inference, 1.0ms postprocess per image at shape (1, 3, 640, 640)\n",
      "Processed 00078_278.jpg, saved to ./runs/detect/heatmap/heatmap_00078_278.jpg\n",
      "\n",
      "0: 640x640 1 positive, 7.2ms\n",
      "Speed: 2.7ms preprocess, 7.2ms inference, 1.0ms postprocess per image at shape (1, 3, 640, 640)\n",
      "Processed 00120_230.jpg, saved to ./runs/detect/heatmap/heatmap_00120_230.jpg\n",
      "\n",
      "0: 640x480 1 negative, 7.6ms\n",
      "Speed: 2.0ms preprocess, 7.6ms inference, 1.1ms postprocess per image at shape (1, 3, 640, 480)\n",
      "Processed 00116_8.jpg, saved to ./runs/detect/heatmap/heatmap_00116_8.jpg\n",
      "\n",
      "0: 640x640 1 positive, 7.4ms\n",
      "Speed: 2.7ms preprocess, 7.4ms inference, 1.1ms postprocess per image at shape (1, 3, 640, 640)\n",
      "Processed 66 (12).jpg, saved to ./runs/detect/heatmap/heatmap_66 (12).jpg\n",
      "\n",
      "0: 640x640 1 positive, 7.2ms\n",
      "Speed: 2.8ms preprocess, 7.2ms inference, 1.1ms postprocess per image at shape (1, 3, 640, 640)\n",
      "Processed 00087_130.jpg, saved to ./runs/detect/heatmap/heatmap_00087_130.jpg\n",
      "\n",
      "0: 640x480 1 positive, 7.6ms\n",
      "Speed: 1.9ms preprocess, 7.6ms inference, 0.9ms postprocess per image at shape (1, 3, 640, 480)\n",
      "Processed 00271_116.jpg, saved to ./runs/detect/heatmap/heatmap_00271_116.jpg\n",
      "\n",
      "0: 640x640 1 positive, 7.6ms\n",
      "Speed: 2.8ms preprocess, 7.6ms inference, 1.0ms postprocess per image at shape (1, 3, 640, 640)\n",
      "Processed 00317_23.jpg, saved to ./runs/detect/heatmap/heatmap_00317_23.jpg\n",
      "\n",
      "0: 640x640 1 positive, 7.0ms\n",
      "Speed: 2.8ms preprocess, 7.0ms inference, 1.0ms postprocess per image at shape (1, 3, 640, 640)\n",
      "Processed 74 (10).jpg, saved to ./runs/detect/heatmap/heatmap_74 (10).jpg\n",
      "\n",
      "0: 640x480 1 positive, 7.4ms\n",
      "Speed: 1.9ms preprocess, 7.4ms inference, 1.0ms postprocess per image at shape (1, 3, 640, 480)\n",
      "Processed 00299_101.jpg, saved to ./runs/detect/heatmap/heatmap_00299_101.jpg\n",
      "\n",
      "0: 640x640 1 negative, 9.6ms\n",
      "Speed: 2.7ms preprocess, 9.6ms inference, 1.0ms postprocess per image at shape (1, 3, 640, 640)\n",
      "Processed 00165_193.jpg, saved to ./runs/detect/heatmap/heatmap_00165_193.jpg\n",
      "\n",
      "0: 640x640 1 positive, 7.3ms\n",
      "Speed: 2.8ms preprocess, 7.3ms inference, 1.0ms postprocess per image at shape (1, 3, 640, 640)\n",
      "Processed 72 (8).jpg, saved to ./runs/detect/heatmap/heatmap_72 (8).jpg\n",
      "\n",
      "0: 640x480 1 positive, 7.6ms\n",
      "Speed: 1.8ms preprocess, 7.6ms inference, 1.0ms postprocess per image at shape (1, 3, 640, 480)\n",
      "Processed 00253_92.jpg, saved to ./runs/detect/heatmap/heatmap_00253_92.jpg\n",
      "\n",
      "0: 640x640 1 negative, 7.5ms\n",
      "Speed: 2.7ms preprocess, 7.5ms inference, 1.0ms postprocess per image at shape (1, 3, 640, 640)\n",
      "Processed 00122_108.jpg, saved to ./runs/detect/heatmap/heatmap_00122_108.jpg\n",
      "\n",
      "0: 640x640 1 negative, 7.2ms\n",
      "Speed: 2.4ms preprocess, 7.2ms inference, 1.0ms postprocess per image at shape (1, 3, 640, 640)\n",
      "Processed 00151_13.jpg, saved to ./runs/detect/heatmap/heatmap_00151_13.jpg\n",
      "\n",
      "0: 640x640 1 negative, 7.2ms\n",
      "Speed: 2.7ms preprocess, 7.2ms inference, 1.0ms postprocess per image at shape (1, 3, 640, 640)\n",
      "Processed 67 (4).jpg, saved to ./runs/detect/heatmap/heatmap_67 (4).jpg\n",
      "\n",
      "0: 640x640 1 negative, 7.3ms\n",
      "Speed: 2.8ms preprocess, 7.3ms inference, 1.1ms postprocess per image at shape (1, 3, 640, 640)\n",
      "Processed 86.jpg, saved to ./runs/detect/heatmap/heatmap_86.jpg\n",
      "\n",
      "0: 640x640 1 negative, 7.8ms\n",
      "Speed: 2.8ms preprocess, 7.8ms inference, 1.3ms postprocess per image at shape (1, 3, 640, 640)\n",
      "Processed 82 (2).jpg, saved to ./runs/detect/heatmap/heatmap_82 (2).jpg\n",
      "\n",
      "0: 640x480 1 negative, 8.6ms\n",
      "Speed: 2.1ms preprocess, 8.6ms inference, 1.1ms postprocess per image at shape (1, 3, 640, 480)\n",
      "Processed 00116_14.jpg, saved to ./runs/detect/heatmap/heatmap_00116_14.jpg\n",
      "\n",
      "0: 640x640 1 negative, 8.7ms\n",
      "Speed: 2.9ms preprocess, 8.7ms inference, 1.1ms postprocess per image at shape (1, 3, 640, 640)\n",
      "Processed 00123_223.jpg, saved to ./runs/detect/heatmap/heatmap_00123_223.jpg\n",
      "\n",
      "0: 640x576 1 positive, 8.2ms\n",
      "Speed: 2.7ms preprocess, 8.2ms inference, 1.1ms postprocess per image at shape (1, 3, 640, 576)\n",
      "Processed 00294_20.jpg, saved to ./runs/detect/heatmap/heatmap_00294_20.jpg\n",
      "\n",
      "0: 640x640 1 positive, 7.7ms\n",
      "Speed: 2.6ms preprocess, 7.7ms inference, 1.0ms postprocess per image at shape (1, 3, 640, 640)\n",
      "Processed 70 (8).jpg, saved to ./runs/detect/heatmap/heatmap_70 (8).jpg\n",
      "\n",
      "0: 640x640 1 positive, 7.4ms\n",
      "Speed: 2.8ms preprocess, 7.4ms inference, 1.0ms postprocess per image at shape (1, 3, 640, 640)\n",
      "Processed 00100_170.jpg, saved to ./runs/detect/heatmap/heatmap_00100_170.jpg\n",
      "\n",
      "0: 640x640 1 positive, 7.1ms\n",
      "Speed: 2.7ms preprocess, 7.1ms inference, 1.0ms postprocess per image at shape (1, 3, 640, 640)\n",
      "Processed 00077_206.jpg, saved to ./runs/detect/heatmap/heatmap_00077_206.jpg\n",
      "\n",
      "0: 640x640 1 negative, 7.3ms\n",
      "Speed: 2.4ms preprocess, 7.3ms inference, 1.0ms postprocess per image at shape (1, 3, 640, 640)\n",
      "Processed 00169_134.jpg, saved to ./runs/detect/heatmap/heatmap_00169_134.jpg\n",
      "\n",
      "0: 640x640 1 negative, 7.0ms\n",
      "Speed: 2.4ms preprocess, 7.0ms inference, 1.0ms postprocess per image at shape (1, 3, 640, 640)\n",
      "Processed 00099_139.jpg, saved to ./runs/detect/heatmap/heatmap_00099_139.jpg\n",
      "\n",
      "0: 640x640 1 negative, 7.2ms\n",
      "Speed: 2.6ms preprocess, 7.2ms inference, 1.0ms postprocess per image at shape (1, 3, 640, 640)\n",
      "Processed 00095_226.jpg, saved to ./runs/detect/heatmap/heatmap_00095_226.jpg\n",
      "\n",
      "0: 640x576 1 positive, 7.7ms\n",
      "Speed: 2.6ms preprocess, 7.7ms inference, 1.0ms postprocess per image at shape (1, 3, 640, 576)\n",
      "Processed 00294_21.jpg, saved to ./runs/detect/heatmap/heatmap_00294_21.jpg\n",
      "\n",
      "0: 640x480 1 negative, 7.5ms\n",
      "Speed: 2.1ms preprocess, 7.5ms inference, 0.9ms postprocess per image at shape (1, 3, 640, 480)\n",
      "Processed 00172_114.jpg, saved to ./runs/detect/heatmap/heatmap_00172_114.jpg\n",
      "\n",
      "0: 640x480 1 positive, 7.2ms\n",
      "Speed: 1.9ms preprocess, 7.2ms inference, 0.9ms postprocess per image at shape (1, 3, 640, 480)\n",
      "Processed 00350_135.jpg, saved to ./runs/detect/heatmap/heatmap_00350_135.jpg\n",
      "\n",
      "0: 640x640 2 negatives, 7.7ms\n",
      "Speed: 2.7ms preprocess, 7.7ms inference, 1.0ms postprocess per image at shape (1, 3, 640, 640)\n",
      "Processed 00142_126.jpg, saved to ./runs/detect/heatmap/heatmap_00142_126.jpg\n",
      "\n",
      "0: 640x640 1 negative, 7.3ms\n",
      "Speed: 2.4ms preprocess, 7.3ms inference, 1.0ms postprocess per image at shape (1, 3, 640, 640)\n",
      "Processed 00123_14.jpg, saved to ./runs/detect/heatmap/heatmap_00123_14.jpg\n",
      "\n",
      "0: 640x640 1 positive, 7.7ms\n",
      "Speed: 2.8ms preprocess, 7.7ms inference, 1.1ms postprocess per image at shape (1, 3, 640, 640)\n",
      "Processed 112 (2).jpg, saved to ./runs/detect/heatmap/heatmap_112 (2).jpg\n",
      "\n",
      "0: 640x640 1 negative, 7.3ms\n",
      "Speed: 2.7ms preprocess, 7.3ms inference, 1.0ms postprocess per image at shape (1, 3, 640, 640)\n",
      "Processed 00132_112.jpg, saved to ./runs/detect/heatmap/heatmap_00132_112.jpg\n",
      "\n",
      "0: 640x480 1 positive, 7.8ms\n",
      "Speed: 1.9ms preprocess, 7.8ms inference, 1.0ms postprocess per image at shape (1, 3, 640, 480)\n",
      "Processed 00352_93.jpg, saved to ./runs/detect/heatmap/heatmap_00352_93.jpg\n",
      "\n",
      "0: 640x640 1 positive, 7.7ms\n",
      "Speed: 2.7ms preprocess, 7.7ms inference, 1.1ms postprocess per image at shape (1, 3, 640, 640)\n",
      "Processed 87 (5).jpg, saved to ./runs/detect/heatmap/heatmap_87 (5).jpg\n",
      "\n",
      "0: 640x480 1 positive, 7.7ms\n",
      "Speed: 1.9ms preprocess, 7.7ms inference, 1.0ms postprocess per image at shape (1, 3, 640, 480)\n",
      "Processed 00334_120.jpg, saved to ./runs/detect/heatmap/heatmap_00334_120.jpg\n",
      "\n",
      "0: 640x640 1 positive, 7.6ms\n",
      "Speed: 2.3ms preprocess, 7.6ms inference, 1.1ms postprocess per image at shape (1, 3, 640, 640)\n",
      "Processed 00305_97.jpg, saved to ./runs/detect/heatmap/heatmap_00305_97.jpg\n",
      "\n",
      "0: 640x640 1 negative, 6.9ms\n",
      "Speed: 2.7ms preprocess, 6.9ms inference, 0.9ms postprocess per image at shape (1, 3, 640, 640)\n",
      "Processed 00154_267.jpg, saved to ./runs/detect/heatmap/heatmap_00154_267.jpg\n",
      "\n",
      "0: 640x640 1 negative, 7.5ms\n",
      "Speed: 2.8ms preprocess, 7.5ms inference, 1.1ms postprocess per image at shape (1, 3, 640, 640)\n",
      "Processed 76 (2).jpg, saved to ./runs/detect/heatmap/heatmap_76 (2).jpg\n",
      "\n",
      "0: 640x640 1 positive, 7.3ms\n",
      "Speed: 2.7ms preprocess, 7.3ms inference, 1.0ms postprocess per image at shape (1, 3, 640, 640)\n",
      "Processed 00177_145.jpg, saved to ./runs/detect/heatmap/heatmap_00177_145.jpg\n",
      "\n",
      "0: 640x640 1 negative, 7.1ms\n",
      "Speed: 2.7ms preprocess, 7.1ms inference, 1.0ms postprocess per image at shape (1, 3, 640, 640)\n",
      "Processed 00148_24.jpg, saved to ./runs/detect/heatmap/heatmap_00148_24.jpg\n",
      "\n",
      "0: 640x640 2 negatives, 7.4ms\n",
      "Speed: 2.4ms preprocess, 7.4ms inference, 1.0ms postprocess per image at shape (1, 3, 640, 640)\n",
      "Processed 128 (2).jpg, saved to ./runs/detect/heatmap/heatmap_128 (2).jpg\n",
      "\n",
      "0: 640x640 1 negative, 7.3ms\n",
      "Speed: 2.5ms preprocess, 7.3ms inference, 1.0ms postprocess per image at shape (1, 3, 640, 640)\n",
      "Processed 00097_83.jpg, saved to ./runs/detect/heatmap/heatmap_00097_83.jpg\n",
      "\n",
      "0: 640x480 1 positive, 7.6ms\n",
      "Speed: 1.9ms preprocess, 7.6ms inference, 0.9ms postprocess per image at shape (1, 3, 640, 480)\n",
      "Processed 00313_118.jpg, saved to ./runs/detect/heatmap/heatmap_00313_118.jpg\n",
      "\n",
      "0: 640x640 1 negative, 7.6ms\n",
      "Speed: 2.7ms preprocess, 7.6ms inference, 1.0ms postprocess per image at shape (1, 3, 640, 640)\n",
      "Processed 94 (3).jpg, saved to ./runs/detect/heatmap/heatmap_94 (3).jpg\n",
      "\n",
      "0: 640x544 1 positive, 7.9ms\n",
      "Speed: 2.5ms preprocess, 7.9ms inference, 1.1ms postprocess per image at shape (1, 3, 640, 544)\n",
      "Processed 00291_23.jpg, saved to ./runs/detect/heatmap/heatmap_00291_23.jpg\n",
      "\n",
      "0: 640x640 1 negative, 7.9ms\n",
      "Speed: 2.7ms preprocess, 7.9ms inference, 1.0ms postprocess per image at shape (1, 3, 640, 640)\n",
      "Processed 93 (3).jpg, saved to ./runs/detect/heatmap/heatmap_93 (3).jpg\n",
      "\n",
      "0: 640x640 1 negative, 7.6ms\n",
      "Speed: 2.9ms preprocess, 7.6ms inference, 1.2ms postprocess per image at shape (1, 3, 640, 640)\n",
      "Processed 00104_185.jpg, saved to ./runs/detect/heatmap/heatmap_00104_185.jpg\n",
      "\n",
      "0: 640x640 1 negative, 7.8ms\n",
      "Speed: 2.9ms preprocess, 7.8ms inference, 1.2ms postprocess per image at shape (1, 3, 640, 640)\n",
      "Processed 00193_190.jpg, saved to ./runs/detect/heatmap/heatmap_00193_190.jpg\n",
      "\n",
      "0: 640x640 1 positive, 7.9ms\n",
      "Speed: 2.9ms preprocess, 7.9ms inference, 1.2ms postprocess per image at shape (1, 3, 640, 640)\n",
      "Processed 70 (5).jpg, saved to ./runs/detect/heatmap/heatmap_70 (5).jpg\n",
      "\n",
      "0: 640x640 1 negative, 11.2ms\n",
      "Speed: 2.9ms preprocess, 11.2ms inference, 1.6ms postprocess per image at shape (1, 3, 640, 640)\n",
      "Processed 66 (2).jpg, saved to ./runs/detect/heatmap/heatmap_66 (2).jpg\n",
      "\n",
      "0: 640x640 1 negative, 7.5ms\n",
      "Speed: 2.5ms preprocess, 7.5ms inference, 1.1ms postprocess per image at shape (1, 3, 640, 640)\n",
      "Processed 128.jpg, saved to ./runs/detect/heatmap/heatmap_128.jpg\n",
      "\n",
      "0: 640x640 1 negative, 7.1ms\n",
      "Speed: 2.5ms preprocess, 7.1ms inference, 1.1ms postprocess per image at shape (1, 3, 640, 640)\n",
      "Processed 00104_19.jpg, saved to ./runs/detect/heatmap/heatmap_00104_19.jpg\n",
      "\n",
      "0: 640x640 2 positives, 7.2ms\n",
      "Speed: 2.7ms preprocess, 7.2ms inference, 1.0ms postprocess per image at shape (1, 3, 640, 640)\n",
      "Processed 75 (6).jpg, saved to ./runs/detect/heatmap/heatmap_75 (6).jpg\n",
      "\n",
      "0: 640x640 1 positive, 7.6ms\n",
      "Speed: 2.8ms preprocess, 7.6ms inference, 1.1ms postprocess per image at shape (1, 3, 640, 640)\n",
      "Processed 62 (11).jpg, saved to ./runs/detect/heatmap/heatmap_62 (11).jpg\n",
      "\n",
      "0: 640x640 1 negative, 7.2ms\n",
      "Speed: 2.7ms preprocess, 7.2ms inference, 1.1ms postprocess per image at shape (1, 3, 640, 640)\n",
      "Processed 00192_262.jpg, saved to ./runs/detect/heatmap/heatmap_00192_262.jpg\n",
      "\n",
      "0: 640x640 1 negative, 7.3ms\n",
      "Speed: 2.6ms preprocess, 7.3ms inference, 1.0ms postprocess per image at shape (1, 3, 640, 640)\n",
      "Processed 77 (2).jpg, saved to ./runs/detect/heatmap/heatmap_77 (2).jpg\n",
      "\n",
      "0: 640x640 1 negative, 7.0ms\n",
      "Speed: 2.6ms preprocess, 7.0ms inference, 1.1ms postprocess per image at shape (1, 3, 640, 640)\n",
      "Processed 00121_157.jpg, saved to ./runs/detect/heatmap/heatmap_00121_157.jpg\n",
      "\n",
      "0: 640x640 1 negative, 7.1ms\n",
      "Speed: 2.7ms preprocess, 7.1ms inference, 1.0ms postprocess per image at shape (1, 3, 640, 640)\n",
      "Processed 82.jpg, saved to ./runs/detect/heatmap/heatmap_82.jpg\n",
      "\n",
      "0: 640x640 1 positive, 7.1ms\n",
      "Speed: 2.7ms preprocess, 7.1ms inference, 1.0ms postprocess per image at shape (1, 3, 640, 640)\n",
      "Processed 00106_253.jpg, saved to ./runs/detect/heatmap/heatmap_00106_253.jpg\n",
      "\n",
      "0: 640x640 2 positives, 7.0ms\n",
      "Speed: 2.7ms preprocess, 7.0ms inference, 1.0ms postprocess per image at shape (1, 3, 640, 640)\n",
      "Processed 00159_152.jpg, saved to ./runs/detect/heatmap/heatmap_00159_152.jpg\n"
     ]
    }
   ],
   "source": [
    "import cv2\n",
    "import os\n",
    "import numpy as np\n",
    "from ultralytics import YOLO\n",
    "import matplotlib.pyplot as plt\n",
    "\n",
    "# Define input and output directories\n",
    "input_folder = './images/train'\n",
    "output_folder = './runs/detect/heatmap'\n",
    "\n",
    "# Create output directory if it doesn't exist\n",
    "os.makedirs(output_folder, exist_ok=True)\n",
    "\n",
    "# Process each image in the input folder\n",
    "for filename in os.listdir(input_folder):\n",
    "    if filename.endswith((\".png\", \".jpg\", \".jpeg\")):\n",
    "        # Read image\n",
    "        img_path = os.path.join(input_folder, filename)\n",
    "        image = cv2.imread(img_path)\n",
    "\n",
    "        # Get predictions\n",
    "        results = train_model.predict(image)\n",
    "\n",
    "        # Assuming results is a list of Result objects\n",
    "        detections = results[0].boxes\n",
    "\n",
    "        # Create an empty heatmap\n",
    "        heatmap = np.zeros_like(image[:, :, 0], dtype=np.float32)\n",
    "\n",
    "        # Generate heatmap based on detections\n",
    "        for box in detections:\n",
    "            x1, y1, x2, y2 = map(int, box.xyxy[0])  # Extract the coordinates\n",
    "            conf = box.conf[0].item()  # Extract the confidence score and convert to float\n",
    "\n",
    "            # Draw rectangle on heatmap\n",
    "            cv2.rectangle(heatmap, (x1, y1), (x2, y2), (conf * 255), thickness=-1)\n",
    "\n",
    "        # Normalize heatmap to 0-255 using numpy\n",
    "        heatmap = np.clip(heatmap, 0, 255).astype(np.uint8)\n",
    "\n",
    "        # Apply colormap to heatmap\n",
    "        heatmap_colored = cv2.applyColorMap(heatmap, cv2.COLORMAP_JET)\n",
    "\n",
    "        # Overlay heatmap on the original image\n",
    "        overlay = cv2.addWeighted(image, 0.6, heatmap_colored, 0.4, 0)\n",
    "\n",
    "        # Save the result to a file\n",
    "        output_path = os.path.join(output_folder, f'heatmap_{filename}')\n",
    "        cv2.imwrite(output_path, overlay)\n",
    "\n",
    "        # Optionally display the image with heatmap using matplotlib (for debugging purposes)\n",
    "        # plt.figure(figsize=(10, 10))\n",
    "        # plt.imshow(cv2.cvtColor(overlay, cv2.COLOR_BGR2RGB))\n",
    "        # plt.axis('off')\n",
    "        # plt.show()\n",
    "\n",
    "        print(f'Processed {filename}, saved to {output_path}')\n"
   ]
  },
  {
   "cell_type": "code",
   "execution_count": 17,
   "metadata": {},
   "outputs": [
    {
     "name": "stdout",
     "output_type": "stream",
     "text": [
      "\n",
      "0: 640x640 1 negative, 1 positive, 11.1ms\n",
      "Speed: 24.0ms preprocess, 11.1ms inference, 1.5ms postprocess per image at shape (1, 3, 640, 640)\n",
      "Processed 00036_142.jpg, saved to ./runs/detect/heatmap/heatmap_00036_142.jpg\n",
      "\n",
      "0: 640x640 (no detections), 9.7ms\n",
      "Speed: 3.6ms preprocess, 9.7ms inference, 0.6ms postprocess per image at shape (1, 3, 640, 640)\n",
      "No valid heatmap data for 00022_199.jpg\n",
      "\n",
      "0: 640x640 1 positive, 10.9ms\n",
      "Speed: 3.7ms preprocess, 10.9ms inference, 1.4ms postprocess per image at shape (1, 3, 640, 640)\n",
      "Processed 00049_142.jpg, saved to ./runs/detect/heatmap/heatmap_00049_142.jpg\n",
      "\n",
      "0: 640x640 1 negative, 11.1ms\n",
      "Speed: 3.6ms preprocess, 11.1ms inference, 1.4ms postprocess per image at shape (1, 3, 640, 640)\n",
      "Processed 00035_148.jpg, saved to ./runs/detect/heatmap/heatmap_00035_148.jpg\n",
      "\n",
      "0: 640x640 1 negative, 9.6ms\n",
      "Speed: 3.8ms preprocess, 9.6ms inference, 1.6ms postprocess per image at shape (1, 3, 640, 640)\n",
      "Processed 00003_173.jpg, saved to ./runs/detect/heatmap/heatmap_00003_173.jpg\n",
      "\n",
      "0: 640x640 1 positive, 9.8ms\n",
      "Speed: 3.6ms preprocess, 9.8ms inference, 1.4ms postprocess per image at shape (1, 3, 640, 640)\n",
      "Processed 00045_77.jpg, saved to ./runs/detect/heatmap/heatmap_00045_77.jpg\n",
      "\n",
      "0: 640x640 1 positive, 13.7ms\n",
      "Speed: 4.3ms preprocess, 13.7ms inference, 1.8ms postprocess per image at shape (1, 3, 640, 640)\n",
      "Processed 00000_102.jpg, saved to ./runs/detect/heatmap/heatmap_00000_102.jpg\n",
      "\n",
      "0: 640x640 1 positive, 7.8ms\n",
      "Speed: 2.9ms preprocess, 7.8ms inference, 1.2ms postprocess per image at shape (1, 3, 640, 640)\n",
      "Processed 00003_211.jpg, saved to ./runs/detect/heatmap/heatmap_00003_211.jpg\n",
      "\n",
      "0: 640x640 1 positive, 8.0ms\n",
      "Speed: 2.9ms preprocess, 8.0ms inference, 1.2ms postprocess per image at shape (1, 3, 640, 640)\n",
      "Processed 00012_181.jpg, saved to ./runs/detect/heatmap/heatmap_00012_181.jpg\n",
      "\n",
      "0: 640x640 1 positive, 11.9ms\n",
      "Speed: 4.4ms preprocess, 11.9ms inference, 1.6ms postprocess per image at shape (1, 3, 640, 640)\n",
      "Processed 00053_145.jpg, saved to ./runs/detect/heatmap/heatmap_00053_145.jpg\n",
      "\n",
      "0: 640x640 1 negative, 1 positive, 7.5ms\n",
      "Speed: 2.8ms preprocess, 7.5ms inference, 1.1ms postprocess per image at shape (1, 3, 640, 640)\n",
      "Processed 00006_174.jpg, saved to ./runs/detect/heatmap/heatmap_00006_174.jpg\n",
      "\n",
      "0: 640x640 1 positive, 7.3ms\n",
      "Speed: 2.7ms preprocess, 7.3ms inference, 1.0ms postprocess per image at shape (1, 3, 640, 640)\n",
      "Processed 00011_277.jpg, saved to ./runs/detect/heatmap/heatmap_00011_277.jpg\n",
      "\n",
      "0: 640x640 1 negative, 1 positive, 6.9ms\n",
      "Speed: 2.6ms preprocess, 6.9ms inference, 1.0ms postprocess per image at shape (1, 3, 640, 640)\n",
      "Processed 00061_89.jpg, saved to ./runs/detect/heatmap/heatmap_00061_89.jpg\n",
      "\n",
      "0: 640x640 1 negative, 6.9ms\n",
      "Speed: 2.7ms preprocess, 6.9ms inference, 1.0ms postprocess per image at shape (1, 3, 640, 640)\n",
      "Processed 00049_122.jpg, saved to ./runs/detect/heatmap/heatmap_00049_122.jpg\n",
      "\n",
      "0: 640x640 1 negative, 7.1ms\n",
      "Speed: 2.6ms preprocess, 7.1ms inference, 1.0ms postprocess per image at shape (1, 3, 640, 640)\n",
      "Processed 00032_96.jpg, saved to ./runs/detect/heatmap/heatmap_00032_96.jpg\n",
      "\n",
      "0: 640x640 1 positive, 7.0ms\n",
      "Speed: 2.6ms preprocess, 7.0ms inference, 1.0ms postprocess per image at shape (1, 3, 640, 640)\n",
      "Processed 00048_102.jpg, saved to ./runs/detect/heatmap/heatmap_00048_102.jpg\n",
      "\n",
      "0: 640x640 1 negative, 10.7ms\n",
      "Speed: 2.7ms preprocess, 10.7ms inference, 1.0ms postprocess per image at shape (1, 3, 640, 640)\n",
      "Processed 00053_203.jpg, saved to ./runs/detect/heatmap/heatmap_00053_203.jpg\n",
      "\n",
      "0: 640x640 1 positive, 6.9ms\n",
      "Speed: 2.7ms preprocess, 6.9ms inference, 1.0ms postprocess per image at shape (1, 3, 640, 640)\n",
      "Processed 00002_129.jpg, saved to ./runs/detect/heatmap/heatmap_00002_129.jpg\n",
      "\n",
      "0: 640x640 1 negative, 7.1ms\n",
      "Speed: 2.7ms preprocess, 7.1ms inference, 1.0ms postprocess per image at shape (1, 3, 640, 640)\n",
      "Processed 00049_102.jpg, saved to ./runs/detect/heatmap/heatmap_00049_102.jpg\n",
      "\n",
      "0: 640x640 1 positive, 7.1ms\n",
      "Speed: 2.7ms preprocess, 7.1ms inference, 1.0ms postprocess per image at shape (1, 3, 640, 640)\n",
      "Processed 00032_77.jpg, saved to ./runs/detect/heatmap/heatmap_00032_77.jpg\n",
      "\n",
      "0: 640x640 1 negative, 6.9ms\n",
      "Speed: 2.6ms preprocess, 6.9ms inference, 1.1ms postprocess per image at shape (1, 3, 640, 640)\n",
      "Processed 00005_143.jpg, saved to ./runs/detect/heatmap/heatmap_00005_143.jpg\n",
      "\n",
      "0: 640x640 1 negative, 1 positive, 6.8ms\n",
      "Speed: 2.7ms preprocess, 6.8ms inference, 1.0ms postprocess per image at shape (1, 3, 640, 640)\n",
      "Processed 00036_103.jpg, saved to ./runs/detect/heatmap/heatmap_00036_103.jpg\n",
      "\n",
      "0: 640x640 (no detections), 7.3ms\n",
      "Speed: 2.7ms preprocess, 7.3ms inference, 0.5ms postprocess per image at shape (1, 3, 640, 640)\n",
      "No valid heatmap data for 00009_184.jpg\n",
      "\n",
      "0: 640x640 1 negative, 6.8ms\n",
      "Speed: 2.7ms preprocess, 6.8ms inference, 1.1ms postprocess per image at shape (1, 3, 640, 640)\n",
      "Processed 00054_88.jpg, saved to ./runs/detect/heatmap/heatmap_00054_88.jpg\n",
      "\n",
      "0: 640x640 1 negative, 7.0ms\n",
      "Speed: 2.6ms preprocess, 7.0ms inference, 1.0ms postprocess per image at shape (1, 3, 640, 640)\n",
      "Processed 00003_192.jpg, saved to ./runs/detect/heatmap/heatmap_00003_192.jpg\n",
      "\n",
      "0: 640x640 1 negative, 1 positive, 7.0ms\n",
      "Speed: 2.7ms preprocess, 7.0ms inference, 1.0ms postprocess per image at shape (1, 3, 640, 640)\n",
      "Processed 00002_166.jpg, saved to ./runs/detect/heatmap/heatmap_00002_166.jpg\n",
      "\n",
      "0: 640x640 1 positive, 7.1ms\n",
      "Speed: 2.7ms preprocess, 7.1ms inference, 1.0ms postprocess per image at shape (1, 3, 640, 640)\n",
      "Processed 00022_218.jpg, saved to ./runs/detect/heatmap/heatmap_00022_218.jpg\n",
      "\n",
      "0: 640x640 1 positive, 7.5ms\n",
      "Speed: 2.8ms preprocess, 7.5ms inference, 1.1ms postprocess per image at shape (1, 3, 640, 640)\n",
      "Processed 00045_117.jpg, saved to ./runs/detect/heatmap/heatmap_00045_117.jpg\n",
      "\n",
      "0: 640x640 1 positive, 7.2ms\n",
      "Speed: 2.7ms preprocess, 7.2ms inference, 1.0ms postprocess per image at shape (1, 3, 640, 640)\n",
      "Processed 00031_255.jpg, saved to ./runs/detect/heatmap/heatmap_00031_255.jpg\n",
      "\n",
      "0: 640x640 1 positive, 7.1ms\n",
      "Speed: 2.7ms preprocess, 7.1ms inference, 1.0ms postprocess per image at shape (1, 3, 640, 640)\n",
      "Processed 00031_236.jpg, saved to ./runs/detect/heatmap/heatmap_00031_236.jpg\n",
      "\n",
      "0: 640x640 1 positive, 7.1ms\n",
      "Speed: 2.7ms preprocess, 7.1ms inference, 1.0ms postprocess per image at shape (1, 3, 640, 640)\n",
      "Processed 00000_140.jpg, saved to ./runs/detect/heatmap/heatmap_00000_140.jpg\n",
      "\n",
      "0: 640x640 1 negative, 2 positives, 7.0ms\n",
      "Speed: 2.7ms preprocess, 7.0ms inference, 1.0ms postprocess per image at shape (1, 3, 640, 640)\n",
      "Processed 00022_256.jpg, saved to ./runs/detect/heatmap/heatmap_00022_256.jpg\n",
      "\n",
      "0: 640x640 1 positive, 7.2ms\n",
      "Speed: 2.7ms preprocess, 7.2ms inference, 1.0ms postprocess per image at shape (1, 3, 640, 640)\n",
      "Processed 00021_178.jpg, saved to ./runs/detect/heatmap/heatmap_00021_178.jpg\n",
      "\n",
      "0: 640x640 2 positives, 7.3ms\n",
      "Speed: 2.7ms preprocess, 7.3ms inference, 1.0ms postprocess per image at shape (1, 3, 640, 640)\n",
      "Processed 00022_237.jpg, saved to ./runs/detect/heatmap/heatmap_00022_237.jpg\n",
      "\n",
      "0: 640x640 1 positive, 7.3ms\n",
      "Speed: 2.7ms preprocess, 7.3ms inference, 1.0ms postprocess per image at shape (1, 3, 640, 640)\n",
      "Processed 00036_122.jpg, saved to ./runs/detect/heatmap/heatmap_00036_122.jpg\n",
      "\n",
      "0: 640x640 1 negative, 7.1ms\n",
      "Speed: 2.7ms preprocess, 7.1ms inference, 1.0ms postprocess per image at shape (1, 3, 640, 640)\n",
      "Processed 00053_85.jpg, saved to ./runs/detect/heatmap/heatmap_00053_85.jpg\n",
      "\n",
      "0: 640x640 1 positive, 7.2ms\n",
      "Speed: 2.7ms preprocess, 7.2ms inference, 1.0ms postprocess per image at shape (1, 3, 640, 640)\n",
      "Processed 00000_159.jpg, saved to ./runs/detect/heatmap/heatmap_00000_159.jpg\n",
      "\n",
      "0: 640x640 2 positives, 7.2ms\n",
      "Speed: 2.6ms preprocess, 7.2ms inference, 1.0ms postprocess per image at shape (1, 3, 640, 640)\n",
      "Processed 00022_275.jpg, saved to ./runs/detect/heatmap/heatmap_00022_275.jpg\n",
      "\n",
      "0: 640x640 1 positive, 7.0ms\n",
      "Speed: 2.6ms preprocess, 7.0ms inference, 0.9ms postprocess per image at shape (1, 3, 640, 640)\n",
      "Processed 00009_110.jpg, saved to ./runs/detect/heatmap/heatmap_00009_110.jpg\n",
      "\n",
      "0: 640x640 1 negative, 4 positives, 7.3ms\n",
      "Speed: 2.7ms preprocess, 7.3ms inference, 1.0ms postprocess per image at shape (1, 3, 640, 640)\n",
      "Processed 00026_118.jpg, saved to ./runs/detect/heatmap/heatmap_00026_118.jpg\n",
      "\n",
      "0: 640x640 1 negative, 1 positive, 7.5ms\n",
      "Speed: 2.7ms preprocess, 7.5ms inference, 1.2ms postprocess per image at shape (1, 3, 640, 640)\n",
      "Processed 00006_192.jpg, saved to ./runs/detect/heatmap/heatmap_00006_192.jpg\n",
      "\n",
      "0: 640x640 1 negative, 1 positive, 7.0ms\n",
      "Speed: 2.6ms preprocess, 7.0ms inference, 1.1ms postprocess per image at shape (1, 3, 640, 640)\n",
      "Processed 00006_137.jpg, saved to ./runs/detect/heatmap/heatmap_00006_137.jpg\n",
      "\n",
      "0: 640x640 (no detections), 7.1ms\n",
      "Speed: 2.6ms preprocess, 7.1ms inference, 0.4ms postprocess per image at shape (1, 3, 640, 640)\n",
      "No valid heatmap data for 00031_163.jpg\n",
      "\n",
      "0: 640x640 1 positive, 6.9ms\n",
      "Speed: 2.6ms preprocess, 6.9ms inference, 1.0ms postprocess per image at shape (1, 3, 640, 640)\n",
      "Processed 00002_110.jpg, saved to ./runs/detect/heatmap/heatmap_00002_110.jpg\n",
      "\n",
      "0: 640x640 1 positive, 7.1ms\n",
      "Speed: 2.7ms preprocess, 7.1ms inference, 1.0ms postprocess per image at shape (1, 3, 640, 640)\n",
      "Processed 00031_273.jpg, saved to ./runs/detect/heatmap/heatmap_00031_273.jpg\n",
      "\n",
      "0: 640x640 1 positive, 7.1ms\n",
      "Speed: 2.6ms preprocess, 7.1ms inference, 1.0ms postprocess per image at shape (1, 3, 640, 640)\n",
      "Processed 00045_97.jpg, saved to ./runs/detect/heatmap/heatmap_00045_97.jpg\n",
      "\n",
      "0: 640x640 1 negative, 7.0ms\n",
      "Speed: 2.6ms preprocess, 7.0ms inference, 1.0ms postprocess per image at shape (1, 3, 640, 640)\n",
      "Processed 00003_154.jpg, saved to ./runs/detect/heatmap/heatmap_00003_154.jpg\n",
      "\n",
      "0: 640x640 1 negative, 7.1ms\n",
      "Speed: 2.7ms preprocess, 7.1ms inference, 1.0ms postprocess per image at shape (1, 3, 640, 640)\n",
      "Processed 00054_107.jpg, saved to ./runs/detect/heatmap/heatmap_00054_107.jpg\n",
      "\n",
      "0: 640x640 2 positives, 7.5ms\n",
      "Speed: 2.7ms preprocess, 7.5ms inference, 1.0ms postprocess per image at shape (1, 3, 640, 640)\n",
      "Processed 00054_126.jpg, saved to ./runs/detect/heatmap/heatmap_00054_126.jpg\n",
      "\n",
      "0: 640x640 1 positive, 7.2ms\n",
      "Speed: 2.7ms preprocess, 7.2ms inference, 1.0ms postprocess per image at shape (1, 3, 640, 640)\n",
      "Processed 00002_147.jpg, saved to ./runs/detect/heatmap/heatmap_00002_147.jpg\n",
      "\n",
      "0: 640x640 2 positives, 7.3ms\n",
      "Speed: 2.7ms preprocess, 7.3ms inference, 1.0ms postprocess per image at shape (1, 3, 640, 640)\n",
      "Processed 00036_162.jpg, saved to ./runs/detect/heatmap/heatmap_00036_162.jpg\n",
      "\n",
      "0: 640x640 3 positives, 7.3ms\n",
      "Speed: 2.7ms preprocess, 7.3ms inference, 1.0ms postprocess per image at shape (1, 3, 640, 640)\n",
      "Processed 00005_106.jpg, saved to ./runs/detect/heatmap/heatmap_00005_106.jpg\n",
      "\n",
      "0: 640x640 1 positive, 7.2ms\n",
      "Speed: 2.7ms preprocess, 7.2ms inference, 1.0ms postprocess per image at shape (1, 3, 640, 640)\n",
      "Processed 00006_210.jpg, saved to ./runs/detect/heatmap/heatmap_00006_210.jpg\n",
      "\n",
      "0: 640x640 1 negative, 7.2ms\n",
      "Speed: 2.7ms preprocess, 7.2ms inference, 1.0ms postprocess per image at shape (1, 3, 640, 640)\n",
      "Processed 00035_111.jpg, saved to ./runs/detect/heatmap/heatmap_00035_111.jpg\n",
      "\n",
      "0: 640x640 1 positive, 7.1ms\n",
      "Speed: 2.7ms preprocess, 7.1ms inference, 1.0ms postprocess per image at shape (1, 3, 640, 640)\n",
      "Processed 00048_82.jpg, saved to ./runs/detect/heatmap/heatmap_00048_82.jpg\n",
      "\n",
      "0: 640x640 1 positive, 7.1ms\n",
      "Speed: 2.7ms preprocess, 7.1ms inference, 1.0ms postprocess per image at shape (1, 3, 640, 640)\n",
      "Processed 00000_121.jpg, saved to ./runs/detect/heatmap/heatmap_00000_121.jpg\n",
      "\n",
      "0: 640x640 1 negative, 7.3ms\n",
      "Speed: 2.7ms preprocess, 7.3ms inference, 1.0ms postprocess per image at shape (1, 3, 640, 640)\n",
      "Processed 00005_125.jpg, saved to ./runs/detect/heatmap/heatmap_00005_125.jpg\n",
      "\n",
      "0: 640x640 1 positive, 7.4ms\n",
      "Speed: 2.7ms preprocess, 7.4ms inference, 1.1ms postprocess per image at shape (1, 3, 640, 640)\n",
      "Processed 00026_97.jpg, saved to ./runs/detect/heatmap/heatmap_00026_97.jpg\n",
      "\n",
      "0: 640x640 1 positive, 7.0ms\n",
      "Speed: 2.6ms preprocess, 7.0ms inference, 0.9ms postprocess per image at shape (1, 3, 640, 640)\n",
      "Processed 00030_236.jpg, saved to ./runs/detect/heatmap/heatmap_00030_236.jpg\n",
      "\n",
      "0: 640x640 1 negative, 2 positives, 7.1ms\n",
      "Speed: 2.7ms preprocess, 7.1ms inference, 1.0ms postprocess per image at shape (1, 3, 640, 640)\n",
      "Processed 00030_215.jpg, saved to ./runs/detect/heatmap/heatmap_00030_215.jpg\n",
      "\n",
      "0: 640x640 1 negative, 1 positive, 7.3ms\n",
      "Speed: 2.7ms preprocess, 7.3ms inference, 1.0ms postprocess per image at shape (1, 3, 640, 640)\n",
      "Processed 00006_156.jpg, saved to ./runs/detect/heatmap/heatmap_00006_156.jpg\n",
      "\n",
      "0: 640x640 1 positive, 7.0ms\n",
      "Speed: 2.6ms preprocess, 7.0ms inference, 1.0ms postprocess per image at shape (1, 3, 640, 640)\n",
      "Processed 00030_194.jpg, saved to ./runs/detect/heatmap/heatmap_00030_194.jpg\n",
      "\n",
      "0: 640x640 1 positive, 6.9ms\n",
      "Speed: 2.6ms preprocess, 6.9ms inference, 1.0ms postprocess per image at shape (1, 3, 640, 640)\n",
      "Processed 00053_165.jpg, saved to ./runs/detect/heatmap/heatmap_00053_165.jpg\n",
      "\n",
      "0: 640x640 1 positive, 7.1ms\n",
      "Speed: 2.6ms preprocess, 7.1ms inference, 1.0ms postprocess per image at shape (1, 3, 640, 640)\n",
      "Processed 00017_187.jpg, saved to ./runs/detect/heatmap/heatmap_00017_187.jpg\n",
      "\n",
      "0: 640x640 1 negative, 1 positive, 7.0ms\n",
      "Speed: 2.7ms preprocess, 7.0ms inference, 1.0ms postprocess per image at shape (1, 3, 640, 640)\n",
      "Processed 00035_129.jpg, saved to ./runs/detect/heatmap/heatmap_00035_129.jpg\n",
      "\n",
      "0: 640x640 1 positive, 7.4ms\n",
      "Speed: 2.7ms preprocess, 7.4ms inference, 1.0ms postprocess per image at shape (1, 3, 640, 640)\n",
      "Processed 00048_121.jpg, saved to ./runs/detect/heatmap/heatmap_00048_121.jpg\n",
      "\n",
      "0: 640x640 1 positive, 6.8ms\n",
      "Speed: 2.7ms preprocess, 6.8ms inference, 1.0ms postprocess per image at shape (1, 3, 640, 640)\n",
      "Processed 00043_96.jpg, saved to ./runs/detect/heatmap/heatmap_00043_96.jpg\n",
      "\n",
      "0: 640x640 2 positives, 7.1ms\n",
      "Speed: 2.7ms preprocess, 7.1ms inference, 1.0ms postprocess per image at shape (1, 3, 640, 640)\n",
      "Processed 00053_125.jpg, saved to ./runs/detect/heatmap/heatmap_00053_125.jpg\n",
      "\n",
      "0: 640x640 1 negative, 7.5ms\n",
      "Speed: 2.7ms preprocess, 7.5ms inference, 1.0ms postprocess per image at shape (1, 3, 640, 640)\n",
      "Processed 00030_257.jpg, saved to ./runs/detect/heatmap/heatmap_00030_257.jpg\n",
      "\n",
      "0: 640x640 (no detections), 7.1ms\n",
      "Speed: 2.7ms preprocess, 7.1ms inference, 0.4ms postprocess per image at shape (1, 3, 640, 640)\n",
      "No valid heatmap data for 00008_178.jpg\n"
     ]
    }
   ],
   "source": [
    "import cv2\n",
    "import os\n",
    "import numpy as np\n",
    "from ultralytics import YOLO\n",
    "\n",
    "# Load your custom pretrained model\n",
    "# Define input and output directories\n",
    "input_folder = './images/test'\n",
    "output_folder = './runs/detect/heatmap'\n",
    "\n",
    "# Create output directory if it doesn't exist\n",
    "os.makedirs(output_folder, exist_ok=True)\n",
    "\n",
    "# Process each image in the input folder\n",
    "for filename in os.listdir(input_folder):\n",
    "    if filename.endswith((\".png\", \".jpg\", \".jpeg\")):\n",
    "        # Read image\n",
    "        img_path = os.path.join(input_folder, filename)\n",
    "        image = cv2.imread(img_path)\n",
    "\n",
    "        # Get predictions\n",
    "        results = train_model.predict(image)\n",
    "\n",
    "        # Assuming results is a list of Result objects\n",
    "        detections = results[0].boxes\n",
    "\n",
    "        # Create an empty heatmap\n",
    "        heatmap = np.zeros_like(image[:, :, 0], dtype=np.float32)\n",
    "\n",
    "        # Generate heatmap based on detections\n",
    "        for box in detections:\n",
    "            x1, y1, x2, y2 = map(int, box.xyxy[0])  # Extract the coordinates\n",
    "            conf = box.conf[0].item()  # Extract the confidence score and convert to float\n",
    "\n",
    "            # Draw rectangle on heatmap with the confidence score as the intensity\n",
    "            heatmap[y1:y2, x1:x2] += conf\n",
    "\n",
    "        # Avoid division by zero in normalization\n",
    "        if np.max(heatmap) > 0:\n",
    "            # Normalize heatmap to 0-255 using numpy\n",
    "            heatmap = np.clip(heatmap / np.max(heatmap) * 255, 0, 255).astype(np.uint8)\n",
    "\n",
    "            # Apply colormap to heatmap\n",
    "            heatmap_colored = cv2.applyColorMap(heatmap, cv2.COLORMAP_JET)\n",
    "\n",
    "            # Overlay heatmap on the original image\n",
    "            overlay = cv2.addWeighted(image, 0.6, heatmap_colored, 0.4, 0)\n",
    "\n",
    "            # Save the result to a file\n",
    "            output_path = os.path.join(output_folder, f'heatmap_{filename}')\n",
    "            cv2.imwrite(output_path, overlay)\n",
    "\n",
    "            print(f'Processed {filename}, saved to {output_path}')\n",
    "        else:\n",
    "            print(f'No valid heatmap data for {filename}')\n"
   ]
  }
 ],
 "metadata": {
  "kernelspec": {
   "display_name": "yolo",
   "language": "python",
   "name": "python3"
  },
  "language_info": {
   "codemirror_mode": {
    "name": "ipython",
    "version": 3
   },
   "file_extension": ".py",
   "mimetype": "text/x-python",
   "name": "python",
   "nbconvert_exporter": "python",
   "pygments_lexer": "ipython3",
   "version": "3.10.14"
  }
 },
 "nbformat": 4,
 "nbformat_minor": 2
}
