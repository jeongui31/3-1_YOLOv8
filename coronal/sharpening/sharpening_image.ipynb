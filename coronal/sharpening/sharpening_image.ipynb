{
 "cells": [
  {
   "cell_type": "code",
   "execution_count": 3,
   "metadata": {},
   "outputs": [],
   "source": [
    "import os\n",
    "from PIL import Image, ImageFilter\n",
    "\n",
    "def sharpen_images(input_folder, output_folder):\n",
    "    # Ensure the output folder exists\n",
    "    os.makedirs(output_folder, exist_ok=True)\n",
    "    \n",
    "    # Loop through all files in the input folder\n",
    "    for filename in os.listdir(input_folder):\n",
    "        if filename.endswith(('.png', '.jpg', '.jpeg', '.bmp', '.gif')):  # Check if the file is an image\n",
    "            # Open an image file\n",
    "            with Image.open(os.path.join(input_folder, filename)) as img:\n",
    "                # Apply the sharpening filter\n",
    "                sharpened_img = img.filter(ImageFilter.SHARPEN)\n",
    "                \n",
    "                # Save the sharpened image to the output folder\n",
    "                sharpened_img.save(os.path.join(output_folder, filename))\n",
    "\n",
    "# Usage example\n",
    "input_folder = '../base/images/val'\n",
    "output_folder = './images/val_sharp'\n",
    "sharpen_images(input_folder, output_folder)\n"
   ]
  },
  {
   "cell_type": "code",
   "execution_count": 6,
   "metadata": {},
   "outputs": [],
   "source": [
    "import os\n",
    "from PIL import Image, ImageFilter\n",
    "\n",
    "def sharpen_images_based_on_labels(input_folder, label_folder, output_folder):\n",
    "    # Ensure the output folder exists\n",
    "    os.makedirs(output_folder, exist_ok=True)\n",
    "    \n",
    "    # Loop through all files in the input folder\n",
    "    for filename in os.listdir(input_folder):\n",
    "        if filename.endswith(('.png', '.jpg', '.jpeg', '.bmp', '.gif')):  # Check if the file is an image\n",
    "            label_path = os.path.join(label_folder, os.path.splitext(filename)[0] + '.txt')\n",
    "            \n",
    "            # Check if the corresponding label file exists\n",
    "            if os.path.exists(label_path):\n",
    "                with open(label_path, 'r') as label_file:\n",
    "                    labels = label_file.readlines()\n",
    "                    \n",
    "                    # Check if any label has class 1\n",
    "                    class_1_present = any(label.startswith('1 ') for label in labels)\n",
    "                    \n",
    "                    if class_1_present:\n",
    "                        # Open an image file\n",
    "                        with Image.open(os.path.join(input_folder, filename)) as img:\n",
    "                            # Apply the sharpening filter\n",
    "                            sharpened_img = img.filter(ImageFilter.SHARPEN)\n",
    "                            \n",
    "                            # Save the sharpened image to the output folder\n",
    "                            sharpened_img.save(os.path.join(output_folder, filename))\n",
    "\n",
    "# Usage example\n",
    "input_folder = '../base/images/val'\n",
    "label_folder = '../base/labels/val'\n",
    "output_folder = './positive_prep/images/val'\n",
    "sharpen_images_based_on_labels(input_folder, label_folder, output_folder)\n"
   ]
  },
  {
   "cell_type": "code",
   "execution_count": 9,
   "metadata": {},
   "outputs": [],
   "source": [
    "import os\n",
    "import shutil\n",
    "\n",
    "def copy_missing_images(input_folder, output_folder):\n",
    "    # Ensure the output folder exists\n",
    "    os.makedirs(output_folder, exist_ok=True)\n",
    "    \n",
    "    # Get the list of images already present in the output folder\n",
    "    existing_images = set(os.listdir(output_folder))\n",
    "    \n",
    "    # Loop through all files in the input folder\n",
    "    for filename in os.listdir(input_folder):\n",
    "        if filename.endswith(('.png', '.jpg', '.jpeg', '.bmp', '.gif')):  # Check if the file is an image\n",
    "            # Check if the image is already present in the output folder\n",
    "            if filename not in existing_images:\n",
    "                # Copy the image to the output folder\n",
    "                shutil.copy(os.path.join(input_folder, filename), os.path.join(output_folder, filename))\n",
    "\n",
    "# Usage example\n",
    "input_folder = '../base/images/val'\n",
    "output_folder = './positive_prep/images/val'\n",
    "copy_missing_images(input_folder, output_folder)\n"
   ]
  }
 ],
 "metadata": {
  "kernelspec": {
   "display_name": "yolo",
   "language": "python",
   "name": "python3"
  },
  "language_info": {
   "codemirror_mode": {
    "name": "ipython",
    "version": 3
   },
   "file_extension": ".py",
   "mimetype": "text/x-python",
   "name": "python",
   "nbconvert_exporter": "python",
   "pygments_lexer": "ipython3",
   "version": "3.10.14"
  }
 },
 "nbformat": 4,
 "nbformat_minor": 2
}
